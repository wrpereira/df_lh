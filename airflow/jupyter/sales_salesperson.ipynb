{
 "cells": [
  {
   "cell_type": "markdown",
   "metadata": {},
   "source": [
    "### SETUP INICIAL DO PROJETO"
   ]
  },
  {
   "cell_type": "code",
   "execution_count": 1,
   "metadata": {},
   "outputs": [],
   "source": [
    "\n",
    "#importação das bibliotecase e pacotes necessários para a análise\n",
    "\n",
    "import json\n",
    "import matplotlib.pyplot as plt\n",
    "import numpy as np\n",
    "import os\n",
    "import pandas as pd\n",
    "import pandas_gbq as gbq\n",
    "import re\n",
    "import seaborn as sns\n",
    "from dotenv import load_dotenv\n",
    "from google.cloud import bigquery\n",
    "from google.cloud.bigquery_storage import BigQueryReadClient\n",
    "from google.oauth2 import service_account\n",
    "\n",
    "\n",
    "# carregar o .env com as credenciais\n",
    "load_dotenv(\"/mnt/c/Users/wrpen/OneDrive/Desktop/df_lh/.env\")\n",
    "\n",
    "\n",
    "# detectar ambiente: como eu estou usando wsl-ubuntu, no VS Code  -  Windows, estava dando conflitos de path\n",
    "if os.name == \"nt\":  # se Windows\n",
    "    credentials_path = r\"C:\\Temp\\desafiolh-445818-3cb0f62cb9ef.json\"\n",
    "else:  # se WSL/Linux\n",
    "    credentials_path = \"/mnt/c/Temp/desafiolh-445818-3cb0f62cb9ef.json\"\n",
    "\n",
    "\n",
    "# parâmetros injetados pelo Papermill ou definidos manualmente, caso não existam no ambiente\n",
    "if 'tables_to_process' not in locals():\n",
    "    tables_to_process = [\n",
    "        \"desafioadventureworks-446600.raw_data.sales-salesperson\"       \n",
    "    ]\n",
    "\n",
    "if 'output_dataset' not in locals():\n",
    "    output_dataset = \"desafioadventureworks-446600.raw_data_cleaned\"\n",
    "\n",
    "\n",
    "# configs do cliente BigQuery: input de project e location de acordo com dados no Bigquery\n",
    "credentials = service_account.Credentials.from_service_account_file(credentials_path)\n",
    "client = bigquery.Client(credentials=credentials, project=os.getenv(\"BIGQUERY_PROJECT\"), location=\"us-central1\")\n",
    "\n",
    "\n",
    "#doc: tables_to_process: lista de tabelas que serão processadas\n",
    "#     output_dataset: nome do dataset onde os dados processados serão armazenados, neste caso, raw_data_cleaned"
   ]
  },
  {
   "cell_type": "code",
   "execution_count": 2,
   "metadata": {},
   "outputs": [
    {
     "name": "stdout",
     "output_type": "stream",
     "text": [
      "Tabelas a processar: ['desafioadventureworks-446600.raw_data.sales-salesperson']\n"
     ]
    }
   ],
   "source": [
    "# Print com a tabela que vai ser processada nesse notebook\n",
    "\n",
    "print(\"Tabelas a processar:\", tables_to_process)"
   ]
  },
  {
   "cell_type": "code",
   "execution_count": 3,
   "metadata": {},
   "outputs": [
    {
     "name": "stdout",
     "output_type": "stream",
     "text": [
      "raw_data\n",
      "Tabelas disponíveis:\n",
      "humanresources-employee\n",
      "person-address\n",
      "person-businessentity\n",
      "person-person\n",
      "person-stateprovince\n",
      "production-location\n",
      "production-product\n",
      "production-productcategory\n",
      "production-productcosthistory\n",
      "production-productinventory\n",
      "production-productsubcategory\n",
      "purchasing-purchaseorderdetail\n",
      "purchasing-purchaseorderheader\n",
      "purchasing-vendor\n",
      "sales-creditcard\n",
      "sales-customer\n",
      "sales-salesorderdetail\n",
      "sales-salesorderheader\n",
      "sales-salesperson\n",
      "sales-salesterritory\n",
      "sales-store\n"
     ]
    }
   ],
   "source": [
    "# Nome do dataset no Bigquery com os dados brutos (.csv) extraídos pelo Meltano \n",
    "dataset_id = 'raw_data'\n",
    "print(dataset_id)\n",
    "\n",
    "# Lista de tabelas do dataset raw_data no Bigquery\n",
    "tables = client.list_tables('raw_data')\n",
    "print(\"Tabelas disponíveis:\")\n",
    "for table in tables:\n",
    "    print(table.table_id)"
   ]
  },
  {
   "cell_type": "markdown",
   "metadata": {},
   "source": [
    "# Exploratory Data Analysis (EDA) e Data Cleaning"
   ]
  },
  {
   "cell_type": "markdown",
   "metadata": {},
   "source": [
    "### Glossário dos dados:\n",
    "\n",
    "O termo ''doc:'', situado no rodapé de algumas cells, indica algo como:\n",
    "\n",
    "- documentação: documentar decisões, análises e resultados;\n",
    "\n",
    "- abreviações de termos, como bkp, df, entre outros."
   ]
  },
  {
   "cell_type": "code",
   "execution_count": 4,
   "metadata": {},
   "outputs": [],
   "source": [
    "# Setup inicial do df para realizar a EDA \n",
    "\n",
    "pd.set_option('display.max_columns', None)\n",
    "#pd.set_option('display.max_rows', None)\n",
    "pd.set_option('display.max_colwidth', None)\n",
    "pd.set_option('display.width', 10000)\n",
    "pd.options.display.float_format = '{:.2f}'.format\n",
    "\n",
    "\n",
    "#doc: df = dataframe  "
   ]
  },
  {
   "cell_type": "code",
   "execution_count": 5,
   "metadata": {},
   "outputs": [
    {
     "name": "stdout",
     "output_type": "stream",
     "text": [
      "Processando tabela: desafioadventureworks-446600.raw_data.sales-salesperson\n",
      "Lendo os dados do BigQuery...\n",
      "Tabela sales_salesperson processada e armazenada com sucesso.\n",
      "Todas as tabelas foram processadas com sucesso!\n"
     ]
    }
   ],
   "source": [
    "# Dicionário para armazenar os df processados\n",
    "df_processados = {}\n",
    "\n",
    "# Iteração das tabelas e armazenamento em df\n",
    "for input_table in tables_to_process:\n",
    "    print(f\"Processando tabela: {input_table}\")\n",
    "    \n",
    "    table_name = input_table.split(\".\")[-1].replace(\"-\", \"_\")  \n",
    "    \n",
    "    print(\"Lendo os dados do BigQuery...\")\n",
    "    query = f\"SELECT * FROM `{input_table}`\"\n",
    "    table_data = client.query(query).to_dataframe()\n",
    "    \n",
    "    df_processados[table_name] = table_data\n",
    "    print(f\"Tabela {table_name} processada e armazenada com sucesso.\")\n",
    "\n",
    "\n",
    "print(\"Todas as tabelas foram processadas com sucesso!\")"
   ]
  },
  {
   "cell_type": "code",
   "execution_count": 6,
   "metadata": {},
   "outputs": [
    {
     "name": "stdout",
     "output_type": "stream",
     "text": [
      "Variável criada: sales_salesperson\n"
     ]
    }
   ],
   "source": [
    "# Listar todas as variáveis criadas dinamicamente\n",
    "for table_name in df_processados.keys():\n",
    "    print(f\"Variável criada: {table_name}\")  "
   ]
  },
  {
   "cell_type": "code",
   "execution_count": 7,
   "metadata": {},
   "outputs": [
    {
     "name": "stdout",
     "output_type": "stream",
     "text": [
      "Colunas: 9\n",
      "Linhas: 68\n"
     ]
    }
   ],
   "source": [
    "# Atribuir o df a uma variável com nome mais simples\n",
    "sales_salesperson = df_processados['sales_salesperson']\n",
    "\n",
    "print(f\"Colunas: {sales_salesperson.shape[1]}\\nLinhas: {sales_salesperson.shape[0]}\")"
   ]
  },
  {
   "cell_type": "code",
   "execution_count": 8,
   "metadata": {},
   "outputs": [
    {
     "name": "stdout",
     "output_type": "stream",
     "text": [
      "duplicadas ordenadas:\n",
      "    businessentityid  territoryid  salesquota  bonus  commissionpct   salesytd  saleslastyear                               rowguid              modifieddate\n",
      "0                274         <NA>        <NA>      0           0.00  559697.56           0.00  48754992-9ee0-4c0e-8c94-9451604e3e02 2010-12-28 00:00:00+00:00\n",
      "1                274         <NA>        <NA>      0           0.00  559697.56           0.00  48754992-9ee0-4c0e-8c94-9451604e3e02 2010-12-28 00:00:00+00:00\n",
      "2                274         <NA>        <NA>      0           0.00  559697.56           0.00  48754992-9ee0-4c0e-8c94-9451604e3e02 2010-12-28 00:00:00+00:00\n",
      "3                274         <NA>        <NA>      0           0.00  559697.56           0.00  48754992-9ee0-4c0e-8c94-9451604e3e02 2010-12-28 00:00:00+00:00\n",
      "56               275            2      300000   4100           0.01 3763178.18     1750406.48  1e0a7274-3064-4f58-88ee-4c6586c87169 2011-05-24 00:00:00+00:00\n",
      "..               ...          ...         ...    ...            ...        ...            ...                                   ...                       ...\n",
      "51               289           10      250000   5150           0.02 4116871.23     1635823.40  25f6838d-9db4-4833-9ddc-7a24283af1ba 2012-05-23 00:00:00+00:00\n",
      "52               290            7      250000    985           0.02 3121616.32     2396539.76  f509e3d4-76c8-42aa-b353-90b7b8db08de 2012-05-23 00:00:00+00:00\n",
      "53               290            7      250000    985           0.02 3121616.32     2396539.76  f509e3d4-76c8-42aa-b353-90b7b8db08de 2012-05-23 00:00:00+00:00\n",
      "54               290            7      250000    985           0.02 3121616.32     2396539.76  f509e3d4-76c8-42aa-b353-90b7b8db08de 2012-05-23 00:00:00+00:00\n",
      "55               290            7      250000    985           0.02 3121616.32     2396539.76  f509e3d4-76c8-42aa-b353-90b7b8db08de 2012-05-23 00:00:00+00:00\n",
      "\n",
      "[68 rows x 9 columns]\n"
     ]
    }
   ],
   "source": [
    "# Identificar duplicadas\n",
    "duplicadas = sales_salesperson[sales_salesperson.duplicated(subset=['businessentityid'], keep=False)]\n",
    "\n",
    "# Verificar se existem duplicadas\n",
    "if not duplicadas.empty:\n",
    "    \n",
    "    duplicadas_ordenadas = duplicadas.sort_values(by=['businessentityid', 'modifieddate'])\n",
    "\n",
    "    print(\"duplicadas ordenadas:\")\n",
    "    print(duplicadas_ordenadas)\n",
    "else:\n",
    "    print(\"Não foram encontradas duplicadas.\")"
   ]
  },
  {
   "cell_type": "code",
   "execution_count": 9,
   "metadata": {},
   "outputs": [
    {
     "name": "stdout",
     "output_type": "stream",
     "text": [
      "Linhas após remover duplicadas (baseando-se na última 'modifieddate'): 17\n"
     ]
    }
   ],
   "source": [
    "# Remover duplicadas* \n",
    "sales_salesperson = sales_salesperson.drop_duplicates(subset=['businessentityid'], keep='last')\n",
    "\n",
    "print(f\"Linhas após remover duplicadas (baseando-se na última 'modifieddate'): {len(sales_salesperson)}\")\n",
    "\n",
    "#bkp dos dados brutos\n",
    "raw_data_bkp_2_sem_duplicadas = sales_salesperson.copy()\n",
    "\n",
    "\n",
    "#doc: bkp = backup (cópia)\n",
    "#doc*: mantendo a última ocorrência com base em 'modifieddate', pois ela que indica a data da última modificação nos dados\n",
    "#      Importante, pois se houver erro na ingestão (duplicação), mantém os dados íntegros."
   ]
  },
  {
   "cell_type": "code",
   "execution_count": 10,
   "metadata": {},
   "outputs": [
    {
     "name": "stdout",
     "output_type": "stream",
     "text": [
      "    businessentityid  territoryid  salesquota  bonus  commissionpct   salesytd  saleslastyear                               rowguid              modifieddate\n",
      "3                274         <NA>        <NA>      0           0.00  559697.56           0.00  48754992-9ee0-4c0e-8c94-9451604e3e02 2010-12-28 00:00:00+00:00\n",
      "59               275            2      300000   4100           0.01 3763178.18     1750406.48  1e0a7274-3064-4f58-88ee-4c6586c87169 2011-05-24 00:00:00+00:00\n",
      "15               276            4      250000   2000           0.01 4251368.55     1439156.03  4dd9eee4-8e81-4f8c-af97-683394c1f7c0 2011-05-24 00:00:00+00:00\n",
      "19               277            3      250000   2500           0.01 3189418.37     1997186.20  39012928-bfec-4242-874d-423162c3f567 2011-05-24 00:00:00+00:00\n",
      "23               278            6      250000    500           0.01 1453719.47     1620276.90  7a0ae1ab-b283-40f9-91d1-167abf06d720 2011-05-24 00:00:00+00:00\n",
      "63               279            5      300000   6700           0.01 2315185.61     1849640.94  52a5179d-3239-4157-ae29-17e868296dc0 2011-05-24 00:00:00+00:00\n",
      "27               280            1      250000   5000           0.01 1352577.13     1927059.18  be941a4a-fb50-4947-bda4-bb8972365b08 2011-05-24 00:00:00+00:00\n",
      "31               281            4      250000   3550           0.01 2458535.62     2073506.00  35326ddb-7278-4fef-b3ba-ea137b69094e 2011-05-24 00:00:00+00:00\n",
      "35               282            6      250000   5000           0.01 2604540.72     2038234.65  31fd7fc1-dc84-4f05-b9a0-762519eacacc 2011-05-24 00:00:00+00:00\n",
      "39               283            1      250000   3500           0.01 1573012.94     1371635.32  6bac15b2-8ffb-45a9-b6d5-040e16c2073f 2011-05-24 00:00:00+00:00\n",
      "67               284            1      300000   3900           0.02 1576562.20           0.00  ac94ec04-a2dc-43e3-8654-dd0c546abc17 2012-09-23 00:00:00+00:00\n",
      "7                285         <NA>        <NA>      0           0.00  172524.45           0.00  cfdbef27-b1f7-4a56-a878-0221c73bae67 2013-03-07 00:00:00+00:00\n",
      "43               286            9      250000   5650           0.02 1421810.92     2278548.98  9b968777-75dc-45bd-a8df-9cdaa72839e1 2013-05-23 00:00:00+00:00\n",
      "11               287         <NA>        <NA>      0           0.00  519905.93           0.00  1dd1f689-df74-4149-8600-59555eef154b 2012-04-09 00:00:00+00:00\n",
      "47               288            8      250000     75           0.02 1827066.71     1307949.79  224bb25a-62e3-493e-acaf-4f8f5c72396a 2013-05-23 00:00:00+00:00\n",
      "51               289           10      250000   5150           0.02 4116871.23     1635823.40  25f6838d-9db4-4833-9ddc-7a24283af1ba 2012-05-23 00:00:00+00:00\n",
      "55               290            7      250000    985           0.02 3121616.32     2396539.76  f509e3d4-76c8-42aa-b353-90b7b8db08de 2012-05-23 00:00:00+00:00\n"
     ]
    }
   ],
   "source": [
    "# Ordenar e exibir o df por 'businessentityid'\n",
    "sales_salesperson = sales_salesperson.sort_values(by=['businessentityid'])\n",
    "\n",
    "print(sales_salesperson)"
   ]
  },
  {
   "cell_type": "code",
   "execution_count": 11,
   "metadata": {},
   "outputs": [
    {
     "name": "stdout",
     "output_type": "stream",
     "text": [
      "Coluna 'businessentityid': 0 linhas ausentes.\n",
      "Nenhuma linha com valores ausentes em 'businessentityid'.\n",
      "\n",
      "Coluna 'territoryid': 3 linhas ausentes.\n",
      "Exibindo as primeiras linhas com valores ausentes em 'territoryid':\n",
      "    businessentityid  territoryid  salesquota  bonus  commissionpct  salesytd  saleslastyear                               rowguid              modifieddate\n",
      "3                274         <NA>        <NA>      0           0.00 559697.56           0.00  48754992-9ee0-4c0e-8c94-9451604e3e02 2010-12-28 00:00:00+00:00\n",
      "7                285         <NA>        <NA>      0           0.00 172524.45           0.00  cfdbef27-b1f7-4a56-a878-0221c73bae67 2013-03-07 00:00:00+00:00\n",
      "11               287         <NA>        <NA>      0           0.00 519905.93           0.00  1dd1f689-df74-4149-8600-59555eef154b 2012-04-09 00:00:00+00:00 \n",
      "\n",
      "Coluna 'salesquota': 3 linhas ausentes.\n",
      "Exibindo as primeiras linhas com valores ausentes em 'salesquota':\n",
      "    businessentityid  territoryid  salesquota  bonus  commissionpct  salesytd  saleslastyear                               rowguid              modifieddate\n",
      "3                274         <NA>        <NA>      0           0.00 559697.56           0.00  48754992-9ee0-4c0e-8c94-9451604e3e02 2010-12-28 00:00:00+00:00\n",
      "7                285         <NA>        <NA>      0           0.00 172524.45           0.00  cfdbef27-b1f7-4a56-a878-0221c73bae67 2013-03-07 00:00:00+00:00\n",
      "11               287         <NA>        <NA>      0           0.00 519905.93           0.00  1dd1f689-df74-4149-8600-59555eef154b 2012-04-09 00:00:00+00:00 \n",
      "\n",
      "Coluna 'bonus': 0 linhas ausentes.\n",
      "Nenhuma linha com valores ausentes em 'bonus'.\n",
      "\n",
      "Coluna 'commissionpct': 0 linhas ausentes.\n",
      "Nenhuma linha com valores ausentes em 'commissionpct'.\n",
      "\n",
      "Coluna 'salesytd': 0 linhas ausentes.\n",
      "Nenhuma linha com valores ausentes em 'salesytd'.\n",
      "\n",
      "Coluna 'saleslastyear': 0 linhas ausentes.\n",
      "Nenhuma linha com valores ausentes em 'saleslastyear'.\n",
      "\n",
      "Coluna 'rowguid': 0 linhas ausentes.\n",
      "Nenhuma linha com valores ausentes em 'rowguid'.\n",
      "\n",
      "Coluna 'modifieddate': 0 linhas ausentes.\n",
      "Nenhuma linha com valores ausentes em 'modifieddate'.\n",
      "\n"
     ]
    }
   ],
   "source": [
    "# Iterar por todas as colunas do df, para verificar valores ausentes\n",
    "\n",
    "# Verificar valores ausentes na coluna\n",
    "for column in sales_salesperson.columns:   \n",
    "    missing_rows = sales_salesperson[sales_salesperson[column].isnull()]\n",
    "    print(f\"Coluna '{column}': {missing_rows.shape[0]} linhas ausentes.\")\n",
    "    \n",
    "# Mostrar as primeiras linhas ausentes, se preciso for, limitar o head() para dar menos outputs ou limitar os outputs\n",
    "    if not missing_rows.empty:\n",
    "        print(f\"Exibindo as primeiras linhas com valores ausentes em '{column}':\")\n",
    "        print(missing_rows.head(), \"\\n\")\n",
    "    else:\n",
    "        print(f\"Nenhuma linha com valores ausentes em '{column}'.\\n\")"
   ]
  },
  {
   "cell_type": "code",
   "execution_count": 12,
   "metadata": {},
   "outputs": [
    {
     "name": "stdout",
     "output_type": "stream",
     "text": [
      "    businessentityid  territoryid  salesquota  bonus  commissionpct   salesytd  saleslastyear                               rowguid              modifieddate\n",
      "3                274            0           0      0           0.00  559697.56           0.00  48754992-9ee0-4c0e-8c94-9451604e3e02 2010-12-28 00:00:00+00:00\n",
      "59               275            2      300000   4100           0.01 3763178.18     1750406.48  1e0a7274-3064-4f58-88ee-4c6586c87169 2011-05-24 00:00:00+00:00\n",
      "15               276            4      250000   2000           0.01 4251368.55     1439156.03  4dd9eee4-8e81-4f8c-af97-683394c1f7c0 2011-05-24 00:00:00+00:00\n",
      "19               277            3      250000   2500           0.01 3189418.37     1997186.20  39012928-bfec-4242-874d-423162c3f567 2011-05-24 00:00:00+00:00\n",
      "23               278            6      250000    500           0.01 1453719.47     1620276.90  7a0ae1ab-b283-40f9-91d1-167abf06d720 2011-05-24 00:00:00+00:00\n",
      "63               279            5      300000   6700           0.01 2315185.61     1849640.94  52a5179d-3239-4157-ae29-17e868296dc0 2011-05-24 00:00:00+00:00\n",
      "27               280            1      250000   5000           0.01 1352577.13     1927059.18  be941a4a-fb50-4947-bda4-bb8972365b08 2011-05-24 00:00:00+00:00\n",
      "31               281            4      250000   3550           0.01 2458535.62     2073506.00  35326ddb-7278-4fef-b3ba-ea137b69094e 2011-05-24 00:00:00+00:00\n",
      "35               282            6      250000   5000           0.01 2604540.72     2038234.65  31fd7fc1-dc84-4f05-b9a0-762519eacacc 2011-05-24 00:00:00+00:00\n",
      "39               283            1      250000   3500           0.01 1573012.94     1371635.32  6bac15b2-8ffb-45a9-b6d5-040e16c2073f 2011-05-24 00:00:00+00:00\n",
      "67               284            1      300000   3900           0.02 1576562.20           0.00  ac94ec04-a2dc-43e3-8654-dd0c546abc17 2012-09-23 00:00:00+00:00\n",
      "7                285            0           0      0           0.00  172524.45           0.00  cfdbef27-b1f7-4a56-a878-0221c73bae67 2013-03-07 00:00:00+00:00\n",
      "43               286            9      250000   5650           0.02 1421810.92     2278548.98  9b968777-75dc-45bd-a8df-9cdaa72839e1 2013-05-23 00:00:00+00:00\n",
      "11               287            0           0      0           0.00  519905.93           0.00  1dd1f689-df74-4149-8600-59555eef154b 2012-04-09 00:00:00+00:00\n",
      "47               288            8      250000     75           0.02 1827066.71     1307949.79  224bb25a-62e3-493e-acaf-4f8f5c72396a 2013-05-23 00:00:00+00:00\n",
      "51               289           10      250000   5150           0.02 4116871.23     1635823.40  25f6838d-9db4-4833-9ddc-7a24283af1ba 2012-05-23 00:00:00+00:00\n",
      "55               290            7      250000    985           0.02 3121616.32     2396539.76  f509e3d4-76c8-42aa-b353-90b7b8db08de 2012-05-23 00:00:00+00:00\n"
     ]
    }
   ],
   "source": [
    "# Substituir valores NA na colunas por 0\n",
    "sales_salesperson['territoryid'] = sales_salesperson['territoryid'].fillna(0)\n",
    "sales_salesperson['salesquota'] = sales_salesperson['salesquota'].fillna(0)\n",
    "\n",
    "print(sales_salesperson)\n",
    "\n",
    "\n",
    "#doc*: para fins de análise, optei em não apagar os registros, já que são poucos e importantes registros. (dados)"
   ]
  },
  {
   "cell_type": "code",
   "execution_count": 13,
   "metadata": {},
   "outputs": [
    {
     "name": "stdout",
     "output_type": "stream",
     "text": [
      "<class 'pandas.core.frame.DataFrame'>\n",
      "Index: 17 entries, 3 to 55\n",
      "Data columns (total 9 columns):\n",
      " #   Column            Non-Null Count  Dtype              \n",
      "---  ------            --------------  -----              \n",
      " 0   businessentityid  17 non-null     Int64              \n",
      " 1   territoryid       17 non-null     Int64              \n",
      " 2   salesquota        17 non-null     Int64              \n",
      " 3   bonus             17 non-null     Int64              \n",
      " 4   commissionpct     17 non-null     float64            \n",
      " 5   salesytd          17 non-null     float64            \n",
      " 6   saleslastyear     17 non-null     float64            \n",
      " 7   rowguid           17 non-null     object             \n",
      " 8   modifieddate      17 non-null     datetime64[us, UTC]\n",
      "dtypes: Int64(4), datetime64[us, UTC](1), float64(3), object(1)\n",
      "memory usage: 1.4+ KB\n"
     ]
    }
   ],
   "source": [
    "#verificar informações do df\n",
    "sales_salesperson.info()"
   ]
  },
  {
   "cell_type": "code",
   "execution_count": 14,
   "metadata": {},
   "outputs": [
    {
     "name": "stdout",
     "output_type": "stream",
     "text": [
      "       salesquota   bonus  commissionpct   salesytd  saleslastyear\n",
      "count       17.00   17.00          17.00      17.00          17.00\n",
      "mean    214705.88 2859.41           0.01 2133975.99     1393291.98\n",
      "std     104230.37 2273.31           0.01 1243721.37      849244.47\n",
      "min          0.00    0.00           0.00  172524.45           0.00\n",
      "25%     250000.00  500.00           0.01 1421810.92     1307949.79\n",
      "50%     250000.00 3500.00           0.01 1827066.71     1635823.40\n",
      "75%     250000.00 5000.00           0.02 3121616.32     1997186.20\n",
      "max     300000.00 6700.00           0.02 4251368.55     2396539.76\n",
      "\n",
      "Coluna: salesquota\n",
      "Limite inferior: 250000.0, Limite superior: 250000.0\n",
      "Outliers detectados (6):\n",
      "    salesquota\n",
      "3            0\n",
      "59      300000\n",
      "63      300000\n",
      "67      300000\n",
      "7            0\n",
      "11           0\n",
      "\n",
      "Coluna: bonus\n",
      "Limite inferior: -6250.0, Limite superior: 11750.0\n",
      "Outliers detectados (0):\n",
      "Empty DataFrame\n",
      "Columns: [bonus]\n",
      "Index: []\n",
      "\n",
      "Coluna: commissionpct\n",
      "Limite inferior: 0.0009999999999999992, Limite superior: 0.025\n",
      "Outliers detectados (3):\n",
      "    commissionpct\n",
      "3            0.00\n",
      "7            0.00\n",
      "11           0.00\n",
      "\n",
      "Coluna: salesytd\n",
      "Limite inferior: -1127897.1698, Limite superior: 5671324.4142\n",
      "Outliers detectados (0):\n",
      "Empty DataFrame\n",
      "Columns: [salesytd]\n",
      "Index: []\n",
      "\n",
      "Coluna: saleslastyear\n",
      "Limite inferior: 274095.1736999999, Limite superior: 3031040.8217\n",
      "Outliers detectados (4):\n",
      "    saleslastyear\n",
      "3            0.00\n",
      "67           0.00\n",
      "7            0.00\n",
      "11           0.00\n"
     ]
    }
   ],
   "source": [
    "# Variáveis quantitativas*: estatísticas descritivas para verificar se ainda há o que ser feito antes de exportar os dados ao BigQuery\n",
    "\n",
    "# Identificar colunas numéricas para análise de outliers\n",
    "numeric_columns = ['salesquota', 'bonus','commissionpct','salesytd','saleslastyear']\n",
    "\n",
    "# Estatísticas Descritivas das colunas numéricas*\n",
    "print(sales_salesperson[numeric_columns].describe())\n",
    "\n",
    "# Cálculo de limites para outliers (IQR)**\n",
    "for col in numeric_columns:\n",
    "    q1 = sales_salesperson[col].quantile(0.25)\n",
    "    q3 = sales_salesperson[col].quantile(0.75)\n",
    "    iqr = q3 - q1\n",
    "    lower_bound = q1 - 1.5 * iqr\n",
    "    upper_bound = q3 + 1.5 * iqr\n",
    "    \n",
    "    # Exibir os limites\n",
    "    print(f\"\\nColuna: {col}\")\n",
    "    print(f\"Limite inferior: {lower_bound}, Limite superior: {upper_bound}\")\n",
    "    \n",
    "    # Detecção e Análise de Outliers***\n",
    "    outliers = sales_salesperson[(sales_salesperson[col] < lower_bound) | (sales_salesperson[col] > upper_bound)]\n",
    "    print(f\"Outliers detectados ({len(outliers)}):\")\n",
    "    print(outliers[[col]])\n",
    "\n",
    "\n",
    "#doc*: variáveis quantitativas são um tipo de dado que pode ser representado por números e medidas objetivas\n",
    "#doc*: realizar estatísticas descritivas para entender a centralidade e variação dos dados (valores médios, mínimos, máximos, etc.)\n",
    "#doc**: calcular limites para identificar outliers (valores extremos que podem indicar erros ou casos excepcionais nos dados)\n",
    "#doc***: verificar a existência de outliers para decidir ações como remoção, substituição ou tratamento, garantindo qualidade dos dados\n",
    "\n",
    "#doc****: # Análise dos Resultados:\n",
    "\n",
    "# Coluna: \n",
    "#       a maioria dos registros possui salesquota em 250.000, que é o valor esperado padrão.\n",
    "#       os outliers encontrados são valores 0 (provavelmente representam vendedores sem cota definida) e valores 300.000 (que podem indicar cotas elevadas atribuídas a alguns vendedores).\n",
    "#       coluna: commissionpct : os outliers detectados são valores iguais a 0, indicando que alguns vendedores não recebem comissão, o que pode ser normal.\n",
    "#       coluna: saleslastyear: os outliers encontrados são valores 0, indicando que alguns vendedores não tiveram vendas no ano anterior, o que pode ser normal."
   ]
  },
  {
   "cell_type": "code",
   "execution_count": 15,
   "metadata": {},
   "outputs": [],
   "source": [
    "# Atualizar o dicionário df_processados com o df ajustado\n",
    "df_processados['sales_salesperson'] = sales_salesperson"
   ]
  },
  {
   "cell_type": "code",
   "execution_count": 16,
   "metadata": {},
   "outputs": [
    {
     "data": {
      "text/html": [
       "<div>\n",
       "<style scoped>\n",
       "    .dataframe tbody tr th:only-of-type {\n",
       "        vertical-align: middle;\n",
       "    }\n",
       "\n",
       "    .dataframe tbody tr th {\n",
       "        vertical-align: top;\n",
       "    }\n",
       "\n",
       "    .dataframe thead th {\n",
       "        text-align: right;\n",
       "    }\n",
       "</style>\n",
       "<table border=\"1\" class=\"dataframe\">\n",
       "  <thead>\n",
       "    <tr style=\"text-align: right;\">\n",
       "      <th></th>\n",
       "      <th>businessentityid</th>\n",
       "      <th>territoryid</th>\n",
       "      <th>salesquota</th>\n",
       "      <th>bonus</th>\n",
       "      <th>commissionpct</th>\n",
       "      <th>salesytd</th>\n",
       "      <th>saleslastyear</th>\n",
       "      <th>rowguid</th>\n",
       "      <th>modifieddate</th>\n",
       "    </tr>\n",
       "  </thead>\n",
       "  <tbody>\n",
       "    <tr>\n",
       "      <th>3</th>\n",
       "      <td>274</td>\n",
       "      <td>0</td>\n",
       "      <td>0</td>\n",
       "      <td>0</td>\n",
       "      <td>0.00</td>\n",
       "      <td>559697.56</td>\n",
       "      <td>0.00</td>\n",
       "      <td>48754992-9ee0-4c0e-8c94-9451604e3e02</td>\n",
       "      <td>2010-12-28 00:00:00+00:00</td>\n",
       "    </tr>\n",
       "    <tr>\n",
       "      <th>59</th>\n",
       "      <td>275</td>\n",
       "      <td>2</td>\n",
       "      <td>300000</td>\n",
       "      <td>4100</td>\n",
       "      <td>0.01</td>\n",
       "      <td>3763178.18</td>\n",
       "      <td>1750406.48</td>\n",
       "      <td>1e0a7274-3064-4f58-88ee-4c6586c87169</td>\n",
       "      <td>2011-05-24 00:00:00+00:00</td>\n",
       "    </tr>\n",
       "    <tr>\n",
       "      <th>15</th>\n",
       "      <td>276</td>\n",
       "      <td>4</td>\n",
       "      <td>250000</td>\n",
       "      <td>2000</td>\n",
       "      <td>0.01</td>\n",
       "      <td>4251368.55</td>\n",
       "      <td>1439156.03</td>\n",
       "      <td>4dd9eee4-8e81-4f8c-af97-683394c1f7c0</td>\n",
       "      <td>2011-05-24 00:00:00+00:00</td>\n",
       "    </tr>\n",
       "    <tr>\n",
       "      <th>19</th>\n",
       "      <td>277</td>\n",
       "      <td>3</td>\n",
       "      <td>250000</td>\n",
       "      <td>2500</td>\n",
       "      <td>0.01</td>\n",
       "      <td>3189418.37</td>\n",
       "      <td>1997186.20</td>\n",
       "      <td>39012928-bfec-4242-874d-423162c3f567</td>\n",
       "      <td>2011-05-24 00:00:00+00:00</td>\n",
       "    </tr>\n",
       "    <tr>\n",
       "      <th>23</th>\n",
       "      <td>278</td>\n",
       "      <td>6</td>\n",
       "      <td>250000</td>\n",
       "      <td>500</td>\n",
       "      <td>0.01</td>\n",
       "      <td>1453719.47</td>\n",
       "      <td>1620276.90</td>\n",
       "      <td>7a0ae1ab-b283-40f9-91d1-167abf06d720</td>\n",
       "      <td>2011-05-24 00:00:00+00:00</td>\n",
       "    </tr>\n",
       "  </tbody>\n",
       "</table>\n",
       "</div>"
      ],
      "text/plain": [
       "    businessentityid  territoryid  salesquota  bonus  commissionpct   salesytd  saleslastyear                               rowguid              modifieddate\n",
       "3                274            0           0      0           0.00  559697.56           0.00  48754992-9ee0-4c0e-8c94-9451604e3e02 2010-12-28 00:00:00+00:00\n",
       "59               275            2      300000   4100           0.01 3763178.18     1750406.48  1e0a7274-3064-4f58-88ee-4c6586c87169 2011-05-24 00:00:00+00:00\n",
       "15               276            4      250000   2000           0.01 4251368.55     1439156.03  4dd9eee4-8e81-4f8c-af97-683394c1f7c0 2011-05-24 00:00:00+00:00\n",
       "19               277            3      250000   2500           0.01 3189418.37     1997186.20  39012928-bfec-4242-874d-423162c3f567 2011-05-24 00:00:00+00:00\n",
       "23               278            6      250000    500           0.01 1453719.47     1620276.90  7a0ae1ab-b283-40f9-91d1-167abf06d720 2011-05-24 00:00:00+00:00"
      ]
     },
     "execution_count": 16,
     "metadata": {},
     "output_type": "execute_result"
    }
   ],
   "source": [
    "sales_salesperson.head()"
   ]
  },
  {
   "cell_type": "code",
   "execution_count": 17,
   "metadata": {},
   "outputs": [
    {
     "name": "stdout",
     "output_type": "stream",
     "text": [
      "    businessentityid  territoryid  salesquota  bonus  commissionpct   salesytd  saleslastyear                               rowguid              modifieddate\n",
      "3                274            0           0      0           0.00  559697.56           0.00  48754992-9EE0-4C0E-8C94-9451604E3E02 2010-12-28 00:00:00+00:00\n",
      "59               275            2      300000   4100           0.01 3763178.18     1750406.48  1E0A7274-3064-4F58-88EE-4C6586C87169 2011-05-24 00:00:00+00:00\n",
      "15               276            4      250000   2000           0.01 4251368.55     1439156.03  4DD9EEE4-8E81-4F8C-AF97-683394C1F7C0 2011-05-24 00:00:00+00:00\n",
      "19               277            3      250000   2500           0.01 3189418.37     1997186.20  39012928-BFEC-4242-874D-423162C3F567 2011-05-24 00:00:00+00:00\n",
      "23               278            6      250000    500           0.01 1453719.47     1620276.90  7A0AE1AB-B283-40F9-91D1-167ABF06D720 2011-05-24 00:00:00+00:00\n"
     ]
    }
   ],
   "source": [
    "# Padronizar colunas com valores textuais\n",
    "\n",
    "sales_salesperson['rowguid'] = sales_salesperson['rowguid'].str.strip().str.upper()\n",
    "\n",
    "print(sales_salesperson.head())\n",
    "\n",
    "#doc: padronizar as strings nessa etapa, contribui para a execução das demais etapas do pipeline"
   ]
  },
  {
   "cell_type": "code",
   "execution_count": 18,
   "metadata": {},
   "outputs": [
    {
     "name": "stdout",
     "output_type": "stream",
     "text": [
      "Tabela sales_salesperson exportada com sucesso para desafioadventureworks-446600.raw_data_cleaned.sales_salesperson.\n"
     ]
    }
   ],
   "source": [
    "# Garantir que apenas tabelas únicas sejam exportadas\n",
    "unique_df_processados = {k: v for k, v in df_processados.items()}\n",
    "\n",
    "# Exportar tabelas para o BigQuery\n",
    "for table_name, df_cleaned in unique_df_processados.items():\n",
    " \n",
    "    output_table = f\"{output_dataset}.{table_name}\"\n",
    "   \n",
    "    job_config = bigquery.LoadJobConfig(\n",
    "        write_disposition=\"WRITE_TRUNCATE\"  \n",
    "    )\n",
    "    \n",
    "    job = client.load_table_from_dataframe(df_cleaned, output_table, job_config=job_config)\n",
    "    job.result()\n",
    "\n",
    "    print(f\"Tabela {table_name} exportada com sucesso para {output_table}.\")"
   ]
  },
  {
   "cell_type": "markdown",
   "metadata": {},
   "source": []
  }
 ],
 "metadata": {
  "kernelspec": {
   "display_name": "venv",
   "language": "python",
   "name": "python3"
  },
  "language_info": {
   "codemirror_mode": {
    "name": "ipython",
    "version": 3
   },
   "file_extension": ".py",
   "mimetype": "text/x-python",
   "name": "python",
   "nbconvert_exporter": "python",
   "pygments_lexer": "ipython3",
   "version": "3.10.9"
  }
 },
 "nbformat": 4,
 "nbformat_minor": 2
}
