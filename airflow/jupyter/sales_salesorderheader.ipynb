{
 "cells": [
  {
   "cell_type": "markdown",
   "metadata": {},
   "source": [
    "### SETUP INICIAL DO PROJETO"
   ]
  },
  {
   "cell_type": "code",
   "execution_count": null,
   "metadata": {},
   "outputs": [],
   "source": [
    "\n",
    "#importação das bibliotecase e pacotes necessários para a análise\n",
    "\n",
    "import json\n",
    "import numpy as np\n",
    "import os\n",
    "import pandas as pd\n",
    "import pandas_gbq as gbq\n",
    "import re\n",
    "import seaborn as sns\n",
    "import matplotlib.pyplot as plt\n",
    "from dotenv import load_dotenv\n",
    "from google.cloud import bigquery\n",
    "from google.cloud.bigquery_storage import BigQueryReadClient\n",
    "from google.oauth2 import service_account\n",
    "\n",
    "# Carrega o .env: onde estão as credenciais do projeto/repositório\n",
    "load_dotenv(\"/mnt/c/Users/wrpen/OneDrive/Desktop/df_lh/.env\")\n",
    "\n",
    "# Detectar ambiente: como eu estou usando wsl-ubuntu, no VS Code  -  Windows, estava dando conflitos de path\n",
    "if os.name == \"nt\":  # se Windows\n",
    "    credentials_path = r\"C:\\Temp\\desafiolh-445818-3cb0f62cb9ef.json\"\n",
    "else:  # se WSL/Linux\n",
    "    credentials_path = \"/mnt/c/Temp/desafiolh-445818-3cb0f62cb9ef.json\"\n",
    "\n",
    "# Parâmetros injetados pelo Papermill ou definidos manualmente, caso não existam no ambiente\n",
    "# Tables_to_process: lista de tabelas que serão processadas\n",
    "# Output_dataset: nome do dataset onde os dados processados serão armazenados, neste caso, raw_data_cleaned\n",
    "if 'tables_to_process' not in locals():\n",
    "    tables_to_process = [\n",
    "        \"desafioadventureworks-446600.raw_data.sales-salesorderheader\"       \n",
    "    ]\n",
    "\n",
    "if 'output_dataset' not in locals():\n",
    "    output_dataset = \"desafioadventureworks-446600.raw_data_cleaned\"\n",
    "\n",
    "# Configs do cliente BigQuery: input de project e location de acordo com dados no Bigquery\n",
    "credentials = service_account.Credentials.from_service_account_file(credentials_path)\n",
    "client = bigquery.Client(credentials=credentials, project=os.getenv(\"BIGQUERY_PROJECT\"), location=\"us-central1\")\n"
   ]
  },
  {
   "cell_type": "code",
   "execution_count": null,
   "metadata": {},
   "outputs": [],
   "source": [
    "# Print com a tabela que vai ser processada nesse notebook\n",
    "\n",
    "print(\"Tabelas a processar:\", tables_to_process)"
   ]
  },
  {
   "cell_type": "code",
   "execution_count": null,
   "metadata": {},
   "outputs": [],
   "source": [
    "# Nome do dataset no Bigquery com os dados brutos (.csv) extraídos pelo Meltano \n",
    "dataset_id = 'raw_data'\n",
    "print(dataset_id)\n",
    "\n",
    "# Lista de tabelas do dataset raw_data no Bigquery\n",
    "tables = client.list_tables('raw_data')\n",
    "print(\"Tabelas disponíveis:\")\n",
    "for table in tables:\n",
    "    print(table.table_id)"
   ]
  },
  {
   "cell_type": "markdown",
   "metadata": {},
   "source": [
    "# Exploratory Data Analysis (EDA) e Data Cleaning"
   ]
  },
  {
   "cell_type": "markdown",
   "metadata": {},
   "source": [
    "### Glossário dos dados:\n",
    "\n",
    "O termo ''doc:'', situado no rodapé de algumas cells, indica algo como:\n",
    "\n",
    "- documentação: documentar decisões, análises e resultados;\n",
    "\n",
    "- abreviações de termos, como bkp, df, entre outros."
   ]
  },
  {
   "cell_type": "code",
   "execution_count": null,
   "metadata": {},
   "outputs": [],
   "source": [
    "# Configuração para que o df exiba todas as colunas e todas as linhas completas, e também, exiba o formato numérico com 2 dígitos após a vírgula\n",
    "\n",
    "pd.set_option('display.max_columns', None)\n",
    "#pd.set_option('display.max_rows', None)\n",
    "pd.set_option('display.max_colwidth', None)\n",
    "pd.set_option('display.width', 10000)\n",
    "pd.options.display.float_format = '{:.2f}'.format\n",
    "\n",
    "\n",
    "#doc: df = dataframe  "
   ]
  },
  {
   "cell_type": "code",
   "execution_count": null,
   "metadata": {},
   "outputs": [],
   "source": [
    "# Dicionário para armazenar os df processados\n",
    "df_processados = {}\n",
    "\n",
    "# Iteração das tabelas e armazenamento em df\n",
    "for input_table in tables_to_process:\n",
    "    print(f\"Processando tabela: {input_table}\")\n",
    "    \n",
    "    # Nome da tabela com substituição de '-' por '_'\n",
    "    table_name = input_table.split(\".\")[-1].replace(\"-\", \"_\")  \n",
    "    \n",
    "    # Ler os dados da tabela do BigQuery para um df\n",
    "    print(\"Lendo os dados do BigQuery...\")\n",
    "    query = f\"SELECT * FROM `{input_table}`\"\n",
    "    table_data = client.query(query).to_dataframe()\n",
    "    \n",
    "    # Armazenar o df no dicionário\n",
    "    df_processados[table_name] = table_data\n",
    "    print(f\"Tabela {table_name} processada e armazenada com sucesso.\")\n",
    "\n",
    "# Print de validação\n",
    "print(\"Todas as tabelas foram processadas com sucesso!\")\n"
   ]
  },
  {
   "cell_type": "code",
   "execution_count": null,
   "metadata": {},
   "outputs": [],
   "source": [
    "# Listar todas as variáveis criadas dinamicamente\n",
    "for table_name in df_processados.keys():\n",
    "    print(f\"Variável criada: {table_name}\")  "
   ]
  },
  {
   "cell_type": "code",
   "execution_count": null,
   "metadata": {},
   "outputs": [],
   "source": [
    "# Atribuir o df a uma variável com nome mais simples\n",
    "sales_salesorderheader = df_processados['sales_salesorderheader']\n",
    "\n",
    "print(f\"Colunas: {sales_salesorderheader.shape[1]}\\nLinhas: {sales_salesorderheader.shape[0]}\")"
   ]
  },
  {
   "cell_type": "code",
   "execution_count": null,
   "metadata": {},
   "outputs": [],
   "source": [
    "# Identificar duplicadas com base em 'salesorderid'\n",
    "duplicadas = sales_salesorderheader[\n",
    "    sales_salesorderheader.duplicated(subset=['salesorderid'], keep=False)\n",
    "]\n",
    "\n",
    "# Verificar se existem duplicadas\n",
    "if not duplicadas.empty:\n",
    "    # Ordenar duplicadas por 'salesorderid' e 'modifieddate'\n",
    "    duplicadas_ordenadas = duplicadas.sort_values(by=['salesorderid', 'modifieddate'])\n",
    "\n",
    "    # Exibir duplicadas ordenadas\n",
    "    print(\"duplicadas ordenadas:\")\n",
    "    print(duplicadas_ordenadas)\n",
    "else:\n",
    "    print(\"Não foram encontradas duplicadas.\")"
   ]
  },
  {
   "cell_type": "code",
   "execution_count": null,
   "metadata": {},
   "outputs": [],
   "source": [
    "# Remover duplicadas mantendo a última ocorrência com base em 'modifieddate', pois ela que indica a data da última modificação nos dados\n",
    "# Importante, pois se houver erro na ingestão (duplicação), mantém os dados integros.\n",
    "\n",
    "sales_salesorderheader = sales_salesorderheader.drop_duplicates(subset=['salesorderid'], keep='last')\n",
    "\n",
    "print(f\"Linhas após remover duplicadas (baseando-se na última 'modifieddate'): {len(sales_salesorderheader)}\")\n",
    "\n",
    "#bkp dos dados brutos\n",
    "raw_data_bkp_2_sem_duplicadas = sales_salesorderheader.copy()\n",
    "\n",
    "\n",
    "#doc: bkp = backup (cópia)"
   ]
  },
  {
   "cell_type": "code",
   "execution_count": null,
   "metadata": {},
   "outputs": [],
   "source": [
    "# Ordenar e exibir o df por 'salesorderid'\n",
    "sales_salesorderheader = sales_salesorderheader.sort_values(by=['salesorderid'])\n",
    "\n",
    "print(sales_salesorderheader)"
   ]
  },
  {
   "cell_type": "code",
   "execution_count": null,
   "metadata": {},
   "outputs": [],
   "source": [
    "sales_salesorderheader.info()"
   ]
  },
  {
   "cell_type": "code",
   "execution_count": null,
   "metadata": {},
   "outputs": [],
   "source": [
    "# Iterar por todas as colunas do df, para verificar valores ausentes\n",
    "\n",
    "# Verificar valores ausentes na coluna\n",
    "for column in sales_salesorderheader.columns:   \n",
    "    missing_rows = sales_salesorderheader[sales_salesorderheader[column].isnull()]\n",
    "    print(f\"Coluna '{column}': {missing_rows.shape[0]} linhas ausentes.\")\n",
    "    \n",
    "# Mostrar as primeiras linhas ausentes, se preciso for, limitar o head() para dar menos outputs ou limitar os outputs\n",
    "    if not missing_rows.empty:\n",
    "        print(f\"Exibindo as primeiras linhas com valores ausentes em '{column}':\")\n",
    "        print(missing_rows.head(), \"\\n\")\n",
    "    else:\n",
    "        print(f\"Nenhuma linha com valores ausentes em '{column}'.\\n\")\n",
    "\n",
    "\n",
    "\n",
    "#doc: algumas colunas apresentam valores ausentes:      \n",
    "\n",
    "# purchaseordernumber: 27659 linhas ausentes, aprox. 88% de dados ausentes - coluna deletada\n",
    "# salespersonid: 27659 linhas ausentes, aprox. 88% de dados ausentes - coluna deletada\n",
    "# creditcardid: 1131 linhas ausentes, mantive a coluna por ser ID Coluna \n",
    "# creditcardapprovalcode: 1131 linhas ausentes, mantive a coluna\n",
    "# currencyrateid: 17489 linhas ausentes, aprox. 56% de dados ausentes - coluna deletada\n",
    "# comment: 31465 linhas ausentes, 100% de dados ausentes - coluna deletada         \n",
    " "
   ]
  },
  {
   "cell_type": "code",
   "execution_count": null,
   "metadata": {},
   "outputs": [],
   "source": [
    "#deletar colunas com muitos valores ausentes\n",
    "sales_salesorderheader = sales_salesorderheader.drop(columns=['purchaseordernumber', 'salespersonid', 'currencyrateid', 'comment'])\n",
    "\n",
    "print(\"Colunas restantes após remoção:\")\n",
    "print(sales_salesorderheader.columns)"
   ]
  },
  {
   "cell_type": "code",
   "execution_count": null,
   "metadata": {},
   "outputs": [],
   "source": [
    "# Valores únicos por coluna, para verificar se colunas como flags, normalmente booleanas, possuem apenas 1 ou 2 valores.\n",
    "\n",
    "valores_unicos = sales_salesorderheader.nunique(dropna=False)\n",
    "\n",
    "print(\"Valores únicos incluindo NaN:\")\n",
    "print(valores_unicos)\n",
    "\n"
   ]
  },
  {
   "cell_type": "code",
   "execution_count": null,
   "metadata": {},
   "outputs": [],
   "source": [
    "#verificar informações do df\n",
    "sales_salesorderheader.info()"
   ]
  },
  {
   "cell_type": "code",
   "execution_count": null,
   "metadata": {},
   "outputs": [],
   "source": [
    "#avaliando as variáveis qualitativas*\n",
    "\n",
    "# Lista de colunas qualitativas para análise\n",
    "coluna_qualitativa = [\"status\", \"onlineorderflag\", \"territoryid\", \"shipmethodid\"]\n",
    "\n",
    "# Análise de valores para cada coluna qualitativa\n",
    "for col in coluna_qualitativa:\n",
    "    counts = sales_salesorderheader[col].value_counts().nlargest(10) \n",
    "    percentages = (counts / sales_salesorderheader.shape[0] * 100).map(\"{:.2f}%\".format)\n",
    "    summary = pd.DataFrame({\"qtde.\": counts, \"%\": percentages})\n",
    "    print(f\"Resumo para a coluna '{col}':\")\n",
    "    print(summary)\n",
    "    print()\n",
    "\n",
    "\n",
    "\n",
    "#doc*: variáveis qualitativas são um tipo de variável estatística que representam características ou atributos dos dados, sem serem medidas numericamente\n",
    "#      no nosso caso, jobtitle, maritalstatus, gender, por exemplo"
   ]
  },
  {
   "cell_type": "code",
   "execution_count": null,
   "metadata": {},
   "outputs": [],
   "source": [
    "# Agrupar por 'territoryid' para calcular quantidade e proporção de pedidos online\n",
    "territory_summary = sales_salesorderheader.groupby('territoryid')['onlineorderflag'].agg(\n",
    "    qtde='count',\n",
    "    online_percent=lambda x: x.mean() * 100\n",
    ")\n",
    "\n",
    "# Formatando a coluna de porcentagem\n",
    "territory_summary['%'] = territory_summary['online_percent'].map(\"{:.2f}%\".format)\n",
    "\n",
    "# Selecionando as colunas desejadas e ordenando pela maior quantidade\n",
    "territory_summary = territory_summary[['qtde', '%']].sort_values(by='qtde', ascending=False)\n",
    "\n",
    "# Exibindo o resumo\n",
    "print(\"Resumo por território (quantidade e % de pedidos online):\")\n",
    "print(territory_summary)\n"
   ]
  },
  {
   "cell_type": "code",
   "execution_count": null,
   "metadata": {},
   "outputs": [],
   "source": [
    "# Análise cruzada entre 'territoryid' e 'shipmethodid'\n",
    "territory_ship = sales_salesorderheader.groupby(['territoryid', 'shipmethodid']).size().unstack(fill_value=0)\n",
    "print(\"Distribuição de métodos de envio por território:\")\n",
    "print(territory_ship)\n",
    "\n",
    "# Visualização\n",
    "territory_ship.plot(kind='bar', stacked=True, figsize=(12, 6), colormap='viridis')\n",
    "plt.title(\"Métodos de Envio por Território\")\n",
    "plt.xlabel(\"Território\")\n",
    "plt.ylabel(\"Quantidade de Pedidos\")\n",
    "plt.show()\n"
   ]
  },
  {
   "cell_type": "code",
   "execution_count": null,
   "metadata": {},
   "outputs": [],
   "source": [
    "# Agrupar por 'onlineorderflag' e 'shipmethodid'\n",
    "online_ship = sales_salesorderheader.groupby(['onlineorderflag', 'shipmethodid']).size().unstack(fill_value=0)\n",
    "print(\"Métodos de envio por tipo de pedido (online/offline):\")\n",
    "print(online_ship)\n",
    "\n",
    "# Visualização\n",
    "online_ship.plot(kind='bar', stacked=True, figsize=(12, 6), colormap='coolwarm')\n",
    "plt.title(\"Métodos de Envio por Tipo de Pedido\")\n",
    "plt.xlabel(\"Pedido Online (True/False)\")\n",
    "plt.ylabel(\"Quantidade de Pedidos\")\n",
    "plt.show()\n"
   ]
  },
  {
   "cell_type": "code",
   "execution_count": null,
   "metadata": {},
   "outputs": [],
   "source": [
    "# Receita total por território\n",
    "territory_revenue = sales_salesorderheader.groupby('territoryid')['subtotal'].sum().sort_values(ascending=False)\n",
    "print(\"Receita total por território:\")\n",
    "print(territory_revenue)\n",
    "\n",
    "# Visualização\n",
    "territory_revenue.plot(kind='bar', figsize=(12, 6), color='purple', edgecolor='black')\n",
    "plt.title(\"Receita Total por Território\")\n",
    "plt.xlabel(\"Território\")\n",
    "plt.ylabel(\"Subtotal (Receita Total)\")\n",
    "plt.show()\n"
   ]
  },
  {
   "cell_type": "code",
   "execution_count": null,
   "metadata": {},
   "outputs": [],
   "source": [
    "# Variáveis quantitativas*: estatísticas descritivas para verificar se ainda há o que ser feito antes de exportar os dados ao BigQuery\n",
    "\n",
    "# Identificar colunas numéricas para análise de outliers\n",
    "numeric_columns = ['subtotal', 'taxamt','freight', 'totaldue']\n",
    "\n",
    "# Estatísticas Descritivas das colunas numéricas*\n",
    "print(sales_salesorderheader[numeric_columns].describe())\n",
    "\n",
    "# Cálculo de limites para outliers (IQR)**\n",
    "for col in numeric_columns:\n",
    "    q1 = sales_salesorderheader[col].quantile(0.25)\n",
    "    q3 = sales_salesorderheader[col].quantile(0.75)\n",
    "    iqr = q3 - q1\n",
    "    lower_bound = q1 - 1.5 * iqr\n",
    "    upper_bound = q3 + 1.5 * iqr\n",
    "    \n",
    "    # Exibir os limites\n",
    "    print(f\"\\nColuna: {col}\")\n",
    "    print(f\"Limite inferior: {lower_bound}, Limite superior: {upper_bound}\")\n",
    "    \n",
    "    # Detecção e Análise de Outliers***\n",
    "    outliers = sales_salesorderheader[(sales_salesorderheader[col] < lower_bound) | (sales_salesorderheader[col] > upper_bound)]\n",
    "    print(f\"Outliers detectados ({len(outliers)}):\")\n",
    "    print(outliers[[col]])\n",
    "\n",
    "\n",
    "#doc*: variáveis quantitativas são um tipo de dado que pode ser representado por números e medidas objetivas, no nosso caso, vacationhours, sickleavehours, por exemplo\n",
    "#doc*: realizar estatísticas descritivas para entender a centralidade e variação dos dados (valores médios, mínimos, máximos, etc.)\n",
    "#doc**: calcular limites para identificar outliers (valores extremos que podem indicar erros ou casos excepcionais nos dados)\n",
    "#doc***: verificar a existência de outliers para decidir ações como remoção, substituição ou tratamento, garantindo qualidade dos dados\n",
    "\n",
    "#doc****: as colunas analisadas apresentam outliers, os outliers identificados parecem legítimos no contexto do AdventureWorks, refletindo compras em grande volume, \n",
    "#         produtos premium ou custos logísticos elevados. Resultando em não manipular tais colunas"
   ]
  },
  {
   "cell_type": "code",
   "execution_count": null,
   "metadata": {},
   "outputs": [],
   "source": [
    "# Configurar o estilo do gráfico\n",
    "sns.set(style='dark', rc={\"axes.facecolor\": \"black\", \"figure.facecolor\": \"black\"})\n",
    "\n",
    "# Lista das colunas para análise\n",
    "columns_to_plot = ['subtotal', 'taxamt', 'freight', 'totaldue']\n",
    "\n",
    "# Criar histogramas (1 por linha)\n",
    "for col in columns_to_plot:\n",
    "    plt.figure(figsize=(12, 6))\n",
    "    \n",
    "    # Histograma\n",
    "    ax = sns.histplot(\n",
    "        sales_salesorderheader[col], bins=30, kde=False, color=\"blue\", edgecolor=\"white\"\n",
    "    )\n",
    "    \n",
    "    # Título e rótulos\n",
    "    plt.title(f'Distribuição de {col}', color='white', fontsize=16)\n",
    "    plt.xlabel(col, color='white', fontsize=14)\n",
    "    plt.ylabel(\"Frequência\", color='white', fontsize=14)\n",
    "    \n",
    "    # Cor dos rótulos\n",
    "    ax.tick_params(axis='x', colors='white')\n",
    "    ax.tick_params(axis='y', colors='white')\n",
    "    \n",
    "    # Remover grade\n",
    "    ax.grid(False)\n",
    "    \n",
    "    # Exibir o gráfico\n",
    "    plt.show()\n"
   ]
  },
  {
   "cell_type": "code",
   "execution_count": null,
   "metadata": {},
   "outputs": [],
   "source": [
    "# Atualizar o dicionário df_processados com o df ajustado\n",
    "df_processados['sales_salesorderheader'] = sales_salesorderheader"
   ]
  },
  {
   "cell_type": "code",
   "execution_count": null,
   "metadata": {},
   "outputs": [],
   "source": [
    "sales_salesorderheader.info()"
   ]
  },
  {
   "cell_type": "code",
   "execution_count": null,
   "metadata": {},
   "outputs": [],
   "source": [
    "# Padronizar colunas com valores textuais\n",
    "sales_salesorderheader['rowguid'] = sales_salesorderheader['rowguid'].str.strip().str.upper()\n",
    "\n",
    "print(sales_salesorderheader.head())\n",
    "\n",
    "#doc: padronizar as strings nessa etapa, contribui para a execução das demais etapas do pipeline"
   ]
  },
  {
   "cell_type": "code",
   "execution_count": null,
   "metadata": {},
   "outputs": [],
   "source": [
    "\n",
    "# Garantir que apenas tabelas únicas sejam exportadas\n",
    "unique_df_processados = {k: v for k, v in df_processados.items()}\n",
    "\n",
    "# Exportar tabelas para o BigQuery\n",
    "for table_name, df_cleaned in unique_df_processados.items():\n",
    "    # Nome da tabela no BigQuery\n",
    "    output_table = f\"{output_dataset}.{table_name}\"\n",
    "\n",
    "    # Configurar job de exportação\n",
    "    job_config = bigquery.LoadJobConfig(\n",
    "        write_disposition=\"WRITE_TRUNCATE\"  \n",
    "    )\n",
    "    \n",
    "    # Exportar DataFrame para o BigQuery\n",
    "    job = client.load_table_from_dataframe(df_cleaned, output_table, job_config=job_config)\n",
    "    job.result()\n",
    "\n",
    "    print(f\"Tabela {table_name} exportada com sucesso para {output_table}.\")"
   ]
  },
  {
   "cell_type": "markdown",
   "metadata": {},
   "source": []
  }
 ],
 "metadata": {
  "kernelspec": {
   "display_name": "venv",
   "language": "python",
   "name": "python3"
  },
  "language_info": {
   "codemirror_mode": {
    "name": "ipython",
    "version": 3
   },
   "file_extension": ".py",
   "mimetype": "text/x-python",
   "name": "python",
   "nbconvert_exporter": "python",
   "pygments_lexer": "ipython3",
   "version": "3.10.9"
  }
 },
 "nbformat": 4,
 "nbformat_minor": 2
}
