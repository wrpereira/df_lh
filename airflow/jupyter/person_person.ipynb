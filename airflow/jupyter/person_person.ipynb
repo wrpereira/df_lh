{
 "cells": [
  {
   "cell_type": "markdown",
   "metadata": {},
   "source": [
    "### SETUP INICIAL DO PROJETO"
   ]
  },
  {
   "cell_type": "code",
   "execution_count": 20,
   "metadata": {},
   "outputs": [],
   "source": [
    "\n",
    "#importação das bibliotecase e pacotes necessários para a análise\n",
    "\n",
    "import json\n",
    "import matplotlib.pyplot as plt\n",
    "import numpy as np\n",
    "import os\n",
    "import pandas as pd\n",
    "import pandas_gbq as gbq\n",
    "import re\n",
    "import seaborn as sns\n",
    "from dotenv import load_dotenv\n",
    "from google.cloud import bigquery\n",
    "from google.cloud.bigquery_storage import BigQueryReadClient\n",
    "from google.oauth2 import service_account\n",
    "\n",
    "\n",
    "# carregar o .env com as credenciais\n",
    "load_dotenv(\"/mnt/c/Users/wrpen/OneDrive/Desktop/df_lh/.env\")\n",
    "\n",
    "\n",
    "# detectar ambiente: como eu estou usando wsl-ubuntu, no VS Code  -  Windows, estava dando conflitos de path\n",
    "if os.name == \"nt\":  # se Windows\n",
    "    credentials_path = r\"C:\\Temp\\desafiolh-445818-3cb0f62cb9ef.json\"\n",
    "else:  # se WSL/Linux\n",
    "    credentials_path = \"/mnt/c/Temp/desafiolh-445818-3cb0f62cb9ef.json\"\n",
    "\n",
    "\n",
    "# parâmetros injetados pelo Papermill ou definidos manualmente, caso não existam no ambiente\n",
    "if 'tables_to_process' not in locals():\n",
    "    tables_to_process = [\n",
    "        \"desafioadventureworks-446600.raw_data.person-person\"       \n",
    "    ]\n",
    "\n",
    "if 'output_dataset' not in locals():\n",
    "    output_dataset = \"desafioadventureworks-446600.raw_data_cleaned\"\n",
    "\n",
    "\n",
    "# configs do cliente BigQuery: input de project e location de acordo com dados no Bigquery\n",
    "credentials = service_account.Credentials.from_service_account_file(credentials_path)\n",
    "client = bigquery.Client(credentials=credentials, project=os.getenv(\"BIGQUERY_PROJECT\"), location=\"us-central1\")\n",
    "\n",
    "\n",
    "#doc: tables_to_process: lista de tabelas que serão processadas\n",
    "#     output_dataset: nome do dataset onde os dados processados serão armazenados, neste caso, raw_data_cleaned"
   ]
  },
  {
   "cell_type": "code",
   "execution_count": 21,
   "metadata": {},
   "outputs": [
    {
     "name": "stdout",
     "output_type": "stream",
     "text": [
      "Tabelas a processar: ['desafioadventureworks-446600.raw_data.person-person']\n"
     ]
    }
   ],
   "source": [
    "# Print com a tabela que vai ser processada nesse notebook\n",
    "\n",
    "print(\"Tabelas a processar:\", tables_to_process)"
   ]
  },
  {
   "cell_type": "code",
   "execution_count": 22,
   "metadata": {},
   "outputs": [
    {
     "name": "stdout",
     "output_type": "stream",
     "text": [
      "raw_data\n",
      "Tabelas disponíveis:\n",
      "humanresources-employee\n",
      "person-address\n",
      "person-businessentity\n",
      "person-person\n",
      "person-stateprovince\n",
      "production-location\n",
      "production-product\n",
      "production-productcategory\n",
      "production-productcosthistory\n",
      "production-productinventory\n",
      "production-productsubcategory\n",
      "purchasing-purchaseorderdetail\n",
      "purchasing-purchaseorderheader\n",
      "purchasing-vendor\n",
      "sales-creditcard\n",
      "sales-customer\n",
      "sales-salesorderdetail\n",
      "sales-salesorderheader\n",
      "sales-salesorderheadersalesreason\n",
      "sales-salesperson\n",
      "sales-salesreason\n",
      "sales-salesterritory\n",
      "sales-store\n"
     ]
    }
   ],
   "source": [
    "# Nome do dataset no Bigquery com os dados brutos (.csv) extraídos pelo Meltano \n",
    "dataset_id = 'raw_data'\n",
    "print(dataset_id)\n",
    "\n",
    "# Lista de tabelas do dataset raw_data no Bigquery\n",
    "tables = client.list_tables('raw_data')\n",
    "print(\"Tabelas disponíveis:\")\n",
    "for table in tables:\n",
    "    print(table.table_id)"
   ]
  },
  {
   "cell_type": "markdown",
   "metadata": {},
   "source": [
    "# Exploratory Data Analysis (EDA) e Data Cleaning"
   ]
  },
  {
   "cell_type": "markdown",
   "metadata": {},
   "source": [
    "### Glossário dos dados:\n",
    "\n",
    "O termo ''doc:'', situado no rodapé de algumas cells, indica algo como:\n",
    "\n",
    "- documentação: documentar decisões, análises e resultados;\n",
    "\n",
    "- abreviações de termos, como bkp, df, entre outros."
   ]
  },
  {
   "cell_type": "code",
   "execution_count": 23,
   "metadata": {},
   "outputs": [],
   "source": [
    "# Setup inicial do df para realizar a EDA \n",
    "\n",
    "pd.set_option('display.max_columns', None)\n",
    "#pd.set_option('display.max_rows', None)\n",
    "pd.set_option('display.max_colwidth', None)\n",
    "pd.set_option('display.width', 10000)\n",
    "pd.options.display.float_format = '{:.2f}'.format\n",
    "\n",
    "\n",
    "#doc: df = dataframe  "
   ]
  },
  {
   "cell_type": "code",
   "execution_count": 24,
   "metadata": {},
   "outputs": [
    {
     "name": "stdout",
     "output_type": "stream",
     "text": [
      "Processando tabela: desafioadventureworks-446600.raw_data.person-person\n",
      "Lendo os dados do BigQuery...\n",
      "Tabela person_person processada e armazenada com sucesso.\n",
      "Todas as tabelas foram processadas com sucesso!\n"
     ]
    }
   ],
   "source": [
    "# Dicionário para armazenar os df processados\n",
    "df_processados = {}\n",
    "\n",
    "# Iteração das tabelas e armazenamento em df\n",
    "for input_table in tables_to_process:\n",
    "    print(f\"Processando tabela: {input_table}\")\n",
    "    \n",
    "    table_name = input_table.split(\".\")[-1].replace(\"-\", \"_\")  \n",
    "    \n",
    "    print(\"Lendo os dados do BigQuery...\")\n",
    "    query = f\"SELECT * FROM `{input_table}`\"\n",
    "    table_data = client.query(query).to_dataframe()\n",
    "    \n",
    "    df_processados[table_name] = table_data\n",
    "    print(f\"Tabela {table_name} processada e armazenada com sucesso.\")\n",
    "\n",
    "\n",
    "print(\"Todas as tabelas foram processadas com sucesso!\")"
   ]
  },
  {
   "cell_type": "code",
   "execution_count": 25,
   "metadata": {},
   "outputs": [
    {
     "name": "stdout",
     "output_type": "stream",
     "text": [
      "Variável criada: person_person\n"
     ]
    }
   ],
   "source": [
    "# Listar todas as variáveis criadas dinamicamente\n",
    "for table_name in df_processados.keys():\n",
    "    print(f\"Variável criada: {table_name}\")  "
   ]
  },
  {
   "cell_type": "code",
   "execution_count": 26,
   "metadata": {},
   "outputs": [
    {
     "name": "stdout",
     "output_type": "stream",
     "text": [
      "Colunas: 13\n",
      "Linhas: 279608\n"
     ]
    }
   ],
   "source": [
    "# Atribuir o df a uma variável com nome mais simples\n",
    "person_person = df_processados['person_person']\n",
    "\n",
    "print(f\"Colunas: {person_person.shape[1]}\\nLinhas: {person_person.shape[0]}\")"
   ]
  },
  {
   "cell_type": "code",
   "execution_count": 27,
   "metadata": {},
   "outputs": [
    {
     "name": "stdout",
     "output_type": "stream",
     "text": [
      "duplicadas ordenadas:\n",
      "        businessentityid persontype  namestyle title firstname middlename lastname suffix  emailpromotion additionalcontactinfo                                                                                                                                                                                                                                                                                                                                                                                                                                                                                                                                                                                                                demographics                               rowguid              modifieddate\n",
      "7386                   1         EM      False  None       Ken          J  Sánchez   None               0                  None                                                                                                                                                                                                                                                                                                                                                                                                                                                         <IndividualSurvey xmlns=\"http://schemas.microsoft.com/sqlserver/2004/07/adventure-works/IndividualSurvey\"><TotalPurchaseYTD>0</TotalPurchaseYTD></IndividualSurvey>  92c4279f-1207-48a3-8448-4636514eb7e2 2009-01-07 00:00:00+00:00\n",
      "27358                  1         EM      False  None       Ken          J  Sánchez   None               0                  None                                                                                                                                                                                                                                                                                                                                                                                                                                                         <IndividualSurvey xmlns=\"http://schemas.microsoft.com/sqlserver/2004/07/adventure-works/IndividualSurvey\"><TotalPurchaseYTD>0</TotalPurchaseYTD></IndividualSurvey>  92c4279f-1207-48a3-8448-4636514eb7e2 2009-01-07 00:00:00+00:00\n",
      "47330                  1         EM      False  None       Ken          J  Sánchez   None               0                  None                                                                                                                                                                                                                                                                                                                                                                                                                                                         <IndividualSurvey xmlns=\"http://schemas.microsoft.com/sqlserver/2004/07/adventure-works/IndividualSurvey\"><TotalPurchaseYTD>0</TotalPurchaseYTD></IndividualSurvey>  92c4279f-1207-48a3-8448-4636514eb7e2 2009-01-07 00:00:00+00:00\n",
      "67302                  1         EM      False  None       Ken          J  Sánchez   None               0                  None                                                                                                                                                                                                                                                                                                                                                                                                                                                         <IndividualSurvey xmlns=\"http://schemas.microsoft.com/sqlserver/2004/07/adventure-works/IndividualSurvey\"><TotalPurchaseYTD>0</TotalPurchaseYTD></IndividualSurvey>  92c4279f-1207-48a3-8448-4636514eb7e2 2009-01-07 00:00:00+00:00\n",
      "87274                  1         EM      False  None       Ken          J  Sánchez   None               0                  None                                                                                                                                                                                                                                                                                                                                                                                                                                                         <IndividualSurvey xmlns=\"http://schemas.microsoft.com/sqlserver/2004/07/adventure-works/IndividualSurvey\"><TotalPurchaseYTD>0</TotalPurchaseYTD></IndividualSurvey>  92c4279f-1207-48a3-8448-4636514eb7e2 2009-01-07 00:00:00+00:00\n",
      "...                  ...        ...        ...   ...       ...        ...      ...    ...             ...                   ...                                                                                                                                                                                                                                                                                                                                                                                                                                                                                                                                                                                                                         ...                                   ...                       ...\n",
      "184517             20777         IN      False  None   Crystal       None       Hu   None               0                  None  <IndividualSurvey xmlns=\"http://schemas.microsoft.com/sqlserver/2004/07/adventure-works/IndividualSurvey\"><TotalPurchaseYTD>-19.5</TotalPurchaseYTD><DateFirstPurchase>2003-11-17Z</DateFirstPurchase><BirthDate>1971-05-05Z</BirthDate><MaritalStatus>M</MaritalStatus><YearlyIncome>75001-100000</YearlyIncome><Gender>F</Gender><TotalChildren>0</TotalChildren><NumberChildrenAtHome>0</NumberChildrenAtHome><Education>Bachelors </Education><Occupation>Professional</Occupation><HomeOwnerFlag>0</HomeOwnerFlag><NumberCarsOwned>4</NumberCarsOwned><CommuteDistance>10+ Miles</CommuteDistance></IndividualSurvey>  1773c8f3-2cc7-4826-a7f5-30d3f36543cd 2013-10-16 00:00:00+00:00\n",
      "204489             20777         IN      False  None   Crystal       None       Hu   None               0                  None  <IndividualSurvey xmlns=\"http://schemas.microsoft.com/sqlserver/2004/07/adventure-works/IndividualSurvey\"><TotalPurchaseYTD>-19.5</TotalPurchaseYTD><DateFirstPurchase>2003-11-17Z</DateFirstPurchase><BirthDate>1971-05-05Z</BirthDate><MaritalStatus>M</MaritalStatus><YearlyIncome>75001-100000</YearlyIncome><Gender>F</Gender><TotalChildren>0</TotalChildren><NumberChildrenAtHome>0</NumberChildrenAtHome><Education>Bachelors </Education><Occupation>Professional</Occupation><HomeOwnerFlag>0</HomeOwnerFlag><NumberCarsOwned>4</NumberCarsOwned><CommuteDistance>10+ Miles</CommuteDistance></IndividualSurvey>  1773c8f3-2cc7-4826-a7f5-30d3f36543cd 2013-10-16 00:00:00+00:00\n",
      "224461             20777         IN      False  None   Crystal       None       Hu   None               0                  None  <IndividualSurvey xmlns=\"http://schemas.microsoft.com/sqlserver/2004/07/adventure-works/IndividualSurvey\"><TotalPurchaseYTD>-19.5</TotalPurchaseYTD><DateFirstPurchase>2003-11-17Z</DateFirstPurchase><BirthDate>1971-05-05Z</BirthDate><MaritalStatus>M</MaritalStatus><YearlyIncome>75001-100000</YearlyIncome><Gender>F</Gender><TotalChildren>0</TotalChildren><NumberChildrenAtHome>0</NumberChildrenAtHome><Education>Bachelors </Education><Occupation>Professional</Occupation><HomeOwnerFlag>0</HomeOwnerFlag><NumberCarsOwned>4</NumberCarsOwned><CommuteDistance>10+ Miles</CommuteDistance></IndividualSurvey>  1773c8f3-2cc7-4826-a7f5-30d3f36543cd 2013-10-16 00:00:00+00:00\n",
      "244433             20777         IN      False  None   Crystal       None       Hu   None               0                  None  <IndividualSurvey xmlns=\"http://schemas.microsoft.com/sqlserver/2004/07/adventure-works/IndividualSurvey\"><TotalPurchaseYTD>-19.5</TotalPurchaseYTD><DateFirstPurchase>2003-11-17Z</DateFirstPurchase><BirthDate>1971-05-05Z</BirthDate><MaritalStatus>M</MaritalStatus><YearlyIncome>75001-100000</YearlyIncome><Gender>F</Gender><TotalChildren>0</TotalChildren><NumberChildrenAtHome>0</NumberChildrenAtHome><Education>Bachelors </Education><Occupation>Professional</Occupation><HomeOwnerFlag>0</HomeOwnerFlag><NumberCarsOwned>4</NumberCarsOwned><CommuteDistance>10+ Miles</CommuteDistance></IndividualSurvey>  1773c8f3-2cc7-4826-a7f5-30d3f36543cd 2013-10-16 00:00:00+00:00\n",
      "264405             20777         IN      False  None   Crystal       None       Hu   None               0                  None  <IndividualSurvey xmlns=\"http://schemas.microsoft.com/sqlserver/2004/07/adventure-works/IndividualSurvey\"><TotalPurchaseYTD>-19.5</TotalPurchaseYTD><DateFirstPurchase>2003-11-17Z</DateFirstPurchase><BirthDate>1971-05-05Z</BirthDate><MaritalStatus>M</MaritalStatus><YearlyIncome>75001-100000</YearlyIncome><Gender>F</Gender><TotalChildren>0</TotalChildren><NumberChildrenAtHome>0</NumberChildrenAtHome><Education>Bachelors </Education><Occupation>Professional</Occupation><HomeOwnerFlag>0</HomeOwnerFlag><NumberCarsOwned>4</NumberCarsOwned><CommuteDistance>10+ Miles</CommuteDistance></IndividualSurvey>  1773c8f3-2cc7-4826-a7f5-30d3f36543cd 2013-10-16 00:00:00+00:00\n",
      "\n",
      "[279608 rows x 13 columns]\n"
     ]
    }
   ],
   "source": [
    "# Identificar duplicadas com base em 'businessentityid'\n",
    "duplicadas = person_person[person_person.duplicated(subset=['businessentityid'], keep=False)]\n",
    "\n",
    "# Verificar se existem duplicadas\n",
    "if not duplicadas.empty:\n",
    "    \n",
    "    duplicadas_ordenadas = duplicadas.sort_values(by=['businessentityid', 'modifieddate'])\n",
    "\n",
    "    print(\"duplicadas ordenadas:\")\n",
    "    print(duplicadas_ordenadas)\n",
    "else:\n",
    "    print(\"Não foram encontradas duplicadas.\")\n",
    "\n",
    "\n",
    "#doc*: ID da tabela "
   ]
  },
  {
   "cell_type": "code",
   "execution_count": 28,
   "metadata": {},
   "outputs": [
    {
     "name": "stdout",
     "output_type": "stream",
     "text": [
      "Linhas após remover duplicadas (baseando-se na última 'modifieddate'): 19972\n"
     ]
    }
   ],
   "source": [
    "# Remover duplicadas* \n",
    "person_person = person_person.drop_duplicates(subset=['businessentityid'], keep='last')\n",
    "\n",
    "print(f\"Linhas após remover duplicadas (baseando-se na última 'modifieddate'): {len(person_person)}\")\n",
    "\n",
    "#bkp dos dados brutos\n",
    "raw_data_bkp_2_sem_duplicadas = person_person.copy()\n",
    "\n",
    "\n",
    "#doc: bkp = backup (cópia)\n",
    "#doc*: mantendo a última ocorrência com base em 'modifieddate', pois ela que indica a data da última modificação nos dados\n",
    "#      Importante, pois se houver erro na ingestão (duplicação), mantém os dados íntegros."
   ]
  },
  {
   "cell_type": "code",
   "execution_count": 29,
   "metadata": {},
   "outputs": [
    {
     "name": "stdout",
     "output_type": "stream",
     "text": [
      "        businessentityid persontype  namestyle title firstname middlename    lastname suffix  emailpromotion additionalcontactinfo                                                                                                                                                                                                                                                                                                                                                                                                                                                                                                                                                                                                                       demographics                               rowguid              modifieddate\n",
      "267022                 1         EM      False  None       Ken          J     Sánchez   None               0                  None                                                                                                                                                                                                                                                                                                                                                                                                                                                                <IndividualSurvey xmlns=\"http://schemas.microsoft.com/sqlserver/2004/07/adventure-works/IndividualSurvey\"><TotalPurchaseYTD>0</TotalPurchaseYTD></IndividualSurvey>  92c4279f-1207-48a3-8448-4636514eb7e2 2009-01-07 00:00:00+00:00\n",
      "275832                 2         EM      False  None     Terri        Lee       Duffy   None               1                  None                                                                                                                                                                                                                                                                                                                                                                                                                                                                <IndividualSurvey xmlns=\"http://schemas.microsoft.com/sqlserver/2004/07/adventure-works/IndividualSurvey\"><TotalPurchaseYTD>0</TotalPurchaseYTD></IndividualSurvey>  d8763459-8aa8-47cc-aff7-c9079af79033 2008-01-24 00:00:00+00:00\n",
      "259636                 3         EM      False  None   Roberto       None  Tamburello   None               0                  None                                                                                                                                                                                                                                                                                                                                                                                                                                                                <IndividualSurvey xmlns=\"http://schemas.microsoft.com/sqlserver/2004/07/adventure-works/IndividualSurvey\"><TotalPurchaseYTD>0</TotalPurchaseYTD></IndividualSurvey>  e1a2555e-0828-434b-a33b-6f38136a37de 2007-11-04 00:00:00+00:00\n",
      "259637                 4         EM      False  None       Rob       None     Walters   None               0                  None                                                                                                                                                                                                                                                                                                                                                                                                                                                                <IndividualSurvey xmlns=\"http://schemas.microsoft.com/sqlserver/2004/07/adventure-works/IndividualSurvey\"><TotalPurchaseYTD>0</TotalPurchaseYTD></IndividualSurvey>  f2d7ce06-38b3-4357-805b-f4b6b71c01ff 2007-11-28 00:00:00+00:00\n",
      "264406                 5         EM      False   Ms.      Gail          A    Erickson   None               0                  None                                                                                                                                                                                                                                                                                                                                                                                                                                                                <IndividualSurvey xmlns=\"http://schemas.microsoft.com/sqlserver/2004/07/adventure-works/IndividualSurvey\"><TotalPurchaseYTD>0</TotalPurchaseYTD></IndividualSurvey>  f3a3f6b4-ae3b-430c-a754-9f2231ba6fef 2007-12-30 00:00:00+00:00\n",
      "...                  ...        ...        ...   ...       ...        ...         ...    ...             ...                   ...                                                                                                                                                                                                                                                                                                                                                                                                                                                                                                                                                                                                                                ...                                   ...                       ...\n",
      "264404             20773         IN      False  None   Crystal       None         Guo   None               0                  None           <IndividualSurvey xmlns=\"http://schemas.microsoft.com/sqlserver/2004/07/adventure-works/IndividualSurvey\"><TotalPurchaseYTD>54.48</TotalPurchaseYTD><DateFirstPurchase>2004-04-19Z</DateFirstPurchase><BirthDate>1974-11-23Z</BirthDate><MaritalStatus>S</MaritalStatus><YearlyIncome>0-25000</YearlyIncome><Gender>F</Gender><TotalChildren>0</TotalChildren><NumberChildrenAtHome>0</NumberChildrenAtHome><Education>Partial High School</Education><Occupation>Manual</Occupation><HomeOwnerFlag>1</HomeOwnerFlag><NumberCarsOwned>2</NumberCarsOwned><CommuteDistance>0-1 Miles</CommuteDistance></IndividualSurvey>  d0a499a2-c258-43e9-ab06-f61543a71134 2014-03-19 00:00:00+00:00\n",
      "278142             20774         IN      False  None  Isabella          F  Richardson   None               2                  None  <IndividualSurvey xmlns=\"http://schemas.microsoft.com/sqlserver/2004/07/adventure-works/IndividualSurvey\"><TotalPurchaseYTD>-13.01</TotalPurchaseYTD><DateFirstPurchase>2003-08-30Z</DateFirstPurchase><BirthDate>1961-06-12Z</BirthDate><MaritalStatus>M</MaritalStatus><YearlyIncome>50001-75000</YearlyIncome><Gender>F</Gender><TotalChildren>1</TotalChildren><NumberChildrenAtHome>0</NumberChildrenAtHome><Education>Partial College</Education><Occupation>Skilled Manual</Occupation><HomeOwnerFlag>1</HomeOwnerFlag><NumberCarsOwned>1</NumberCarsOwned><CommuteDistance>2-5 Miles</CommuteDistance></IndividualSurvey>  a4f7f248-82f3-43d5-b5a3-8bd1cb610254 2013-07-29 00:00:00+00:00\n",
      "270012             20775         IN      False  None   Crystal          S          He   None               0                  None           <IndividualSurvey xmlns=\"http://schemas.microsoft.com/sqlserver/2004/07/adventure-works/IndividualSurvey\"><TotalPurchaseYTD>112.58</TotalPurchaseYTD><DateFirstPurchase>2004-04-12Z</DateFirstPurchase><BirthDate>1940-04-05Z</BirthDate><MaritalStatus>M</MaritalStatus><YearlyIncome>50001-75000</YearlyIncome><Gender>F</Gender><TotalChildren>3</TotalChildren><NumberChildrenAtHome>0</NumberChildrenAtHome><Education>Bachelors </Education><Occupation>Management</Occupation><HomeOwnerFlag>1</HomeOwnerFlag><NumberCarsOwned>2</NumberCarsOwned><CommuteDistance>10+ Miles</CommuteDistance></IndividualSurvey>  cd0b82d0-3409-4497-a65f-a68e75ee26cb 2014-03-12 00:00:00+00:00\n",
      "272955             20776         IN      False  None   Crystal       None       Zheng   None               1                  None         <IndividualSurvey xmlns=\"http://schemas.microsoft.com/sqlserver/2004/07/adventure-works/IndividualSurvey\"><TotalPurchaseYTD>-9.51</TotalPurchaseYTD><DateFirstPurchase>2004-02-15Z</DateFirstPurchase><BirthDate>1975-07-25Z</BirthDate><MaritalStatus>S</MaritalStatus><YearlyIncome>25001-50000</YearlyIncome><Gender>F</Gender><TotalChildren>0</TotalChildren><NumberChildrenAtHome>0</NumberChildrenAtHome><Education>Partial College</Education><Occupation>Clerical</Occupation><HomeOwnerFlag>1</HomeOwnerFlag><NumberCarsOwned>1</NumberCarsOwned><CommuteDistance>2-5 Miles</CommuteDistance></IndividualSurvey>  386e35e8-97b3-43e4-9b5f-9594c2ff5cea 2014-01-14 00:00:00+00:00\n",
      "264405             20777         IN      False  None   Crystal       None          Hu   None               0                  None         <IndividualSurvey xmlns=\"http://schemas.microsoft.com/sqlserver/2004/07/adventure-works/IndividualSurvey\"><TotalPurchaseYTD>-19.5</TotalPurchaseYTD><DateFirstPurchase>2003-11-17Z</DateFirstPurchase><BirthDate>1971-05-05Z</BirthDate><MaritalStatus>M</MaritalStatus><YearlyIncome>75001-100000</YearlyIncome><Gender>F</Gender><TotalChildren>0</TotalChildren><NumberChildrenAtHome>0</NumberChildrenAtHome><Education>Bachelors </Education><Occupation>Professional</Occupation><HomeOwnerFlag>0</HomeOwnerFlag><NumberCarsOwned>4</NumberCarsOwned><CommuteDistance>10+ Miles</CommuteDistance></IndividualSurvey>  1773c8f3-2cc7-4826-a7f5-30d3f36543cd 2013-10-16 00:00:00+00:00\n",
      "\n",
      "[19972 rows x 13 columns]\n"
     ]
    }
   ],
   "source": [
    "# Ordenar e exibir o df por 'businessentityid'\n",
    "person_person = person_person.sort_values(by=['businessentityid'])\n",
    "\n",
    "print(person_person)"
   ]
  },
  {
   "cell_type": "code",
   "execution_count": 30,
   "metadata": {},
   "outputs": [
    {
     "name": "stdout",
     "output_type": "stream",
     "text": [
      "Coluna 'businessentityid': 0 linhas ausentes.\n",
      "Nenhuma linha com valores ausentes em 'businessentityid'.\n",
      "\n",
      "Coluna 'persontype': 0 linhas ausentes.\n",
      "Nenhuma linha com valores ausentes em 'persontype'.\n",
      "\n",
      "Coluna 'namestyle': 0 linhas ausentes.\n",
      "Nenhuma linha com valores ausentes em 'namestyle'.\n",
      "\n",
      "Coluna 'title': 18963 linhas ausentes.\n",
      "Exibindo as primeiras linhas com valores ausentes em 'title':\n",
      "        businessentityid persontype  namestyle title firstname middlename    lastname suffix  emailpromotion additionalcontactinfo                                                                                                                                                         demographics                               rowguid              modifieddate\n",
      "267022                 1         EM      False  None       Ken          J     Sánchez   None               0                  None  <IndividualSurvey xmlns=\"http://schemas.microsoft.com/sqlserver/2004/07/adventure-works/IndividualSurvey\"><TotalPurchaseYTD>0</TotalPurchaseYTD></IndividualSurvey>  92c4279f-1207-48a3-8448-4636514eb7e2 2009-01-07 00:00:00+00:00\n",
      "275832                 2         EM      False  None     Terri        Lee       Duffy   None               1                  None  <IndividualSurvey xmlns=\"http://schemas.microsoft.com/sqlserver/2004/07/adventure-works/IndividualSurvey\"><TotalPurchaseYTD>0</TotalPurchaseYTD></IndividualSurvey>  d8763459-8aa8-47cc-aff7-c9079af79033 2008-01-24 00:00:00+00:00\n",
      "259636                 3         EM      False  None   Roberto       None  Tamburello   None               0                  None  <IndividualSurvey xmlns=\"http://schemas.microsoft.com/sqlserver/2004/07/adventure-works/IndividualSurvey\"><TotalPurchaseYTD>0</TotalPurchaseYTD></IndividualSurvey>  e1a2555e-0828-434b-a33b-6f38136a37de 2007-11-04 00:00:00+00:00\n",
      "259637                 4         EM      False  None       Rob       None     Walters   None               0                  None  <IndividualSurvey xmlns=\"http://schemas.microsoft.com/sqlserver/2004/07/adventure-works/IndividualSurvey\"><TotalPurchaseYTD>0</TotalPurchaseYTD></IndividualSurvey>  f2d7ce06-38b3-4357-805b-f4b6b71c01ff 2007-11-28 00:00:00+00:00\n",
      "277405                 7         EM      False  None     Dylan          A      Miller   None               2                  None  <IndividualSurvey xmlns=\"http://schemas.microsoft.com/sqlserver/2004/07/adventure-works/IndividualSurvey\"><TotalPurchaseYTD>0</TotalPurchaseYTD></IndividualSurvey>  c45e8ab8-01be-4b76-b215-820c8368181a 2009-02-01 00:00:00+00:00 \n",
      "\n",
      "Coluna 'firstname': 0 linhas ausentes.\n",
      "Nenhuma linha com valores ausentes em 'firstname'.\n",
      "\n",
      "Coluna 'middlename': 8499 linhas ausentes.\n",
      "Exibindo as primeiras linhas com valores ausentes em 'middlename':\n",
      "        businessentityid persontype  namestyle title firstname middlename    lastname suffix  emailpromotion additionalcontactinfo                                                                                                                                                         demographics                               rowguid              modifieddate\n",
      "259636                 3         EM      False  None   Roberto       None  Tamburello   None               0                  None  <IndividualSurvey xmlns=\"http://schemas.microsoft.com/sqlserver/2004/07/adventure-works/IndividualSurvey\"><TotalPurchaseYTD>0</TotalPurchaseYTD></IndividualSurvey>  e1a2555e-0828-434b-a33b-6f38136a37de 2007-11-04 00:00:00+00:00\n",
      "259637                 4         EM      False  None       Rob       None     Walters   None               0                  None  <IndividualSurvey xmlns=\"http://schemas.microsoft.com/sqlserver/2004/07/adventure-works/IndividualSurvey\"><TotalPurchaseYTD>0</TotalPurchaseYTD></IndividualSurvey>  f2d7ce06-38b3-4357-805b-f4b6b71c01ff 2007-11-28 00:00:00+00:00\n",
      "275838                10         EM      False  None   Michael       None      Raheem   None               2                  None  <IndividualSurvey xmlns=\"http://schemas.microsoft.com/sqlserver/2004/07/adventure-works/IndividualSurvey\"><TotalPurchaseYTD>0</TotalPurchaseYTD></IndividualSurvey>  ca2c740e-75b2-420c-9d4b-e3cbc6609604 2009-04-26 00:00:00+00:00\n",
      "259638                41         EM      False  None     Bryan       None       Baker   None               0                  None  <IndividualSurvey xmlns=\"http://schemas.microsoft.com/sqlserver/2004/07/adventure-works/IndividualSurvey\"><TotalPurchaseYTD>0</TotalPurchaseYTD></IndividualSurvey>  a32e8274-08dc-4596-ab1f-ba6263cbc676 2009-01-14 00:00:00+00:00\n",
      "270794                94         EM      False  None   Russell       None      Hunter   None               1                  None  <IndividualSurvey xmlns=\"http://schemas.microsoft.com/sqlserver/2004/07/adventure-works/IndividualSurvey\"><TotalPurchaseYTD>0</TotalPurchaseYTD></IndividualSurvey>  288ef549-203c-439c-a6b2-32fd822327ff 2008-12-05 00:00:00+00:00 \n",
      "\n",
      "Coluna 'lastname': 0 linhas ausentes.\n",
      "Nenhuma linha com valores ausentes em 'lastname'.\n",
      "\n",
      "Coluna 'suffix': 19919 linhas ausentes.\n",
      "Exibindo as primeiras linhas com valores ausentes em 'suffix':\n",
      "        businessentityid persontype  namestyle title firstname middlename    lastname suffix  emailpromotion additionalcontactinfo                                                                                                                                                         demographics                               rowguid              modifieddate\n",
      "267022                 1         EM      False  None       Ken          J     Sánchez   None               0                  None  <IndividualSurvey xmlns=\"http://schemas.microsoft.com/sqlserver/2004/07/adventure-works/IndividualSurvey\"><TotalPurchaseYTD>0</TotalPurchaseYTD></IndividualSurvey>  92c4279f-1207-48a3-8448-4636514eb7e2 2009-01-07 00:00:00+00:00\n",
      "275832                 2         EM      False  None     Terri        Lee       Duffy   None               1                  None  <IndividualSurvey xmlns=\"http://schemas.microsoft.com/sqlserver/2004/07/adventure-works/IndividualSurvey\"><TotalPurchaseYTD>0</TotalPurchaseYTD></IndividualSurvey>  d8763459-8aa8-47cc-aff7-c9079af79033 2008-01-24 00:00:00+00:00\n",
      "259636                 3         EM      False  None   Roberto       None  Tamburello   None               0                  None  <IndividualSurvey xmlns=\"http://schemas.microsoft.com/sqlserver/2004/07/adventure-works/IndividualSurvey\"><TotalPurchaseYTD>0</TotalPurchaseYTD></IndividualSurvey>  e1a2555e-0828-434b-a33b-6f38136a37de 2007-11-04 00:00:00+00:00\n",
      "259637                 4         EM      False  None       Rob       None     Walters   None               0                  None  <IndividualSurvey xmlns=\"http://schemas.microsoft.com/sqlserver/2004/07/adventure-works/IndividualSurvey\"><TotalPurchaseYTD>0</TotalPurchaseYTD></IndividualSurvey>  f2d7ce06-38b3-4357-805b-f4b6b71c01ff 2007-11-28 00:00:00+00:00\n",
      "264406                 5         EM      False   Ms.      Gail          A    Erickson   None               0                  None  <IndividualSurvey xmlns=\"http://schemas.microsoft.com/sqlserver/2004/07/adventure-works/IndividualSurvey\"><TotalPurchaseYTD>0</TotalPurchaseYTD></IndividualSurvey>  f3a3f6b4-ae3b-430c-a754-9f2231ba6fef 2007-12-30 00:00:00+00:00 \n",
      "\n",
      "Coluna 'emailpromotion': 0 linhas ausentes.\n",
      "Nenhuma linha com valores ausentes em 'emailpromotion'.\n",
      "\n",
      "Coluna 'additionalcontactinfo': 19962 linhas ausentes.\n",
      "Exibindo as primeiras linhas com valores ausentes em 'additionalcontactinfo':\n",
      "        businessentityid persontype  namestyle title firstname middlename    lastname suffix  emailpromotion additionalcontactinfo                                                                                                                                                         demographics                               rowguid              modifieddate\n",
      "267022                 1         EM      False  None       Ken          J     Sánchez   None               0                  None  <IndividualSurvey xmlns=\"http://schemas.microsoft.com/sqlserver/2004/07/adventure-works/IndividualSurvey\"><TotalPurchaseYTD>0</TotalPurchaseYTD></IndividualSurvey>  92c4279f-1207-48a3-8448-4636514eb7e2 2009-01-07 00:00:00+00:00\n",
      "275832                 2         EM      False  None     Terri        Lee       Duffy   None               1                  None  <IndividualSurvey xmlns=\"http://schemas.microsoft.com/sqlserver/2004/07/adventure-works/IndividualSurvey\"><TotalPurchaseYTD>0</TotalPurchaseYTD></IndividualSurvey>  d8763459-8aa8-47cc-aff7-c9079af79033 2008-01-24 00:00:00+00:00\n",
      "259636                 3         EM      False  None   Roberto       None  Tamburello   None               0                  None  <IndividualSurvey xmlns=\"http://schemas.microsoft.com/sqlserver/2004/07/adventure-works/IndividualSurvey\"><TotalPurchaseYTD>0</TotalPurchaseYTD></IndividualSurvey>  e1a2555e-0828-434b-a33b-6f38136a37de 2007-11-04 00:00:00+00:00\n",
      "259637                 4         EM      False  None       Rob       None     Walters   None               0                  None  <IndividualSurvey xmlns=\"http://schemas.microsoft.com/sqlserver/2004/07/adventure-works/IndividualSurvey\"><TotalPurchaseYTD>0</TotalPurchaseYTD></IndividualSurvey>  f2d7ce06-38b3-4357-805b-f4b6b71c01ff 2007-11-28 00:00:00+00:00\n",
      "264406                 5         EM      False   Ms.      Gail          A    Erickson   None               0                  None  <IndividualSurvey xmlns=\"http://schemas.microsoft.com/sqlserver/2004/07/adventure-works/IndividualSurvey\"><TotalPurchaseYTD>0</TotalPurchaseYTD></IndividualSurvey>  f3a3f6b4-ae3b-430c-a754-9f2231ba6fef 2007-12-30 00:00:00+00:00 \n",
      "\n",
      "Coluna 'demographics': 0 linhas ausentes.\n",
      "Nenhuma linha com valores ausentes em 'demographics'.\n",
      "\n",
      "Coluna 'rowguid': 0 linhas ausentes.\n",
      "Nenhuma linha com valores ausentes em 'rowguid'.\n",
      "\n",
      "Coluna 'modifieddate': 0 linhas ausentes.\n",
      "Nenhuma linha com valores ausentes em 'modifieddate'.\n",
      "\n"
     ]
    }
   ],
   "source": [
    "# Iterar por todas as colunas do df, para verificar valores ausentes\n",
    "\n",
    "# Verificar valores ausentes na coluna\n",
    "for column in person_person.columns:   \n",
    "    missing_rows = person_person[person_person[column].isnull()]\n",
    "    print(f\"Coluna '{column}': {missing_rows.shape[0]} linhas ausentes.\")\n",
    "    \n",
    "# Mostrar as primeiras linhas ausentes, se preciso for, limitar o head() para dar menos outputs ou limitar os outputs\n",
    "    if not missing_rows.empty:\n",
    "        print(f\"Exibindo as primeiras linhas com valores ausentes em '{column}':\")\n",
    "        print(missing_rows.head(), \"\\n\")\n",
    "    else:\n",
    "        print(f\"Nenhuma linha com valores ausentes em '{column}'.\\n\")"
   ]
  },
  {
   "cell_type": "code",
   "execution_count": 31,
   "metadata": {},
   "outputs": [],
   "source": [
    "#deletar colunas com muitos valores ausentes\n",
    "person_person = person_person.drop(columns=['title', 'middlename', 'suffix', 'additionalcontactinfo', 'namestyle', 'demographics'])\n",
    "\n",
    "\n",
    "#doc: As colunas title, middlename, suffix e additionalcontactinfo foram deletadas, pois há muitos valores ausentes.\n",
    "#     com exceção da coluna namestyle, que há dados, mas como uma coluna booleana, ela só tem false, o que também não agrega valor a análise e\n",
    "#     da coluna demographics, que também há dados, mas para o momento, não há necessidade de utlizá-la"
   ]
  },
  {
   "cell_type": "code",
   "execution_count": 32,
   "metadata": {},
   "outputs": [
    {
     "name": "stdout",
     "output_type": "stream",
     "text": [
      "Coluna 'businessentityid': 0 linhas ausentes.\n",
      "Nenhuma linha com valores ausentes em 'businessentityid'.\n",
      "\n",
      "Coluna 'persontype': 0 linhas ausentes.\n",
      "Nenhuma linha com valores ausentes em 'persontype'.\n",
      "\n",
      "Coluna 'firstname': 0 linhas ausentes.\n",
      "Nenhuma linha com valores ausentes em 'firstname'.\n",
      "\n",
      "Coluna 'lastname': 0 linhas ausentes.\n",
      "Nenhuma linha com valores ausentes em 'lastname'.\n",
      "\n",
      "Coluna 'emailpromotion': 0 linhas ausentes.\n",
      "Nenhuma linha com valores ausentes em 'emailpromotion'.\n",
      "\n",
      "Coluna 'rowguid': 0 linhas ausentes.\n",
      "Nenhuma linha com valores ausentes em 'rowguid'.\n",
      "\n",
      "Coluna 'modifieddate': 0 linhas ausentes.\n",
      "Nenhuma linha com valores ausentes em 'modifieddate'.\n",
      "\n"
     ]
    }
   ],
   "source": [
    "# Iterar por todas as colunas do df, para verificar valores ausentes\n",
    "\n",
    "# Verificar valores ausentes na coluna\n",
    "for column in person_person.columns:   \n",
    "    missing_rows = person_person[person_person[column].isnull()]\n",
    "    print(f\"Coluna '{column}': {missing_rows.shape[0]} linhas ausentes.\")\n",
    "    \n",
    "# Mostrar as primeiras linhas ausentes, se preciso for, limitar o head() para dar menos outputs ou limitar os outputs\n",
    "    if not missing_rows.empty:\n",
    "        print(f\"Exibindo as primeiras linhas com valores ausentes em '{column}':\")\n",
    "        print(missing_rows.head(), \"\\n\")\n",
    "    else:\n",
    "        print(f\"Nenhuma linha com valores ausentes em '{column}'.\\n\")"
   ]
  },
  {
   "cell_type": "code",
   "execution_count": 33,
   "metadata": {},
   "outputs": [],
   "source": [
    "# Criando a coluna 'fullname'\n",
    "person_person['fullname'] = person_person['firstname'] + ' ' + person_person['lastname']"
   ]
  },
  {
   "cell_type": "code",
   "execution_count": 34,
   "metadata": {},
   "outputs": [
    {
     "name": "stdout",
     "output_type": "stream",
     "text": [
      "        businessentityid persontype firstname    lastname            fullname  emailpromotion                               rowguid              modifieddate\n",
      "267022                 1         EM       Ken     Sánchez         Ken Sánchez               0  92c4279f-1207-48a3-8448-4636514eb7e2 2009-01-07 00:00:00+00:00\n",
      "275832                 2         EM     Terri       Duffy         Terri Duffy               1  d8763459-8aa8-47cc-aff7-c9079af79033 2008-01-24 00:00:00+00:00\n",
      "259636                 3         EM   Roberto  Tamburello  Roberto Tamburello               0  e1a2555e-0828-434b-a33b-6f38136a37de 2007-11-04 00:00:00+00:00\n",
      "259637                 4         EM       Rob     Walters         Rob Walters               0  f2d7ce06-38b3-4357-805b-f4b6b71c01ff 2007-11-28 00:00:00+00:00\n",
      "264406                 5         EM      Gail    Erickson       Gail Erickson               0  f3a3f6b4-ae3b-430c-a754-9f2231ba6fef 2007-12-30 00:00:00+00:00\n"
     ]
    }
   ],
   "source": [
    "# Reorganizando as colunas no DataFrame\n",
    "person_person = person_person[[\n",
    "    'businessentityid', 'persontype', 'firstname', 'lastname',\n",
    "    'fullname', 'emailpromotion', 'rowguid', 'modifieddate'\n",
    "]]\n",
    "\n",
    "print(person_person.head())\n"
   ]
  },
  {
   "cell_type": "code",
   "execution_count": 35,
   "metadata": {},
   "outputs": [
    {
     "name": "stdout",
     "output_type": "stream",
     "text": [
      "Valores únicos incluindo NaN:\n",
      "businessentityid    19972\n",
      "persontype              6\n",
      "firstname            1018\n",
      "lastname             1206\n",
      "fullname            19516\n",
      "emailpromotion          3\n",
      "rowguid             19972\n",
      "modifieddate         1285\n",
      "dtype: int64\n"
     ]
    }
   ],
   "source": [
    "# Valores únicos por coluna, para verificar se colunas como flags, normalmente booleanas, possuem apenas 1 ou 2 valores.\n",
    "\n",
    "valores_unicos = person_person.nunique(dropna=False)\n",
    "\n",
    "print(\"Valores únicos incluindo NaN:\")\n",
    "print(valores_unicos)"
   ]
  },
  {
   "cell_type": "code",
   "execution_count": 36,
   "metadata": {},
   "outputs": [
    {
     "name": "stdout",
     "output_type": "stream",
     "text": [
      "<class 'pandas.core.frame.DataFrame'>\n",
      "Index: 19972 entries, 267022 to 264405\n",
      "Data columns (total 8 columns):\n",
      " #   Column            Non-Null Count  Dtype              \n",
      "---  ------            --------------  -----              \n",
      " 0   businessentityid  19972 non-null  Int64              \n",
      " 1   persontype        19972 non-null  object             \n",
      " 2   firstname         19972 non-null  object             \n",
      " 3   lastname          19972 non-null  object             \n",
      " 4   fullname          19972 non-null  object             \n",
      " 5   emailpromotion    19972 non-null  Int64              \n",
      " 6   rowguid           19972 non-null  object             \n",
      " 7   modifieddate      19972 non-null  datetime64[us, UTC]\n",
      "dtypes: Int64(2), datetime64[us, UTC](1), object(5)\n",
      "memory usage: 1.4+ MB\n"
     ]
    }
   ],
   "source": [
    "#verificar informações do df\n",
    "person_person.info()"
   ]
  },
  {
   "cell_type": "code",
   "execution_count": 37,
   "metadata": {},
   "outputs": [
    {
     "name": "stdout",
     "output_type": "stream",
     "text": [
      "Valores únicos em 'emailpromotion': <IntegerArray>\n",
      "[0, 1, 2]\n",
      "Length: 3, dtype: Int64\n",
      "Distribuição de 'emailpromotion':\n",
      "emailpromotion\n",
      "0    11158\n",
      "1     5044\n",
      "2     3770\n",
      "Name: count, dtype: Int64\n",
      "\n"
     ]
    }
   ],
   "source": [
    "# Listar colunas binárias esperadas e verificar valores únicos e suas distribuições\n",
    "coluna_binaria = ['emailpromotion']\n",
    "\n",
    "for col in coluna_binaria:\n",
    "    unique_values = person_person[col].unique()\n",
    "    print(f\"Valores únicos em '{col}': {unique_values}\")\n",
    "    print(f\"Distribuição de '{col}':\")\n",
    "    print(person_person[col].value_counts())\n",
    "    print()\n",
    "\n",
    "\n",
    "#doc: garantir que colunas binárias contenham apenas valores esperados, no caso True ou False e identificar anomalias verificando os valores únicos em cada coluna; valores fora do padrão binário, facilitando a validação e correção\n"
   ]
  },
  {
   "cell_type": "code",
   "execution_count": 38,
   "metadata": {},
   "outputs": [
    {
     "name": "stderr",
     "output_type": "stream",
     "text": [
      "C:\\Users\\wrpen\\AppData\\Local\\Temp\\ipykernel_49884\\839217352.py:8: FutureWarning: \n",
      "\n",
      "Passing `palette` without assigning `hue` is deprecated and will be removed in v0.14.0. Assign the `x` variable to `hue` and set `legend=False` for the same effect.\n",
      "\n",
      "  ax = sns.barplot(\n"
     ]
    },
    {
     "data": {
      "image/png": "[encoded data removed]",
      "text/plain": [
       "<Figure size 800x500 with 1 Axes>"
      ]
     },
     "metadata": {},
     "output_type": "display_data"
    }
   ],
   "source": [
    "# Contar o número de pessoas para cada valor de emailpromotion\n",
    "email_counts = person_person['emailpromotion'].value_counts()\n",
    "\n",
    "# Estilo do gráfico\n",
    "sns.set(style='darkgrid', rc={\"axes.facecolor\": \"black\", \"figure.facecolor\": \"black\"})\n",
    "\n",
    "plt.figure(figsize=(8, 5))\n",
    "ax = sns.barplot(\n",
    "    x=email_counts.index, \n",
    "    y=email_counts.values, \n",
    "    palette=sns.color_palette(\"viridis\", len(email_counts))\n",
    ")\n",
    "\n",
    "plt.title(\"Quantidade de Emails Promocionais Recebidos\", color='white', fontsize=14)\n",
    "plt.xlabel(\"Número de Emails Promocionais\", color='white', fontsize=12)\n",
    "plt.ylabel(\"\", fontsize=12)\n",
    "ax.tick_params(axis='x', colors='white', labelsize=10)\n",
    "ax.tick_params(axis='y', colors='white', labelsize=10)\n",
    "ax.set_yticks([])\n",
    "\n",
    "for container in ax.containers:\n",
    "    ax.bar_label(container, fmt='%d', label_type='edge', color='white', fontsize=10)\n",
    "\n",
    "plt.grid(axis='y', linestyle='--', alpha=0.5, color='gray')\n",
    "plt.show()\n",
    "\n",
    "\n",
    "#doc: Com base nos dados: \n",
    "#     0 = 11158 pessoas não receberam email promocional\n",
    "#     1 = 5044 pessoas receberam 1 email promocional e \n",
    "#     2 = 3770 pessoas receberam 3 emails promocionais"
   ]
  },
  {
   "cell_type": "code",
   "execution_count": 39,
   "metadata": {},
   "outputs": [],
   "source": [
    "# Atualizar o dicionário df_processados com o df ajustado\n",
    "df_processados['person_person'] = person_person"
   ]
  },
  {
   "cell_type": "code",
   "execution_count": 40,
   "metadata": {},
   "outputs": [
    {
     "name": "stdout",
     "output_type": "stream",
     "text": [
      "<class 'pandas.core.frame.DataFrame'>\n",
      "Index: 19972 entries, 267022 to 264405\n",
      "Data columns (total 8 columns):\n",
      " #   Column            Non-Null Count  Dtype              \n",
      "---  ------            --------------  -----              \n",
      " 0   businessentityid  19972 non-null  Int64              \n",
      " 1   persontype        19972 non-null  object             \n",
      " 2   firstname         19972 non-null  object             \n",
      " 3   lastname          19972 non-null  object             \n",
      " 4   fullname          19972 non-null  object             \n",
      " 5   emailpromotion    19972 non-null  Int64              \n",
      " 6   rowguid           19972 non-null  object             \n",
      " 7   modifieddate      19972 non-null  datetime64[us, UTC]\n",
      "dtypes: Int64(2), datetime64[us, UTC](1), object(5)\n",
      "memory usage: 1.4+ MB\n"
     ]
    }
   ],
   "source": [
    "person_person.info()"
   ]
  },
  {
   "cell_type": "code",
   "execution_count": 41,
   "metadata": {},
   "outputs": [
    {
     "name": "stdout",
     "output_type": "stream",
     "text": [
      "        businessentityid persontype firstname    lastname            fullname  emailpromotion                               rowguid              modifieddate\n",
      "267022                 1         EM       KEN     SÁNCHEZ         Ken Sánchez               0  92C4279F-1207-48A3-8448-4636514EB7E2 2009-01-07 00:00:00+00:00\n",
      "275832                 2         EM     TERRI       DUFFY         Terri Duffy               1  D8763459-8AA8-47CC-AFF7-C9079AF79033 2008-01-24 00:00:00+00:00\n",
      "259636                 3         EM   ROBERTO  TAMBURELLO  Roberto Tamburello               0  E1A2555E-0828-434B-A33B-6F38136A37DE 2007-11-04 00:00:00+00:00\n",
      "259637                 4         EM       ROB     WALTERS         Rob Walters               0  F2D7CE06-38B3-4357-805B-F4B6B71C01FF 2007-11-28 00:00:00+00:00\n",
      "264406                 5         EM      GAIL    ERICKSON       Gail Erickson               0  F3A3F6B4-AE3B-430C-A754-9F2231BA6FEF 2007-12-30 00:00:00+00:00\n"
     ]
    }
   ],
   "source": [
    "# Padronizar colunas com valores textuais\n",
    "person_person['persontype'] = person_person['persontype'].str.strip().str.upper()\n",
    "person_person['firstname'] = person_person['firstname'].str.strip().str.upper()\n",
    "person_person['lastname'] = person_person['lastname'].str.strip().str.upper()\n",
    "person_person['rowguid'] = person_person['rowguid'].str.strip().str.upper()\n",
    "\n",
    "print(person_person.head())\n",
    "\n",
    "#doc: padronizar as strings nessa etapa, contribui para a execução das demais etapas do pipeline"
   ]
  },
  {
   "cell_type": "code",
   "execution_count": 42,
   "metadata": {},
   "outputs": [
    {
     "name": "stdout",
     "output_type": "stream",
     "text": [
      "Tabela person_person exportada com sucesso para desafioadventureworks-446600.raw_data_cleaned.person_person.\n"
     ]
    }
   ],
   "source": [
    "# Garantir que apenas tabelas únicas sejam exportadas\n",
    "unique_df_processados = {k: v for k, v in df_processados.items()}\n",
    "\n",
    "# Exportar tabelas para o BigQuery\n",
    "for table_name, df_cleaned in unique_df_processados.items():\n",
    " \n",
    "    output_table = f\"{output_dataset}.{table_name}\"\n",
    "   \n",
    "    job_config = bigquery.LoadJobConfig(\n",
    "        write_disposition=\"WRITE_TRUNCATE\"  \n",
    "    )\n",
    "    \n",
    "    job = client.load_table_from_dataframe(df_cleaned, output_table, job_config=job_config)\n",
    "    job.result()\n",
    "\n",
    "    print(f\"Tabela {table_name} exportada com sucesso para {output_table}.\")"
   ]
  },
  {
   "cell_type": "markdown",
   "metadata": {},
   "source": []
  }
 ],
 "metadata": {
  "kernelspec": {
   "display_name": "venv",
   "language": "python",
   "name": "python3"
  },
  "language_info": {
   "codemirror_mode": {
    "name": "ipython",
    "version": 3
   },
   "file_extension": ".py",
   "mimetype": "text/x-python",
   "name": "python",
   "nbconvert_exporter": "python",
   "pygments_lexer": "ipython3",
   "version": "3.10.9"
  }
 },
 "nbformat": 4,
 "nbformat_minor": 2
}
