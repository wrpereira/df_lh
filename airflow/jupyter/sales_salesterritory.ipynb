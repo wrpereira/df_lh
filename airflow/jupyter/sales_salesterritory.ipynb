{
 "cells": [
  {
   "cell_type": "markdown",
   "metadata": {},
   "source": [
    "### SETUP INICIAL DO PROJETO"
   ]
  },
  {
   "cell_type": "code",
   "execution_count": 1,
   "metadata": {},
   "outputs": [],
   "source": [
    "\n",
    "#importação das bibliotecase e pacotes necessários para a análise\n",
    "\n",
    "import json\n",
    "import matplotlib.pyplot as plt\n",
    "import numpy as np\n",
    "import os\n",
    "import pandas as pd\n",
    "import pandas_gbq as gbq\n",
    "import re\n",
    "import seaborn as sns\n",
    "from dotenv import load_dotenv\n",
    "from google.cloud import bigquery\n",
    "from google.cloud.bigquery_storage import BigQueryReadClient\n",
    "from google.oauth2 import service_account\n",
    "\n",
    "\n",
    "# carregar o .env com as credenciais\n",
    "load_dotenv(\"/mnt/c/Users/wrpen/OneDrive/Desktop/df_lh/.env\")\n",
    "\n",
    "\n",
    "# detectar ambiente: como eu estou usando wsl-ubuntu, no VS Code  -  Windows, estava dando conflitos de path\n",
    "if os.name == \"nt\":  # se Windows\n",
    "    credentials_path = r\"C:\\Temp\\desafiolh-445818-3cb0f62cb9ef.json\"\n",
    "else:  # se WSL/Linux\n",
    "    credentials_path = \"/mnt/c/Temp/desafiolh-445818-3cb0f62cb9ef.json\"\n",
    "\n",
    "\n",
    "# parâmetros injetados pelo Papermill ou definidos manualmente, caso não existam no ambiente\n",
    "if 'tables_to_process' not in locals():\n",
    "    tables_to_process = [\n",
    "        \"desafioadventureworks-446600.raw_data.sales-salesterritory\"       \n",
    "    ]\n",
    "\n",
    "if 'output_dataset' not in locals():\n",
    "    output_dataset = \"desafioadventureworks-446600.raw_data_cleaned\"\n",
    "\n",
    "\n",
    "# configs do cliente BigQuery: input de project e location de acordo com dados no Bigquery\n",
    "credentials = service_account.Credentials.from_service_account_file(credentials_path)\n",
    "client = bigquery.Client(credentials=credentials, project=os.getenv(\"BIGQUERY_PROJECT\"), location=\"us-central1\")\n",
    "\n",
    "\n",
    "#doc: tables_to_process: lista de tabelas que serão processadas\n",
    "#     output_dataset: nome do dataset onde os dados processados serão armazenados, neste caso, raw_data_cleaned"
   ]
  },
  {
   "cell_type": "code",
   "execution_count": 2,
   "metadata": {},
   "outputs": [
    {
     "name": "stdout",
     "output_type": "stream",
     "text": [
      "Tabelas a processar: ['desafioadventureworks-446600.raw_data.sales-salesterritory']\n"
     ]
    }
   ],
   "source": [
    "# Print com a tabela que vai ser processada nesse notebook\n",
    "\n",
    "print(\"Tabelas a processar:\", tables_to_process)"
   ]
  },
  {
   "cell_type": "code",
   "execution_count": 3,
   "metadata": {},
   "outputs": [
    {
     "name": "stdout",
     "output_type": "stream",
     "text": [
      "raw_data\n",
      "Tabelas disponíveis:\n",
      "humanresources-employee\n",
      "person-address\n",
      "person-businessentity\n",
      "person-person\n",
      "person-stateprovince\n",
      "production-location\n",
      "production-product\n",
      "production-productcategory\n",
      "production-productcosthistory\n",
      "production-productinventory\n",
      "production-productsubcategory\n",
      "purchasing-purchaseorderdetail\n",
      "purchasing-purchaseorderheader\n",
      "purchasing-vendor\n",
      "sales-creditcard\n",
      "sales-customer\n",
      "sales-salesorderdetail\n",
      "sales-salesorderheader\n",
      "sales-salesperson\n",
      "sales-salesterritory\n",
      "sales-store\n"
     ]
    }
   ],
   "source": [
    "# Nome do dataset no Bigquery com os dados brutos (.csv) extraídos pelo Meltano \n",
    "dataset_id = 'raw_data'\n",
    "print(dataset_id)\n",
    "\n",
    "# Lista de tabelas do dataset raw_data no Bigquery\n",
    "tables = client.list_tables('raw_data')\n",
    "print(\"Tabelas disponíveis:\")\n",
    "for table in tables:\n",
    "    print(table.table_id)"
   ]
  },
  {
   "cell_type": "markdown",
   "metadata": {},
   "source": [
    "# Exploratory Data Analysis (EDA) e Data Cleaning"
   ]
  },
  {
   "cell_type": "markdown",
   "metadata": {},
   "source": [
    "### Glossário dos dados:\n",
    "\n",
    "O termo ''doc:'', situado no rodapé de algumas cells, indica algo como:\n",
    "\n",
    "- documentação: documentar decisões, análises e resultados;\n",
    "\n",
    "- abreviações de termos, como bkp, df, entre outros."
   ]
  },
  {
   "cell_type": "code",
   "execution_count": 4,
   "metadata": {},
   "outputs": [],
   "source": [
    "# Setup inicial do df para realizar a EDA \n",
    "\n",
    "pd.set_option('display.max_columns', None)\n",
    "#pd.set_option('display.max_rows', None)\n",
    "pd.set_option('display.max_colwidth', None)\n",
    "pd.set_option('display.width', 10000)\n",
    "pd.options.display.float_format = '{:.2f}'.format\n",
    "\n",
    "\n",
    "#doc: df = dataframe  "
   ]
  },
  {
   "cell_type": "code",
   "execution_count": 5,
   "metadata": {},
   "outputs": [
    {
     "name": "stdout",
     "output_type": "stream",
     "text": [
      "Processando tabela: desafioadventureworks-446600.raw_data.sales-salesterritory\n",
      "Lendo os dados do BigQuery...\n",
      "Tabela sales_salesterritory processada e armazenada com sucesso.\n",
      "Todas as tabelas foram processadas com sucesso!\n"
     ]
    }
   ],
   "source": [
    "# Dicionário para armazenar os df processados\n",
    "df_processados = {}\n",
    "\n",
    "# Iteração das tabelas e armazenamento em df\n",
    "for input_table in tables_to_process:\n",
    "    print(f\"Processando tabela: {input_table}\")\n",
    "    \n",
    "    table_name = input_table.split(\".\")[-1].replace(\"-\", \"_\")  \n",
    "    \n",
    "    print(\"Lendo os dados do BigQuery...\")\n",
    "    query = f\"SELECT * FROM `{input_table}`\"\n",
    "    table_data = client.query(query).to_dataframe()\n",
    "    \n",
    "    df_processados[table_name] = table_data\n",
    "    print(f\"Tabela {table_name} processada e armazenada com sucesso.\")\n",
    "\n",
    "\n",
    "print(\"Todas as tabelas foram processadas com sucesso!\")"
   ]
  },
  {
   "cell_type": "code",
   "execution_count": 6,
   "metadata": {},
   "outputs": [
    {
     "name": "stdout",
     "output_type": "stream",
     "text": [
      "Variável criada: sales_salesterritory\n"
     ]
    }
   ],
   "source": [
    "# Listar todas as variáveis criadas dinamicamente\n",
    "for table_name in df_processados.keys():\n",
    "    print(f\"Variável criada: {table_name}\")  "
   ]
  },
  {
   "cell_type": "code",
   "execution_count": 7,
   "metadata": {},
   "outputs": [
    {
     "name": "stdout",
     "output_type": "stream",
     "text": [
      "Colunas: 10\n",
      "Linhas: 130\n"
     ]
    }
   ],
   "source": [
    "# Atribuir o df a uma variável com nome mais simples\n",
    "sales_salesterritory = df_processados['sales_salesterritory']\n",
    "\n",
    "print(f\"Colunas: {sales_salesterritory.shape[1]}\\nLinhas: {sales_salesterritory.shape[0]}\")"
   ]
  },
  {
   "cell_type": "code",
   "execution_count": 8,
   "metadata": {},
   "outputs": [
    {
     "name": "stdout",
     "output_type": "stream",
     "text": [
      "duplicadas ordenadas:\n",
      "    territoryid            name countryregioncode          group   salesytd  saleslastyear  costytd  costlastyear                               rowguid              modifieddate\n",
      "52            1       Northwest                US  North America 7887186.79     3298694.49        0             0  43689a10-e30b-497f-b0de-11de20267ff7 2008-04-30 00:00:00+00:00\n",
      "53            1       Northwest                US  North America 7887186.79     3298694.49        0             0  43689a10-e30b-497f-b0de-11de20267ff7 2008-04-30 00:00:00+00:00\n",
      "54            1       Northwest                US  North America 7887186.79     3298694.49        0             0  43689a10-e30b-497f-b0de-11de20267ff7 2008-04-30 00:00:00+00:00\n",
      "55            1       Northwest                US  North America 7887186.79     3298694.49        0             0  43689a10-e30b-497f-b0de-11de20267ff7 2008-04-30 00:00:00+00:00\n",
      "56            1       Northwest                US  North America 7887186.79     3298694.49        0             0  43689a10-e30b-497f-b0de-11de20267ff7 2008-04-30 00:00:00+00:00\n",
      "..          ...             ...               ...            ...        ...            ...      ...           ...                                   ...                       ...\n",
      "34           10  United Kingdom                GB         Europe 5012905.37     1635823.40        0             0  05fc7e1f-2dea-414e-9ecd-09d150516fb5 2008-04-30 00:00:00+00:00\n",
      "35           10  United Kingdom                GB         Europe 5012905.37     1635823.40        0             0  05fc7e1f-2dea-414e-9ecd-09d150516fb5 2008-04-30 00:00:00+00:00\n",
      "36           10  United Kingdom                GB         Europe 5012905.37     1635823.40        0             0  05fc7e1f-2dea-414e-9ecd-09d150516fb5 2008-04-30 00:00:00+00:00\n",
      "37           10  United Kingdom                GB         Europe 5012905.37     1635823.40        0             0  05fc7e1f-2dea-414e-9ecd-09d150516fb5 2008-04-30 00:00:00+00:00\n",
      "38           10  United Kingdom                GB         Europe 5012905.37     1635823.40        0             0  05fc7e1f-2dea-414e-9ecd-09d150516fb5 2008-04-30 00:00:00+00:00\n",
      "\n",
      "[130 rows x 10 columns]\n"
     ]
    }
   ],
   "source": [
    "# Identificar duplicadas\n",
    "duplicadas = sales_salesterritory[sales_salesterritory.duplicated(subset=['territoryid'], keep=False)]\n",
    "\n",
    "# Verificar se existem duplicadas\n",
    "if not duplicadas.empty:\n",
    "    \n",
    "    duplicadas_ordenadas = duplicadas.sort_values(by=['territoryid', 'modifieddate'])\n",
    "\n",
    "    print(\"duplicadas ordenadas:\")\n",
    "    print(duplicadas_ordenadas)\n",
    "else:\n",
    "    print(\"Não foram encontradas duplicadas.\")"
   ]
  },
  {
   "cell_type": "code",
   "execution_count": 9,
   "metadata": {},
   "outputs": [
    {
     "name": "stdout",
     "output_type": "stream",
     "text": [
      "Linhas após remover duplicadas (baseando-se na última 'modifieddate'): 10\n"
     ]
    }
   ],
   "source": [
    "# Remover duplicadas* \n",
    "sales_salesterritory = sales_salesterritory.drop_duplicates(subset=['territoryid'], keep='last')\n",
    "\n",
    "print(f\"Linhas após remover duplicadas (baseando-se na última 'modifieddate'): {len(sales_salesterritory)}\")\n",
    "\n",
    "#bkp dos dados brutos\n",
    "raw_data_bkp_2_sem_duplicadas = sales_salesterritory.copy()\n",
    "\n",
    "\n",
    "#doc: bkp = backup (cópia)\n",
    "#doc*: mantendo a última ocorrência com base em 'modifieddate', pois ela que indica a data da última modificação nos dados\n",
    "#      Importante, pois se houver erro na ingestão (duplicação), mantém os dados íntegros."
   ]
  },
  {
   "cell_type": "code",
   "execution_count": 10,
   "metadata": {},
   "outputs": [
    {
     "name": "stdout",
     "output_type": "stream",
     "text": [
      "     territoryid            name countryregioncode          group    salesytd  saleslastyear  costytd  costlastyear                               rowguid              modifieddate\n",
      "64             1       Northwest                US  North America  7887186.79     3298694.49        0             0  43689a10-e30b-497f-b0de-11de20267ff7 2008-04-30 00:00:00+00:00\n",
      "77             2       Northeast                US  North America  2402176.85     3607148.94        0             0  00fb7309-96cc-49e2-8363-0a1ba72486f2 2008-04-30 00:00:00+00:00\n",
      "90             3         Central                US  North America  3072175.12     3205014.08        0             0  df6e7fd8-1a8d-468c-b103-ed8addb452c1 2008-04-30 00:00:00+00:00\n",
      "103            4       Southwest                US  North America 10510853.87     5366575.71        0             0  dc3e9ea0-7950-4431-9428-99dbcbc33865 2008-04-30 00:00:00+00:00\n",
      "116            5       Southeast                US  North America  2538667.25     3925071.43        0             0  6dc4165a-5e4c-42d2-809d-4344e0ac75e7 2008-04-30 00:00:00+00:00\n",
      "129            6          Canada                CA  North America  6771829.14     5693988.86        0             0  06b4af8a-1639-476e-9266-110461d66b00 2008-04-30 00:00:00+00:00\n",
      "12             7          France                FR         Europe  4772398.31     2396539.76        0             0  bf806804-9b4c-4b07-9d19-706f2e689552 2008-04-30 00:00:00+00:00\n",
      "25             8         Germany                DE         Europe  3805202.35     1307949.79        0             0  6d2450db-8159-414f-a917-e73ee91c38a9 2008-04-30 00:00:00+00:00\n",
      "51             9       Australia                AU        Pacific  5977814.92     2278548.98        0             0  602e612e-dfe9-41d9-b894-27e489747885 2008-04-30 00:00:00+00:00\n",
      "38            10  United Kingdom                GB         Europe  5012905.37     1635823.40        0             0  05fc7e1f-2dea-414e-9ecd-09d150516fb5 2008-04-30 00:00:00+00:00\n"
     ]
    }
   ],
   "source": [
    "# Ordenar e exibir o df por 'territoryid'\n",
    "sales_salesterritory = sales_salesterritory.sort_values(by=['territoryid'])\n",
    "\n",
    "print(sales_salesterritory)"
   ]
  },
  {
   "cell_type": "code",
   "execution_count": 11,
   "metadata": {},
   "outputs": [
    {
     "name": "stdout",
     "output_type": "stream",
     "text": [
      "Coluna 'territoryid': 0 linhas ausentes.\n",
      "Nenhuma linha com valores ausentes em 'territoryid'.\n",
      "\n",
      "Coluna 'name': 0 linhas ausentes.\n",
      "Nenhuma linha com valores ausentes em 'name'.\n",
      "\n",
      "Coluna 'countryregioncode': 0 linhas ausentes.\n",
      "Nenhuma linha com valores ausentes em 'countryregioncode'.\n",
      "\n",
      "Coluna 'group': 0 linhas ausentes.\n",
      "Nenhuma linha com valores ausentes em 'group'.\n",
      "\n",
      "Coluna 'salesytd': 0 linhas ausentes.\n",
      "Nenhuma linha com valores ausentes em 'salesytd'.\n",
      "\n",
      "Coluna 'saleslastyear': 0 linhas ausentes.\n",
      "Nenhuma linha com valores ausentes em 'saleslastyear'.\n",
      "\n",
      "Coluna 'costytd': 0 linhas ausentes.\n",
      "Nenhuma linha com valores ausentes em 'costytd'.\n",
      "\n",
      "Coluna 'costlastyear': 0 linhas ausentes.\n",
      "Nenhuma linha com valores ausentes em 'costlastyear'.\n",
      "\n",
      "Coluna 'rowguid': 0 linhas ausentes.\n",
      "Nenhuma linha com valores ausentes em 'rowguid'.\n",
      "\n",
      "Coluna 'modifieddate': 0 linhas ausentes.\n",
      "Nenhuma linha com valores ausentes em 'modifieddate'.\n",
      "\n"
     ]
    }
   ],
   "source": [
    "# Iterar por todas as colunas do df, para verificar valores ausentes\n",
    "\n",
    "# Verificar valores ausentes na coluna\n",
    "for column in sales_salesterritory.columns:   \n",
    "    missing_rows = sales_salesterritory[sales_salesterritory[column].isnull()]\n",
    "    print(f\"Coluna '{column}': {missing_rows.shape[0]} linhas ausentes.\")\n",
    "    \n",
    "# Mostrar as primeiras linhas ausentes, se preciso for, limitar o head() para dar menos outputs ou limitar os outputs\n",
    "    if not missing_rows.empty:\n",
    "        print(f\"Exibindo as primeiras linhas com valores ausentes em '{column}':\")\n",
    "        print(missing_rows.head(), \"\\n\")\n",
    "    else:\n",
    "        print(f\"Nenhuma linha com valores ausentes em '{column}'.\\n\")"
   ]
  },
  {
   "cell_type": "code",
   "execution_count": 12,
   "metadata": {},
   "outputs": [
    {
     "name": "stdout",
     "output_type": "stream",
     "text": [
      "Valores únicos incluindo NaN:\n",
      "territoryid          10\n",
      "name                 10\n",
      "countryregioncode     6\n",
      "group                 3\n",
      "salesytd             10\n",
      "saleslastyear        10\n",
      "costytd               1\n",
      "costlastyear          1\n",
      "rowguid              10\n",
      "modifieddate          1\n",
      "dtype: int64\n"
     ]
    }
   ],
   "source": [
    "# Valores únicos por coluna, para verificar se colunas como flags, normalmente booleanas, possuem apenas 1 ou 2 valores.\n",
    "\n",
    "valores_unicos = sales_salesterritory.nunique(dropna=False)\n",
    "\n",
    "print(\"Valores únicos incluindo NaN:\")\n",
    "print(valores_unicos)"
   ]
  },
  {
   "cell_type": "code",
   "execution_count": 13,
   "metadata": {},
   "outputs": [
    {
     "name": "stdout",
     "output_type": "stream",
     "text": [
      "Colunas com apenas 1 valor único:\n",
      "costytd: <IntegerArray>\n",
      "[0]\n",
      "Length: 1, dtype: Int64\n",
      "costlastyear: <IntegerArray>\n",
      "[0]\n",
      "Length: 1, dtype: Int64\n",
      "modifieddate: <DatetimeArray>\n",
      "['2008-04-30 00:00:00+00:00']\n",
      "Length: 1, dtype: datetime64[us, UTC]\n"
     ]
    }
   ],
   "source": [
    "# Identificar colunas com apenas 1 valor único (incluindo NaN)\n",
    "colunas_com_1_valor = valores_unicos[valores_unicos == 1].index\n",
    "\n",
    "# Exibir os valores únicos dessas colunas\n",
    "print(\"Colunas com apenas 1 valor único:\")\n",
    "for col in colunas_com_1_valor:\n",
    "    valor_unico = sales_salesterritory[col].unique()\n",
    "    print(f\"{col}: {valor_unico}\")\n"
   ]
  },
  {
   "cell_type": "code",
   "execution_count": 14,
   "metadata": {},
   "outputs": [
    {
     "name": "stdout",
     "output_type": "stream",
     "text": [
      "Colunas restantes no DataFrame:\n",
      "['territoryid', 'name', 'countryregioncode', 'group', 'salesytd', 'saleslastyear', 'rowguid', 'modifieddate']\n",
      "\n",
      "DataFrame atualizado:\n",
      "     territoryid            name countryregioncode          group    salesytd  saleslastyear                               rowguid              modifieddate\n",
      "64             1       Northwest                US  North America  7887186.79     3298694.49  43689a10-e30b-497f-b0de-11de20267ff7 2008-04-30 00:00:00+00:00\n",
      "77             2       Northeast                US  North America  2402176.85     3607148.94  00fb7309-96cc-49e2-8363-0a1ba72486f2 2008-04-30 00:00:00+00:00\n",
      "90             3         Central                US  North America  3072175.12     3205014.08  df6e7fd8-1a8d-468c-b103-ed8addb452c1 2008-04-30 00:00:00+00:00\n",
      "103            4       Southwest                US  North America 10510853.87     5366575.71  dc3e9ea0-7950-4431-9428-99dbcbc33865 2008-04-30 00:00:00+00:00\n",
      "116            5       Southeast                US  North America  2538667.25     3925071.43  6dc4165a-5e4c-42d2-809d-4344e0ac75e7 2008-04-30 00:00:00+00:00\n",
      "129            6          Canada                CA  North America  6771829.14     5693988.86  06b4af8a-1639-476e-9266-110461d66b00 2008-04-30 00:00:00+00:00\n",
      "12             7          France                FR         Europe  4772398.31     2396539.76  bf806804-9b4c-4b07-9d19-706f2e689552 2008-04-30 00:00:00+00:00\n",
      "25             8         Germany                DE         Europe  3805202.35     1307949.79  6d2450db-8159-414f-a917-e73ee91c38a9 2008-04-30 00:00:00+00:00\n",
      "51             9       Australia                AU        Pacific  5977814.92     2278548.98  602e612e-dfe9-41d9-b894-27e489747885 2008-04-30 00:00:00+00:00\n",
      "38            10  United Kingdom                GB         Europe  5012905.37     1635823.40  05fc7e1f-2dea-414e-9ecd-09d150516fb5 2008-04-30 00:00:00+00:00\n"
     ]
    }
   ],
   "source": [
    "# Identificar colunas com valor único igual a 0\n",
    "colunas_para_remover = [col for col in sales_salesterritory.columns if sales_salesterritory[col].nunique() == 1 and sales_salesterritory[col].unique()[0] == 0]\n",
    "\n",
    "sales_salesterritory = sales_salesterritory.drop(columns=colunas_para_remover)\n",
    "\n",
    "print(\"Colunas restantes no DataFrame:\")\n",
    "print(sales_salesterritory.columns.tolist())\n",
    "\n",
    "print(\"\\nDataFrame atualizado:\")\n",
    "print(sales_salesterritory)\n",
    "\n",
    "\n",
    "#doc*: as colunas costytf e Length apresentaram todas as linhas com o valor 0, portanto, sem valor agregado as análises - colunas deletadas\n",
    "#      mantive a coluna modifieddate, por se tratar de datas e ser fundamental em análises futuras"
   ]
  },
  {
   "cell_type": "code",
   "execution_count": 15,
   "metadata": {},
   "outputs": [
    {
     "name": "stdout",
     "output_type": "stream",
     "text": [
      "<class 'pandas.core.frame.DataFrame'>\n",
      "Index: 10 entries, 64 to 38\n",
      "Data columns (total 8 columns):\n",
      " #   Column             Non-Null Count  Dtype              \n",
      "---  ------             --------------  -----              \n",
      " 0   territoryid        10 non-null     Int64              \n",
      " 1   name               10 non-null     object             \n",
      " 2   countryregioncode  10 non-null     object             \n",
      " 3   group              10 non-null     object             \n",
      " 4   salesytd           10 non-null     float64            \n",
      " 5   saleslastyear      10 non-null     float64            \n",
      " 6   rowguid            10 non-null     object             \n",
      " 7   modifieddate       10 non-null     datetime64[us, UTC]\n",
      "dtypes: Int64(1), datetime64[us, UTC](1), float64(2), object(4)\n",
      "memory usage: 730.0+ bytes\n"
     ]
    }
   ],
   "source": [
    "sales_salesterritory.info()"
   ]
  },
  {
   "cell_type": "code",
   "execution_count": 16,
   "metadata": {},
   "outputs": [
    {
     "name": "stdout",
     "output_type": "stream",
     "text": [
      "                qtde.       %\n",
      "name                         \n",
      "Northwest           1  10.00%\n",
      "Northeast           1  10.00%\n",
      "Central             1  10.00%\n",
      "Southwest           1  10.00%\n",
      "Southeast           1  10.00%\n",
      "Canada              1  10.00%\n",
      "France              1  10.00%\n",
      "Germany             1  10.00%\n",
      "Australia           1  10.00%\n",
      "United Kingdom      1  10.00%\n",
      "                   qtde.       %\n",
      "countryregioncode               \n",
      "US                     5  50.00%\n",
      "CA                     1  10.00%\n",
      "FR                     1  10.00%\n",
      "DE                     1  10.00%\n",
      "AU                     1  10.00%\n",
      "GB                     1  10.00%\n",
      "               qtde.       %\n",
      "group                       \n",
      "North America      6  60.00%\n",
      "Europe             3  30.00%\n",
      "Pacific            1  10.00%\n"
     ]
    }
   ],
   "source": [
    "#avaliando as variáveis qualitativas*\n",
    "\n",
    "coluna_quantitativa = [\"name\", \"countryregioncode\", \"group\"]\n",
    "for col in coluna_quantitativa:\n",
    "    counts = sales_salesterritory[col].value_counts().nlargest(10)\n",
    "    percentages = (counts / sales_salesterritory.shape[0] * 100).map(\"{:.2f}%\".format)\n",
    "    summary = pd.DataFrame({\"qtde.\": counts, \"%\": percentages})\n",
    "    print(summary)    \n",
    "\n",
    "\n",
    "#doc*: variáveis qualitativas são um tipo de variável estatística que representam características ou atributos dos dados, sem serem medidas numericamente\n",
    "#      no nosso caso, name, countryregioncode, group, por exemplo"
   ]
  },
  {
   "cell_type": "code",
   "execution_count": 17,
   "metadata": {},
   "outputs": [
    {
     "name": "stderr",
     "output_type": "stream",
     "text": [
      "C:\\Users\\wrpen\\AppData\\Local\\Temp\\ipykernel_7608\\942591831.py:8: FutureWarning: \n",
      "\n",
      "Passing `palette` without assigning `hue` is deprecated and will be removed in v0.14.0. Assign the `x` variable to `hue` and set `legend=False` for the same effect.\n",
      "\n",
      "  ax = sns.barplot(x=group_counts.index, y=group_counts.values, palette='viridis')\n"
     ]
    },
    {
     "data": {
      "image/png": "[encoded data removed]",
      "text/plain": [
       "<Figure size 800x500 with 1 Axes>"
      ]
     },
     "metadata": {},
     "output_type": "display_data"
    }
   ],
   "source": [
    "#dominância geográfica*\n",
    "\n",
    "group_counts = sales_salesterritory['group'].value_counts()\n",
    "\n",
    "\n",
    "sns.set(style='ticks', rc={\"axes.facecolor\": \"black\", \"figure.facecolor\": \"black\"})\n",
    "plt.figure(figsize=(8, 5))\n",
    "ax = sns.barplot(x=group_counts.index, y=group_counts.values, palette='viridis')\n",
    "plt.title(\"Distribuição de Grupos\", color='white', fontsize=14)\n",
    "plt.xlabel(\"Grupo\", color='white', fontsize=12)\n",
    "plt.ylabel(\"\", fontsize=12)  \n",
    "plt.xticks(color='white', fontsize=10)\n",
    "ax.tick_params(axis='y', left=False, labelleft=False)\n",
    "ax.grid(False)\n",
    "\n",
    "for container in ax.containers:\n",
    "    ax.bar_label(container, fmt='%d', color='white', fontsize=10, label_type='edge')\n",
    "\n",
    "plt.show()\n",
    "\n",
    "\n",
    "\n",
    "#doc*: a região North America domina com 60% das ocorrências no grupo,\n",
    "#      o código de país US representa 50% dos dados e CA repsenta 10%  "
   ]
  },
  {
   "cell_type": "code",
   "execution_count": 18,
   "metadata": {},
   "outputs": [
    {
     "data": {
      "image/png": "[encoded data removed]",
      "text/plain": [
       "<Figure size 1000x600 with 1 Axes>"
      ]
     },
     "metadata": {},
     "output_type": "display_data"
    }
   ],
   "source": [
    "# alinhamento de grupos com países*\n",
    "\n",
    "group_country = sales_salesterritory.groupby(['group', 'countryregioncode']).size().unstack(fill_value=0)\n",
    "\n",
    "# Heatmap para visualização\n",
    "plt.figure(figsize=(10, 6))\n",
    "sns.heatmap(group_country, annot=True, fmt='d', cmap='coolwarm', cbar=False)\n",
    "plt.title(\"Alinhamento de Grupos com Países\", color='white', fontsize=14)\n",
    "plt.xlabel(\"Código de País\", color='white', fontsize=12)\n",
    "plt.ylabel(\"Grupo\", color='white', fontsize=12)\n",
    "plt.xticks(color='white', fontsize=10)\n",
    "plt.yticks(color='white', fontsize=10)\n",
    "\n",
    "plt.show()\n",
    "\n",
    "\n",
    "#doc*: identificar quais países pertencem a quais grupos e se há algum desequilíbrio na distribuição (North America: US=5;CA=1)\n",
    "#      entender a relação entre grupos e países ajuda a otimizar operações regionais, ajustar estratégias de marketing e identificar áreas de oportunidades de crescimento.\n",
    "#      grupos sub-representados em países específicos podem indicar mercados a serem explorados"
   ]
  },
  {
   "cell_type": "code",
   "execution_count": 19,
   "metadata": {},
   "outputs": [
    {
     "data": {
      "image/png": "[encoded data removed]",
      "text/plain": [
       "<Figure size 1200x600 with 1 Axes>"
      ]
     },
     "metadata": {},
     "output_type": "display_data"
    }
   ],
   "source": [
    "# Desempenho de vendas por grupo*\n",
    "\n",
    "#soma salesytd e saleslastyear**\n",
    "group_performance = sales_salesterritory.groupby('group')[['salesytd', 'saleslastyear']].sum()\n",
    "\n",
    "fig, ax = plt.subplots(figsize=(12, 6))\n",
    "group_performance.plot(kind='bar', color=['blue', 'green'], edgecolor='black', ax=ax)\n",
    "plt.title(\"Desempenho de Vendas por Grupo\", color='white', fontsize=14)\n",
    "plt.xlabel(\"Grupo\", color='white', fontsize=12)\n",
    "plt.ylabel(\"Vendas\", color='white', fontsize=12)\n",
    "plt.xticks(color='white', fontsize=10, rotation=0)\n",
    "ax.yaxis.set_visible(False)\n",
    "plt.legend(['Vendas YTD', 'Vendas Ano Passado'], fontsize=10, loc='upper left')\n",
    "\n",
    "for container in ax.containers:\n",
    "    labels = [f'{value / 1_000_000:.2f}M' for value in container.datavalues]\n",
    "    ax.bar_label(container, labels=labels, label_type='edge', color='white', fontsize=10)\n",
    "\n",
    "plt.show()\n",
    "\n",
    "\n",
    "\n",
    "#doc*: comparar o desempenho de vendas entre os diferentes grupos com base nas métricas \"salesytd\" (vendas acumuladas no ano) e \"saleslastyear\" (vendas do ano passado)\n",
    "#      grupos com desempenho consistente indicam estabilidade e podem ser mantidos\n",
    "#      grupos com queda nas vendas requerem atenção para identificar e corrigir problemas\n",
    "\n",
    "\n",
    "#doc: vendas YTD (Year-to-Date): representa o total acumulado de vendas desde o início do ano até a data atual.Útil para avaliar o desempenho atual em relação ao ano anterior\n",
    "#       vendas do Ano Passado (Last Year): refere-se ao total de vendas realizadas durante o ano anterior completo. Comparação para identificar tendências de crescimento ou declínio ao longo do tempo\n",
    "\n",
    "\n",
    "#doc: as colunas 'salesytd' e 'saleslastyear' não são calculadas dinamicamente,elas representam valores acumulados registrados na base de dados até a data \n",
    "#     informada em 'modifieddate', que é 2008-04-30 para todos os registros"
   ]
  },
  {
   "cell_type": "code",
   "execution_count": 20,
   "metadata": {},
   "outputs": [
    {
     "name": "stderr",
     "output_type": "stream",
     "text": [
      "C:\\Users\\wrpen\\AppData\\Local\\Temp\\ipykernel_7608\\3527384601.py:5: FutureWarning: \n",
      "\n",
      "Passing `palette` without assigning `hue` is deprecated and will be removed in v0.14.0. Assign the `x` variable to `hue` and set `legend=False` for the same effect.\n",
      "\n",
      "  ax = sns.barplot(x=country_performance.index, y=country_performance.values, palette='mako')\n"
     ]
    },
    {
     "data": {
      "image/png": "[encoded data removed]",
      "text/plain": [
       "<Figure size 1000x600 with 1 Axes>"
      ]
     },
     "metadata": {},
     "output_type": "display_data"
    }
   ],
   "source": [
    "# Receita total por país*\n",
    "country_performance = sales_salesterritory.groupby('countryregioncode')['salesytd'].sum().sort_values(ascending=False)\n",
    "\n",
    "plt.figure(figsize=(10, 6))\n",
    "ax = sns.barplot(x=country_performance.index, y=country_performance.values, palette='mako')\n",
    "plt.title(\"Receita Total por País\", color='white', fontsize=14)\n",
    "plt.xlabel(\"Código de País\", color='white', fontsize=12)\n",
    "plt.ylabel(\"\", fontsize=12)  \n",
    "plt.xticks(color='white', fontsize=10)\n",
    "ax.tick_params(axis='y', left=False, labelleft=False)\n",
    "\n",
    "for container in ax.containers:\n",
    "    labels = [f'{value / 1_000_000:.2f}M' for value in container.datavalues]\n",
    "    ax.bar_label(container, labels=labels, label_type='edge', color='white', fontsize=10)\n",
    "    \n",
    "plt.show()\n",
    "\n",
    "\n",
    "\n",
    "# doc*:representação da receita total (SalesYTD) acumulada por país, destacando quais nações geraram mais receita,\n",
    "#      ajuda a entender a distribuição geográfica das vendas e a identificar mercados mais lucrativos para a empresa\n",
    "\n",
    "# doc: países com maior receita, como os no topo do gráfico, são os principais contribuintes para o faturamento,\n",
    "#      comparação direta entre países auxilia na análise de desempenho regional e na alocação de recursos\n",
    "\n",
    "#doc: a coluna 'salesytd' não é calculada dinamicamente,ela representa valores acumulados registrados na base de dados até a data \n",
    "#     informada em 'modifieddate', que é 2008-04-30 para todos os registros"
   ]
  },
  {
   "cell_type": "code",
   "execution_count": 21,
   "metadata": {},
   "outputs": [
    {
     "name": "stdout",
     "output_type": "stream",
     "text": [
      "<class 'pandas.core.frame.DataFrame'>\n",
      "Index: 10 entries, 64 to 38\n",
      "Data columns (total 8 columns):\n",
      " #   Column             Non-Null Count  Dtype              \n",
      "---  ------             --------------  -----              \n",
      " 0   territoryid        10 non-null     Int64              \n",
      " 1   name               10 non-null     object             \n",
      " 2   countryregioncode  10 non-null     object             \n",
      " 3   group              10 non-null     object             \n",
      " 4   salesytd           10 non-null     float64            \n",
      " 5   saleslastyear      10 non-null     float64            \n",
      " 6   rowguid            10 non-null     object             \n",
      " 7   modifieddate       10 non-null     datetime64[us, UTC]\n",
      "dtypes: Int64(1), datetime64[us, UTC](1), float64(2), object(4)\n",
      "memory usage: 730.0+ bytes\n"
     ]
    }
   ],
   "source": [
    "sales_salesterritory.info()"
   ]
  },
  {
   "cell_type": "code",
   "execution_count": 22,
   "metadata": {},
   "outputs": [
    {
     "name": "stdout",
     "output_type": "stream",
     "text": [
      "         salesytd  saleslastyear\n",
      "count       10.00          10.00\n",
      "mean   5275121.00     3271535.54\n",
      "std    2582995.81     1456222.08\n",
      "min    2402176.85     1307949.79\n",
      "25%    3255431.93     2308046.67\n",
      "50%    4892651.84     3251854.29\n",
      "75%    6573325.58     3845590.81\n",
      "max   10510853.87     5693988.86\n",
      "\n",
      "Coluna: salesytd\n",
      "Limite inferior: -1721408.5594500005, Limite superior: 11550166.06695\n",
      "Outliers detectados (0):\n",
      "Empty DataFrame\n",
      "Columns: [salesytd]\n",
      "Index: []\n",
      "\n",
      "Coluna: saleslastyear\n",
      "Limite inferior: 1730.4708750001155, Limite superior: 6151907.010475\n",
      "Outliers detectados (0):\n",
      "Empty DataFrame\n",
      "Columns: [saleslastyear]\n",
      "Index: []\n"
     ]
    }
   ],
   "source": [
    "# Variáveis quantitativas*\n",
    "\n",
    "# Identificar colunas numéricas para análise de outliers\n",
    "numeric_columns = ['salesytd', 'saleslastyear']\n",
    "\n",
    "# Estatísticas Descritivas das colunas numéricas*\n",
    "print(sales_salesterritory[numeric_columns].describe())\n",
    "\n",
    "# Cálculo de limites para outliers (IQR)**\n",
    "for col in numeric_columns:\n",
    "    q1 = sales_salesterritory[col].quantile(0.25)\n",
    "    q3 = sales_salesterritory[col].quantile(0.75)\n",
    "    iqr = q3 - q1\n",
    "    lower_bound = q1 - 1.5 * iqr\n",
    "    upper_bound = q3 + 1.5 * iqr\n",
    "    \n",
    "    # Exibir os limites\n",
    "    print(f\"\\nColuna: {col}\")\n",
    "    print(f\"Limite inferior: {lower_bound}, Limite superior: {upper_bound}\")\n",
    "    \n",
    "    # Detecção e Análise de Outliers***\n",
    "    outliers = sales_salesterritory[(sales_salesterritory[col] < lower_bound) | (sales_salesterritory[col] > upper_bound)]\n",
    "    print(f\"Outliers detectados ({len(outliers)}):\")\n",
    "    print(outliers[[col]])\n",
    "\n",
    "\n",
    "#doc*: variáveis quantitativas são um tipo de dado que pode ser representado por números e medidas objetivas\n",
    "#doc*: realizar estatísticas descritivas para entender a centralidade e variação dos dados (valores médios, mínimos, máximos, etc.)\n",
    "#doc**: calcular limites para identificar outliers (valores extremos que podem indicar erros ou casos excepcionais nos dados)\n",
    "#doc***: verificar a existência de outliers para decidir ações como remoção, substituição ou tratamento, garantindo qualidade dos dados\n",
    "#doc****: as colunas analisadas não apresentam outliers, pois os dados estão dentro dos limites esperados, sugerindo que não há necessidade de tratamento adicional para valores extremos,\n",
    "#         isso indica boa qualidade dos dados para essas variáveis e que elas estão prontas para serem exportadas ou utilizadas em análises e modelos"
   ]
  },
  {
   "cell_type": "code",
   "execution_count": 23,
   "metadata": {},
   "outputs": [
    {
     "name": "stderr",
     "output_type": "stream",
     "text": [
      "c:\\Users\\wrpen\\OneDrive\\Desktop\\df_lh\\.venv\\lib\\site-packages\\seaborn\\categorical.py:700: UserWarning: Setting the 'color' property will override the edgecolor or facecolor properties.\n",
      "  artists = ax.bxp(**boxplot_kws)\n",
      "c:\\Users\\wrpen\\OneDrive\\Desktop\\df_lh\\.venv\\lib\\site-packages\\seaborn\\categorical.py:700: UserWarning: Setting the 'color' property will override the edgecolor or facecolor properties.\n",
      "  artists = ax.bxp(**boxplot_kws)\n"
     ]
    },
    {
     "data": {
      "image/png": "[encoded data removed]",
      "text/plain": [
       "<Figure size 1000x1200 with 2 Axes>"
      ]
     },
     "metadata": {},
     "output_type": "display_data"
    }
   ],
   "source": [
    "# Configurar o  gráfico\n",
    "sns.set(style='darkgrid', rc={\"axes.facecolor\": \"black\", \"figure.facecolor\": \"black\"})\n",
    "\n",
    "# Lista das colunas para análise\n",
    "columns_to_plot = ['salesytd', 'saleslastyear']\n",
    "\n",
    "sales_salesterritory[columns_to_plot] = sales_salesterritory[columns_to_plot] / 1_000_000\n",
    "\n",
    "fig, axes = plt.subplots(len(columns_to_plot), 1, figsize=(10, 12))\n",
    "\n",
    "for ax, col in zip(axes, columns_to_plot):\n",
    "    quartiles = sales_salesterritory.groupby('group')[col].quantile([0.25, 0.50, 0.75]).unstack()\n",
    "    sns.boxplot(\n",
    "        x='group', y=col, data=sales_salesterritory, ax=ax, showmeans=True,\n",
    "        meanprops={\"marker\": \"o\", \"markerfacecolor\": \"white\", \"markeredgecolor\": \"black\", \"markersize\": 6},\n",
    "        boxprops={\"color\": \"blue\"}, whiskerprops={\"color\": \"blue\"}, capprops={\"color\": \"blue\"},\n",
    "        medianprops={\"color\": \"red\"}, flierprops={\"markerfacecolor\": \"yellow\", \"markersize\": 6}\n",
    "    )\n",
    "    ax.set_title(f'Distribuição de {col} por Grupo (em milhões)', color='white', fontsize=14)\n",
    "    ax.set_xlabel(\"Grupo\", color='white', fontsize=12)\n",
    "    ax.set_ylabel(\"\", fontsize=12)  \n",
    "    ax.tick_params(axis='x', colors='white', labelrotation=45, labelsize=10)\n",
    "    ax.tick_params(axis='y', colors='white', left=False)  \n",
    "    ax.grid(False)\n",
    "\n",
    "    for group, values in quartiles.iterrows():\n",
    "        if values.notnull().all(): \n",
    "            x_pos = list(sales_salesterritory['group'].unique()).index(group)  \n",
    "            offset = 0.42\n",
    "            for i, quartile in enumerate(values):\n",
    "                y_pos = quartile\n",
    "                ax.text(x=x_pos + offset, y=y_pos, s=f\"{quartile:.2f}M\", ha='left', va='center', fontsize=10, color='white')\n",
    "\n",
    "plt.tight_layout()\n",
    "plt.show()"
   ]
  },
  {
   "cell_type": "code",
   "execution_count": 24,
   "metadata": {},
   "outputs": [],
   "source": [
    "# Atualizar o dicionário df_processados com o df ajustado\n",
    "df_processados['sales_salesterritory'] = sales_salesterritory"
   ]
  },
  {
   "cell_type": "code",
   "execution_count": 25,
   "metadata": {},
   "outputs": [
    {
     "data": {
      "text/html": [
       "<div>\n",
       "<style scoped>\n",
       "    .dataframe tbody tr th:only-of-type {\n",
       "        vertical-align: middle;\n",
       "    }\n",
       "\n",
       "    .dataframe tbody tr th {\n",
       "        vertical-align: top;\n",
       "    }\n",
       "\n",
       "    .dataframe thead th {\n",
       "        text-align: right;\n",
       "    }\n",
       "</style>\n",
       "<table border=\"1\" class=\"dataframe\">\n",
       "  <thead>\n",
       "    <tr style=\"text-align: right;\">\n",
       "      <th></th>\n",
       "      <th>territoryid</th>\n",
       "      <th>name</th>\n",
       "      <th>countryregioncode</th>\n",
       "      <th>group</th>\n",
       "      <th>salesytd</th>\n",
       "      <th>saleslastyear</th>\n",
       "      <th>rowguid</th>\n",
       "      <th>modifieddate</th>\n",
       "    </tr>\n",
       "  </thead>\n",
       "  <tbody>\n",
       "    <tr>\n",
       "      <th>64</th>\n",
       "      <td>1</td>\n",
       "      <td>Northwest</td>\n",
       "      <td>US</td>\n",
       "      <td>North America</td>\n",
       "      <td>7.89</td>\n",
       "      <td>3.30</td>\n",
       "      <td>43689a10-e30b-497f-b0de-11de20267ff7</td>\n",
       "      <td>2008-04-30 00:00:00+00:00</td>\n",
       "    </tr>\n",
       "    <tr>\n",
       "      <th>77</th>\n",
       "      <td>2</td>\n",
       "      <td>Northeast</td>\n",
       "      <td>US</td>\n",
       "      <td>North America</td>\n",
       "      <td>2.40</td>\n",
       "      <td>3.61</td>\n",
       "      <td>00fb7309-96cc-49e2-8363-0a1ba72486f2</td>\n",
       "      <td>2008-04-30 00:00:00+00:00</td>\n",
       "    </tr>\n",
       "    <tr>\n",
       "      <th>90</th>\n",
       "      <td>3</td>\n",
       "      <td>Central</td>\n",
       "      <td>US</td>\n",
       "      <td>North America</td>\n",
       "      <td>3.07</td>\n",
       "      <td>3.21</td>\n",
       "      <td>df6e7fd8-1a8d-468c-b103-ed8addb452c1</td>\n",
       "      <td>2008-04-30 00:00:00+00:00</td>\n",
       "    </tr>\n",
       "    <tr>\n",
       "      <th>103</th>\n",
       "      <td>4</td>\n",
       "      <td>Southwest</td>\n",
       "      <td>US</td>\n",
       "      <td>North America</td>\n",
       "      <td>10.51</td>\n",
       "      <td>5.37</td>\n",
       "      <td>dc3e9ea0-7950-4431-9428-99dbcbc33865</td>\n",
       "      <td>2008-04-30 00:00:00+00:00</td>\n",
       "    </tr>\n",
       "    <tr>\n",
       "      <th>116</th>\n",
       "      <td>5</td>\n",
       "      <td>Southeast</td>\n",
       "      <td>US</td>\n",
       "      <td>North America</td>\n",
       "      <td>2.54</td>\n",
       "      <td>3.93</td>\n",
       "      <td>6dc4165a-5e4c-42d2-809d-4344e0ac75e7</td>\n",
       "      <td>2008-04-30 00:00:00+00:00</td>\n",
       "    </tr>\n",
       "  </tbody>\n",
       "</table>\n",
       "</div>"
      ],
      "text/plain": [
       "     territoryid       name countryregioncode          group  salesytd  saleslastyear                               rowguid              modifieddate\n",
       "64             1  Northwest                US  North America      7.89           3.30  43689a10-e30b-497f-b0de-11de20267ff7 2008-04-30 00:00:00+00:00\n",
       "77             2  Northeast                US  North America      2.40           3.61  00fb7309-96cc-49e2-8363-0a1ba72486f2 2008-04-30 00:00:00+00:00\n",
       "90             3    Central                US  North America      3.07           3.21  df6e7fd8-1a8d-468c-b103-ed8addb452c1 2008-04-30 00:00:00+00:00\n",
       "103            4  Southwest                US  North America     10.51           5.37  dc3e9ea0-7950-4431-9428-99dbcbc33865 2008-04-30 00:00:00+00:00\n",
       "116            5  Southeast                US  North America      2.54           3.93  6dc4165a-5e4c-42d2-809d-4344e0ac75e7 2008-04-30 00:00:00+00:00"
      ]
     },
     "execution_count": 25,
     "metadata": {},
     "output_type": "execute_result"
    }
   ],
   "source": [
    "sales_salesterritory.head()"
   ]
  },
  {
   "cell_type": "code",
   "execution_count": 26,
   "metadata": {},
   "outputs": [
    {
     "name": "stdout",
     "output_type": "stream",
     "text": [
      "     territoryid       name countryregioncode          group  salesytd  saleslastyear                               rowguid              modifieddate\n",
      "64             1  NORTHWEST                US  NORTH AMERICA      7.89           3.30  43689A10-E30B-497F-B0DE-11DE20267FF7 2008-04-30 00:00:00+00:00\n",
      "77             2  NORTHEAST                US  NORTH AMERICA      2.40           3.61  00FB7309-96CC-49E2-8363-0A1BA72486F2 2008-04-30 00:00:00+00:00\n",
      "90             3    CENTRAL                US  NORTH AMERICA      3.07           3.21  DF6E7FD8-1A8D-468C-B103-ED8ADDB452C1 2008-04-30 00:00:00+00:00\n",
      "103            4  SOUTHWEST                US  NORTH AMERICA     10.51           5.37  DC3E9EA0-7950-4431-9428-99DBCBC33865 2008-04-30 00:00:00+00:00\n",
      "116            5  SOUTHEAST                US  NORTH AMERICA      2.54           3.93  6DC4165A-5E4C-42D2-809D-4344E0AC75E7 2008-04-30 00:00:00+00:00\n"
     ]
    }
   ],
   "source": [
    "# Padronizar colunas com valores textuais\n",
    "sales_salesterritory['name'] = sales_salesterritory['name'].str.strip().str.upper()\n",
    "sales_salesterritory['countryregioncode'] = sales_salesterritory['countryregioncode'].str.strip().str.upper()\n",
    "sales_salesterritory['group'] = sales_salesterritory['group'].str.strip().str.upper()\n",
    "sales_salesterritory['rowguid'] = sales_salesterritory['rowguid'].str.strip().str.upper()\n",
    "\n",
    "print(sales_salesterritory.head())\n",
    "\n",
    "#doc: padronizar as strings nessa etapa, contribui para a execução das demais etapas do pipeline"
   ]
  },
  {
   "cell_type": "code",
   "execution_count": 27,
   "metadata": {},
   "outputs": [
    {
     "name": "stdout",
     "output_type": "stream",
     "text": [
      "Tabela sales_salesterritory exportada com sucesso para desafioadventureworks-446600.raw_data_cleaned.sales_salesterritory.\n"
     ]
    }
   ],
   "source": [
    "# Garantir que apenas tabelas únicas sejam exportadas\n",
    "unique_df_processados = {k: v for k, v in df_processados.items()}\n",
    "\n",
    "# Exportar tabelas para o BigQuery\n",
    "for table_name, df_cleaned in unique_df_processados.items():\n",
    " \n",
    "    output_table = f\"{output_dataset}.{table_name}\"\n",
    "   \n",
    "    job_config = bigquery.LoadJobConfig(\n",
    "        write_disposition=\"WRITE_TRUNCATE\"  \n",
    "    )\n",
    "    \n",
    "    job = client.load_table_from_dataframe(df_cleaned, output_table, job_config=job_config)\n",
    "    job.result()\n",
    "\n",
    "    print(f\"Tabela {table_name} exportada com sucesso para {output_table}.\")"
   ]
  },
  {
   "cell_type": "markdown",
   "metadata": {},
   "source": []
  }
 ],
 "metadata": {
  "kernelspec": {
   "display_name": "venv",
   "language": "python",
   "name": "python3"
  },
  "language_info": {
   "codemirror_mode": {
    "name": "ipython",
    "version": 3
   },
   "file_extension": ".py",
   "mimetype": "text/x-python",
   "name": "python",
   "nbconvert_exporter": "python",
   "pygments_lexer": "ipython3",
   "version": "3.10.9"
  }
 },
 "nbformat": 4,
 "nbformat_minor": 2
}
