{
 "cells": [
  {
   "cell_type": "markdown",
   "metadata": {},
   "source": [
    "### SETUP INICIAL DO PROJETO"
   ]
  },
  {
   "cell_type": "code",
   "execution_count": null,
   "metadata": {},
   "outputs": [],
   "source": [
    "\n",
    "#importação das bibliotecase e pacotes necessários para a análise\n",
    "\n",
    "import json\n",
    "import numpy as np\n",
    "import os\n",
    "import pandas as pd\n",
    "import pandas_gbq as gbq\n",
    "import re\n",
    "import seaborn as sns\n",
    "import matplotlib.pyplot as plt\n",
    "from dotenv import load_dotenv\n",
    "from google.cloud import bigquery\n",
    "from google.cloud.bigquery_storage import BigQueryReadClient\n",
    "from google.oauth2 import service_account\n",
    "\n",
    "\n",
    "# Carrega o .env: onde estão as credenciais do projeto/repositório\n",
    "load_dotenv(\"/mnt/c/Users/wrpen/OneDrive/Desktop/df_lh/.env\")\n",
    "\n",
    "# Detectar ambiente: como eu estou usando wsl-ubuntu, no VS Code  -  Windows, estava dando conflitos de path\n",
    "if os.name == \"nt\":  # se Windows\n",
    "    credentials_path = r\"C:\\Temp\\desafiolh-445818-3cb0f62cb9ef.json\"\n",
    "else:  # se WSL/Linux\n",
    "    credentials_path = \"/mnt/c/Temp/desafiolh-445818-3cb0f62cb9ef.json\"\n",
    "\n",
    "# Parâmetros injetados pelo Papermill ou definidos manualmente, caso não existam no ambiente\n",
    "# Tables_to_process: lista de tabelas que serão processadas\n",
    "# Output_dataset: nome do dataset onde os dados processados serão armazenados, neste caso, raw_data_cleaned\n",
    "if 'tables_to_process' not in locals():\n",
    "    tables_to_process = [\n",
    "        \"desafioadventureworks-446600.stg_marts_tables.dim_product_forecast\"  ,\n",
    "        \"desafioadventureworks-446600.stg_marts_tables.dim_product_seasonality\",\n",
    "        \"desafioadventureworks-446600.stg_staging_tables.stg_production_product\",\n",
    "        \"desafioadventureworks-446600.stg_staging_tables.stg_sales_store\"\n",
    "\n",
    "    ]\n",
    "\n",
    "if 'output_dataset' not in locals():\n",
    "    output_dataset = \"desafioadventureworks-446600.stg_marts_tables\"\n",
    "\n",
    "# Configs do cliente BigQuery: input de project e location de acordo com dados no Bigquery\n",
    "credentials = service_account.Credentials.from_service_account_file(credentials_path)\n",
    "client = bigquery.Client(credentials=credentials, project=os.getenv(\"BIGQUERY_PROJECT\"), location=\"us-central1\")\n"
   ]
  },
  {
   "cell_type": "code",
   "execution_count": null,
   "metadata": {},
   "outputs": [],
   "source": [
    "# Print com a tabela que vai ser processada nesse notebook\n",
    "\n",
    "print(\"Tabelas a processar:\", tables_to_process)"
   ]
  },
  {
   "cell_type": "markdown",
   "metadata": {},
   "source": [
    "# Exploratory Data Analysis (EDA) e Data Cleaning"
   ]
  },
  {
   "cell_type": "markdown",
   "metadata": {},
   "source": [
    "### Glossário dos dados:\n",
    "\n",
    "O termo ''doc:'', situado no rodapé de algumas cells, indica algo como:\n",
    "\n",
    "- documentação: documentar decisões, análises e resultados;\n",
    "\n",
    "- abreviações de termos, como bkp, df, entre outros."
   ]
  },
  {
   "cell_type": "code",
   "execution_count": null,
   "metadata": {},
   "outputs": [],
   "source": [
    "# Configuração para que o df exiba todas as colunas e todas as linhas completas, e também, exiba o formato numérico com 2 dígitos após a vírgula\n",
    "\n",
    "pd.set_option('display.max_columns', None)\n",
    "#pd.set_option('display.max_rows', None)\n",
    "pd.set_option('display.max_colwidth', None)\n",
    "pd.set_option('display.width', 10000)\n",
    "pd.options.display.float_format = '{:.2f}'.format\n",
    "\n",
    "\n",
    "#doc: df = dataframe  "
   ]
  },
  {
   "cell_type": "code",
   "execution_count": null,
   "metadata": {},
   "outputs": [],
   "source": [
    "# Dicionário para armazenar os df processados\n",
    "df_processados = {}\n",
    "\n",
    "# Iteração das tabelas e armazenamento em df\n",
    "for input_table in tables_to_process:\n",
    "    print(f\"Processando tabela: {input_table}\")\n",
    "    \n",
    "    # Nome da tabela com substituição de '-' por '_'\n",
    "    table_name = input_table.split(\".\")[-1].replace(\"-\", \"_\")  \n",
    "    \n",
    "    # Ler os dados da tabela do BigQuery para um df\n",
    "    print(\"Lendo os dados do BigQuery...\")\n",
    "    query = f\"SELECT * FROM `{input_table}`\"\n",
    "    table_data = client.query(query).to_dataframe()\n",
    "    \n",
    "    # Armazenar o df no dicionário\n",
    "    df_processados[table_name] = table_data\n",
    "    print(f\"Tabela {table_name} processada e armazenada com sucesso.\")\n",
    "\n",
    "# Print de validação\n",
    "print(\"Todas as tabelas foram processadas com sucesso!\")\n"
   ]
  },
  {
   "cell_type": "code",
   "execution_count": null,
   "metadata": {},
   "outputs": [],
   "source": [
    "# Listar todas as variáveis criadas dinamicamente\n",
    "for table_name in df_processados.keys():\n",
    "    print(f\"Variável criada: {table_name}\")  "
   ]
  },
  {
   "cell_type": "code",
   "execution_count": null,
   "metadata": {},
   "outputs": [],
   "source": [
    "# Atribuir o df a uma variável com nome mais simples\n",
    "dim_product_forecast = df_processados['dim_product_forecast']\n",
    "\n",
    "print(f\"Colunas: {dim_product_forecast.shape[1]}\\nLinhas: {dim_product_forecast.shape[0]}\")"
   ]
  },
  {
   "cell_type": "code",
   "execution_count": null,
   "metadata": {},
   "outputs": [],
   "source": [
    "# Ordenar e exibir o df por 'productid_id'\n",
    "dim_product_forecast = dim_product_forecast.sort_values(by=['productid_id'])\n",
    "\n",
    "print(dim_product_forecast)"
   ]
  },
  {
   "cell_type": "code",
   "execution_count": null,
   "metadata": {},
   "outputs": [],
   "source": [
    "# Iterar por todas as colunas do df, para verificar valores ausentes\n",
    "\n",
    "# Verificar valores ausentes na coluna\n",
    "for column in dim_product_forecast.columns:   \n",
    "    missing_rows = dim_product_forecast[dim_product_forecast[column].isnull()]\n",
    "    print(f\"Coluna '{column}': {missing_rows.shape[0]} linhas ausentes.\")\n",
    "    \n",
    "# Mostrar as primeiras linhas ausentes, se preciso for, limitar o head() para dar menos outputs ou limitar os outputs\n",
    "    if not missing_rows.empty:\n",
    "        print(f\"Exibindo as primeiras linhas com valores ausentes em '{column}':\")\n",
    "        print(missing_rows.head(), \"\\n\")\n",
    "    else:\n",
    "        print(f\"Nenhuma linha com valores ausentes em '{column}'.\\n\")"
   ]
  },
  {
   "cell_type": "code",
   "execution_count": null,
   "metadata": {},
   "outputs": [],
   "source": [
    "# Valores únicos por coluna, para verificar se colunas como flags, normalmente booleanas, possuem apenas 1 ou 2 valores.\n",
    "\n",
    "valores_unicos = dim_product_forecast.nunique(dropna=False)\n",
    "\n",
    "print(\"Valores únicos incluindo NaN:\")\n",
    "print(valores_unicos)\n",
    "\n",
    "#doc: currentflag possue somente 1 valor, o que indica que pode ser somente valores True ou False."
   ]
  },
  {
   "cell_type": "code",
   "execution_count": null,
   "metadata": {},
   "outputs": [],
   "source": [
    "#verificar informações do df\n",
    "dim_product_forecast.info()"
   ]
  },
  {
   "cell_type": "code",
   "execution_count": null,
   "metadata": {},
   "outputs": [],
   "source": [
    "#Visão Geral da Previsão: \n",
    "\n",
    "# Total de demanda por loja*\n",
    "\n",
    "demand_by_store = dim_product_forecast.groupby('store_id')['forecast_quantity'].sum().reset_index()\n",
    "demand_by_store = demand_by_store.sort_values(by='forecast_quantity', ascending=False)\n",
    "\n",
    "print(demand_by_store.head(15))\n",
    "\n",
    "\n",
    "#doc*: soma da previsão de demanda agrupada por loja\n",
    "\n",
    "\n",
    "# Conclusões sobre a previsão de demanda por loja:\n",
    "\n",
    "# 1. A loja com o ID 4 possui a maior previsão de demanda (17,850,928.00), indicando ser a principal \n",
    "#    consumidora de produtos nos próximos 3 meses. Isso sugere que ela deve receber maior atenção\n",
    "#    na distribuição de produtos e planejamento de estoque.\n",
    "\n",
    "# 2. A loja com o ID 6 é a segunda maior em previsão de demanda (14,796,192.00), também se destacando\n",
    "#    como um centro importante para alocação de produtos.\n",
    "\n",
    "# 3. As lojas com IDs 1, 10 e 2 completam o top 5, apresentando demandas significativamente menores,\n",
    "#    mas ainda consideráveis. Estas lojas podem ser consideradas secundárias em termos de prioridade.\n",
    "\n",
    "# 4. A diferença entre as lojas com maior (ID 4) e menor (ID 8) demanda no top 10 é de aproximadamente\n",
    "#    15,184,704 unidades. Isso mostra uma concentração de demanda em certas lojas.\n",
    "\n",
    "# 5. O padrão de demanda evidencia que os esforços logísticos e de distribuição devem ser direcionados\n",
    "#    para lojas de alta demanda (principalmente IDs 4 e 6), enquanto as demais podem ser monitoradas\n",
    "#    com menos frequência.\n"
   ]
  },
  {
   "cell_type": "code",
   "execution_count": null,
   "metadata": {},
   "outputs": [],
   "source": [
    "# Gráfico ajustado de barras para lojas sem valores no eixo Y e com valores no topo das barras\n",
    "\n",
    "sns.set(style=\"white\")  # Fundo branco\n",
    "plt.figure(figsize=(10, 6))  # Ajustar o tamanho do gráfico\n",
    "\n",
    "sns.barplot(data=demand_by_store, x='store_id', y='forecast_quantity', palette='Blues_d')\n",
    "plt.title('Demanda Prevista por Loja')\n",
    "plt.xlabel('Loja (Store ID)')\n",
    "plt.ylabel('')  # Remover o rótulo do eixo Y\n",
    "\n",
    "# Remover valores do eixo Y\n",
    "plt.gca().yaxis.set_ticks([])\n",
    "\n",
    "# Adicionar valores no topo das barras com uma casa decimal\n",
    "for index, row in demand_by_store.iterrows():\n",
    "    plt.text(\n",
    "        x=index, \n",
    "        y=row['forecast_quantity'], \n",
    "        s=f\"{row['forecast_quantity']/1000000:.1f}M\", \n",
    "        ha='center', \n",
    "        va='bottom', \n",
    "        fontsize=10, \n",
    "        color='black'\n",
    "    )\n",
    "\n",
    "plt.show()\n"
   ]
  },
  {
   "cell_type": "code",
   "execution_count": null,
   "metadata": {},
   "outputs": [],
   "source": [
    "#Total de demanda por produto*:\n",
    "\n",
    "demand_by_product = dim_product_forecast.groupby('productid_id')['forecast_quantity'].sum().reset_index()\n",
    "demand_by_product = demand_by_product.sort_values(by='forecast_quantity', ascending=False)\n",
    "\n",
    "print(demand_by_product.head(10))\n",
    "\n",
    "\n",
    "\n",
    "\n",
    "# Conclusões sobre a previsão de demanda por produto:\n",
    "\n",
    "# 1. O produto com ID 712 possui a maior previsão de demanda (3,996,816.00), indicando que ele será o mais requisitado\n",
    "#    entre todos os produtos nos próximos 3 meses. Este produto deve ser priorizado na produção e reposição.\n",
    "\n",
    "# 2. O produto com ID 715 é o segundo em previsão de demanda (3,291,088.00), seguido pelos IDs 711 (3,199,136.00),\n",
    "#    708 (3,066,240.00) e 707 (2,890,224.00). Esses produtos compõem o top 5 em demanda prevista.\n",
    "\n",
    "# 3. A diferença entre o produto mais demandado (ID 712) e o quinto mais demandado (ID 707) é de aproximadamente\n",
    "#    1,106,592.00 unidades, indicando uma concentração de demanda significativa nos produtos mais procurados.\n",
    "\n",
    "# 4. A presença de produtos com alta demanda relativamente próxima indica que esses itens precisam ser monitorados\n",
    "#    como um grupo prioritário para ajustes em produção e estoque, dependendo das vendas reais.\n",
    "\n",
    "# 5. Produtos fora do top 5, como o ID 714 (1,729,872.00), ainda apresentam volumes consideráveis de demanda,\n",
    "#    mas podem ser considerados de prioridade secundária em um cenário de otimização de recursos.\n",
    "\n",
    "#doc: os dados são baseados em previsões de demanda nos próximos 3 meses, agrupados por produto.\n",
    "\n",
    "\n"
   ]
  },
  {
   "cell_type": "code",
   "execution_count": null,
   "metadata": {},
   "outputs": [],
   "source": [
    "# Ajustar estilo do gráfico\n",
    "sns.set(style=\"white\")  # Fundo branco\n",
    "plt.figure(figsize=(10, 6))  # Ajustar o tamanho do gráfico\n",
    "\n",
    "# Selecionar apenas os Top 10 produtos com maior demanda\n",
    "top_products = demand_by_product.sort_values(by='forecast_quantity', ascending=False).head(10)\n",
    "\n",
    "# Gráfico de barras verticais para produtos com ordenação\n",
    "ax = sns.barplot(\n",
    "    data=top_products, \n",
    "    x='productid_id', \n",
    "    y='forecast_quantity', \n",
    "    palette='Blues_d',\n",
    "    order=top_products['productid_id']\n",
    ")\n",
    "\n",
    "plt.title('Top 10 Produtos com Maior Demanda Prevista')\n",
    "plt.xlabel('Produto (Product ID)')\n",
    "plt.ylabel('')  # Remover o rótulo do eixo Y\n",
    "\n",
    "# Remover valores do eixo Y\n",
    "plt.gca().yaxis.set_ticks([])\n",
    "\n",
    "# Adicionar valores no topo das barras com uma casa decimal\n",
    "for bar in ax.patches:\n",
    "    ax.text(\n",
    "        x=bar.get_x() + bar.get_width() / 2, \n",
    "        y=bar.get_height(), \n",
    "        s=f\"{bar.get_height() / 1000000:.3f}M\", \n",
    "        ha='center', \n",
    "        va='bottom', \n",
    "        fontsize=10, \n",
    "        color='black'\n",
    "    )\n",
    "\n",
    "plt.show()\n"
   ]
  },
  {
   "cell_type": "markdown",
   "metadata": {},
   "source": [
    "## Sazonalidade - Produto ID == 712"
   ]
  },
  {
   "cell_type": "code",
   "execution_count": null,
   "metadata": {},
   "outputs": [],
   "source": [
    "# Atribuir o df a uma variável com nome mais simples\n",
    "dim_product_seasonality = df_processados['dim_product_seasonality']\n",
    "\n",
    "print(f\"Colunas: {dim_product_seasonality.shape[1]}\\nLinhas: {dim_product_seasonality.shape[0]}\")"
   ]
  },
  {
   "cell_type": "code",
   "execution_count": null,
   "metadata": {},
   "outputs": [],
   "source": [
    "dim_product_seasonality.head()"
   ]
  },
  {
   "cell_type": "code",
   "execution_count": null,
   "metadata": {},
   "outputs": [],
   "source": [
    "# Atribuir o df a uma variável com nome mais simples\n",
    "stg_production_product = df_processados['stg_production_product']\n",
    "\n",
    "print(f\"Colunas: {stg_production_product.shape[1]}\\nLinhas: {stg_production_product.shape[0]}\")"
   ]
  },
  {
   "cell_type": "code",
   "execution_count": null,
   "metadata": {},
   "outputs": [],
   "source": [
    "# Fazer o merge para adicionar o nome do produto\n",
    "dim_product_seasonality = dim_product_seasonality.merge(\n",
    "    stg_production_product, \n",
    "    how='left', \n",
    "    on='productid_id'\n",
    ")\n",
    "\n",
    "# Garantir que o produto com ID 712 está correto\n",
    "product_name = dim_product_seasonality[dim_product_seasonality['productid_id'] == 712]['product_nm'].iloc[0]\n"
   ]
  },
  {
   "cell_type": "code",
   "execution_count": null,
   "metadata": {},
   "outputs": [],
   "source": [
    "# Filtrar os dados para o produto 712\n",
    "filtered_product = dim_product_seasonality[dim_product_seasonality['productid_id'] == 712]\n",
    "\n",
    "# Obter o nome do produto (garantir que ele existe no merge)\n",
    "product_name = filtered_product['product_nm'].iloc[0] if not filtered_product.empty else \"Desconhecido\"\n",
    "\n",
    "# Criar uma coluna 'sale_month' para exibição no gráfico\n",
    "filtered_product['sale_month'] = filtered_product['year'].astype(str) + '-' + filtered_product['month'].astype(str).str.zfill(2)\n",
    "\n",
    "# Agrupar por 'sale_month' e somar a quantidade total vendida\n",
    "monthly_sales = filtered_product.groupby('sale_month')['total_quantity_sold'].sum().reset_index()\n",
    "\n",
    "# Ordenar os meses para garantir a sequência correta\n",
    "monthly_sales = monthly_sales.sort_values(by='sale_month')\n",
    "\n",
    "# Visualizar os dados em um gráfico de linhas com valores nos marcadores\n",
    "plt.figure(figsize=(12, 6))\n",
    "sns.lineplot(data=monthly_sales, x='sale_month', y='total_quantity_sold', marker='o')\n",
    "\n",
    "plt.title(f'Variação Mensal de Vendas - {product_name} (ID: 712)')\n",
    "plt.xlabel('Mês (Ano-Mês)')\n",
    "plt.ylabel('Quantidade Vendida')\n",
    "plt.xticks(rotation=45)  # Rotacionar os rótulos para melhor leitura\n",
    "plt.grid(visible=True, linestyle='--', alpha=0.5)\n",
    "\n",
    "# Adicionar os valores nos marcadores\n",
    "for i, row in monthly_sales.iterrows():\n",
    "    plt.text(\n",
    "        x=row['sale_month'], \n",
    "        y=row['total_quantity_sold'] + 15,  # Ajustar a posição acima do marcador\n",
    "        s=row['total_quantity_sold'], \n",
    "        ha='center', \n",
    "        fontsize=9, \n",
    "        color='black'\n",
    "    )\n",
    "\n",
    "plt.show()"
   ]
  },
  {
   "cell_type": "code",
   "execution_count": null,
   "metadata": {},
   "outputs": [],
   "source": [
    "# Conclusões sobre o gráfico de sazonalidade:\n",
    "\n",
    "# 1. O produto analisado é o \"AWC LOGO CAP\" (ID: 712).\n",
    "#    Este produto apresenta uma variação considerável na quantidade de vendas ao longo dos meses.\n",
    "\n",
    "# 2. Períodos de alta:\n",
    "#    - Observa-se um pico significativo de vendas em maio de 2013, alcançando 663 unidades.\n",
    "#    - Outros meses de destaque incluem junho de 2012 e junho de 2013, que também apresentam volumes elevados.\n",
    "\n",
    "# 3. Períodos de baixa:\n",
    "#    - Os meses de dezembro de 2011 e fevereiro de 2014 têm os volumes mais baixos, com 25 e 93 unidades vendidas, respectivamente.\n",
    "#    - É possível observar quedas acentuadas após os picos, indicando uma sazonalidade cíclica.\n",
    "\n",
    "# 4. Tendência sazonal:\n",
    "#    - O padrão de vendas sugere um comportamento sazonal com picos frequentes em meses próximos ao meio do ano (maio e junho).\n",
    "#    - Esses padrões podem estar relacionados a eventos sazonais, promoções ou alta demanda típica nesses períodos.\n",
    "\n",
    "# 5. Implicações para o planejamento:\n",
    "#    - A sazonalidade identificada indica que a produção e o estoque devem ser aumentados nos meses de alta demanda (maio-junho).\n",
    "#    - Para os meses de baixa demanda, um ajuste no planejamento de produção e distribuição pode reduzir custos e evitar excesso de estoque.\n"
   ]
  },
  {
   "cell_type": "markdown",
   "metadata": {},
   "source": [
    "# Questão 11"
   ]
  },
  {
   "cell_type": "code",
   "execution_count": null,
   "metadata": {},
   "outputs": [],
   "source": [
    "# agora a questão 11:\n",
    "\n",
    "# Um novo fornecedor de luvas, que agora engloba toda a produção mundial, precisa ter uma estimativa de quantos zíperes precisa pedir para os próximos 3 meses. Levando em consideração que são necessários 2 zíperes por par, quantos seriam necessários?\n",
    "\n",
    "# A abordagem será a seguinte:\n",
    "\n",
    "# Filtrar os produtos de luvas: Identificar quais registros correspondem a luvas no dataset. Para isso, usaremos a coluna product_nm ou uma característica relevante.\n",
    "# Prever a demanda futura para luvas: Utilizar o modelo para calcular a demanda para os próximos 3 meses, assim como foi feito para a demanda geral.\n",
    "# Calcular o total de zíperes necessários: Multiplicar a demanda de luvas por 2 (já que são necessários 2 zíperes por par).\n",
    "# Exibir o resultado: Retornar o valor total de zíperes.\n",
    "# Vamos começar? Se tiver alguma dúvida ou ajuste, é só avisar!"
   ]
  },
  {
   "cell_type": "code",
   "execution_count": null,
   "metadata": {},
   "outputs": [],
   "source": [
    "# Listar todas as variáveis definidas no ambiente atual (corrigido)\n",
    "variables_snapshot = list(globals().items())  # Criar uma cópia estática de globals()\n",
    "\n",
    "for var_name, var_value in variables_snapshot:\n",
    "    if isinstance(var_value, pd.DataFrame):\n",
    "        print(f\"DataFrame: {var_name} - Dimensão: {var_value.shape}\")\n"
   ]
  },
  {
   "cell_type": "code",
   "execution_count": null,
   "metadata": {},
   "outputs": [],
   "source": [
    "# Visualizar os primeiros registros do DataFrame stg_production_product\n",
    "print(\"\\nVisualizando os primeiros registros de stg_production_product:\")\n",
    "print(stg_production_product.head())\n",
    "print(\"\\nInformações sobre stg_production_product:\")\n",
    "print(stg_production_product.info())\n",
    "\n",
    "\n"
   ]
  },
  {
   "cell_type": "code",
   "execution_count": null,
   "metadata": {},
   "outputs": [],
   "source": [
    "# Sim, o stg_production_product parece ser o DataFrame ideal para obter informações sobre os produtos, incluindo os relacionados a luvas, considerando que contém detalhes como product_nm (nome do produto) e productnumber_cd (código do produto). Além disso, ele já possui informações relevantes para análise, como:\n",
    "\n",
    "# productid_id: Identificador único do produto.\n",
    "# product_nm: Nome do produto, essencial para identificar luvas.\n",
    "# listprice_vr: Preço listado.\n",
    "# safetystocklevel_nr e reorderpoint_tp: Dados úteis para estimativas relacionadas ao estoque.\n",
    "# Próximos passos:\n",
    "# Filtrar os produtos que correspondem a luvas (product_nm contendo \"GLOVES\").\n",
    "# Cruzar essas informações com o dim_product_forecast para prever a demanda dos próximos 3 meses.\n",
    "# Usar a previsão para calcular a quantidade de zíperes necessária.\n",
    "# Quer que eu prepare o script para filtrar os produtos \"GLOVES\" no stg_production_product?"
   ]
  },
  {
   "cell_type": "code",
   "execution_count": null,
   "metadata": {},
   "outputs": [],
   "source": [
    "# Filtrar produtos relacionados a \"GLOVES\" no stg_production_product\n",
    "gloves_products = stg_production_product[stg_production_product['product_nm'].str.contains(\"GLOVES\", case=False, na=False)]\n",
    "\n",
    "# Visualizar os primeiros registros dos produtos filtrados\n",
    "print(\"Produtos filtrados contendo 'GLOVES':\")\n",
    "print(gloves_products[['productid_id', 'product_nm', 'listprice_vr']].head(10))\n",
    "\n",
    "# Verificar a dimensão do dataset filtrado\n",
    "print(f\"Dimensão do dataset filtrado: {gloves_products.shape}\")\n"
   ]
  },
  {
   "cell_type": "code",
   "execution_count": null,
   "metadata": {},
   "outputs": [],
   "source": [
    "# Ótimo, já temos os produtos relacionados a \"GLOVES\" filtrados. Agora podemos cruzar essa informação com o dataset dim_product_forecast para obter a previsão de demanda desses produtos nos próximos 3 meses."
   ]
  },
  {
   "cell_type": "code",
   "execution_count": null,
   "metadata": {},
   "outputs": [],
   "source": [
    "# Visualizar os primeiros registros do DataFrame dim_product_forecast\n",
    "print(\"\\nVisualizando os primeiros registros de dim_product_forecast:\")\n",
    "print(dim_product_forecast.head())\n",
    "print(\"\\nInformações sobre dim_product_forecast:\")\n",
    "print(dim_product_forecast.info())\n",
    "\n",
    "\n"
   ]
  },
  {
   "cell_type": "code",
   "execution_count": null,
   "metadata": {},
   "outputs": [],
   "source": [
    "print(dim_product_forecast.head())"
   ]
  },
  {
   "cell_type": "code",
   "execution_count": 33,
   "metadata": {},
   "outputs": [
    {
     "name": "stdout",
     "output_type": "stream",
     "text": [
      "Produtos filtrados (GLOVES):\n",
      "        store_id  productid_id forecast_date  forecast_quantity\n",
      "72916          7           858    2025-01-07             740.00\n",
      "27670          3           858    2025-02-07             396.00\n",
      "87178          8           858    2025-03-07             660.00\n",
      "102403        10           858    2025-02-07             704.00\n",
      "75479          7           858    2025-02-07             740.00\n"
     ]
    }
   ],
   "source": [
    "# Filtrar apenas as previsões dos produtos \"GLOVES\"\n",
    "gloves_forecast = dim_product_forecast[dim_product_forecast['productid_id'].isin(gloves_products['productid_id'])]\n",
    "print(\"Produtos filtrados (GLOVES):\")\n",
    "print(gloves_forecast.head())\n",
    "\n",
    "\n"
   ]
  },
  {
   "cell_type": "code",
   "execution_count": 34,
   "metadata": {},
   "outputs": [
    {
     "name": "stdout",
     "output_type": "stream",
     "text": [
      "\n",
      "Datas convertidas para datetime:\n",
      "        productid_id forecast_date\n",
      "72916            858    2025-01-07\n",
      "27670            858    2025-02-07\n",
      "87178            858    2025-03-07\n",
      "102403           858    2025-02-07\n",
      "75479            858    2025-02-07\n"
     ]
    },
    {
     "name": "stderr",
     "output_type": "stream",
     "text": [
      "C:\\Users\\wrpen\\AppData\\Local\\Temp\\ipykernel_14232\\929107084.py:2: SettingWithCopyWarning: \n",
      "A value is trying to be set on a copy of a slice from a DataFrame.\n",
      "Try using .loc[row_indexer,col_indexer] = value instead\n",
      "\n",
      "See the caveats in the documentation: https://pandas.pydata.org/pandas-docs/stable/user_guide/indexing.html#returning-a-view-versus-a-copy\n",
      "  gloves_forecast['forecast_date'] = pd.to_datetime(gloves_forecast['forecast_date'])\n"
     ]
    }
   ],
   "source": [
    "# Converter a coluna 'forecast_date' para o tipo datetime\n",
    "gloves_forecast['forecast_date'] = pd.to_datetime(gloves_forecast['forecast_date'])\n",
    "print(\"\\nDatas convertidas para datetime:\")\n",
    "print(gloves_forecast[['productid_id', 'forecast_date']].head())\n"
   ]
  },
  {
   "cell_type": "code",
   "execution_count": 35,
   "metadata": {},
   "outputs": [
    {
     "name": "stdout",
     "output_type": "stream",
     "text": [
      "\n",
      "Data mínima (início do período): 2025-01-07 00:00:00\n"
     ]
    }
   ],
   "source": [
    "\n",
    "# Obter a data mínima para identificar o ponto de partida\n",
    "start_date = gloves_forecast['forecast_date'].min()\n",
    "print(f\"\\nData mínima (início do período): {start_date}\")\n",
    "\n"
   ]
  },
  {
   "cell_type": "code",
   "execution_count": 42,
   "metadata": {},
   "outputs": [
    {
     "name": "stdout",
     "output_type": "stream",
     "text": [
      "\n",
      "Coluna 'month_diff' criada com meses reais:\n",
      "        productid_id forecast_date  month_diff\n",
      "72916            858    2025-01-07           1\n",
      "27670            858    2025-02-07           2\n",
      "87178            858    2025-03-07           3\n",
      "102403           858    2025-02-07           2\n",
      "75479            858    2025-02-07           2\n",
      "\n",
      "Preenchendo os dados para 'month_1':\n",
      "        month_1  forecast_quantity  month_diff\n",
      "72916    740.00             740.00           1\n",
      "27670      0.00             396.00           2\n",
      "87178      0.00             660.00           3\n",
      "102403     0.00             704.00           2\n",
      "75479      0.00             740.00           2\n",
      "\n",
      "Preenchendo os dados para 'month_2':\n",
      "        month_2  forecast_quantity  month_diff\n",
      "72916      0.00             740.00           1\n",
      "27670    396.00             396.00           2\n",
      "87178      0.00             660.00           3\n",
      "102403   704.00             704.00           2\n",
      "75479    740.00             740.00           2\n",
      "\n",
      "Preenchendo os dados para 'month_3':\n",
      "        month_3  forecast_quantity  month_diff\n",
      "72916      0.00             740.00           1\n",
      "27670      0.00             396.00           2\n",
      "87178    660.00             660.00           3\n",
      "102403     0.00             704.00           2\n",
      "75479      0.00             740.00           2\n"
     ]
    },
    {
     "name": "stderr",
     "output_type": "stream",
     "text": [
      "C:\\Users\\wrpen\\AppData\\Local\\Temp\\ipykernel_14232\\3604093273.py:4: SettingWithCopyWarning: \n",
      "A value is trying to be set on a copy of a slice from a DataFrame.\n",
      "Try using .loc[row_indexer,col_indexer] = value instead\n",
      "\n",
      "See the caveats in the documentation: https://pandas.pydata.org/pandas-docs/stable/user_guide/indexing.html#returning-a-view-versus-a-copy\n",
      "  gloves_forecast['month_diff'] = gloves_forecast['forecast_date'].apply(\n",
      "C:\\Users\\wrpen\\AppData\\Local\\Temp\\ipykernel_14232\\3604093273.py:12: SettingWithCopyWarning: \n",
      "A value is trying to be set on a copy of a slice from a DataFrame.\n",
      "Try using .loc[row_indexer,col_indexer] = value instead\n",
      "\n",
      "See the caveats in the documentation: https://pandas.pydata.org/pandas-docs/stable/user_guide/indexing.html#returning-a-view-versus-a-copy\n",
      "  gloves_forecast[f'month_{month}'] = gloves_forecast.apply(\n",
      "C:\\Users\\wrpen\\AppData\\Local\\Temp\\ipykernel_14232\\3604093273.py:12: SettingWithCopyWarning: \n",
      "A value is trying to be set on a copy of a slice from a DataFrame.\n",
      "Try using .loc[row_indexer,col_indexer] = value instead\n",
      "\n",
      "See the caveats in the documentation: https://pandas.pydata.org/pandas-docs/stable/user_guide/indexing.html#returning-a-view-versus-a-copy\n",
      "  gloves_forecast[f'month_{month}'] = gloves_forecast.apply(\n",
      "C:\\Users\\wrpen\\AppData\\Local\\Temp\\ipykernel_14232\\3604093273.py:12: SettingWithCopyWarning: \n",
      "A value is trying to be set on a copy of a slice from a DataFrame.\n",
      "Try using .loc[row_indexer,col_indexer] = value instead\n",
      "\n",
      "See the caveats in the documentation: https://pandas.pydata.org/pandas-docs/stable/user_guide/indexing.html#returning-a-view-versus-a-copy\n",
      "  gloves_forecast[f'month_{month}'] = gloves_forecast.apply(\n"
     ]
    }
   ],
   "source": [
    "from dateutil.relativedelta import relativedelta\n",
    "\n",
    "# Recalcular 'month_diff' com base em meses reais\n",
    "gloves_forecast['month_diff'] = gloves_forecast['forecast_date'].apply(\n",
    "    lambda x: relativedelta(x, start_date).months + 1\n",
    ")\n",
    "print(\"\\nColuna 'month_diff' criada com meses reais:\")\n",
    "print(gloves_forecast[['productid_id', 'forecast_date', 'month_diff']].head())\n",
    "\n",
    "# Criar as colunas 'month_1', 'month_2', 'month_3' com base no novo cálculo\n",
    "for month in [1, 2, 3]:\n",
    "    gloves_forecast[f'month_{month}'] = gloves_forecast.apply(\n",
    "        lambda x: x['forecast_quantity'] if x['month_diff'] == month else 0, axis=1\n",
    "    )\n",
    "    print(f\"\\nPreenchendo os dados para 'month_{month}':\")\n",
    "    print(gloves_forecast[[f'month_{month}', 'forecast_quantity', 'month_diff']].head())\n"
   ]
  },
  {
   "cell_type": "code",
   "execution_count": 43,
   "metadata": {},
   "outputs": [
    {
     "name": "stdout",
     "output_type": "stream",
     "text": [
      "       store_id  productid_id forecast_date  forecast_quantity  month_diff  month_1  month_2  month_3  total_demand\n",
      "87178         8           858    2025-03-07             660.00           3     0.00     0.00   660.00        660.00\n",
      "16459         2           858    2025-03-07             688.00           3     0.00     0.00   688.00        688.00\n",
      "14107         2           858    2025-03-07             688.00           3     0.00     0.00   688.00        688.00\n",
      "16458         2           858    2025-03-07             688.00           3     0.00     0.00   688.00        688.00\n",
      "76160         7           858    2025-03-07             740.00           3     0.00     0.00   740.00        740.00\n",
      "...         ...           ...           ...                ...         ...      ...      ...      ...           ...\n",
      "37710         4           863    2025-03-07            2824.00           3     0.00     0.00  2824.00       2824.00\n",
      "15117         2           863    2025-03-07            1484.00           3     0.00     0.00  1484.00       1484.00\n",
      "20998         2           863    2025-03-07            1484.00           3     0.00     0.00  1484.00       1484.00\n",
      "48804         5           863    2025-03-07            1452.00           3     0.00     0.00  1452.00       1452.00\n",
      "40980         4           863    2025-03-07            2824.00           3     0.00     0.00  2824.00       2824.00\n",
      "\n",
      "[839 rows x 9 columns]\n"
     ]
    }
   ],
   "source": [
    "print(gloves_forecast[gloves_forecast['month_diff'] == 3])\n"
   ]
  },
  {
   "cell_type": "code",
   "execution_count": 44,
   "metadata": {},
   "outputs": [
    {
     "name": "stdout",
     "output_type": "stream",
     "text": [
      "2025-01-07 00:00:00 2025-04-07 00:00:00\n"
     ]
    }
   ],
   "source": [
    "print(gloves_forecast['forecast_date'].min(), gloves_forecast['forecast_date'].max())\n"
   ]
  },
  {
   "cell_type": "code",
   "execution_count": 45,
   "metadata": {},
   "outputs": [
    {
     "name": "stdout",
     "output_type": "stream",
     "text": [
      "\n",
      "Demanda total calculada para cada produto (linhas de exemplo):\n",
      "        productid_id  month_1  month_2  month_3  total_demand\n",
      "72916            858   740.00     0.00     0.00        740.00\n",
      "27670            858     0.00   396.00     0.00        396.00\n",
      "87178            858     0.00     0.00   660.00        660.00\n",
      "102403           858     0.00   704.00     0.00        704.00\n",
      "75479            858     0.00   740.00     0.00        740.00\n"
     ]
    },
    {
     "name": "stderr",
     "output_type": "stream",
     "text": [
      "C:\\Users\\wrpen\\AppData\\Local\\Temp\\ipykernel_14232\\3407250140.py:2: SettingWithCopyWarning: \n",
      "A value is trying to be set on a copy of a slice from a DataFrame.\n",
      "Try using .loc[row_indexer,col_indexer] = value instead\n",
      "\n",
      "See the caveats in the documentation: https://pandas.pydata.org/pandas-docs/stable/user_guide/indexing.html#returning-a-view-versus-a-copy\n",
      "  gloves_forecast['total_demand'] = gloves_forecast[['month_1', 'month_2', 'month_3']].sum(axis=1)\n"
     ]
    }
   ],
   "source": [
    "# Calcular a demanda total de luvas para os próximos 3 meses\n",
    "gloves_forecast['total_demand'] = gloves_forecast[['month_1', 'month_2', 'month_3']].sum(axis=1)\n",
    "print(\"\\nDemanda total calculada para cada produto (linhas de exemplo):\")\n",
    "print(gloves_forecast[['productid_id', 'month_1', 'month_2', 'month_3', 'total_demand']].head())\n",
    "\n"
   ]
  },
  {
   "cell_type": "code",
   "execution_count": 46,
   "metadata": {},
   "outputs": [
    {
     "name": "stdout",
     "output_type": "stream",
     "text": [
      "\n",
      "Validação de 'total_demand' com 'check_total':\n",
      "        productid_id  total_demand  check_total\n",
      "72916            858        740.00       740.00\n",
      "27670            858        396.00       396.00\n",
      "87178            858        660.00       660.00\n",
      "102403           858        704.00       704.00\n",
      "75479            858        740.00       740.00\n"
     ]
    },
    {
     "name": "stderr",
     "output_type": "stream",
     "text": [
      "C:\\Users\\wrpen\\AppData\\Local\\Temp\\ipykernel_14232\\3266386074.py:2: SettingWithCopyWarning: \n",
      "A value is trying to be set on a copy of a slice from a DataFrame.\n",
      "Try using .loc[row_indexer,col_indexer] = value instead\n",
      "\n",
      "See the caveats in the documentation: https://pandas.pydata.org/pandas-docs/stable/user_guide/indexing.html#returning-a-view-versus-a-copy\n",
      "  gloves_forecast['check_total'] = gloves_forecast[['month_1', 'month_2', 'month_3']].sum(axis=1)\n"
     ]
    }
   ],
   "source": [
    "# Verificar se 'total_demand' está correto\n",
    "gloves_forecast['check_total'] = gloves_forecast[['month_1', 'month_2', 'month_3']].sum(axis=1)\n",
    "print(\"\\nValidação de 'total_demand' com 'check_total':\")\n",
    "print(gloves_forecast[['productid_id', 'total_demand', 'check_total']].head())\n"
   ]
  },
  {
   "cell_type": "code",
   "execution_count": 47,
   "metadata": {},
   "outputs": [
    {
     "name": "stdout",
     "output_type": "stream",
     "text": [
      "\n",
      "Demanda total de luvas nos próximos 3 meses: 2608824.0\n"
     ]
    }
   ],
   "source": [
    "# Somar a demanda total de todos os produtos \"GLOVES\"\n",
    "total_gloves_demand = gloves_forecast['total_demand'].sum()\n",
    "print(f\"\\nDemanda total de luvas nos próximos 3 meses: {total_gloves_demand}\")\n",
    "\n"
   ]
  },
  {
   "cell_type": "code",
   "execution_count": 48,
   "metadata": {},
   "outputs": [
    {
     "name": "stdout",
     "output_type": "stream",
     "text": [
      "Quantidade total de zíperes necessários: 5217648.0\n"
     ]
    }
   ],
   "source": [
    "# Calcular a quantidade de zíperes necessários (2 zíperes por par de luvas)\n",
    "total_zippers_needed = total_gloves_demand * 2\n",
    "print(f\"Quantidade total de zíperes necessários: {total_zippers_needed}\")"
   ]
  },
  {
   "cell_type": "code",
   "execution_count": null,
   "metadata": {},
   "outputs": [],
   "source": [
    "# Validar se o cálculo de 'total_demand' está correto\n",
    "# O valor de 'total_demand' deve ser igual à soma de 'month_1', 'month_2' e 'month_3' para cada linha\n",
    "# A validação mostra que os valores estão consistentes.\n",
    "\n",
    "# Demanda total de luvas para os próximos 3 meses\n",
    "# A soma de 'total_demand' em todo o dataset representa o total de luvas previstas para os próximos 3 meses\n",
    "# Resultado: 2.608.824 luvas\n",
    "\n",
    "# Calcular a quantidade total de zíperes necessários\n",
    "# Cada par de luvas utiliza 2 zíperes, então multiplicamos a demanda total de luvas por 2\n",
    "# Resultado: 5.217.648 zíperes necessários\n",
    "\n",
    "# Conclusão:\n",
    "# A análise confirma que a demanda prevista para luvas nos próximos 3 meses foi corretamente somada,\n",
    "# e a quantidade de zíperes necessários foi calculada com base nessa previsão.\n"
   ]
  },
  {
   "cell_type": "code",
   "execution_count": null,
   "metadata": {},
   "outputs": [],
   "source": [
    "# Contexto da análise\n",
    "# Justificativa:\n",
    "# - O objetivo da análise foi determinar a quantidade de zíperes necessária para atender à demanda de luvas\n",
    "#   nos próximos 3 meses, conforme solicitado pelo fornecedor global.\n",
    "# - Considerando que cada par de luvas exige 2 zíperes, é fundamental que as previsões estejam alinhadas com\n",
    "#   a demanda de luvas para evitar problemas na cadeia de suprimentos, como falta de estoque ou desperdício.\n",
    "\n",
    "# Escopo do que foi feito:\n",
    "# 1. Filtragem dos dados:\n",
    "#    - Identificamos os produtos classificados como \"GLOVES\" no dataset `stg_production_product`.\n",
    "#    - Filtramos a tabela de previsões (`dim_product_forecast`) para incluir apenas os IDs dos produtos de luvas.\n",
    "# 2. Criação de colunas mensais:\n",
    "#    - Calculamos as previsões de demanda para os próximos 3 meses, organizando os dados em colunas \n",
    "#      'month_1', 'month_2' e 'month_3'.\n",
    "#    - Somamos essas colunas para obter a demanda total de luvas no período.\n",
    "# 3. Cálculo da demanda total:\n",
    "#    - Consolidamos a previsão de demanda total para todos os produtos de luvas nos próximos 3 meses.\n",
    "#    - Multiplicamos a demanda total por 2 (zippers por par de luvas) para determinar a quantidade de zíperes necessária.\n",
    "# 4. Validação:\n",
    "#    - Verificamos se os cálculos estão consistentes ao comparar as somas das colunas mensais com a coluna de demanda total.\n",
    "\n",
    "# Resultado:\n",
    "# - Demanda total prevista de luvas: 2.608.824 pares.\n",
    "# - Quantidade total de zíperes necessária: 5.217.648 unidades.\n"
   ]
  },
  {
   "cell_type": "markdown",
   "metadata": {},
   "source": []
  }
 ],
 "metadata": {
  "kernelspec": {
   "display_name": "venv",
   "language": "python",
   "name": "python3"
  },
  "language_info": {
   "codemirror_mode": {
    "name": "ipython",
    "version": 3
   },
   "file_extension": ".py",
   "mimetype": "text/x-python",
   "name": "python",
   "nbconvert_exporter": "python",
   "pygments_lexer": "ipython3",
   "version": "3.10.9"
  }
 },
 "nbformat": 4,
 "nbformat_minor": 2
}
