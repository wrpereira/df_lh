{
 "cells": [
  {
   "cell_type": "markdown",
   "metadata": {},
   "source": [
    "### SETUP INICIAL DO PROJETO"
   ]
  },
  {
   "cell_type": "code",
   "execution_count": 1,
   "metadata": {},
   "outputs": [],
   "source": [
    "\n",
    "#importação das bibliotecase e pacotes necessários para a análise\n",
    "\n",
    "import json\n",
    "import numpy as np\n",
    "import os\n",
    "import pandas as pd\n",
    "import pandas_gbq as gbq\n",
    "import re\n",
    "import seaborn as sns\n",
    "import matplotlib.pyplot as plt\n",
    "from dotenv import load_dotenv\n",
    "from google.cloud import bigquery\n",
    "from google.cloud.bigquery_storage import BigQueryReadClient\n",
    "from google.oauth2 import service_account\n",
    "\n",
    "\n",
    "# Carrega o .env: onde estão as credenciais do projeto/repositório\n",
    "load_dotenv(\"/mnt/c/Users/wrpen/OneDrive/Desktop/df_lh/.env\")\n",
    "\n",
    "# Detectar ambiente: como eu estou usando wsl-ubuntu, no VS Code  -  Windows, estava dando conflitos de path\n",
    "if os.name == \"nt\":  # se Windows\n",
    "    credentials_path = r\"C:\\Temp\\desafiolh-445818-3cb0f62cb9ef.json\"\n",
    "else:  # se WSL/Linux\n",
    "    credentials_path = \"/mnt/c/Temp/desafiolh-445818-3cb0f62cb9ef.json\"\n",
    "\n",
    "# Parâmetros injetados pelo Papermill ou definidos manualmente, caso não existam no ambiente\n",
    "# Tables_to_process: lista de tabelas que serão processadas\n",
    "# Output_dataset: nome do dataset onde os dados processados serão armazenados, neste caso, raw_data_cleaned\n",
    "if 'tables_to_process' not in locals():\n",
    "    tables_to_process = [\n",
    "        \"desafioadventureworks-446600.stg_marts_tables.fact_product_forecast\"  ,\n",
    "        \"desafioadventureworks-446600.stg_marts_tables.fact_product_seasonality\",\n",
    "        \"desafioadventureworks-446600.stg_staging_tables.stg_production_product\",\n",
    "        \"desafioadventureworks-446600.stg_staging_tables.stg_sales_store\"\n",
    "\n",
    "    ]\n",
    "\n",
    "if 'output_dataset' not in locals():\n",
    "    output_dataset = \"desafioadventureworks-446600.stg_marts_tables\"\n",
    "\n",
    "# Configs do cliente BigQuery: input de project e location de acordo com dados no Bigquery\n",
    "credentials = service_account.Credentials.from_service_account_file(credentials_path)\n",
    "client = bigquery.Client(credentials=credentials, project=os.getenv(\"BIGQUERY_PROJECT\"), location=\"us-central1\")\n"
   ]
  },
  {
   "cell_type": "code",
   "execution_count": 2,
   "metadata": {},
   "outputs": [
    {
     "name": "stdout",
     "output_type": "stream",
     "text": [
      "Tabelas a processar: ['desafioadventureworks-446600.stg_marts_tables.fact_product_forecast', 'desafioadventureworks-446600.stg_marts_tables.fact_product_seasonality', 'desafioadventureworks-446600.stg_staging_tables.stg_production_product', 'desafioadventureworks-446600.stg_staging_tables.stg_sales_store']\n"
     ]
    }
   ],
   "source": [
    "# Print com a tabela que vai ser processada nesse notebook\n",
    "\n",
    "print(\"Tabelas a processar:\", tables_to_process)"
   ]
  },
  {
   "cell_type": "markdown",
   "metadata": {},
   "source": [
    "# Exploratory Data Analysis (EDA) e Data Cleaning"
   ]
  },
  {
   "cell_type": "markdown",
   "metadata": {},
   "source": [
    "### Glossário dos dados:\n",
    "\n",
    "O termo ''doc:'', situado no rodapé de algumas cells, indica algo como:\n",
    "\n",
    "- documentação: documentar decisões, análises e resultados;\n",
    "\n",
    "- abreviações de termos, como bkp, df, entre outros."
   ]
  },
  {
   "cell_type": "code",
   "execution_count": 3,
   "metadata": {},
   "outputs": [],
   "source": [
    "# Setup inicial do df \n",
    "\n",
    "pd.set_option('display.max_columns', None)\n",
    "#pd.set_option('display.max_rows', None)\n",
    "pd.set_option('display.max_colwidth', None)\n",
    "pd.set_option('display.width', 10000)\n",
    "pd.options.display.float_format = '{:.2f}'.format\n",
    "\n",
    "\n",
    "#doc: df = dataframe  "
   ]
  },
  {
   "cell_type": "code",
   "execution_count": 4,
   "metadata": {},
   "outputs": [
    {
     "name": "stdout",
     "output_type": "stream",
     "text": [
      "Processando tabela: desafioadventureworks-446600.stg_marts_tables.fact_product_forecast\n",
      "Lendo os dados do BigQuery...\n",
      "Tabela fact_product_forecast processada e armazenada com sucesso.\n",
      "Processando tabela: desafioadventureworks-446600.stg_marts_tables.fact_product_seasonality\n",
      "Lendo os dados do BigQuery...\n",
      "Tabela fact_product_seasonality processada e armazenada com sucesso.\n",
      "Processando tabela: desafioadventureworks-446600.stg_staging_tables.stg_production_product\n",
      "Lendo os dados do BigQuery...\n",
      "Tabela stg_production_product processada e armazenada com sucesso.\n",
      "Processando tabela: desafioadventureworks-446600.stg_staging_tables.stg_sales_store\n",
      "Lendo os dados do BigQuery...\n",
      "Tabela stg_sales_store processada e armazenada com sucesso.\n",
      "Todas as tabelas foram processadas com sucesso!\n"
     ]
    }
   ],
   "source": [
    "# Dicionário para armazenar os df processados\n",
    "df_processados = {}\n",
    "\n",
    "# Iteração das tabelas e armazenamento em df\n",
    "for input_table in tables_to_process:\n",
    "    print(f\"Processando tabela: {input_table}\")\n",
    "    \n",
    "    table_name = input_table.split(\".\")[-1].replace(\"-\", \"_\")  \n",
    "    \n",
    "    print(\"Lendo os dados do BigQuery...\")\n",
    "    query = f\"SELECT * FROM `{input_table}`\"\n",
    "    table_data = client.query(query).to_dataframe()\n",
    "    \n",
    "    df_processados[table_name] = table_data\n",
    "    print(f\"Tabela {table_name} processada e armazenada com sucesso.\")\n",
    "\n",
    "\n",
    "print(\"Todas as tabelas foram processadas com sucesso!\")"
   ]
  },
  {
   "cell_type": "code",
   "execution_count": 5,
   "metadata": {},
   "outputs": [
    {
     "name": "stdout",
     "output_type": "stream",
     "text": [
      "Variável criada: fact_product_forecast\n",
      "Variável criada: fact_product_seasonality\n",
      "Variável criada: stg_production_product\n",
      "Variável criada: stg_sales_store\n"
     ]
    }
   ],
   "source": [
    "# Listar todas as variáveis criadas dinamicamente\n",
    "for table_name in df_processados.keys():\n",
    "    print(f\"Variável criada: {table_name}\")  "
   ]
  },
  {
   "cell_type": "code",
   "execution_count": 6,
   "metadata": {},
   "outputs": [
    {
     "name": "stdout",
     "output_type": "stream",
     "text": [
      "Colunas: 6\n",
      "Linhas: 106840\n"
     ]
    }
   ],
   "source": [
    "# Atribuir o df a uma variável com nome mais simples\n",
    "fact_product_forecast = df_processados['fact_product_forecast']\n",
    "\n",
    "print(f\"Colunas: {fact_product_forecast.shape[1]}\\nLinhas: {fact_product_forecast.shape[0]}\")"
   ]
  },
  {
   "cell_type": "markdown",
   "metadata": {},
   "source": [
    "# Questão 11"
   ]
  },
  {
   "cell_type": "code",
   "execution_count": 7,
   "metadata": {},
   "outputs": [],
   "source": [
    "# Consolidando os dados para previsão\n",
    "fact_product_seasonality = df_processados['fact_product_seasonality']\n",
    "fact_product_forecast = df_processados['fact_product_forecast']\n",
    "stg_production_product = df_processados['stg_production_product']"
   ]
  },
  {
   "cell_type": "code",
   "execution_count": 8,
   "metadata": {},
   "outputs": [
    {
     "name": "stdout",
     "output_type": "stream",
     "text": [
      "DataFrame: table_data - Dimensão: (701, 5)\n",
      "DataFrame: fact_product_forecast - Dimensão: (106840, 6)\n",
      "DataFrame: fact_product_seasonality - Dimensão: (35, 5)\n",
      "DataFrame: stg_production_product - Dimensão: (504, 24)\n"
     ]
    }
   ],
   "source": [
    "# Listar todas as variáveis definidas no ambiente atual (corrigido)\n",
    "variables_snapshot = list(globals().items())\n",
    "\n",
    "for var_name, var_value in variables_snapshot:\n",
    "    if isinstance(var_value, pd.DataFrame):\n",
    "        print(f\"DataFrame: {var_name} - Dimensão: {var_value.shape}\")\n"
   ]
  },
  {
   "cell_type": "code",
   "execution_count": 9,
   "metadata": {},
   "outputs": [
    {
     "name": "stdout",
     "output_type": "stream",
     "text": [
      "\n",
      "Visualizando os primeiros registros de stg_production_product:\n",
      "   productid_id             product_nm productnumber_cd  makeflag_fl  finishedgoodsflag_fl color_tp  safetystocklevel_nr  reorderpoint_tp  standardcost_vr  listprice_vr size_tp sizeunitmeasurecode_cd weightunitmeasurecode_cd  weight_tp  daystomanufacture_nr productline_tp class_tp style_tp  productsubcategoryid_id  productmodelid_id          sellstartdate_dt            sellenddate_dt                          rowguid_desc                  modifieddate_dt\n",
      "0           864        CLASSIC VEST, S        VE-C304-S        False                  True     BLUE                    4                3            23.75         63.50       S                   None                     None        NaN                     0              S     None       U                        25                  1 2013-05-30 00:00:00+00:00                       NaT  EB423EF3-409D-46FE-B35B-D69970820314 2014-02-08 10:01:36.827000+00:00\n",
      "1           866        CLASSIC VEST, L        VE-C304-L        False                  True     BLUE                    4                3            23.75         63.50       L                   None                     None        NaN                     0              S     None       U                        25                  1 2013-05-30 00:00:00+00:00                       NaT  3211F5A8-B6C4-48BD-9AA4-D69CB40D97DD 2014-02-08 10:01:36.827000+00:00\n",
      "2           865        CLASSIC VEST, M        VE-C304-M        False                  True     BLUE                    4                3            23.75         63.50       M                   None                     None        NaN                     0              S     None       U                        25                  1 2013-05-30 00:00:00+00:00                       NaT  2E52F96E-64A1-4069-911C-E3FD6E094A1E 2014-02-08 10:01:36.827000+00:00\n",
      "3           712           AWC LOGO CAP          CA-1098        False                  True    MULTI                    4                3             6.92          8.99    None                   None                     None        NaN                     0              S     None       U                        19                  2 2011-05-31 00:00:00+00:00                       NaT  B9EDE243-A6F4-4629-B1D4-FFE1AEDC6DE7 2014-02-08 10:01:36.827000+00:00\n",
      "4           861  FULL-FINGER GLOVES, S        GL-F110-S        False                  True    BLACK                    4                3            15.67         37.99       S                   None                     None        NaN                     0              M     None       U                        20                  3 2012-05-30 00:00:00+00:00 2013-05-29 00:00:00+00:00  76FAC097-1FB3-456B-8FB9-2C7A613771B4 2014-02-08 10:01:36.827000+00:00\n",
      "\n",
      "Informações sobre stg_production_product:\n",
      "<class 'pandas.core.frame.DataFrame'>\n",
      "RangeIndex: 504 entries, 0 to 503\n",
      "Data columns (total 24 columns):\n",
      " #   Column                    Non-Null Count  Dtype              \n",
      "---  ------                    --------------  -----              \n",
      " 0   productid_id              504 non-null    Int64              \n",
      " 1   product_nm                504 non-null    object             \n",
      " 2   productnumber_cd          504 non-null    object             \n",
      " 3   makeflag_fl               504 non-null    boolean            \n",
      " 4   finishedgoodsflag_fl      504 non-null    boolean            \n",
      " 5   color_tp                  256 non-null    object             \n",
      " 6   safetystocklevel_nr       504 non-null    Int64              \n",
      " 7   reorderpoint_tp           504 non-null    Int64              \n",
      " 8   standardcost_vr           504 non-null    float64            \n",
      " 9   listprice_vr              504 non-null    float64            \n",
      " 10  size_tp                   211 non-null    object             \n",
      " 11  sizeunitmeasurecode_cd    176 non-null    object             \n",
      " 12  weightunitmeasurecode_cd  205 non-null    object             \n",
      " 13  weight_tp                 205 non-null    float64            \n",
      " 14  daystomanufacture_nr      504 non-null    Int64              \n",
      " 15  productline_tp            278 non-null    object             \n",
      " 16  class_tp                  247 non-null    object             \n",
      " 17  style_tp                  211 non-null    object             \n",
      " 18  productsubcategoryid_id   295 non-null    Int64              \n",
      " 19  productmodelid_id         295 non-null    Int64              \n",
      " 20  sellstartdate_dt          504 non-null    datetime64[us, UTC]\n",
      " 21  sellenddate_dt            98 non-null     datetime64[us, UTC]\n",
      " 22  rowguid_desc              504 non-null    object             \n",
      " 23  modifieddate_dt           504 non-null    datetime64[us, UTC]\n",
      "dtypes: Int64(6), boolean(2), datetime64[us, UTC](3), float64(3), object(10)\n",
      "memory usage: 91.7+ KB\n",
      "None\n"
     ]
    }
   ],
   "source": [
    "print(\"\\nVisualizando os primeiros registros de stg_production_product:\")\n",
    "print(stg_production_product.head())\n",
    "print(\"\\nInformações sobre stg_production_product:\")\n",
    "print(stg_production_product.info())"
   ]
  },
  {
   "cell_type": "code",
   "execution_count": 10,
   "metadata": {},
   "outputs": [
    {
     "name": "stdout",
     "output_type": "stream",
     "text": [
      "Produtos filtrados contendo 'GLOVES':\n",
      "   productid_id             product_nm  listprice_vr\n",
      "4           861  FULL-FINGER GLOVES, S         37.99\n",
      "5           863  FULL-FINGER GLOVES, L         37.99\n",
      "6           862  FULL-FINGER GLOVES, M         37.99\n",
      "7           859  HALF-FINGER GLOVES, M         24.49\n",
      "8           858  HALF-FINGER GLOVES, S         24.49\n",
      "9           860  HALF-FINGER GLOVES, L         24.49\n"
     ]
    }
   ],
   "source": [
    "# Filtrar produtos relacionados a \"GLOVES\" no stg_production_product\n",
    "gloves_products = stg_production_product[stg_production_product['product_nm'].str.contains(\"GLOVES\", case=False, na=False)]\n",
    "\n",
    "print(\"Produtos filtrados contendo 'GLOVES':\")\n",
    "print(gloves_products[['productid_id', 'product_nm', 'listprice_vr']].head(10))"
   ]
  },
  {
   "cell_type": "code",
   "execution_count": 11,
   "metadata": {},
   "outputs": [
    {
     "name": "stdout",
     "output_type": "stream",
     "text": [
      "(6, 24)\n"
     ]
    }
   ],
   "source": [
    "print(gloves_products.shape)"
   ]
  },
  {
   "cell_type": "code",
   "execution_count": 12,
   "metadata": {},
   "outputs": [
    {
     "name": "stdout",
     "output_type": "stream",
     "text": [
      "\n",
      "Visualizando os primeiros registros de fact_product_forecast:\n",
      "   store_id  productid_id forecast_date  forecast_quantity  avg_unit_price  forecast_sales_value\n",
      "0         6           776    2025-04-26             400.00         2415.54             966214.44\n",
      "1         3           869    2025-03-26            1256.00           52.87              66400.01\n",
      "2        10           980    2025-04-26             124.00          622.68              77212.01\n",
      "3         7           980    2025-04-26             100.00          622.68              62267.75\n",
      "4         5           709    2025-01-26            1056.00            5.66               5974.22\n",
      "\n",
      "Informações sobre fact_product_forecast:\n",
      "<class 'pandas.core.frame.DataFrame'>\n",
      "RangeIndex: 106840 entries, 0 to 106839\n",
      "Data columns (total 6 columns):\n",
      " #   Column                Non-Null Count   Dtype  \n",
      "---  ------                --------------   -----  \n",
      " 0   store_id              106840 non-null  Int64  \n",
      " 1   productid_id          106840 non-null  Int64  \n",
      " 2   forecast_date         106840 non-null  dbdate \n",
      " 3   forecast_quantity     106840 non-null  float64\n",
      " 4   avg_unit_price        106840 non-null  float64\n",
      " 5   forecast_sales_value  106840 non-null  float64\n",
      "dtypes: Int64(2), dbdate(1), float64(3)\n",
      "memory usage: 5.1 MB\n",
      "None\n"
     ]
    }
   ],
   "source": [
    "print(\"\\nVisualizando os primeiros registros de fact_product_forecast:\")\n",
    "print(fact_product_forecast.head())\n",
    "print(\"\\nInformações sobre fact_product_forecast:\")\n",
    "print(fact_product_forecast.info())"
   ]
  },
  {
   "cell_type": "code",
   "execution_count": 13,
   "metadata": {},
   "outputs": [
    {
     "name": "stdout",
     "output_type": "stream",
     "text": [
      "Produtos filtrados (GLOVES):\n",
      "     store_id  productid_id forecast_date  forecast_quantity  avg_unit_price  forecast_sales_value\n",
      "50          2           862    2025-04-26            1040.00           22.66              23571.46\n",
      "51          1           862    2025-03-26            1252.00           22.66              28376.42\n",
      "182        10           863    2025-01-26             768.00           22.32              17142.88\n",
      "183         1           863    2025-03-26            2212.00           22.32              49375.07\n",
      "303        10           862    2025-02-26             648.00           22.66              14686.84\n"
     ]
    }
   ],
   "source": [
    "# Filtrar apenas as previsões dos produtos \"GLOVES\"\n",
    "gloves_forecast = fact_product_forecast[fact_product_forecast['productid_id'].isin(gloves_products['productid_id'])]\n",
    "print(\"Produtos filtrados (GLOVES):\")\n",
    "print(gloves_forecast.head())"
   ]
  },
  {
   "cell_type": "code",
   "execution_count": 14,
   "metadata": {},
   "outputs": [
    {
     "name": "stdout",
     "output_type": "stream",
     "text": [
      "\n",
      "Datas convertidas para datetime:\n",
      "     productid_id forecast_date\n",
      "50            862    2025-04-26\n",
      "51            862    2025-03-26\n",
      "182           863    2025-01-26\n",
      "183           863    2025-03-26\n",
      "303           862    2025-02-26\n"
     ]
    },
    {
     "name": "stderr",
     "output_type": "stream",
     "text": [
      "C:\\Users\\wrpen\\AppData\\Local\\Temp\\ipykernel_83044\\3249586105.py:2: SettingWithCopyWarning: \n",
      "A value is trying to be set on a copy of a slice from a DataFrame.\n",
      "Try using .loc[row_indexer,col_indexer] = value instead\n",
      "\n",
      "See the caveats in the documentation: https://pandas.pydata.org/pandas-docs/stable/user_guide/indexing.html#returning-a-view-versus-a-copy\n",
      "  gloves_forecast['forecast_date'] = pd.to_datetime(gloves_forecast['forecast_date'])\n"
     ]
    }
   ],
   "source": [
    "# Converter a coluna 'forecast_date' para o tipo datetime\n",
    "gloves_forecast['forecast_date'] = pd.to_datetime(gloves_forecast['forecast_date'])\n",
    "print(\"\\nDatas convertidas para datetime:\")\n",
    "print(gloves_forecast[['productid_id', 'forecast_date']].head())"
   ]
  },
  {
   "cell_type": "code",
   "execution_count": 15,
   "metadata": {},
   "outputs": [
    {
     "name": "stdout",
     "output_type": "stream",
     "text": [
      "\n",
      "Data mínima (início do período): 2025-01-26 00:00:00\n"
     ]
    }
   ],
   "source": [
    "# Data mínima para identificar o ponto de partida\n",
    "start_date = gloves_forecast['forecast_date'].min()\n",
    "print(f\"\\nData mínima (início do período): {start_date}\")"
   ]
  },
  {
   "cell_type": "code",
   "execution_count": 16,
   "metadata": {},
   "outputs": [
    {
     "name": "stdout",
     "output_type": "stream",
     "text": [
      "\n",
      "Coluna 'month_diff' criada com meses reais:\n",
      "     productid_id forecast_date  month_diff\n",
      "50            862    2025-04-26           4\n",
      "51            862    2025-03-26           3\n",
      "182           863    2025-01-26           1\n",
      "183           863    2025-03-26           3\n",
      "303           862    2025-02-26           2\n",
      "\n",
      "Preenchendo os dados para 'month_1':\n",
      "     month_1  forecast_quantity  month_diff\n",
      "50      0.00            1040.00           4\n",
      "51      0.00            1252.00           3\n",
      "182   768.00             768.00           1\n",
      "183     0.00            2212.00           3\n",
      "303     0.00             648.00           2\n",
      "\n",
      "Preenchendo os dados para 'month_2':\n",
      "     month_2  forecast_quantity  month_diff\n",
      "50      0.00            1040.00           4\n",
      "51      0.00            1252.00           3\n",
      "182     0.00             768.00           1\n",
      "183     0.00            2212.00           3\n",
      "303   648.00             648.00           2\n",
      "\n",
      "Preenchendo os dados para 'month_3':\n",
      "     month_3  forecast_quantity  month_diff\n",
      "50      0.00            1040.00           4\n",
      "51   1252.00            1252.00           3\n",
      "182     0.00             768.00           1\n",
      "183  2212.00            2212.00           3\n",
      "303     0.00             648.00           2\n"
     ]
    },
    {
     "name": "stderr",
     "output_type": "stream",
     "text": [
      "C:\\Users\\wrpen\\AppData\\Local\\Temp\\ipykernel_83044\\1982613389.py:4: SettingWithCopyWarning: \n",
      "A value is trying to be set on a copy of a slice from a DataFrame.\n",
      "Try using .loc[row_indexer,col_indexer] = value instead\n",
      "\n",
      "See the caveats in the documentation: https://pandas.pydata.org/pandas-docs/stable/user_guide/indexing.html#returning-a-view-versus-a-copy\n",
      "  gloves_forecast['month_diff'] = gloves_forecast['forecast_date'].apply(\n",
      "C:\\Users\\wrpen\\AppData\\Local\\Temp\\ipykernel_83044\\1982613389.py:12: SettingWithCopyWarning: \n",
      "A value is trying to be set on a copy of a slice from a DataFrame.\n",
      "Try using .loc[row_indexer,col_indexer] = value instead\n",
      "\n",
      "See the caveats in the documentation: https://pandas.pydata.org/pandas-docs/stable/user_guide/indexing.html#returning-a-view-versus-a-copy\n",
      "  gloves_forecast[f'month_{month}'] = gloves_forecast.apply(\n",
      "C:\\Users\\wrpen\\AppData\\Local\\Temp\\ipykernel_83044\\1982613389.py:12: SettingWithCopyWarning: \n",
      "A value is trying to be set on a copy of a slice from a DataFrame.\n",
      "Try using .loc[row_indexer,col_indexer] = value instead\n",
      "\n",
      "See the caveats in the documentation: https://pandas.pydata.org/pandas-docs/stable/user_guide/indexing.html#returning-a-view-versus-a-copy\n",
      "  gloves_forecast[f'month_{month}'] = gloves_forecast.apply(\n",
      "C:\\Users\\wrpen\\AppData\\Local\\Temp\\ipykernel_83044\\1982613389.py:12: SettingWithCopyWarning: \n",
      "A value is trying to be set on a copy of a slice from a DataFrame.\n",
      "Try using .loc[row_indexer,col_indexer] = value instead\n",
      "\n",
      "See the caveats in the documentation: https://pandas.pydata.org/pandas-docs/stable/user_guide/indexing.html#returning-a-view-versus-a-copy\n",
      "  gloves_forecast[f'month_{month}'] = gloves_forecast.apply(\n"
     ]
    }
   ],
   "source": [
    "from dateutil.relativedelta import relativedelta\n",
    "\n",
    "# Recalcular 'month_diff' com base em meses reais\n",
    "gloves_forecast['month_diff'] = gloves_forecast['forecast_date'].apply(\n",
    "    lambda x: relativedelta(x, start_date).months + 1\n",
    ")\n",
    "print(\"\\nColuna 'month_diff' criada com meses reais:\")\n",
    "print(gloves_forecast[['productid_id', 'forecast_date', 'month_diff']].head())\n",
    "\n",
    "# Criar as colunas 'month_1', 'month_2', 'month_3' com base no novo cálculo\n",
    "for month in [1, 2, 3]:\n",
    "    gloves_forecast[f'month_{month}'] = gloves_forecast.apply(\n",
    "        lambda x: x['forecast_quantity'] if x['month_diff'] == month else 0, axis=1\n",
    "    )\n",
    "    print(f\"\\nPreenchendo os dados para 'month_{month}':\")\n",
    "    print(gloves_forecast[[f'month_{month}', 'forecast_quantity', 'month_diff']].head())"
   ]
  },
  {
   "cell_type": "code",
   "execution_count": 17,
   "metadata": {},
   "outputs": [
    {
     "name": "stdout",
     "output_type": "stream",
     "text": [
      "       store_id  productid_id forecast_date  forecast_quantity  avg_unit_price  forecast_sales_value  month_diff  month_1  month_2  month_3\n",
      "51            1           862    2025-03-26            1252.00           22.66              28376.42           3     0.00     0.00  1252.00\n",
      "183           1           863    2025-03-26            2212.00           22.32              49375.07           3     0.00     0.00  2212.00\n",
      "590          10           862    2025-03-26             648.00           22.66              14686.84           3     0.00     0.00   648.00\n",
      "591           2           862    2025-03-26            1040.00           22.66              23571.46           3     0.00     0.00  1040.00\n",
      "1324          5           863    2025-03-26            1452.00           22.32              32410.76           3     0.00     0.00  1452.00\n",
      "...         ...           ...           ...                ...             ...                   ...         ...      ...      ...      ...\n",
      "75353         8           860    2025-03-26             388.00           18.82               7302.58           3     0.00     0.00   388.00\n",
      "75359         6           860    2025-03-26            1032.00           18.82              19423.35           3     0.00     0.00  1032.00\n",
      "75363         7           860    2025-03-26             564.00           18.82              10615.09           3     0.00     0.00   564.00\n",
      "75368         6           860    2025-03-26            1032.00           18.82              19423.35           3     0.00     0.00  1032.00\n",
      "75370         1           860    2025-03-26             568.00           18.82              10690.37           3     0.00     0.00   568.00\n",
      "\n",
      "[839 rows x 10 columns]\n"
     ]
    }
   ],
   "source": [
    "print(gloves_forecast[gloves_forecast['month_diff'] == 3])"
   ]
  },
  {
   "cell_type": "code",
   "execution_count": 18,
   "metadata": {},
   "outputs": [
    {
     "name": "stdout",
     "output_type": "stream",
     "text": [
      "2025-01-26 00:00:00 2025-04-26 00:00:00\n"
     ]
    }
   ],
   "source": [
    "print(gloves_forecast['forecast_date'].min(), gloves_forecast['forecast_date'].max())"
   ]
  },
  {
   "cell_type": "code",
   "execution_count": 19,
   "metadata": {},
   "outputs": [
    {
     "name": "stdout",
     "output_type": "stream",
     "text": [
      "\n",
      "Demanda total calculada para cada produto (linhas de exemplo):\n",
      "     productid_id  month_1  month_2  month_3  total_demand\n",
      "50            862     0.00     0.00     0.00          0.00\n",
      "51            862     0.00     0.00  1252.00       1252.00\n",
      "182           863   768.00     0.00     0.00        768.00\n",
      "183           863     0.00     0.00  2212.00       2212.00\n",
      "303           862     0.00   648.00     0.00        648.00\n"
     ]
    },
    {
     "name": "stderr",
     "output_type": "stream",
     "text": [
      "C:\\Users\\wrpen\\AppData\\Local\\Temp\\ipykernel_83044\\3432193739.py:2: SettingWithCopyWarning: \n",
      "A value is trying to be set on a copy of a slice from a DataFrame.\n",
      "Try using .loc[row_indexer,col_indexer] = value instead\n",
      "\n",
      "See the caveats in the documentation: https://pandas.pydata.org/pandas-docs/stable/user_guide/indexing.html#returning-a-view-versus-a-copy\n",
      "  gloves_forecast['total_demand'] = gloves_forecast[['month_1', 'month_2', 'month_3']].sum(axis=1)\n"
     ]
    }
   ],
   "source": [
    "# Demanda total de luvas para os próximos 3 meses\n",
    "gloves_forecast['total_demand'] = gloves_forecast[['month_1', 'month_2', 'month_3']].sum(axis=1)\n",
    "print(\"\\nDemanda total calculada para cada produto (linhas de exemplo):\")\n",
    "print(gloves_forecast[['productid_id', 'month_1', 'month_2', 'month_3', 'total_demand']].head())"
   ]
  },
  {
   "cell_type": "code",
   "execution_count": 20,
   "metadata": {},
   "outputs": [
    {
     "name": "stdout",
     "output_type": "stream",
     "text": [
      "\n",
      "Validação de 'total_demand' com 'check_total':\n",
      "     productid_id  total_demand  check_total\n",
      "50            862          0.00         0.00\n",
      "51            862       1252.00      1252.00\n",
      "182           863        768.00       768.00\n",
      "183           863       2212.00      2212.00\n",
      "303           862        648.00       648.00\n"
     ]
    },
    {
     "name": "stderr",
     "output_type": "stream",
     "text": [
      "C:\\Users\\wrpen\\AppData\\Local\\Temp\\ipykernel_83044\\1441321352.py:2: SettingWithCopyWarning: \n",
      "A value is trying to be set on a copy of a slice from a DataFrame.\n",
      "Try using .loc[row_indexer,col_indexer] = value instead\n",
      "\n",
      "See the caveats in the documentation: https://pandas.pydata.org/pandas-docs/stable/user_guide/indexing.html#returning-a-view-versus-a-copy\n",
      "  gloves_forecast['check_total'] = gloves_forecast[['month_1', 'month_2', 'month_3']].sum(axis=1)\n"
     ]
    }
   ],
   "source": [
    "# Verificar se 'total_demand' está correto\n",
    "gloves_forecast['check_total'] = gloves_forecast[['month_1', 'month_2', 'month_3']].sum(axis=1)\n",
    "print(\"\\nValidação de 'total_demand' com 'check_total':\")\n",
    "print(gloves_forecast[['productid_id', 'total_demand', 'check_total']].head())"
   ]
  },
  {
   "cell_type": "code",
   "execution_count": 21,
   "metadata": {},
   "outputs": [
    {
     "name": "stdout",
     "output_type": "stream",
     "text": [
      "\n",
      "Demanda total de luvas nos próximos 3 meses: 2608824.0\n"
     ]
    }
   ],
   "source": [
    "# Somar a demanda total de todos os produtos \"GLOVES\"\n",
    "total_gloves_demand = gloves_forecast['total_demand'].sum()\n",
    "print(f\"\\nDemanda total de luvas nos próximos 3 meses: {total_gloves_demand}\")"
   ]
  },
  {
   "cell_type": "code",
   "execution_count": 22,
   "metadata": {},
   "outputs": [
    {
     "name": "stdout",
     "output_type": "stream",
     "text": [
      "Quantidade total de zíperes necessários: 5217648.0\n"
     ]
    }
   ],
   "source": [
    "# Calcular a quantidade de zíperes necessários (2 zíperes por par de luvas)\n",
    "total_zippers_needed = total_gloves_demand * 2\n",
    "print(f\"Quantidade total de zíperes necessários: {total_zippers_needed}\")"
   ]
  },
  {
   "cell_type": "code",
   "execution_count": 23,
   "metadata": {},
   "outputs": [],
   "source": [
    "# Contexto da análise\n",
    "\n",
    "# Justificativa:\n",
    "# - O objetivo da análise foi determinar a quantidade de zíperes necessária para atender à demanda de luvas\n",
    "#   nos próximos 3 meses, conforme solicitado pelo fornecedor global.\n",
    "# - Considerando que cada par de luvas exige 2 zíperes, é fundamental que as previsões estejam alinhadas com\n",
    "#   a demanda de luvas para evitar problemas na cadeia de suprimentos, como falta de estoque ou desperdício.\n",
    "\n",
    "# Escopo do que foi feito:\n",
    "# 1. Filtragem dos dados:\n",
    "#    - Identificamos os produtos classificados como \"GLOVES\" no dataset `stg_production_product`.\n",
    "#    - Filtramos a tabela de previsões (`dim_product_forecast`) para incluir apenas os IDs dos produtos de luvas.\n",
    "# 2. Criação de colunas mensais:\n",
    "#    - Calculamos as previsões de demanda para os próximos 3 meses, organizando os dados em colunas \n",
    "#      'month_1', 'month_2' e 'month_3'.\n",
    "#    - Somamos essas colunas para obter a demanda total de luvas no período.\n",
    "# 3. Cálculo da demanda total:\n",
    "#    - Consolidamos a previsão de demanda total para todos os produtos de luvas nos próximos 3 meses.\n",
    "#    - Multiplicamos a demanda total por 2 (zippers por par de luvas) para determinar a quantidade de zíperes necessária.\n",
    "# 4. Validação:\n",
    "#    - Verificamos se os cálculos estão consistentes ao comparar as somas das colunas mensais com a coluna de demanda total.\n",
    "\n",
    "# Resultado:\n",
    "# - Demanda total prevista de luvas: 2.608.824 pares.\n",
    "# - Quantidade total de zíperes necessária: 5.217.648 unidades."
   ]
  },
  {
   "cell_type": "markdown",
   "metadata": {},
   "source": []
  }
 ],
 "metadata": {
  "kernelspec": {
   "display_name": "venv",
   "language": "python",
   "name": "python3"
  },
  "language_info": {
   "codemirror_mode": {
    "name": "ipython",
    "version": 3
   },
   "file_extension": ".py",
   "mimetype": "text/x-python",
   "name": "python",
   "nbconvert_exporter": "python",
   "pygments_lexer": "ipython3",
   "version": "3.10.9"
  }
 },
 "nbformat": 4,
 "nbformat_minor": 2
}
