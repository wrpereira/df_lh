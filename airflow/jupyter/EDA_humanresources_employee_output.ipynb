{
 "cells": [
  {
   "cell_type": "code",
   "execution_count": 1,
   "id": "41b6b857",
   "metadata": {
    "execution": {
     "iopub.execute_input": "2024-12-30T23:18:30.021817Z",
     "iopub.status.busy": "2024-12-30T23:18:30.021565Z",
     "iopub.status.idle": "2024-12-30T23:18:30.028062Z",
     "shell.execute_reply": "2024-12-30T23:18:30.027262Z"
    },
    "jupyter": {
     "source_hidden": true
    },
    "papermill": {
     "duration": 0.020327,
     "end_time": "2024-12-30T23:18:30.029320",
     "exception": false,
     "start_time": "2024-12-30T23:18:30.008993",
     "status": "completed"
    },
    "tags": [
     "injected-parameters"
    ]
   },
   "outputs": [],
   "source": [
    "# Parameters\n",
    "credentials_path = \"/mnt/c/Temp/desafiolh-445818-3cb0f62cb9ef.json\"\n",
    "table_name = \"raw_data_cleaned.humanresources_employee\"\n"
   ]
  },
  {
   "cell_type": "markdown",
   "id": "b63bee4b",
   "metadata": {
    "papermill": {
     "duration": 0.011353,
     "end_time": "2024-12-30T23:18:30.049077",
     "exception": false,
     "start_time": "2024-12-30T23:18:30.037724",
     "status": "completed"
    },
    "tags": []
   },
   "source": [
    "### EDA (Exploratory Data Analysis) & Data Cleaning"
   ]
  },
  {
   "cell_type": "code",
   "execution_count": 1,
   "id": "60d160f4",
   "metadata": {
    "execution": {
     "iopub.execute_input": "2024-12-30T23:18:30.072987Z",
     "iopub.status.busy": "2024-12-30T23:18:30.072764Z",
     "iopub.status.idle": "2024-12-30T23:18:35.514233Z",
     "shell.execute_reply": "2024-12-30T23:18:35.513523Z"
    },
    "jupyter": {
     "source_hidden": true
    },
    "papermill": {
     "duration": 5.454582,
     "end_time": "2024-12-30T23:18:35.515182",
     "exception": false,
     "start_time": "2024-12-30T23:18:30.060600",
     "status": "completed"
    },
    "tags": []
   },
   "outputs": [
    {
     "name": "stdout",
     "output_type": "stream",
     "text": [
      "Credenciais do BigQuery: /mnt/c/Temp/desafiolh-445818-3cb0f62cb9ef.json\n",
      "/mnt/c/Temp/desafiolh-445818-3cb0f62cb9ef.json\n"
     ]
    }
   ],
   "source": [
    "\n",
    "##import das bibliotecas e adequando colunas, linhas e formato de números\n",
    "\n",
    "from google.cloud import bigquery\n",
    "from dotenv import load_dotenv\n",
    "import pandas as pd\n",
    "import pandas_gbq as gbq\n",
    "import matplotlib.pyplot as plt\n",
    "import seaborn as sns\n",
    "import numpy as np\n",
    "import os\n",
    "import re\n",
    "\n",
    "# Carrega o .env\n",
    "load_dotenv()\n",
    "\n",
    "os.environ[\"GOOGLE_APPLICATION_CREDENTIALS\"] = os.getenv(\"GOOGLE_APPLICATION_CREDENTIALS\")\n",
    "\n",
    "# Verificar se a configuração está correta\n",
    "print(\"Credenciais do BigQuery:\", os.getenv(\"GOOGLE_APPLICATION_CREDENTIALS\"))\n",
    "\n",
    "# Verifica se a variável está configurada\n",
    "print(os.getenv(\"GOOGLE_APPLICATION_CREDENTIALS\"))\n",
    "\n",
    "\n",
    "# Configurar Pandas para exibir todas as colunas e todas as linhas completas\n",
    "pd.set_option('display.max_columns', None)\n",
    "#pd.set_option('display.max_rows', None)\n",
    "pd.set_option('display.max_colwidth', None)\n",
    "pd.set_option('display.width', 1000)\n",
    "\n",
    "\n",
    "pd.options.display.float_format = '{:.2f}'.format"
   ]
  },
  {
   "cell_type": "code",
   "execution_count": 2,
   "id": "c29112ad",
   "metadata": {
    "execution": {
     "iopub.execute_input": "2024-12-30T23:18:35.533402Z",
     "iopub.status.busy": "2024-12-30T23:18:35.532641Z",
     "iopub.status.idle": "2024-12-30T23:18:35.641992Z",
     "shell.execute_reply": "2024-12-30T23:18:35.641033Z"
    },
    "jupyter": {
     "source_hidden": true
    },
    "papermill": {
     "duration": 0.122488,
     "end_time": "2024-12-30T23:18:35.643227",
     "exception": false,
     "start_time": "2024-12-30T23:18:35.520739",
     "status": "completed"
    },
    "tags": []
   },
   "outputs": [
    {
     "ename": "DefaultCredentialsError",
     "evalue": "File /mnt/c/Temp/desafiolh-445818-3cb0f62cb9ef.json was not found.",
     "output_type": "error",
     "traceback": [
      "\u001b[1;31m---------------------------------------------------------------------------\u001b[0m",
      "\u001b[1;31mDefaultCredentialsError\u001b[0m                   Traceback (most recent call last)",
      "Cell \u001b[1;32mIn[2], line 2\u001b[0m\n\u001b[0;32m      1\u001b[0m \u001b[38;5;66;03m# Configurar o cliente do BigQuery\u001b[39;00m\n\u001b[1;32m----> 2\u001b[0m client \u001b[38;5;241m=\u001b[39m \u001b[43mbigquery\u001b[49m\u001b[38;5;241;43m.\u001b[39;49m\u001b[43mClient\u001b[49m\u001b[43m(\u001b[49m\u001b[43m)\u001b[49m\n\u001b[0;32m      4\u001b[0m \u001b[38;5;66;03m# Nome do dataset e tabela\u001b[39;00m\n\u001b[0;32m      5\u001b[0m dataset_id \u001b[38;5;241m=\u001b[39m \u001b[38;5;124m'\u001b[39m\u001b[38;5;124mraw_data\u001b[39m\u001b[38;5;124m'\u001b[39m\n",
      "File \u001b[1;32mc:\\Users\\wrpen\\OneDrive\\Desktop\\df_lh\\.venv\\lib\\site-packages\\google\\cloud\\bigquery\\client.py:243\u001b[0m, in \u001b[0;36mClient.__init__\u001b[1;34m(self, project, credentials, _http, location, default_query_job_config, default_load_job_config, client_info, client_options)\u001b[0m\n\u001b[0;32m    232\u001b[0m \u001b[38;5;28;01mdef\u001b[39;00m \u001b[38;5;21m__init__\u001b[39m(\n\u001b[0;32m    233\u001b[0m     \u001b[38;5;28mself\u001b[39m,\n\u001b[0;32m    234\u001b[0m     project\u001b[38;5;241m=\u001b[39m\u001b[38;5;28;01mNone\u001b[39;00m,\n\u001b[1;32m   (...)\u001b[0m\n\u001b[0;32m    241\u001b[0m     client_options\u001b[38;5;241m=\u001b[39m\u001b[38;5;28;01mNone\u001b[39;00m,\n\u001b[0;32m    242\u001b[0m ) \u001b[38;5;241m-\u001b[39m\u001b[38;5;241m>\u001b[39m \u001b[38;5;28;01mNone\u001b[39;00m:\n\u001b[1;32m--> 243\u001b[0m     \u001b[38;5;28;43msuper\u001b[39;49m\u001b[43m(\u001b[49m\u001b[43mClient\u001b[49m\u001b[43m,\u001b[49m\u001b[43m \u001b[49m\u001b[38;5;28;43mself\u001b[39;49m\u001b[43m)\u001b[49m\u001b[38;5;241;43m.\u001b[39;49m\u001b[38;5;21;43m__init__\u001b[39;49m\u001b[43m(\u001b[49m\n\u001b[0;32m    244\u001b[0m \u001b[43m        \u001b[49m\u001b[43mproject\u001b[49m\u001b[38;5;241;43m=\u001b[39;49m\u001b[43mproject\u001b[49m\u001b[43m,\u001b[49m\n\u001b[0;32m    245\u001b[0m \u001b[43m        \u001b[49m\u001b[43mcredentials\u001b[49m\u001b[38;5;241;43m=\u001b[39;49m\u001b[43mcredentials\u001b[49m\u001b[43m,\u001b[49m\n\u001b[0;32m    246\u001b[0m \u001b[43m        \u001b[49m\u001b[43mclient_options\u001b[49m\u001b[38;5;241;43m=\u001b[39;49m\u001b[43mclient_options\u001b[49m\u001b[43m,\u001b[49m\n\u001b[0;32m    247\u001b[0m \u001b[43m        \u001b[49m\u001b[43m_http\u001b[49m\u001b[38;5;241;43m=\u001b[39;49m\u001b[43m_http\u001b[49m\u001b[43m,\u001b[49m\n\u001b[0;32m    248\u001b[0m \u001b[43m    \u001b[49m\u001b[43m)\u001b[49m\n\u001b[0;32m    250\u001b[0m     kw_args \u001b[38;5;241m=\u001b[39m {\u001b[38;5;124m\"\u001b[39m\u001b[38;5;124mclient_info\u001b[39m\u001b[38;5;124m\"\u001b[39m: client_info}\n\u001b[0;32m    251\u001b[0m     bq_host \u001b[38;5;241m=\u001b[39m _get_bigquery_host()\n",
      "File \u001b[1;32mc:\\Users\\wrpen\\OneDrive\\Desktop\\df_lh\\.venv\\lib\\site-packages\\google\\cloud\\client\\__init__.py:320\u001b[0m, in \u001b[0;36mClientWithProject.__init__\u001b[1;34m(self, project, credentials, client_options, _http)\u001b[0m\n\u001b[0;32m    319\u001b[0m \u001b[38;5;28;01mdef\u001b[39;00m \u001b[38;5;21m__init__\u001b[39m(\u001b[38;5;28mself\u001b[39m, project\u001b[38;5;241m=\u001b[39m\u001b[38;5;28;01mNone\u001b[39;00m, credentials\u001b[38;5;241m=\u001b[39m\u001b[38;5;28;01mNone\u001b[39;00m, client_options\u001b[38;5;241m=\u001b[39m\u001b[38;5;28;01mNone\u001b[39;00m, _http\u001b[38;5;241m=\u001b[39m\u001b[38;5;28;01mNone\u001b[39;00m):\n\u001b[1;32m--> 320\u001b[0m     \u001b[43m_ClientProjectMixin\u001b[49m\u001b[38;5;241;43m.\u001b[39;49m\u001b[38;5;21;43m__init__\u001b[39;49m\u001b[43m(\u001b[49m\u001b[38;5;28;43mself\u001b[39;49m\u001b[43m,\u001b[49m\u001b[43m \u001b[49m\u001b[43mproject\u001b[49m\u001b[38;5;241;43m=\u001b[39;49m\u001b[43mproject\u001b[49m\u001b[43m,\u001b[49m\u001b[43m \u001b[49m\u001b[43mcredentials\u001b[49m\u001b[38;5;241;43m=\u001b[39;49m\u001b[43mcredentials\u001b[49m\u001b[43m)\u001b[49m\n\u001b[0;32m    321\u001b[0m     Client\u001b[38;5;241m.\u001b[39m\u001b[38;5;21m__init__\u001b[39m(\n\u001b[0;32m    322\u001b[0m         \u001b[38;5;28mself\u001b[39m, credentials\u001b[38;5;241m=\u001b[39mcredentials, client_options\u001b[38;5;241m=\u001b[39mclient_options, _http\u001b[38;5;241m=\u001b[39m_http\n\u001b[0;32m    323\u001b[0m     )\n",
      "File \u001b[1;32mc:\\Users\\wrpen\\OneDrive\\Desktop\\df_lh\\.venv\\lib\\site-packages\\google\\cloud\\client\\__init__.py:268\u001b[0m, in \u001b[0;36m_ClientProjectMixin.__init__\u001b[1;34m(self, project, credentials)\u001b[0m\n\u001b[0;32m    265\u001b[0m     project \u001b[38;5;241m=\u001b[39m \u001b[38;5;28mgetattr\u001b[39m(credentials, \u001b[38;5;124m\"\u001b[39m\u001b[38;5;124mproject_id\u001b[39m\u001b[38;5;124m\"\u001b[39m, \u001b[38;5;28;01mNone\u001b[39;00m)\n\u001b[0;32m    267\u001b[0m \u001b[38;5;28;01mif\u001b[39;00m project \u001b[38;5;129;01mis\u001b[39;00m \u001b[38;5;28;01mNone\u001b[39;00m:\n\u001b[1;32m--> 268\u001b[0m     project \u001b[38;5;241m=\u001b[39m \u001b[38;5;28;43mself\u001b[39;49m\u001b[38;5;241;43m.\u001b[39;49m\u001b[43m_determine_default\u001b[49m\u001b[43m(\u001b[49m\u001b[43mproject\u001b[49m\u001b[43m)\u001b[49m\n\u001b[0;32m    270\u001b[0m \u001b[38;5;28;01mif\u001b[39;00m project \u001b[38;5;129;01mis\u001b[39;00m \u001b[38;5;28;01mNone\u001b[39;00m:\n\u001b[0;32m    271\u001b[0m     \u001b[38;5;28;01mraise\u001b[39;00m \u001b[38;5;167;01mEnvironmentError\u001b[39;00m(\n\u001b[0;32m    272\u001b[0m         \u001b[38;5;124m\"\u001b[39m\u001b[38;5;124mProject was not passed and could not be \u001b[39m\u001b[38;5;124m\"\u001b[39m\n\u001b[0;32m    273\u001b[0m         \u001b[38;5;124m\"\u001b[39m\u001b[38;5;124mdetermined from the environment.\u001b[39m\u001b[38;5;124m\"\u001b[39m\n\u001b[0;32m    274\u001b[0m     )\n",
      "File \u001b[1;32mc:\\Users\\wrpen\\OneDrive\\Desktop\\df_lh\\.venv\\lib\\site-packages\\google\\cloud\\client\\__init__.py:287\u001b[0m, in \u001b[0;36m_ClientProjectMixin._determine_default\u001b[1;34m(project)\u001b[0m\n\u001b[0;32m    284\u001b[0m \u001b[38;5;129m@staticmethod\u001b[39m\n\u001b[0;32m    285\u001b[0m \u001b[38;5;28;01mdef\u001b[39;00m \u001b[38;5;21m_determine_default\u001b[39m(project):\n\u001b[0;32m    286\u001b[0m \u001b[38;5;250m    \u001b[39m\u001b[38;5;124;03m\"\"\"Helper:  use default project detection.\"\"\"\u001b[39;00m\n\u001b[1;32m--> 287\u001b[0m     \u001b[38;5;28;01mreturn\u001b[39;00m \u001b[43m_determine_default_project\u001b[49m\u001b[43m(\u001b[49m\u001b[43mproject\u001b[49m\u001b[43m)\u001b[49m\n",
      "File \u001b[1;32mc:\\Users\\wrpen\\OneDrive\\Desktop\\df_lh\\.venv\\lib\\site-packages\\google\\cloud\\_helpers\\__init__.py:152\u001b[0m, in \u001b[0;36m_determine_default_project\u001b[1;34m(project)\u001b[0m\n\u001b[0;32m    140\u001b[0m \u001b[38;5;250m\u001b[39m\u001b[38;5;124;03m\"\"\"Determine default project ID explicitly or implicitly as fall-back.\u001b[39;00m\n\u001b[0;32m    141\u001b[0m \n\u001b[0;32m    142\u001b[0m \u001b[38;5;124;03mSee :func:`google.auth.default` for details on how the default project\u001b[39;00m\n\u001b[1;32m   (...)\u001b[0m\n\u001b[0;32m    149\u001b[0m \u001b[38;5;124;03m:returns: Default project if it can be determined.\u001b[39;00m\n\u001b[0;32m    150\u001b[0m \u001b[38;5;124;03m\"\"\"\u001b[39;00m\n\u001b[0;32m    151\u001b[0m \u001b[38;5;28;01mif\u001b[39;00m project \u001b[38;5;129;01mis\u001b[39;00m \u001b[38;5;28;01mNone\u001b[39;00m:\n\u001b[1;32m--> 152\u001b[0m     _, project \u001b[38;5;241m=\u001b[39m \u001b[43mgoogle\u001b[49m\u001b[38;5;241;43m.\u001b[39;49m\u001b[43mauth\u001b[49m\u001b[38;5;241;43m.\u001b[39;49m\u001b[43mdefault\u001b[49m\u001b[43m(\u001b[49m\u001b[43m)\u001b[49m\n\u001b[0;32m    153\u001b[0m \u001b[38;5;28;01mreturn\u001b[39;00m project\n",
      "File \u001b[1;32mc:\\Users\\wrpen\\OneDrive\\Desktop\\df_lh\\.venv\\lib\\site-packages\\google\\auth\\_default.py:663\u001b[0m, in \u001b[0;36mdefault\u001b[1;34m(scopes, request, quota_project_id, default_scopes)\u001b[0m\n\u001b[0;32m    651\u001b[0m checkers \u001b[38;5;241m=\u001b[39m (\n\u001b[0;32m    652\u001b[0m     \u001b[38;5;66;03m# Avoid passing scopes here to prevent passing scopes to user credentials.\u001b[39;00m\n\u001b[0;32m    653\u001b[0m     \u001b[38;5;66;03m# with_scopes_if_required() below will ensure scopes/default scopes are\u001b[39;00m\n\u001b[1;32m   (...)\u001b[0m\n\u001b[0;32m    659\u001b[0m     \u001b[38;5;28;01mlambda\u001b[39;00m: _get_gce_credentials(request, quota_project_id\u001b[38;5;241m=\u001b[39mquota_project_id),\n\u001b[0;32m    660\u001b[0m )\n\u001b[0;32m    662\u001b[0m \u001b[38;5;28;01mfor\u001b[39;00m checker \u001b[38;5;129;01min\u001b[39;00m checkers:\n\u001b[1;32m--> 663\u001b[0m     credentials, project_id \u001b[38;5;241m=\u001b[39m \u001b[43mchecker\u001b[49m\u001b[43m(\u001b[49m\u001b[43m)\u001b[49m\n\u001b[0;32m    664\u001b[0m     \u001b[38;5;28;01mif\u001b[39;00m credentials \u001b[38;5;129;01mis\u001b[39;00m \u001b[38;5;129;01mnot\u001b[39;00m \u001b[38;5;28;01mNone\u001b[39;00m:\n\u001b[0;32m    665\u001b[0m         credentials \u001b[38;5;241m=\u001b[39m with_scopes_if_required(\n\u001b[0;32m    666\u001b[0m             credentials, scopes, default_scopes\u001b[38;5;241m=\u001b[39mdefault_scopes\n\u001b[0;32m    667\u001b[0m         )\n",
      "File \u001b[1;32mc:\\Users\\wrpen\\OneDrive\\Desktop\\df_lh\\.venv\\lib\\site-packages\\google\\auth\\_default.py:656\u001b[0m, in \u001b[0;36mdefault.<locals>.<lambda>\u001b[1;34m()\u001b[0m\n\u001b[0;32m    645\u001b[0m \u001b[38;5;28;01mfrom\u001b[39;00m \u001b[38;5;21;01mgoogle\u001b[39;00m\u001b[38;5;21;01m.\u001b[39;00m\u001b[38;5;21;01mauth\u001b[39;00m\u001b[38;5;21;01m.\u001b[39;00m\u001b[38;5;21;01mcredentials\u001b[39;00m \u001b[38;5;28;01mimport\u001b[39;00m CredentialsWithQuotaProject\n\u001b[0;32m    647\u001b[0m explicit_project_id \u001b[38;5;241m=\u001b[39m os\u001b[38;5;241m.\u001b[39menviron\u001b[38;5;241m.\u001b[39mget(\n\u001b[0;32m    648\u001b[0m     environment_vars\u001b[38;5;241m.\u001b[39mPROJECT, os\u001b[38;5;241m.\u001b[39menviron\u001b[38;5;241m.\u001b[39mget(environment_vars\u001b[38;5;241m.\u001b[39mLEGACY_PROJECT)\n\u001b[0;32m    649\u001b[0m )\n\u001b[0;32m    651\u001b[0m checkers \u001b[38;5;241m=\u001b[39m (\n\u001b[0;32m    652\u001b[0m     \u001b[38;5;66;03m# Avoid passing scopes here to prevent passing scopes to user credentials.\u001b[39;00m\n\u001b[0;32m    653\u001b[0m     \u001b[38;5;66;03m# with_scopes_if_required() below will ensure scopes/default scopes are\u001b[39;00m\n\u001b[0;32m    654\u001b[0m     \u001b[38;5;66;03m# safely set on the returned credentials since requires_scopes will\u001b[39;00m\n\u001b[0;32m    655\u001b[0m     \u001b[38;5;66;03m# guard against setting scopes on user credentials.\u001b[39;00m\n\u001b[1;32m--> 656\u001b[0m     \u001b[38;5;28;01mlambda\u001b[39;00m: \u001b[43m_get_explicit_environ_credentials\u001b[49m\u001b[43m(\u001b[49m\u001b[43mquota_project_id\u001b[49m\u001b[38;5;241;43m=\u001b[39;49m\u001b[43mquota_project_id\u001b[49m\u001b[43m)\u001b[49m,\n\u001b[0;32m    657\u001b[0m     \u001b[38;5;28;01mlambda\u001b[39;00m: _get_gcloud_sdk_credentials(quota_project_id\u001b[38;5;241m=\u001b[39mquota_project_id),\n\u001b[0;32m    658\u001b[0m     _get_gae_credentials,\n\u001b[0;32m    659\u001b[0m     \u001b[38;5;28;01mlambda\u001b[39;00m: _get_gce_credentials(request, quota_project_id\u001b[38;5;241m=\u001b[39mquota_project_id),\n\u001b[0;32m    660\u001b[0m )\n\u001b[0;32m    662\u001b[0m \u001b[38;5;28;01mfor\u001b[39;00m checker \u001b[38;5;129;01min\u001b[39;00m checkers:\n\u001b[0;32m    663\u001b[0m     credentials, project_id \u001b[38;5;241m=\u001b[39m checker()\n",
      "File \u001b[1;32mc:\\Users\\wrpen\\OneDrive\\Desktop\\df_lh\\.venv\\lib\\site-packages\\google\\auth\\_default.py:271\u001b[0m, in \u001b[0;36m_get_explicit_environ_credentials\u001b[1;34m(quota_project_id)\u001b[0m\n\u001b[0;32m    268\u001b[0m     \u001b[38;5;28;01mreturn\u001b[39;00m _get_gcloud_sdk_credentials(quota_project_id\u001b[38;5;241m=\u001b[39mquota_project_id)\n\u001b[0;32m    270\u001b[0m \u001b[38;5;28;01mif\u001b[39;00m explicit_file \u001b[38;5;129;01mis\u001b[39;00m \u001b[38;5;129;01mnot\u001b[39;00m \u001b[38;5;28;01mNone\u001b[39;00m:\n\u001b[1;32m--> 271\u001b[0m     credentials, project_id \u001b[38;5;241m=\u001b[39m \u001b[43mload_credentials_from_file\u001b[49m\u001b[43m(\u001b[49m\n\u001b[0;32m    272\u001b[0m \u001b[43m        \u001b[49m\u001b[43mos\u001b[49m\u001b[38;5;241;43m.\u001b[39;49m\u001b[43menviron\u001b[49m\u001b[43m[\u001b[49m\u001b[43menvironment_vars\u001b[49m\u001b[38;5;241;43m.\u001b[39;49m\u001b[43mCREDENTIALS\u001b[49m\u001b[43m]\u001b[49m\u001b[43m,\u001b[49m\u001b[43m \u001b[49m\u001b[43mquota_project_id\u001b[49m\u001b[38;5;241;43m=\u001b[39;49m\u001b[43mquota_project_id\u001b[49m\n\u001b[0;32m    273\u001b[0m \u001b[43m    \u001b[49m\u001b[43m)\u001b[49m\n\u001b[0;32m    274\u001b[0m     credentials\u001b[38;5;241m.\u001b[39m_cred_file_path \u001b[38;5;241m=\u001b[39m \u001b[38;5;124mf\u001b[39m\u001b[38;5;124m\"\u001b[39m\u001b[38;5;132;01m{\u001b[39;00mexplicit_file\u001b[38;5;132;01m}\u001b[39;00m\u001b[38;5;124m file via the GOOGLE_APPLICATION_CREDENTIALS environment variable\u001b[39m\u001b[38;5;124m\"\u001b[39m\n\u001b[0;32m    276\u001b[0m     \u001b[38;5;28;01mreturn\u001b[39;00m credentials, project_id\n",
      "File \u001b[1;32mc:\\Users\\wrpen\\OneDrive\\Desktop\\df_lh\\.venv\\lib\\site-packages\\google\\auth\\_default.py:114\u001b[0m, in \u001b[0;36mload_credentials_from_file\u001b[1;34m(filename, scopes, default_scopes, quota_project_id, request)\u001b[0m\n\u001b[0;32m     82\u001b[0m \u001b[38;5;250m\u001b[39m\u001b[38;5;124;03m\"\"\"Loads Google credentials from a file.\u001b[39;00m\n\u001b[0;32m     83\u001b[0m \n\u001b[0;32m     84\u001b[0m \u001b[38;5;124;03mThe credentials file must be a service account key, stored authorized\u001b[39;00m\n\u001b[1;32m   (...)\u001b[0m\n\u001b[0;32m    111\u001b[0m \u001b[38;5;124;03m        wrong format or is missing.\u001b[39;00m\n\u001b[0;32m    112\u001b[0m \u001b[38;5;124;03m\"\"\"\u001b[39;00m\n\u001b[0;32m    113\u001b[0m \u001b[38;5;28;01mif\u001b[39;00m \u001b[38;5;129;01mnot\u001b[39;00m os\u001b[38;5;241m.\u001b[39mpath\u001b[38;5;241m.\u001b[39mexists(filename):\n\u001b[1;32m--> 114\u001b[0m     \u001b[38;5;28;01mraise\u001b[39;00m exceptions\u001b[38;5;241m.\u001b[39mDefaultCredentialsError(\n\u001b[0;32m    115\u001b[0m         \u001b[38;5;124m\"\u001b[39m\u001b[38;5;124mFile \u001b[39m\u001b[38;5;132;01m{}\u001b[39;00m\u001b[38;5;124m was not found.\u001b[39m\u001b[38;5;124m\"\u001b[39m\u001b[38;5;241m.\u001b[39mformat(filename)\n\u001b[0;32m    116\u001b[0m     )\n\u001b[0;32m    118\u001b[0m \u001b[38;5;28;01mwith\u001b[39;00m io\u001b[38;5;241m.\u001b[39mopen(filename, \u001b[38;5;124m\"\u001b[39m\u001b[38;5;124mr\u001b[39m\u001b[38;5;124m\"\u001b[39m) \u001b[38;5;28;01mas\u001b[39;00m file_obj:\n\u001b[0;32m    119\u001b[0m     \u001b[38;5;28;01mtry\u001b[39;00m:\n",
      "\u001b[1;31mDefaultCredentialsError\u001b[0m: File /mnt/c/Temp/desafiolh-445818-3cb0f62cb9ef.json was not found."
     ]
    }
   ],
   "source": [
    "# Configurar o cliente do BigQuery\n",
    "client = bigquery.Client()\n",
    "\n",
    "# Nome do dataset e tabela\n",
    "dataset_id = 'raw_data'"
   ]
  },
  {
   "cell_type": "code",
   "execution_count": 4,
   "id": "80dc82b4",
   "metadata": {
    "execution": {
     "iopub.execute_input": "2024-12-30T23:18:35.665020Z",
     "iopub.status.busy": "2024-12-30T23:18:35.664788Z",
     "iopub.status.idle": "2024-12-30T23:18:36.179951Z",
     "shell.execute_reply": "2024-12-30T23:18:36.179066Z"
    },
    "jupyter": {
     "source_hidden": true
    },
    "papermill": {
     "duration": 0.528813,
     "end_time": "2024-12-30T23:18:36.181353",
     "exception": false,
     "start_time": "2024-12-30T23:18:35.652540",
     "status": "completed"
    },
    "tags": []
   },
   "outputs": [
    {
     "name": "stdout",
     "output_type": "stream",
     "text": [
      "Tabelas disponíveis:\n"
     ]
    },
    {
     "name": "stdout",
     "output_type": "stream",
     "text": [
      "humanresources_employee\n",
      "person_address\n",
      "person_businessentity\n",
      "person_person\n",
      "production_location\n",
      "production_product\n",
      "production_productcategory\n",
      "production_productinventory\n",
      "production_productsubcategory\n",
      "sales_customer\n",
      "sales_salesorderdetail\n",
      "sales_salesorderheader\n",
      "sales_salesterritory\n",
      "sales_store\n"
     ]
    }
   ],
   "source": [
    "# Listar tabelas no dataset\n",
    "tables = client.list_tables('raw_data')\n",
    "print(\"Tabelas disponíveis:\")\n",
    "for table in tables:\n",
    "    print(table.table_id)\n",
    "\n",
    "\n"
   ]
  },
  {
   "cell_type": "code",
   "execution_count": 5,
   "id": "c4d8d1aa",
   "metadata": {
    "execution": {
     "iopub.execute_input": "2024-12-30T23:18:36.201944Z",
     "iopub.status.busy": "2024-12-30T23:18:36.201490Z",
     "iopub.status.idle": "2024-12-30T23:18:37.783037Z",
     "shell.execute_reply": "2024-12-30T23:18:37.782208Z"
    },
    "jupyter": {
     "source_hidden": true
    },
    "papermill": {
     "duration": 1.594674,
     "end_time": "2024-12-30T23:18:37.783976",
     "exception": false,
     "start_time": "2024-12-30T23:18:36.189302",
     "status": "completed"
    },
    "tags": []
   },
   "outputs": [
    {
     "name": "stderr",
     "output_type": "stream",
     "text": [
      "/mnt/c/Users/wrpen/OneDrive/Desktop/df_lh/airflow_env/lib/python3.10/site-packages/google/cloud/bigquery/table.py:1727: UserWarning: BigQuery Storage module not found, fetch data with the REST endpoint instead.\n",
      "  warnings.warn(\n",
      "/mnt/c/Users/wrpen/OneDrive/Desktop/df_lh/airflow_env/lib/python3.10/site-packages/google/cloud/bigquery/_pandas_helpers.py:208: UserWarning: Unable to determine Arrow type for field 'data'.\n",
      "  warnings.warn(\n"
     ]
    },
    {
     "name": "stdout",
     "output_type": "stream",
     "text": [
      "       birthdate  businessentityid  currentflag gender    hiredate                      jobtitle                     loginid maritalstatus                modifieddate nationalidnumber organizationnode                               rowguid  salariedflag  sickleavehours  vacationhours\n",
      "1453  1988-05-10               204         True      M  2009-03-08  Production Technician - WC40       adventure-works\\gabe0             M         2014-06-30T00:00:00        440379437      /3/1/21/12/  790c9a7c-264c-4d48-a9d3-e2571a8011d8         False              48             57\n",
      "41    1974-09-10               141         True      M  2010-01-24  Production Technician - WC20        adventure-works\\min0             M         2014-06-30T00:00:00        872923042       /3/1/14/7/  cc75c35d-1566-43fa-b2e9-d1e508efdcd1         False              20              1\n",
      "1218  1977-10-04               197         True      M  2008-12-31  Production Technician - WC40     adventure-works\\rajesh0             M         2014-06-30T00:00:00        632092621       /3/1/21/5/  aca7b40c-7ac0-4daa-b4c7-1051d850d7d9         False              44             48\n",
      "1165  1987-12-22               223         True      M  2009-01-26          Scheduling Assistant     adventure-works\\sairaj0             M         2014-06-30T00:00:00        981495526          /3/3/1/  4d36a720-ce32-4c47-866a-db7844449309         False              43             46\n",
      "964   1984-07-25                42         True      M  2008-12-27  Production Technician - WC60      adventure-works\\james0             M         2014-06-30T00:00:00        339712426        /3/1/2/2/  82e52d5a-165b-4c6d-9773-c3a6b6332ecd         False              39             39\n",
      "802   1984-12-29                70         True      M  2008-12-15  Production Technician - WC60      adventure-works\\david2             M         2014-06-30T00:00:00         36151748        /3/1/5/8/  fc617bb8-d2a3-4374-873c-8ef38d80127d         False              36             33\n",
      "1019  1977-04-06               152         True      M  2009-02-01  Production Supervisor - WC20     adventure-works\\yuhong0             M         2014-06-30T00:00:00        319472946         /3/1/16/  f1a684f4-02db-4b22-8977-6d8d3a21100e         False              40             41\n",
      "1767  1984-03-25               264         True      F  2009-02-04               Network Manager  adventure-works\\stephanie0             S         2014-06-30T00:00:00        858323870            /5/1/  221cbb7b-8bae-452b-a16f-a67ebb3873c8          True              54             68\n",
      "1053  1983-10-19                73         True      F  2008-12-19  Production Technician - WC30     adventure-works\\carole0             M         2014-06-30T00:00:00        138280935        /3/1/6/2/  c76a41f1-a390-4ae4-a82a-2a87764c6391         False              41             42\n",
      "966   1984-07-25                42         True      M  2008-12-27  Production Technician - WC60      adventure-works\\james0             M         2014-06-30T00:00:00        339712426        /3/1/2/2/  82e52d5a-165b-4c6d-9773-c3a6b6332ecd         False              39             39\n",
      "50    1986-09-08                95         True      M  2008-12-19  Production Technician - WC50        adventure-works\\jim0             M         2014-06-30T00:00:00        674171828        /3/1/9/2/  6175876e-8fcc-4917-be06-fc358515e6df         False              20              1\n",
      "117   1970-11-12               136         True      M  2009-12-11  Production Technician - WC20  adventure-works\\sylvester0             M         2014-06-30T00:00:00        701156975       /3/1/14/2/  d9c43d08-3882-4e5c-bdf0-f6bd7004cd04         False              22              4\n",
      "218   1989-05-28                13         True      F  2010-12-23                 Tool Designer     adventure-works\\janice0             M         2014-06-30T00:00:00        486228782        /1/1/5/2/  954b91b6-5aa7-48c2-8685-6e11c6e5c49a         False              24              8\n",
      "2417  1976-01-18               228         True      M  2008-12-14        Maintenance Supervisor  adventure-works\\christian0             M         2014-06-30T00:00:00        553069203          /3/4/1/  4611c7c5-90a0-407f-b054-93bd51533609          True              66             92\n",
      "1690  1975-12-13               263         True      F  2008-12-11  Information Services Manager       adventure-works\\jean0             S         2014-06-30T00:00:00        441044382              /5/  794a0b1f-c46a-401c-984d-008996fc7092          True              52             65\n",
      "175   1990-11-04               144         True      M  2009-01-17  Production Technician - WC20       adventure-works\\paul1             M         2014-06-30T00:00:00        886023130      /3/1/14/10/  dc5ba622-b860-41ee-af92-5feb4779b589         False              23              6\n",
      "295   1977-06-06               273         True      M  2011-02-15       Vice President of Sales      adventure-works\\brian3             S         2014-06-30T00:00:00        112432117              /6/  f3ec557c-8b41-4ee6-bb0c-e3b93aff81e5          True              25             10\n",
      "2252  1971-02-18               227         True      M  2009-12-02            Facilities Manager       adventure-works\\gary1             M         2014-06-30T00:00:00        141165819            /3/4/  62f6ec59-5635-44f3-9cc1-2d8eeaf90a05          True              63             86\n",
      "1708  1952-03-02                84         True      M  2010-02-05  Production Technician - WC40      adventure-works\\frank3             M         2014-06-30T00:00:00        947029962        /3/1/7/6/  9af24acc-ea3e-4efe-b5e3-4762c496d57c         False              53             66\n",
      "2354  1979-07-06               110         True      M  2008-12-14  Production Technician - WC50        adventure-works\\jun0             S         2014-06-30T00:00:00        857651804       /3/1/11/2/  9c5f84d1-fb96-4d82-92a1-f932903deaad         False              65             90\n",
      "1111  1968-09-17               222         True      M  2008-12-12              Master Scheduler     adventure-works\\ascott0             S  2014-12-26T09:17:08.637000        685233686            /3/3/  13909262-4136-492f-bca3-0b0e3773b03e         False              42             44\n",
      "292   1977-06-06               273         True      M  2011-02-15       Vice President of Sales      adventure-works\\brian3             S         2014-06-30T00:00:00        112432117              /6/  f3ec557c-8b41-4ee6-bb0c-e3b93aff81e5          True              25             10\n",
      "1920  1985-02-06               161         True      M  2008-12-15  Production Technician - WC45       adventure-works\\kirk0             S         2014-06-30T00:00:00        275962311       /3/1/17/1/  08d25baa-167b-499c-8b51-31dcc856a8cf         False              57             74\n",
      "1010  1975-03-17                20         True      F  2011-01-07           Marketing Assistant     adventure-works\\wanida0             M         2014-06-30T00:00:00        323403273            /2/4/  43cca446-da1c-454c-8530-873ad2923e1b         False              40             41\n",
      "1061  1983-10-19                73         True      F  2008-12-19  Production Technician - WC30     adventure-works\\carole0             M         2014-06-30T00:00:00        138280935        /3/1/6/2/  c76a41f1-a390-4ae4-a82a-2a87764c6391         False              41             42\n",
      "644   1973-09-05                64         True      M  2010-02-23  Production Technician - WC60    adventure-works\\michael7             S         2014-06-30T00:00:00        582347317        /3/1/5/2/  492b24bd-bde9-4371-b96e-ccd72264b91f         False              33             26\n",
      "2437  1978-02-25               111         True      M  2008-12-17  Production Technician - WC50     adventure-works\\suroor0             S         2014-06-30T00:00:00        415823523       /3/1/11/3/  14010b0e-c101-4e41-b788-21923399e512         False              66             93\n",
      "1931  1978-05-19               267         True      F  2009-02-16        Application Specialist      adventure-works\\karen1             S         2014-06-30T00:00:00         58317344            /5/2/  45c3d0f5-3332-419d-ad40-a98996bb5531          True              57             74\n",
      "2053  1956-04-01                55         True      M  2008-02-08  Production Supervisor - WC50     adventure-works\\taylor0             M         2014-06-30T00:00:00        233069302          /3/1/4/  28f7ef89-2793-4989-b67d-25046543c1e3         False              59             79\n",
      "579   1974-02-11               283         True      M  2011-05-31          Sales Representative      adventure-works\\david8             S         2014-06-30T00:00:00        987554265          /6/1/9/  1e8f9e91-508f-4d49-acd2-775c836030ed          True              31             23\n",
      "2202  1989-03-28               214         True      M  2009-02-02  Quality Assurance Technician    adventure-works\\andreas0             M         2014-06-30T00:00:00        131471224        /3/2/1/2/  f4ddd64f-dffe-4df3-aa17-d6bea1924818         False              62             84\n",
      "80    1979-03-29                99         True      M  2009-01-06  Production Technician - WC50       adventure-works\\nuan0             S         2014-06-30T00:00:00        431859843        /3/1/9/6/  a6089357-2f2f-48cc-ab3c-d9b75a3c09d7         False              21              2\n",
      "2082  1985-11-24               188         True      M  2008-12-27  Production Technician - WC45    adventure-works\\douglas0             M         2014-06-30T00:00:00        435234965       /3/1/20/2/  1ab0edeb-7558-4734-8423-5a11b44dca35         False              60             80\n",
      "2028  1980-04-28                93         True      M  2008-12-27  Production Supervisor - WC50     adventure-works\\kok-ho0             S         2014-06-30T00:00:00        778552911          /3/1/9/  57fb2c0f-b105-49f0-967a-88f3d743cb3f         False              59             78\n",
      "1136  1981-11-06               224         True      M  2009-01-07          Scheduling Assistant    adventure-works\\william0             M         2014-06-30T00:00:00        621209647          /3/3/2/  1a68cd62-6fe9-4613-90d4-2cd178e4e54a         False              42             45\n",
      "781   1981-08-03               171         True      M  2009-01-02  Production Technician - WC30      adventure-works\\david3             S         2014-06-30T00:00:00        746373306       /3/1/18/5/  84c358d4-2493-452c-b7d6-b212c893a009         False              36             32\n",
      "803   1984-12-29                70         True      M  2008-12-15  Production Technician - WC60      adventure-works\\david2             M         2014-06-30T00:00:00         36151748        /3/1/5/8/  fc617bb8-d2a3-4374-873c-8ef38d80127d         False              36             33\n",
      "1315  1988-12-05               193         True      M  2008-12-06  Production Technician - WC40  adventure-works\\alejandro0             S         2014-06-30T00:00:00        761597760       /3/1/21/1/  8c7321d2-2c64-4902-9d64-8f5c1eb7f747         False              46             52\n",
      "1349  1980-10-04               196         True      M  2008-12-24  Production Technician - WC40     adventure-works\\shammi0             M         2014-06-30T00:00:00        370487086       /3/1/21/4/  9bef0c94-7969-4905-9a42-ce469c754800         False              46             53\n",
      "891   1977-02-14               286         True      F  2013-05-30          Sales Representative       adventure-works\\lynn0             S         2014-06-30T00:00:00        758596752          /6/2/1/  4a9a8407-a680-4a6b-8d03-511cb58f9a8a          True              38             36\n",
      "169   1959-03-11                 6         True      M  2008-01-24               Design Engineer     adventure-works\\jossef0             M         2014-06-30T00:00:00        998320692          /1/1/3/  e39056f1-9cd5-478d-8945-14aca7fbdcdd          True              23              6\n",
      "1290  1981-05-28               203         True      M  2009-02-24  Production Technician - WC40        adventure-works\\ken1             M         2014-06-30T00:00:00        693168613      /3/1/21/11/  699c00d8-c4ab-4cd2-a48f-37cbcb5bfcca         False              45             51\n",
      "2537  1978-05-07               114         True      M  2009-01-13  Production Technician - WC50  adventure-works\\mindaugas0             M         2014-06-30T00:00:00        342607223       /3/1/11/6/  1d784088-dacb-4185-9f60-3d2db4925ba5         False              68             97\n",
      "698   1970-03-07                66         True      M  2009-12-22  Production Technician - WC60      adventure-works\\karan0             S         2014-06-30T00:00:00        834186596        /3/1/5/4/  08b1ba74-dd80-4fda-8327-93268b84977b         False              34             28\n",
      "296   1977-06-06               273         True      M  2011-02-15       Vice President of Sales      adventure-works\\brian3             S         2014-06-30T00:00:00        112432117              /6/  f3ec557c-8b41-4ee6-bb0c-e3b93aff81e5          True              25             10\n",
      "1087  1989-11-06                74         True      M  2009-01-07  Production Technician - WC30      adventure-works\\bjorn0             S         2014-06-30T00:00:00        420023788        /3/1/6/3/  a942e1e0-2d5e-4858-97c0-947020e96860         False              41             43\n",
      "1204  1974-12-23                 4         True      M  2007-12-05          Senior Tool Designer        adventure-works\\rob0             S         2014-06-30T00:00:00        112457891          /1/1/1/  59747955-87b8-443f-8ed4-f8ad3afdf3a9         False              80             48\n",
      "26    1976-01-06               234         True      F  2009-01-31       Chief Financial Officer      adventure-works\\laura1             M         2014-06-30T00:00:00        184188301              /4/  d5e315a6-bd65-4d67-9d5f-81ef5c4ef8a6          True              20              0\n",
      "2387  1954-04-24               231         True      F  2010-03-07                       Janitor         adventure-works\\jo1             M         2014-06-30T00:00:00        153479919        /3/4/1/3/  39af5cca-9b52-41e5-b510-72901d2578f6         False              65             91\n",
      "790   1976-02-11                67         True      M  2009-03-05  Production Technician - WC60        adventure-works\\jay0             S         2014-06-30T00:00:00         63179277        /3/1/5/5/  18187809-5294-474f-85a1-d5be6bd518d6         False              36             32\n"
     ]
    }
   ],
   "source": [
    "query = f\"SELECT * FROM `raw_data.humanresources_employee`\"\n",
    "data = client.query(query).result().to_dataframe()\n",
    "\n",
    "# Expandir a coluna JSON\n",
    "EDA_humanresources_employee = pd.json_normalize(data['data'])\n",
    "\n",
    "# Exibir os dados expandidos\n",
    "print(EDA_humanresources_employee.sample(n=50))\n"
   ]
  },
  {
   "cell_type": "markdown",
   "id": "c1447ba3",
   "metadata": {
    "papermill": {
     "duration": 0.011057,
     "end_time": "2024-12-30T23:18:37.802591",
     "exception": false,
     "start_time": "2024-12-30T23:18:37.791534",
     "status": "completed"
    },
    "tags": []
   },
   "source": [
    "### Verificando valores nulos/em branco nos dados"
   ]
  },
  {
   "cell_type": "code",
   "execution_count": 6,
   "id": "4aee4f73",
   "metadata": {
    "execution": {
     "iopub.execute_input": "2024-12-30T23:18:37.828875Z",
     "iopub.status.busy": "2024-12-30T23:18:37.828598Z",
     "iopub.status.idle": "2024-12-30T23:18:37.837127Z",
     "shell.execute_reply": "2024-12-30T23:18:37.836306Z"
    },
    "jupyter": {
     "source_hidden": true
    },
    "papermill": {
     "duration": 0.024301,
     "end_time": "2024-12-30T23:18:37.838016",
     "exception": false,
     "start_time": "2024-12-30T23:18:37.813715",
     "status": "completed"
    },
    "tags": []
   },
   "outputs": [
    {
     "data": {
      "text/plain": [
       "birthdate           0\n",
       "businessentityid    0\n",
       "currentflag         0\n",
       "gender              0\n",
       "hiredate            0\n",
       "jobtitle            0\n",
       "loginid             0\n",
       "maritalstatus       0\n",
       "modifieddate        0\n",
       "nationalidnumber    0\n",
       "organizationnode    0\n",
       "rowguid             0\n",
       "salariedflag        0\n",
       "sickleavehours      0\n",
       "vacationhours       0\n",
       "dtype: int64"
      ]
     },
     "execution_count": 6,
     "metadata": {},
     "output_type": "execute_result"
    }
   ],
   "source": [
    "#valores nulos\n",
    "\n",
    "EDA_humanresources_employee.isnull().sum()"
   ]
  },
  {
   "cell_type": "code",
   "execution_count": 7,
   "id": "0b1d965c",
   "metadata": {
    "execution": {
     "iopub.execute_input": "2024-12-30T23:18:37.861555Z",
     "iopub.status.busy": "2024-12-30T23:18:37.861328Z",
     "iopub.status.idle": "2024-12-30T23:18:37.865073Z",
     "shell.execute_reply": "2024-12-30T23:18:37.864240Z"
    },
    "jupyter": {
     "source_hidden": true
    },
    "papermill": {
     "duration": 0.017819,
     "end_time": "2024-12-30T23:18:37.866272",
     "exception": false,
     "start_time": "2024-12-30T23:18:37.848453",
     "status": "completed"
    },
    "tags": []
   },
   "outputs": [],
   "source": [
    "# dropar colunas vazias"
   ]
  },
  {
   "cell_type": "code",
   "execution_count": 8,
   "id": "a81473d2",
   "metadata": {
    "execution": {
     "iopub.execute_input": "2024-12-30T23:18:37.893787Z",
     "iopub.status.busy": "2024-12-30T23:18:37.893534Z",
     "iopub.status.idle": "2024-12-30T23:18:37.917934Z",
     "shell.execute_reply": "2024-12-30T23:18:37.917371Z"
    },
    "jupyter": {
     "source_hidden": true
    },
    "papermill": {
     "duration": 0.037701,
     "end_time": "2024-12-30T23:18:37.918905",
     "exception": false,
     "start_time": "2024-12-30T23:18:37.881204",
     "status": "completed"
    },
    "tags": []
   },
   "outputs": [
    {
     "name": "stdout",
     "output_type": "stream",
     "text": [
      "birthdate : 275\n",
      "businessentityid : 290\n",
      "currentflag : 1\n",
      "gender : 2\n",
      "hiredate : 164\n",
      "jobtitle : 67\n",
      "loginid : 290\n",
      "maritalstatus : 2\n",
      "modifieddate : 2\n",
      "nationalidnumber : 290\n",
      "organizationnode : 290\n",
      "rowguid : 290\n",
      "salariedflag : 2\n",
      "sickleavehours : 51\n",
      "vacationhours : 100\n"
     ]
    }
   ],
   "source": [
    "#total valores unicos de cada variável\n",
    "\n",
    "valores_unicos = []\n",
    "\n",
    "for i in EDA_humanresources_employee.columns[0:15].tolist():\n",
    "    print(i, ':', len(EDA_humanresources_employee[i].astype(str).value_counts()))\n",
    "    valores_unicos.append(len(EDA_humanresources_employee[i].astype(str).value_counts()))"
   ]
  },
  {
   "cell_type": "code",
   "execution_count": 9,
   "id": "01f3c9a8",
   "metadata": {
    "execution": {
     "iopub.execute_input": "2024-12-30T23:18:37.938804Z",
     "iopub.status.busy": "2024-12-30T23:18:37.938571Z",
     "iopub.status.idle": "2024-12-30T23:18:37.949238Z",
     "shell.execute_reply": "2024-12-30T23:18:37.948399Z"
    },
    "jupyter": {
     "source_hidden": true
    },
    "papermill": {
     "duration": 0.023812,
     "end_time": "2024-12-30T23:18:37.950238",
     "exception": false,
     "start_time": "2024-12-30T23:18:37.926426",
     "status": "completed"
    },
    "tags": []
   },
   "outputs": [
    {
     "name": "stdout",
     "output_type": "stream",
     "text": [
      "Duplicatas ordenadas:\n",
      "       birthdate  businessentityid  currentflag gender    hiredate                 jobtitle                  loginid maritalstatus         modifieddate nationalidnumber organizationnode                               rowguid  salariedflag  sickleavehours  vacationhours\n",
      "2583  1969-01-29                 1         True      M  2009-01-14  Chief Executive Officer     adventure-works\\ken0             S  2014-06-30T00:00:00        295847284                /  f01251e5-96a3-448d-981e-0f99d789110d          True              69             99\n",
      "2584  1969-01-29                 1         True      M  2009-01-14  Chief Executive Officer     adventure-works\\ken0             S  2014-06-30T00:00:00        295847284                /  f01251e5-96a3-448d-981e-0f99d789110d          True              69             99\n",
      "2585  1969-01-29                 1         True      M  2009-01-14  Chief Executive Officer     adventure-works\\ken0             S  2014-06-30T00:00:00        295847284                /  f01251e5-96a3-448d-981e-0f99d789110d          True              69             99\n",
      "2586  1969-01-29                 1         True      M  2009-01-14  Chief Executive Officer     adventure-works\\ken0             S  2014-06-30T00:00:00        295847284                /  f01251e5-96a3-448d-981e-0f99d789110d          True              69             99\n",
      "2587  1969-01-29                 1         True      M  2009-01-14  Chief Executive Officer     adventure-works\\ken0             S  2014-06-30T00:00:00        295847284                /  f01251e5-96a3-448d-981e-0f99d789110d          True              69             99\n",
      "...          ...               ...          ...    ...         ...                      ...                      ...           ...                  ...              ...              ...                                   ...           ...             ...            ...\n",
      "841   1975-09-30               290         True      M  2012-05-30     Sales Representative  adventure-works\\ranjit0             S  2014-06-30T00:00:00        134219713          /6/3/3/  604213f9-dd0f-43b4-bdd2-c96e93d3f4bf          True              37             34\n",
      "842   1975-09-30               290         True      M  2012-05-30     Sales Representative  adventure-works\\ranjit0             S  2014-06-30T00:00:00        134219713          /6/3/3/  604213f9-dd0f-43b4-bdd2-c96e93d3f4bf          True              37             34\n",
      "843   1975-09-30               290         True      M  2012-05-30     Sales Representative  adventure-works\\ranjit0             S  2014-06-30T00:00:00        134219713          /6/3/3/  604213f9-dd0f-43b4-bdd2-c96e93d3f4bf          True              37             34\n",
      "844   1975-09-30               290         True      M  2012-05-30     Sales Representative  adventure-works\\ranjit0             S  2014-06-30T00:00:00        134219713          /6/3/3/  604213f9-dd0f-43b4-bdd2-c96e93d3f4bf          True              37             34\n",
      "845   1975-09-30               290         True      M  2012-05-30     Sales Representative  adventure-works\\ranjit0             S  2014-06-30T00:00:00        134219713          /6/3/3/  604213f9-dd0f-43b4-bdd2-c96e93d3f4bf          True              37             34\n",
      "\n",
      "[2610 rows x 15 columns]\n"
     ]
    }
   ],
   "source": [
    "# Identificar duplicatas com base em 'businessentityid'\n",
    "duplicatas = EDA_humanresources_employee[EDA_humanresources_employee.duplicated(subset=['businessentityid'], keep=False)]\n",
    "\n",
    "# Verificar se existem duplicatas\n",
    "if not duplicatas.empty:\n",
    "    # Ordenar duplicatas por 'businessentityid' e 'modifieddate'\n",
    "    duplicatas_ordenadas = duplicatas.sort_values(by=['businessentityid', 'modifieddate'])\n",
    "    \n",
    "    # Exibir duplicatas ordenadas\n",
    "    print(\"Duplicatas ordenadas:\")\n",
    "    print(duplicatas_ordenadas)\n",
    "else:\n",
    "    print(\"Não foram encontradas duplicatas.\")\n"
   ]
  },
  {
   "cell_type": "code",
   "execution_count": 10,
   "id": "50198e66",
   "metadata": {
    "execution": {
     "iopub.execute_input": "2024-12-30T23:18:37.972464Z",
     "iopub.status.busy": "2024-12-30T23:18:37.972095Z",
     "iopub.status.idle": "2024-12-30T23:18:37.982200Z",
     "shell.execute_reply": "2024-12-30T23:18:37.981536Z"
    },
    "jupyter": {
     "source_hidden": true
    },
    "papermill": {
     "duration": 0.023824,
     "end_time": "2024-12-30T23:18:37.983186",
     "exception": false,
     "start_time": "2024-12-30T23:18:37.959362",
     "status": "completed"
    },
    "tags": []
   },
   "outputs": [
    {
     "name": "stdout",
     "output_type": "stream",
     "text": [
      "       birthdate  businessentityid  currentflag gender    hiredate                       jobtitle                   loginid maritalstatus         modifieddate nationalidnumber organizationnode                               rowguid  salariedflag  sickleavehours  vacationhours\n",
      "2583  1969-01-29                 1         True      M  2009-01-14        Chief Executive Officer      adventure-works\\ken0             S  2014-06-30T00:00:00        295847284                /  f01251e5-96a3-448d-981e-0f99d789110d          True              69             99\n",
      "27    1971-08-01                 2         True      F  2008-01-31  Vice President of Engineering    adventure-works\\terri0             S  2014-06-30T00:00:00        245797967              /1/  45e8f437-670d-4409-93cb-f9424a40d6ee          True              20              1\n",
      "54    1974-11-12                 3         True      M  2007-11-11            Engineering Manager  adventure-works\\roberto0             M  2014-06-30T00:00:00        509647174            /1/1/  9bbbfb2c-efbb-4217-9ab7-f97689328841          True              21              2\n",
      "1197  1974-12-23                 4         True      M  2007-12-05           Senior Tool Designer      adventure-works\\rob0             S  2014-06-30T00:00:00        112457891          /1/1/1/  59747955-87b8-443f-8ed4-f8ad3afdf3a9         False              80             48\n",
      "135   1952-09-27                 5         True      F  2008-01-06                Design Engineer     adventure-works\\gail0             M  2014-06-30T00:00:00        695256908          /1/1/2/  ec84ae09-f9b8-4a15-b4a9-6ccbab919b08          True              22              5\n",
      "...          ...               ...          ...    ...         ...                            ...                       ...           ...                  ...              ...              ...                                   ...           ...             ...            ...\n",
      "891   1977-02-14               286         True      F  2013-05-30           Sales Representative     adventure-works\\lynn0             S  2014-06-30T00:00:00        758596752          /6/2/1/  4a9a8407-a680-4a6b-8d03-511cb58f9a8a          True              38             36\n",
      "522   1957-09-20               287         True      F  2012-04-16         European Sales Manager      adventure-works\\amy0             M  2014-06-30T00:00:00        982310417            /6/3/  66d66445-ee78-4676-9e66-0e22d6109a92          True              30             21\n",
      "864   1975-07-09               288         True      F  2013-05-30           Sales Representative   adventure-works\\rachel0             S  2014-06-30T00:00:00        954276278          /6/3/1/  b9bf7741-e0ca-4f37-acde-a4f78c6d03e9          True              37             35\n",
      "918   1968-03-17               289         True      F  2012-05-30           Sales Representative      adventure-works\\jae0             M  2014-06-30T00:00:00        668991357          /6/3/2/  723a5921-d8a1-4659-9bc4-13c4cf7c9c91          True              38             37\n",
      "837   1975-09-30               290         True      M  2012-05-30           Sales Representative   adventure-works\\ranjit0             S  2014-06-30T00:00:00        134219713          /6/3/3/  604213f9-dd0f-43b4-bdd2-c96e93d3f4bf          True              37             34\n",
      "\n",
      "[290 rows x 15 columns]\n"
     ]
    }
   ],
   "source": [
    "print(duplicatas_ordenadas.drop_duplicates())\n"
   ]
  },
  {
   "cell_type": "code",
   "execution_count": 11,
   "id": "a291dd1e",
   "metadata": {
    "execution": {
     "iopub.execute_input": "2024-12-30T23:18:38.005619Z",
     "iopub.status.busy": "2024-12-30T23:18:38.005386Z",
     "iopub.status.idle": "2024-12-30T23:18:38.014378Z",
     "shell.execute_reply": "2024-12-30T23:18:38.013513Z"
    },
    "jupyter": {
     "source_hidden": true
    },
    "papermill": {
     "duration": 0.022051,
     "end_time": "2024-12-30T23:18:38.015377",
     "exception": false,
     "start_time": "2024-12-30T23:18:37.993326",
     "status": "completed"
    },
    "tags": []
   },
   "outputs": [
    {
     "name": "stdout",
     "output_type": "stream",
     "text": [
      "       birthdate  businessentityid  currentflag gender    hiredate                 jobtitle                  loginid maritalstatus         modifieddate nationalidnumber organizationnode                               rowguid  salariedflag  sickleavehours  vacationhours\n",
      "2591  1969-01-29                 1         True      M  2009-01-14  Chief Executive Officer     adventure-works\\ken0             S  2014-06-30T00:00:00        295847284                /  f01251e5-96a3-448d-981e-0f99d789110d          True              69             99\n",
      "2590  1969-01-29                 1         True      M  2009-01-14  Chief Executive Officer     adventure-works\\ken0             S  2014-06-30T00:00:00        295847284                /  f01251e5-96a3-448d-981e-0f99d789110d          True              69             99\n",
      "2587  1969-01-29                 1         True      M  2009-01-14  Chief Executive Officer     adventure-works\\ken0             S  2014-06-30T00:00:00        295847284                /  f01251e5-96a3-448d-981e-0f99d789110d          True              69             99\n",
      "2589  1969-01-29                 1         True      M  2009-01-14  Chief Executive Officer     adventure-works\\ken0             S  2014-06-30T00:00:00        295847284                /  f01251e5-96a3-448d-981e-0f99d789110d          True              69             99\n",
      "2585  1969-01-29                 1         True      M  2009-01-14  Chief Executive Officer     adventure-works\\ken0             S  2014-06-30T00:00:00        295847284                /  f01251e5-96a3-448d-981e-0f99d789110d          True              69             99\n",
      "...          ...               ...          ...    ...         ...                      ...                      ...           ...                  ...              ...              ...                                   ...           ...             ...            ...\n",
      "843   1975-09-30               290         True      M  2012-05-30     Sales Representative  adventure-works\\ranjit0             S  2014-06-30T00:00:00        134219713          /6/3/3/  604213f9-dd0f-43b4-bdd2-c96e93d3f4bf          True              37             34\n",
      "839   1975-09-30               290         True      M  2012-05-30     Sales Representative  adventure-works\\ranjit0             S  2014-06-30T00:00:00        134219713          /6/3/3/  604213f9-dd0f-43b4-bdd2-c96e93d3f4bf          True              37             34\n",
      "838   1975-09-30               290         True      M  2012-05-30     Sales Representative  adventure-works\\ranjit0             S  2014-06-30T00:00:00        134219713          /6/3/3/  604213f9-dd0f-43b4-bdd2-c96e93d3f4bf          True              37             34\n",
      "845   1975-09-30               290         True      M  2012-05-30     Sales Representative  adventure-works\\ranjit0             S  2014-06-30T00:00:00        134219713          /6/3/3/  604213f9-dd0f-43b4-bdd2-c96e93d3f4bf          True              37             34\n",
      "837   1975-09-30               290         True      M  2012-05-30     Sales Representative  adventure-works\\ranjit0             S  2014-06-30T00:00:00        134219713          /6/3/3/  604213f9-dd0f-43b4-bdd2-c96e93d3f4bf          True              37             34\n",
      "\n",
      "[2610 rows x 15 columns]\n"
     ]
    }
   ],
   "source": [
    "duplicados_businessentityid = EDA_humanresources_employee[EDA_humanresources_employee.duplicated(subset=['businessentityid'], keep=False)]\n",
    "\n",
    "# Ordenar por 'businessentityid' para facilitar a análise\n",
    "duplicados_ordenados = duplicados_businessentityid.sort_values(by=['businessentityid'])\n",
    "\n",
    "# Exibir todas as linhas duplicadas\n",
    "print(duplicados_ordenados)\n"
   ]
  },
  {
   "cell_type": "code",
   "execution_count": 12,
   "id": "e29d6dc7",
   "metadata": {
    "execution": {
     "iopub.execute_input": "2024-12-30T23:18:38.037719Z",
     "iopub.status.busy": "2024-12-30T23:18:38.037478Z",
     "iopub.status.idle": "2024-12-30T23:18:38.043711Z",
     "shell.execute_reply": "2024-12-30T23:18:38.042767Z"
    },
    "jupyter": {
     "source_hidden": true
    },
    "papermill": {
     "duration": 0.02009,
     "end_time": "2024-12-30T23:18:38.045012",
     "exception": false,
     "start_time": "2024-12-30T23:18:38.024922",
     "status": "completed"
    },
    "tags": []
   },
   "outputs": [
    {
     "name": "stdout",
     "output_type": "stream",
     "text": [
      "businessentityid\n",
      "88     9\n",
      "139    9\n",
      "227    9\n",
      "209    9\n",
      "53     9\n",
      "233    9\n",
      "118    9\n",
      "49     9\n",
      "230    9\n",
      "120    9\n",
      "206    9\n",
      "50     9\n",
      "214    9\n",
      "207    9\n",
      "51     9\n",
      "213    9\n",
      "208    9\n",
      "52     9\n",
      "62     9\n",
      "212    9\n",
      "40     9\n",
      "190    9\n",
      "216    9\n",
      "210    9\n",
      "48     9\n",
      "215    9\n",
      "219    9\n",
      "187    9\n",
      "55     9\n",
      "220    9\n",
      "27     9\n",
      "188    9\n",
      "211    9\n",
      "189    9\n",
      "287    9\n",
      "35     9\n",
      "172    9\n",
      "280    9\n",
      "32     9\n",
      "175    9\n",
      "283    9\n",
      "38     9\n",
      "184    9\n",
      "29     9\n",
      "185    9\n",
      "36     9\n",
      "181    9\n",
      "285    9\n",
      "28     9\n",
      "182    9\n",
      "34     9\n",
      "153    9\n",
      "10     9\n",
      "37     9\n",
      "155    9\n",
      "33     9\n",
      "183    9\n",
      "31     9\n",
      "58     9\n",
      "157    9\n",
      "59     9\n",
      "159    9\n",
      "60     9\n",
      "30     9\n",
      "158    9\n",
      "274    9\n",
      "278    9\n",
      "168    9\n",
      "43     9\n",
      "290    9\n",
      "150    9\n",
      "41     9\n",
      "288    9\n",
      "146    9\n",
      "63     9\n",
      "169    9\n",
      "69     9\n",
      "282    9\n",
      "171    9\n",
      "67     9\n",
      "173    9\n",
      "70     9\n",
      "68     9\n",
      "276    9\n",
      "174    9\n",
      "66     9\n",
      "176    9\n",
      "65     9\n",
      "279    9\n",
      "179    9\n",
      "177    9\n",
      "277    9\n",
      "39     9\n",
      "167    9\n",
      "170    9\n",
      "64     9\n",
      "281    9\n",
      "178    9\n",
      "75     9\n",
      "222    9\n",
      "22     9\n",
      "76     9\n",
      "224    9\n",
      "23     9\n",
      "77     9\n",
      "223    9\n",
      "72     9\n",
      "17     9\n",
      "180    9\n",
      "73     9\n",
      "19     9\n",
      "26     9\n",
      "74     9\n",
      "21     9\n",
      "149    9\n",
      "42     9\n",
      "284    9\n",
      "16     9\n",
      "134    9\n",
      "151    9\n",
      "20     9\n",
      "152    9\n",
      "46     9\n",
      "286    9\n",
      "147    9\n",
      "45     9\n",
      "289    9\n",
      "148    9\n",
      "44     9\n",
      "275    9\n",
      "257    9\n",
      "201    9\n",
      "249    9\n",
      "259    9\n",
      "200    9\n",
      "253    9\n",
      "262    9\n",
      "204    9\n",
      "193    9\n",
      "237    9\n",
      "255    9\n",
      "196    9\n",
      "236    9\n",
      "258    9\n",
      "199    9\n",
      "235    9\n",
      "240    9\n",
      "250    9\n",
      "202    9\n",
      "238    9\n",
      "260    9\n",
      "203    9\n",
      "239    9\n",
      "261    9\n",
      "24     9\n",
      "194    9\n",
      "225    9\n",
      "4      9\n",
      "18     9\n",
      "197    9\n",
      "226    9\n",
      "198    9\n",
      "80     9\n",
      "263    9\n",
      "102    9\n",
      "84     9\n",
      "271    9\n",
      "132    9\n",
      "87     9\n",
      "270    9\n",
      "244    9\n",
      "9      9\n",
      "85     9\n",
      "246    9\n",
      "25     9\n",
      "81     9\n",
      "247    9\n",
      "47     9\n",
      "79     9\n",
      "242    9\n",
      "252    9\n",
      "7      9\n",
      "83     9\n",
      "243    9\n",
      "8      9\n",
      "82     9\n",
      "241    9\n",
      "254    9\n",
      "195    9\n",
      "245    9\n",
      "256    9\n",
      "86     9\n",
      "248    9\n",
      "251    9\n",
      "165    9\n",
      "205    9\n",
      "218    9\n",
      "108    9\n",
      "163    9\n",
      "217    9\n",
      "191    9\n",
      "93     9\n",
      "164    9\n",
      "268    9\n",
      "160    9\n",
      "161    9\n",
      "267    9\n",
      "162    9\n",
      "186    9\n",
      "221    9\n",
      "265    9\n",
      "130    9\n",
      "192    9\n",
      "272    9\n",
      "131    9\n",
      "78     9\n",
      "269    9\n",
      "127    9\n",
      "128    9\n",
      "166    9\n",
      "264    9\n",
      "129    9\n",
      "145    9\n",
      "266    9\n",
      "133    9\n",
      "71     9\n",
      "122    9\n",
      "90     9\n",
      "116    9\n",
      "124    9\n",
      "92     9\n",
      "1      9\n",
      "117    9\n",
      "97     9\n",
      "125    9\n",
      "109    9\n",
      "123    9\n",
      "91     9\n",
      "113    9\n",
      "126    9\n",
      "89     9\n",
      "114    9\n",
      "106    9\n",
      "115    9\n",
      "228    9\n",
      "103    9\n",
      "111    9\n",
      "121    9\n",
      "104    9\n",
      "119    9\n",
      "54     9\n",
      "232    9\n",
      "105    9\n",
      "110    9\n",
      "229    9\n",
      "107    9\n",
      "112    9\n",
      "231    9\n",
      "61     9\n",
      "12     9\n",
      "135    9\n",
      "56     9\n",
      "154    9\n",
      "57     9\n",
      "273    9\n",
      "156    9\n",
      "6      9\n",
      "144    9\n",
      "94     9\n",
      "11     9\n",
      "138    9\n",
      "100    9\n",
      "13     9\n",
      "137    9\n",
      "142    9\n",
      "101    9\n",
      "15     9\n",
      "136    9\n",
      "98     9\n",
      "5      9\n",
      "140    9\n",
      "96     9\n",
      "234    9\n",
      "2      9\n",
      "141    9\n",
      "95     9\n",
      "3      9\n",
      "143    9\n",
      "99     9\n",
      "14     9\n",
      "Name: count, dtype: int64\n"
     ]
    }
   ],
   "source": [
    "pd.set_option('display.max_rows', None)\n",
    "contagem = EDA_humanresources_employee['businessentityid'].value_counts()\n",
    "\n",
    "# Filtrar apenas os IDs que aparecem mais de uma vez\n",
    "repetidos = contagem[contagem > 1]\n",
    "\n",
    "# Exibir repetidos novamente\n",
    "print(repetidos)"
   ]
  },
  {
   "cell_type": "code",
   "execution_count": 13,
   "id": "d1c274a8",
   "metadata": {
    "execution": {
     "iopub.execute_input": "2024-12-30T23:18:38.068324Z",
     "iopub.status.busy": "2024-12-30T23:18:38.068100Z",
     "iopub.status.idle": "2024-12-30T23:18:38.075616Z",
     "shell.execute_reply": "2024-12-30T23:18:38.074653Z"
    },
    "jupyter": {
     "source_hidden": true
    },
    "papermill": {
     "duration": 0.021522,
     "end_time": "2024-12-30T23:18:38.076673",
     "exception": false,
     "start_time": "2024-12-30T23:18:38.055151",
     "status": "completed"
    },
    "tags": []
   },
   "outputs": [
    {
     "name": "stdout",
     "output_type": "stream",
     "text": [
      "Linhas após remover duplicatas (baseando-se na última 'modifieddate'): 290\n"
     ]
    }
   ],
   "source": [
    "#copia da humanresources_employee\n",
    "raw_data_bkp = EDA_humanresources_employee.copy()\n",
    "\n",
    "# Ordenar o DataFrame por 'businessentityid' e 'modifieddate'\n",
    "EDA_humanresources_employee = EDA_humanresources_employee.sort_values(by=['businessentityid', 'modifieddate'])\n",
    "\n",
    "# Remover duplicatas mantendo a última ocorrência com base em 'modifieddate'\n",
    "EDA_humanresources_employee = EDA_humanresources_employee.drop_duplicates(subset=['businessentityid'], keep='last')\n",
    "\n",
    "print(f\"Linhas após remover duplicatas (baseando-se na última 'modifieddate'): {len(EDA_humanresources_employee)}\")\n"
   ]
  },
  {
   "cell_type": "code",
   "execution_count": 14,
   "id": "0ef1c332",
   "metadata": {
    "execution": {
     "iopub.execute_input": "2024-12-30T23:18:38.105071Z",
     "iopub.status.busy": "2024-12-30T23:18:38.104813Z",
     "iopub.status.idle": "2024-12-30T23:18:38.113807Z",
     "shell.execute_reply": "2024-12-30T23:18:38.112786Z"
    },
    "jupyter": {
     "source_hidden": true
    },
    "papermill": {
     "duration": 0.027997,
     "end_time": "2024-12-30T23:18:38.114880",
     "exception": false,
     "start_time": "2024-12-30T23:18:38.086883",
     "status": "completed"
    },
    "tags": []
   },
   "outputs": [
    {
     "name": "stdout",
     "output_type": "stream",
     "text": [
      "<class 'pandas.core.frame.DataFrame'>\n",
      "Index: 290 entries, 2591 to 845\n",
      "Data columns (total 15 columns):\n",
      " #   Column            Non-Null Count  Dtype \n",
      "---  ------            --------------  ----- \n",
      " 0   birthdate         290 non-null    object\n",
      " 1   businessentityid  290 non-null    int64 \n",
      " 2   currentflag       290 non-null    bool  \n",
      " 3   gender            290 non-null    object\n",
      " 4   hiredate          290 non-null    object\n",
      " 5   jobtitle          290 non-null    object\n",
      " 6   loginid           290 non-null    object\n",
      " 7   maritalstatus     290 non-null    object\n",
      " 8   modifieddate      290 non-null    object\n",
      " 9   nationalidnumber  290 non-null    object\n",
      " 10  organizationnode  290 non-null    object\n",
      " 11  rowguid           290 non-null    object\n",
      " 12  salariedflag      290 non-null    bool  \n",
      " 13  sickleavehours    290 non-null    int64 \n",
      " 14  vacationhours     290 non-null    int64 \n",
      "dtypes: bool(2), int64(3), object(10)\n",
      "memory usage: 32.3+ KB\n",
      "None\n"
     ]
    }
   ],
   "source": [
    "# Verificar informações do DataFrame\n",
    "print(EDA_humanresources_employee.info())\n"
   ]
  },
  {
   "cell_type": "code",
   "execution_count": 15,
   "id": "ae219f2c",
   "metadata": {
    "execution": {
     "iopub.execute_input": "2024-12-30T23:18:38.140331Z",
     "iopub.status.busy": "2024-12-30T23:18:38.139788Z",
     "iopub.status.idle": "2024-12-30T23:18:38.155321Z",
     "shell.execute_reply": "2024-12-30T23:18:38.154367Z"
    },
    "jupyter": {
     "source_hidden": true
    },
    "papermill": {
     "duration": 0.030264,
     "end_time": "2024-12-30T23:18:38.156379",
     "exception": false,
     "start_time": "2024-12-30T23:18:38.126115",
     "status": "completed"
    },
    "tags": []
   },
   "outputs": [
    {
     "name": "stdout",
     "output_type": "stream",
     "text": [
      "                birthdate  businessentityid  currentflag gender             hiredate                       jobtitle                   loginid maritalstatus         modifieddate nationalidnumber organizationnode                               rowguid  salariedflag  sickleavehours  vacationhours\n",
      "2591  1969-01-29 00:00:00                 1         True      M  2009-01-14 00:00:00        Chief Executive Officer      adventure-works\\ken0             S  2014-06-30 00:00:00        295847284                /  f01251e5-96a3-448d-981e-0f99d789110d          True              69             99\n",
      "35    1971-08-01 00:00:00                 2         True      F  2008-01-31 00:00:00  Vice President of Engineering    adventure-works\\terri0             S  2014-06-30 00:00:00        245797967              /1/  45e8f437-670d-4409-93cb-f9424a40d6ee          True              20              1\n",
      "62    1974-11-12 00:00:00                 3         True      M  2007-11-11 00:00:00            Engineering Manager  adventure-works\\roberto0             M  2014-06-30 00:00:00        509647174            /1/1/  9bbbfb2c-efbb-4217-9ab7-f97689328841          True              21              2\n",
      "1205  1974-12-23 00:00:00                 4         True      M  2007-12-05 00:00:00           Senior Tool Designer      adventure-works\\rob0             S  2014-06-30 00:00:00        112457891          /1/1/1/  59747955-87b8-443f-8ed4-f8ad3afdf3a9         False              80             48\n",
      "143   1952-09-27 00:00:00                 5         True      F  2008-01-06 00:00:00                Design Engineer     adventure-works\\gail0             M  2014-06-30 00:00:00        695256908          /1/1/2/  ec84ae09-f9b8-4a15-b4a9-6ccbab919b08          True              22              5\n",
      "\n",
      "Tipos originais das colunas no DataFrame principal:\n",
      "birthdate       datetime64[ns]\n",
      "hiredate        datetime64[ns]\n",
      "modifieddate    datetime64[ns]\n",
      "dtype: object\n"
     ]
    }
   ],
   "source": [
    "# Identificar colunas com datas\n",
    "date_columns = ['birthdate', 'hiredate', 'modifieddate']\n",
    "\n",
    "# Converter as colunas para datetime se ainda não estiverem\n",
    "for col in date_columns:\n",
    "    EDA_humanresources_employee[col] = pd.to_datetime(EDA_humanresources_employee[col], errors='coerce')\n",
    "\n",
    "# Criar uma cópia do DataFrame para exibição formatada\n",
    "formatted_data = EDA_humanresources_employee.copy()\n",
    "\n",
    "# Formatar todas as colunas de datas para exibição\n",
    "for col in date_columns:\n",
    "    formatted_data[col] = EDA_humanresources_employee[col].dt.strftime('%Y-%m-%d %H:%M:%S')\n",
    "\n",
    "# Exibir o DataFrame formatado\n",
    "print(formatted_data.head())\n",
    "\n",
    "# Verificar os tipos originais permanecem datetime64[ns]\n",
    "print(\"\\nTipos originais das colunas no DataFrame principal:\")\n",
    "print(EDA_humanresources_employee[date_columns].dtypes)\n"
   ]
  },
  {
   "cell_type": "code",
   "execution_count": 16,
   "id": "89c17e25",
   "metadata": {
    "execution": {
     "iopub.execute_input": "2024-12-30T23:18:38.180515Z",
     "iopub.status.busy": "2024-12-30T23:18:38.180268Z",
     "iopub.status.idle": "2024-12-30T23:18:38.186958Z",
     "shell.execute_reply": "2024-12-30T23:18:38.186094Z"
    },
    "jupyter": {
     "source_hidden": true
    },
    "papermill": {
     "duration": 0.020918,
     "end_time": "2024-12-30T23:18:38.188086",
     "exception": false,
     "start_time": "2024-12-30T23:18:38.167168",
     "status": "completed"
    },
    "tags": []
   },
   "outputs": [
    {
     "name": "stdout",
     "output_type": "stream",
     "text": [
      "Valores únicos em 'jobtitle': ['Chief Executive Officer' 'Vice President Of Engineering'\n",
      " 'Engineering Manager' 'Senior Tool Designer' 'Design Engineer'\n",
      " 'Research And Development Manager' 'Research And Development Engineer'\n",
      " 'Tool Designer' 'Senior Design Engineer' 'Marketing Manager'\n",
      " 'Marketing Assistant' 'Marketing Specialist'\n",
      " 'Vice President Of Production' 'Production Control Manager'\n",
      " 'Production Supervisor - Wc60' 'Production Technician - Wc60'\n",
      " 'Production Supervisor - Wc10' 'Production Technician - Wc10'\n",
      " 'Production Supervisor - Wc50' 'Production Technician - Wc50'\n",
      " 'Production Supervisor - Wc30' 'Production Technician - Wc30'\n",
      " 'Production Supervisor - Wc40' 'Production Technician - Wc40'\n",
      " 'Shipping And Receiving Supervisor' 'Stocker'\n",
      " 'Shipping And Receiving Clerk' 'Production Supervisor - Wc20'\n",
      " 'Production Technician - Wc20' 'Production Supervisor - Wc45'\n",
      " 'Production Technician - Wc45' 'Quality Assurance Manager'\n",
      " 'Quality Assurance Supervisor' 'Quality Assurance Technician'\n",
      " 'Document Control Manager' 'Control Specialist'\n",
      " 'Document Control Assistant' 'Master Scheduler' 'Scheduling Assistant'\n",
      " 'Facilities Manager' 'Maintenance Supervisor' 'Janitor'\n",
      " 'Facilities Administrative Assistant' 'Chief Financial Officer'\n",
      " 'Human Resources Manager' 'Human Resources Administrative Assistant'\n",
      " 'Recruiter' 'Benefits Specialist' 'Accounts Manager'\n",
      " 'Accounts Receivable Specialist' 'Accountant'\n",
      " 'Accounts Payable Specialist' 'Finance Manager' 'Purchasing Manager'\n",
      " 'Buyer' 'Purchasing Assistant' 'Assistant To The Chief Financial Officer'\n",
      " 'Information Services Manager' 'Network Manager' 'Network Administrator'\n",
      " 'Application Specialist' 'Database Administrator'\n",
      " 'Vice President Of Sales' 'North American Sales Manager'\n",
      " 'Sales Representative' 'Pacific Sales Manager' 'European Sales Manager']\n",
      "Valores únicos em 'gender': ['M' 'F']\n"
     ]
    }
   ],
   "source": [
    "# Padronizar textos em jobtitle e gender\n",
    "EDA_humanresources_employee['jobtitle'] = EDA_humanresources_employee['jobtitle'].str.strip().str.title()\n",
    "EDA_humanresources_employee['gender'] = EDA_humanresources_employee['gender'].str.strip().str.upper()\n",
    "\n",
    "# Verificar valores únicos para garantir a padronização\n",
    "print(\"Valores únicos em 'jobtitle':\", EDA_humanresources_employee['jobtitle'].unique())\n",
    "print(\"Valores únicos em 'gender':\", EDA_humanresources_employee['gender'].unique())\n"
   ]
  },
  {
   "cell_type": "code",
   "execution_count": 17,
   "id": "d2d2e0b3",
   "metadata": {
    "execution": {
     "iopub.execute_input": "2024-12-30T23:18:38.212229Z",
     "iopub.status.busy": "2024-12-30T23:18:38.211998Z",
     "iopub.status.idle": "2024-12-30T23:18:38.229023Z",
     "shell.execute_reply": "2024-12-30T23:18:38.228416Z"
    },
    "jupyter": {
     "source_hidden": true
    },
    "papermill": {
     "duration": 0.030976,
     "end_time": "2024-12-30T23:18:38.230014",
     "exception": false,
     "start_time": "2024-12-30T23:18:38.199038",
     "status": "completed"
    },
    "tags": []
   },
   "outputs": [
    {
     "name": "stdout",
     "output_type": "stream",
     "text": [
      "       sickleavehours  vacationhours\n",
      "count          290.00         290.00\n",
      "mean            45.31          50.61\n",
      "std             14.54          28.79\n",
      "min             20.00           0.00\n",
      "25%             33.00          26.25\n",
      "50%             46.00          51.00\n",
      "75%             58.00          75.00\n",
      "max             80.00          99.00\n"
     ]
    },
    {
     "name": "stdout",
     "output_type": "stream",
     "text": [
      "\n",
      "Coluna: sickleavehours\n",
      "Limite inferior: -4.5, Limite superior: 95.5\n",
      "Outliers detectados (0):\n",
      "Empty DataFrame\n",
      "Columns: [sickleavehours]\n",
      "Index: []\n",
      "\n",
      "Coluna: vacationhours\n",
      "Limite inferior: -46.875, Limite superior: 148.125\n",
      "Outliers detectados (0):\n",
      "Empty DataFrame\n",
      "Columns: [vacationhours]\n",
      "Index: []\n"
     ]
    }
   ],
   "source": [
    "# Identificar colunas numéricas para análise \n",
    "numeric_columns = ['sickleavehours', 'vacationhours']\n",
    "\n",
    "# Exibir estatísticas descritivas\n",
    "print(EDA_humanresources_employee[numeric_columns].describe())\n",
    "\n",
    "# Calcular limites para outliers (IQR - Intervalo Interquartil)\n",
    "for col in numeric_columns:\n",
    "    q1 = EDA_humanresources_employee[col].quantile(0.25)\n",
    "    q3 = EDA_humanresources_employee[col].quantile(0.75)\n",
    "    iqr = q3 - q1\n",
    "    lower_bound = q1 - 1.5 * iqr\n",
    "    upper_bound = q3 + 1.5 * iqr\n",
    "    \n",
    "    # Exibir os limites\n",
    "    print(f\"\\nColuna: {col}\")\n",
    "    print(f\"Limite inferior: {lower_bound}, Limite superior: {upper_bound}\")\n",
    "    \n",
    "    # Filtrar outliers\n",
    "    outliers = EDA_humanresources_employee[(EDA_humanresources_employee[col] < lower_bound) | (EDA_humanresources_employee[col] > upper_bound)]\n",
    "    print(f\"Outliers detectados ({len(outliers)}):\")\n",
    "    print(outliers[[col]])\n"
   ]
  },
  {
   "cell_type": "code",
   "execution_count": 18,
   "id": "d6c0ea0f",
   "metadata": {
    "execution": {
     "iopub.execute_input": "2024-12-30T23:18:38.252642Z",
     "iopub.status.busy": "2024-12-30T23:18:38.252404Z",
     "iopub.status.idle": "2024-12-30T23:18:38.259081Z",
     "shell.execute_reply": "2024-12-30T23:18:38.258174Z"
    },
    "jupyter": {
     "source_hidden": true
    },
    "papermill": {
     "duration": 0.021247,
     "end_time": "2024-12-30T23:18:38.260433",
     "exception": false,
     "start_time": "2024-12-30T23:18:38.239186",
     "status": "completed"
    },
    "tags": []
   },
   "outputs": [
    {
     "name": "stdout",
     "output_type": "stream",
     "text": [
      "[2006, 2007, 2008, 2009, 2010, 2011, 2012, 2013]\n",
      "Valores únicos em 'gender': ['M' 'F']\n",
      "Valores únicos em 'salariedflag': [ True False]\n"
     ]
    }
   ],
   "source": [
    "\n",
    "# Criar a coluna 'hire_year' com base em 'hiredate'\n",
    "EDA_humanresources_employee['hire_year'] = EDA_humanresources_employee['hiredate'].dt.year\n",
    "\n",
    "\n",
    "#verificando outros dados para detectar outliers\n",
    "anos_contratacao = [int(ano) for ano in EDA_humanresources_employee['hire_year'].unique()]\n",
    "anos_contratacao.sort()\n",
    "print(anos_contratacao)\n",
    "\n",
    "print(\"Valores únicos em 'gender':\", EDA_humanresources_employee['gender'].unique())\n",
    "print(\"Valores únicos em 'salariedflag':\", EDA_humanresources_employee['salariedflag'].unique())\n"
   ]
  },
  {
   "cell_type": "code",
   "execution_count": 19,
   "id": "ca9a15f9",
   "metadata": {
    "execution": {
     "iopub.execute_input": "2024-12-30T23:18:38.289353Z",
     "iopub.status.busy": "2024-12-30T23:18:38.289111Z",
     "iopub.status.idle": "2024-12-30T23:18:38.295522Z",
     "shell.execute_reply": "2024-12-30T23:18:38.294598Z"
    },
    "jupyter": {
     "source_hidden": true
    },
    "papermill": {
     "duration": 0.024619,
     "end_time": "2024-12-30T23:18:38.296758",
     "exception": false,
     "start_time": "2024-12-30T23:18:38.272139",
     "status": "completed"
    },
    "tags": []
   },
   "outputs": [
    {
     "name": "stdout",
     "output_type": "stream",
     "text": [
      "Valores ausentes por coluna:\n",
      "birthdate           0\n",
      "businessentityid    0\n",
      "currentflag         0\n",
      "gender              0\n",
      "hiredate            0\n",
      "jobtitle            0\n",
      "loginid             0\n",
      "maritalstatus       0\n",
      "modifieddate        3\n",
      "nationalidnumber    0\n",
      "organizationnode    0\n",
      "rowguid             0\n",
      "salariedflag        0\n",
      "sickleavehours      0\n",
      "vacationhours       0\n",
      "hire_year           0\n",
      "dtype: int64\n"
     ]
    }
   ],
   "source": [
    "# Verificar valores ausentes\n",
    "missing = EDA_humanresources_employee.isnull().sum()\n",
    "print(\"Valores ausentes por coluna:\")\n",
    "print(missing)\n",
    "\n",
    "# Tratar colunas críticas\n",
    "if missing['hiredate'] > 0:\n",
    "    print(\"Tratar valores ausentes em 'hiredate' (decisão: remover ou imputar)\")\n",
    "\n",
    "if missing['jobtitle'] > 0:\n",
    "    print(\"Tratar valores ausentes em 'jobtitle' (decisão: remover ou imputar)\")\n",
    "\n",
    "if missing['businessentityid'] > 0:\n",
    "    print(\"Erro crítico: 'businessentityid' não pode ter valores ausentes!\")\n"
   ]
  },
  {
   "cell_type": "code",
   "execution_count": 20,
   "id": "24307464",
   "metadata": {
    "execution": {
     "iopub.execute_input": "2024-12-30T23:18:38.320817Z",
     "iopub.status.busy": "2024-12-30T23:18:38.320567Z",
     "iopub.status.idle": "2024-12-30T23:18:38.328796Z",
     "shell.execute_reply": "2024-12-30T23:18:38.327741Z"
    },
    "jupyter": {
     "source_hidden": true
    },
    "papermill": {
     "duration": 0.023392,
     "end_time": "2024-12-30T23:18:38.330071",
     "exception": false,
     "start_time": "2024-12-30T23:18:38.306679",
     "status": "completed"
    },
    "tags": []
   },
   "outputs": [
    {
     "name": "stdout",
     "output_type": "stream",
     "text": [
      "Linhas com 'modifieddate' ausente:\n",
      "      birthdate  businessentityid  currentflag gender   hiredate                    jobtitle                  loginid maritalstatus modifieddate nationalidnumber organizationnode                               rowguid  salariedflag  sickleavehours  vacationhours  hire_year\n",
      "1079 1982-11-03                26         True      M 2008-12-01  Production Control Manager   adventure-works\\peter0             M          NaT        277173473            /3/1/  69d5d162-e817-45e7-9dec-5d9b8310e7b1          True              41             43       2008\n",
      "2096 1977-10-26               211         True      M 2009-02-28   Quality Assurance Manager   adventure-works\\hazem0             S          NaT        398223854            /3/2/  05c84608-f445-4f9d-bb5c-0828c309c29d          True              60             80       2009\n",
      "1115 1968-09-17               222         True      M 2008-12-12            Master Scheduler  adventure-works\\ascott0             S          NaT        685233686            /3/3/  13909262-4136-492f-bca3-0b0e3773b03e         False              42             44       2008\n"
     ]
    }
   ],
   "source": [
    "# Verificar linhas com 'modifieddate' ausente\n",
    "missing_modifieddate = EDA_humanresources_employee[EDA_humanresources_employee['modifieddate'].isnull()]\n",
    "print(\"Linhas com 'modifieddate' ausente:\")\n",
    "print(missing_modifieddate)\n"
   ]
  },
  {
   "cell_type": "code",
   "execution_count": 21,
   "id": "098557c2",
   "metadata": {
    "execution": {
     "iopub.execute_input": "2024-12-30T23:18:38.354633Z",
     "iopub.status.busy": "2024-12-30T23:18:38.354381Z",
     "iopub.status.idle": "2024-12-30T23:18:38.363305Z",
     "shell.execute_reply": "2024-12-30T23:18:38.362237Z"
    },
    "jupyter": {
     "source_hidden": true
    },
    "papermill": {
     "duration": 0.024404,
     "end_time": "2024-12-30T23:18:38.364511",
     "exception": false,
     "start_time": "2024-12-30T23:18:38.340107",
     "status": "completed"
    },
    "tags": []
   },
   "outputs": [
    {
     "name": "stdout",
     "output_type": "stream",
     "text": [
      "Linhas onde 'modifieddate' foi ajustado para 'hiredate':\n",
      "      birthdate  businessentityid  currentflag gender   hiredate                    jobtitle                  loginid maritalstatus modifieddate nationalidnumber organizationnode                               rowguid  salariedflag  sickleavehours  vacationhours  hire_year\n",
      "1079 1982-11-03                26         True      M 2008-12-01  Production Control Manager   adventure-works\\peter0             M   2008-12-01        277173473            /3/1/  69d5d162-e817-45e7-9dec-5d9b8310e7b1          True              41             43       2008\n",
      "2096 1977-10-26               211         True      M 2009-02-28   Quality Assurance Manager   adventure-works\\hazem0             S   2009-02-28        398223854            /3/2/  05c84608-f445-4f9d-bb5c-0828c309c29d          True              60             80       2009\n",
      "1115 1968-09-17               222         True      M 2008-12-12            Master Scheduler  adventure-works\\ascott0             S   2008-12-12        685233686            /3/3/  13909262-4136-492f-bca3-0b0e3773b03e         False              42             44       2008\n"
     ]
    }
   ],
   "source": [
    "# Preencher 'modifieddate' ausente ou igual a 'hiredate', pois pode ser a ultima data de modificação no sistema.\n",
    "EDA_humanresources_employee.loc[EDA_humanresources_employee['modifieddate'].isnull() | (EDA_humanresources_employee['modifieddate'] == pd.Timestamp('1900-01-01')), 'modifieddate'] = EDA_humanresources_employee['hiredate']\n",
    "\n",
    "# Exibir as linhas ajustadas\n",
    "print(\"Linhas onde 'modifieddate' foi ajustado para 'hiredate':\")\n",
    "print(EDA_humanresources_employee.loc[EDA_humanresources_employee['modifieddate'] == EDA_humanresources_employee['hiredate']])\n"
   ]
  },
  {
   "cell_type": "code",
   "execution_count": 22,
   "id": "0c037d1a",
   "metadata": {
    "execution": {
     "iopub.execute_input": "2024-12-30T23:18:38.388100Z",
     "iopub.status.busy": "2024-12-30T23:18:38.387843Z",
     "iopub.status.idle": "2024-12-30T23:18:38.392425Z",
     "shell.execute_reply": "2024-12-30T23:18:38.391507Z"
    },
    "jupyter": {
     "source_hidden": true
    },
    "papermill": {
     "duration": 0.018877,
     "end_time": "2024-12-30T23:18:38.393653",
     "exception": false,
     "start_time": "2024-12-30T23:18:38.374776",
     "status": "completed"
    },
    "tags": []
   },
   "outputs": [
    {
     "name": "stdout",
     "output_type": "stream",
     "text": [
      "'businessentityid' é único? True\n"
     ]
    }
   ],
   "source": [
    "# Verificar unicidade de 'businessentityid'\n",
    "is_unique = EDA_humanresources_employee['businessentityid'].is_unique\n",
    "print(f\"'businessentityid' é único? {is_unique}\")\n"
   ]
  },
  {
   "cell_type": "code",
   "execution_count": 23,
   "id": "aff7cacc",
   "metadata": {
    "execution": {
     "iopub.execute_input": "2024-12-30T23:18:38.419099Z",
     "iopub.status.busy": "2024-12-30T23:18:38.418179Z",
     "iopub.status.idle": "2024-12-30T23:18:38.425279Z",
     "shell.execute_reply": "2024-12-30T23:18:38.424541Z"
    },
    "jupyter": {
     "source_hidden": true
    },
    "papermill": {
     "duration": 0.023098,
     "end_time": "2024-12-30T23:18:38.426509",
     "exception": false,
     "start_time": "2024-12-30T23:18:38.403411",
     "status": "completed"
    },
    "tags": []
   },
   "outputs": [
    {
     "name": "stdout",
     "output_type": "stream",
     "text": [
      "Valores inválidos em 'nationalidnumber':\n",
      "89      42487730\n",
      "116     56920285\n",
      "989     24756624\n",
      "1070    52541318\n",
      "1124    95958330\n",
      "1178    72636981\n",
      "512     14417807\n",
      "593      6298838\n",
      "890     66073987\n",
      "1673    33237992\n",
      "2276     9659517\n",
      "287     10708100\n",
      "242     92096924\n",
      "719      8066363\n",
      "791     63179277\n",
      "809     36151748\n",
      "1601    58791499\n",
      "1628     1662732\n",
      "1736     7201901\n",
      "2528    90888098\n",
      "2555    82638150\n",
      "2510    54759846\n",
      "1727     1300049\n",
      "998     45615666\n",
      "233     63761469\n",
      "206     25011600\n",
      "71      56772045\n",
      "278     97728960\n",
      "1898    65848458\n",
      "1763    60114406\n",
      "800     87268837\n",
      "1241    19312190\n",
      "2159    20244403\n",
      "2312    28414965\n",
      "1466       30845\n",
      "1583    60517918\n",
      "1421    20269531\n",
      "1934    58317344\n",
      "557     61161660\n",
      "980     90836195\n",
      "Name: nationalidnumber, dtype: object\n"
     ]
    }
   ],
   "source": [
    "# Definir regex para validar números (exemplo: apenas dígitos, 9 caracteres)\n",
    "# acrescentei para ver se tinha um padrão, mas não tem\n",
    "regex = r'^\\d{9}$'\n",
    "\n",
    "# Verificar valores inválidos\n",
    "invalid_nationalid = EDA_humanresources_employee[~EDA_humanresources_employee['nationalidnumber'].astype(str).str.match(regex)]\n",
    "print(f\"Valores inválidos em 'nationalidnumber':\\n{invalid_nationalid['nationalidnumber']}\")\n"
   ]
  },
  {
   "cell_type": "code",
   "execution_count": 24,
   "id": "f7f6e889",
   "metadata": {
    "execution": {
     "iopub.execute_input": "2024-12-30T23:18:38.447552Z",
     "iopub.status.busy": "2024-12-30T23:18:38.447127Z",
     "iopub.status.idle": "2024-12-30T23:18:38.451768Z",
     "shell.execute_reply": "2024-12-30T23:18:38.451093Z"
    },
    "jupyter": {
     "source_hidden": true
    },
    "papermill": {
     "duration": 0.017677,
     "end_time": "2024-12-30T23:18:38.452766",
     "exception": false,
     "start_time": "2024-12-30T23:18:38.435089",
     "status": "completed"
    },
    "tags": []
   },
   "outputs": [
    {
     "name": "stdout",
     "output_type": "stream",
     "text": [
      "'nationalidnumber' é único? True\n"
     ]
    }
   ],
   "source": [
    "is_unique = EDA_humanresources_employee['nationalidnumber'].is_unique\n",
    "print(f\"'nationalidnumber' é único? {is_unique}\")\n"
   ]
  },
  {
   "cell_type": "code",
   "execution_count": 25,
   "id": "bbee2741",
   "metadata": {
    "execution": {
     "iopub.execute_input": "2024-12-30T23:18:38.478319Z",
     "iopub.status.busy": "2024-12-30T23:18:38.478016Z",
     "iopub.status.idle": "2024-12-30T23:18:38.486635Z",
     "shell.execute_reply": "2024-12-30T23:18:38.485844Z"
    },
    "jupyter": {
     "source_hidden": true
    },
    "papermill": {
     "duration": 0.026327,
     "end_time": "2024-12-30T23:18:38.487943",
     "exception": false,
     "start_time": "2024-12-30T23:18:38.461616",
     "status": "completed"
    },
    "tags": []
   },
   "outputs": [
    {
     "name": "stdout",
     "output_type": "stream",
     "text": [
      "Backup criado com 290 linhas.\n",
      "      birthdate  businessentityid  currentflag gender   hiredate                       jobtitle                   loginid maritalstatus modifieddate nationalidnumber organizationnode                               rowguid  salariedflag  sickleavehours  vacationhours  hire_year\n",
      "2591 1969-01-29                 1         True      M 2009-01-14        Chief Executive Officer      adventure-works\\ken0             S   2014-06-30        295847284                /  f01251e5-96a3-448d-981e-0f99d789110d          True              69             99       2009\n",
      "35   1971-08-01                 2         True      F 2008-01-31  Vice President Of Engineering    adventure-works\\terri0             S   2014-06-30        245797967              /1/  45e8f437-670d-4409-93cb-f9424a40d6ee          True              20              1       2008\n",
      "62   1974-11-12                 3         True      M 2007-11-11            Engineering Manager  adventure-works\\roberto0             M   2014-06-30        509647174            /1/1/  9bbbfb2c-efbb-4217-9ab7-f97689328841          True              21              2       2007\n",
      "1205 1974-12-23                 4         True      M 2007-12-05           Senior Tool Designer      adventure-works\\rob0             S   2014-06-30        112457891          /1/1/1/  59747955-87b8-443f-8ed4-f8ad3afdf3a9         False              80             48       2007\n",
      "143  1952-09-27                 5         True      F 2008-01-06                Design Engineer     adventure-works\\gail0             M   2014-06-30        695256908          /1/1/2/  ec84ae09-f9b8-4a15-b4a9-6ccbab919b08          True              22              5       2008\n"
     ]
    }
   ],
   "source": [
    "# Criar um backup do DataFrame tratado\n",
    "EDA_humanresources_employee_bkp_v2 = EDA_humanresources_employee.copy()\n",
    "\n",
    "# Verificar o tamanho do backup e as primeiras linhas\n",
    "print(f\"Backup criado com {len(EDA_humanresources_employee_bkp_v2)} linhas.\")\n",
    "print(EDA_humanresources_employee_bkp_v2.head())\n"
   ]
  },
  {
   "cell_type": "code",
   "execution_count": 26,
   "id": "07e22eaf",
   "metadata": {
    "execution": {
     "iopub.execute_input": "2024-12-30T23:18:38.512092Z",
     "iopub.status.busy": "2024-12-30T23:18:38.511431Z",
     "iopub.status.idle": "2024-12-30T23:18:38.515306Z",
     "shell.execute_reply": "2024-12-30T23:18:38.514599Z"
    },
    "jupyter": {
     "source_hidden": true
    },
    "papermill": {
     "duration": 0.020072,
     "end_time": "2024-12-30T23:18:38.516499",
     "exception": false,
     "start_time": "2024-12-30T23:18:38.496427",
     "status": "completed"
    },
    "tags": []
   },
   "outputs": [
    {
     "name": "stdout",
     "output_type": "stream",
     "text": [
      "Colunas mantidas no dataset: ['birthdate', 'businessentityid', 'currentflag', 'gender', 'hiredate', 'jobtitle', 'loginid', 'maritalstatus', 'modifieddate', 'nationalidnumber', 'organizationnode', 'rowguid', 'salariedflag', 'sickleavehours', 'vacationhours', 'hire_year']\n"
     ]
    }
   ],
   "source": [
    "# Verificar e documentar colunas existentes\n",
    "print(\"Colunas mantidas no dataset:\", EDA_humanresources_employee.columns.tolist())\n"
   ]
  },
  {
   "cell_type": "code",
   "execution_count": 27,
   "id": "9ee4c8f6",
   "metadata": {
    "execution": {
     "iopub.execute_input": "2024-12-30T23:18:38.537573Z",
     "iopub.status.busy": "2024-12-30T23:18:38.537124Z",
     "iopub.status.idle": "2024-12-30T23:18:38.545226Z",
     "shell.execute_reply": "2024-12-30T23:18:38.544420Z"
    },
    "jupyter": {
     "source_hidden": true
    },
    "papermill": {
     "duration": 0.021398,
     "end_time": "2024-12-30T23:18:38.546623",
     "exception": false,
     "start_time": "2024-12-30T23:18:38.525225",
     "status": "completed"
    },
    "tags": []
   },
   "outputs": [
    {
     "name": "stdout",
     "output_type": "stream",
     "text": [
      "Valores únicos em 'birthdate': <DatetimeArray>\n",
      "['1969-01-29 00:00:00', '1971-08-01 00:00:00', '1974-11-12 00:00:00']\n",
      "Length: 3, dtype: datetime64[ns]\n",
      "Valores únicos em 'businessentityid': [1 2 3]\n",
      "Valores únicos em 'currentflag': [ True]\n",
      "Valores únicos em 'gender': ['M' 'F']\n",
      "Valores únicos em 'hiredate': <DatetimeArray>\n",
      "['2009-01-14 00:00:00', '2008-01-31 00:00:00', '2007-11-11 00:00:00']\n",
      "Length: 3, dtype: datetime64[ns]\n",
      "Valores únicos em 'jobtitle': ['Chief Executive Officer' 'Vice President Of Engineering'\n",
      " 'Engineering Manager']\n",
      "Valores únicos em 'loginid': ['adventure-works\\\\ken0' 'adventure-works\\\\terri0'\n",
      " 'adventure-works\\\\roberto0']\n",
      "Valores únicos em 'maritalstatus': ['S' 'M']\n",
      "Valores únicos em 'modifieddate': <DatetimeArray>\n",
      "['2014-06-30 00:00:00', '2008-12-01 00:00:00', '2009-02-28 00:00:00']\n",
      "Length: 3, dtype: datetime64[ns]\n",
      "Valores únicos em 'nationalidnumber': ['295847284' '245797967' '509647174']\n",
      "Valores únicos em 'organizationnode': ['/' '/1/' '/1/1/']\n",
      "Valores únicos em 'rowguid': ['f01251e5-96a3-448d-981e-0f99d789110d'\n",
      " '45e8f437-670d-4409-93cb-f9424a40d6ee'\n",
      " '9bbbfb2c-efbb-4217-9ab7-f97689328841']\n",
      "Valores únicos em 'salariedflag': [ True False]\n",
      "Valores únicos em 'sickleavehours': [69 20 21]\n",
      "Valores únicos em 'vacationhours': [99  1  2]\n",
      "Valores únicos em 'hire_year': [2009 2008 2007]\n"
     ]
    }
   ],
   "source": [
    "for col in EDA_humanresources_employee.columns:\n",
    "    print(f\"Valores únicos em '{col}':\", EDA_humanresources_employee[col].unique()[:3])  # Limitar a exibição a 10 valores\n",
    "\n"
   ]
  },
  {
   "cell_type": "code",
   "execution_count": 28,
   "id": "59c0b30b",
   "metadata": {
    "execution": {
     "iopub.execute_input": "2024-12-30T23:18:38.570313Z",
     "iopub.status.busy": "2024-12-30T23:18:38.569870Z",
     "iopub.status.idle": "2024-12-30T23:18:38.575102Z",
     "shell.execute_reply": "2024-12-30T23:18:38.574352Z"
    },
    "jupyter": {
     "source_hidden": true
    },
    "papermill": {
     "duration": 0.020624,
     "end_time": "2024-12-30T23:18:38.576269",
     "exception": false,
     "start_time": "2024-12-30T23:18:38.555645",
     "status": "completed"
    },
    "tags": []
   },
   "outputs": [
    {
     "name": "stdout",
     "output_type": "stream",
     "text": [
      "Valores únicos em 'currentflag': [ True]\n",
      "Valores únicos em 'salariedflag': [ True False]\n"
     ]
    }
   ],
   "source": [
    "# Listar colunas binárias esperadas\n",
    "binary_columns = ['currentflag', 'salariedflag']\n",
    "\n",
    "# Verificar valores únicos em colunas binárias\n",
    "for col in binary_columns:\n",
    "    unique_values = EDA_humanresources_employee[col].unique()\n",
    "    print(f\"Valores únicos em '{col}': {unique_values}\")\n",
    "\n",
    "   \n",
    "\n"
   ]
  },
  {
   "cell_type": "code",
   "execution_count": 29,
   "id": "a488d5a1",
   "metadata": {
    "execution": {
     "iopub.execute_input": "2024-12-30T23:18:38.597931Z",
     "iopub.status.busy": "2024-12-30T23:18:38.597681Z",
     "iopub.status.idle": "2024-12-30T23:18:38.603511Z",
     "shell.execute_reply": "2024-12-30T23:18:38.602835Z"
    },
    "jupyter": {
     "source_hidden": true
    },
    "papermill": {
     "duration": 0.019302,
     "end_time": "2024-12-30T23:18:38.604523",
     "exception": false,
     "start_time": "2024-12-30T23:18:38.585221",
     "status": "completed"
    },
    "tags": []
   },
   "outputs": [
    {
     "name": "stdout",
     "output_type": "stream",
     "text": [
      "Distribuição de 'currentflag':\n",
      "currentflag\n",
      "True    290\n",
      "Name: count, dtype: int64\n",
      "\n",
      "Distribuição de 'salariedflag':\n",
      "salariedflag\n",
      "False    238\n",
      "True      52\n",
      "Name: count, dtype: int64\n"
     ]
    }
   ],
   "source": [
    "# Contar valores em 'currentflag' e 'salariedflag'\n",
    "print(\"Distribuição de 'currentflag':\")\n",
    "print(EDA_humanresources_employee['currentflag'].value_counts())\n",
    "\n",
    "print(\"\\nDistribuição de 'salariedflag':\")\n",
    "print(EDA_humanresources_employee['salariedflag'].value_counts())\n",
    "\n",
    "\n",
    "#se vale a pena deletar ou não a coluna currentflag, já que só tem 1 valor e é true ?!"
   ]
  },
  {
   "cell_type": "code",
   "execution_count": 30,
   "id": "54579d32",
   "metadata": {
    "execution": {
     "iopub.execute_input": "2024-12-30T23:18:38.625850Z",
     "iopub.status.busy": "2024-12-30T23:18:38.625057Z",
     "iopub.status.idle": "2024-12-30T23:18:38.632998Z",
     "shell.execute_reply": "2024-12-30T23:18:38.632185Z"
    },
    "jupyter": {
     "source_hidden": true
    },
    "papermill": {
     "duration": 0.02066,
     "end_time": "2024-12-30T23:18:38.634282",
     "exception": false,
     "start_time": "2024-12-30T23:18:38.613622",
     "status": "completed"
    },
    "tags": []
   },
   "outputs": [
    {
     "name": "stdout",
     "output_type": "stream",
     "text": [
      "Funcionários ativos errados: Empty DataFrame\n",
      "Columns: [birthdate, businessentityid, currentflag, gender, hiredate, jobtitle, loginid, maritalstatus, modifieddate, nationalidnumber, organizationnode, rowguid, salariedflag, sickleavehours, vacationhours, hire_year]\n",
      "Index: []\n",
      "Contratações futuras: Empty DataFrame\n",
      "Columns: [birthdate, businessentityid, currentflag, gender, hiredate, jobtitle, loginid, maritalstatus, modifieddate, nationalidnumber, organizationnode, rowguid, salariedflag, sickleavehours, vacationhours, hire_year]\n",
      "Index: []\n",
      "Modifieddate antes de hiredate: Empty DataFrame\n",
      "Columns: [birthdate, businessentityid, currentflag, gender, hiredate, jobtitle, loginid, maritalstatus, modifieddate, nationalidnumber, organizationnode, rowguid, salariedflag, sickleavehours, vacationhours, hire_year]\n",
      "Index: []\n",
      "Duplicados em 'businessentityid': 0\n",
      "Duplicados em 'nationalidnumber': 0\n"
     ]
    }
   ],
   "source": [
    "# 1. Verificar se todos os funcionários ativos têm currentflag = True, pois deveria ser false = demitido/desligado\n",
    "print(\"Funcionários ativos errados:\", EDA_humanresources_employee[EDA_humanresources_employee['currentflag'] != True])\n",
    "\n",
    "# 2. Validar datas\n",
    "print(\"Contratações futuras:\", EDA_humanresources_employee[EDA_humanresources_employee['hiredate'] > pd.Timestamp.now()])\n",
    "print(\"Modifieddate antes de hiredate:\", EDA_humanresources_employee[EDA_humanresources_employee['modifieddate'] < EDA_humanresources_employee['hiredate']])\n",
    "\n",
    "# 3. Verificar unicidade de identificadores\n",
    "print(\"Duplicados em 'businessentityid':\", EDA_humanresources_employee['businessentityid'].duplicated().sum())\n",
    "print(\"Duplicados em 'nationalidnumber':\", EDA_humanresources_employee['nationalidnumber'].duplicated().sum())\n",
    "\n"
   ]
  },
  {
   "cell_type": "code",
   "execution_count": 31,
   "id": "8561cb5d",
   "metadata": {
    "execution": {
     "iopub.execute_input": "2024-12-30T23:18:38.657981Z",
     "iopub.status.busy": "2024-12-30T23:18:38.657717Z",
     "iopub.status.idle": "2024-12-30T23:18:43.237620Z",
     "shell.execute_reply": "2024-12-30T23:18:43.236548Z"
    },
    "jupyter": {
     "source_hidden": true
    },
    "papermill": {
     "duration": 4.593965,
     "end_time": "2024-12-30T23:18:43.239080",
     "exception": false,
     "start_time": "2024-12-30T23:18:38.645115",
     "status": "completed"
    },
    "tags": []
   },
   "outputs": [
    {
     "name": "stderr",
     "output_type": "stream",
     "text": [
      "\r\n",
      "  0%|          | 0/1 [00:00<?, ?it/s]"
     ]
    },
    {
     "name": "stderr",
     "output_type": "stream",
     "text": [
      "\r\n",
      "100%|██████████| 1/1 [00:00<00:00, 8224.13it/s]"
     ]
    },
    {
     "name": "stderr",
     "output_type": "stream",
     "text": [
      "\n"
     ]
    }
   ],
   "source": [
    "# Definir Dataset e Nome da Tabela\n",
    "dataset_id = 'raw_data_cleaned'  # Substitua pelo nome do seu Dataset\n",
    "table_id = 'humanresources_employee'   # Substitua pelo nome da sua Tabela\n",
    "full_table_id = f\"{client.project}.{dataset_id}.{table_id}\"  # Nome completo da tabela\n",
    "\n",
    "# Exportar para o BigQuery\n",
    "EDA_humanresources_employee.to_gbq(full_table_id, if_exists='replace', credentials=client._credentials)\n",
    "\n"
   ]
  },
  {
   "cell_type": "code",
   "execution_count": null,
   "id": "8648c430",
   "metadata": {
    "jupyter": {
     "source_hidden": true
    },
    "papermill": {
     "duration": 0.012365,
     "end_time": "2024-12-30T23:18:43.264032",
     "exception": false,
     "start_time": "2024-12-30T23:18:43.251667",
     "status": "completed"
    },
    "tags": []
   },
   "outputs": [],
   "source": []
  },
  {
   "cell_type": "markdown",
   "id": "27a51f51",
   "metadata": {
    "papermill": {
     "duration": 0.017575,
     "end_time": "2024-12-30T23:18:43.293933",
     "exception": false,
     "start_time": "2024-12-30T23:18:43.276358",
     "status": "completed"
    },
    "tags": []
   },
   "source": []
  },
  {
   "cell_type": "markdown",
   "id": "45c8364b",
   "metadata": {
    "papermill": {
     "duration": 0.01158,
     "end_time": "2024-12-30T23:18:43.317266",
     "exception": false,
     "start_time": "2024-12-30T23:18:43.305686",
     "status": "completed"
    },
    "tags": []
   },
   "source": [
    "## ESTATÍSTICA DESCRITIVA"
   ]
  },
  {
   "cell_type": "code",
   "execution_count": 32,
   "id": "7e080b85",
   "metadata": {
    "execution": {
     "iopub.execute_input": "2024-12-30T23:18:43.344246Z",
     "iopub.status.busy": "2024-12-30T23:18:43.344016Z",
     "iopub.status.idle": "2024-12-30T23:18:43.356658Z",
     "shell.execute_reply": "2024-12-30T23:18:43.355766Z"
    },
    "jupyter": {
     "source_hidden": true
    },
    "papermill": {
     "duration": 0.028451,
     "end_time": "2024-12-30T23:18:43.357583",
     "exception": false,
     "start_time": "2024-12-30T23:18:43.329132",
     "status": "completed"
    },
    "tags": []
   },
   "outputs": [
    {
     "name": "stdout",
     "output_type": "stream",
     "text": [
      "       sickleavehours vacationhours salariedflag hire_year\n",
      "count          290.00        290.00          290    290.00\n",
      "unique              -             -            2         -\n",
      "top                 -             -        False         -\n",
      "freq                -             -          238         -\n",
      "mean            45.31         50.61            -   2009.02\n",
      "std             14.54         28.79            -      1.01\n",
      "min             20.00          0.00            -   2006.00\n",
      "25%             33.00         26.25            -   2008.00\n",
      "50%             46.00         51.00            -   2009.00\n",
      "75%             58.00         75.00            -   2009.00\n",
      "max             80.00         99.00            -   2013.00\n"
     ]
    }
   ],
   "source": [
    "# Selecionar colunas relevantes para análise descritiva\n",
    "cols_para_analise = ['sickleavehours', 'vacationhours', 'salariedflag']\n",
    "\n",
    "# Garantir que as datas estejam no formato correto\n",
    "EDA_humanresources_employee['hire_year'] = pd.to_datetime(EDA_humanresources_employee['hiredate']).dt.year\n",
    "\n",
    "# Adicionar a nova coluna à lista\n",
    "cols_para_analise.append('hire_year')\n",
    "\n",
    "# Gerar estatísticas descritivas\n",
    "analise_descritiva = EDA_humanresources_employee[cols_para_analise].describe(include='all')\n",
    "\n",
    "# Substituir NaN por '-'\n",
    "analise_descritiva = analise_descritiva.fillna('-')\n",
    "\n",
    "print(analise_descritiva)\n"
   ]
  }
 ],
 "metadata": {
  "kernelspec": {
   "display_name": "venv",
   "language": "python",
   "name": "python3"
  },
  "language_info": {
   "codemirror_mode": {
    "name": "ipython",
    "version": 3
   },
   "file_extension": ".py",
   "mimetype": "text/x-python",
   "name": "python",
   "nbconvert_exporter": "python",
   "pygments_lexer": "ipython3",
   "version": "3.10.9"
  },
  "papermill": {
   "default_parameters": {},
   "duration": 17.245406,
   "end_time": "2024-12-30T23:18:43.687896",
   "environment_variables": {},
   "exception": null,
   "input_path": "/mnt/c/Users/wrpen/OneDrive/Desktop/df_lh/airflow/jupyter/EDA_humanresources_employee.ipynb",
   "output_path": "/mnt/c/Users/wrpen/OneDrive/Desktop/df_lh/airflow/jupyter/EDA_humanresources_employee_output.ipynb",
   "parameters": {
    "credentials_path": "/mnt/c/Temp/desafiolh-445818-3cb0f62cb9ef.json",
    "table_name": "raw_data_cleaned.humanresources_employee"
   },
   "start_time": "2024-12-30T23:18:26.442490",
   "version": "2.6.0"
  }
 },
 "nbformat": 4,
 "nbformat_minor": 5
}
