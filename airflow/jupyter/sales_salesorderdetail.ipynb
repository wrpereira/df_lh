{
 "cells": [
  {
   "cell_type": "markdown",
   "metadata": {},
   "source": [
    "### SETUP INICIAL DO PROJETO"
   ]
  },
  {
   "cell_type": "code",
   "execution_count": null,
   "metadata": {},
   "outputs": [],
   "source": [
    "\n",
    "#importação das bibliotecase e pacotes necessários para a análise\n",
    "\n",
    "import json\n",
    "import numpy as np\n",
    "import os\n",
    "import pandas as pd\n",
    "import pandas_gbq as gbq\n",
    "import re\n",
    "import seaborn as sns\n",
    "import matplotlib.pyplot as plt\n",
    "from dotenv import load_dotenv\n",
    "from google.cloud import bigquery\n",
    "from google.cloud.bigquery_storage import BigQueryReadClient\n",
    "from google.oauth2 import service_account\n",
    "\n",
    "# Carrega o .env: onde estão as credenciais do projeto/repositório\n",
    "load_dotenv(\"/mnt/c/Users/wrpen/OneDrive/Desktop/df_lh/.env\")\n",
    "\n",
    "# Detectar ambiente: como eu estou usando wsl-ubuntu, no VS Code  -  Windows, estava dando conflitos de path\n",
    "if os.name == \"nt\":  # se Windows\n",
    "    credentials_path = r\"C:\\Temp\\desafiolh-445818-3cb0f62cb9ef.json\"\n",
    "else:  # se WSL/Linux\n",
    "    credentials_path = \"/mnt/c/Temp/desafiolh-445818-3cb0f62cb9ef.json\"\n",
    "\n",
    "# Parâmetros injetados pelo Papermill ou definidos manualmente, caso não existam no ambiente\n",
    "# Tables_to_process: lista de tabelas que serão processadas\n",
    "# Output_dataset: nome do dataset onde os dados processados serão armazenados, neste caso, raw_data_cleaned\n",
    "if 'tables_to_process' not in locals():\n",
    "    tables_to_process = [\n",
    "        \"desafioadventureworks-446600.raw_data.sales-salesorderdetail\"       \n",
    "    ]\n",
    "\n",
    "if 'output_dataset' not in locals():\n",
    "    output_dataset = \"desafioadventureworks-446600.raw_data_cleaned\"\n",
    "\n",
    "# Configs do cliente BigQuery: input de project e location de acordo com dados no Bigquery\n",
    "credentials = service_account.Credentials.from_service_account_file(credentials_path)\n",
    "client = bigquery.Client(credentials=credentials, project=os.getenv(\"BIGQUERY_PROJECT\"), location=\"us-central1\")\n"
   ]
  },
  {
   "cell_type": "code",
   "execution_count": null,
   "metadata": {},
   "outputs": [],
   "source": [
    "# Print com a tabela que vai ser processada nesse notebook\n",
    "\n",
    "print(\"Tabelas a processar:\", tables_to_process)"
   ]
  },
  {
   "cell_type": "code",
   "execution_count": null,
   "metadata": {},
   "outputs": [],
   "source": [
    "# Nome do dataset no Bigquery com os dados brutos (.csv) extraídos pelo Meltano \n",
    "dataset_id = 'raw_data'\n",
    "print(dataset_id)\n",
    "\n",
    "# Lista de tabelas do dataset raw_data no Bigquery\n",
    "tables = client.list_tables('raw_data')\n",
    "print(\"Tabelas disponíveis:\")\n",
    "for table in tables:\n",
    "    print(table.table_id)"
   ]
  },
  {
   "cell_type": "markdown",
   "metadata": {},
   "source": [
    "# Exploratory Data Analysis (EDA) e Data Cleaning"
   ]
  },
  {
   "cell_type": "markdown",
   "metadata": {},
   "source": [
    "### Glossário dos dados:\n",
    "\n",
    "O termo ''doc:'', situado no rodapé de algumas cells, indica algo como:\n",
    "\n",
    "- documentação: documentar decisões, análises e resultados;\n",
    "\n",
    "- abreviações de termos, como bkp, df, entre outros."
   ]
  },
  {
   "cell_type": "code",
   "execution_count": null,
   "metadata": {},
   "outputs": [],
   "source": [
    "# Configuração para que o df exiba todas as colunas e todas as linhas completas, e também, exiba o formato numérico com 2 dígitos após a vírgula\n",
    "\n",
    "pd.set_option('display.max_columns', None)\n",
    "#pd.set_option('display.max_rows', None)\n",
    "pd.set_option('display.max_colwidth', None)\n",
    "pd.set_option('display.width', 10000)\n",
    "pd.options.display.float_format = '{:.2f}'.format\n",
    "\n",
    "\n",
    "#doc: df = dataframe  "
   ]
  },
  {
   "cell_type": "code",
   "execution_count": null,
   "metadata": {},
   "outputs": [],
   "source": [
    "# Dicionário para armazenar os df processados\n",
    "df_processados = {}\n",
    "\n",
    "# Iteração das tabelas e armazenamento em df\n",
    "for input_table in tables_to_process:\n",
    "    print(f\"Processando tabela: {input_table}\")\n",
    "    \n",
    "    # Nome da tabela com substituição de '-' por '_'\n",
    "    table_name = input_table.split(\".\")[-1].replace(\"-\", \"_\")  \n",
    "    \n",
    "    # Ler os dados da tabela do BigQuery para um df\n",
    "    print(\"Lendo os dados do BigQuery...\")\n",
    "    query = f\"SELECT * FROM `{input_table}`\"\n",
    "    table_data = client.query(query).to_dataframe()\n",
    "    \n",
    "    # Armazenar o df no dicionário\n",
    "    df_processados[table_name] = table_data\n",
    "    print(f\"Tabela {table_name} processada e armazenada com sucesso.\")\n",
    "\n",
    "# Print de validação\n",
    "print(\"Todas as tabelas foram processadas com sucesso!\")\n"
   ]
  },
  {
   "cell_type": "code",
   "execution_count": null,
   "metadata": {},
   "outputs": [],
   "source": [
    "# Listar todas as variáveis criadas dinamicamente\n",
    "for table_name in df_processados.keys():\n",
    "    print(f\"Variável criada: {table_name}\")  "
   ]
  },
  {
   "cell_type": "code",
   "execution_count": null,
   "metadata": {},
   "outputs": [],
   "source": [
    "# Atribuir o df a uma variável com nome mais simples\n",
    "sales_salesorderdetail = df_processados['sales_salesorderdetail']\n",
    "\n",
    "print(f\"Colunas: {sales_salesorderdetail.shape[1]}\\nLinhas: {sales_salesorderdetail.shape[0]}\")"
   ]
  },
  {
   "cell_type": "code",
   "execution_count": null,
   "metadata": {},
   "outputs": [],
   "source": [
    "# Identificar duplicadas com base em 'salesorderdetailid'\n",
    "duplicadas = sales_salesorderdetail[\n",
    "    sales_salesorderdetail.duplicated(subset=['salesorderdetailid'], keep=False)\n",
    "]\n",
    "\n",
    "# Verificar se existem duplicadas\n",
    "if not duplicadas.empty:\n",
    "    # Ordenar duplicadas por 'salesorderdetailid' e 'modifieddate'\n",
    "    duplicadas_ordenadas = duplicadas.sort_values(by=['salesorderdetailid', 'modifieddate'])\n",
    "\n",
    "    # Exibir duplicadas ordenadas\n",
    "    print(\"duplicadas ordenadas:\")\n",
    "    print(duplicadas_ordenadas)\n",
    "else:\n",
    "    print(\"Não foram encontradas duplicadas.\")"
   ]
  },
  {
   "cell_type": "code",
   "execution_count": null,
   "metadata": {},
   "outputs": [],
   "source": [
    "# Remover duplicadas mantendo a última ocorrência com base em 'modifieddate', pois ela que indica a data da última modificação nos dados\n",
    "# Importante, pois se houver erro na ingestão (duplicação), mantém os dados integros.\n",
    "\n",
    "sales_salesorderdetail = sales_salesorderdetail.drop_duplicates(subset=['salesorderdetailid'], keep='last')\n",
    "\n",
    "print(f\"Linhas após remover duplicadas (baseando-se na última 'modifieddate'): {len(sales_salesorderdetail)}\")\n",
    "\n",
    "#bkp dos dados brutos\n",
    "raw_data_bkp_2_sem_duplicadas = sales_salesorderdetail.copy()\n",
    "\n",
    "\n",
    "#doc: bkp = backup (cópia)"
   ]
  },
  {
   "cell_type": "code",
   "execution_count": null,
   "metadata": {},
   "outputs": [],
   "source": [
    "# Ordenar e exibir o df por 'salesorderdetailid'\n",
    "sales_salesorderdetail = sales_salesorderdetail.sort_values(by=['salesorderdetailid'])\n",
    "\n",
    "print(sales_salesorderdetail)"
   ]
  },
  {
   "cell_type": "code",
   "execution_count": null,
   "metadata": {},
   "outputs": [],
   "source": [
    "# Iterar por todas as colunas do df, para verificar valores ausentes\n",
    "\n",
    "# Verificar valores ausentes na coluna\n",
    "for column in sales_salesorderdetail.columns:   \n",
    "    missing_rows = sales_salesorderdetail[sales_salesorderdetail[column].isnull()]\n",
    "    print(f\"Coluna '{column}': {missing_rows.shape[0]} linhas ausentes.\")\n",
    "    \n",
    "# Mostrar as primeiras linhas ausentes, se preciso for, limitar o head() para dar menos outputs ou limitar os outputs\n",
    "    if not missing_rows.empty:\n",
    "        print(f\"Exibindo as primeiras linhas com valores ausentes em '{column}':\")\n",
    "        print(missing_rows.head(), \"\\n\")\n",
    "    else:\n",
    "        print(f\"Nenhuma linha com valores ausentes em '{column}'.\\n\")"
   ]
  },
  {
   "cell_type": "code",
   "execution_count": null,
   "metadata": {},
   "outputs": [],
   "source": [
    "# Valores únicos por coluna, para verificar se colunas como flags, normalmente booleanas, possuem apenas 1 ou 2 valores.\n",
    "\n",
    "valores_unicos = sales_salesorderdetail.nunique(dropna=False)\n",
    "\n",
    "print(\"Valores únicos incluindo NaN:\")\n",
    "print(valores_unicos)\n",
    "\n",
    "#doc: currentflag possue somente 1 valor, o que indica que pode ser somente valores True ou False."
   ]
  },
  {
   "cell_type": "code",
   "execution_count": null,
   "metadata": {},
   "outputs": [],
   "source": [
    "#verificar informações do df\n",
    "sales_salesorderdetail.info()"
   ]
  },
  {
   "cell_type": "code",
   "execution_count": null,
   "metadata": {},
   "outputs": [],
   "source": [
    "# Variáveis quantitativas*: estatísticas descritivas para verificar se ainda há o que ser feito antes de exportar os dados ao BigQuery\n",
    "\n",
    "# Identificar colunas numéricas para análise de outliers\n",
    "numeric_columns = ['orderqty', 'unitprice','unitpricediscount']\n",
    "\n",
    "# Estatísticas Descritivas das colunas numéricas*\n",
    "print(sales_salesorderdetail[numeric_columns].describe())\n",
    "\n",
    "# Cálculo de limites para outliers (IQR)**\n",
    "for col in numeric_columns:\n",
    "    q1 = sales_salesorderdetail[col].quantile(0.25)\n",
    "    q3 = sales_salesorderdetail[col].quantile(0.75)\n",
    "    iqr = q3 - q1\n",
    "    lower_bound = q1 - 1.5 * iqr\n",
    "    upper_bound = q3 + 1.5 * iqr\n",
    "    \n",
    "    # Exibir os limites\n",
    "    print(f\"\\nColuna: {col}\")\n",
    "    print(f\"Limite inferior: {lower_bound}, Limite superior: {upper_bound}\")\n",
    "    \n",
    "    # Detecção e Análise de Outliers***\n",
    "    outliers = sales_salesorderdetail[(sales_salesorderdetail[col] < lower_bound) | (sales_salesorderdetail[col] > upper_bound)]\n",
    "    print(f\"Outliers detectados ({len(outliers)}):\")\n",
    "    print(outliers[[col]])\n",
    "\n",
    "\n",
    "#doc*: variáveis quantitativas são um tipo de dado que pode ser representado por números e medidas objetivas, no nosso caso, vacationhours, sickleavehours, por exemplo\n",
    "#doc*: realizar estatísticas descritivas para entender a centralidade e variação dos dados (valores médios, mínimos, máximos, etc.)\n",
    "#doc**: calcular limites para identificar outliers (valores extremos que podem indicar erros ou casos excepcionais nos dados)\n",
    "#doc***: verificar a existência de outliers para decidir ações como remoção, substituição ou tratamento, garantindo qualidade dos dados\n",
    "\n",
    "#doc****: as colunas analisadas apresentam outliers, porém os dados refletem operações reais da AdventureWorks, \n",
    "#         incluindo pedidos, preços, e descontos. Outliers em colunas como orderqty, unitprice, e unitpricediscount podem representar transações legítimas, \n",
    "#         como compras em grandes volumes, produtos premium, ou campanhas promocionais. Resultando em não manipular tais colunas."
   ]
  },
  {
   "cell_type": "code",
   "execution_count": null,
   "metadata": {},
   "outputs": [],
   "source": [
    "# Configurar o estilo do gráfico\n",
    "sns.set(style='darkgrid', rc={\"axes.facecolor\": \"black\", \"figure.facecolor\": \"black\"})\n",
    "\n",
    "# Lista das colunas para análise\n",
    "columns_to_plot = ['orderqty', 'unitprice', 'unitpricediscount']\n",
    "\n",
    "# Configurar a grade para 4 gráficos lado a lado\n",
    "fig, axes = plt.subplots(1, len(columns_to_plot), figsize=(20, 12))  \n",
    "\n",
    "# Criar os gráficos\n",
    "for ax, col in zip(axes, columns_to_plot):\n",
    "    # Calcular os quartis para a coluna\n",
    "    quartiles = sales_salesorderdetail[col].quantile([0.25, 0.50, 0.75])\n",
    "\n",
    "    # Gráfico de boxplot\n",
    "    sns.boxplot(\n",
    "        y=sales_salesorderdetail[col], ax=ax, showmeans=True,\n",
    "        meanprops={\"marker\": \"o\", \"markerfacecolor\": \"white\", \"markeredgecolor\": \"black\", \"markersize\": 5},\n",
    "        boxprops={\"color\": \"green\"}, whiskerprops={\"color\": \"green\"}, capprops={\"color\": \"green\"},\n",
    "        medianprops={\"color\": \"red\"}, flierprops={\"markerfacecolor\": \"blue\", \"markersize\": 5}\n",
    "    )\n",
    "\n",
    "    # Título e rótulos\n",
    "    ax.set_title(f'Distribuição de {col}', color='white', fontsize=14)\n",
    "    ax.set_ylabel(col, color='white', fontsize=12)\n",
    "    ax.set_xlabel(\"\")\n",
    "    ax.tick_params(axis='x', colors='white')\n",
    "    ax.tick_params(axis='y', colors='white')\n",
    "\n",
    "    # Adicionar os quartis como texto\n",
    "    offset = 0.4\n",
    "    for i, quartile in enumerate(quartiles):\n",
    "        y_pos = quartile\n",
    "        ax.text(x=0 + offset, y=y_pos, s=f\"{quartile:.1f}\", ha='left', va='center', fontsize=10, color='white')\n",
    "\n",
    "# Ajustar layout\n",
    "plt.tight_layout()\n",
    "plt.show()\n"
   ]
  },
  {
   "cell_type": "code",
   "execution_count": null,
   "metadata": {},
   "outputs": [],
   "source": [
    "# Histogramas*\n",
    "sales_salesorderdetail[['orderqty', 'unitprice', 'unitpricediscount']].hist(\n",
    "    bins=20, figsize=(12, 6), color='blue', edgecolor='black'\n",
    ")\n",
    "plt.suptitle(\"Distribuição de Variáveis Quantitativas\", fontsize=16, color='white')\n",
    "plt.grid(False)\n",
    "plt.show()\n",
    "\n",
    "\n",
    "#doc*: visualizar as distribuições de orderqty, unitprice e unitpricediscount"
   ]
  },
  {
   "cell_type": "code",
   "execution_count": null,
   "metadata": {},
   "outputs": [],
   "source": [
    "# Agrupar por data e contar pedidos\n",
    "time_analysis = sales_salesorderdetail.groupby(sales_salesorderdetail['modifieddate'].dt.date).size()\n",
    "\n",
    "# Plotar evolução temporal*\n",
    "plt.figure(figsize=(12, 6))\n",
    "time_analysis.plot(color='green', linewidth=2)\n",
    "plt.title(\"Evolução de Pedidos ao Longo do Tempo\", fontsize=16, color='white')\n",
    "plt.ylabel(\"Número de Pedidos\", color='white')\n",
    "plt.xlabel(\"Data\", color='white')\n",
    "plt.grid(False)\n",
    "plt.show()\n",
    "\n",
    "\n",
    "#doc*: entender como os dados evoluem ao longo do tempo"
   ]
  },
  {
   "cell_type": "code",
   "execution_count": null,
   "metadata": {},
   "outputs": [],
   "source": [
    "# Contar pedidos com desconto e sem desconto*\n",
    "discount_counts = sales_salesorderdetail['unitpricediscount'].value_counts()\n",
    "\n",
    "# Plotar gráfico de barras\n",
    "plt.figure(figsize=(8, 5))\n",
    "discount_counts.plot(kind='bar', color='orange', edgecolor='black')\n",
    "plt.title(\"Distribuição de Pedidos com e sem Desconto\", fontsize=16, color='white')\n",
    "plt.ylabel(\"Número de Pedidos\", color='white')\n",
    "plt.xlabel(\"Desconto\", color='white')\n",
    "plt.grid(False)\n",
    "plt.show()\n",
    "\n",
    "\n",
    "#doc*: verificar como os descontos (unitpricediscount) estão distribuídos"
   ]
  },
  {
   "cell_type": "code",
   "execution_count": null,
   "metadata": {},
   "outputs": [],
   "source": [
    "# Produtos mais vendidos\n",
    "top_products = sales_salesorderdetail['productid'].value_counts().head(10)\n",
    "\n",
    "# Plotar gráfico de barras\n",
    "plt.figure(figsize=(10, 5))\n",
    "top_products.plot(kind='bar', color='cyan', edgecolor='black')\n",
    "plt.title(\"Top 10 Produtos Mais Vendidos\", fontsize=16, color='white')\n",
    "plt.ylabel(\"Número de Vendas\", color='white')\n",
    "plt.xlabel(\"ID do Produto\", color='white')\n",
    "plt.grid(False)\n",
    "plt.show()\n",
    "\n",
    "\n",
    "#doc*: identificar os produtos mais vendidos"
   ]
  },
  {
   "cell_type": "code",
   "execution_count": null,
   "metadata": {},
   "outputs": [],
   "source": [
    "# Análise cruzada entre 'specialofferid' e 'productid'*\n",
    "offer_product = sales_salesorderdetail.groupby(['specialofferid', 'productid']).size().reset_index(name='counts')\n",
    "\n",
    "# Exibir os 10 principais\n",
    "print(offer_product.sort_values(by='counts', ascending=False).head(10))\n",
    "\n",
    "\n",
    "#doc*: verificar a relação entre specialofferid e productid"
   ]
  },
  {
   "cell_type": "code",
   "execution_count": null,
   "metadata": {},
   "outputs": [],
   "source": [
    "# Atualizar o dicionário df_processados com o df ajustado\n",
    "df_processados['sales_salesorderdetail'] = sales_salesorderdetail"
   ]
  },
  {
   "cell_type": "code",
   "execution_count": null,
   "metadata": {},
   "outputs": [],
   "source": [
    "# Padronizar colunas com valores textuais\n",
    "sales_salesorderdetail['carriertrackingnumber'] = sales_salesorderdetail['carriertrackingnumber'].str.strip().str.upper()\n",
    "sales_salesorderdetail['rowguid'] = sales_salesorderdetail['rowguid'].str.strip().str.upper()\n",
    "\n",
    "print(sales_salesorderdetail.head())\n",
    "\n",
    "#doc: padronizar as strings nessa etapa, contribui para a execução das demais etapas do pipeline"
   ]
  },
  {
   "cell_type": "code",
   "execution_count": null,
   "metadata": {},
   "outputs": [],
   "source": [
    "\n",
    "# Garantir que apenas tabelas únicas sejam exportadas\n",
    "unique_df_processados = {k: v for k, v in df_processados.items()}\n",
    "\n",
    "# Exportar tabelas para o BigQuery\n",
    "for table_name, df_cleaned in unique_df_processados.items():\n",
    "    # Nome da tabela no BigQuery\n",
    "    output_table = f\"{output_dataset}.{table_name}\"\n",
    "\n",
    "    # Configurar job de exportação\n",
    "    job_config = bigquery.LoadJobConfig(\n",
    "        write_disposition=\"WRITE_TRUNCATE\"  \n",
    "    )\n",
    "    \n",
    "    # Exportar DataFrame para o BigQuery\n",
    "    job = client.load_table_from_dataframe(df_cleaned, output_table, job_config=job_config)\n",
    "    job.result()\n",
    "\n",
    "    print(f\"Tabela {table_name} exportada com sucesso para {output_table}.\")"
   ]
  },
  {
   "cell_type": "markdown",
   "metadata": {},
   "source": []
  }
 ],
 "metadata": {
  "kernelspec": {
   "display_name": "venv",
   "language": "python",
   "name": "python3"
  },
  "language_info": {
   "codemirror_mode": {
    "name": "ipython",
    "version": 3
   },
   "file_extension": ".py",
   "mimetype": "text/x-python",
   "name": "python",
   "nbconvert_exporter": "python",
   "pygments_lexer": "ipython3",
   "version": "3.10.9"
  }
 },
 "nbformat": 4,
 "nbformat_minor": 2
}
