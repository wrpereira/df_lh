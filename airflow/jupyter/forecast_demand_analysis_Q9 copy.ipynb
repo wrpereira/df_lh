{
 "cells": [
  {
   "cell_type": "markdown",
   "metadata": {},
   "source": [
    "### SETUP INICIAL DO PROJETO"
   ]
  },
  {
   "cell_type": "code",
   "execution_count": 1,
   "metadata": {},
   "outputs": [],
   "source": [
    "# Importação das bibliotecas necessárias\n",
    "import os\n",
    "import pandas as pd\n",
    "import numpy as np\n",
    "import matplotlib.pyplot as plt\n",
    "import seaborn as sns\n",
    "from dotenv import load_dotenv\n",
    "from google.cloud import bigquery\n",
    "from google.oauth2 import service_account\n",
    "\n",
    "\n",
    "# Carrega o .env: onde estão as credenciais do projeto/repositório\n",
    "load_dotenv(\"/mnt/c/Users/wrpen/OneDrive/Desktop/df_lh/.env\")\n",
    "\n",
    "# Detectar ambiente: como eu estou usando wsl-ubuntu, no VS Code  -  Windows, estava dando conflitos de path\n",
    "if os.name == \"nt\":  # se Windows\n",
    "    credentials_path = r\"C:\\Temp\\desafiolh-445818-3cb0f62cb9ef.json\"\n",
    "else:  # se WSL/Linux\n",
    "    credentials_path = \"/mnt/c/Temp/desafiolh-445818-3cb0f62cb9ef.json\"\n",
    "\n",
    "# Parâmetros injetados pelo Papermill ou definidos manualmente, caso não existam no ambiente\n",
    "# Tables_to_process: lista de tabelas que serão processadas\n",
    "# Output_dataset: nome do dataset onde os dados processados serão armazenados, neste caso, raw_data_cleaned\n",
    "if 'tables_to_process' not in locals():\n",
    "    tables_to_process = [\n",
    "        \"desafioadventureworks-446600.stg_marts_tables.dim_product_forecast\"  ,\n",
    "        \"desafioadventureworks-446600.stg_marts_tables.dim_product_seasonality\",\n",
    "        \"desafioadventureworks-446600.stg_marts_tables.dim_date\", \n",
    "        \"desafioadventureworks-446600.stg_staging_tables.stg_sales_salesorderheader\",\n",
    "        \"desafioadventureworks-446600.stg_staging_tables.stg_sales_salesorderdetail\",\n",
    "        \"desafioadventureworks-446600.stg_staging_tables.stg_production_product\",\n",
    "        \"desafioadventureworks-446600.stg_staging_tables.stg_sales_store\",\n",
    "        \"desafioadventureworks-446600.stg_staging_tables.stg_sales_salesterritory\",\n",
    "        \"desafioadventureworks-446600.stg_staging_tables.stg_sales_salesperson\",\n",
    "        \"desafioadventureworks-446600.stg_staging_tables.stg_sales_customer\"\n",
    "    ]\n",
    "\n",
    "if 'output_dataset' not in locals():\n",
    "    output_dataset = \"desafioadventureworks-446600.stg_marts_tables\"\n",
    "\n",
    "# Configs do cliente BigQuery: input de project e location de acordo com dados no Bigquery\n",
    "credentials = service_account.Credentials.from_service_account_file(credentials_path)\n",
    "client = bigquery.Client(credentials=credentials, project=os.getenv(\"BIGQUERY_PROJECT\"), location=\"us-central1\")\n"
   ]
  },
  {
   "cell_type": "code",
   "execution_count": 2,
   "metadata": {},
   "outputs": [
    {
     "name": "stdout",
     "output_type": "stream",
     "text": [
      "Tabelas a processar: ['desafioadventureworks-446600.stg_marts_tables.dim_product_forecast', 'desafioadventureworks-446600.stg_marts_tables.dim_product_seasonality', 'desafioadventureworks-446600.stg_marts_tables.dim_date', 'desafioadventureworks-446600.stg_staging_tables.stg_sales_salesorderheader', 'desafioadventureworks-446600.stg_staging_tables.stg_sales_salesorderdetail', 'desafioadventureworks-446600.stg_staging_tables.stg_production_product', 'desafioadventureworks-446600.stg_staging_tables.stg_sales_store', 'desafioadventureworks-446600.stg_staging_tables.stg_sales_salesterritory', 'desafioadventureworks-446600.stg_staging_tables.stg_sales_salesperson', 'desafioadventureworks-446600.stg_staging_tables.stg_sales_customer']\n"
     ]
    }
   ],
   "source": [
    "# Print com a tabela que vai ser processada nesse notebook\n",
    "\n",
    "print(\"Tabelas a processar:\", tables_to_process)"
   ]
  },
  {
   "cell_type": "markdown",
   "metadata": {},
   "source": [
    "# Exploratory Data Analysis (EDA) e Data Cleaning"
   ]
  },
  {
   "cell_type": "markdown",
   "metadata": {},
   "source": [
    "### Glossário dos dados:\n",
    "\n",
    "O termo ''doc:'', situado no rodapé de algumas cells, indica algo como:\n",
    "\n",
    "- documentação: documentar decisões, análises e resultados;\n",
    "\n",
    "- abreviações de termos, como bkp, df, entre outros."
   ]
  },
  {
   "cell_type": "code",
   "execution_count": 3,
   "metadata": {},
   "outputs": [],
   "source": [
    "# Configuração para que o df exiba todas as colunas e todas as linhas completas, e também, exiba o formato numérico com 2 dígitos após a vírgula\n",
    "\n",
    "pd.set_option('display.max_columns', None)\n",
    "#pd.set_option('display.max_rows', None)\n",
    "pd.set_option('display.max_colwidth', None)\n",
    "pd.set_option('display.width', 10000)\n",
    "pd.options.display.float_format = '{:.2f}'.format\n",
    "\n",
    "\n",
    "#doc: df = dataframe  "
   ]
  },
  {
   "cell_type": "code",
   "execution_count": 4,
   "metadata": {},
   "outputs": [
    {
     "name": "stdout",
     "output_type": "stream",
     "text": [
      "Processando tabela: desafioadventureworks-446600.stg_marts_tables.dim_product_forecast\n",
      "Lendo os dados do BigQuery...\n",
      "Tabela dim_product_forecast processada e armazenada com sucesso.\n",
      "Processando tabela: desafioadventureworks-446600.stg_marts_tables.dim_product_seasonality\n",
      "Lendo os dados do BigQuery...\n",
      "Tabela dim_product_seasonality processada e armazenada com sucesso.\n",
      "Processando tabela: desafioadventureworks-446600.stg_marts_tables.dim_date\n",
      "Lendo os dados do BigQuery...\n",
      "Tabela dim_date processada e armazenada com sucesso.\n",
      "Processando tabela: desafioadventureworks-446600.stg_staging_tables.stg_sales_salesorderheader\n",
      "Lendo os dados do BigQuery...\n",
      "Tabela stg_sales_salesorderheader processada e armazenada com sucesso.\n",
      "Processando tabela: desafioadventureworks-446600.stg_staging_tables.stg_sales_salesorderdetail\n",
      "Lendo os dados do BigQuery...\n",
      "Tabela stg_sales_salesorderdetail processada e armazenada com sucesso.\n",
      "Processando tabela: desafioadventureworks-446600.stg_staging_tables.stg_production_product\n",
      "Lendo os dados do BigQuery...\n",
      "Tabela stg_production_product processada e armazenada com sucesso.\n",
      "Processando tabela: desafioadventureworks-446600.stg_staging_tables.stg_sales_store\n",
      "Lendo os dados do BigQuery...\n",
      "Tabela stg_sales_store processada e armazenada com sucesso.\n",
      "Processando tabela: desafioadventureworks-446600.stg_staging_tables.stg_sales_salesterritory\n",
      "Lendo os dados do BigQuery...\n",
      "Tabela stg_sales_salesterritory processada e armazenada com sucesso.\n",
      "Processando tabela: desafioadventureworks-446600.stg_staging_tables.stg_sales_salesperson\n",
      "Lendo os dados do BigQuery...\n",
      "Tabela stg_sales_salesperson processada e armazenada com sucesso.\n",
      "Processando tabela: desafioadventureworks-446600.stg_staging_tables.stg_sales_customer\n",
      "Lendo os dados do BigQuery...\n",
      "Tabela stg_sales_customer processada e armazenada com sucesso.\n",
      "Todas as tabelas foram processadas com sucesso!\n"
     ]
    }
   ],
   "source": [
    "# Dicionário para armazenar os df processados\n",
    "df_processados = {}\n",
    "\n",
    "# Iteração das tabelas e armazenamento em df\n",
    "for input_table in tables_to_process:\n",
    "    print(f\"Processando tabela: {input_table}\")\n",
    "    \n",
    "    # Nome da tabela com substituição de '-' por '_'\n",
    "    table_name = input_table.split(\".\")[-1].replace(\"-\", \"_\")  \n",
    "    \n",
    "    # Ler os dados da tabela do BigQuery para um df\n",
    "    print(\"Lendo os dados do BigQuery...\")\n",
    "    query = f\"SELECT * FROM `{input_table}`\"\n",
    "    table_data = client.query(query).to_dataframe()\n",
    "    \n",
    "    # Armazenar o df no dicionário\n",
    "    df_processados[table_name] = table_data\n",
    "    print(f\"Tabela {table_name} processada e armazenada com sucesso.\")\n",
    "\n",
    "# Print de validação\n",
    "print(\"Todas as tabelas foram processadas com sucesso!\")\n"
   ]
  },
  {
   "cell_type": "code",
   "execution_count": 5,
   "metadata": {},
   "outputs": [
    {
     "name": "stdout",
     "output_type": "stream",
     "text": [
      "\n",
      "Colunas na tabela dim_product_forecast:\n",
      "Index(['store_id', 'productid_id', 'forecast_date', 'forecast_quantity'], dtype='object')\n",
      "\n",
      "Colunas na tabela dim_product_seasonality:\n",
      "Index(['year_month', 'year', 'month', 'productid_id', 'total_quantity_sold'], dtype='object')\n",
      "\n",
      "Colunas na tabela dim_date:\n",
      "Index(['salesorderid_id', 'day_nr', 'month_nr', 'year_nr'], dtype='object')\n",
      "\n",
      "Colunas na tabela stg_sales_salesorderheader:\n",
      "Index(['salesorderid_id', 'revisionnumber_cd', 'orderdate_dt', 'duedate_dt', 'shipdate_dt', 'status_st', 'onlineorderflag_fl', 'accountnumber_cd', 'customerid_id', 'territoryid_id', 'billtoaddressid_id', 'shiptoaddressid_id', 'shipmethodid_id', 'creditcardid_id', 'creditcardapprovalcode_cd', 'subtotal_vr', 'taxamt_vr', 'freight_vr', 'totaldue_vr', 'rowguid_desc', 'modifieddate_dt'], dtype='object')\n",
      "\n",
      "Colunas na tabela stg_sales_salesorderdetail:\n",
      "Index(['salesorderid_id', 'salesorderdetailid_id', 'carriertrackingnumber_cd', 'orderqty_qt', 'productid_id', 'specialofferid_id', 'unitprice_vr', 'unitpricediscount_vr', 'rowguid_desc', 'modifieddate_dt'], dtype='object')\n",
      "\n",
      "Colunas na tabela stg_production_product:\n",
      "Index(['productid_id', 'product_nm', 'productnumber_cd', 'makeflag_fl', 'finishedgoodsflag_fl', 'color_tp', 'safetystocklevel_nr', 'reorderpoint_tp', 'standardcost_vr', 'listprice_vr', 'size_tp', 'sizeunitmeasurecode_cd', 'weightunitmeasurecode_cd', 'weight_tp', 'daystomanufacture_nr', 'productline_tp', 'class_tp', 'style_tp', 'productsubcategoryid_id', 'productmodelid_id', 'sellstartdate_dt', 'sellenddate_dt', 'rowguid_desc', 'modifieddate_dt'], dtype='object')\n",
      "\n",
      "Colunas na tabela stg_sales_store:\n",
      "Index(['businessentityid_id', 'store_nm', 'salespersonid_id', 'rowguid_desc', 'modifieddate_dt'], dtype='object')\n",
      "\n",
      "Colunas na tabela stg_sales_salesterritory:\n",
      "Index(['territoryid_id', 'territory_nm', 'countryregioncode_cd', 'group_tp', 'salesytd_vr', 'saleslastyear_vr', 'rowguid_desc', 'modifieddate_dt'], dtype='object')\n",
      "\n",
      "Colunas na tabela stg_sales_salesperson:\n",
      "Index(['businessentityid_id', 'territoryid_id', 'salesquota_nr', 'bonus_vr', 'commissionpct_vr', 'salesytd_vr', 'saleslastyear_vr', 'rowguid_desc', 'modifieddate_dt'], dtype='object')\n",
      "\n",
      "Colunas na tabela stg_sales_customer:\n",
      "Index(['customerid_id', 'personid_id', 'storeid_id', 'territoryid_id', 'rowguid_desc', 'modifieddate_dt'], dtype='object')\n"
     ]
    }
   ],
   "source": [
    "# Listar colunas de cada tabela carregada\n",
    "for table_name, df in df_processados.items():\n",
    "    print(f\"\\nColunas na tabela {table_name}:\")\n",
    "    print(df.columns)\n"
   ]
  },
  {
   "cell_type": "code",
   "execution_count": 6,
   "metadata": {},
   "outputs": [
    {
     "name": "stdout",
     "output_type": "stream",
     "text": [
      "       customerid_id  personid_id  storeid_id  territoryid_id                          rowguid_desc                  modifieddate_dt  businessentityid_id              store_nm  salespersonid_id                    rowguid_desc_store            modifieddate_dt_store\n",
      "0              11022         6522        <NA>               1  25D8CC95-225B-41B3-A666-457C80245126 2014-09-12 11:15:07.263000+00:00                 <NA>                   NaN              <NA>                                   NaN                              NaT\n",
      "1              11236        13521        <NA>               1  F80670A5-AD53-4296-9C63-8D2F3D45B22E 2014-09-12 11:15:07.263000+00:00                 <NA>                   NaN              <NA>                                   NaN                              NaT\n",
      "2              11304        11060        <NA>               1  F391B954-FD33-4786-99C1-E10A1A492EA6 2014-09-12 11:15:07.263000+00:00                 <NA>                   NaN              <NA>                                   NaN                              NaT\n",
      "3              11518        13649        <NA>               1  8BA00C49-E704-4B9E-9A77-5263C51B27E0 2014-09-12 11:15:07.263000+00:00                 <NA>                   NaN              <NA>                                   NaN                              NaT\n",
      "4              12085        18637        <NA>               1  39D5CCB8-742C-41DB-ABA3-499B490816CF 2014-09-12 11:15:07.263000+00:00                 <NA>                   NaN              <NA>                                   NaN                              NaT\n",
      "...              ...          ...         ...             ...                                   ...                              ...                  ...                   ...               ...                                   ...                              ...\n",
      "19815            142         <NA>         984              10  B821D13F-E9DB-4A3B-87D0-7E867A161575 2014-09-12 11:15:07.263000+00:00                  984         RIDING CYCLES               289  A631B7D3-4ADA-4D5C-A985-6DFF7A8066BE 2014-09-12 11:15:07.497000+00:00\n",
      "19816            286         <NA>         944              10  6266CCC4-1AF0-42E0-BCA4-B33EA6838EEE 2014-09-12 11:15:07.263000+00:00                  944   NUMBER ONE BIKE CO.               289  6F9F5165-4E33-484E-8062-DA66D67674B2 2014-09-12 11:15:07.497000+00:00\n",
      "19817            268         <NA>         588              10  0C316F6F-5D54-41FD-86A3-6ECAF31A01DD 2014-09-12 11:15:07.263000+00:00                  588        CHANNEL OUTLET               289  70703845-FB8A-40A5-974F-D54B46943647 2014-09-12 11:15:07.497000+00:00\n",
      "19818            304         <NA>        1484              10  C332C909-EE43-4312-A9D8-B2365A0160EA 2014-09-12 11:15:07.263000+00:00                 1484  ESSENTIAL BIKE WORKS               289  18887CC9-A503-4F5C-B054-FB6CCDF9F56D 2014-09-12 11:15:07.497000+00:00\n",
      "19819            520         <NA>         596              10  34C094D7-8C79-47A5-B192-9597826BD55D 2014-09-12 11:15:07.263000+00:00                  596      METRO METALS CO.               289  FA71E13B-B051-4F12-A280-F69ECD6AF1DB 2014-09-12 11:15:07.497000+00:00\n",
      "\n",
      "[19820 rows x 11 columns]\n"
     ]
    }
   ],
   "source": [
    "# Merge 1: Cliente + Loja\n",
    "df_customer_store = pd.merge(\n",
    "    df_processados['stg_sales_customer'],\n",
    "    df_processados['stg_sales_store'],\n",
    "    left_on='storeid_id',\n",
    "    right_on='businessentityid_id',\n",
    "    how='left',\n",
    "    suffixes=('', '_store')\n",
    ")\n",
    "\n",
    "print(df_customer_store)"
   ]
  },
  {
   "cell_type": "code",
   "execution_count": 7,
   "metadata": {},
   "outputs": [
    {
     "name": "stdout",
     "output_type": "stream",
     "text": [
      "       customerid_id  personid_id  storeid_id  territoryid_id                          rowguid_desc                  modifieddate_dt  businessentityid_id              store_nm  salespersonid_id                    rowguid_desc_store            modifieddate_dt_store  businessentityid_id_salesperson  territoryid_id_salesperson  salesquota_nr  bonus_vr  commissionpct_vr  salesytd_vr  saleslastyear_vr              rowguid_desc_salesperson modifieddate_dt_salesperson\n",
      "0              11022         6522        <NA>               1  25D8CC95-225B-41B3-A666-457C80245126 2014-09-12 11:15:07.263000+00:00                 <NA>                   NaN              <NA>                                   NaN                              NaT                             <NA>                        <NA>           <NA>      <NA>               NaN          NaN               NaN                                   NaN                         NaT\n",
      "1              11236        13521        <NA>               1  F80670A5-AD53-4296-9C63-8D2F3D45B22E 2014-09-12 11:15:07.263000+00:00                 <NA>                   NaN              <NA>                                   NaN                              NaT                             <NA>                        <NA>           <NA>      <NA>               NaN          NaN               NaN                                   NaN                         NaT\n",
      "2              11304        11060        <NA>               1  F391B954-FD33-4786-99C1-E10A1A492EA6 2014-09-12 11:15:07.263000+00:00                 <NA>                   NaN              <NA>                                   NaN                              NaT                             <NA>                        <NA>           <NA>      <NA>               NaN          NaN               NaN                                   NaN                         NaT\n",
      "3              11518        13649        <NA>               1  8BA00C49-E704-4B9E-9A77-5263C51B27E0 2014-09-12 11:15:07.263000+00:00                 <NA>                   NaN              <NA>                                   NaN                              NaT                             <NA>                        <NA>           <NA>      <NA>               NaN          NaN               NaN                                   NaN                         NaT\n",
      "4              12085        18637        <NA>               1  39D5CCB8-742C-41DB-ABA3-499B490816CF 2014-09-12 11:15:07.263000+00:00                 <NA>                   NaN              <NA>                                   NaN                              NaT                             <NA>                        <NA>           <NA>      <NA>               NaN          NaN               NaN                                   NaN                         NaT\n",
      "...              ...          ...         ...             ...                                   ...                              ...                  ...                   ...               ...                                   ...                              ...                              ...                         ...            ...       ...               ...          ...               ...                                   ...                         ...\n",
      "19815            142         <NA>         984              10  B821D13F-E9DB-4A3B-87D0-7E867A161575 2014-09-12 11:15:07.263000+00:00                  984         RIDING CYCLES               289  A631B7D3-4ADA-4D5C-A985-6DFF7A8066BE 2014-09-12 11:15:07.497000+00:00                              289                          10         250000      5150              0.02   4116871.23        1635823.40  25F6838D-9DB4-4833-9DDC-7A24283AF1BA   2012-05-23 00:00:00+00:00\n",
      "19816            286         <NA>         944              10  6266CCC4-1AF0-42E0-BCA4-B33EA6838EEE 2014-09-12 11:15:07.263000+00:00                  944   NUMBER ONE BIKE CO.               289  6F9F5165-4E33-484E-8062-DA66D67674B2 2014-09-12 11:15:07.497000+00:00                              289                          10         250000      5150              0.02   4116871.23        1635823.40  25F6838D-9DB4-4833-9DDC-7A24283AF1BA   2012-05-23 00:00:00+00:00\n",
      "19817            268         <NA>         588              10  0C316F6F-5D54-41FD-86A3-6ECAF31A01DD 2014-09-12 11:15:07.263000+00:00                  588        CHANNEL OUTLET               289  70703845-FB8A-40A5-974F-D54B46943647 2014-09-12 11:15:07.497000+00:00                              289                          10         250000      5150              0.02   4116871.23        1635823.40  25F6838D-9DB4-4833-9DDC-7A24283AF1BA   2012-05-23 00:00:00+00:00\n",
      "19818            304         <NA>        1484              10  C332C909-EE43-4312-A9D8-B2365A0160EA 2014-09-12 11:15:07.263000+00:00                 1484  ESSENTIAL BIKE WORKS               289  18887CC9-A503-4F5C-B054-FB6CCDF9F56D 2014-09-12 11:15:07.497000+00:00                              289                          10         250000      5150              0.02   4116871.23        1635823.40  25F6838D-9DB4-4833-9DDC-7A24283AF1BA   2012-05-23 00:00:00+00:00\n",
      "19819            520         <NA>         596              10  34C094D7-8C79-47A5-B192-9597826BD55D 2014-09-12 11:15:07.263000+00:00                  596      METRO METALS CO.               289  FA71E13B-B051-4F12-A280-F69ECD6AF1DB 2014-09-12 11:15:07.497000+00:00                              289                          10         250000      5150              0.02   4116871.23        1635823.40  25F6838D-9DB4-4833-9DDC-7A24283AF1BA   2012-05-23 00:00:00+00:00\n",
      "\n",
      "[19820 rows x 20 columns]\n"
     ]
    }
   ],
   "source": [
    "# Merge 2: Cliente + Vendedor\n",
    "df_customer_store_salesperson = pd.merge(\n",
    "    df_customer_store,\n",
    "    df_processados['stg_sales_salesperson'],\n",
    "    left_on='salespersonid_id',\n",
    "    right_on='businessentityid_id',\n",
    "    how='left',\n",
    "    suffixes=('', '_salesperson')\n",
    ")\n",
    "\n",
    "print(df_customer_store_salesperson)"
   ]
  },
  {
   "cell_type": "code",
   "execution_count": 8,
   "metadata": {},
   "outputs": [
    {
     "name": "stdout",
     "output_type": "stream",
     "text": [
      "       customerid_id  personid_id  storeid_id  territoryid_id                          rowguid_desc                  modifieddate_dt  businessentityid_id              store_nm  salespersonid_id                    rowguid_desc_store            modifieddate_dt_store  businessentityid_id_salesperson  territoryid_id_salesperson  salesquota_nr  bonus_vr  commissionpct_vr  salesytd_vr  saleslastyear_vr              rowguid_desc_salesperson modifieddate_dt_salesperson  salesorderid_id  revisionnumber_cd              orderdate_dt                duedate_dt               shipdate_dt  status_st  onlineorderflag_fl accountnumber_cd  territoryid_id_order  billtoaddressid_id  shiptoaddressid_id  shipmethodid_id  creditcardid_id creditcardapprovalcode_cd  subtotal_vr  taxamt_vr  freight_vr  totaldue_vr                    rowguid_desc_order     modifieddate_dt_order\n",
      "0              11022         6522        <NA>               1  25D8CC95-225B-41B3-A666-457C80245126 2014-09-12 11:15:07.263000+00:00                 <NA>                   NaN              <NA>                                   NaN                              NaT                             <NA>                        <NA>           <NA>      <NA>               NaN          NaN               NaN                                   NaN                         NaT            51556                  8 2013-06-22 00:00:00+00:00 2013-07-04 00:00:00+00:00 2013-06-29 00:00:00+00:00          5                True   10-4030-011022                     1               15557               15557                1             2069             837741Vi10792      2322.28     185.78       58.06      2566.12  FE2B26EC-99C3-46C4-8E81-63E47169CBA9 2013-06-29 00:00:00+00:00\n",
      "1              11236        13521        <NA>               1  F80670A5-AD53-4296-9C63-8D2F3D45B22E 2014-09-12 11:15:07.263000+00:00                 <NA>                   NaN              <NA>                                   NaN                              NaT                             <NA>                        <NA>           <NA>      <NA>               NaN          NaN               NaN                                   NaN                         NaT            67680                  8 2014-03-05 00:00:00+00:00 2014-03-17 00:00:00+00:00 2014-03-12 00:00:00+00:00          5                True   10-4030-011236                     1               22591               22591                1             2101             329555Vi10936        74.98       6.00        1.87        82.85  3DE02A99-DB17-4C9E-9A9E-0B17E73B9843 2014-03-12 00:00:00+00:00\n",
      "2              11236        13521        <NA>               1  F80670A5-AD53-4296-9C63-8D2F3D45B22E 2014-09-12 11:15:07.263000+00:00                 <NA>                   NaN              <NA>                                   NaN                              NaT                             <NA>                        <NA>           <NA>      <NA>               NaN          NaN               NaN                                   NaN                         NaT            74422                  8 2014-06-08 00:00:00+00:00 2014-06-20 00:00:00+00:00 2014-06-15 00:00:00+00:00          5                True   10-4030-011236                     1               22591               22591                1             2101             320693Vi10936        38.98       3.12        0.97        43.07  A9EB4E53-027B-42F8-9F0B-5E0B1AA50E2D 2014-06-15 00:00:00+00:00\n",
      "3              11304        11060        <NA>               1  F391B954-FD33-4786-99C1-E10A1A492EA6 2014-09-12 11:15:07.263000+00:00                 <NA>                   NaN              <NA>                                   NaN                              NaT                             <NA>                        <NA>           <NA>      <NA>               NaN          NaN               NaN                                   NaN                         NaT            56609                  8 2013-09-22 00:00:00+00:00 2013-10-04 00:00:00+00:00 2013-09-29 00:00:00+00:00          5                True   10-4030-011304                     1               20125               20125                1            13144             921156Vi68112         2.29       0.18        0.06         2.53  57EABDB3-B06E-4F01-A880-3669CC67A176 2013-09-29 00:00:00+00:00\n",
      "4              11304        11060        <NA>               1  F391B954-FD33-4786-99C1-E10A1A492EA6 2014-09-12 11:15:07.263000+00:00                 <NA>                   NaN              <NA>                                   NaN                              NaT                             <NA>                        <NA>           <NA>      <NA>               NaN          NaN               NaN                                   NaN                         NaT            54754                  8 2013-08-20 00:00:00+00:00 2013-09-01 00:00:00+00:00 2013-08-27 00:00:00+00:00          5                True   10-4030-011304                     1               20125               20125                1            13144             929117Vi68112       119.92       9.59        3.00       132.51  CCAFFD73-26DB-420E-B49B-C7C223E00FFC 2013-08-27 00:00:00+00:00\n",
      "...              ...          ...         ...             ...                                   ...                              ...                  ...                   ...               ...                                   ...                              ...                              ...                         ...            ...       ...               ...          ...               ...                                   ...                         ...              ...                ...                       ...                       ...                       ...        ...                 ...              ...                   ...                 ...                 ...              ...              ...                       ...          ...        ...         ...          ...                                   ...                       ...\n",
      "32161            142         <NA>         984              10  B821D13F-E9DB-4A3B-87D0-7E867A161575 2014-09-12 11:15:07.263000+00:00                  984         RIDING CYCLES               289  A631B7D3-4ADA-4D5C-A985-6DFF7A8066BE 2014-09-12 11:15:07.497000+00:00                              289                          10         250000      5150              0.02   4116871.23        1635823.40  25F6838D-9DB4-4833-9DDC-7A24283AF1BA   2012-05-23 00:00:00+00:00             <NA>               <NA>                       NaT                       NaT                       NaT       <NA>                <NA>              NaN                  <NA>                <NA>                <NA>             <NA>             <NA>                       NaN          NaN        NaN         NaN          NaN                                   NaN                       NaT\n",
      "32162            286         <NA>         944              10  6266CCC4-1AF0-42E0-BCA4-B33EA6838EEE 2014-09-12 11:15:07.263000+00:00                  944   NUMBER ONE BIKE CO.               289  6F9F5165-4E33-484E-8062-DA66D67674B2 2014-09-12 11:15:07.497000+00:00                              289                          10         250000      5150              0.02   4116871.23        1635823.40  25F6838D-9DB4-4833-9DDC-7A24283AF1BA   2012-05-23 00:00:00+00:00             <NA>               <NA>                       NaT                       NaT                       NaT       <NA>                <NA>              NaN                  <NA>                <NA>                <NA>             <NA>             <NA>                       NaN          NaN        NaN         NaN          NaN                                   NaN                       NaT\n",
      "32163            268         <NA>         588              10  0C316F6F-5D54-41FD-86A3-6ECAF31A01DD 2014-09-12 11:15:07.263000+00:00                  588        CHANNEL OUTLET               289  70703845-FB8A-40A5-974F-D54B46943647 2014-09-12 11:15:07.497000+00:00                              289                          10         250000      5150              0.02   4116871.23        1635823.40  25F6838D-9DB4-4833-9DDC-7A24283AF1BA   2012-05-23 00:00:00+00:00             <NA>               <NA>                       NaT                       NaT                       NaT       <NA>                <NA>              NaN                  <NA>                <NA>                <NA>             <NA>             <NA>                       NaN          NaN        NaN         NaN          NaN                                   NaN                       NaT\n",
      "32164            304         <NA>        1484              10  C332C909-EE43-4312-A9D8-B2365A0160EA 2014-09-12 11:15:07.263000+00:00                 1484  ESSENTIAL BIKE WORKS               289  18887CC9-A503-4F5C-B054-FB6CCDF9F56D 2014-09-12 11:15:07.497000+00:00                              289                          10         250000      5150              0.02   4116871.23        1635823.40  25F6838D-9DB4-4833-9DDC-7A24283AF1BA   2012-05-23 00:00:00+00:00             <NA>               <NA>                       NaT                       NaT                       NaT       <NA>                <NA>              NaN                  <NA>                <NA>                <NA>             <NA>             <NA>                       NaN          NaN        NaN         NaN          NaN                                   NaN                       NaT\n",
      "32165            520         <NA>         596              10  34C094D7-8C79-47A5-B192-9597826BD55D 2014-09-12 11:15:07.263000+00:00                  596      METRO METALS CO.               289  FA71E13B-B051-4F12-A280-F69ECD6AF1DB 2014-09-12 11:15:07.497000+00:00                              289                          10         250000      5150              0.02   4116871.23        1635823.40  25F6838D-9DB4-4833-9DDC-7A24283AF1BA   2012-05-23 00:00:00+00:00             <NA>               <NA>                       NaT                       NaT                       NaT       <NA>                <NA>              NaN                  <NA>                <NA>                <NA>             <NA>             <NA>                       NaN          NaN        NaN         NaN          NaN                                   NaN                       NaT\n",
      "\n",
      "[32166 rows x 40 columns]\n"
     ]
    }
   ],
   "source": [
    "# Merge 3: Cliente + Pedido\n",
    "df_customer_store_salesperson_order = pd.merge(\n",
    "    df_customer_store_salesperson,\n",
    "    df_processados['stg_sales_salesorderheader'],\n",
    "    left_on='customerid_id',\n",
    "    right_on='customerid_id',\n",
    "    how='left',\n",
    "    suffixes=('', '_order')\n",
    ")\n",
    "print(df_customer_store_salesperson_order)"
   ]
  },
  {
   "cell_type": "code",
   "execution_count": 9,
   "metadata": {},
   "outputs": [
    {
     "name": "stdout",
     "output_type": "stream",
     "text": [
      "        customerid_id  personid_id  storeid_id  territoryid_id                          rowguid_desc                  modifieddate_dt  businessentityid_id              store_nm  salespersonid_id                    rowguid_desc_store            modifieddate_dt_store  businessentityid_id_salesperson  territoryid_id_salesperson  salesquota_nr  bonus_vr  commissionpct_vr  salesytd_vr  saleslastyear_vr              rowguid_desc_salesperson modifieddate_dt_salesperson  salesorderid_id  revisionnumber_cd              orderdate_dt                duedate_dt               shipdate_dt  status_st  onlineorderflag_fl accountnumber_cd  territoryid_id_order  billtoaddressid_id  shiptoaddressid_id  shipmethodid_id  creditcardid_id creditcardapprovalcode_cd  subtotal_vr  taxamt_vr  freight_vr  totaldue_vr                    rowguid_desc_order     modifieddate_dt_order  salesorderdetailid_id carriertrackingnumber_cd  orderqty_qt  productid_id  specialofferid_id  unitprice_vr  unitpricediscount_vr                  rowguid_desc_details   modifieddate_dt_details\n",
      "0               11022         6522        <NA>               1  25D8CC95-225B-41B3-A666-457C80245126 2014-09-12 11:15:07.263000+00:00                 <NA>                   NaN              <NA>                                   NaN                              NaT                             <NA>                        <NA>           <NA>      <NA>               NaN          NaN               NaN                                   NaN                         NaT            51556                  8 2013-06-22 00:00:00+00:00 2013-07-04 00:00:00+00:00 2013-06-29 00:00:00+00:00          5                True   10-4030-011022                     1               15557               15557                1             2069             837741Vi10792      2322.28     185.78       58.06      2566.12  FE2B26EC-99C3-46C4-8E81-63E47169CBA9 2013-06-29 00:00:00+00:00                  38810                     None            1           779                  1       2319.99                  0.00  074C726E-2DE0-492A-A635-2C26B43B8081 2013-06-22 00:00:00+00:00\n",
      "1               11022         6522        <NA>               1  25D8CC95-225B-41B3-A666-457C80245126 2014-09-12 11:15:07.263000+00:00                 <NA>                   NaN              <NA>                                   NaN                              NaT                             <NA>                        <NA>           <NA>      <NA>               NaN          NaN               NaN                                   NaN                         NaT            51556                  8 2013-06-22 00:00:00+00:00 2013-07-04 00:00:00+00:00 2013-06-29 00:00:00+00:00          5                True   10-4030-011022                     1               15557               15557                1             2069             837741Vi10792      2322.28     185.78       58.06      2566.12  FE2B26EC-99C3-46C4-8E81-63E47169CBA9 2013-06-29 00:00:00+00:00                  38811                     None            1           873                  1          2.29                  0.00  E0DB95AF-C3C7-46B4-A28C-1017B6A14EBD 2013-06-22 00:00:00+00:00\n",
      "2               11236        13521        <NA>               1  F80670A5-AD53-4296-9C63-8D2F3D45B22E 2014-09-12 11:15:07.263000+00:00                 <NA>                   NaN              <NA>                                   NaN                              NaT                             <NA>                        <NA>           <NA>      <NA>               NaN          NaN               NaN                                   NaN                         NaT            67680                  8 2014-03-05 00:00:00+00:00 2014-03-17 00:00:00+00:00 2014-03-12 00:00:00+00:00          5                True   10-4030-011236                     1               22591               22591                1             2101             329555Vi10936        74.98       6.00        1.87        82.85  3DE02A99-DB17-4C9E-9A9E-0B17E73B9843 2014-03-12 00:00:00+00:00                  97928                     None            1           921                  1          4.99                  0.00  A77DD01D-44EA-4515-9CF4-5187C31C996A 2014-03-05 00:00:00+00:00\n",
      "3               11236        13521        <NA>               1  F80670A5-AD53-4296-9C63-8D2F3D45B22E 2014-09-12 11:15:07.263000+00:00                 <NA>                   NaN              <NA>                                   NaN                              NaT                             <NA>                        <NA>           <NA>      <NA>               NaN          NaN               NaN                                   NaN                         NaT            67680                  8 2014-03-05 00:00:00+00:00 2014-03-17 00:00:00+00:00 2014-03-12 00:00:00+00:00          5                True   10-4030-011236                     1               22591               22591                1             2101             329555Vi10936        74.98       6.00        1.87        82.85  3DE02A99-DB17-4C9E-9A9E-0B17E73B9843 2014-03-12 00:00:00+00:00                  97929                     None            1           711                  1         34.99                  0.00  29F6FD38-E5C2-4593-9AD4-1511D66FB7C6 2014-03-05 00:00:00+00:00\n",
      "4               11236        13521        <NA>               1  F80670A5-AD53-4296-9C63-8D2F3D45B22E 2014-09-12 11:15:07.263000+00:00                 <NA>                   NaN              <NA>                                   NaN                              NaT                             <NA>                        <NA>           <NA>      <NA>               NaN          NaN               NaN                                   NaN                         NaT            67680                  8 2014-03-05 00:00:00+00:00 2014-03-17 00:00:00+00:00 2014-03-12 00:00:00+00:00          5                True   10-4030-011236                     1               22591               22591                1             2101             329555Vi10936        74.98       6.00        1.87        82.85  3DE02A99-DB17-4C9E-9A9E-0B17E73B9843 2014-03-12 00:00:00+00:00                  97927                     None            1           930                  1         35.00                  0.00  57861E22-B088-4E3A-B1A8-959EE4C03C29 2014-03-05 00:00:00+00:00\n",
      "...               ...          ...         ...             ...                                   ...                              ...                  ...                   ...               ...                                   ...                              ...                              ...                         ...            ...       ...               ...          ...               ...                                   ...                         ...              ...                ...                       ...                       ...                       ...        ...                 ...              ...                   ...                 ...                 ...              ...              ...                       ...          ...        ...         ...          ...                                   ...                       ...                    ...                      ...          ...           ...                ...           ...                   ...                                   ...                       ...\n",
      "122013            142         <NA>         984              10  B821D13F-E9DB-4A3B-87D0-7E867A161575 2014-09-12 11:15:07.263000+00:00                  984         RIDING CYCLES               289  A631B7D3-4ADA-4D5C-A985-6DFF7A8066BE 2014-09-12 11:15:07.497000+00:00                              289                          10         250000      5150              0.02   4116871.23        1635823.40  25F6838D-9DB4-4833-9DDC-7A24283AF1BA   2012-05-23 00:00:00+00:00             <NA>               <NA>                       NaT                       NaT                       NaT       <NA>                <NA>              NaN                  <NA>                <NA>                <NA>             <NA>             <NA>                       NaN          NaN        NaN         NaN          NaN                                   NaN                       NaT                   <NA>                      NaN         <NA>          <NA>               <NA>           NaN                   NaN                                   NaN                       NaT\n",
      "122014            286         <NA>         944              10  6266CCC4-1AF0-42E0-BCA4-B33EA6838EEE 2014-09-12 11:15:07.263000+00:00                  944   NUMBER ONE BIKE CO.               289  6F9F5165-4E33-484E-8062-DA66D67674B2 2014-09-12 11:15:07.497000+00:00                              289                          10         250000      5150              0.02   4116871.23        1635823.40  25F6838D-9DB4-4833-9DDC-7A24283AF1BA   2012-05-23 00:00:00+00:00             <NA>               <NA>                       NaT                       NaT                       NaT       <NA>                <NA>              NaN                  <NA>                <NA>                <NA>             <NA>             <NA>                       NaN          NaN        NaN         NaN          NaN                                   NaN                       NaT                   <NA>                      NaN         <NA>          <NA>               <NA>           NaN                   NaN                                   NaN                       NaT\n",
      "122015            268         <NA>         588              10  0C316F6F-5D54-41FD-86A3-6ECAF31A01DD 2014-09-12 11:15:07.263000+00:00                  588        CHANNEL OUTLET               289  70703845-FB8A-40A5-974F-D54B46943647 2014-09-12 11:15:07.497000+00:00                              289                          10         250000      5150              0.02   4116871.23        1635823.40  25F6838D-9DB4-4833-9DDC-7A24283AF1BA   2012-05-23 00:00:00+00:00             <NA>               <NA>                       NaT                       NaT                       NaT       <NA>                <NA>              NaN                  <NA>                <NA>                <NA>             <NA>             <NA>                       NaN          NaN        NaN         NaN          NaN                                   NaN                       NaT                   <NA>                      NaN         <NA>          <NA>               <NA>           NaN                   NaN                                   NaN                       NaT\n",
      "122016            304         <NA>        1484              10  C332C909-EE43-4312-A9D8-B2365A0160EA 2014-09-12 11:15:07.263000+00:00                 1484  ESSENTIAL BIKE WORKS               289  18887CC9-A503-4F5C-B054-FB6CCDF9F56D 2014-09-12 11:15:07.497000+00:00                              289                          10         250000      5150              0.02   4116871.23        1635823.40  25F6838D-9DB4-4833-9DDC-7A24283AF1BA   2012-05-23 00:00:00+00:00             <NA>               <NA>                       NaT                       NaT                       NaT       <NA>                <NA>              NaN                  <NA>                <NA>                <NA>             <NA>             <NA>                       NaN          NaN        NaN         NaN          NaN                                   NaN                       NaT                   <NA>                      NaN         <NA>          <NA>               <NA>           NaN                   NaN                                   NaN                       NaT\n",
      "122017            520         <NA>         596              10  34C094D7-8C79-47A5-B192-9597826BD55D 2014-09-12 11:15:07.263000+00:00                  596      METRO METALS CO.               289  FA71E13B-B051-4F12-A280-F69ECD6AF1DB 2014-09-12 11:15:07.497000+00:00                              289                          10         250000      5150              0.02   4116871.23        1635823.40  25F6838D-9DB4-4833-9DDC-7A24283AF1BA   2012-05-23 00:00:00+00:00             <NA>               <NA>                       NaT                       NaT                       NaT       <NA>                <NA>              NaN                  <NA>                <NA>                <NA>             <NA>             <NA>                       NaN          NaN        NaN         NaN          NaN                                   NaN                       NaT                   <NA>                      NaN         <NA>          <NA>               <NA>           NaN                   NaN                                   NaN                       NaT\n",
      "\n",
      "[122018 rows x 49 columns]\n"
     ]
    }
   ],
   "source": [
    "\n",
    "# Merge 4: Pedido + Detalhes do Pedido\n",
    "df_order_details = pd.merge(\n",
    "    df_customer_store_salesperson_order,\n",
    "    df_processados['stg_sales_salesorderdetail'],\n",
    "    left_on='salesorderid_id',\n",
    "    right_on='salesorderid_id',\n",
    "    how='left',\n",
    "    suffixes=('', '_details')\n",
    ")\n",
    "print(df_order_details)"
   ]
  },
  {
   "cell_type": "code",
   "execution_count": 10,
   "metadata": {},
   "outputs": [
    {
     "name": "stdout",
     "output_type": "stream",
     "text": [
      "Dimensão do dataset final: (122018, 72)\n",
      "   customerid_id  personid_id  storeid_id  territoryid_id                          rowguid_desc                  modifieddate_dt  businessentityid_id store_nm  salespersonid_id rowguid_desc_store modifieddate_dt_store  businessentityid_id_salesperson  territoryid_id_salesperson  salesquota_nr  bonus_vr  commissionpct_vr  salesytd_vr  saleslastyear_vr rowguid_desc_salesperson modifieddate_dt_salesperson  salesorderid_id  revisionnumber_cd              orderdate_dt                duedate_dt               shipdate_dt  status_st  onlineorderflag_fl accountnumber_cd  territoryid_id_order  billtoaddressid_id  shiptoaddressid_id  shipmethodid_id  creditcardid_id creditcardapprovalcode_cd  subtotal_vr  taxamt_vr  freight_vr  totaldue_vr                    rowguid_desc_order     modifieddate_dt_order  salesorderdetailid_id carriertrackingnumber_cd  orderqty_qt  productid_id  specialofferid_id  unitprice_vr  unitpricediscount_vr                  rowguid_desc_details   modifieddate_dt_details               product_nm productnumber_cd  makeflag_fl  finishedgoodsflag_fl color_tp  safetystocklevel_nr  reorderpoint_tp  standardcost_vr  listprice_vr size_tp sizeunitmeasurecode_cd weightunitmeasurecode_cd  weight_tp  daystomanufacture_nr productline_tp class_tp style_tp  productsubcategoryid_id  productmodelid_id          sellstartdate_dt sellenddate_dt                  rowguid_desc_product          modifieddate_dt_product\n",
      "0          11022         6522        <NA>               1  25D8CC95-225B-41B3-A666-457C80245126 2014-09-12 11:15:07.263000+00:00                 <NA>      NaN              <NA>                NaN                   NaT                             <NA>                        <NA>           <NA>      <NA>               NaN          NaN               NaN                      NaN                         NaT            51556                  8 2013-06-22 00:00:00+00:00 2013-07-04 00:00:00+00:00 2013-06-29 00:00:00+00:00          5                True   10-4030-011022                     1               15557               15557                1             2069             837741Vi10792      2322.28     185.78       58.06      2566.12  FE2B26EC-99C3-46C4-8E81-63E47169CBA9 2013-06-29 00:00:00+00:00                  38810                     None            1           779                  1       2319.99                  0.00  074C726E-2DE0-492A-A635-2C26B43B8081 2013-06-22 00:00:00+00:00  MOUNTAIN-200 SILVER, 38       BK-M68S-38         True                  True   SILVER                  100               75          1265.62       2319.99      38                    CM                        LB      23.35                     4              M        H       U                         1                 20 2012-05-30 00:00:00+00:00            NaT  3A45D835-ABAE-4806-AC03-C53ABCD3B974 2014-02-08 10:01:36.827000+00:00\n",
      "1          11022         6522        <NA>               1  25D8CC95-225B-41B3-A666-457C80245126 2014-09-12 11:15:07.263000+00:00                 <NA>      NaN              <NA>                NaN                   NaT                             <NA>                        <NA>           <NA>      <NA>               NaN          NaN               NaN                      NaN                         NaT            51556                  8 2013-06-22 00:00:00+00:00 2013-07-04 00:00:00+00:00 2013-06-29 00:00:00+00:00          5                True   10-4030-011022                     1               15557               15557                1             2069             837741Vi10792      2322.28     185.78       58.06      2566.12  FE2B26EC-99C3-46C4-8E81-63E47169CBA9 2013-06-29 00:00:00+00:00                  38811                     None            1           873                  1          2.29                  0.00  E0DB95AF-C3C7-46B4-A28C-1017B6A14EBD 2013-06-22 00:00:00+00:00      PATCH KIT/8 PATCHES          PK-7098        False                  True     None                    4                3             0.86          2.29    None                   None                     None        NaN                     0              S     None     None                       37                114 2013-05-30 00:00:00+00:00            NaT  36E638E4-68DF-411B-930A-DAAD57221AA6 2014-02-08 10:01:36.827000+00:00\n",
      "2          11236        13521        <NA>               1  F80670A5-AD53-4296-9C63-8D2F3D45B22E 2014-09-12 11:15:07.263000+00:00                 <NA>      NaN              <NA>                NaN                   NaT                             <NA>                        <NA>           <NA>      <NA>               NaN          NaN               NaN                      NaN                         NaT            67680                  8 2014-03-05 00:00:00+00:00 2014-03-17 00:00:00+00:00 2014-03-12 00:00:00+00:00          5                True   10-4030-011236                     1               22591               22591                1             2101             329555Vi10936        74.98       6.00        1.87        82.85  3DE02A99-DB17-4C9E-9A9E-0B17E73B9843 2014-03-12 00:00:00+00:00                  97928                     None            1           921                  1          4.99                  0.00  A77DD01D-44EA-4515-9CF4-5187C31C996A 2014-03-05 00:00:00+00:00       MOUNTAIN TIRE TUBE          TT-M928        False                  True     None                  500              375             1.87          4.99    None                   None                     None        NaN                     0              M     None     None                       37                 92 2013-05-30 00:00:00+00:00            NaT  01A8C3FC-ED52-458E-A634-D5B6E2ACCFED 2014-02-08 10:01:36.827000+00:00\n",
      "3          11236        13521        <NA>               1  F80670A5-AD53-4296-9C63-8D2F3D45B22E 2014-09-12 11:15:07.263000+00:00                 <NA>      NaN              <NA>                NaN                   NaT                             <NA>                        <NA>           <NA>      <NA>               NaN          NaN               NaN                      NaN                         NaT            67680                  8 2014-03-05 00:00:00+00:00 2014-03-17 00:00:00+00:00 2014-03-12 00:00:00+00:00          5                True   10-4030-011236                     1               22591               22591                1             2101             329555Vi10936        74.98       6.00        1.87        82.85  3DE02A99-DB17-4C9E-9A9E-0B17E73B9843 2014-03-12 00:00:00+00:00                  97929                     None            1           711                  1         34.99                  0.00  29F6FD38-E5C2-4593-9AD4-1511D66FB7C6 2014-03-05 00:00:00+00:00   SPORT-100 HELMET, BLUE        HL-U509-B        False                  True     BLUE                    4                3            13.09         34.99    None                   None                     None        NaN                     0              S     None     None                       31                 33 2011-05-31 00:00:00+00:00            NaT  FD7C0858-4179-48C2-865B-ABD5DFC7BC1D 2014-02-08 10:01:36.827000+00:00\n",
      "4          11236        13521        <NA>               1  F80670A5-AD53-4296-9C63-8D2F3D45B22E 2014-09-12 11:15:07.263000+00:00                 <NA>      NaN              <NA>                NaN                   NaT                             <NA>                        <NA>           <NA>      <NA>               NaN          NaN               NaN                      NaN                         NaT            67680                  8 2014-03-05 00:00:00+00:00 2014-03-17 00:00:00+00:00 2014-03-12 00:00:00+00:00          5                True   10-4030-011236                     1               22591               22591                1             2101             329555Vi10936        74.98       6.00        1.87        82.85  3DE02A99-DB17-4C9E-9A9E-0B17E73B9843 2014-03-12 00:00:00+00:00                  97927                     None            1           930                  1         35.00                  0.00  57861E22-B088-4E3A-B1A8-959EE4C03C29 2014-03-05 00:00:00+00:00         HL MOUNTAIN TIRE          TI-M823        False                  True     None                  500              375            13.09         35.00    None                   None                     None        NaN                     0              M        H     None                       37                 87 2013-05-30 00:00:00+00:00            NaT  DDAD25F5-0445-4B5C-8466-6446930AD8B8 2014-02-08 10:01:36.827000+00:00\n"
     ]
    }
   ],
   "source": [
    "\n",
    "# Merge 5: Detalhes + Produto\n",
    "df_final = pd.merge(\n",
    "    df_order_details,\n",
    "    df_processados['stg_production_product'],\n",
    "    left_on='productid_id',\n",
    "    right_on='productid_id',\n",
    "    how='left',\n",
    "    suffixes=('', '_product')\n",
    ")\n",
    "\n",
    "# Verificar o dataset final\n",
    "print(f\"Dimensão do dataset final: {df_final.shape}\")\n",
    "print(df_final.head())\n"
   ]
  },
  {
   "cell_type": "code",
   "execution_count": 13,
   "metadata": {},
   "outputs": [
    {
     "name": "stdout",
     "output_type": "stream",
     "text": [
      "Index(['customerid_id', 'personid_id', 'storeid_id', 'territoryid_id', 'rowguid_desc', 'modifieddate_dt'], dtype='object')\n"
     ]
    }
   ],
   "source": [
    "# Listar as colunas disponíveis no DataFrame\n",
    "print(df.columns)\n"
   ]
  },
  {
   "cell_type": "code",
   "execution_count": 14,
   "metadata": {},
   "outputs": [
    {
     "name": "stdout",
     "output_type": "stream",
     "text": [
      "Dimensão do dataset após seleção de colunas: (122018, 7)\n",
      "   orderqty_qt  productid_id  storeid_id  listprice_vr  salesytd_vr  standardcost_vr  territoryid_id\n",
      "0            1           779        <NA>       2319.99          NaN          1265.62               1\n",
      "1            1           873        <NA>          2.29          NaN             0.86               1\n",
      "2            1           921        <NA>          4.99          NaN             1.87               1\n",
      "3            1           711        <NA>         34.99          NaN            13.09               1\n",
      "4            1           930        <NA>         35.00          NaN            13.09               1\n"
     ]
    }
   ],
   "source": [
    "# Seleção das colunas relevantes\n",
    "selected_columns = [\n",
    "    'orderqty_qt', 'productid_id', 'storeid_id', \n",
    "    'listprice_vr', 'salesytd_vr', 'standardcost_vr', 'territoryid_id'\n",
    "]\n",
    "data_selected = df_final[selected_columns]\n",
    "\n",
    "# Verificar o formato do dataset após seleção\n",
    "print(f\"Dimensão do dataset após seleção de colunas: {data_selected.shape}\")\n",
    "print(data_selected.head())\n"
   ]
  },
  {
   "cell_type": "code",
   "execution_count": 15,
   "metadata": {},
   "outputs": [
    {
     "name": "stdout",
     "output_type": "stream",
     "text": [
      "Valores ausentes por coluna:\n",
      "orderqty_qt          701\n",
      "productid_id         701\n",
      "storeid_id         60398\n",
      "listprice_vr         701\n",
      "salesytd_vr        60398\n",
      "standardcost_vr      701\n",
      "territoryid_id         0\n",
      "dtype: int64\n"
     ]
    }
   ],
   "source": [
    "# Verificar valores ausentes\n",
    "missing_values = data_selected.isnull().sum()\n",
    "print(\"Valores ausentes por coluna:\")\n",
    "print(missing_values)"
   ]
  },
  {
   "cell_type": "code",
   "execution_count": 17,
   "metadata": {},
   "outputs": [
    {
     "name": "stdout",
     "output_type": "stream",
     "text": [
      "        orderqty_qt  productid_id  storeid_id  listprice_vr  salesytd_vr  standardcost_vr  territoryid_id\n",
      "0                 1           779        <NA>       2319.99          NaN          1265.62               1\n",
      "1                 1           873        <NA>          2.29          NaN             0.86               1\n",
      "2                 1           921        <NA>          4.99          NaN             1.87               1\n",
      "3                 1           711        <NA>         34.99          NaN            13.09               1\n",
      "4                 1           930        <NA>         35.00          NaN            13.09               1\n",
      "...             ...           ...         ...           ...          ...              ...             ...\n",
      "122013         <NA>          <NA>         984           NaN   4116871.23              NaN              10\n",
      "122014         <NA>          <NA>         944           NaN   4116871.23              NaN              10\n",
      "122015         <NA>          <NA>         588           NaN   4116871.23              NaN              10\n",
      "122016         <NA>          <NA>        1484           NaN   4116871.23              NaN              10\n",
      "122017         <NA>          <NA>         596           NaN   4116871.23              NaN              10\n",
      "\n",
      "[122018 rows x 7 columns]\n"
     ]
    }
   ],
   "source": [
    "# 1. Seleção das colunas relevantes\n",
    "selected_columns = [\n",
    "    'orderqty_qt', 'productid_id', 'storeid_id', \n",
    "    'listprice_vr', 'salesytd_vr', 'standardcost_vr', 'territoryid_id'\n",
    "]\n",
    "data_selected = df_final[selected_columns]\n",
    "\n",
    "print(data_selected)"
   ]
  },
  {
   "cell_type": "code",
   "execution_count": 19,
   "metadata": {},
   "outputs": [
    {
     "name": "stderr",
     "output_type": "stream",
     "text": [
      "C:\\Users\\wrpen\\AppData\\Local\\Temp\\ipykernel_23544\\2607079413.py:6: SettingWithCopyWarning: \n",
      "A value is trying to be set on a copy of a slice from a DataFrame.\n",
      "Try using .loc[row_indexer,col_indexer] = value instead\n",
      "\n",
      "See the caveats in the documentation: https://pandas.pydata.org/pandas-docs/stable/user_guide/indexing.html#returning-a-view-versus-a-copy\n",
      "  data_selected[col] = data_selected[col].fillna(median_value)\n",
      "C:\\Users\\wrpen\\AppData\\Local\\Temp\\ipykernel_23544\\2607079413.py:6: SettingWithCopyWarning: \n",
      "A value is trying to be set on a copy of a slice from a DataFrame.\n",
      "Try using .loc[row_indexer,col_indexer] = value instead\n",
      "\n",
      "See the caveats in the documentation: https://pandas.pydata.org/pandas-docs/stable/user_guide/indexing.html#returning-a-view-versus-a-copy\n",
      "  data_selected[col] = data_selected[col].fillna(median_value)\n",
      "C:\\Users\\wrpen\\AppData\\Local\\Temp\\ipykernel_23544\\2607079413.py:6: SettingWithCopyWarning: \n",
      "A value is trying to be set on a copy of a slice from a DataFrame.\n",
      "Try using .loc[row_indexer,col_indexer] = value instead\n",
      "\n",
      "See the caveats in the documentation: https://pandas.pydata.org/pandas-docs/stable/user_guide/indexing.html#returning-a-view-versus-a-copy\n",
      "  data_selected[col] = data_selected[col].fillna(median_value)\n",
      "C:\\Users\\wrpen\\AppData\\Local\\Temp\\ipykernel_23544\\2607079413.py:6: SettingWithCopyWarning: \n",
      "A value is trying to be set on a copy of a slice from a DataFrame.\n",
      "Try using .loc[row_indexer,col_indexer] = value instead\n",
      "\n",
      "See the caveats in the documentation: https://pandas.pydata.org/pandas-docs/stable/user_guide/indexing.html#returning-a-view-versus-a-copy\n",
      "  data_selected[col] = data_selected[col].fillna(median_value)\n"
     ]
    }
   ],
   "source": [
    "# 3. Preencher valores ausentes\n",
    "# Preencher valores ausentes numéricos com a mediana\n",
    "columns_to_fill = ['orderqty_qt', 'listprice_vr', 'salesytd_vr', 'standardcost_vr']\n",
    "for col in columns_to_fill:\n",
    "    median_value = data_selected[col].median()\n",
    "    data_selected[col] = data_selected[col].fillna(median_value)"
   ]
  },
  {
   "cell_type": "code",
   "execution_count": 22,
   "metadata": {},
   "outputs": [
    {
     "name": "stderr",
     "output_type": "stream",
     "text": [
      "C:\\Users\\wrpen\\AppData\\Local\\Temp\\ipykernel_23544\\3894906654.py:2: SettingWithCopyWarning: \n",
      "A value is trying to be set on a copy of a slice from a DataFrame.\n",
      "Try using .loc[row_indexer,col_indexer] = value instead\n",
      "\n",
      "See the caveats in the documentation: https://pandas.pydata.org/pandas-docs/stable/user_guide/indexing.html#returning-a-view-versus-a-copy\n",
      "  data_selected['storeid_id'] = data_selected['storeid_id'].fillna(0)\n"
     ]
    }
   ],
   "source": [
    "# Preencher valores ausentes categóricos com 'Desconhecido' ou equivalente\n",
    "data_selected['storeid_id'] = data_selected['storeid_id'].fillna(0)"
   ]
  },
  {
   "cell_type": "code",
   "execution_count": 23,
   "metadata": {},
   "outputs": [
    {
     "name": "stdout",
     "output_type": "stream",
     "text": [
      "Valores ausentes por coluna após a limpeza:\n",
      "orderqty_qt          0\n",
      "productid_id       701\n",
      "storeid_id           0\n",
      "listprice_vr         0\n",
      "salesytd_vr          0\n",
      "standardcost_vr      0\n",
      "territoryid_id       0\n",
      "dtype: int64\n"
     ]
    }
   ],
   "source": [
    "# 4. Verificar valores ausentes após limpeza\n",
    "print(\"Valores ausentes por coluna após a limpeza:\")\n",
    "print(data_selected.isnull().sum())"
   ]
  },
  {
   "cell_type": "code",
   "execution_count": 24,
   "metadata": {},
   "outputs": [
    {
     "name": "stdout",
     "output_type": "stream",
     "text": [
      "Valores únicos em 'productid_id':\n",
      "productid_id\n",
      "870    4688\n",
      "712    3382\n",
      "873    3354\n",
      "921    3095\n",
      "711    3090\n",
      "       ... \n",
      "898       9\n",
      "943       6\n",
      "911       6\n",
      "942       5\n",
      "897       2\n",
      "Name: count, Length: 266, dtype: Int64\n",
      "\n",
      "Percentual de valores ausentes: 0.57%\n",
      "\n",
      "Resumo estatístico dos dados quando 'productid_id' está ausente:\n",
      "       orderqty_qt  productid_id  storeid_id  listprice_vr  salesytd_vr  standardcost_vr  territoryid_id\n",
      "count       701.00          0.00      701.00        701.00       701.00           701.00          701.00\n",
      "mean          1.00          <NA>     1035.88         63.50   2651861.45            38.49            4.83\n",
      "std           0.00          <NA>      477.74          0.00    908084.70             0.00            2.57\n",
      "min           1.00          <NA>      292.00         63.50   1352577.13            38.49            1.00\n",
      "25%           1.00          <NA>      642.00         63.50   1827066.71            38.49            3.00\n",
      "50%           1.00          <NA>      992.00         63.50   2458535.62            38.49            5.00\n",
      "75%           1.00          <NA>     1342.00         63.50   3189418.37            38.49            6.00\n",
      "max           1.00          <NA>     2051.00         63.50   4251368.55            38.49           10.00\n",
      "\n",
      "Resumo estatístico dos dados quando 'productid_id' não está ausente:\n",
      "       orderqty_qt  productid_id  storeid_id  listprice_vr  salesytd_vr  standardcost_vr  territoryid_id\n",
      "count    121317.00     121317.00   121317.00     121317.00    121317.00        121317.00       121317.00\n",
      "mean          2.27        841.68      526.03        633.67   2670007.04           373.69            5.41\n",
      "std           2.49         86.45      627.14        931.17    616325.04           554.11            2.84\n",
      "min           1.00        707.00        0.00          2.29   1352577.13             0.86            1.00\n",
      "25%           1.00        768.00        0.00         24.49   2604540.72             9.16            4.00\n",
      "50%           1.00        863.00      294.00         63.50   2604540.72            38.49            6.00\n",
      "75%           3.00        921.00      982.00        782.99   2604540.72           486.71            8.00\n",
      "max          44.00        999.00     1994.00       3578.27   4251368.55          2171.29           10.00\n"
     ]
    }
   ],
   "source": [
    "# 1. Contar os valores únicos na coluna\n",
    "unique_values = data_selected['productid_id'].value_counts()\n",
    "print(\"Valores únicos em 'productid_id':\")\n",
    "print(unique_values)\n",
    "\n",
    "# 2. Proporção de valores ausentes\n",
    "total_rows = data_selected.shape[0]\n",
    "missing_productid = data_selected['productid_id'].isnull().sum()\n",
    "missing_percentage = (missing_productid / total_rows) * 100\n",
    "print(f\"\\nPercentual de valores ausentes: {missing_percentage:.2f}%\")\n",
    "\n",
    "# 3. Relação com outras colunas\n",
    "print(\"\\nResumo estatístico dos dados quando 'productid_id' está ausente:\")\n",
    "print(data_selected[data_selected['productid_id'].isnull()].describe())\n",
    "\n",
    "print(\"\\nResumo estatístico dos dados quando 'productid_id' não está ausente:\")\n",
    "print(data_selected[data_selected['productid_id'].notnull()].describe())\n"
   ]
  },
  {
   "cell_type": "code",
   "execution_count": null,
   "metadata": {},
   "outputs": [],
   "source": [
    "# Análise dos Resultados\n",
    "# Valores únicos em productid_id:\n",
    "\n",
    "# Existem 266 produtos únicos, com alguns produtos dominando a distribuição (e.g., 870 com 4688 ocorrências).\n",
    "# Isso indica que os dados têm boa diversidade, mas alguns produtos aparecem significativamente mais vezes.\n",
    "# Percentual de valores ausentes:\n",
    "\n",
    "# Apenas 0,57% dos valores estão ausentes na coluna, o que é insignificante em relação ao tamanho total do dataset (122.018 linhas).\n",
    "# Esse baixo percentual sugere que podemos optar por ignorar essas linhas sem perder muita informação.\n",
    "# Resumo dos dados quando productid_id está ausente:\n",
    "\n",
    "# Todas as linhas com productid_id ausente têm valores fixos em listprice_vr (63.50) e standardcost_vr (38.49), indicando que essas linhas podem ser menos informativas.\n",
    "# Essas linhas estão concentradas em poucas lojas (storeid_id varia entre 292 e 2051) e territórios (territoryid_id varia de 1 a 10).\n",
    "# orderqty_qt é constante com valor 1, o que pode limitar a utilidade dessas linhas para análise de demanda.\n",
    "# Resumo dos dados quando productid_id não está ausente:\n",
    "\n",
    "# Dados mais ricos e variados, com maior dispersão em métricas como orderqty_qt, listprice_vr, e standardcost_vr.\n",
    "# Estes dados possuem mais valor analítico, especialmente para um modelo de previsão.\n",
    "# Decisão\n",
    "# Dado o baixo percentual de valores ausentes e a limitada utilidade das linhas onde productid_id está ausente, a recomendação é remover essas linhas para simplificar o modelo e focar em dados mais completos e ricos.\n",
    "\n"
   ]
  },
  {
   "cell_type": "code",
   "execution_count": 25,
   "metadata": {},
   "outputs": [
    {
     "name": "stdout",
     "output_type": "stream",
     "text": [
      "Dimensão do dataset após remoção de valores ausentes em 'productid_id': (121317, 7)\n",
      "Valores ausentes por coluna após a limpeza:\n",
      "orderqty_qt        0\n",
      "productid_id       0\n",
      "storeid_id         0\n",
      "listprice_vr       0\n",
      "salesytd_vr        0\n",
      "standardcost_vr    0\n",
      "territoryid_id     0\n",
      "dtype: int64\n"
     ]
    }
   ],
   "source": [
    "# Remover linhas onde 'productid_id' está ausente\n",
    "data_cleaned = data_selected.dropna(subset=['productid_id'])\n",
    "\n",
    "# Verificar o formato do dataset após a limpeza\n",
    "print(f\"Dimensão do dataset após remoção de valores ausentes em 'productid_id': {data_cleaned.shape}\")\n",
    "print(\"Valores ausentes por coluna após a limpeza:\")\n",
    "print(data_cleaned.isnull().sum())\n"
   ]
  },
  {
   "cell_type": "code",
   "execution_count": null,
   "metadata": {},
   "outputs": [],
   "source": [
    "# Perfeito! 🎉\n",
    "\n",
    "# Agora o dataset está limpo, sem valores ausentes nas colunas selecionadas. Podemos avançar para a próxima etapa: análise exploratória ou modelagem preditiva.\n",
    "\n",
    "# Por onde seguimos?\n",
    "\n",
    "# 1 Análise Exploratória: Entender as relações entre as variáveis. (vamos fazer o modelo, caso precise a gente volta)\n",
    "# 2 Preparação para Modelagem: Criar variáveis novas (se necessário), dividir em treino/teste, etc.\n",
    "# Sua escolha é o nosso próximo passo! "
   ]
  },
  {
   "cell_type": "code",
   "execution_count": null,
   "metadata": {},
   "outputs": [],
   "source": [
    "# Ótimo! Vamos avançar com a modelagem preditiva. 🎯\n",
    "\n",
    "# Aqui estão os próximos passos para criar um modelo simples, mas funcional:\n",
    "\n",
    "# 1. Dividir o dataset\n",
    "# Separar os dados em treino e teste para garantir que o modelo seja avaliado de forma justa.\n",
    "\n",
    "# 2. Escolher o modelo\n",
    "# Utilizar um modelo de regressão simples, como Regressão Linear, para prever a quantidade de pedidos (orderqty_qt).\n",
    "\n",
    "# 3. Treinar o modelo\n",
    "# Treinar o modelo com os dados de treino e verificar como ele se ajusta.\n",
    "\n",
    "# 4. Avaliar o modelo\n",
    "# Calcular métricas como RMSE (Root Mean Square Error) e R² para medir o desempenho."
   ]
  },
  {
   "cell_type": "code",
   "execution_count": 26,
   "metadata": {},
   "outputs": [
    {
     "name": "stdout",
     "output_type": "stream",
     "text": [
      "Dimensão do regression_dataset: (121317, 7)\n",
      "Valores ausentes por coluna no regression_dataset:\n",
      "orderqty_qt        0\n",
      "productid_id       0\n",
      "storeid_id         0\n",
      "listprice_vr       0\n",
      "salesytd_vr        0\n",
      "standardcost_vr    0\n",
      "territoryid_id     0\n",
      "dtype: int64\n"
     ]
    }
   ],
   "source": [
    "# Renomear o dataset para algo mais intuitivo\n",
    "regression_dataset = data_cleaned\n",
    "\n",
    "# Verificar o formato do dataset renomeado\n",
    "print(f\"Dimensão do regression_dataset: {regression_dataset.shape}\")\n",
    "print(\"Valores ausentes por coluna no regression_dataset:\")\n",
    "print(regression_dataset.isnull().sum())\n"
   ]
  },
  {
   "cell_type": "code",
   "execution_count": null,
   "metadata": {},
   "outputs": [],
   "source": [
    "# Ótimo! Vamos seguir com o próximo passo: Exploração do regression_dataset para validar a distribuição e as relações entre as variáveis antes de iniciar os modelos.\n",
    "\n",
    "# Aqui está o plano:\n",
    "\n",
    "# 1. Entender a distribuição das variáveis\n",
    "# Analisar a variável dependente (orderqty_qt) e algumas variáveis independentes mais relevantes.\n",
    "# Utilizar histogramas e boxplots para verificar distribuição, possíveis outliers, etc.\n",
    "# 2. Checar correlações\n",
    "# Avaliar como as variáveis estão relacionadas à variável dependente."
   ]
  },
  {
   "cell_type": "code",
   "execution_count": 27,
   "metadata": {},
   "outputs": [
    {
     "data": {
      "image/png": "[encoded data removed]",
      "text/plain": [
       "<Figure size 800x500 with 1 Axes>"
      ]
     },
     "metadata": {},
     "output_type": "display_data"
    }
   ],
   "source": [
    "# Distribuição da variável dependente (orderqty_qt)\n",
    "import matplotlib.pyplot as plt\n",
    "import seaborn as sns\n",
    "\n",
    "plt.figure(figsize=(8, 5))\n",
    "sns.histplot(regression_dataset['orderqty_qt'], bins=30, kde=True)\n",
    "plt.title('Distribuição da variável dependente (orderqty_qt)')\n",
    "plt.xlabel('Quantidade de pedidos (orderqty_qt)')\n",
    "plt.ylabel('Frequência')\n",
    "plt.show()\n"
   ]
  },
  {
   "cell_type": "code",
   "execution_count": null,
   "metadata": {},
   "outputs": [],
   "source": [
    "#  distribuição da variável dependente orderqty_qt é bem assimétrica, com uma grande concentração em valores baixos (próximos de 1). Isso é esperado em muitos casos, pois geralmente há muitos pedidos de pequenas quantidades e poucos de grandes."
   ]
  },
  {
   "cell_type": "code",
   "execution_count": null,
   "metadata": {},
   "outputs": [],
   "source": [
    "# Próximo passo: Transformação e análise de outliers\n",
    "# Vamos verificar se há outliers nessa variável para decidir se algum tipo de transformação ou ajuste é necessário.\n"
   ]
  },
  {
   "cell_type": "code",
   "execution_count": 28,
   "metadata": {},
   "outputs": [
    {
     "data": {
      "image/png": "[encoded data removed]",
      "text/plain": [
       "<Figure size 800x500 with 1 Axes>"
      ]
     },
     "metadata": {},
     "output_type": "display_data"
    }
   ],
   "source": [
    "# Boxplot para identificar outliers em 'orderqty_qt'\n",
    "plt.figure(figsize=(8, 5))\n",
    "sns.boxplot(x=regression_dataset['orderqty_qt'])\n",
    "plt.title('Boxplot da variável dependente (orderqty_qt)')\n",
    "plt.xlabel('Quantidade de pedidos (orderqty_qt)')\n",
    "plt.show()\n"
   ]
  },
  {
   "cell_type": "code",
   "execution_count": null,
   "metadata": {},
   "outputs": [],
   "source": [
    "# O gráfico boxplot mostra que a variável 'orderqty_qt' possui vários valores considerados como outliers.\n",
    "# Esses valores estão muito acima da maioria dos dados, indicando pedidos com quantidades significativamente maiores.\n",
    "# Isso é comum em datasets de vendas, onde existem pedidos excepcionais de grandes quantidades.\n",
    "# Porém, esses outliers podem impactar negativamente na performance do modelo de regressão.\n",
    "# Vamos decidir como lidar com esses valores antes de seguir para o treinamento do modelo.\n"
   ]
  },
  {
   "cell_type": "code",
   "execution_count": 29,
   "metadata": {},
   "outputs": [
    {
     "name": "stdout",
     "output_type": "stream",
     "text": [
      "Dimensão do dataset após remoção de outliers: (114390, 7)\n"
     ]
    }
   ],
   "source": [
    "# Para tratar os outliers, vamos calcular os limites usando o IQR (Intervalo Interquartil).\n",
    "# O IQR é a diferença entre o terceiro quartil (Q3) e o primeiro quartil (Q1).\n",
    "# Valores fora do intervalo [Q1 - 1.5 * IQR, Q3 + 1.5 * IQR] serão considerados outliers e removidos.\n",
    "\n",
    "# 1. Calcular os quartis e o IQR\n",
    "Q1 = regression_dataset['orderqty_qt'].quantile(0.25)\n",
    "Q3 = regression_dataset['orderqty_qt'].quantile(0.75)\n",
    "IQR = Q3 - Q1\n",
    "\n",
    "# 2. Definir os limites inferior e superior\n",
    "lower_limit = Q1 - 1.5 * IQR\n",
    "upper_limit = Q3 + 1.5 * IQR\n",
    "\n",
    "# 3. Filtrar os dados dentro dos limites\n",
    "regression_dataset_no_outliers = regression_dataset[\n",
    "    (regression_dataset['orderqty_qt'] >= lower_limit) & \n",
    "    (regression_dataset['orderqty_qt'] <= upper_limit)\n",
    "]\n",
    "\n",
    "# Verificar o novo tamanho do dataset\n",
    "print(f\"Dimensão do dataset após remoção de outliers: {regression_dataset_no_outliers.shape}\")\n"
   ]
  },
  {
   "cell_type": "code",
   "execution_count": null,
   "metadata": {},
   "outputs": [],
   "source": [
    "# Ótimo! Isso indica que removemos os outliers com sucesso, reduzindo o dataset de 121,317 para 114,390 registros. Agora temos dados mais limpos e representativos para os próximos passos no modelo de regressão.\n",
    "\n",
    "# Se estiver tudo certo, podemos seguir para:\n",
    "\n",
    "# Preparação dos dados (divisão em treino e teste).\n",
    "# Criação do modelo de regressão linear.\n",
    "# Me avise como deseja continuar! "
   ]
  },
  {
   "cell_type": "code",
   "execution_count": 30,
   "metadata": {},
   "outputs": [
    {
     "name": "stdout",
     "output_type": "stream",
     "text": [
      "Tamanho do conjunto de treino: (97053, 6), (97053,)\n",
      "Tamanho do conjunto de teste: (24264, 6), (24264,)\n"
     ]
    }
   ],
   "source": [
    "# Passo 1: Dividir o dataset em treino e teste\n",
    "\n",
    "from sklearn.model_selection import train_test_split\n",
    "\n",
    "# Separar as variáveis independentes (features) e dependentes (target)\n",
    "X = regression_dataset[['productid_id', 'storeid_id', 'listprice_vr', 'salesytd_vr', 'standardcost_vr', 'territoryid_id']]\n",
    "y = regression_dataset['orderqty_qt']\n",
    "\n",
    "# Dividir em treino (80%) e teste (20%)\n",
    "X_train, X_test, y_train, y_test = train_test_split(X, y, test_size=0.2, random_state=42)\n",
    "\n",
    "# Verificar o tamanho dos datasets\n",
    "print(f\"Tamanho do conjunto de treino: {X_train.shape}, {y_train.shape}\")\n",
    "print(f\"Tamanho do conjunto de teste: {X_test.shape}, {y_test.shape}\")\n"
   ]
  },
  {
   "cell_type": "code",
   "execution_count": 31,
   "metadata": {},
   "outputs": [
    {
     "name": "stdout",
     "output_type": "stream",
     "text": [
      "Coeficientes do modelo:\n",
      "productid_id: -0.0016\n",
      "storeid_id: 0.0016\n",
      "listprice_vr: -0.0000\n",
      "salesytd_vr: 0.0000\n",
      "standardcost_vr: -0.0003\n",
      "territoryid_id: -0.0346\n",
      "Intercepto: 2.7288\n"
     ]
    }
   ],
   "source": [
    "from sklearn.linear_model import LinearRegression\n",
    "\n",
    "# Criar e treinar o modelo de regressão linear\n",
    "model = LinearRegression()\n",
    "model.fit(X_train, y_train)\n",
    "\n",
    "# Exibir os coeficientes do modelo treinado\n",
    "print(\"Coeficientes do modelo:\")\n",
    "for feature, coef in zip(X_train.columns, model.coef_):\n",
    "    print(f\"{feature}: {coef:.4f}\")\n",
    "\n",
    "print(f\"Intercepto: {model.intercept_:.4f}\")\n"
   ]
  },
  {
   "cell_type": "code",
   "execution_count": null,
   "metadata": {},
   "outputs": [],
   "source": [
    "# Os coeficientes e o intercepto do modelo fornecem informações valiosas sobre como as variáveis independentes estão relacionadas com a variável dependente (orderqty_qt):\n",
    "\n",
    "# productid_id: Um coeficiente negativo pequeno (-0.0016) indica que, mantendo todas as outras variáveis constantes, um aumento no productid_id está associado a uma ligeira diminuição na quantidade de pedidos.\n",
    "\n",
    "# storeid_id: Um coeficiente positivo pequeno (0.0016) sugere que, quanto maior o storeid_id, maior é a quantidade de pedidos, mas o impacto é muito pequeno.\n",
    "\n",
    "# listprice_vr e salesytd_vr: Os coeficientes são praticamente 0, indicando que essas variáveis não têm uma influência significativa na quantidade de pedidos neste modelo.\n",
    "\n",
    "# standardcost_vr: Um coeficiente ligeiramente negativo (-0.0003) sugere que, conforme o custo padrão aumenta, a quantidade de pedidos tende a diminuir, mas o impacto é pequeno.\n",
    "\n",
    "# territoryid_id: O coeficiente negativo (-0.0346) indica que quanto maior o ID do território, menor é a quantidade de pedidos, com um impacto um pouco mais expressivo em comparação com as outras variáveis.\n",
    "\n",
    "# Intercepto (2.7288): Representa o valor médio da quantidade de pedidos (orderqty_qt) quando todas as variáveis independentes são iguais a zero."
   ]
  },
  {
   "cell_type": "code",
   "execution_count": 32,
   "metadata": {},
   "outputs": [
    {
     "name": "stdout",
     "output_type": "stream",
     "text": [
      "Mean Squared Error (MSE): 4.7644\n",
      "R-Squared (R²): 0.1842\n"
     ]
    }
   ],
   "source": [
    "# Vamos avaliar o modelo no conjunto de teste para entender seu desempenho?\n",
    "\n",
    "from sklearn.metrics import mean_squared_error, r2_score\n",
    "\n",
    "# Fazer previsões no conjunto de teste\n",
    "y_pred = model.predict(X_test)\n",
    "\n",
    "# Calcular métricas de desempenho\n",
    "mse = mean_squared_error(y_test, y_pred)\n",
    "r2 = r2_score(y_test, y_pred)\n",
    "\n",
    "print(f\"Mean Squared Error (MSE): {mse:.4f}\")\n",
    "print(f\"R-Squared (R²): {r2:.4f}\")\n"
   ]
  },
  {
   "cell_type": "code",
   "execution_count": null,
   "metadata": {},
   "outputs": [],
   "source": [
    "# Os resultados do modelo são:\n",
    "\n",
    "# Mean Squared Error (MSE): 4.7644\n",
    "\n",
    "# Representa o erro médio quadrático entre os valores reais e previstos. Quanto menor o valor, melhor o desempenho do modelo. Porém, como é difícil interpretar diretamente, vamos focar no R².\n",
    "# R-Squared (R²): 0.1842\n",
    "\n",
    "# Indica que o modelo explica apenas 18,42% da variação na variável dependente (orderqty_qt). Isso significa que o modelo tem um desempenho baixo, provavelmente porque há outras variáveis importantes que não foram incluídas ou porque as variáveis atuais têm pouca relação com o número de pedidos.\n",
    "\n",
    "\n",
    "# O que podemos concluir:\n",
    "# O modelo tem um desempenho limitado para prever orderqty_qt.\n",
    "# Isso pode ser devido a:\n",
    "# Relações fracas entre as variáveis independentes e a variável dependente.\n",
    "# Ausência de variáveis relevantes no modelo.\n",
    "# O modelo linear pode não capturar bem a relação entre as variáveis."
   ]
  },
  {
   "cell_type": "code",
   "execution_count": null,
   "metadata": {},
   "outputs": [],
   "source": [
    "# fizemos isso?\n",
    "\n",
    "# Seria possível resolver este problema através de uma abordagem utilizando modelos de regressão? Se sim, qual demonstra melhor resultado? Justifique utilizando métricas de avaliação.\n",
    "\n",
    "# qualquer coisa a gente justifica que não, não sei o que você acha?\n",
    "# O ChatGPT disse:\n",
    "# ChatGPT\n",
    "# Sim, nós utilizamos um modelo de regressão linear para abordar o problema e avaliamos seu desempenho utilizando as métricas MSE (erro médio quadrático) e R² (coeficiente de determinação).\n",
    "\n",
    "# Justificativa com base nos resultados:\n",
    "# Sim, é possível usar regressão linear:\n",
    "\n",
    "# A regressão linear é um método básico e direto para resolver problemas de previsão como este.\n",
    "# Implementamos a regressão linear e verificamos que o modelo tem um desempenho limitado (R² = 0.1842), indicando que ele explica apenas 18,42% da variação na quantidade de pedidos.\n",
    "# Mas o desempenho não foi satisfatório:\n",
    "\n",
    "# Apesar de ser possível, os resultados indicam que a regressão linear não é suficiente para capturar as relações entre as variáveis no dataset.\n",
    "# Isso se justifica porque:\n",
    "# As variáveis escolhidas podem não explicar bem a quantidade de pedidos.\n",
    "# Relações mais complexas podem exigir modelos não lineares.\n",
    "# Conclusão:\n",
    "# Resposta curta: Sim, é possível usar regressão linear, mas o desempenho é limitado.\n",
    "# Modelo com melhor resultado: Como usamos apenas regressão linear, ela foi o modelo avaliado. Porém, um modelo mais avançado (ex.: Random Forest ou XGBoost) poderia apresentar melhores resultados.\n",
    "# Decisão: Podemos justificar que não é o modelo ideal para este problema devido ao baixo valor de R² e recomendar testes com outras abordagens."
   ]
  },
  {
   "cell_type": "markdown",
   "metadata": {},
   "source": [
    "# RESPOSTA PARA A QUESTÃO 9"
   ]
  },
  {
   "cell_type": "code",
   "execution_count": null,
   "metadata": {},
   "outputs": [],
   "source": [
    "# Resposta:\n",
    "# Sim, é possível abordar este problema utilizando modelos de regressão. Implementamos um modelo de regressão linear para prever a quantidade de pedidos (orderqty_qt) com base em variáveis como listprice_vr, standardcost_vr, salesytd_vr, entre outras. No entanto, o desempenho obtido foi limitado, com um R² de 0.1842, indicando que o modelo explica apenas 18,42% da variação nos dados.\n",
    "\n",
    "# Apesar da simplicidade e eficiência computacional da regressão linear, os resultados sugerem que ela não é a melhor abordagem para este problema, provavelmente devido à natureza das relações entre as variáveis independentes e a variável dependente, que podem ser mais complexas ou não lineares.\n",
    "\n",
    "# Para melhorar a precisão do modelo, recomendamos testar abordagens mais robustas, como árvores de decisão, Random Forest ou XGBoost, que são mais adequadas para capturar relações não lineares nos dados.\n",
    "\n",
    "# Em resumo, enquanto a regressão linear fornece um ponto de partida básico, ela não apresentou desempenho satisfatório para atender à necessidade do problema, e outros modelos devem ser considerados para obter melhores resultados."
   ]
  }
 ],
 "metadata": {
  "kernelspec": {
   "display_name": "venv",
   "language": "python",
   "name": "python3"
  },
  "language_info": {
   "codemirror_mode": {
    "name": "ipython",
    "version": 3
   },
   "file_extension": ".py",
   "mimetype": "text/x-python",
   "name": "python",
   "nbconvert_exporter": "python",
   "pygments_lexer": "ipython3",
   "version": "3.10.9"
  }
 },
 "nbformat": 4,
 "nbformat_minor": 2
}
