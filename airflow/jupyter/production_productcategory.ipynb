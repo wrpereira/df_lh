{
 "cells": [
  {
   "cell_type": "markdown",
   "metadata": {},
   "source": [
    "### SETUP INICIAL DO PROJETO"
   ]
  },
  {
   "cell_type": "code",
   "execution_count": 1,
   "metadata": {},
   "outputs": [],
   "source": [
    "\n",
    "#importação das bibliotecase e pacotes necessários para a análise\n",
    "\n",
    "import json\n",
    "import matplotlib.pyplot as plt\n",
    "import numpy as np\n",
    "import os\n",
    "import pandas as pd\n",
    "import pandas_gbq as gbq\n",
    "import re\n",
    "import seaborn as sns\n",
    "from dotenv import load_dotenv\n",
    "from google.cloud import bigquery\n",
    "from google.cloud.bigquery_storage import BigQueryReadClient\n",
    "from google.oauth2 import service_account\n",
    "\n",
    "\n",
    "# carregar o .env com as credenciais\n",
    "load_dotenv(\"/mnt/c/Users/wrpen/OneDrive/Desktop/df_lh/.env\")\n",
    "\n",
    "\n",
    "# detectar ambiente: como eu estou usando wsl-ubuntu, no VS Code  -  Windows, estava dando conflitos de path\n",
    "if os.name == \"nt\":  # se Windows\n",
    "    credentials_path = r\"C:\\Temp\\desafiolh-445818-3cb0f62cb9ef.json\"\n",
    "else:  # se WSL/Linux\n",
    "    credentials_path = \"/mnt/c/Temp/desafiolh-445818-3cb0f62cb9ef.json\"\n",
    "\n",
    "\n",
    "# parâmetros injetados pelo Papermill ou definidos manualmente, caso não existam no ambiente\n",
    "if 'tables_to_process' not in locals():\n",
    "    tables_to_process = [\n",
    "        \"desafioadventureworks-446600.raw_data.production-productcategory\"       \n",
    "    ]\n",
    "\n",
    "if 'output_dataset' not in locals():\n",
    "    output_dataset = \"desafioadventureworks-446600.raw_data_cleaned\"\n",
    "\n",
    "\n",
    "# configs do cliente BigQuery: input de project e location de acordo com dados no Bigquery\n",
    "credentials = service_account.Credentials.from_service_account_file(credentials_path)\n",
    "client = bigquery.Client(credentials=credentials, project=os.getenv(\"BIGQUERY_PROJECT\"), location=\"us-central1\")\n",
    "\n",
    "\n",
    "#doc: tables_to_process: lista de tabelas que serão processadas\n",
    "#     output_dataset: nome do dataset onde os dados processados serão armazenados, neste caso, raw_data_cleaned"
   ]
  },
  {
   "cell_type": "code",
   "execution_count": 2,
   "metadata": {},
   "outputs": [
    {
     "name": "stdout",
     "output_type": "stream",
     "text": [
      "Tabelas a processar: ['desafioadventureworks-446600.raw_data.production-productcategory']\n"
     ]
    }
   ],
   "source": [
    "# Print com a tabela que vai ser processada nesse notebook\n",
    "\n",
    "print(\"Tabelas a processar:\", tables_to_process)"
   ]
  },
  {
   "cell_type": "code",
   "execution_count": 3,
   "metadata": {},
   "outputs": [
    {
     "name": "stdout",
     "output_type": "stream",
     "text": [
      "raw_data\n",
      "Tabelas disponíveis:\n",
      "humanresources-employee\n",
      "person-address\n",
      "person-businessentity\n",
      "person-person\n",
      "person-stateprovince\n",
      "production-location\n",
      "production-product\n",
      "production-productcategory\n",
      "production-productcosthistory\n",
      "production-productinventory\n",
      "production-productsubcategory\n",
      "purchasing-purchaseorderdetail\n",
      "purchasing-purchaseorderheader\n",
      "purchasing-vendor\n",
      "sales-creditcard\n",
      "sales-customer\n",
      "sales-salesorderdetail\n",
      "sales-salesorderheader\n",
      "sales-salesperson\n",
      "sales-salesterritory\n",
      "sales-store\n"
     ]
    }
   ],
   "source": [
    "# Nome do dataset no Bigquery com os dados brutos (.csv) extraídos pelo Meltano \n",
    "dataset_id = 'raw_data'\n",
    "print(dataset_id)\n",
    "\n",
    "# Lista de tabelas do dataset raw_data no Bigquery\n",
    "tables = client.list_tables('raw_data')\n",
    "print(\"Tabelas disponíveis:\")\n",
    "for table in tables:\n",
    "    print(table.table_id)"
   ]
  },
  {
   "cell_type": "markdown",
   "metadata": {},
   "source": [
    "# Exploratory Data Analysis (EDA) e Data Cleaning"
   ]
  },
  {
   "cell_type": "markdown",
   "metadata": {},
   "source": [
    "### Glossário dos dados:\n",
    "\n",
    "O termo ''doc:'', situado no rodapé de algumas cells, indica algo como:\n",
    "\n",
    "- documentação: documentar decisões, análises e resultados;\n",
    "\n",
    "- abreviações de termos, como bkp, df, entre outros."
   ]
  },
  {
   "cell_type": "code",
   "execution_count": 4,
   "metadata": {},
   "outputs": [],
   "source": [
    "# Setup inicial do df para realizar a EDA \n",
    "\n",
    "pd.set_option('display.max_columns', None)\n",
    "#pd.set_option('display.max_rows', None)\n",
    "pd.set_option('display.max_colwidth', None)\n",
    "pd.set_option('display.width', 10000)\n",
    "pd.options.display.float_format = '{:.2f}'.format\n",
    "\n",
    "\n",
    "#doc: df = dataframe  "
   ]
  },
  {
   "cell_type": "code",
   "execution_count": 5,
   "metadata": {},
   "outputs": [
    {
     "name": "stdout",
     "output_type": "stream",
     "text": [
      "Processando tabela: desafioadventureworks-446600.raw_data.production-productcategory\n",
      "Lendo os dados do BigQuery...\n",
      "Tabela production_productcategory processada e armazenada com sucesso.\n",
      "Todas as tabelas foram processadas com sucesso!\n"
     ]
    }
   ],
   "source": [
    "# Dicionário para armazenar os df processados\n",
    "df_processados = {}\n",
    "\n",
    "# Iteração das tabelas e armazenamento em df\n",
    "for input_table in tables_to_process:\n",
    "    print(f\"Processando tabela: {input_table}\")\n",
    "    \n",
    "    table_name = input_table.split(\".\")[-1].replace(\"-\", \"_\")  \n",
    "    \n",
    "    print(\"Lendo os dados do BigQuery...\")\n",
    "    query = f\"SELECT * FROM `{input_table}`\"\n",
    "    table_data = client.query(query).to_dataframe()\n",
    "    \n",
    "    df_processados[table_name] = table_data\n",
    "    print(f\"Tabela {table_name} processada e armazenada com sucesso.\")\n",
    "\n",
    "\n",
    "print(\"Todas as tabelas foram processadas com sucesso!\")"
   ]
  },
  {
   "cell_type": "code",
   "execution_count": 6,
   "metadata": {},
   "outputs": [
    {
     "name": "stdout",
     "output_type": "stream",
     "text": [
      "Variável criada: production_productcategory\n"
     ]
    }
   ],
   "source": [
    "# Listar todas as variáveis criadas dinamicamente\n",
    "for table_name in df_processados.keys():\n",
    "    print(f\"Variável criada: {table_name}\")  "
   ]
  },
  {
   "cell_type": "code",
   "execution_count": 7,
   "metadata": {},
   "outputs": [
    {
     "name": "stdout",
     "output_type": "stream",
     "text": [
      "Colunas: 4\n",
      "Linhas: 52\n"
     ]
    }
   ],
   "source": [
    "# Atribuir o df a uma variável com nome mais simples\n",
    "production_productcategory = df_processados['production_productcategory']\n",
    "\n",
    "print(f\"Colunas: {production_productcategory.shape[1]}\\nLinhas: {production_productcategory.shape[0]}\")"
   ]
  },
  {
   "cell_type": "code",
   "execution_count": 8,
   "metadata": {},
   "outputs": [
    {
     "name": "stdout",
     "output_type": "stream",
     "text": [
      "duplicadas ordenadas:\n",
      "    productcategoryid         name                               rowguid              modifieddate\n",
      "0                   1        Bikes  cfbda25c-df71-47a7-b81b-64ee161aa37c 2008-04-30 00:00:00+00:00\n",
      "1                   1        Bikes  cfbda25c-df71-47a7-b81b-64ee161aa37c 2008-04-30 00:00:00+00:00\n",
      "2                   1        Bikes  cfbda25c-df71-47a7-b81b-64ee161aa37c 2008-04-30 00:00:00+00:00\n",
      "3                   1        Bikes  cfbda25c-df71-47a7-b81b-64ee161aa37c 2008-04-30 00:00:00+00:00\n",
      "4                   1        Bikes  cfbda25c-df71-47a7-b81b-64ee161aa37c 2008-04-30 00:00:00+00:00\n",
      "5                   1        Bikes  cfbda25c-df71-47a7-b81b-64ee161aa37c 2008-04-30 00:00:00+00:00\n",
      "6                   1        Bikes  cfbda25c-df71-47a7-b81b-64ee161aa37c 2008-04-30 00:00:00+00:00\n",
      "7                   1        Bikes  cfbda25c-df71-47a7-b81b-64ee161aa37c 2008-04-30 00:00:00+00:00\n",
      "8                   1        Bikes  cfbda25c-df71-47a7-b81b-64ee161aa37c 2008-04-30 00:00:00+00:00\n",
      "9                   1        Bikes  cfbda25c-df71-47a7-b81b-64ee161aa37c 2008-04-30 00:00:00+00:00\n",
      "10                  1        Bikes  cfbda25c-df71-47a7-b81b-64ee161aa37c 2008-04-30 00:00:00+00:00\n",
      "11                  1        Bikes  cfbda25c-df71-47a7-b81b-64ee161aa37c 2008-04-30 00:00:00+00:00\n",
      "48                  1        Bikes  cfbda25c-df71-47a7-b81b-64ee161aa37c 2008-04-30 00:00:00+00:00\n",
      "24                  2   Components  c657828d-d808-4aba-91a3-af2ce02300e9 2008-04-30 00:00:00+00:00\n",
      "25                  2   Components  c657828d-d808-4aba-91a3-af2ce02300e9 2008-04-30 00:00:00+00:00\n",
      "26                  2   Components  c657828d-d808-4aba-91a3-af2ce02300e9 2008-04-30 00:00:00+00:00\n",
      "27                  2   Components  c657828d-d808-4aba-91a3-af2ce02300e9 2008-04-30 00:00:00+00:00\n",
      "28                  2   Components  c657828d-d808-4aba-91a3-af2ce02300e9 2008-04-30 00:00:00+00:00\n",
      "29                  2   Components  c657828d-d808-4aba-91a3-af2ce02300e9 2008-04-30 00:00:00+00:00\n",
      "30                  2   Components  c657828d-d808-4aba-91a3-af2ce02300e9 2008-04-30 00:00:00+00:00\n",
      "31                  2   Components  c657828d-d808-4aba-91a3-af2ce02300e9 2008-04-30 00:00:00+00:00\n",
      "32                  2   Components  c657828d-d808-4aba-91a3-af2ce02300e9 2008-04-30 00:00:00+00:00\n",
      "33                  2   Components  c657828d-d808-4aba-91a3-af2ce02300e9 2008-04-30 00:00:00+00:00\n",
      "34                  2   Components  c657828d-d808-4aba-91a3-af2ce02300e9 2008-04-30 00:00:00+00:00\n",
      "35                  2   Components  c657828d-d808-4aba-91a3-af2ce02300e9 2008-04-30 00:00:00+00:00\n",
      "49                  2   Components  c657828d-d808-4aba-91a3-af2ce02300e9 2008-04-30 00:00:00+00:00\n",
      "12                  3     Clothing  10a7c342-ca82-48d4-8a38-46a2eb089b74 2008-04-30 00:00:00+00:00\n",
      "13                  3     Clothing  10a7c342-ca82-48d4-8a38-46a2eb089b74 2008-04-30 00:00:00+00:00\n",
      "14                  3     Clothing  10a7c342-ca82-48d4-8a38-46a2eb089b74 2008-04-30 00:00:00+00:00\n",
      "15                  3     Clothing  10a7c342-ca82-48d4-8a38-46a2eb089b74 2008-04-30 00:00:00+00:00\n",
      "16                  3     Clothing  10a7c342-ca82-48d4-8a38-46a2eb089b74 2008-04-30 00:00:00+00:00\n",
      "17                  3     Clothing  10a7c342-ca82-48d4-8a38-46a2eb089b74 2008-04-30 00:00:00+00:00\n",
      "18                  3     Clothing  10a7c342-ca82-48d4-8a38-46a2eb089b74 2008-04-30 00:00:00+00:00\n",
      "19                  3     Clothing  10a7c342-ca82-48d4-8a38-46a2eb089b74 2008-04-30 00:00:00+00:00\n",
      "20                  3     Clothing  10a7c342-ca82-48d4-8a38-46a2eb089b74 2008-04-30 00:00:00+00:00\n",
      "21                  3     Clothing  10a7c342-ca82-48d4-8a38-46a2eb089b74 2008-04-30 00:00:00+00:00\n",
      "22                  3     Clothing  10a7c342-ca82-48d4-8a38-46a2eb089b74 2008-04-30 00:00:00+00:00\n",
      "23                  3     Clothing  10a7c342-ca82-48d4-8a38-46a2eb089b74 2008-04-30 00:00:00+00:00\n",
      "50                  3     Clothing  10a7c342-ca82-48d4-8a38-46a2eb089b74 2008-04-30 00:00:00+00:00\n",
      "36                  4  Accessories  2be3be36-d9a2-4eee-b593-ed895d97c2a6 2008-04-30 00:00:00+00:00\n",
      "37                  4  Accessories  2be3be36-d9a2-4eee-b593-ed895d97c2a6 2008-04-30 00:00:00+00:00\n",
      "38                  4  Accessories  2be3be36-d9a2-4eee-b593-ed895d97c2a6 2008-04-30 00:00:00+00:00\n",
      "39                  4  Accessories  2be3be36-d9a2-4eee-b593-ed895d97c2a6 2008-04-30 00:00:00+00:00\n",
      "40                  4  Accessories  2be3be36-d9a2-4eee-b593-ed895d97c2a6 2008-04-30 00:00:00+00:00\n",
      "41                  4  Accessories  2be3be36-d9a2-4eee-b593-ed895d97c2a6 2008-04-30 00:00:00+00:00\n",
      "42                  4  Accessories  2be3be36-d9a2-4eee-b593-ed895d97c2a6 2008-04-30 00:00:00+00:00\n",
      "43                  4  Accessories  2be3be36-d9a2-4eee-b593-ed895d97c2a6 2008-04-30 00:00:00+00:00\n",
      "44                  4  Accessories  2be3be36-d9a2-4eee-b593-ed895d97c2a6 2008-04-30 00:00:00+00:00\n",
      "45                  4  Accessories  2be3be36-d9a2-4eee-b593-ed895d97c2a6 2008-04-30 00:00:00+00:00\n",
      "46                  4  Accessories  2be3be36-d9a2-4eee-b593-ed895d97c2a6 2008-04-30 00:00:00+00:00\n",
      "47                  4  Accessories  2be3be36-d9a2-4eee-b593-ed895d97c2a6 2008-04-30 00:00:00+00:00\n",
      "51                  4  Accessories  2be3be36-d9a2-4eee-b593-ed895d97c2a6 2008-04-30 00:00:00+00:00\n"
     ]
    }
   ],
   "source": [
    "# Identificar duplicadas\n",
    "duplicadas = production_productcategory[production_productcategory.duplicated(subset=['productcategoryid'], keep=False)]\n",
    "\n",
    "# Verificar se existem duplicadas\n",
    "if not duplicadas.empty:\n",
    "    \n",
    "    duplicadas_ordenadas = duplicadas.sort_values(by=['productcategoryid', 'modifieddate'])\n",
    "\n",
    "    print(\"duplicadas ordenadas:\")\n",
    "    print(duplicadas_ordenadas)\n",
    "else:\n",
    "    print(\"Não foram encontradas duplicadas.\")"
   ]
  },
  {
   "cell_type": "code",
   "execution_count": 9,
   "metadata": {},
   "outputs": [
    {
     "name": "stdout",
     "output_type": "stream",
     "text": [
      "Linhas após remover duplicadas (baseando-se na última 'modifieddate'): 4\n"
     ]
    }
   ],
   "source": [
    "# Remover duplicadas* \n",
    "production_productcategory = production_productcategory.drop_duplicates(subset=['productcategoryid'], keep='last')\n",
    "\n",
    "print(f\"Linhas após remover duplicadas (baseando-se na última 'modifieddate'): {len(production_productcategory)}\")\n",
    "\n",
    "#bkp dos dados brutos\n",
    "raw_data_bkp_2_sem_duplicadas = production_productcategory.copy()\n",
    "\n",
    "\n",
    "#doc: bkp = backup (cópia)\n",
    "#doc*: mantendo a última ocorrência com base em 'modifieddate', pois ela que indica a data da última modificação nos dados\n",
    "#      Importante, pois se houver erro na ingestão (duplicação), mantém os dados íntegros."
   ]
  },
  {
   "cell_type": "code",
   "execution_count": 10,
   "metadata": {},
   "outputs": [
    {
     "name": "stdout",
     "output_type": "stream",
     "text": [
      "    productcategoryid         name                               rowguid              modifieddate\n",
      "48                  1        Bikes  cfbda25c-df71-47a7-b81b-64ee161aa37c 2008-04-30 00:00:00+00:00\n",
      "49                  2   Components  c657828d-d808-4aba-91a3-af2ce02300e9 2008-04-30 00:00:00+00:00\n",
      "50                  3     Clothing  10a7c342-ca82-48d4-8a38-46a2eb089b74 2008-04-30 00:00:00+00:00\n",
      "51                  4  Accessories  2be3be36-d9a2-4eee-b593-ed895d97c2a6 2008-04-30 00:00:00+00:00\n"
     ]
    }
   ],
   "source": [
    "# Ordenar e exibir o df por 'productcategoryid'\n",
    "production_productcategory = production_productcategory.sort_values(by=['productcategoryid'])\n",
    "\n",
    "print(production_productcategory)"
   ]
  },
  {
   "cell_type": "code",
   "execution_count": 11,
   "metadata": {},
   "outputs": [
    {
     "name": "stdout",
     "output_type": "stream",
     "text": [
      "Coluna 'productcategoryid': 0 linhas ausentes.\n",
      "Nenhuma linha com valores ausentes em 'productcategoryid'.\n",
      "\n",
      "Coluna 'name': 0 linhas ausentes.\n",
      "Nenhuma linha com valores ausentes em 'name'.\n",
      "\n",
      "Coluna 'rowguid': 0 linhas ausentes.\n",
      "Nenhuma linha com valores ausentes em 'rowguid'.\n",
      "\n",
      "Coluna 'modifieddate': 0 linhas ausentes.\n",
      "Nenhuma linha com valores ausentes em 'modifieddate'.\n",
      "\n"
     ]
    }
   ],
   "source": [
    "# Iterar por todas as colunas do df, para verificar valores ausentes\n",
    "\n",
    "# Verificar valores ausentes na coluna\n",
    "for column in production_productcategory.columns:   \n",
    "    missing_rows = production_productcategory[production_productcategory[column].isnull()]\n",
    "    print(f\"Coluna '{column}': {missing_rows.shape[0]} linhas ausentes.\")\n",
    "    \n",
    "# Mostrar as primeiras linhas ausentes, se preciso for, limitar o head() para dar menos outputs ou limitar os outputs\n",
    "    if not missing_rows.empty:\n",
    "        print(f\"Exibindo as primeiras linhas com valores ausentes em '{column}':\")\n",
    "        print(missing_rows.head(), \"\\n\")\n",
    "    else:\n",
    "        print(f\"Nenhuma linha com valores ausentes em '{column}'.\\n\")"
   ]
  },
  {
   "cell_type": "code",
   "execution_count": 12,
   "metadata": {},
   "outputs": [
    {
     "name": "stdout",
     "output_type": "stream",
     "text": [
      "Valores únicos incluindo NaN:\n",
      "productcategoryid    4\n",
      "name                 4\n",
      "rowguid              4\n",
      "modifieddate         1\n",
      "dtype: int64\n"
     ]
    }
   ],
   "source": [
    "# Valores únicos por coluna, para verificar se colunas como flags, normalmente booleanas, possuem apenas 1 ou 2 valores.\n",
    "\n",
    "valores_unicos = production_productcategory.nunique(dropna=False)\n",
    "\n",
    "print(\"Valores únicos incluindo NaN:\")\n",
    "print(valores_unicos)"
   ]
  },
  {
   "cell_type": "code",
   "execution_count": 13,
   "metadata": {},
   "outputs": [
    {
     "name": "stdout",
     "output_type": "stream",
     "text": [
      "<class 'pandas.core.frame.DataFrame'>\n",
      "Index: 4 entries, 48 to 51\n",
      "Data columns (total 4 columns):\n",
      " #   Column             Non-Null Count  Dtype              \n",
      "---  ------             --------------  -----              \n",
      " 0   productcategoryid  4 non-null      Int64              \n",
      " 1   name               4 non-null      object             \n",
      " 2   rowguid            4 non-null      object             \n",
      " 3   modifieddate       4 non-null      datetime64[us, UTC]\n",
      "dtypes: Int64(1), datetime64[us, UTC](1), object(2)\n",
      "memory usage: 164.0+ bytes\n"
     ]
    }
   ],
   "source": [
    "#verificar informações do df\n",
    "production_productcategory.info()"
   ]
  },
  {
   "cell_type": "code",
   "execution_count": 14,
   "metadata": {},
   "outputs": [],
   "source": [
    "# Atualizar o dicionário df_processados com o df ajustado\n",
    "df_processados['production_productcategory'] = production_productcategory"
   ]
  },
  {
   "cell_type": "code",
   "execution_count": 15,
   "metadata": {},
   "outputs": [
    {
     "name": "stdout",
     "output_type": "stream",
     "text": [
      "    productcategoryid         name                               rowguid              modifieddate\n",
      "48                  1        BIKES  CFBDA25C-DF71-47A7-B81B-64EE161AA37C 2008-04-30 00:00:00+00:00\n",
      "49                  2   COMPONENTS  C657828D-D808-4ABA-91A3-AF2CE02300E9 2008-04-30 00:00:00+00:00\n",
      "50                  3     CLOTHING  10A7C342-CA82-48D4-8A38-46A2EB089B74 2008-04-30 00:00:00+00:00\n",
      "51                  4  ACCESSORIES  2BE3BE36-D9A2-4EEE-B593-ED895D97C2A6 2008-04-30 00:00:00+00:00\n"
     ]
    }
   ],
   "source": [
    "# Padronizar colunas com valores textuais*\n",
    "production_productcategory['name'] = production_productcategory['name'].str.strip().str.upper()\n",
    "production_productcategory['rowguid'] = production_productcategory['rowguid'].str.strip().str.upper()\n",
    "\n",
    "print(production_productcategory.head())\n",
    "\n",
    "#doc*: padronizar as strings nessa etapa, contribui para a execução das demais etapas do pipeline"
   ]
  },
  {
   "cell_type": "code",
   "execution_count": 16,
   "metadata": {},
   "outputs": [
    {
     "name": "stdout",
     "output_type": "stream",
     "text": [
      "Tabela production_productcategory exportada com sucesso para desafioadventureworks-446600.raw_data_cleaned.production_productcategory.\n"
     ]
    }
   ],
   "source": [
    "# Garantir que apenas tabelas únicas sejam exportadas\n",
    "unique_df_processados = {k: v for k, v in df_processados.items()}\n",
    "\n",
    "# Exportar tabelas para o BigQuery\n",
    "for table_name, df_cleaned in unique_df_processados.items():\n",
    " \n",
    "    output_table = f\"{output_dataset}.{table_name}\"\n",
    "   \n",
    "    job_config = bigquery.LoadJobConfig(\n",
    "        write_disposition=\"WRITE_TRUNCATE\"  \n",
    "    )\n",
    "    \n",
    "    job = client.load_table_from_dataframe(df_cleaned, output_table, job_config=job_config)\n",
    "    job.result()\n",
    "\n",
    "    print(f\"Tabela {table_name} exportada com sucesso para {output_table}.\")"
   ]
  },
  {
   "cell_type": "markdown",
   "metadata": {},
   "source": []
  }
 ],
 "metadata": {
  "kernelspec": {
   "display_name": "venv",
   "language": "python",
   "name": "python3"
  },
  "language_info": {
   "codemirror_mode": {
    "name": "ipython",
    "version": 3
   },
   "file_extension": ".py",
   "mimetype": "text/x-python",
   "name": "python",
   "nbconvert_exporter": "python",
   "pygments_lexer": "ipython3",
   "version": "3.10.9"
  }
 },
 "nbformat": 4,
 "nbformat_minor": 2
}
