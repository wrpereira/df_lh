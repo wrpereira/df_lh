{
 "cells": [
  {
   "cell_type": "markdown",
   "metadata": {},
   "source": [
    "### SETUP INICIAL DO PROJETO"
   ]
  },
  {
   "cell_type": "code",
   "execution_count": 1,
   "metadata": {},
   "outputs": [],
   "source": [
    "# Importação das bibliotecas necessárias\n",
    "import os\n",
    "import pandas as pd\n",
    "import numpy as np\n",
    "import matplotlib.pyplot as plt\n",
    "import seaborn as sns\n",
    "from dotenv import load_dotenv\n",
    "from google.cloud import bigquery\n",
    "from google.oauth2 import service_account\n",
    "\n",
    "\n",
    "# Carrega o .env: onde estão as credenciais do projeto/repositório\n",
    "load_dotenv(\"/mnt/c/Users/wrpen/OneDrive/Desktop/df_lh/.env\")\n",
    "\n",
    "# Detectar ambiente: como eu estou usando wsl-ubuntu, no VS Code  -  Windows, estava dando conflitos de path\n",
    "if os.name == \"nt\":  # se Windows\n",
    "    credentials_path = r\"C:\\Temp\\desafiolh-445818-3cb0f62cb9ef.json\"\n",
    "else:  # se WSL/Linux\n",
    "    credentials_path = \"/mnt/c/Temp/desafiolh-445818-3cb0f62cb9ef.json\"\n",
    "\n",
    "# Parâmetros injetados pelo Papermill ou definidos manualmente, caso não existam no ambiente\n",
    "# Tables_to_process: lista de tabelas que serão processadas\n",
    "# Output_dataset: nome do dataset onde os dados processados serão armazenados, neste caso, raw_data_cleaned\n",
    "if 'tables_to_process' not in locals():\n",
    "    tables_to_process = [\n",
    "        \"desafioadventureworks-446600.stg_marts_tables.fact_product_forecast\"  ,\n",
    "        \"desafioadventureworks-446600.stg_marts_tables.fact_product_seasonality\",\n",
    "        \"desafioadventureworks-446600.stg_marts_tables.dim_date\", \n",
    "        \"desafioadventureworks-446600.stg_staging_tables.stg_sales_salesorderheader\",\n",
    "        \"desafioadventureworks-446600.stg_staging_tables.stg_sales_salesorderdetail\",\n",
    "        \"desafioadventureworks-446600.stg_staging_tables.stg_production_product\",\n",
    "        \"desafioadventureworks-446600.stg_staging_tables.stg_sales_store\",\n",
    "        \"desafioadventureworks-446600.stg_staging_tables.stg_sales_salesterritory\",\n",
    "        \"desafioadventureworks-446600.stg_staging_tables.stg_sales_salesperson\",\n",
    "        \"desafioadventureworks-446600.stg_staging_tables.stg_sales_customer\"\n",
    "    ]\n",
    "\n",
    "if 'output_dataset' not in locals():\n",
    "    output_dataset = \"desafioadventureworks-446600.stg_marts_tables\"\n",
    "\n",
    "# Configs do cliente BigQuery: input de project e location de acordo com dados no Bigquery\n",
    "credentials = service_account.Credentials.from_service_account_file(credentials_path)\n",
    "client = bigquery.Client(credentials=credentials, project=os.getenv(\"BIGQUERY_PROJECT\"), location=\"us-central1\")\n"
   ]
  },
  {
   "cell_type": "code",
   "execution_count": 2,
   "metadata": {},
   "outputs": [
    {
     "name": "stdout",
     "output_type": "stream",
     "text": [
      "Tabelas a processar: ['desafioadventureworks-446600.stg_marts_tables.fact_product_forecast', 'desafioadventureworks-446600.stg_marts_tables.fact_product_seasonality', 'desafioadventureworks-446600.stg_marts_tables.dim_date', 'desafioadventureworks-446600.stg_staging_tables.stg_sales_salesorderheader', 'desafioadventureworks-446600.stg_staging_tables.stg_sales_salesorderdetail', 'desafioadventureworks-446600.stg_staging_tables.stg_production_product', 'desafioadventureworks-446600.stg_staging_tables.stg_sales_store', 'desafioadventureworks-446600.stg_staging_tables.stg_sales_salesterritory', 'desafioadventureworks-446600.stg_staging_tables.stg_sales_salesperson', 'desafioadventureworks-446600.stg_staging_tables.stg_sales_customer']\n"
     ]
    }
   ],
   "source": [
    "# Print com a tabela que vai ser processada nesse notebook\n",
    "\n",
    "print(\"Tabelas a processar:\", tables_to_process)"
   ]
  },
  {
   "cell_type": "markdown",
   "metadata": {},
   "source": [
    "# Exploratory Data Analysis (EDA) e Data Cleaning"
   ]
  },
  {
   "cell_type": "markdown",
   "metadata": {},
   "source": [
    "### Glossário dos dados:\n",
    "\n",
    "O termo ''doc:'', situado no rodapé de algumas cells, indica algo como:\n",
    "\n",
    "- documentação: documentar decisões, análises e resultados;\n",
    "\n",
    "- abreviações de termos, como bkp, df, entre outros."
   ]
  },
  {
   "cell_type": "code",
   "execution_count": 3,
   "metadata": {},
   "outputs": [],
   "source": [
    "# Setup inicial do df \n",
    "\n",
    "pd.set_option('display.max_columns', None)\n",
    "#pd.set_option('display.max_rows', None)\n",
    "pd.set_option('display.max_colwidth', None)\n",
    "pd.set_option('display.width', 10000)\n",
    "pd.options.display.float_format = '{:.2f}'.format\n",
    "\n",
    "\n",
    "#doc: df = dataframe  "
   ]
  },
  {
   "cell_type": "code",
   "execution_count": 4,
   "metadata": {},
   "outputs": [
    {
     "name": "stdout",
     "output_type": "stream",
     "text": [
      "Processando tabela: desafioadventureworks-446600.stg_marts_tables.fact_product_forecast\n",
      "Lendo os dados do BigQuery...\n",
      "Tabela fact_product_forecast processada e armazenada com sucesso.\n",
      "Processando tabela: desafioadventureworks-446600.stg_marts_tables.fact_product_seasonality\n",
      "Lendo os dados do BigQuery...\n",
      "Tabela fact_product_seasonality processada e armazenada com sucesso.\n",
      "Processando tabela: desafioadventureworks-446600.stg_marts_tables.dim_date\n",
      "Lendo os dados do BigQuery...\n",
      "Tabela dim_date processada e armazenada com sucesso.\n",
      "Processando tabela: desafioadventureworks-446600.stg_staging_tables.stg_sales_salesorderheader\n",
      "Lendo os dados do BigQuery...\n",
      "Tabela stg_sales_salesorderheader processada e armazenada com sucesso.\n",
      "Processando tabela: desafioadventureworks-446600.stg_staging_tables.stg_sales_salesorderdetail\n",
      "Lendo os dados do BigQuery...\n",
      "Tabela stg_sales_salesorderdetail processada e armazenada com sucesso.\n",
      "Processando tabela: desafioadventureworks-446600.stg_staging_tables.stg_production_product\n",
      "Lendo os dados do BigQuery...\n",
      "Tabela stg_production_product processada e armazenada com sucesso.\n",
      "Processando tabela: desafioadventureworks-446600.stg_staging_tables.stg_sales_store\n",
      "Lendo os dados do BigQuery...\n",
      "Tabela stg_sales_store processada e armazenada com sucesso.\n",
      "Processando tabela: desafioadventureworks-446600.stg_staging_tables.stg_sales_salesterritory\n",
      "Lendo os dados do BigQuery...\n",
      "Tabela stg_sales_salesterritory processada e armazenada com sucesso.\n",
      "Processando tabela: desafioadventureworks-446600.stg_staging_tables.stg_sales_salesperson\n",
      "Lendo os dados do BigQuery...\n",
      "Tabela stg_sales_salesperson processada e armazenada com sucesso.\n",
      "Processando tabela: desafioadventureworks-446600.stg_staging_tables.stg_sales_customer\n",
      "Lendo os dados do BigQuery...\n",
      "Tabela stg_sales_customer processada e armazenada com sucesso.\n",
      "Todas as tabelas foram processadas com sucesso!\n"
     ]
    }
   ],
   "source": [
    "# Dicionário para armazenar os df processados\n",
    "df_processados = {}\n",
    "\n",
    "# Iteração das tabelas e armazenamento em df\n",
    "for input_table in tables_to_process:\n",
    "    print(f\"Processando tabela: {input_table}\")\n",
    "    \n",
    "    table_name = input_table.split(\".\")[-1].replace(\"-\", \"_\")  \n",
    "    \n",
    "    print(\"Lendo os dados do BigQuery...\")\n",
    "    query = f\"SELECT * FROM `{input_table}`\"\n",
    "    table_data = client.query(query).to_dataframe()\n",
    "    \n",
    "    df_processados[table_name] = table_data\n",
    "    print(f\"Tabela {table_name} processada e armazenada com sucesso.\")\n",
    "\n",
    "\n",
    "print(\"Todas as tabelas foram processadas com sucesso!\")"
   ]
  },
  {
   "cell_type": "code",
   "execution_count": 5,
   "metadata": {},
   "outputs": [
    {
     "name": "stdout",
     "output_type": "stream",
     "text": [
      "\n",
      "Colunas na tabela fact_product_forecast:\n",
      "Index(['store_id', 'productid_id', 'forecast_date', 'forecast_quantity', 'avg_unit_price', 'forecast_sales_value'], dtype='object')\n",
      "\n",
      "Colunas na tabela fact_product_seasonality:\n",
      "Index(['productid_id', 'total_quantity_sold', 'year_month', 'year', 'month'], dtype='object')\n",
      "\n",
      "Colunas na tabela dim_date:\n",
      "Index(['orderdate_dt', 'year_nr', 'month_nr', 'quarter_nr', 'week_nr', 'day_nr', 'quarter_name', 'month_name', 'month_name_abr', 'first_day_of_month', 'last_day_of_month'], dtype='object')\n",
      "\n",
      "Colunas na tabela stg_sales_salesorderheader:\n",
      "Index(['salesorderid_id', 'revisionnumber_cd', 'orderdate_dt', 'duedate_dt', 'shipdate_dt', 'status_st', 'onlineorderflag_fl', 'accountnumber_cd', 'customerid_id', 'salespersonid_id', 'territoryid_id', 'billtoaddressid_id', 'shiptoaddressid_id', 'shipmethodid_id', 'creditcardid_id', 'creditcardapprovalcode_cd', 'subtotal_vr', 'taxamt_vr', 'freight_vr', 'totaldue_vr', 'rowguid_desc', 'modifieddate_dt'], dtype='object')\n",
      "\n",
      "Colunas na tabela stg_sales_salesorderdetail:\n",
      "Index(['salesorderid_id', 'salesorderdetailid_id', 'carriertrackingnumber_cd', 'orderqty_qt', 'productid_id', 'specialofferid_id', 'unitprice_vr', 'unitpricediscount_vr', 'rowguid_desc', 'modifieddate_dt'], dtype='object')\n",
      "\n",
      "Colunas na tabela stg_production_product:\n",
      "Index(['productid_id', 'product_nm', 'productnumber_cd', 'makeflag_fl', 'finishedgoodsflag_fl', 'color_tp', 'safetystocklevel_nr', 'reorderpoint_tp', 'standardcost_vr', 'listprice_vr', 'size_tp', 'sizeunitmeasurecode_cd', 'weightunitmeasurecode_cd', 'weight_tp', 'daystomanufacture_nr', 'productline_tp', 'class_tp', 'style_tp', 'productsubcategoryid_id', 'productmodelid_id', 'sellstartdate_dt', 'sellenddate_dt', 'rowguid_desc', 'modifieddate_dt'], dtype='object')\n",
      "\n",
      "Colunas na tabela stg_sales_store:\n",
      "Index(['businessentityid_id', 'store_nm', 'salespersonid_id', 'rowguid_desc', 'modifieddate_dt'], dtype='object')\n",
      "\n",
      "Colunas na tabela stg_sales_salesterritory:\n",
      "Index(['territoryid_id', 'territory_nm', 'countryregioncode_cd', 'territory_group_tp', 'salesytd_vr', 'saleslastyear_vr', 'rowguid_desc', 'modifieddate_dt'], dtype='object')\n",
      "\n",
      "Colunas na tabela stg_sales_salesperson:\n",
      "Index(['businessentityid_id', 'territoryid_id', 'salesquota_nr', 'bonus_vr', 'commissionpct_vr', 'salesytd_vr', 'saleslastyear_vr', 'rowguid_desc', 'modifieddate_dt'], dtype='object')\n",
      "\n",
      "Colunas na tabela stg_sales_customer:\n",
      "Index(['customerid_id', 'personid_id', 'storeid_id', 'territoryid_id', 'rowguid_desc', 'modifieddate_dt'], dtype='object')\n"
     ]
    }
   ],
   "source": [
    "# Listar colunas de cada tabela carregada\n",
    "for table_name, df in df_processados.items():\n",
    "    print(f\"\\nColunas na tabela {table_name}:\")\n",
    "    print(df.columns)"
   ]
  },
  {
   "cell_type": "code",
   "execution_count": 6,
   "metadata": {},
   "outputs": [
    {
     "name": "stdout",
     "output_type": "stream",
     "text": [
      "       customerid_id  personid_id  storeid_id  territoryid_id                          rowguid_desc                  modifieddate_dt  businessentityid_id                         store_nm  salespersonid_id                    rowguid_desc_store            modifieddate_dt_store\n",
      "0              11279         2996        <NA>               1  724BCFAD-E4E9-443B-8DC4-BAA0D9C7B645 2014-09-12 11:15:07.263000+00:00                 <NA>                              NaN              <NA>                                   NaN                              NaT\n",
      "1              11302        13173        <NA>               1  64F830CC-A217-426B-A412-5897110AB74F 2014-09-12 11:15:07.263000+00:00                 <NA>                              NaN              <NA>                                   NaN                              NaT\n",
      "2              11535         4974        <NA>               1  AAA897EA-4D6C-4169-AE51-7B90E6AB8DD1 2014-09-12 11:15:07.263000+00:00                 <NA>                              NaN              <NA>                                   NaN                              NaT\n",
      "3              11684         4992        <NA>               1  CC9CE47B-3442-42E6-B21D-49DCE5FCA88B 2014-09-12 11:15:07.263000+00:00                 <NA>                              NaN              <NA>                                   NaN                              NaT\n",
      "4              11696         9743        <NA>               1  24C8FE0C-97F0-41AF-B8F3-3984971FA786 2014-09-12 11:15:07.263000+00:00                 <NA>                              NaN              <NA>                                   NaN                              NaT\n",
      "...              ...          ...         ...             ...                                   ...                              ...                  ...                              ...               ...                                   ...                              ...\n",
      "19815             70         <NA>        1272              10  89E10B04-064E-4313-8203-91FA98A01B11 2014-09-12 11:15:07.263000+00:00                 1272  OUTDOOR AEROBIC SYSTEMS COMPANY               289  2C9D7F50-6431-4361-9843-0CF1601B23B9 2014-09-12 11:15:07.497000+00:00\n",
      "19816            448         <NA>         856              10  722AEE8F-6B89-4712-BB35-6861AF3065CD 2014-09-12 11:15:07.263000+00:00                  856       ACTION BICYCLE SPECIALISTS               289  1D624DC8-9EBE-4ACB-81C8-90F0B474B64F 2014-09-12 11:15:07.497000+00:00\n",
      "19817            304         <NA>        1484              10  C332C909-EE43-4312-A9D8-B2365A0160EA 2014-09-12 11:15:07.263000+00:00                 1484             ESSENTIAL BIKE WORKS               289  18887CC9-A503-4F5C-B054-FB6CCDF9F56D 2014-09-12 11:15:07.497000+00:00\n",
      "19818            520         <NA>         596              10  34C094D7-8C79-47A5-B192-9597826BD55D 2014-09-12 11:15:07.263000+00:00                  596                 METRO METALS CO.               289  FA71E13B-B051-4F12-A280-F69ECD6AF1DB 2014-09-12 11:15:07.497000+00:00\n",
      "19819            322         <NA>        1472              10  1C56E02D-69F4-4C0D-965B-2B7F54AA0A34 2014-09-12 11:15:07.263000+00:00                 1472      TACHOMETERS AND ACCESSORIES               289  9E86D886-AE40-492A-960C-376F1102AA68 2014-09-12 11:15:07.497000+00:00\n",
      "\n",
      "[19820 rows x 11 columns]\n"
     ]
    }
   ],
   "source": [
    "# Merge 1: Cliente + Loja\n",
    "df_customer_store = pd.merge(\n",
    "    df_processados['stg_sales_customer'],\n",
    "    df_processados['stg_sales_store'],\n",
    "    left_on='storeid_id',\n",
    "    right_on='businessentityid_id',\n",
    "    how='left',\n",
    "    suffixes=('', '_store')\n",
    ")\n",
    "\n",
    "print(df_customer_store)"
   ]
  },
  {
   "cell_type": "code",
   "execution_count": 7,
   "metadata": {},
   "outputs": [
    {
     "name": "stdout",
     "output_type": "stream",
     "text": [
      "       customerid_id  personid_id  storeid_id  territoryid_id                          rowguid_desc                  modifieddate_dt  businessentityid_id                         store_nm  salespersonid_id                    rowguid_desc_store            modifieddate_dt_store  businessentityid_id_salesperson  territoryid_id_salesperson  salesquota_nr  bonus_vr  commissionpct_vr  salesytd_vr  saleslastyear_vr              rowguid_desc_salesperson modifieddate_dt_salesperson\n",
      "0              11279         2996        <NA>               1  724BCFAD-E4E9-443B-8DC4-BAA0D9C7B645 2014-09-12 11:15:07.263000+00:00                 <NA>                              NaN              <NA>                                   NaN                              NaT                             <NA>                        <NA>           <NA>      <NA>               NaN          NaN               NaN                                   NaN                         NaT\n",
      "1              11302        13173        <NA>               1  64F830CC-A217-426B-A412-5897110AB74F 2014-09-12 11:15:07.263000+00:00                 <NA>                              NaN              <NA>                                   NaN                              NaT                             <NA>                        <NA>           <NA>      <NA>               NaN          NaN               NaN                                   NaN                         NaT\n",
      "2              11535         4974        <NA>               1  AAA897EA-4D6C-4169-AE51-7B90E6AB8DD1 2014-09-12 11:15:07.263000+00:00                 <NA>                              NaN              <NA>                                   NaN                              NaT                             <NA>                        <NA>           <NA>      <NA>               NaN          NaN               NaN                                   NaN                         NaT\n",
      "3              11684         4992        <NA>               1  CC9CE47B-3442-42E6-B21D-49DCE5FCA88B 2014-09-12 11:15:07.263000+00:00                 <NA>                              NaN              <NA>                                   NaN                              NaT                             <NA>                        <NA>           <NA>      <NA>               NaN          NaN               NaN                                   NaN                         NaT\n",
      "4              11696         9743        <NA>               1  24C8FE0C-97F0-41AF-B8F3-3984971FA786 2014-09-12 11:15:07.263000+00:00                 <NA>                              NaN              <NA>                                   NaN                              NaT                             <NA>                        <NA>           <NA>      <NA>               NaN          NaN               NaN                                   NaN                         NaT\n",
      "...              ...          ...         ...             ...                                   ...                              ...                  ...                              ...               ...                                   ...                              ...                              ...                         ...            ...       ...               ...          ...               ...                                   ...                         ...\n",
      "19815             70         <NA>        1272              10  89E10B04-064E-4313-8203-91FA98A01B11 2014-09-12 11:15:07.263000+00:00                 1272  OUTDOOR AEROBIC SYSTEMS COMPANY               289  2C9D7F50-6431-4361-9843-0CF1601B23B9 2014-09-12 11:15:07.497000+00:00                              289                          10         250000      5150              0.02   4116871.23        1635823.40  25F6838D-9DB4-4833-9DDC-7A24283AF1BA   2012-05-23 00:00:00+00:00\n",
      "19816            448         <NA>         856              10  722AEE8F-6B89-4712-BB35-6861AF3065CD 2014-09-12 11:15:07.263000+00:00                  856       ACTION BICYCLE SPECIALISTS               289  1D624DC8-9EBE-4ACB-81C8-90F0B474B64F 2014-09-12 11:15:07.497000+00:00                              289                          10         250000      5150              0.02   4116871.23        1635823.40  25F6838D-9DB4-4833-9DDC-7A24283AF1BA   2012-05-23 00:00:00+00:00\n",
      "19817            304         <NA>        1484              10  C332C909-EE43-4312-A9D8-B2365A0160EA 2014-09-12 11:15:07.263000+00:00                 1484             ESSENTIAL BIKE WORKS               289  18887CC9-A503-4F5C-B054-FB6CCDF9F56D 2014-09-12 11:15:07.497000+00:00                              289                          10         250000      5150              0.02   4116871.23        1635823.40  25F6838D-9DB4-4833-9DDC-7A24283AF1BA   2012-05-23 00:00:00+00:00\n",
      "19818            520         <NA>         596              10  34C094D7-8C79-47A5-B192-9597826BD55D 2014-09-12 11:15:07.263000+00:00                  596                 METRO METALS CO.               289  FA71E13B-B051-4F12-A280-F69ECD6AF1DB 2014-09-12 11:15:07.497000+00:00                              289                          10         250000      5150              0.02   4116871.23        1635823.40  25F6838D-9DB4-4833-9DDC-7A24283AF1BA   2012-05-23 00:00:00+00:00\n",
      "19819            322         <NA>        1472              10  1C56E02D-69F4-4C0D-965B-2B7F54AA0A34 2014-09-12 11:15:07.263000+00:00                 1472      TACHOMETERS AND ACCESSORIES               289  9E86D886-AE40-492A-960C-376F1102AA68 2014-09-12 11:15:07.497000+00:00                              289                          10         250000      5150              0.02   4116871.23        1635823.40  25F6838D-9DB4-4833-9DDC-7A24283AF1BA   2012-05-23 00:00:00+00:00\n",
      "\n",
      "[19820 rows x 20 columns]\n"
     ]
    }
   ],
   "source": [
    "# Merge 2: Cliente + Vendedor\n",
    "df_customer_store_salesperson = pd.merge(\n",
    "    df_customer_store,\n",
    "    df_processados['stg_sales_salesperson'],\n",
    "    left_on='salespersonid_id',\n",
    "    right_on='businessentityid_id',\n",
    "    how='left',\n",
    "    suffixes=('', '_salesperson')\n",
    ")\n",
    "\n",
    "print(df_customer_store_salesperson)"
   ]
  },
  {
   "cell_type": "code",
   "execution_count": 8,
   "metadata": {},
   "outputs": [
    {
     "name": "stdout",
     "output_type": "stream",
     "text": [
      "       customerid_id  personid_id  storeid_id  territoryid_id                          rowguid_desc                  modifieddate_dt  businessentityid_id                         store_nm  salespersonid_id                    rowguid_desc_store            modifieddate_dt_store  businessentityid_id_salesperson  territoryid_id_salesperson  salesquota_nr  bonus_vr  commissionpct_vr  salesytd_vr  saleslastyear_vr              rowguid_desc_salesperson modifieddate_dt_salesperson  salesorderid_id  revisionnumber_cd              orderdate_dt                duedate_dt               shipdate_dt  status_st  onlineorderflag_fl accountnumber_cd  salespersonid_id_order  territoryid_id_order  billtoaddressid_id  shiptoaddressid_id  shipmethodid_id  creditcardid_id creditcardapprovalcode_cd  subtotal_vr  taxamt_vr  freight_vr  totaldue_vr                    rowguid_desc_order     modifieddate_dt_order\n",
      "0              11279         2996        <NA>               1  724BCFAD-E4E9-443B-8DC4-BAA0D9C7B645 2014-09-12 11:15:07.263000+00:00                 <NA>                              NaN              <NA>                                   NaN                              NaT                             <NA>                        <NA>           <NA>      <NA>               NaN          NaN               NaN                                   NaN                         NaT            53787                  8 2013-08-03 00:00:00+00:00 2013-08-15 00:00:00+00:00 2013-08-10 00:00:00+00:00          5                True   10-4030-011279                    <NA>                     1               12018                 238                1             1199              821123Vi6096         2.29       0.18        0.06         2.53  AF88EE0A-6237-4380-9205-4236B747B5C9 2013-08-10 00:00:00+00:00\n",
      "1              11279         2996        <NA>               1  724BCFAD-E4E9-443B-8DC4-BAA0D9C7B645 2014-09-12 11:15:07.263000+00:00                 <NA>                              NaN              <NA>                                   NaN                              NaT                             <NA>                        <NA>           <NA>      <NA>               NaN          NaN               NaN                                   NaN                         NaT            60671                  8 2013-11-22 00:00:00+00:00 2013-12-04 00:00:00+00:00 2013-11-29 00:00:00+00:00          5                True   10-4030-011279                    <NA>                     1               12018                 238                1             1199              829133Vi6096        42.28       3.38        1.06        46.72  3157978C-B166-4CA0-87E2-29D596623334 2013-11-29 00:00:00+00:00\n",
      "2              11302        13173        <NA>               1  64F830CC-A217-426B-A412-5897110AB74F 2014-09-12 11:15:07.263000+00:00                 <NA>                              NaN              <NA>                                   NaN                              NaT                             <NA>                        <NA>           <NA>      <NA>               NaN          NaN               NaN                                   NaN                         NaT            52147                  8 2013-07-05 00:00:00+00:00 2013-07-17 00:00:00+00:00 2013-07-12 00:00:00+00:00          5                True   10-4030-011302                    <NA>                     1               22243               22243                1             8371             737340Vi43354      2359.92     188.79       59.00      2607.71  51E27515-070B-4721-B518-9715F0E4382E 2013-07-12 00:00:00+00:00\n",
      "3              11302        13173        <NA>               1  64F830CC-A217-426B-A412-5897110AB74F 2014-09-12 11:15:07.263000+00:00                 <NA>                              NaN              <NA>                                   NaN                              NaT                             <NA>                        <NA>           <NA>      <NA>               NaN          NaN               NaN                                   NaN                         NaT            45636                  8 2012-02-06 00:00:00+00:00 2012-02-18 00:00:00+00:00 2012-02-13 00:00:00+00:00          5                True   10-4030-011302                    <NA>                     1               22243               22243                1             8371             732496Vi43354      3578.27     286.26       89.46      3953.99  674C207D-E027-4BE8-A548-3EC87539B4E8 2012-02-13 00:00:00+00:00\n",
      "4              11535         4974        <NA>               1  AAA897EA-4D6C-4169-AE51-7B90E6AB8DD1 2014-09-12 11:15:07.263000+00:00                 <NA>                              NaN              <NA>                                   NaN                              NaT                             <NA>                        <NA>           <NA>      <NA>               NaN          NaN               NaN                                   NaN                         NaT            54468                  8 2013-08-15 00:00:00+00:00 2013-08-27 00:00:00+00:00 2013-08-22 00:00:00+00:00          5                True   10-4030-011535                    <NA>                     1               14009               14009                1            12883            1137578Vi66630      2340.94     187.28       58.52      2586.74  E4239673-B8BA-4797-B86E-43129660B363 2013-08-22 00:00:00+00:00\n",
      "...              ...          ...         ...             ...                                   ...                              ...                  ...                              ...               ...                                   ...                              ...                              ...                         ...            ...       ...               ...          ...               ...                                   ...                         ...              ...                ...                       ...                       ...                       ...        ...                 ...              ...                     ...                   ...                 ...                 ...              ...              ...                       ...          ...        ...         ...          ...                                   ...                       ...\n",
      "32161             70         <NA>        1272              10  89E10B04-064E-4313-8203-91FA98A01B11 2014-09-12 11:15:07.263000+00:00                 1272  OUTDOOR AEROBIC SYSTEMS COMPANY               289  2C9D7F50-6431-4361-9843-0CF1601B23B9 2014-09-12 11:15:07.497000+00:00                              289                          10         250000      5150              0.02   4116871.23        1635823.40  25F6838D-9DB4-4833-9DDC-7A24283AF1BA   2012-05-23 00:00:00+00:00             <NA>               <NA>                       NaT                       NaT                       NaT       <NA>                <NA>              NaN                    <NA>                  <NA>                <NA>                <NA>             <NA>             <NA>                       NaN          NaN        NaN         NaN          NaN                                   NaN                       NaT\n",
      "32162            448         <NA>         856              10  722AEE8F-6B89-4712-BB35-6861AF3065CD 2014-09-12 11:15:07.263000+00:00                  856       ACTION BICYCLE SPECIALISTS               289  1D624DC8-9EBE-4ACB-81C8-90F0B474B64F 2014-09-12 11:15:07.497000+00:00                              289                          10         250000      5150              0.02   4116871.23        1635823.40  25F6838D-9DB4-4833-9DDC-7A24283AF1BA   2012-05-23 00:00:00+00:00             <NA>               <NA>                       NaT                       NaT                       NaT       <NA>                <NA>              NaN                    <NA>                  <NA>                <NA>                <NA>             <NA>             <NA>                       NaN          NaN        NaN         NaN          NaN                                   NaN                       NaT\n",
      "32163            304         <NA>        1484              10  C332C909-EE43-4312-A9D8-B2365A0160EA 2014-09-12 11:15:07.263000+00:00                 1484             ESSENTIAL BIKE WORKS               289  18887CC9-A503-4F5C-B054-FB6CCDF9F56D 2014-09-12 11:15:07.497000+00:00                              289                          10         250000      5150              0.02   4116871.23        1635823.40  25F6838D-9DB4-4833-9DDC-7A24283AF1BA   2012-05-23 00:00:00+00:00             <NA>               <NA>                       NaT                       NaT                       NaT       <NA>                <NA>              NaN                    <NA>                  <NA>                <NA>                <NA>             <NA>             <NA>                       NaN          NaN        NaN         NaN          NaN                                   NaN                       NaT\n",
      "32164            520         <NA>         596              10  34C094D7-8C79-47A5-B192-9597826BD55D 2014-09-12 11:15:07.263000+00:00                  596                 METRO METALS CO.               289  FA71E13B-B051-4F12-A280-F69ECD6AF1DB 2014-09-12 11:15:07.497000+00:00                              289                          10         250000      5150              0.02   4116871.23        1635823.40  25F6838D-9DB4-4833-9DDC-7A24283AF1BA   2012-05-23 00:00:00+00:00             <NA>               <NA>                       NaT                       NaT                       NaT       <NA>                <NA>              NaN                    <NA>                  <NA>                <NA>                <NA>             <NA>             <NA>                       NaN          NaN        NaN         NaN          NaN                                   NaN                       NaT\n",
      "32165            322         <NA>        1472              10  1C56E02D-69F4-4C0D-965B-2B7F54AA0A34 2014-09-12 11:15:07.263000+00:00                 1472      TACHOMETERS AND ACCESSORIES               289  9E86D886-AE40-492A-960C-376F1102AA68 2014-09-12 11:15:07.497000+00:00                              289                          10         250000      5150              0.02   4116871.23        1635823.40  25F6838D-9DB4-4833-9DDC-7A24283AF1BA   2012-05-23 00:00:00+00:00             <NA>               <NA>                       NaT                       NaT                       NaT       <NA>                <NA>              NaN                    <NA>                  <NA>                <NA>                <NA>             <NA>             <NA>                       NaN          NaN        NaN         NaN          NaN                                   NaN                       NaT\n",
      "\n",
      "[32166 rows x 41 columns]\n"
     ]
    }
   ],
   "source": [
    "# Merge 3: Cliente + Pedido\n",
    "df_customer_store_salesperson_order = pd.merge(\n",
    "    df_customer_store_salesperson,\n",
    "    df_processados['stg_sales_salesorderheader'],\n",
    "    left_on='customerid_id',\n",
    "    right_on='customerid_id',\n",
    "    how='left',\n",
    "    suffixes=('', '_order')\n",
    ")\n",
    "print(df_customer_store_salesperson_order)"
   ]
  },
  {
   "cell_type": "code",
   "execution_count": 9,
   "metadata": {},
   "outputs": [
    {
     "name": "stdout",
     "output_type": "stream",
     "text": [
      "        customerid_id  personid_id  storeid_id  territoryid_id                          rowguid_desc                  modifieddate_dt  businessentityid_id                         store_nm  salespersonid_id                    rowguid_desc_store            modifieddate_dt_store  businessentityid_id_salesperson  territoryid_id_salesperson  salesquota_nr  bonus_vr  commissionpct_vr  salesytd_vr  saleslastyear_vr              rowguid_desc_salesperson modifieddate_dt_salesperson  salesorderid_id  revisionnumber_cd              orderdate_dt                duedate_dt               shipdate_dt  status_st  onlineorderflag_fl accountnumber_cd  salespersonid_id_order  territoryid_id_order  billtoaddressid_id  shiptoaddressid_id  shipmethodid_id  creditcardid_id creditcardapprovalcode_cd  subtotal_vr  taxamt_vr  freight_vr  totaldue_vr                    rowguid_desc_order     modifieddate_dt_order  salesorderdetailid_id carriertrackingnumber_cd  orderqty_qt  productid_id  specialofferid_id  unitprice_vr  unitpricediscount_vr                  rowguid_desc_details   modifieddate_dt_details\n",
      "0               11279         2996        <NA>               1  724BCFAD-E4E9-443B-8DC4-BAA0D9C7B645 2014-09-12 11:15:07.263000+00:00                 <NA>                              NaN              <NA>                                   NaN                              NaT                             <NA>                        <NA>           <NA>      <NA>               NaN          NaN               NaN                                   NaN                         NaT            53787                  8 2013-08-03 00:00:00+00:00 2013-08-15 00:00:00+00:00 2013-08-10 00:00:00+00:00          5                True   10-4030-011279                    <NA>                     1               12018                 238                1             1199              821123Vi6096         2.29       0.18        0.06         2.53  AF88EE0A-6237-4380-9205-4236B747B5C9 2013-08-10 00:00:00+00:00                  50884                     None            1           873                  1          2.29                  0.00  97A5F5AD-3BA3-4BF2-ACF6-9C275D73EEE0 2013-08-03 00:00:00+00:00\n",
      "1               11279         2996        <NA>               1  724BCFAD-E4E9-443B-8DC4-BAA0D9C7B645 2014-09-12 11:15:07.263000+00:00                 <NA>                              NaN              <NA>                                   NaN                              NaT                             <NA>                        <NA>           <NA>      <NA>               NaN          NaN               NaN                                   NaN                         NaT            60671                  8 2013-11-22 00:00:00+00:00 2013-12-04 00:00:00+00:00 2013-11-29 00:00:00+00:00          5                True   10-4030-011279                    <NA>                     1               12018                 238                1             1199              829133Vi6096        42.28       3.38        1.06        46.72  3157978C-B166-4CA0-87E2-29D596623334 2013-11-29 00:00:00+00:00                  74472                     None            1           873                  1          2.29                  0.00  9881B575-951A-49A2-8D32-565DBFD5EFDD 2013-11-22 00:00:00+00:00\n",
      "2               11279         2996        <NA>               1  724BCFAD-E4E9-443B-8DC4-BAA0D9C7B645 2014-09-12 11:15:07.263000+00:00                 <NA>                              NaN              <NA>                                   NaN                              NaT                             <NA>                        <NA>           <NA>      <NA>               NaN          NaN               NaN                                   NaN                         NaT            60671                  8 2013-11-22 00:00:00+00:00 2013-12-04 00:00:00+00:00 2013-11-29 00:00:00+00:00          5                True   10-4030-011279                    <NA>                     1               12018                 238                1             1199              829133Vi6096        42.28       3.38        1.06        46.72  3157978C-B166-4CA0-87E2-29D596623334 2013-11-29 00:00:00+00:00                  74470                     None            1           930                  1         35.00                  0.00  03CF2C90-D59F-4FC2-8D9D-87983339D1C3 2013-11-22 00:00:00+00:00\n",
      "3               11279         2996        <NA>               1  724BCFAD-E4E9-443B-8DC4-BAA0D9C7B645 2014-09-12 11:15:07.263000+00:00                 <NA>                              NaN              <NA>                                   NaN                              NaT                             <NA>                        <NA>           <NA>      <NA>               NaN          NaN               NaN                                   NaN                         NaT            60671                  8 2013-11-22 00:00:00+00:00 2013-12-04 00:00:00+00:00 2013-11-29 00:00:00+00:00          5                True   10-4030-011279                    <NA>                     1               12018                 238                1             1199              829133Vi6096        42.28       3.38        1.06        46.72  3157978C-B166-4CA0-87E2-29D596623334 2013-11-29 00:00:00+00:00                  74471                     None            1           921                  1          4.99                  0.00  10E65198-E480-4EF8-922C-410FD59A5FB6 2013-11-22 00:00:00+00:00\n",
      "4               11302        13173        <NA>               1  64F830CC-A217-426B-A412-5897110AB74F 2014-09-12 11:15:07.263000+00:00                 <NA>                              NaN              <NA>                                   NaN                              NaT                             <NA>                        <NA>           <NA>      <NA>               NaN          NaN               NaN                                   NaN                         NaT            52147                  8 2013-07-05 00:00:00+00:00 2013-07-17 00:00:00+00:00 2013-07-12 00:00:00+00:00          5                True   10-4030-011302                    <NA>                     1               22243               22243                1             8371             737340Vi43354      2359.92     188.79       59.00      2607.71  51E27515-070B-4721-B518-9715F0E4382E 2013-07-12 00:00:00+00:00                  43558                     None            1           930                  1         35.00                  0.00  FFF354B5-1395-42D7-BF16-FEFD4CDD1926 2013-07-05 00:00:00+00:00\n",
      "...               ...          ...         ...             ...                                   ...                              ...                  ...                              ...               ...                                   ...                              ...                              ...                         ...            ...       ...               ...          ...               ...                                   ...                         ...              ...                ...                       ...                       ...                       ...        ...                 ...              ...                     ...                   ...                 ...                 ...              ...              ...                       ...          ...        ...         ...          ...                                   ...                       ...                    ...                      ...          ...           ...                ...           ...                   ...                                   ...                       ...\n",
      "122013             70         <NA>        1272              10  89E10B04-064E-4313-8203-91FA98A01B11 2014-09-12 11:15:07.263000+00:00                 1272  OUTDOOR AEROBIC SYSTEMS COMPANY               289  2C9D7F50-6431-4361-9843-0CF1601B23B9 2014-09-12 11:15:07.497000+00:00                              289                          10         250000      5150              0.02   4116871.23        1635823.40  25F6838D-9DB4-4833-9DDC-7A24283AF1BA   2012-05-23 00:00:00+00:00             <NA>               <NA>                       NaT                       NaT                       NaT       <NA>                <NA>              NaN                    <NA>                  <NA>                <NA>                <NA>             <NA>             <NA>                       NaN          NaN        NaN         NaN          NaN                                   NaN                       NaT                   <NA>                      NaN         <NA>          <NA>               <NA>           NaN                   NaN                                   NaN                       NaT\n",
      "122014            448         <NA>         856              10  722AEE8F-6B89-4712-BB35-6861AF3065CD 2014-09-12 11:15:07.263000+00:00                  856       ACTION BICYCLE SPECIALISTS               289  1D624DC8-9EBE-4ACB-81C8-90F0B474B64F 2014-09-12 11:15:07.497000+00:00                              289                          10         250000      5150              0.02   4116871.23        1635823.40  25F6838D-9DB4-4833-9DDC-7A24283AF1BA   2012-05-23 00:00:00+00:00             <NA>               <NA>                       NaT                       NaT                       NaT       <NA>                <NA>              NaN                    <NA>                  <NA>                <NA>                <NA>             <NA>             <NA>                       NaN          NaN        NaN         NaN          NaN                                   NaN                       NaT                   <NA>                      NaN         <NA>          <NA>               <NA>           NaN                   NaN                                   NaN                       NaT\n",
      "122015            304         <NA>        1484              10  C332C909-EE43-4312-A9D8-B2365A0160EA 2014-09-12 11:15:07.263000+00:00                 1484             ESSENTIAL BIKE WORKS               289  18887CC9-A503-4F5C-B054-FB6CCDF9F56D 2014-09-12 11:15:07.497000+00:00                              289                          10         250000      5150              0.02   4116871.23        1635823.40  25F6838D-9DB4-4833-9DDC-7A24283AF1BA   2012-05-23 00:00:00+00:00             <NA>               <NA>                       NaT                       NaT                       NaT       <NA>                <NA>              NaN                    <NA>                  <NA>                <NA>                <NA>             <NA>             <NA>                       NaN          NaN        NaN         NaN          NaN                                   NaN                       NaT                   <NA>                      NaN         <NA>          <NA>               <NA>           NaN                   NaN                                   NaN                       NaT\n",
      "122016            520         <NA>         596              10  34C094D7-8C79-47A5-B192-9597826BD55D 2014-09-12 11:15:07.263000+00:00                  596                 METRO METALS CO.               289  FA71E13B-B051-4F12-A280-F69ECD6AF1DB 2014-09-12 11:15:07.497000+00:00                              289                          10         250000      5150              0.02   4116871.23        1635823.40  25F6838D-9DB4-4833-9DDC-7A24283AF1BA   2012-05-23 00:00:00+00:00             <NA>               <NA>                       NaT                       NaT                       NaT       <NA>                <NA>              NaN                    <NA>                  <NA>                <NA>                <NA>             <NA>             <NA>                       NaN          NaN        NaN         NaN          NaN                                   NaN                       NaT                   <NA>                      NaN         <NA>          <NA>               <NA>           NaN                   NaN                                   NaN                       NaT\n",
      "122017            322         <NA>        1472              10  1C56E02D-69F4-4C0D-965B-2B7F54AA0A34 2014-09-12 11:15:07.263000+00:00                 1472      TACHOMETERS AND ACCESSORIES               289  9E86D886-AE40-492A-960C-376F1102AA68 2014-09-12 11:15:07.497000+00:00                              289                          10         250000      5150              0.02   4116871.23        1635823.40  25F6838D-9DB4-4833-9DDC-7A24283AF1BA   2012-05-23 00:00:00+00:00             <NA>               <NA>                       NaT                       NaT                       NaT       <NA>                <NA>              NaN                    <NA>                  <NA>                <NA>                <NA>             <NA>             <NA>                       NaN          NaN        NaN         NaN          NaN                                   NaN                       NaT                   <NA>                      NaN         <NA>          <NA>               <NA>           NaN                   NaN                                   NaN                       NaT\n",
      "\n",
      "[122018 rows x 50 columns]\n"
     ]
    }
   ],
   "source": [
    "\n",
    "# Merge 4: Pedido + Detalhes do Pedido\n",
    "df_order_details = pd.merge(\n",
    "    df_customer_store_salesperson_order,\n",
    "    df_processados['stg_sales_salesorderdetail'],\n",
    "    left_on='salesorderid_id',\n",
    "    right_on='salesorderid_id',\n",
    "    how='left',\n",
    "    suffixes=('', '_details')\n",
    ")\n",
    "print(df_order_details)"
   ]
  },
  {
   "cell_type": "code",
   "execution_count": 10,
   "metadata": {},
   "outputs": [
    {
     "name": "stdout",
     "output_type": "stream",
     "text": [
      "Dimensão do dataset final: (122018, 73)\n",
      "   customerid_id  personid_id  storeid_id  territoryid_id                          rowguid_desc                  modifieddate_dt  businessentityid_id store_nm  salespersonid_id rowguid_desc_store modifieddate_dt_store  businessentityid_id_salesperson  territoryid_id_salesperson  salesquota_nr  bonus_vr  commissionpct_vr  salesytd_vr  saleslastyear_vr rowguid_desc_salesperson modifieddate_dt_salesperson  salesorderid_id  revisionnumber_cd              orderdate_dt                duedate_dt               shipdate_dt  status_st  onlineorderflag_fl accountnumber_cd  salespersonid_id_order  territoryid_id_order  billtoaddressid_id  shiptoaddressid_id  shipmethodid_id  creditcardid_id creditcardapprovalcode_cd  subtotal_vr  taxamt_vr  freight_vr  totaldue_vr                    rowguid_desc_order     modifieddate_dt_order  salesorderdetailid_id carriertrackingnumber_cd  orderqty_qt  productid_id  specialofferid_id  unitprice_vr  unitpricediscount_vr                  rowguid_desc_details   modifieddate_dt_details           product_nm productnumber_cd  makeflag_fl  finishedgoodsflag_fl color_tp  safetystocklevel_nr  reorderpoint_tp  standardcost_vr  listprice_vr size_tp sizeunitmeasurecode_cd weightunitmeasurecode_cd  weight_tp  daystomanufacture_nr productline_tp class_tp style_tp  productsubcategoryid_id  productmodelid_id          sellstartdate_dt sellenddate_dt                  rowguid_desc_product          modifieddate_dt_product\n",
      "0          11279         2996        <NA>               1  724BCFAD-E4E9-443B-8DC4-BAA0D9C7B645 2014-09-12 11:15:07.263000+00:00                 <NA>      NaN              <NA>                NaN                   NaT                             <NA>                        <NA>           <NA>      <NA>               NaN          NaN               NaN                      NaN                         NaT            53787                  8 2013-08-03 00:00:00+00:00 2013-08-15 00:00:00+00:00 2013-08-10 00:00:00+00:00          5                True   10-4030-011279                    <NA>                     1               12018                 238                1             1199              821123Vi6096         2.29       0.18        0.06         2.53  AF88EE0A-6237-4380-9205-4236B747B5C9 2013-08-10 00:00:00+00:00                  50884                     None            1           873                  1          2.29                  0.00  97A5F5AD-3BA3-4BF2-ACF6-9C275D73EEE0 2013-08-03 00:00:00+00:00  PATCH KIT/8 PATCHES          PK-7098        False                  True     None                    4                3             0.86          2.29    None                   None                     None        NaN                     0              S     None     None                       37                114 2013-05-30 00:00:00+00:00            NaT  36E638E4-68DF-411B-930A-DAAD57221AA6 2014-02-08 10:01:36.827000+00:00\n",
      "1          11279         2996        <NA>               1  724BCFAD-E4E9-443B-8DC4-BAA0D9C7B645 2014-09-12 11:15:07.263000+00:00                 <NA>      NaN              <NA>                NaN                   NaT                             <NA>                        <NA>           <NA>      <NA>               NaN          NaN               NaN                      NaN                         NaT            60671                  8 2013-11-22 00:00:00+00:00 2013-12-04 00:00:00+00:00 2013-11-29 00:00:00+00:00          5                True   10-4030-011279                    <NA>                     1               12018                 238                1             1199              829133Vi6096        42.28       3.38        1.06        46.72  3157978C-B166-4CA0-87E2-29D596623334 2013-11-29 00:00:00+00:00                  74472                     None            1           873                  1          2.29                  0.00  9881B575-951A-49A2-8D32-565DBFD5EFDD 2013-11-22 00:00:00+00:00  PATCH KIT/8 PATCHES          PK-7098        False                  True     None                    4                3             0.86          2.29    None                   None                     None        NaN                     0              S     None     None                       37                114 2013-05-30 00:00:00+00:00            NaT  36E638E4-68DF-411B-930A-DAAD57221AA6 2014-02-08 10:01:36.827000+00:00\n",
      "2          11279         2996        <NA>               1  724BCFAD-E4E9-443B-8DC4-BAA0D9C7B645 2014-09-12 11:15:07.263000+00:00                 <NA>      NaN              <NA>                NaN                   NaT                             <NA>                        <NA>           <NA>      <NA>               NaN          NaN               NaN                      NaN                         NaT            60671                  8 2013-11-22 00:00:00+00:00 2013-12-04 00:00:00+00:00 2013-11-29 00:00:00+00:00          5                True   10-4030-011279                    <NA>                     1               12018                 238                1             1199              829133Vi6096        42.28       3.38        1.06        46.72  3157978C-B166-4CA0-87E2-29D596623334 2013-11-29 00:00:00+00:00                  74470                     None            1           930                  1         35.00                  0.00  03CF2C90-D59F-4FC2-8D9D-87983339D1C3 2013-11-22 00:00:00+00:00     HL MOUNTAIN TIRE          TI-M823        False                  True     None                  500              375            13.09         35.00    None                   None                     None        NaN                     0              M        H     None                       37                 87 2013-05-30 00:00:00+00:00            NaT  DDAD25F5-0445-4B5C-8466-6446930AD8B8 2014-02-08 10:01:36.827000+00:00\n",
      "3          11279         2996        <NA>               1  724BCFAD-E4E9-443B-8DC4-BAA0D9C7B645 2014-09-12 11:15:07.263000+00:00                 <NA>      NaN              <NA>                NaN                   NaT                             <NA>                        <NA>           <NA>      <NA>               NaN          NaN               NaN                      NaN                         NaT            60671                  8 2013-11-22 00:00:00+00:00 2013-12-04 00:00:00+00:00 2013-11-29 00:00:00+00:00          5                True   10-4030-011279                    <NA>                     1               12018                 238                1             1199              829133Vi6096        42.28       3.38        1.06        46.72  3157978C-B166-4CA0-87E2-29D596623334 2013-11-29 00:00:00+00:00                  74471                     None            1           921                  1          4.99                  0.00  10E65198-E480-4EF8-922C-410FD59A5FB6 2013-11-22 00:00:00+00:00   MOUNTAIN TIRE TUBE          TT-M928        False                  True     None                  500              375             1.87          4.99    None                   None                     None        NaN                     0              M     None     None                       37                 92 2013-05-30 00:00:00+00:00            NaT  01A8C3FC-ED52-458E-A634-D5B6E2ACCFED 2014-02-08 10:01:36.827000+00:00\n",
      "4          11302        13173        <NA>               1  64F830CC-A217-426B-A412-5897110AB74F 2014-09-12 11:15:07.263000+00:00                 <NA>      NaN              <NA>                NaN                   NaT                             <NA>                        <NA>           <NA>      <NA>               NaN          NaN               NaN                      NaN                         NaT            52147                  8 2013-07-05 00:00:00+00:00 2013-07-17 00:00:00+00:00 2013-07-12 00:00:00+00:00          5                True   10-4030-011302                    <NA>                     1               22243               22243                1             8371             737340Vi43354      2359.92     188.79       59.00      2607.71  51E27515-070B-4721-B518-9715F0E4382E 2013-07-12 00:00:00+00:00                  43558                     None            1           930                  1         35.00                  0.00  FFF354B5-1395-42D7-BF16-FEFD4CDD1926 2013-07-05 00:00:00+00:00     HL MOUNTAIN TIRE          TI-M823        False                  True     None                  500              375            13.09         35.00    None                   None                     None        NaN                     0              M        H     None                       37                 87 2013-05-30 00:00:00+00:00            NaT  DDAD25F5-0445-4B5C-8466-6446930AD8B8 2014-02-08 10:01:36.827000+00:00\n"
     ]
    }
   ],
   "source": [
    "\n",
    "# Merge 5: Detalhes + Produto\n",
    "df_final = pd.merge(\n",
    "    df_order_details,\n",
    "    df_processados['stg_production_product'],\n",
    "    left_on='productid_id',\n",
    "    right_on='productid_id',\n",
    "    how='left',\n",
    "    suffixes=('', '_product')\n",
    ")\n",
    "\n",
    "print(f\"Dimensão do dataset final: {df_final.shape}\")\n",
    "print(df_final.head())"
   ]
  },
  {
   "cell_type": "code",
   "execution_count": 11,
   "metadata": {},
   "outputs": [
    {
     "name": "stdout",
     "output_type": "stream",
     "text": [
      "Index(['customerid_id', 'personid_id', 'storeid_id', 'territoryid_id', 'rowguid_desc', 'modifieddate_dt'], dtype='object')\n"
     ]
    }
   ],
   "source": [
    "# Listar as colunas disponíveis no DataFrame\n",
    "print(df.columns)"
   ]
  },
  {
   "cell_type": "code",
   "execution_count": 12,
   "metadata": {},
   "outputs": [
    {
     "name": "stdout",
     "output_type": "stream",
     "text": [
      "Dimensão do dataset após seleção de colunas: (122018, 7)\n",
      "   orderqty_qt  productid_id  storeid_id  listprice_vr  salesytd_vr  standardcost_vr  territoryid_id\n",
      "0            1           873        <NA>          2.29          NaN             0.86               1\n",
      "1            1           873        <NA>          2.29          NaN             0.86               1\n",
      "2            1           930        <NA>         35.00          NaN            13.09               1\n",
      "3            1           921        <NA>          4.99          NaN             1.87               1\n",
      "4            1           930        <NA>         35.00          NaN            13.09               1\n"
     ]
    }
   ],
   "source": [
    "# Seleção das colunas relevantes\n",
    "selected_columns = [\n",
    "    'orderqty_qt', 'productid_id', 'storeid_id', \n",
    "    'listprice_vr', 'salesytd_vr', 'standardcost_vr', 'territoryid_id'\n",
    "]\n",
    "data_selected = df_final[selected_columns]\n",
    "\n",
    "\n",
    "print(f\"Dimensão do dataset após seleção de colunas: {data_selected.shape}\")\n",
    "print(data_selected.head())"
   ]
  },
  {
   "cell_type": "code",
   "execution_count": 13,
   "metadata": {},
   "outputs": [
    {
     "name": "stdout",
     "output_type": "stream",
     "text": [
      "Valores ausentes por coluna:\n",
      "orderqty_qt          701\n",
      "productid_id         701\n",
      "storeid_id         60398\n",
      "listprice_vr         701\n",
      "salesytd_vr        60398\n",
      "standardcost_vr      701\n",
      "territoryid_id         0\n",
      "dtype: int64\n"
     ]
    }
   ],
   "source": [
    "# valores ausentes\n",
    "missing_values = data_selected.isnull().sum()\n",
    "print(\"Valores ausentes por coluna:\")\n",
    "print(missing_values)"
   ]
  },
  {
   "cell_type": "code",
   "execution_count": 14,
   "metadata": {},
   "outputs": [
    {
     "name": "stdout",
     "output_type": "stream",
     "text": [
      "        orderqty_qt  productid_id  storeid_id  listprice_vr  salesytd_vr  standardcost_vr  territoryid_id\n",
      "0                 1           873        <NA>          2.29          NaN             0.86               1\n",
      "1                 1           873        <NA>          2.29          NaN             0.86               1\n",
      "2                 1           930        <NA>         35.00          NaN            13.09               1\n",
      "3                 1           921        <NA>          4.99          NaN             1.87               1\n",
      "4                 1           930        <NA>         35.00          NaN            13.09               1\n",
      "...             ...           ...         ...           ...          ...              ...             ...\n",
      "122013         <NA>          <NA>        1272           NaN   4116871.23              NaN              10\n",
      "122014         <NA>          <NA>         856           NaN   4116871.23              NaN              10\n",
      "122015         <NA>          <NA>        1484           NaN   4116871.23              NaN              10\n",
      "122016         <NA>          <NA>         596           NaN   4116871.23              NaN              10\n",
      "122017         <NA>          <NA>        1472           NaN   4116871.23              NaN              10\n",
      "\n",
      "[122018 rows x 7 columns]\n"
     ]
    }
   ],
   "source": [
    "# colunas relevantes\n",
    "selected_columns = [\n",
    "    'orderqty_qt', 'productid_id', 'storeid_id', \n",
    "    'listprice_vr', 'salesytd_vr', 'standardcost_vr', 'territoryid_id'\n",
    "]\n",
    "data_selected = df_final[selected_columns]\n",
    "\n",
    "print(data_selected)"
   ]
  },
  {
   "cell_type": "code",
   "execution_count": 15,
   "metadata": {},
   "outputs": [
    {
     "name": "stderr",
     "output_type": "stream",
     "text": [
      "C:\\Users\\wrpen\\AppData\\Local\\Temp\\ipykernel_73368\\2530634158.py:5: SettingWithCopyWarning: \n",
      "A value is trying to be set on a copy of a slice from a DataFrame.\n",
      "Try using .loc[row_indexer,col_indexer] = value instead\n",
      "\n",
      "See the caveats in the documentation: https://pandas.pydata.org/pandas-docs/stable/user_guide/indexing.html#returning-a-view-versus-a-copy\n",
      "  data_selected[col] = data_selected[col].fillna(median_value)\n",
      "C:\\Users\\wrpen\\AppData\\Local\\Temp\\ipykernel_73368\\2530634158.py:5: SettingWithCopyWarning: \n",
      "A value is trying to be set on a copy of a slice from a DataFrame.\n",
      "Try using .loc[row_indexer,col_indexer] = value instead\n",
      "\n",
      "See the caveats in the documentation: https://pandas.pydata.org/pandas-docs/stable/user_guide/indexing.html#returning-a-view-versus-a-copy\n",
      "  data_selected[col] = data_selected[col].fillna(median_value)\n",
      "C:\\Users\\wrpen\\AppData\\Local\\Temp\\ipykernel_73368\\2530634158.py:5: SettingWithCopyWarning: \n",
      "A value is trying to be set on a copy of a slice from a DataFrame.\n",
      "Try using .loc[row_indexer,col_indexer] = value instead\n",
      "\n",
      "See the caveats in the documentation: https://pandas.pydata.org/pandas-docs/stable/user_guide/indexing.html#returning-a-view-versus-a-copy\n",
      "  data_selected[col] = data_selected[col].fillna(median_value)\n",
      "C:\\Users\\wrpen\\AppData\\Local\\Temp\\ipykernel_73368\\2530634158.py:5: SettingWithCopyWarning: \n",
      "A value is trying to be set on a copy of a slice from a DataFrame.\n",
      "Try using .loc[row_indexer,col_indexer] = value instead\n",
      "\n",
      "See the caveats in the documentation: https://pandas.pydata.org/pandas-docs/stable/user_guide/indexing.html#returning-a-view-versus-a-copy\n",
      "  data_selected[col] = data_selected[col].fillna(median_value)\n"
     ]
    }
   ],
   "source": [
    "# preencher valores ausentes numéricos com a mediana\n",
    "columns_to_fill = ['orderqty_qt', 'listprice_vr', 'salesytd_vr', 'standardcost_vr']\n",
    "for col in columns_to_fill:\n",
    "    median_value = data_selected[col].median()\n",
    "    data_selected[col] = data_selected[col].fillna(median_value)"
   ]
  },
  {
   "cell_type": "code",
   "execution_count": 16,
   "metadata": {},
   "outputs": [
    {
     "name": "stderr",
     "output_type": "stream",
     "text": [
      "C:\\Users\\wrpen\\AppData\\Local\\Temp\\ipykernel_73368\\3894906654.py:2: SettingWithCopyWarning: \n",
      "A value is trying to be set on a copy of a slice from a DataFrame.\n",
      "Try using .loc[row_indexer,col_indexer] = value instead\n",
      "\n",
      "See the caveats in the documentation: https://pandas.pydata.org/pandas-docs/stable/user_guide/indexing.html#returning-a-view-versus-a-copy\n",
      "  data_selected['storeid_id'] = data_selected['storeid_id'].fillna(0)\n"
     ]
    }
   ],
   "source": [
    "# Preencher valores ausentes categóricos com 'Desconhecido' ou equivalente\n",
    "data_selected['storeid_id'] = data_selected['storeid_id'].fillna(0)"
   ]
  },
  {
   "cell_type": "code",
   "execution_count": 17,
   "metadata": {},
   "outputs": [
    {
     "name": "stdout",
     "output_type": "stream",
     "text": [
      "Valores ausentes por coluna após a limpeza:\n",
      "orderqty_qt          0\n",
      "productid_id       701\n",
      "storeid_id           0\n",
      "listprice_vr         0\n",
      "salesytd_vr          0\n",
      "standardcost_vr      0\n",
      "territoryid_id       0\n",
      "dtype: int64\n"
     ]
    }
   ],
   "source": [
    "# valores ausentes após limpeza\n",
    "print(\"Valores ausentes por coluna após a limpeza:\")\n",
    "print(data_selected.isnull().sum())"
   ]
  },
  {
   "cell_type": "code",
   "execution_count": 18,
   "metadata": {},
   "outputs": [
    {
     "name": "stdout",
     "output_type": "stream",
     "text": [
      "Valores únicos em 'productid_id':\n",
      "productid_id\n",
      "870    4688\n",
      "712    3382\n",
      "873    3354\n",
      "921    3095\n",
      "711    3090\n",
      "       ... \n",
      "927       9\n",
      "943       6\n",
      "911       6\n",
      "942       5\n",
      "897       2\n",
      "Name: count, Length: 266, dtype: Int64\n",
      "\n",
      "Percentual de valores ausentes: 0.57%\n",
      "\n",
      "Resumo estatístico dos dados quando 'productid_id' está ausente:\n",
      "       orderqty_qt  productid_id  storeid_id  listprice_vr  salesytd_vr  standardcost_vr  territoryid_id\n",
      "count       701.00          0.00      701.00        701.00       701.00           701.00          701.00\n",
      "mean          1.00          <NA>     1035.88         63.50   2651861.45            38.49            4.83\n",
      "std           0.00          <NA>      477.74          0.00    908084.70             0.00            2.57\n",
      "min           1.00          <NA>      292.00         63.50   1352577.13            38.49            1.00\n",
      "25%           1.00          <NA>      642.00         63.50   1827066.71            38.49            3.00\n",
      "50%           1.00          <NA>      992.00         63.50   2458535.62            38.49            5.00\n",
      "75%           1.00          <NA>     1342.00         63.50   3189418.37            38.49            6.00\n",
      "max           1.00          <NA>     2051.00         63.50   4251368.55            38.49           10.00\n",
      "\n",
      "Resumo estatístico dos dados quando 'productid_id' não está ausente:\n",
      "       orderqty_qt  productid_id  storeid_id  listprice_vr  salesytd_vr  standardcost_vr  territoryid_id\n",
      "count    121317.00     121317.00   121317.00     121317.00    121317.00        121317.00       121317.00\n",
      "mean          2.27        841.68      526.03        633.67   2670007.04           373.69            5.41\n",
      "std           2.49         86.45      627.14        931.17    616325.04           554.11            2.84\n",
      "min           1.00        707.00        0.00          2.29   1352577.13             0.86            1.00\n",
      "25%           1.00        768.00        0.00         24.49   2604540.72             9.16            4.00\n",
      "50%           1.00        863.00      294.00         63.50   2604540.72            38.49            6.00\n",
      "75%           3.00        921.00      982.00        782.99   2604540.72           486.71            8.00\n",
      "max          44.00        999.00     1994.00       3578.27   4251368.55          2171.29           10.00\n"
     ]
    }
   ],
   "source": [
    "# valores únicos na coluna\n",
    "unique_values = data_selected['productid_id'].value_counts()\n",
    "print(\"Valores únicos em 'productid_id':\")\n",
    "print(unique_values)\n",
    "\n",
    "# proporção de valores ausentes\n",
    "total_rows = data_selected.shape[0]\n",
    "missing_productid = data_selected['productid_id'].isnull().sum()\n",
    "missing_percentage = (missing_productid / total_rows) * 100\n",
    "print(f\"\\nPercentual de valores ausentes: {missing_percentage:.2f}%\")\n",
    "\n",
    "# relação com outras colunas\n",
    "print(\"\\nResumo estatístico dos dados quando 'productid_id' está ausente:\")\n",
    "print(data_selected[data_selected['productid_id'].isnull()].describe())\n",
    "\n",
    "print(\"\\nResumo estatístico dos dados quando 'productid_id' não está ausente:\")\n",
    "print(data_selected[data_selected['productid_id'].notnull()].describe())\n"
   ]
  },
  {
   "cell_type": "code",
   "execution_count": 19,
   "metadata": {},
   "outputs": [],
   "source": [
    "#doc:\n",
    "\n",
    "# Análise dos Resultados\n",
    "# Valores únicos em productid_id: existem 266 produtos únicos, com alguns produtos dominando a distribuição (id = 870 com 4688 ocorrências), indicando que os dados têm boa diversidade, \n",
    "# mas alguns produtos aparecem significativamente mais vezes.\n",
    "\n",
    "# % de valores ausentes: apenas 0,57% dos valores estão ausentes na coluna, o que é insignificante em relação ao tamanho total do dataset (122.018 linhas).\n",
    "# Esse baixo percentual sugere que podemos optar por ignorar essas linhas sem perder muita informação.\n",
    "\n",
    "# Resumo dos dados quando productid_id está ausente: todas as linhas com productid_id ausente têm valores fixos em listprice_vr (63.50) e standardcost_vr (38.49), \n",
    "# indicando que essas linhas podem ser menos informativas. Essas linhas estão concentradas em poucas lojas (storeid_id varia entre 292 e 2051) e \n",
    "# territórios (territoryid_id varia de 1 a 10). Orderqty_qt é constante com valor 1, o que pode limitar a utilidade dessas linhas para análise de demanda.\n",
    "\n",
    "# Resumo dos dados quando productid_id não está ausente: dados mais ricos e variados, com maior dispersão em métricas como orderqty_qt, listprice_vr, e \n",
    "# standardcost_vr. Estes dados possuem mais valor analítico, especialmente para um modelo de previsão.\n",
    "\n",
    "# Decisão\n",
    "# Dado o baixo percentual de valores ausentes e a limitada utilidade das linhas onde productid_id está ausente, optei em remover essas linhas para \n",
    "# simplificar o modelo e focar em dados mais completos e ricos."
   ]
  },
  {
   "cell_type": "code",
   "execution_count": 20,
   "metadata": {},
   "outputs": [
    {
     "name": "stdout",
     "output_type": "stream",
     "text": [
      "Dimensão do dataset após remoção de valores ausentes em 'productid_id': (121317, 7)\n",
      "Valores ausentes por coluna após a limpeza:\n",
      "orderqty_qt        0\n",
      "productid_id       0\n",
      "storeid_id         0\n",
      "listprice_vr       0\n",
      "salesytd_vr        0\n",
      "standardcost_vr    0\n",
      "territoryid_id     0\n",
      "dtype: int64\n"
     ]
    }
   ],
   "source": [
    "# Remover linhas onde 'productid_id' está ausente\n",
    "data_cleaned = data_selected.dropna(subset=['productid_id'])\n",
    "\n",
    "print(f\"Dimensão do dataset após remoção de valores ausentes em 'productid_id': {data_cleaned.shape}\")\n",
    "print(\"Valores ausentes por coluna após a limpeza:\")\n",
    "print(data_cleaned.isnull().sum())"
   ]
  },
  {
   "cell_type": "code",
   "execution_count": 21,
   "metadata": {},
   "outputs": [
    {
     "name": "stdout",
     "output_type": "stream",
     "text": [
      "Dimensão do regression_dataset: (121317, 7)\n",
      "Valores ausentes por coluna no regression_dataset:\n",
      "orderqty_qt        0\n",
      "productid_id       0\n",
      "storeid_id         0\n",
      "listprice_vr       0\n",
      "salesytd_vr        0\n",
      "standardcost_vr    0\n",
      "territoryid_id     0\n",
      "dtype: int64\n"
     ]
    }
   ],
   "source": [
    "# Renomear o dataset\n",
    "regression_dataset = data_cleaned\n",
    "\n",
    "print(f\"Dimensão do regression_dataset: {regression_dataset.shape}\")\n",
    "print(\"Valores ausentes por coluna no regression_dataset:\")\n",
    "print(regression_dataset.isnull().sum())\n"
   ]
  },
  {
   "cell_type": "code",
   "execution_count": 22,
   "metadata": {},
   "outputs": [
    {
     "data": {
      "image/png": "[encoded data removed]",
      "text/plain": [
       "<Figure size 800x500 with 1 Axes>"
      ]
     },
     "metadata": {},
     "output_type": "display_data"
    }
   ],
   "source": [
    "# Boxplot para identificar outliers em 'orderqty_qt'\n",
    "plt.figure(figsize=(8, 5))\n",
    "sns.boxplot(x=regression_dataset['orderqty_qt'])\n",
    "plt.title('Boxplot da variável dependente (orderqty_qt)')\n",
    "plt.xlabel('Quantidade de pedidos (orderqty_qt)')\n",
    "plt.show()\n"
   ]
  },
  {
   "cell_type": "code",
   "execution_count": 23,
   "metadata": {},
   "outputs": [],
   "source": [
    "# O gráfico boxplot mostra que a variável 'orderqty_qt' possui vários valores considerados como outliers, valores estes que estão muito acima da maioria dos dados, \n",
    "# indicando pedidos com quantidades significativamente maiores.\n",
    "\n",
    "# Isso é muito comum quando se trata de banco de dados de vendas, onde existem pedidos excepcionais de grandes quantidades. Porém, esses outliers podem \n",
    "# impactar negativamente na performance do modelo de regressão."
   ]
  },
  {
   "cell_type": "code",
   "execution_count": 24,
   "metadata": {},
   "outputs": [
    {
     "name": "stdout",
     "output_type": "stream",
     "text": [
      "Dimensão do dataset após remoção de outliers: (114390, 7)\n"
     ]
    }
   ],
   "source": [
    "# Para tratar os outliers; calcular os limites usando o IQR (Intervalo Interquartil)*\n",
    "\n",
    "# IQR\n",
    "Q1 = regression_dataset['orderqty_qt'].quantile(0.25)\n",
    "Q3 = regression_dataset['orderqty_qt'].quantile(0.75)\n",
    "IQR = Q3 - Q1\n",
    "\n",
    "# limites\n",
    "lower_limit = Q1 - 1.5 * IQR\n",
    "upper_limit = Q3 + 1.5 * IQR\n",
    "\n",
    "# filtrar os dados dentro dos limites\n",
    "regression_dataset_no_outliers = regression_dataset[\n",
    "    (regression_dataset['orderqty_qt'] >= lower_limit) & \n",
    "    (regression_dataset['orderqty_qt'] <= upper_limit)\n",
    "]\n",
    "\n",
    "\n",
    "print(f\"Dimensão do dataset após remoção de outliers: {regression_dataset_no_outliers.shape}\")\n",
    "\n",
    "\n",
    "#doc*: valores fora do intervalo [Q1 - 1.5 * IQR, Q3 + 1.5 * IQR] serão considerados outliers e removidos\n"
   ]
  },
  {
   "cell_type": "markdown",
   "metadata": {},
   "source": [
    "# resposta questão 10"
   ]
  },
  {
   "cell_type": "markdown",
   "metadata": {},
   "source": []
  },
  {
   "cell_type": "code",
   "execution_count": 25,
   "metadata": {},
   "outputs": [],
   "source": [
    "# Carrega o .env: onde estão as credenciais do projeto/repositório\n",
    "load_dotenv(\"/mnt/c/Users/wrpen/OneDrive/Desktop/df_lh/.env\")\n",
    "\n",
    "# Detectar ambiente: como eu estou usando wsl-ubuntu, no VS Code  -  Windows, estava dando conflitos de path\n",
    "if os.name == \"nt\":  # se Windows\n",
    "    credentials_path = r\"C:\\Temp\\desafiolh-445818-3cb0f62cb9ef.json\"\n",
    "else:  # se WSL/Linux\n",
    "    credentials_path = \"/mnt/c/Temp/desafiolh-445818-3cb0f62cb9ef.json\"\n",
    "\n",
    "# Parâmetros injetados pelo Papermill ou definidos manualmente, caso não existam no ambiente\n",
    "# Tables_to_process: lista de tabelas que serão processadas\n",
    "# Output_dataset: nome do dataset onde os dados processados serão armazenados, neste caso, raw_data_cleaned\n",
    "if 'tables_to_process' not in locals():\n",
    "    tables_to_process = [\n",
    "        \"desafioadventureworks-446600.stg_staging_tables.stg_sales_salesterritory\"\n",
    "    ]\n",
    "\n",
    "if 'output_dataset' not in locals():\n",
    "    output_dataset = \"desafioadventureworks-446600.stg_marts_tables\"\n",
    "\n",
    "# Configs do cliente BigQuery: input de project e location de acordo com dados no Bigquery\n",
    "credentials = service_account.Credentials.from_service_account_file(credentials_path)\n",
    "client = bigquery.Client(credentials=credentials, project=os.getenv(\"BIGQUERY_PROJECT\"), location=\"us-central1\")\n"
   ]
  },
  {
   "cell_type": "code",
   "execution_count": 26,
   "metadata": {},
   "outputs": [
    {
     "name": "stdout",
     "output_type": "stream",
     "text": [
      "Processando tabela: desafioadventureworks-446600.stg_staging_tables.stg_sales_salesterritory\n",
      "Tabela stg_sales_salesterritory carregada com sucesso.\n"
     ]
    }
   ],
   "source": [
    "# Nome da tabela desejada\n",
    "desired_table = \"desafioadventureworks-446600.stg_staging_tables.stg_sales_salesterritory\"\n",
    "\n",
    "# Nome ajustado para armazenamento no dicionário\n",
    "table_name = desired_table.split(\".\")[-1].replace(\"-\", \"_\")\n",
    "\n",
    "print(f\"Processando tabela: {desired_table}\")\n",
    "query = f\"SELECT * FROM `{desired_table}`\"\n",
    "stg_sales_salesterritory = client.query(query).to_dataframe()\n",
    "\n",
    "print(f\"Tabela {table_name} carregada com sucesso.\")"
   ]
  },
  {
   "cell_type": "code",
   "execution_count": 27,
   "metadata": {},
   "outputs": [
    {
     "name": "stdout",
     "output_type": "stream",
     "text": [
      "   territoryid_id    territory_nm countryregioncode_cd territory_group_tp  salesytd_vr  saleslastyear_vr                          rowguid_desc           modifieddate_dt\n",
      "0               9       AUSTRALIA                   AU              group         5.98              2.28  602E612E-DFE9-41D9-B894-27E489747885 2008-04-30 00:00:00+00:00\n",
      "1               6          CANADA                   CA              group         6.77              5.69  06B4AF8A-1639-476E-9266-110461D66B00 2008-04-30 00:00:00+00:00\n",
      "2               8         GERMANY                   DE              group         3.81              1.31  6D2450DB-8159-414F-A917-E73EE91C38A9 2008-04-30 00:00:00+00:00\n",
      "3               7          FRANCE                   FR              group         4.77              2.40  BF806804-9B4C-4B07-9D19-706F2E689552 2008-04-30 00:00:00+00:00\n",
      "4              10  UNITED KINGDOM                   GB              group         5.01              1.64  05FC7E1F-2DEA-414E-9ECD-09D150516FB5 2008-04-30 00:00:00+00:00\n",
      "5               2       NORTHEAST                   US              group         2.40              3.61  00FB7309-96CC-49E2-8363-0A1BA72486F2 2008-04-30 00:00:00+00:00\n",
      "6               4       SOUTHWEST                   US              group        10.51              5.37  DC3E9EA0-7950-4431-9428-99DBCBC33865 2008-04-30 00:00:00+00:00\n",
      "7               3         CENTRAL                   US              group         3.07              3.21  DF6E7FD8-1A8D-468C-B103-ED8ADDB452C1 2008-04-30 00:00:00+00:00\n",
      "8               1       NORTHWEST                   US              group         7.89              3.30  43689A10-E30B-497F-B0DE-11DE20267FF7 2008-04-30 00:00:00+00:00\n",
      "9               5       SOUTHEAST                   US              group         2.54              3.93  6DC4165A-5E4C-42D2-809D-4344E0AC75E7 2008-04-30 00:00:00+00:00\n",
      "\n",
      "Colunas na tabela:\n",
      "Index(['territoryid_id', 'territory_nm', 'countryregioncode_cd', 'territory_group_tp', 'salesytd_vr', 'saleslastyear_vr', 'rowguid_desc', 'modifieddate_dt'], dtype='object')\n"
     ]
    }
   ],
   "source": [
    "print(stg_sales_salesterritory.head(20))\n",
    "\n",
    "# Listar as colunas da tabela carregada\n",
    "print(\"\\nColunas na tabela:\")\n",
    "print(stg_sales_salesterritory.columns)"
   ]
  },
  {
   "cell_type": "code",
   "execution_count": 28,
   "metadata": {},
   "outputs": [
    {
     "name": "stdout",
     "output_type": "stream",
     "text": [
      "Dimensão dos dados - EUA: (60153, 7)\n",
      "Dimensão dos dados - Mundo: (61164, 7)\n"
     ]
    }
   ],
   "source": [
    "#  territórios dos EUA e do mundo\n",
    "us_territories = [1, 2, 3, 4, 5]  # territórios representando regiões nos EUA\n",
    "world_territories = [6, 7, 8, 9, 10]  # territórios representando países no resto do mundo\n",
    "\n",
    "# Separar os dados em dois grupos\n",
    "us_data = regression_dataset[regression_dataset['territoryid_id'].isin(us_territories)]\n",
    "world_data = regression_dataset[regression_dataset['territoryid_id'].isin(world_territories)]\n",
    "\n",
    "print(f\"Dimensão dos dados - EUA: {us_data.shape}\")\n",
    "print(f\"Dimensão dos dados - Mundo: {world_data.shape}\")\n"
   ]
  },
  {
   "cell_type": "code",
   "execution_count": 29,
   "metadata": {},
   "outputs": [
    {
     "name": "stdout",
     "output_type": "stream",
     "text": [
      "Modelo treinado com sucesso.\n"
     ]
    }
   ],
   "source": [
    "from sklearn.linear_model import LinearRegression\n",
    "\n",
    "# Definir as features e o target\n",
    "feature_columns = ['productid_id', 'storeid_id', 'listprice_vr', 'salesytd_vr', 'standardcost_vr', 'territoryid_id']\n",
    "X = regression_dataset[feature_columns]\n",
    "y = regression_dataset['orderqty_qt']\n",
    "\n",
    "# Treinar o modelo de regressão linear\n",
    "model = LinearRegression()\n",
    "model.fit(X, y)\n",
    "\n",
    "print(\"Modelo treinado com sucesso.\")\n"
   ]
  },
  {
   "cell_type": "code",
   "execution_count": 30,
   "metadata": {},
   "outputs": [
    {
     "name": "stdout",
     "output_type": "stream",
     "text": [
      "Demanda prevista total - EUA: 155145.6227442541\n",
      "Demanda prevista total - Mundo: 119768.37725574596\n",
      "O grupo 'EUA (Províncias)' apresentou maior crescimento de demanda.\n"
     ]
    },
    {
     "name": "stderr",
     "output_type": "stream",
     "text": [
      "C:\\Users\\wrpen\\AppData\\Local\\Temp\\ipykernel_73368\\2140904183.py:4: SettingWithCopyWarning: \n",
      "A value is trying to be set on a copy of a slice from a DataFrame.\n",
      "Try using .loc[row_indexer,col_indexer] = value instead\n",
      "\n",
      "See the caveats in the documentation: https://pandas.pydata.org/pandas-docs/stable/user_guide/indexing.html#returning-a-view-versus-a-copy\n",
      "  us_data['predicted_demand'] = model.predict(us_data[feature_columns])\n",
      "C:\\Users\\wrpen\\AppData\\Local\\Temp\\ipykernel_73368\\2140904183.py:5: SettingWithCopyWarning: \n",
      "A value is trying to be set on a copy of a slice from a DataFrame.\n",
      "Try using .loc[row_indexer,col_indexer] = value instead\n",
      "\n",
      "See the caveats in the documentation: https://pandas.pydata.org/pandas-docs/stable/user_guide/indexing.html#returning-a-view-versus-a-copy\n",
      "  world_data['predicted_demand'] = model.predict(world_data[feature_columns])\n"
     ]
    }
   ],
   "source": [
    "# soma da demanda prevista por grupo\n",
    "\n",
    "# Prever a demanda nos dados dos EUA e do mundo\n",
    "us_data['predicted_demand'] = model.predict(us_data[feature_columns])\n",
    "world_data['predicted_demand'] = model.predict(world_data[feature_columns])\n",
    "\n",
    "# Somar a demanda prevista em cada grupo\n",
    "us_total_demand = us_data['predicted_demand'].sum()\n",
    "world_total_demand = world_data['predicted_demand'].sum()\n",
    "\n",
    "print(f\"Demanda prevista total - EUA: {us_total_demand}\")\n",
    "print(f\"Demanda prevista total - Mundo: {world_total_demand}\")\n",
    "\n",
    "# Determinar qual grupo apresentou maior crescimento\n",
    "if us_total_demand > world_total_demand:\n",
    "    print(\"O grupo 'EUA (Províncias)' apresentou maior crescimento de demanda.\")\n",
    "else:\n",
    "    print(\"O grupo 'Resto do Mundo (Países)' apresentou maior crescimento de demanda.\")\n"
   ]
  },
  {
   "cell_type": "code",
   "execution_count": 31,
   "metadata": {},
   "outputs": [
    {
     "name": "stdout",
     "output_type": "stream",
     "text": [
      "As províncias dos EUA apresentaram maior crescimento em demanda.\n"
     ]
    }
   ],
   "source": [
    "# Conclusão:\n",
    "# Após realizar a previsão da demanda para os próximos três meses, foi identificado que o grupo 'EUA (Províncias)' apresentou maior crescimento de demanda\n",
    "# em comparação ao grupo 'Resto do Mundo (Países)'.\n",
    "\n",
    "# qual grupo apresentou maior crescimento?\n",
    "if us_total_demand > world_total_demand:\n",
    "    print(\"As províncias dos EUA apresentaram maior crescimento em demanda.\")\n",
    "else:\n",
    "    print(\"Os países no resto do mundo apresentaram maior crescimento em demanda.\")\n",
    "     \n",
    "# Métricas finais:\n",
    "# - Demanda prevista total - EUA: 155,145.63\n",
    "# - Demanda prevista total - Mundo: 119,768.37\n",
    "\n",
    "# Isso sugere que o crescimento da demanda é mais significativo nas províncias dos EUA, possivelmente devido a fatores como maior densidade de \n",
    "# consumidores, distribuição mais eficiente ou estratégias comerciais mais eficazes.\n"
   ]
  }
 ],
 "metadata": {
  "kernelspec": {
   "display_name": "venv",
   "language": "python",
   "name": "python3"
  },
  "language_info": {
   "codemirror_mode": {
    "name": "ipython",
    "version": 3
   },
   "file_extension": ".py",
   "mimetype": "text/x-python",
   "name": "python",
   "nbconvert_exporter": "python",
   "pygments_lexer": "ipython3",
   "version": "3.10.9"
  }
 },
 "nbformat": 4,
 "nbformat_minor": 2
}
