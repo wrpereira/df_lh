{
 "cells": [
  {
   "cell_type": "markdown",
   "metadata": {},
   "source": [
    "### SETUP INICIAL DO PROJETO"
   ]
  },
  {
   "cell_type": "code",
   "execution_count": 1,
   "metadata": {},
   "outputs": [],
   "source": [
    "\n",
    "#importação das bibliotecase e pacotes necessários para a análise\n",
    "\n",
    "import json\n",
    "import matplotlib.pyplot as plt\n",
    "import numpy as np\n",
    "import os\n",
    "import pandas as pd\n",
    "import pandas_gbq as gbq\n",
    "import re\n",
    "import seaborn as sns\n",
    "from dotenv import load_dotenv\n",
    "from google.cloud import bigquery\n",
    "from google.cloud.bigquery_storage import BigQueryReadClient\n",
    "from google.oauth2 import service_account\n",
    "\n",
    "\n",
    "# carregar o .env com as credenciais\n",
    "load_dotenv(\"/mnt/c/Users/wrpen/OneDrive/Desktop/df_lh/.env\")\n",
    "\n",
    "\n",
    "# detectar ambiente: como eu estou usando wsl-ubuntu, no VS Code  -  Windows, estava dando conflitos de path\n",
    "if os.name == \"nt\":  # se Windows\n",
    "    credentials_path = r\"C:\\Temp\\desafiolh-445818-3cb0f62cb9ef.json\"\n",
    "else:  # se WSL/Linux\n",
    "    credentials_path = \"/mnt/c/Temp/desafiolh-445818-3cb0f62cb9ef.json\"\n",
    "\n",
    "\n",
    "# parâmetros injetados pelo Papermill ou definidos manualmente, caso não existam no ambiente\n",
    "if 'tables_to_process' not in locals():\n",
    "    tables_to_process = [\n",
    "        \"desafioadventureworks-446600.raw_data.purchasing-purchaseorderheader\"       \n",
    "    ]\n",
    "\n",
    "if 'output_dataset' not in locals():\n",
    "    output_dataset = \"desafioadventureworks-446600.raw_data_cleaned\"\n",
    "\n",
    "\n",
    "# configs do cliente BigQuery: input de project e location de acordo com dados no Bigquery\n",
    "credentials = service_account.Credentials.from_service_account_file(credentials_path)\n",
    "client = bigquery.Client(credentials=credentials, project=os.getenv(\"BIGQUERY_PROJECT\"), location=\"us-central1\")\n",
    "\n",
    "\n",
    "#doc: tables_to_process: lista de tabelas que serão processadas\n",
    "#     output_dataset: nome do dataset onde os dados processados serão armazenados, neste caso, raw_data_cleaned"
   ]
  },
  {
   "cell_type": "code",
   "execution_count": 2,
   "metadata": {},
   "outputs": [
    {
     "name": "stdout",
     "output_type": "stream",
     "text": [
      "Tabelas a processar: ['desafioadventureworks-446600.raw_data.purchasing-purchaseorderheader']\n"
     ]
    }
   ],
   "source": [
    "# Print com a tabela que vai ser processada nesse notebook\n",
    "\n",
    "print(\"Tabelas a processar:\", tables_to_process)"
   ]
  },
  {
   "cell_type": "code",
   "execution_count": 3,
   "metadata": {},
   "outputs": [
    {
     "name": "stdout",
     "output_type": "stream",
     "text": [
      "raw_data\n",
      "Tabelas disponíveis:\n",
      "humanresources-employee\n",
      "person-address\n",
      "person-businessentity\n",
      "person-person\n",
      "person-stateprovince\n",
      "production-location\n",
      "production-product\n",
      "production-productcategory\n",
      "production-productcosthistory\n",
      "production-productinventory\n",
      "production-productsubcategory\n",
      "purchasing-purchaseorderdetail\n",
      "purchasing-purchaseorderheader\n",
      "purchasing-vendor\n",
      "sales-creditcard\n",
      "sales-customer\n",
      "sales-salesorderdetail\n",
      "sales-salesorderheader\n",
      "sales-salesperson\n",
      "sales-salesterritory\n",
      "sales-store\n"
     ]
    }
   ],
   "source": [
    "# Nome do dataset no Bigquery com os dados brutos (.csv) extraídos pelo Meltano \n",
    "dataset_id = 'raw_data'\n",
    "print(dataset_id)\n",
    "\n",
    "# Lista de tabelas do dataset raw_data no Bigquery\n",
    "tables = client.list_tables('raw_data')\n",
    "print(\"Tabelas disponíveis:\")\n",
    "for table in tables:\n",
    "    print(table.table_id)"
   ]
  },
  {
   "cell_type": "markdown",
   "metadata": {},
   "source": [
    "# Exploratory Data Analysis (EDA) e Data Cleaning"
   ]
  },
  {
   "cell_type": "markdown",
   "metadata": {},
   "source": [
    "### Glossário dos dados:\n",
    "\n",
    "O termo ''doc:'', situado no rodapé de algumas cells, indica algo como:\n",
    "\n",
    "- documentação: documentar decisões, análises e resultados;\n",
    "\n",
    "- abreviações de termos, como bkp, df, entre outros."
   ]
  },
  {
   "cell_type": "code",
   "execution_count": 4,
   "metadata": {},
   "outputs": [],
   "source": [
    "# Setup inicial do df para realizar a EDA \n",
    "\n",
    "pd.set_option('display.max_columns', None)\n",
    "#pd.set_option('display.max_rows', None)\n",
    "pd.set_option('display.max_colwidth', None)\n",
    "pd.set_option('display.width', 10000)\n",
    "pd.options.display.float_format = '{:.2f}'.format\n",
    "\n",
    "\n",
    "#doc: df = dataframe  "
   ]
  },
  {
   "cell_type": "code",
   "execution_count": 5,
   "metadata": {},
   "outputs": [
    {
     "name": "stdout",
     "output_type": "stream",
     "text": [
      "Processando tabela: desafioadventureworks-446600.raw_data.purchasing-purchaseorderheader\n",
      "Lendo os dados do BigQuery...\n",
      "Tabela purchasing_purchaseorderheader processada e armazenada com sucesso.\n",
      "Todas as tabelas foram processadas com sucesso!\n"
     ]
    }
   ],
   "source": [
    "# Dicionário para armazenar os df processados\n",
    "df_processados = {}\n",
    "\n",
    "# Iteração das tabelas e armazenamento em df\n",
    "for input_table in tables_to_process:\n",
    "    print(f\"Processando tabela: {input_table}\")\n",
    "    \n",
    "    table_name = input_table.split(\".\")[-1].replace(\"-\", \"_\")  \n",
    "    \n",
    "    print(\"Lendo os dados do BigQuery...\")\n",
    "    query = f\"SELECT * FROM `{input_table}`\"\n",
    "    table_data = client.query(query).to_dataframe()\n",
    "    \n",
    "    df_processados[table_name] = table_data\n",
    "    print(f\"Tabela {table_name} processada e armazenada com sucesso.\")\n",
    "\n",
    "\n",
    "print(\"Todas as tabelas foram processadas com sucesso!\")"
   ]
  },
  {
   "cell_type": "code",
   "execution_count": 6,
   "metadata": {},
   "outputs": [
    {
     "name": "stdout",
     "output_type": "stream",
     "text": [
      "Variável criada: purchasing_purchaseorderheader\n"
     ]
    }
   ],
   "source": [
    "# Listar todas as variáveis criadas dinamicamente\n",
    "for table_name in df_processados.keys():\n",
    "    print(f\"Variável criada: {table_name}\")  "
   ]
  },
  {
   "cell_type": "code",
   "execution_count": 7,
   "metadata": {},
   "outputs": [
    {
     "name": "stdout",
     "output_type": "stream",
     "text": [
      "Colunas: 12\n",
      "Linhas: 4012\n"
     ]
    }
   ],
   "source": [
    "# Atribuir o df a uma variável com nome mais simples\n",
    "purchasing_purchaseorderheader = df_processados['purchasing_purchaseorderheader']\n",
    "\n",
    "print(f\"Colunas: {purchasing_purchaseorderheader.shape[1]}\\nLinhas: {purchasing_purchaseorderheader.shape[0]}\")"
   ]
  },
  {
   "cell_type": "code",
   "execution_count": 8,
   "metadata": {},
   "outputs": [
    {
     "data": {
      "text/html": [
       "<div>\n",
       "<style scoped>\n",
       "    .dataframe tbody tr th:only-of-type {\n",
       "        vertical-align: middle;\n",
       "    }\n",
       "\n",
       "    .dataframe tbody tr th {\n",
       "        vertical-align: top;\n",
       "    }\n",
       "\n",
       "    .dataframe thead th {\n",
       "        text-align: right;\n",
       "    }\n",
       "</style>\n",
       "<table border=\"1\" class=\"dataframe\">\n",
       "  <thead>\n",
       "    <tr style=\"text-align: right;\">\n",
       "      <th></th>\n",
       "      <th>purchaseorderid</th>\n",
       "      <th>revisionnumber</th>\n",
       "      <th>status</th>\n",
       "      <th>employeeid</th>\n",
       "      <th>vendorid</th>\n",
       "      <th>shipmethodid</th>\n",
       "      <th>orderdate</th>\n",
       "      <th>shipdate</th>\n",
       "      <th>subtotal</th>\n",
       "      <th>taxamt</th>\n",
       "      <th>freight</th>\n",
       "      <th>modifieddate</th>\n",
       "    </tr>\n",
       "  </thead>\n",
       "  <tbody>\n",
       "    <tr>\n",
       "      <th>0</th>\n",
       "      <td>4005</td>\n",
       "      <td>6</td>\n",
       "      <td>2</td>\n",
       "      <td>252</td>\n",
       "      <td>1636</td>\n",
       "      <td>3</td>\n",
       "      <td>2014-01-27 00:00:00+00:00</td>\n",
       "      <td>2014-02-21 00:00:00+00:00</td>\n",
       "      <td>7425.00</td>\n",
       "      <td>594.00</td>\n",
       "      <td>148.50</td>\n",
       "      <td>2015-08-12 12:25:46.373000+00:00</td>\n",
       "    </tr>\n",
       "    <tr>\n",
       "      <th>1</th>\n",
       "      <td>4010</td>\n",
       "      <td>7</td>\n",
       "      <td>2</td>\n",
       "      <td>260</td>\n",
       "      <td>1574</td>\n",
       "      <td>3</td>\n",
       "      <td>2013-11-09 00:00:00+00:00</td>\n",
       "      <td>2013-12-04 00:00:00+00:00</td>\n",
       "      <td>37760.00</td>\n",
       "      <td>3020.80</td>\n",
       "      <td>755.20</td>\n",
       "      <td>2015-08-12 12:25:46.470000+00:00</td>\n",
       "    </tr>\n",
       "    <tr>\n",
       "      <th>2</th>\n",
       "      <td>4002</td>\n",
       "      <td>7</td>\n",
       "      <td>2</td>\n",
       "      <td>252</td>\n",
       "      <td>1574</td>\n",
       "      <td>3</td>\n",
       "      <td>2014-09-22 00:00:00+00:00</td>\n",
       "      <td>2014-10-17 00:00:00+00:00</td>\n",
       "      <td>1020.00</td>\n",
       "      <td>81.60</td>\n",
       "      <td>20.40</td>\n",
       "      <td>2015-08-12 12:25:46.343000+00:00</td>\n",
       "    </tr>\n",
       "    <tr>\n",
       "      <th>3</th>\n",
       "      <td>4007</td>\n",
       "      <td>14</td>\n",
       "      <td>2</td>\n",
       "      <td>251</td>\n",
       "      <td>1594</td>\n",
       "      <td>3</td>\n",
       "      <td>2014-03-01 00:00:00+00:00</td>\n",
       "      <td>2014-03-26 00:00:00+00:00</td>\n",
       "      <td>554020.00</td>\n",
       "      <td>44321.60</td>\n",
       "      <td>11080.40</td>\n",
       "      <td>2015-08-12 12:25:46.407000+00:00</td>\n",
       "    </tr>\n",
       "    <tr>\n",
       "      <th>4</th>\n",
       "      <td>4012</td>\n",
       "      <td>9</td>\n",
       "      <td>2</td>\n",
       "      <td>254</td>\n",
       "      <td>1636</td>\n",
       "      <td>3</td>\n",
       "      <td>2014-06-24 00:00:00+00:00</td>\n",
       "      <td>2014-07-19 00:00:00+00:00</td>\n",
       "      <td>997680.00</td>\n",
       "      <td>79814.40</td>\n",
       "      <td>19953.60</td>\n",
       "      <td>2015-08-12 12:25:46.483000+00:00</td>\n",
       "    </tr>\n",
       "  </tbody>\n",
       "</table>\n",
       "</div>"
      ],
      "text/plain": [
       "   purchaseorderid  revisionnumber  status  employeeid  vendorid  shipmethodid                 orderdate                  shipdate  subtotal   taxamt  freight                     modifieddate\n",
       "0             4005               6       2         252      1636             3 2014-01-27 00:00:00+00:00 2014-02-21 00:00:00+00:00   7425.00   594.00   148.50 2015-08-12 12:25:46.373000+00:00\n",
       "1             4010               7       2         260      1574             3 2013-11-09 00:00:00+00:00 2013-12-04 00:00:00+00:00  37760.00  3020.80   755.20 2015-08-12 12:25:46.470000+00:00\n",
       "2             4002               7       2         252      1574             3 2014-09-22 00:00:00+00:00 2014-10-17 00:00:00+00:00   1020.00    81.60    20.40 2015-08-12 12:25:46.343000+00:00\n",
       "3             4007              14       2         251      1594             3 2014-03-01 00:00:00+00:00 2014-03-26 00:00:00+00:00 554020.00 44321.60 11080.40 2015-08-12 12:25:46.407000+00:00\n",
       "4             4012               9       2         254      1636             3 2014-06-24 00:00:00+00:00 2014-07-19 00:00:00+00:00 997680.00 79814.40 19953.60 2015-08-12 12:25:46.483000+00:00"
      ]
     },
     "execution_count": 8,
     "metadata": {},
     "output_type": "execute_result"
    }
   ],
   "source": [
    "purchasing_purchaseorderheader.head()"
   ]
  },
  {
   "cell_type": "code",
   "execution_count": 9,
   "metadata": {},
   "outputs": [
    {
     "name": "stdout",
     "output_type": "stream",
     "text": [
      "Não foram encontradas duplicadas.\n"
     ]
    }
   ],
   "source": [
    "# Identificar duplicadas\n",
    "duplicadas = purchasing_purchaseorderheader[purchasing_purchaseorderheader.duplicated(subset=['purchaseorderid'], keep=False)]\n",
    "\n",
    "# Verificar se existem duplicadas\n",
    "if not duplicadas.empty:\n",
    "    \n",
    "    duplicadas_ordenadas = duplicadas.sort_values(by=['purchaseorderid', 'modifieddate'])\n",
    "\n",
    "    print(\"duplicadas ordenadas:\")\n",
    "    print(duplicadas_ordenadas)\n",
    "else:\n",
    "    print(\"Não foram encontradas duplicadas.\")"
   ]
  },
  {
   "cell_type": "code",
   "execution_count": 10,
   "metadata": {},
   "outputs": [
    {
     "name": "stdout",
     "output_type": "stream",
     "text": [
      "Linhas após remover duplicadas (baseando-se na última 'modifieddate'): 4012\n"
     ]
    }
   ],
   "source": [
    "# Remover duplicadas* \n",
    "purchasing_purchaseorderheader = purchasing_purchaseorderheader.drop_duplicates(subset=['purchaseorderid'], keep='last')\n",
    "\n",
    "print(f\"Linhas após remover duplicadas (baseando-se na última 'modifieddate'): {len(purchasing_purchaseorderheader)}\")\n",
    "\n",
    "#bkp dos dados brutos\n",
    "raw_data_bkp_2_sem_duplicadas = purchasing_purchaseorderheader.copy()\n",
    "\n",
    "\n",
    "#doc: bkp = backup (cópia)\n",
    "#doc*: mantendo a última ocorrência com base em 'modifieddate', pois ela que indica a data da última modificação nos dados\n",
    "#      Importante, pois se houver erro na ingestão (duplicação), mantém os dados íntegros."
   ]
  },
  {
   "cell_type": "code",
   "execution_count": 11,
   "metadata": {},
   "outputs": [
    {
     "name": "stdout",
     "output_type": "stream",
     "text": [
      "      purchaseorderid  revisionnumber  status  employeeid  vendorid  shipmethodid                 orderdate                  shipdate  subtotal   taxamt  freight                     modifieddate\n",
      "871                 1               4       4         258      1580             3 2011-04-16 00:00:00+00:00 2011-04-25 00:00:00+00:00    201.04    16.08     5.03        2011-04-25 00:00:00+00:00\n",
      "3385                2               4       1         254      1496             5 2011-04-16 00:00:00+00:00 2011-04-25 00:00:00+00:00    272.10    21.77     6.80        2011-04-25 00:00:00+00:00\n",
      "3302                3               4       4         257      1494             2 2011-04-16 00:00:00+00:00 2011-04-25 00:00:00+00:00   8847.30   707.78   221.18        2011-04-25 00:00:00+00:00\n",
      "2188                4               4       3         261      1650             5 2011-04-16 00:00:00+00:00 2011-04-25 00:00:00+00:00    171.08    13.69     4.28        2011-04-25 00:00:00+00:00\n",
      "2289                5               4       4         251      1654             4 2011-04-30 00:00:00+00:00 2011-05-09 00:00:00+00:00  20397.30  1631.78   509.93        2011-05-09 00:00:00+00:00\n",
      "...               ...             ...     ...         ...       ...           ...                       ...                       ...       ...      ...      ...                              ...\n",
      "9                4008              20       2         258      1676             3 2014-04-22 00:00:00+00:00 2014-05-17 00:00:00+00:00 396729.00 31738.32  7934.58 2015-08-12 12:25:46.420000+00:00\n",
      "5                4009               9       2         261      1546             3 2013-11-09 00:00:00+00:00 2013-12-04 00:00:00+00:00  14915.00  1193.20   298.30 2015-08-12 12:25:46.453000+00:00\n",
      "1                4010               7       2         260      1574             3 2013-11-09 00:00:00+00:00 2013-12-04 00:00:00+00:00  37760.00  3020.80   755.20 2015-08-12 12:25:46.470000+00:00\n",
      "6                4011              10       2         254      1546             3 2014-06-24 00:00:00+00:00 2014-07-19 00:00:00+00:00  54492.50  4359.40  1089.85 2015-08-12 12:25:46.470000+00:00\n",
      "4                4012               9       2         254      1636             3 2014-06-24 00:00:00+00:00 2014-07-19 00:00:00+00:00 997680.00 79814.40 19953.60 2015-08-12 12:25:46.483000+00:00\n",
      "\n",
      "[4012 rows x 12 columns]\n"
     ]
    }
   ],
   "source": [
    "# Ordenar e exibir o df por 'purchaseorderid'\n",
    "purchasing_purchaseorderheader = purchasing_purchaseorderheader.sort_values(by=['purchaseorderid'])\n",
    "\n",
    "print(purchasing_purchaseorderheader)"
   ]
  },
  {
   "cell_type": "code",
   "execution_count": 12,
   "metadata": {},
   "outputs": [
    {
     "name": "stdout",
     "output_type": "stream",
     "text": [
      "Coluna 'purchaseorderid': 0 linhas ausentes.\n",
      "Nenhuma linha com valores ausentes em 'purchaseorderid'.\n",
      "\n",
      "Coluna 'revisionnumber': 0 linhas ausentes.\n",
      "Nenhuma linha com valores ausentes em 'revisionnumber'.\n",
      "\n",
      "Coluna 'status': 0 linhas ausentes.\n",
      "Nenhuma linha com valores ausentes em 'status'.\n",
      "\n",
      "Coluna 'employeeid': 0 linhas ausentes.\n",
      "Nenhuma linha com valores ausentes em 'employeeid'.\n",
      "\n",
      "Coluna 'vendorid': 0 linhas ausentes.\n",
      "Nenhuma linha com valores ausentes em 'vendorid'.\n",
      "\n",
      "Coluna 'shipmethodid': 0 linhas ausentes.\n",
      "Nenhuma linha com valores ausentes em 'shipmethodid'.\n",
      "\n",
      "Coluna 'orderdate': 0 linhas ausentes.\n",
      "Nenhuma linha com valores ausentes em 'orderdate'.\n",
      "\n",
      "Coluna 'shipdate': 0 linhas ausentes.\n",
      "Nenhuma linha com valores ausentes em 'shipdate'.\n",
      "\n",
      "Coluna 'subtotal': 0 linhas ausentes.\n",
      "Nenhuma linha com valores ausentes em 'subtotal'.\n",
      "\n",
      "Coluna 'taxamt': 0 linhas ausentes.\n",
      "Nenhuma linha com valores ausentes em 'taxamt'.\n",
      "\n",
      "Coluna 'freight': 0 linhas ausentes.\n",
      "Nenhuma linha com valores ausentes em 'freight'.\n",
      "\n",
      "Coluna 'modifieddate': 0 linhas ausentes.\n",
      "Nenhuma linha com valores ausentes em 'modifieddate'.\n",
      "\n"
     ]
    }
   ],
   "source": [
    "# Iterar por todas as colunas do df, para verificar valores ausentes\n",
    "\n",
    "# Verificar valores ausentes na coluna\n",
    "for column in purchasing_purchaseorderheader.columns:   \n",
    "    missing_rows = purchasing_purchaseorderheader[purchasing_purchaseorderheader[column].isnull()]\n",
    "    print(f\"Coluna '{column}': {missing_rows.shape[0]} linhas ausentes.\")\n",
    "    \n",
    "# Mostrar as primeiras linhas ausentes, se preciso for, limitar o head() para dar menos outputs ou limitar os outputs\n",
    "    if not missing_rows.empty:\n",
    "        print(f\"Exibindo as primeiras linhas com valores ausentes em '{column}':\")\n",
    "        print(missing_rows.head(), \"\\n\")\n",
    "    else:\n",
    "        print(f\"Nenhuma linha com valores ausentes em '{column}'.\\n\")"
   ]
  },
  {
   "cell_type": "code",
   "execution_count": 13,
   "metadata": {},
   "outputs": [
    {
     "name": "stdout",
     "output_type": "stream",
     "text": [
      "Valores únicos incluindo NaN:\n",
      "purchaseorderid    4012\n",
      "revisionnumber       10\n",
      "status                4\n",
      "employeeid           12\n",
      "vendorid             86\n",
      "shipmethodid          5\n",
      "orderdate           300\n",
      "shipdate            297\n",
      "subtotal            351\n",
      "taxamt              351\n",
      "freight             351\n",
      "modifieddate        306\n",
      "dtype: int64\n"
     ]
    }
   ],
   "source": [
    "# Valores únicos por coluna, para verificar se colunas como flags, normalmente booleanas, possuem apenas 1 ou 2 valores.\n",
    "\n",
    "valores_unicos = purchasing_purchaseorderheader.nunique(dropna=False)\n",
    "\n",
    "print(\"Valores únicos incluindo NaN:\")\n",
    "print(valores_unicos)"
   ]
  },
  {
   "cell_type": "code",
   "execution_count": 14,
   "metadata": {},
   "outputs": [
    {
     "name": "stdout",
     "output_type": "stream",
     "text": [
      "<class 'pandas.core.frame.DataFrame'>\n",
      "Index: 4012 entries, 871 to 4\n",
      "Data columns (total 12 columns):\n",
      " #   Column           Non-Null Count  Dtype              \n",
      "---  ------           --------------  -----              \n",
      " 0   purchaseorderid  4012 non-null   Int64              \n",
      " 1   revisionnumber   4012 non-null   Int64              \n",
      " 2   status           4012 non-null   Int64              \n",
      " 3   employeeid       4012 non-null   Int64              \n",
      " 4   vendorid         4012 non-null   Int64              \n",
      " 5   shipmethodid     4012 non-null   Int64              \n",
      " 6   orderdate        4012 non-null   datetime64[us, UTC]\n",
      " 7   shipdate         4012 non-null   datetime64[us, UTC]\n",
      " 8   subtotal         4012 non-null   float64            \n",
      " 9   taxamt           4012 non-null   float64            \n",
      " 10  freight          4012 non-null   float64            \n",
      " 11  modifieddate     4012 non-null   datetime64[us, UTC]\n",
      "dtypes: Int64(6), datetime64[us, UTC](3), float64(3)\n",
      "memory usage: 431.0 KB\n"
     ]
    }
   ],
   "source": [
    "#verificar informações do df\n",
    "purchasing_purchaseorderheader.info()"
   ]
  },
  {
   "cell_type": "code",
   "execution_count": 15,
   "metadata": {},
   "outputs": [
    {
     "name": "stdout",
     "output_type": "stream",
     "text": [
      "        qtde.       %\n",
      "status               \n",
      "4        3689  91.95%\n",
      "1         225   5.61%\n",
      "3          86   2.14%\n",
      "2          12   0.30%\n"
     ]
    }
   ],
   "source": [
    "#avaliando as variáveis qualitativas*\n",
    "\n",
    "coluna_quantitativa = [\"status\"]\n",
    "for col in coluna_quantitativa:\n",
    "    counts = purchasing_purchaseorderheader[col].value_counts().nlargest(10)\n",
    "    percentages = (counts / purchasing_purchaseorderheader.shape[0] * 100).map(\"{:.2f}%\".format)\n",
    "    summary = pd.DataFrame({\"qtde.\": counts, \"%\": percentages})\n",
    "    print(summary)    \n",
    "\n",
    "\n",
    "#doc*: variáveis qualitativas são um tipo de variável estatística que representam características ou atributos dos dados, sem serem medidas numericamente\n",
    "#      no nosso caso, status, por exemplo\n",
    "\n",
    "#doc: status. 1 = Pending; 2 = Approved; 3 = Rejected; 4 = Complete"
   ]
  },
  {
   "cell_type": "code",
   "execution_count": 16,
   "metadata": {},
   "outputs": [
    {
     "name": "stderr",
     "output_type": "stream",
     "text": [
      "C:\\Users\\wrpen\\AppData\\Local\\Temp\\ipykernel_56348\\4283749172.py:8: FutureWarning: \n",
      "\n",
      "Passing `palette` without assigning `hue` is deprecated and will be removed in v0.14.0. Assign the `x` variable to `hue` and set `legend=False` for the same effect.\n",
      "\n",
      "  ax = sns.barplot(\n"
     ]
    },
    {
     "data": {
      "image/png": "[encoded data removed]",
      "text/plain": [
       "<Figure size 1000x600 with 1 Axes>"
      ]
     },
     "metadata": {},
     "output_type": "display_data"
    }
   ],
   "source": [
    "# Configurar o gráfico\n",
    "sns.set(style='white', rc={\"axes.facecolor\": \"black\", \"figure.facecolor\": \"black\"})\n",
    "\n",
    "# purchaseorderid por status\n",
    "status_counts = purchasing_purchaseorderheader.groupby('status')['purchaseorderid'].count().reset_index()\n",
    "\n",
    "plt.figure(figsize=(10, 6))\n",
    "ax = sns.barplot(\n",
    "    x='status', \n",
    "    y='purchaseorderid', \n",
    "    data=status_counts, \n",
    "    palette='coolwarm'\n",
    ")\n",
    "\n",
    "for p in ax.patches:\n",
    "    ax.annotate(f'{int(p.get_height())}', \n",
    "                (p.get_x() + p.get_width() / 2, p.get_height()), \n",
    "                ha='center', va='bottom', color='white', fontsize=10)\n",
    "\n",
    "plt.title('Gráfico de Barras: Qtde. de Orders vs Status', fontsize=14, color='white', pad=15)\n",
    "ax.tick_params(axis='y', left=False, labelleft=False)\n",
    "ax.tick_params(axis='x', colors='white')\n",
    "ax.grid(False)\n",
    "plt.show()"
   ]
  },
  {
   "cell_type": "code",
   "execution_count": 17,
   "metadata": {},
   "outputs": [
    {
     "name": "stdout",
     "output_type": "stream",
     "text": [
      "<class 'pandas.core.frame.DataFrame'>\n",
      "Index: 4012 entries, 871 to 4\n",
      "Data columns (total 12 columns):\n",
      " #   Column           Non-Null Count  Dtype              \n",
      "---  ------           --------------  -----              \n",
      " 0   purchaseorderid  4012 non-null   Int64              \n",
      " 1   revisionnumber   4012 non-null   Int64              \n",
      " 2   status           4012 non-null   Int64              \n",
      " 3   employeeid       4012 non-null   Int64              \n",
      " 4   vendorid         4012 non-null   Int64              \n",
      " 5   shipmethodid     4012 non-null   Int64              \n",
      " 6   orderdate        4012 non-null   datetime64[us, UTC]\n",
      " 7   shipdate         4012 non-null   datetime64[us, UTC]\n",
      " 8   subtotal         4012 non-null   float64            \n",
      " 9   taxamt           4012 non-null   float64            \n",
      " 10  freight          4012 non-null   float64            \n",
      " 11  modifieddate     4012 non-null   datetime64[us, UTC]\n",
      "dtypes: Int64(6), datetime64[us, UTC](3), float64(3)\n",
      "memory usage: 431.0 KB\n"
     ]
    }
   ],
   "source": [
    "purchasing_purchaseorderheader.info()"
   ]
  },
  {
   "cell_type": "code",
   "execution_count": 18,
   "metadata": {},
   "outputs": [
    {
     "name": "stdout",
     "output_type": "stream",
     "text": [
      "       subtotal   taxamt  freight\n",
      "count   4012.00  4012.00  4012.00\n",
      "mean   15900.30  1272.02   394.81\n",
      "std    28142.44  2251.40   644.05\n",
      "min       37.08     2.97     0.93\n",
      "25%      389.65    31.17     9.74\n",
      "50%     2934.54   234.76    73.36\n",
      "75%    28199.33  2255.95   704.98\n",
      "max   997680.00 79814.40 19953.60\n",
      "\n",
      "Coluna: subtotal\n",
      "Limite inferior: -41324.850000000006, Limite superior: 69913.83\n",
      "Outliers detectados (89):\n",
      "      subtotal\n",
      "3149  79204.12\n",
      "721   91117.95\n",
      "3158  73377.15\n",
      "722   91117.95\n",
      "3189 101720.85\n",
      "...        ...\n",
      "3153  79204.12\n",
      "770   91117.95\n",
      "3    554020.00\n",
      "9    396729.00\n",
      "4    997680.00\n",
      "\n",
      "[89 rows x 1 columns]\n",
      "\n",
      "Coluna: taxamt\n",
      "Limite inferior: -3305.988, Limite superior: 5593.1064\n",
      "Outliers detectados (89):\n",
      "       taxamt\n",
      "3149  6336.33\n",
      "721   7289.44\n",
      "3158  5870.17\n",
      "722   7289.44\n",
      "3189  8137.67\n",
      "...       ...\n",
      "3153  6336.33\n",
      "770   7289.44\n",
      "3    44321.60\n",
      "9    31738.32\n",
      "4    79814.40\n",
      "\n",
      "[89 rows x 1 columns]\n",
      "\n",
      "Coluna: freight\n",
      "Limite inferior: -1033.12115, Limite superior: 1747.8456500000002\n",
      "Outliers detectados (89):\n",
      "      freight\n",
      "3149  1980.10\n",
      "721   2277.95\n",
      "3158  1834.43\n",
      "722   2277.95\n",
      "3189  2543.02\n",
      "...       ...\n",
      "3153  1980.10\n",
      "770   2277.95\n",
      "3    11080.40\n",
      "9     7934.58\n",
      "4    19953.60\n",
      "\n",
      "[89 rows x 1 columns]\n"
     ]
    }
   ],
   "source": [
    "# Variáveis quantitativas*: estatísticas descritivas para verificar se ainda há o que ser feito antes de exportar os dados ao BigQuery\n",
    "\n",
    "# Identificar colunas numéricas para análise de outliers\n",
    "numeric_columns = ['subtotal', 'taxamt', 'freight']\n",
    "\n",
    "# Estatísticas Descritivas das colunas numéricas*\n",
    "print(purchasing_purchaseorderheader[numeric_columns].describe())\n",
    "\n",
    "# Cálculo de limites para outliers (IQR)**\n",
    "for col in numeric_columns:\n",
    "    q1 = purchasing_purchaseorderheader[col].quantile(0.25)\n",
    "    q3 = purchasing_purchaseorderheader[col].quantile(0.75)\n",
    "    iqr = q3 - q1\n",
    "    lower_bound = q1 - 1.5 * iqr\n",
    "    upper_bound = q3 + 1.5 * iqr\n",
    "    \n",
    "    # Exibir os limites\n",
    "    print(f\"\\nColuna: {col}\")\n",
    "    print(f\"Limite inferior: {lower_bound}, Limite superior: {upper_bound}\")\n",
    "    \n",
    "    # Detecção e Análise de Outliers***\n",
    "    outliers = purchasing_purchaseorderheader[(purchasing_purchaseorderheader[col] < lower_bound) | (purchasing_purchaseorderheader[col] > upper_bound)]\n",
    "    print(f\"Outliers detectados ({len(outliers)}):\")\n",
    "    print(outliers[[col]])\n",
    "\n",
    "\n",
    "#doc*: variáveis quantitativas são um tipo de dado que pode ser representado por números e medidas objetivas\n",
    "#doc*: realizar estatísticas descritivas para entender a centralidade e variação dos dados (valores médios, mínimos, máximos, etc.)\n",
    "#doc**: calcular limites para identificar outliers (valores extremos que podem indicar erros ou casos excepcionais nos dados)\n",
    "#doc***: verificar a existência de outliers para decidir ações como remoção, substituição ou tratamento, garantindo qualidade dos dados\n",
    "#doc****: as colunas analisadas apresentam outliers: \n",
    "\n",
    "\n",
    "# Conclusões e justificativas sobre os outliers nas colunas analisadas:\n",
    "#\n",
    "# **1. Coluna: subtotal**\n",
    "# - Limite inferior: -41,324.85, Limite superior: 69,913.83.\n",
    "# - Outliers detectados: 89.\n",
    "# - Conclusão: Os valores fora do limite representam transações de alto valor, que \n",
    "#   podem ser compras de grandes volumes ou produtos premium. No setor de compras, \n",
    "#   esses valores são esperados em negociações corporativas ou em pedidos excepcionais.\n",
    "# - Justificativa para manter: Esses valores refletem comportamentos reais do negócio\n",
    "#   e podem ser relevantes para identificar grandes clientes ou eventos atípicos.\n",
    "#\n",
    "# **2. Coluna: taxamt**\n",
    "# - Limite inferior: -3,305.99, Limite superior: 5,593.11.\n",
    "# - Outliers detectados: 89.\n",
    "# - Conclusão: Valores elevados de impostos estão relacionados a pedidos com altos \n",
    "#   subtotais. Isso é consistente com a política fiscal progressiva, onde valores \n",
    "#   maiores geram taxas proporcionalmente maiores.\n",
    "# - Justificativa para manter: Esses valores indicam pedidos de alto valor, que são \n",
    "#   comuns em transações grandes e podem ser úteis para análises financeiras ou fiscais.\n",
    "#\n",
    "# **3. Coluna: freight**\n",
    "# - Limite inferior: -1,033.12, Limite superior: 1,747.85.\n",
    "# - Outliers detectados: 89.\n",
    "# - Conclusão: Custos de frete elevados estão associados a entregas de grandes volumes \n",
    "#   ou para regiões de difícil acesso, onde o transporte é mais caro.\n",
    "# - Justificativa para manter: Esses valores são reais dentro do contexto de logística,\n",
    "#   indicando regiões ou clientes com maior complexidade de entrega.\n",
    "#\n",
    "# **Conclusão Geral:**\n",
    "# - Os outliers identificados são consistentes com o contexto de compras e logística,\n",
    "#   principalmente considerando que o banco de dados representa transações de \n",
    "#   diferentes magnitudes e tipos.\n",
    "# - Manter os outliers permite que análises futuras identifiquem clientes estratégicos,\n",
    "#   padrões de compra atípicos e regiões com custos de transporte diferenciados.\n",
    "# - A remoção poderia distorcer as análises e mascarar comportamentos legítimos do negócio.\n",
    "#\n",
    "# **Conclusão:**\n",
    "# - Manter os outliers nos dados exportados para o BigQuery.\n",
    "# - Implementar um sistema de flagging para marcar os outliers e monitorar sua influência\n",
    "#   em análises específicas (ex.: média, desvios padrão).\n"
   ]
  },
  {
   "cell_type": "code",
   "execution_count": 19,
   "metadata": {},
   "outputs": [
    {
     "name": "stderr",
     "output_type": "stream",
     "text": [
      "C:\\Users\\wrpen\\AppData\\Local\\Temp\\ipykernel_56348\\1037129091.py:2: UserWarning: Converting to PeriodArray/Index representation will drop timezone information.\n",
      "  purchasing_purchaseorderheader['order_month'] = purchasing_purchaseorderheader['orderdate'].dt.to_period('M')\n"
     ]
    },
    {
     "data": {
      "image/png": "[encoded data removed]",
      "text/plain": [
       "<Figure size 1200x600 with 1 Axes>"
      ]
     },
     "metadata": {},
     "output_type": "display_data"
    }
   ],
   "source": [
    "# Converter orderdate para ano e mês\n",
    "purchasing_purchaseorderheader['order_month'] = purchasing_purchaseorderheader['orderdate'].dt.to_period('M')\n",
    "\n",
    "# Somar subtotal, taxamt e freight por mês\n",
    "monthly_summary = purchasing_purchaseorderheader.groupby('order_month')[['subtotal', 'taxamt', 'freight']].sum()\n",
    "\n",
    "monthly_summary.plot(kind='line', figsize=(12, 6), marker='o')\n",
    "plt.title('Tendência Mensal de Subtotal, Impostos e Frete')\n",
    "plt.xlabel('Mês do Pedido')\n",
    "plt.ylabel('Valores')\n",
    "plt.grid(False)\n",
    "plt.legend(title='Variáveis')\n",
    "plt.show()\n"
   ]
  },
  {
   "cell_type": "code",
   "execution_count": 20,
   "metadata": {},
   "outputs": [],
   "source": [
    "purchasing_purchaseorderheader = purchasing_purchaseorderheader.drop(columns=[\"order_month\"])\n"
   ]
  },
  {
   "cell_type": "code",
   "execution_count": 21,
   "metadata": {},
   "outputs": [],
   "source": [
    "# Atualizar o dicionário df_processados com o df ajustado\n",
    "df_processados['purchasing_purchaseorderheader'] = purchasing_purchaseorderheader"
   ]
  },
  {
   "cell_type": "code",
   "execution_count": 22,
   "metadata": {},
   "outputs": [
    {
     "name": "stdout",
     "output_type": "stream",
     "text": [
      "Tabela purchasing_purchaseorderheader exportada com sucesso para desafioadventureworks-446600.raw_data_cleaned.purchasing_purchaseorderheader.\n"
     ]
    }
   ],
   "source": [
    "# Garantir que apenas tabelas únicas sejam exportadas\n",
    "unique_df_processados = {k: v for k, v in df_processados.items()}\n",
    "\n",
    "# Exportar tabelas para o BigQuery\n",
    "for table_name, df_cleaned in unique_df_processados.items():\n",
    " \n",
    "    output_table = f\"{output_dataset}.{table_name}\"\n",
    "   \n",
    "    job_config = bigquery.LoadJobConfig(\n",
    "        write_disposition=\"WRITE_TRUNCATE\"  \n",
    "    )\n",
    "    \n",
    "    job = client.load_table_from_dataframe(df_cleaned, output_table, job_config=job_config)\n",
    "    job.result()\n",
    "\n",
    "    print(f\"Tabela {table_name} exportada com sucesso para {output_table}.\")"
   ]
  },
  {
   "cell_type": "markdown",
   "metadata": {},
   "source": []
  }
 ],
 "metadata": {
  "kernelspec": {
   "display_name": "venv",
   "language": "python",
   "name": "python3"
  },
  "language_info": {
   "codemirror_mode": {
    "name": "ipython",
    "version": 3
   },
   "file_extension": ".py",
   "mimetype": "text/x-python",
   "name": "python",
   "nbconvert_exporter": "python",
   "pygments_lexer": "ipython3",
   "version": "3.10.9"
  }
 },
 "nbformat": 4,
 "nbformat_minor": 2
}
