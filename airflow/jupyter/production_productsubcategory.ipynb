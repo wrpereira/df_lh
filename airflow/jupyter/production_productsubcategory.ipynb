{
 "cells": [
  {
   "cell_type": "markdown",
   "metadata": {},
   "source": [
    "### SETUP INICIAL DO PROJETO"
   ]
  },
  {
   "cell_type": "code",
   "execution_count": 1,
   "metadata": {},
   "outputs": [],
   "source": [
    "\n",
    "#importação das bibliotecase e pacotes necessários para a análise\n",
    "\n",
    "import json\n",
    "import matplotlib.pyplot as plt\n",
    "import numpy as np\n",
    "import os\n",
    "import pandas as pd\n",
    "import pandas_gbq as gbq\n",
    "import re\n",
    "import seaborn as sns\n",
    "from dotenv import load_dotenv\n",
    "from google.cloud import bigquery\n",
    "from google.cloud.bigquery_storage import BigQueryReadClient\n",
    "from google.oauth2 import service_account\n",
    "\n",
    "\n",
    "# carregar o .env com as credenciais\n",
    "load_dotenv(\"/mnt/c/Users/wrpen/OneDrive/Desktop/df_lh/.env\")\n",
    "\n",
    "\n",
    "# detectar ambiente: como eu estou usando wsl-ubuntu, no VS Code  -  Windows, estava dando conflitos de path\n",
    "if os.name == \"nt\":  # se Windows\n",
    "    credentials_path = r\"C:\\Temp\\desafiolh-445818-3cb0f62cb9ef.json\"\n",
    "else:  # se WSL/Linux\n",
    "    credentials_path = \"/mnt/c/Temp/desafiolh-445818-3cb0f62cb9ef.json\"\n",
    "\n",
    "\n",
    "# parâmetros injetados pelo Papermill ou definidos manualmente, caso não existam no ambiente\n",
    "if 'tables_to_process' not in locals():\n",
    "    tables_to_process = [\n",
    "        \"desafioadventureworks-446600.raw_data.production-productsubcategory\"       \n",
    "    ]\n",
    "\n",
    "if 'output_dataset' not in locals():\n",
    "    output_dataset = \"desafioadventureworks-446600.raw_data_cleaned\"\n",
    "\n",
    "\n",
    "# configs do cliente BigQuery: input de project e location de acordo com dados no Bigquery\n",
    "credentials = service_account.Credentials.from_service_account_file(credentials_path)\n",
    "client = bigquery.Client(credentials=credentials, project=os.getenv(\"BIGQUERY_PROJECT\"), location=\"us-central1\")\n",
    "\n",
    "\n",
    "#doc: tables_to_process: lista de tabelas que serão processadas\n",
    "#     output_dataset: nome do dataset onde os dados processados serão armazenados, neste caso, raw_data_cleaned"
   ]
  },
  {
   "cell_type": "code",
   "execution_count": 2,
   "metadata": {},
   "outputs": [
    {
     "name": "stdout",
     "output_type": "stream",
     "text": [
      "Tabelas a processar: ['desafioadventureworks-446600.raw_data.production-productsubcategory']\n"
     ]
    }
   ],
   "source": [
    "# Print com a tabela que vai ser processada nesse notebook\n",
    "\n",
    "print(\"Tabelas a processar:\", tables_to_process)"
   ]
  },
  {
   "cell_type": "code",
   "execution_count": 3,
   "metadata": {},
   "outputs": [
    {
     "name": "stdout",
     "output_type": "stream",
     "text": [
      "raw_data\n",
      "Tabelas disponíveis:\n",
      "humanresources-employee\n",
      "person-address\n",
      "person-businessentity\n",
      "person-person\n",
      "person-stateprovince\n",
      "production-location\n",
      "production-product\n",
      "production-productcategory\n",
      "production-productcosthistory\n",
      "production-productinventory\n",
      "production-productsubcategory\n",
      "purchasing-purchaseorderdetail\n",
      "purchasing-purchaseorderheader\n",
      "purchasing-vendor\n",
      "sales-creditcard\n",
      "sales-customer\n",
      "sales-salesorderdetail\n",
      "sales-salesorderheader\n",
      "sales-salesperson\n",
      "sales-salesterritory\n",
      "sales-store\n"
     ]
    }
   ],
   "source": [
    "# Nome do dataset no Bigquery com os dados brutos (.csv) extraídos pelo Meltano \n",
    "dataset_id = 'raw_data'\n",
    "print(dataset_id)\n",
    "\n",
    "# Lista de tabelas do dataset raw_data no Bigquery\n",
    "tables = client.list_tables('raw_data')\n",
    "print(\"Tabelas disponíveis:\")\n",
    "for table in tables:\n",
    "    print(table.table_id)"
   ]
  },
  {
   "cell_type": "markdown",
   "metadata": {},
   "source": [
    "# Exploratory Data Analysis (EDA) e Data Cleaning"
   ]
  },
  {
   "cell_type": "markdown",
   "metadata": {},
   "source": [
    "### Glossário dos dados:\n",
    "\n",
    "O termo ''doc:'', situado no rodapé de algumas cells, indica algo como:\n",
    "\n",
    "- documentação: documentar decisões, análises e resultados;\n",
    "\n",
    "- abreviações de termos, como bkp, df, entre outros."
   ]
  },
  {
   "cell_type": "code",
   "execution_count": 4,
   "metadata": {},
   "outputs": [],
   "source": [
    "# Setup inicial do df para realizar a EDA \n",
    "\n",
    "pd.set_option('display.max_columns', None)\n",
    "#pd.set_option('display.max_rows', None)\n",
    "pd.set_option('display.max_colwidth', None)\n",
    "pd.set_option('display.width', 10000)\n",
    "pd.options.display.float_format = '{:.2f}'.format\n",
    "\n",
    "\n",
    "#doc: df = dataframe  "
   ]
  },
  {
   "cell_type": "code",
   "execution_count": 5,
   "metadata": {},
   "outputs": [
    {
     "name": "stdout",
     "output_type": "stream",
     "text": [
      "Processando tabela: desafioadventureworks-446600.raw_data.production-productsubcategory\n",
      "Lendo os dados do BigQuery...\n",
      "Tabela production_productsubcategory processada e armazenada com sucesso.\n",
      "Todas as tabelas foram processadas com sucesso!\n"
     ]
    }
   ],
   "source": [
    "# Dicionário para armazenar os df processados\n",
    "df_processados = {}\n",
    "\n",
    "# Iteração das tabelas e armazenamento em df\n",
    "for input_table in tables_to_process:\n",
    "    print(f\"Processando tabela: {input_table}\")\n",
    "    \n",
    "    table_name = input_table.split(\".\")[-1].replace(\"-\", \"_\")  \n",
    "    \n",
    "    print(\"Lendo os dados do BigQuery...\")\n",
    "    query = f\"SELECT * FROM `{input_table}`\"\n",
    "    table_data = client.query(query).to_dataframe()\n",
    "    \n",
    "    df_processados[table_name] = table_data\n",
    "    print(f\"Tabela {table_name} processada e armazenada com sucesso.\")\n",
    "\n",
    "\n",
    "print(\"Todas as tabelas foram processadas com sucesso!\")"
   ]
  },
  {
   "cell_type": "code",
   "execution_count": 6,
   "metadata": {},
   "outputs": [
    {
     "name": "stdout",
     "output_type": "stream",
     "text": [
      "Variável criada: production_productsubcategory\n"
     ]
    }
   ],
   "source": [
    "# Listar todas as variáveis criadas dinamicamente\n",
    "for table_name in df_processados.keys():\n",
    "    print(f\"Variável criada: {table_name}\")  "
   ]
  },
  {
   "cell_type": "code",
   "execution_count": 7,
   "metadata": {},
   "outputs": [
    {
     "name": "stdout",
     "output_type": "stream",
     "text": [
      "Colunas: 5\n",
      "Linhas: 481\n"
     ]
    }
   ],
   "source": [
    "# Atribuir o df a uma variável com nome mais simples\n",
    "production_productsubcategory = df_processados['production_productsubcategory']\n",
    "\n",
    "print(f\"Colunas: {production_productsubcategory.shape[1]}\\nLinhas: {production_productsubcategory.shape[0]}\")"
   ]
  },
  {
   "cell_type": "code",
   "execution_count": 8,
   "metadata": {},
   "outputs": [
    {
     "data": {
      "text/html": [
       "<div>\n",
       "<style scoped>\n",
       "    .dataframe tbody tr th:only-of-type {\n",
       "        vertical-align: middle;\n",
       "    }\n",
       "\n",
       "    .dataframe tbody tr th {\n",
       "        vertical-align: top;\n",
       "    }\n",
       "\n",
       "    .dataframe thead th {\n",
       "        text-align: right;\n",
       "    }\n",
       "</style>\n",
       "<table border=\"1\" class=\"dataframe\">\n",
       "  <thead>\n",
       "    <tr style=\"text-align: right;\">\n",
       "      <th></th>\n",
       "      <th>productsubcategoryid</th>\n",
       "      <th>productcategoryid</th>\n",
       "      <th>name</th>\n",
       "      <th>rowguid</th>\n",
       "      <th>modifieddate</th>\n",
       "    </tr>\n",
       "  </thead>\n",
       "  <tbody>\n",
       "    <tr>\n",
       "      <th>0</th>\n",
       "      <td>1</td>\n",
       "      <td>1</td>\n",
       "      <td>Mountain Bikes</td>\n",
       "      <td>2d364ade-264a-433c-b092-4fcbf3804e01</td>\n",
       "      <td>2008-04-30 00:00:00+00:00</td>\n",
       "    </tr>\n",
       "    <tr>\n",
       "      <th>1</th>\n",
       "      <td>1</td>\n",
       "      <td>1</td>\n",
       "      <td>Mountain Bikes</td>\n",
       "      <td>2d364ade-264a-433c-b092-4fcbf3804e01</td>\n",
       "      <td>2008-04-30 00:00:00+00:00</td>\n",
       "    </tr>\n",
       "    <tr>\n",
       "      <th>2</th>\n",
       "      <td>1</td>\n",
       "      <td>1</td>\n",
       "      <td>Mountain Bikes</td>\n",
       "      <td>2d364ade-264a-433c-b092-4fcbf3804e01</td>\n",
       "      <td>2008-04-30 00:00:00+00:00</td>\n",
       "    </tr>\n",
       "    <tr>\n",
       "      <th>3</th>\n",
       "      <td>1</td>\n",
       "      <td>1</td>\n",
       "      <td>Mountain Bikes</td>\n",
       "      <td>2d364ade-264a-433c-b092-4fcbf3804e01</td>\n",
       "      <td>2008-04-30 00:00:00+00:00</td>\n",
       "    </tr>\n",
       "    <tr>\n",
       "      <th>4</th>\n",
       "      <td>1</td>\n",
       "      <td>1</td>\n",
       "      <td>Mountain Bikes</td>\n",
       "      <td>2d364ade-264a-433c-b092-4fcbf3804e01</td>\n",
       "      <td>2008-04-30 00:00:00+00:00</td>\n",
       "    </tr>\n",
       "  </tbody>\n",
       "</table>\n",
       "</div>"
      ],
      "text/plain": [
       "   productsubcategoryid  productcategoryid            name                               rowguid              modifieddate\n",
       "0                     1                  1  Mountain Bikes  2d364ade-264a-433c-b092-4fcbf3804e01 2008-04-30 00:00:00+00:00\n",
       "1                     1                  1  Mountain Bikes  2d364ade-264a-433c-b092-4fcbf3804e01 2008-04-30 00:00:00+00:00\n",
       "2                     1                  1  Mountain Bikes  2d364ade-264a-433c-b092-4fcbf3804e01 2008-04-30 00:00:00+00:00\n",
       "3                     1                  1  Mountain Bikes  2d364ade-264a-433c-b092-4fcbf3804e01 2008-04-30 00:00:00+00:00\n",
       "4                     1                  1  Mountain Bikes  2d364ade-264a-433c-b092-4fcbf3804e01 2008-04-30 00:00:00+00:00"
      ]
     },
     "execution_count": 8,
     "metadata": {},
     "output_type": "execute_result"
    }
   ],
   "source": [
    "production_productsubcategory.head()"
   ]
  },
  {
   "cell_type": "code",
   "execution_count": 9,
   "metadata": {},
   "outputs": [
    {
     "name": "stdout",
     "output_type": "stream",
     "text": [
      "duplicadas ordenadas:\n",
      "     productsubcategoryid  productcategoryid             name                               rowguid              modifieddate\n",
      "0                       1                  1   Mountain Bikes  2d364ade-264a-433c-b092-4fcbf3804e01 2008-04-30 00:00:00+00:00\n",
      "1                       1                  1   Mountain Bikes  2d364ade-264a-433c-b092-4fcbf3804e01 2008-04-30 00:00:00+00:00\n",
      "2                       1                  1   Mountain Bikes  2d364ade-264a-433c-b092-4fcbf3804e01 2008-04-30 00:00:00+00:00\n",
      "3                       1                  1   Mountain Bikes  2d364ade-264a-433c-b092-4fcbf3804e01 2008-04-30 00:00:00+00:00\n",
      "4                       1                  1   Mountain Bikes  2d364ade-264a-433c-b092-4fcbf3804e01 2008-04-30 00:00:00+00:00\n",
      "..                    ...                ...              ...                                   ...                       ...\n",
      "440                    37                  4  Tires and Tubes  3c17c9ae-e906-48b4-bdd3-60e28d47dcdf 2008-04-30 00:00:00+00:00\n",
      "441                    37                  4  Tires and Tubes  3c17c9ae-e906-48b4-bdd3-60e28d47dcdf 2008-04-30 00:00:00+00:00\n",
      "442                    37                  4  Tires and Tubes  3c17c9ae-e906-48b4-bdd3-60e28d47dcdf 2008-04-30 00:00:00+00:00\n",
      "443                    37                  4  Tires and Tubes  3c17c9ae-e906-48b4-bdd3-60e28d47dcdf 2008-04-30 00:00:00+00:00\n",
      "480                    37                  4  Tires and Tubes  3c17c9ae-e906-48b4-bdd3-60e28d47dcdf 2008-04-30 00:00:00+00:00\n",
      "\n",
      "[481 rows x 5 columns]\n"
     ]
    }
   ],
   "source": [
    "# Identificar duplicadas\n",
    "duplicadas = production_productsubcategory[production_productsubcategory.duplicated(subset=['productsubcategoryid'], keep=False)]\n",
    "\n",
    "# Verificar se existem duplicadas\n",
    "if not duplicadas.empty:\n",
    "    \n",
    "    duplicadas_ordenadas = duplicadas.sort_values(by=['productsubcategoryid', 'modifieddate'])\n",
    "\n",
    "    print(\"duplicadas ordenadas:\")\n",
    "    print(duplicadas_ordenadas)\n",
    "else:\n",
    "    print(\"Não foram encontradas duplicadas.\")"
   ]
  },
  {
   "cell_type": "code",
   "execution_count": 10,
   "metadata": {},
   "outputs": [
    {
     "name": "stdout",
     "output_type": "stream",
     "text": [
      "Linhas após remover duplicadas (baseando-se na última 'modifieddate'): 37\n"
     ]
    }
   ],
   "source": [
    "# Remover duplicadas* \n",
    "production_productsubcategory = production_productsubcategory.drop_duplicates(subset=['productsubcategoryid'], keep='last')\n",
    "\n",
    "print(f\"Linhas após remover duplicadas (baseando-se na última 'modifieddate'): {len(production_productsubcategory)}\")\n",
    "\n",
    "#bkp dos dados brutos\n",
    "raw_data_bkp_2_sem_duplicadas = production_productsubcategory.copy()\n",
    "\n",
    "\n",
    "#doc: bkp = backup (cópia)\n",
    "#doc*: mantendo a última ocorrência com base em 'modifieddate', pois ela que indica a data da última modificação nos dados\n",
    "#      Importante, pois se houver erro na ingestão (duplicação), mantém os dados íntegros."
   ]
  },
  {
   "cell_type": "code",
   "execution_count": 11,
   "metadata": {},
   "outputs": [
    {
     "name": "stdout",
     "output_type": "stream",
     "text": [
      "     productsubcategoryid  productcategoryid               name                               rowguid              modifieddate\n",
      "444                     1                  1     Mountain Bikes  2d364ade-264a-433c-b092-4fcbf3804e01 2008-04-30 00:00:00+00:00\n",
      "445                     2                  1         Road Bikes  000310c0-bcc8-42c4-b0c3-45ae611af06b 2008-04-30 00:00:00+00:00\n",
      "446                     3                  1      Touring Bikes  02c5061d-ecdc-4274-b5f1-e91d76bc3f37 2008-04-30 00:00:00+00:00\n",
      "447                     4                  2         Handlebars  3ef2c725-7135-4c85-9ae6-ae9a3bdd9283 2008-04-30 00:00:00+00:00\n",
      "448                     5                  2    Bottom Brackets  a9e54089-8a1e-4cf5-8646-e3801f685934 2008-04-30 00:00:00+00:00\n",
      "449                     6                  2             Brakes  d43ba4a3-ef0d-426b-90eb-4be4547dd30c 2008-04-30 00:00:00+00:00\n",
      "450                     7                  2             Chains  e93a7231-f16c-4b0f-8c41-c73fdec62da0 2008-04-30 00:00:00+00:00\n",
      "451                     8                  2          Cranksets  4f644521-422b-4f19-974a-e3df6102567e 2008-04-30 00:00:00+00:00\n",
      "452                     9                  2        Derailleurs  1830d70c-aa2a-40c0-a271-5ba86f38f8bf 2008-04-30 00:00:00+00:00\n",
      "453                    10                  2              Forks  b5f9ba42-b69b-4fdd-b2ec-57fb7b42e3cf 2008-04-30 00:00:00+00:00\n",
      "454                    11                  2           Headsets  7c782bbe-5a16-495a-aa50-10afe5a84af2 2008-04-30 00:00:00+00:00\n",
      "455                    12                  2    Mountain Frames  61b21b65-e16a-4be7-9300-4d8e9db861be 2008-04-30 00:00:00+00:00\n",
      "456                    13                  2             Pedals  6d24ac07-7a84-4849-864a-865a14125bc9 2008-04-30 00:00:00+00:00\n",
      "457                    14                  2        Road Frames  5515f857-075b-4f9a-87b7-43b4997077b3 2008-04-30 00:00:00+00:00\n",
      "458                    15                  2            Saddles  049fffa3-9d30-46df-82f7-f20730ec02b3 2008-04-30 00:00:00+00:00\n",
      "459                    16                  2     Touring Frames  d2e3f1a8-56c4-4f36-b29d-5659fc0d2789 2008-04-30 00:00:00+00:00\n",
      "460                    17                  2             Wheels  43521287-4b0b-438e-b80e-d82d9ad7c9f0 2008-04-30 00:00:00+00:00\n",
      "461                    18                  3         Bib-Shorts  67b58d2b-5798-4a90-8c6c-5ddacf057171 2008-04-30 00:00:00+00:00\n",
      "462                    19                  3               Caps  430dd6a8-a755-4b23-bb05-52520107da5f 2008-04-30 00:00:00+00:00\n",
      "463                    20                  3             Gloves  92d5657b-0032-4e49-bad5-41a441a70942 2008-04-30 00:00:00+00:00\n",
      "464                    21                  3            Jerseys  09e91437-ba4f-4b1a-8215-74184fd95db8 2008-04-30 00:00:00+00:00\n",
      "465                    22                  3             Shorts  1a5ba5b3-03c3-457c-b11e-4fa85ede87da 2008-04-30 00:00:00+00:00\n",
      "466                    23                  3              Socks  701019c3-09fe-4949-8386-c6ce686474e5 2008-04-30 00:00:00+00:00\n",
      "467                    24                  3             Tights  5deb3e55-9897-4416-b18a-515e970bc2d1 2008-04-30 00:00:00+00:00\n",
      "468                    25                  3              Vests  9ad7fe93-5ba0-4736-b578-ff80a2071297 2008-04-30 00:00:00+00:00\n",
      "469                    26                  4         Bike Racks  4624b5ce-66d6-496b-9201-c053df3556cc 2008-04-30 00:00:00+00:00\n",
      "470                    27                  4        Bike Stands  43b445c8-b820-424e-a1d5-90d81da0b46f 2008-04-30 00:00:00+00:00\n",
      "471                    28                  4  Bottles and Cages  9b7dff41-9fa3-4776-8def-2c9a48c8b779 2008-04-30 00:00:00+00:00\n",
      "472                    29                  4           Cleaners  9ad3bcf0-244d-4ec4-a6a0-fb701351c6a3 2008-04-30 00:00:00+00:00\n",
      "473                    30                  4            Fenders  1697f8a2-0a08-4883-b7dd-d19117b4e9a7 2008-04-30 00:00:00+00:00\n",
      "474                    31                  4            Helmets  f5e07a33-c9e0-439c-b5f3-9f25fb65becc 2008-04-30 00:00:00+00:00\n",
      "475                    32                  4    Hydration Packs  646a8906-fc87-4267-a443-9c6d791e6693 2008-04-30 00:00:00+00:00\n",
      "476                    33                  4             Lights  954178ba-624f-42db-95f6-ca035f36d130 2008-04-30 00:00:00+00:00\n",
      "477                    34                  4              Locks  19646983-3fa0-4773-9a0c-f34c49df9bc8 2008-04-30 00:00:00+00:00\n",
      "478                    35                  4           Panniers  3002a5d5-fec3-464b-bef3-e0f81d35f431 2008-04-30 00:00:00+00:00\n",
      "479                    36                  4              Pumps  fe4d46f2-c87c-48c5-a4a1-3f55712d80b1 2008-04-30 00:00:00+00:00\n",
      "480                    37                  4    Tires and Tubes  3c17c9ae-e906-48b4-bdd3-60e28d47dcdf 2008-04-30 00:00:00+00:00\n"
     ]
    }
   ],
   "source": [
    "# Ordenar e exibir o df por 'productsubcategoryid'\n",
    "production_productsubcategory = production_productsubcategory.sort_values(by=['productsubcategoryid'])\n",
    "\n",
    "print(production_productsubcategory)"
   ]
  },
  {
   "cell_type": "code",
   "execution_count": 12,
   "metadata": {},
   "outputs": [
    {
     "name": "stdout",
     "output_type": "stream",
     "text": [
      "Coluna 'productsubcategoryid': 0 linhas ausentes.\n",
      "Nenhuma linha com valores ausentes em 'productsubcategoryid'.\n",
      "\n",
      "Coluna 'productcategoryid': 0 linhas ausentes.\n",
      "Nenhuma linha com valores ausentes em 'productcategoryid'.\n",
      "\n",
      "Coluna 'name': 0 linhas ausentes.\n",
      "Nenhuma linha com valores ausentes em 'name'.\n",
      "\n",
      "Coluna 'rowguid': 0 linhas ausentes.\n",
      "Nenhuma linha com valores ausentes em 'rowguid'.\n",
      "\n",
      "Coluna 'modifieddate': 0 linhas ausentes.\n",
      "Nenhuma linha com valores ausentes em 'modifieddate'.\n",
      "\n"
     ]
    }
   ],
   "source": [
    "# Iterar por todas as colunas do df, para verificar valores ausentes\n",
    "\n",
    "# Verificar valores ausentes na coluna\n",
    "for column in production_productsubcategory.columns:   \n",
    "    missing_rows = production_productsubcategory[production_productsubcategory[column].isnull()]\n",
    "    print(f\"Coluna '{column}': {missing_rows.shape[0]} linhas ausentes.\")\n",
    "    \n",
    "# Mostrar as primeiras linhas ausentes, se preciso for, limitar o head() para dar menos outputs ou limitar os outputs\n",
    "    if not missing_rows.empty:\n",
    "        print(f\"Exibindo as primeiras linhas com valores ausentes em '{column}':\")\n",
    "        print(missing_rows.head(), \"\\n\")\n",
    "    else:\n",
    "        print(f\"Nenhuma linha com valores ausentes em '{column}'.\\n\")"
   ]
  },
  {
   "cell_type": "code",
   "execution_count": 13,
   "metadata": {},
   "outputs": [
    {
     "name": "stdout",
     "output_type": "stream",
     "text": [
      "Valores únicos incluindo NaN:\n",
      "productsubcategoryid    37\n",
      "productcategoryid        4\n",
      "name                    37\n",
      "rowguid                 37\n",
      "modifieddate             1\n",
      "dtype: int64\n"
     ]
    }
   ],
   "source": [
    "# Valores únicos por coluna, para verificar se colunas como flags, normalmente booleanas, possuem apenas 1 ou 2 valores.\n",
    "\n",
    "valores_unicos = production_productsubcategory.nunique(dropna=False)\n",
    "\n",
    "print(\"Valores únicos incluindo NaN:\")\n",
    "print(valores_unicos)"
   ]
  },
  {
   "cell_type": "code",
   "execution_count": 14,
   "metadata": {},
   "outputs": [
    {
     "name": "stdout",
     "output_type": "stream",
     "text": [
      "<class 'pandas.core.frame.DataFrame'>\n",
      "Index: 37 entries, 444 to 480\n",
      "Data columns (total 5 columns):\n",
      " #   Column                Non-Null Count  Dtype              \n",
      "---  ------                --------------  -----              \n",
      " 0   productsubcategoryid  37 non-null     Int64              \n",
      " 1   productcategoryid     37 non-null     Int64              \n",
      " 2   name                  37 non-null     object             \n",
      " 3   rowguid               37 non-null     object             \n",
      " 4   modifieddate          37 non-null     datetime64[us, UTC]\n",
      "dtypes: Int64(2), datetime64[us, UTC](1), object(2)\n",
      "memory usage: 1.8+ KB\n"
     ]
    }
   ],
   "source": [
    "#verificar informações do df\n",
    "production_productsubcategory.info()"
   ]
  },
  {
   "cell_type": "code",
   "execution_count": 15,
   "metadata": {},
   "outputs": [],
   "source": [
    "# Atualizar o dicionário df_processados com o df ajustado\n",
    "df_processados['production_productsubcategory'] = production_productsubcategory"
   ]
  },
  {
   "cell_type": "code",
   "execution_count": 16,
   "metadata": {},
   "outputs": [
    {
     "name": "stdout",
     "output_type": "stream",
     "text": [
      "     productsubcategoryid  productcategoryid             name                               rowguid              modifieddate\n",
      "444                     1                  1   MOUNTAIN BIKES  2D364ADE-264A-433C-B092-4FCBF3804E01 2008-04-30 00:00:00+00:00\n",
      "445                     2                  1       ROAD BIKES  000310C0-BCC8-42C4-B0C3-45AE611AF06B 2008-04-30 00:00:00+00:00\n",
      "446                     3                  1    TOURING BIKES  02C5061D-ECDC-4274-B5F1-E91D76BC3F37 2008-04-30 00:00:00+00:00\n",
      "447                     4                  2       HANDLEBARS  3EF2C725-7135-4C85-9AE6-AE9A3BDD9283 2008-04-30 00:00:00+00:00\n",
      "448                     5                  2  BOTTOM BRACKETS  A9E54089-8A1E-4CF5-8646-E3801F685934 2008-04-30 00:00:00+00:00\n"
     ]
    }
   ],
   "source": [
    "# Padronizar colunas com valores textuais\n",
    "production_productsubcategory['name'] = production_productsubcategory['name'].str.strip().str.upper()\n",
    "production_productsubcategory['rowguid'] = production_productsubcategory['rowguid'].str.strip().str.upper()\n",
    "\n",
    "print(production_productsubcategory.head())\n",
    "\n",
    "#doc: padronizar as strings nessa etapa, contribui para a execução das demais etapas do pipeline"
   ]
  },
  {
   "cell_type": "code",
   "execution_count": 17,
   "metadata": {},
   "outputs": [
    {
     "name": "stdout",
     "output_type": "stream",
     "text": [
      "Tabela production_productsubcategory exportada com sucesso para desafioadventureworks-446600.raw_data_cleaned.production_productsubcategory.\n"
     ]
    }
   ],
   "source": [
    "# Garantir que apenas tabelas únicas sejam exportadas\n",
    "unique_df_processados = {k: v for k, v in df_processados.items()}\n",
    "\n",
    "# Exportar tabelas para o BigQuery\n",
    "for table_name, df_cleaned in unique_df_processados.items():\n",
    " \n",
    "    output_table = f\"{output_dataset}.{table_name}\"\n",
    "   \n",
    "    job_config = bigquery.LoadJobConfig(\n",
    "        write_disposition=\"WRITE_TRUNCATE\"  \n",
    "    )\n",
    "    \n",
    "    job = client.load_table_from_dataframe(df_cleaned, output_table, job_config=job_config)\n",
    "    job.result()\n",
    "\n",
    "    print(f\"Tabela {table_name} exportada com sucesso para {output_table}.\")"
   ]
  },
  {
   "cell_type": "markdown",
   "metadata": {},
   "source": []
  }
 ],
 "metadata": {
  "kernelspec": {
   "display_name": "venv",
   "language": "python",
   "name": "python3"
  },
  "language_info": {
   "codemirror_mode": {
    "name": "ipython",
    "version": 3
   },
   "file_extension": ".py",
   "mimetype": "text/x-python",
   "name": "python",
   "nbconvert_exporter": "python",
   "pygments_lexer": "ipython3",
   "version": "3.10.9"
  }
 },
 "nbformat": 4,
 "nbformat_minor": 2
}
