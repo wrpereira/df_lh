{
 "cells": [
  {
   "cell_type": "markdown",
   "metadata": {},
   "source": [
    "### SETUP INICIAL DO PROJETO"
   ]
  },
  {
   "cell_type": "code",
   "execution_count": 1,
   "metadata": {},
   "outputs": [],
   "source": [
    "\n",
    "#importação das bibliotecase e pacotes necessários para a análise\n",
    "\n",
    "import json\n",
    "import matplotlib.pyplot as plt\n",
    "import numpy as np\n",
    "import os\n",
    "import pandas as pd\n",
    "import pandas_gbq as gbq\n",
    "import re\n",
    "import seaborn as sns\n",
    "from dotenv import load_dotenv\n",
    "from google.cloud import bigquery\n",
    "from google.cloud.bigquery_storage import BigQueryReadClient\n",
    "from google.oauth2 import service_account\n",
    "\n",
    "\n",
    "# carregar o .env com as credenciais\n",
    "load_dotenv(\"/mnt/c/Users/wrpen/OneDrive/Desktop/df_lh/.env\")\n",
    "\n",
    "\n",
    "# detectar ambiente: como eu estou usando wsl-ubuntu, no VS Code  -  Windows, estava dando conflitos de path\n",
    "if os.name == \"nt\":  # se Windows\n",
    "    credentials_path = r\"C:\\Temp\\desafiolh-445818-3cb0f62cb9ef.json\"\n",
    "else:  # se WSL/Linux\n",
    "    credentials_path = \"/mnt/c/Temp/desafiolh-445818-3cb0f62cb9ef.json\"\n",
    "\n",
    "\n",
    "# parâmetros injetados pelo Papermill ou definidos manualmente, caso não existam no ambiente\n",
    "if 'tables_to_process' not in locals():\n",
    "    tables_to_process = [\n",
    "        \"desafioadventureworks-446600.raw_data.production-product\"       \n",
    "    ]\n",
    "\n",
    "if 'output_dataset' not in locals():\n",
    "    output_dataset = \"desafioadventureworks-446600.raw_data_cleaned\"\n",
    "\n",
    "\n",
    "# configs do cliente BigQuery: input de project e location de acordo com dados no Bigquery\n",
    "credentials = service_account.Credentials.from_service_account_file(credentials_path)\n",
    "client = bigquery.Client(credentials=credentials, project=os.getenv(\"BIGQUERY_PROJECT\"), location=\"us-central1\")\n",
    "\n",
    "\n",
    "#doc: tables_to_process: lista de tabelas que serão processadas\n",
    "#     output_dataset: nome do dataset onde os dados processados serão armazenados, neste caso, raw_data_cleaned"
   ]
  },
  {
   "cell_type": "code",
   "execution_count": 2,
   "metadata": {},
   "outputs": [
    {
     "name": "stdout",
     "output_type": "stream",
     "text": [
      "Tabelas a processar: ['desafioadventureworks-446600.raw_data.production-product']\n"
     ]
    }
   ],
   "source": [
    "# Print com a tabela que vai ser processada nesse notebook\n",
    "\n",
    "print(\"Tabelas a processar:\", tables_to_process)"
   ]
  },
  {
   "cell_type": "code",
   "execution_count": 3,
   "metadata": {},
   "outputs": [
    {
     "name": "stdout",
     "output_type": "stream",
     "text": [
      "raw_data\n",
      "Tabelas disponíveis:\n",
      "humanresources-employee\n",
      "person-address\n",
      "person-businessentity\n",
      "person-person\n",
      "person-stateprovince\n",
      "production-location\n",
      "production-product\n",
      "production-productcategory\n",
      "production-productcosthistory\n",
      "production-productinventory\n",
      "production-productsubcategory\n",
      "purchasing-purchaseorderdetail\n",
      "purchasing-purchaseorderheader\n",
      "purchasing-vendor\n",
      "sales-creditcard\n",
      "sales-customer\n",
      "sales-salesorderdetail\n",
      "sales-salesorderheader\n",
      "sales-salesperson\n",
      "sales-salesterritory\n",
      "sales-store\n"
     ]
    }
   ],
   "source": [
    "# Nome do dataset no Bigquery com os dados brutos (.csv) extraídos pelo Meltano \n",
    "dataset_id = 'raw_data'\n",
    "print(dataset_id)\n",
    "\n",
    "# Lista de tabelas do dataset raw_data no Bigquery\n",
    "tables = client.list_tables('raw_data')\n",
    "print(\"Tabelas disponíveis:\")\n",
    "for table in tables:\n",
    "    print(table.table_id)"
   ]
  },
  {
   "cell_type": "markdown",
   "metadata": {},
   "source": [
    "# Exploratory Data Analysis (EDA) e Data Cleaning"
   ]
  },
  {
   "cell_type": "markdown",
   "metadata": {},
   "source": [
    "### Glossário dos dados:\n",
    "\n",
    "O termo ''doc:'', situado no rodapé de algumas cells, indica algo como:\n",
    "\n",
    "- documentação: documentar decisões, análises e resultados;\n",
    "\n",
    "- abreviações de termos, como bkp, df, entre outros."
   ]
  },
  {
   "cell_type": "code",
   "execution_count": 4,
   "metadata": {},
   "outputs": [],
   "source": [
    "# Setup inicial do df para realizar a EDA \n",
    "\n",
    "pd.set_option('display.max_columns', None)\n",
    "#pd.set_option('display.max_rows', None)\n",
    "pd.set_option('display.max_colwidth', None)\n",
    "pd.set_option('display.width', 10000)\n",
    "pd.options.display.float_format = '{:.2f}'.format\n",
    "\n",
    "\n",
    "#doc: df = dataframe  "
   ]
  },
  {
   "cell_type": "code",
   "execution_count": 5,
   "metadata": {},
   "outputs": [
    {
     "name": "stdout",
     "output_type": "stream",
     "text": [
      "Processando tabela: desafioadventureworks-446600.raw_data.production-product\n",
      "Lendo os dados do BigQuery...\n",
      "Tabela production_product processada e armazenada com sucesso.\n",
      "Todas as tabelas foram processadas com sucesso!\n"
     ]
    }
   ],
   "source": [
    "# Dicionário para armazenar os df processados\n",
    "df_processados = {}\n",
    "\n",
    "# Iteração das tabelas e armazenamento em df\n",
    "for input_table in tables_to_process:\n",
    "    print(f\"Processando tabela: {input_table}\")\n",
    "    \n",
    "    table_name = input_table.split(\".\")[-1].replace(\"-\", \"_\")  \n",
    "    \n",
    "    print(\"Lendo os dados do BigQuery...\")\n",
    "    query = f\"SELECT * FROM `{input_table}`\"\n",
    "    table_data = client.query(query).to_dataframe()\n",
    "    \n",
    "    df_processados[table_name] = table_data\n",
    "    print(f\"Tabela {table_name} processada e armazenada com sucesso.\")\n",
    "\n",
    "\n",
    "print(\"Todas as tabelas foram processadas com sucesso!\")"
   ]
  },
  {
   "cell_type": "code",
   "execution_count": 6,
   "metadata": {},
   "outputs": [
    {
     "name": "stdout",
     "output_type": "stream",
     "text": [
      "Variável criada: production_product\n"
     ]
    }
   ],
   "source": [
    "# Listar todas as variáveis criadas dinamicamente\n",
    "for table_name in df_processados.keys():\n",
    "    print(f\"Variável criada: {table_name}\")  "
   ]
  },
  {
   "cell_type": "code",
   "execution_count": 7,
   "metadata": {},
   "outputs": [
    {
     "name": "stdout",
     "output_type": "stream",
     "text": [
      "Colunas: 25\n",
      "Linhas: 6552\n"
     ]
    }
   ],
   "source": [
    "# Atribuir o df a uma variável com nome mais simples\n",
    "production_product = df_processados['production_product']\n",
    "\n",
    "print(f\"Colunas: {production_product.shape[1]}\\nLinhas: {production_product.shape[0]}\")"
   ]
  },
  {
   "cell_type": "code",
   "execution_count": 8,
   "metadata": {},
   "outputs": [
    {
     "name": "stdout",
     "output_type": "stream",
     "text": [
      "duplicadas ordenadas:\n",
      "      productid                name productnumber  makeflag  finishedgoodsflag  color  safetystocklevel  reorderpoint  standardcost  listprice  size sizeunitmeasurecode weightunitmeasurecode  weight  daystomanufacture productline class style  productsubcategoryid  productmodelid             sellstartdate sellenddate discontinueddate                               rowguid                     modifieddate\n",
      "0             1     Adjustable Race       AR-5381     False              False   None              1000           750          0.00       0.00  None                None                  None     NaN                  0        None  None  None                  <NA>            <NA> 2008-04-30 00:00:00+00:00         NaT             None  694215b7-08f7-4c0d-acb1-d734ba44c0c8 2014-02-08 10:01:36.827000+00:00\n",
      "504           1     Adjustable Race       AR-5381     False              False   None              1000           750          0.00       0.00  None                None                  None     NaN                  0        None  None  None                  <NA>            <NA> 2008-04-30 00:00:00+00:00         NaT             None  694215b7-08f7-4c0d-acb1-d734ba44c0c8 2014-02-08 10:01:36.827000+00:00\n",
      "505           1     Adjustable Race       AR-5381     False              False   None              1000           750          0.00       0.00  None                None                  None     NaN                  0        None  None  None                  <NA>            <NA> 2008-04-30 00:00:00+00:00         NaT             None  694215b7-08f7-4c0d-acb1-d734ba44c0c8 2014-02-08 10:01:36.827000+00:00\n",
      "506           1     Adjustable Race       AR-5381     False              False   None              1000           750          0.00       0.00  None                None                  None     NaN                  0        None  None  None                  <NA>            <NA> 2008-04-30 00:00:00+00:00         NaT             None  694215b7-08f7-4c0d-acb1-d734ba44c0c8 2014-02-08 10:01:36.827000+00:00\n",
      "507           1     Adjustable Race       AR-5381     False              False   None              1000           750          0.00       0.00  None                None                  None     NaN                  0        None  None  None                  <NA>            <NA> 2008-04-30 00:00:00+00:00         NaT             None  694215b7-08f7-4c0d-acb1-d734ba44c0c8 2014-02-08 10:01:36.827000+00:00\n",
      "...         ...                 ...           ...       ...                ...    ...               ...           ...           ...        ...   ...                 ...                   ...     ...                ...         ...   ...   ...                   ...             ...                       ...         ...              ...                                   ...                              ...\n",
      "3427        999  Road-750 Black, 52    BK-R19B-52      True               True  Black               100            75        343.65     539.99    52                 CM                    LB    20.42                  4          R     L     U                      2              31 2013-05-30 00:00:00+00:00         NaT             None  ae638923-2b67-4679-b90e-abbab17dca31 2014-02-08 10:01:36.827000+00:00\n",
      "3428        999  Road-750 Black, 52    BK-R19B-52      True               True  Black               100            75        343.65     539.99    52                 CM                    LB    20.42                  4          R     L     U                      2              31 2013-05-30 00:00:00+00:00         NaT             None  ae638923-2b67-4679-b90e-abbab17dca31 2014-02-08 10:01:36.827000+00:00\n",
      "3429        999  Road-750 Black, 52    BK-R19B-52      True               True  Black               100            75        343.65     539.99    52                 CM                    LB    20.42                  4          R     L     U                      2              31 2013-05-30 00:00:00+00:00         NaT             None  ae638923-2b67-4679-b90e-abbab17dca31 2014-02-08 10:01:36.827000+00:00\n",
      "3430        999  Road-750 Black, 52    BK-R19B-52      True               True  Black               100            75        343.65     539.99    52                 CM                    LB    20.42                  4          R     L     U                      2              31 2013-05-30 00:00:00+00:00         NaT             None  ae638923-2b67-4679-b90e-abbab17dca31 2014-02-08 10:01:36.827000+00:00\n",
      "3431        999  Road-750 Black, 52    BK-R19B-52      True               True  Black               100            75        343.65     539.99    52                 CM                    LB    20.42                  4          R     L     U                      2              31 2013-05-30 00:00:00+00:00         NaT             None  ae638923-2b67-4679-b90e-abbab17dca31 2014-02-08 10:01:36.827000+00:00\n",
      "\n",
      "[6552 rows x 25 columns]\n"
     ]
    }
   ],
   "source": [
    "# Identificar duplicadas\n",
    "duplicadas = production_product[production_product.duplicated(subset=['productid'], keep=False)]\n",
    "\n",
    "# Verificar se existem duplicadas\n",
    "if not duplicadas.empty:\n",
    "    \n",
    "    duplicadas_ordenadas = duplicadas.sort_values(by=['productid', 'modifieddate'])\n",
    "\n",
    "    print(\"duplicadas ordenadas:\")\n",
    "    print(duplicadas_ordenadas)\n",
    "else:\n",
    "    print(\"Não foram encontradas duplicadas.\")"
   ]
  },
  {
   "cell_type": "code",
   "execution_count": 9,
   "metadata": {},
   "outputs": [
    {
     "name": "stdout",
     "output_type": "stream",
     "text": [
      "Linhas após remover duplicadas (baseando-se na última 'modifieddate'): 504\n"
     ]
    }
   ],
   "source": [
    "# Remover duplicadas* \n",
    "production_product = production_product.drop_duplicates(subset=['productid'], keep='last')\n",
    "\n",
    "print(f\"Linhas após remover duplicadas (baseando-se na última 'modifieddate'): {len(production_product)}\")\n",
    "\n",
    "#bkp dos dados brutos\n",
    "raw_data_bkp_2_sem_duplicadas = production_product.copy()\n",
    "\n",
    "\n",
    "#doc: bkp = backup (cópia)\n",
    "#doc*: mantendo a última ocorrência com base em 'modifieddate', pois ela que indica a data da última modificação nos dados\n",
    "#      Importante, pois se houver erro na ingestão (duplicação), mantém os dados íntegros."
   ]
  },
  {
   "cell_type": "code",
   "execution_count": 10,
   "metadata": {},
   "outputs": [
    {
     "name": "stdout",
     "output_type": "stream",
     "text": [
      "      productid                   name productnumber  makeflag  finishedgoodsflag  color  safetystocklevel  reorderpoint  standardcost  listprice  size sizeunitmeasurecode weightunitmeasurecode  weight  daystomanufacture productline class style  productsubcategoryid  productmodelid             sellstartdate sellenddate discontinueddate                               rowguid                     modifieddate\n",
      "515           1        Adjustable Race       AR-5381     False              False   None              1000           750          0.00       0.00  None                None                  None     NaN                  0        None  None  None                  <NA>            <NA> 2008-04-30 00:00:00+00:00         NaT             None  694215b7-08f7-4c0d-acb1-d734ba44c0c8 2014-02-08 10:01:36.827000+00:00\n",
      "527           2           Bearing Ball       BA-8327     False              False   None              1000           750          0.00       0.00  None                None                  None     NaN                  0        None  None  None                  <NA>            <NA> 2008-04-30 00:00:00+00:00         NaT             None  58ae3c20-4f3a-4749-a7d4-d568806cc537 2014-02-08 10:01:36.827000+00:00\n",
      "539           3        BB Ball Bearing       BE-2349      True              False   None               800           600          0.00       0.00  None                None                  None     NaN                  1        None  None  None                  <NA>            <NA> 2008-04-30 00:00:00+00:00         NaT             None  9c21aed2-5bfa-4f18-bcb8-f11638dc2e4e 2014-02-08 10:01:36.827000+00:00\n",
      "551           4  Headset Ball Bearings       BE-2908     False              False   None               800           600          0.00       0.00  None                None                  None     NaN                  0        None  None  None                  <NA>            <NA> 2008-04-30 00:00:00+00:00         NaT             None  ecfed6cb-51ff-49b5-b06c-7d8ac834db8b 2014-02-08 10:01:36.827000+00:00\n",
      "563         316                  Blade       BL-2036      True              False   None               800           600          0.00       0.00  None                None                  None     NaN                  1        None  None  None                  <NA>            <NA> 2008-04-30 00:00:00+00:00         NaT             None  e73e9750-603b-4131-89f5-3dd15ed5ff80 2014-02-08 10:01:36.827000+00:00\n",
      "...         ...                    ...           ...       ...                ...    ...               ...           ...           ...        ...   ...                 ...                   ...     ...                ...         ...   ...   ...                   ...             ...                       ...         ...              ...                                   ...                              ...\n",
      "4295        995      ML Bottom Bracket       BB-8107      True               True   None               500           375         44.95     101.24  None                None                   G    168.00                  1        None    M   None                     5              96 2013-05-30 00:00:00+00:00         NaT             None  71ab847f-d091-42d6-b735-7b0c2d82fc84 2014-02-08 10:01:36.827000+00:00\n",
      "4307        996      HL Bottom Bracket       BB-9108      True               True   None               500           375         53.94     121.49  None                None                   G    170.00                  1        None    H   None                     5              97 2013-05-30 00:00:00+00:00         NaT             None  230c47c5-08b2-4ce3-b706-69c0bdd62965 2014-02-08 10:01:36.827000+00:00\n",
      "3407        997     Road-750 Black, 44    BK-R19B-44      True               True  Black               100            75        343.65     539.99    44                 CM                    LB    19.77                  4          R     L     U                      2              31 2013-05-30 00:00:00+00:00         NaT             None  44ce4802-409f-43ab-9b27-ca53421805be 2014-02-08 10:01:36.827000+00:00\n",
      "3419        998     Road-750 Black, 48    BK-R19B-48      True               True  Black               100            75        343.65     539.99    48                 CM                    LB    20.13                  4          R     L     U                      2              31 2013-05-30 00:00:00+00:00         NaT             None  3de9a212-1d49-40b6-b10a-f564d981dbde 2014-02-08 10:01:36.827000+00:00\n",
      "3431        999     Road-750 Black, 52    BK-R19B-52      True               True  Black               100            75        343.65     539.99    52                 CM                    LB    20.42                  4          R     L     U                      2              31 2013-05-30 00:00:00+00:00         NaT             None  ae638923-2b67-4679-b90e-abbab17dca31 2014-02-08 10:01:36.827000+00:00\n",
      "\n",
      "[504 rows x 25 columns]\n"
     ]
    }
   ],
   "source": [
    "# Ordenar e exibir o df por 'productid'\n",
    "production_product = production_product.sort_values(by=['productid'])\n",
    "\n",
    "print(production_product)"
   ]
  },
  {
   "cell_type": "code",
   "execution_count": 11,
   "metadata": {},
   "outputs": [
    {
     "name": "stdout",
     "output_type": "stream",
     "text": [
      "Coluna 'productid': 0 linhas ausentes.\n",
      "Nenhuma linha com valores ausentes em 'productid'.\n",
      "\n",
      "Coluna 'name': 0 linhas ausentes.\n",
      "Nenhuma linha com valores ausentes em 'name'.\n",
      "\n",
      "Coluna 'productnumber': 0 linhas ausentes.\n",
      "Nenhuma linha com valores ausentes em 'productnumber'.\n",
      "\n",
      "Coluna 'makeflag': 0 linhas ausentes.\n",
      "Nenhuma linha com valores ausentes em 'makeflag'.\n",
      "\n",
      "Coluna 'finishedgoodsflag': 0 linhas ausentes.\n",
      "Nenhuma linha com valores ausentes em 'finishedgoodsflag'.\n",
      "\n",
      "Coluna 'color': 248 linhas ausentes.\n",
      "Exibindo as primeiras linhas com valores ausentes em 'color':\n",
      "     productid                   name productnumber  makeflag  finishedgoodsflag color  safetystocklevel  reorderpoint  standardcost  listprice  size sizeunitmeasurecode weightunitmeasurecode  weight  daystomanufacture productline class style  productsubcategoryid  productmodelid             sellstartdate sellenddate discontinueddate                               rowguid                     modifieddate\n",
      "515          1        Adjustable Race       AR-5381     False              False  None              1000           750          0.00       0.00  None                None                  None     NaN                  0        None  None  None                  <NA>            <NA> 2008-04-30 00:00:00+00:00         NaT             None  694215b7-08f7-4c0d-acb1-d734ba44c0c8 2014-02-08 10:01:36.827000+00:00\n",
      "527          2           Bearing Ball       BA-8327     False              False  None              1000           750          0.00       0.00  None                None                  None     NaN                  0        None  None  None                  <NA>            <NA> 2008-04-30 00:00:00+00:00         NaT             None  58ae3c20-4f3a-4749-a7d4-d568806cc537 2014-02-08 10:01:36.827000+00:00\n",
      "539          3        BB Ball Bearing       BE-2349      True              False  None               800           600          0.00       0.00  None                None                  None     NaN                  1        None  None  None                  <NA>            <NA> 2008-04-30 00:00:00+00:00         NaT             None  9c21aed2-5bfa-4f18-bcb8-f11638dc2e4e 2014-02-08 10:01:36.827000+00:00\n",
      "551          4  Headset Ball Bearings       BE-2908     False              False  None               800           600          0.00       0.00  None                None                  None     NaN                  0        None  None  None                  <NA>            <NA> 2008-04-30 00:00:00+00:00         NaT             None  ecfed6cb-51ff-49b5-b06c-7d8ac834db8b 2014-02-08 10:01:36.827000+00:00\n",
      "563        316                  Blade       BL-2036      True              False  None               800           600          0.00       0.00  None                None                  None     NaN                  1        None  None  None                  <NA>            <NA> 2008-04-30 00:00:00+00:00         NaT             None  e73e9750-603b-4131-89f5-3dd15ed5ff80 2014-02-08 10:01:36.827000+00:00 \n",
      "\n",
      "Coluna 'safetystocklevel': 0 linhas ausentes.\n",
      "Nenhuma linha com valores ausentes em 'safetystocklevel'.\n",
      "\n",
      "Coluna 'reorderpoint': 0 linhas ausentes.\n",
      "Nenhuma linha com valores ausentes em 'reorderpoint'.\n",
      "\n",
      "Coluna 'standardcost': 0 linhas ausentes.\n",
      "Nenhuma linha com valores ausentes em 'standardcost'.\n",
      "\n",
      "Coluna 'listprice': 0 linhas ausentes.\n",
      "Nenhuma linha com valores ausentes em 'listprice'.\n",
      "\n",
      "Coluna 'size': 293 linhas ausentes.\n",
      "Exibindo as primeiras linhas com valores ausentes em 'size':\n",
      "     productid                   name productnumber  makeflag  finishedgoodsflag color  safetystocklevel  reorderpoint  standardcost  listprice  size sizeunitmeasurecode weightunitmeasurecode  weight  daystomanufacture productline class style  productsubcategoryid  productmodelid             sellstartdate sellenddate discontinueddate                               rowguid                     modifieddate\n",
      "515          1        Adjustable Race       AR-5381     False              False  None              1000           750          0.00       0.00  None                None                  None     NaN                  0        None  None  None                  <NA>            <NA> 2008-04-30 00:00:00+00:00         NaT             None  694215b7-08f7-4c0d-acb1-d734ba44c0c8 2014-02-08 10:01:36.827000+00:00\n",
      "527          2           Bearing Ball       BA-8327     False              False  None              1000           750          0.00       0.00  None                None                  None     NaN                  0        None  None  None                  <NA>            <NA> 2008-04-30 00:00:00+00:00         NaT             None  58ae3c20-4f3a-4749-a7d4-d568806cc537 2014-02-08 10:01:36.827000+00:00\n",
      "539          3        BB Ball Bearing       BE-2349      True              False  None               800           600          0.00       0.00  None                None                  None     NaN                  1        None  None  None                  <NA>            <NA> 2008-04-30 00:00:00+00:00         NaT             None  9c21aed2-5bfa-4f18-bcb8-f11638dc2e4e 2014-02-08 10:01:36.827000+00:00\n",
      "551          4  Headset Ball Bearings       BE-2908     False              False  None               800           600          0.00       0.00  None                None                  None     NaN                  0        None  None  None                  <NA>            <NA> 2008-04-30 00:00:00+00:00         NaT             None  ecfed6cb-51ff-49b5-b06c-7d8ac834db8b 2014-02-08 10:01:36.827000+00:00\n",
      "563        316                  Blade       BL-2036      True              False  None               800           600          0.00       0.00  None                None                  None     NaN                  1        None  None  None                  <NA>            <NA> 2008-04-30 00:00:00+00:00         NaT             None  e73e9750-603b-4131-89f5-3dd15ed5ff80 2014-02-08 10:01:36.827000+00:00 \n",
      "\n",
      "Coluna 'sizeunitmeasurecode': 328 linhas ausentes.\n",
      "Exibindo as primeiras linhas com valores ausentes em 'sizeunitmeasurecode':\n",
      "     productid                   name productnumber  makeflag  finishedgoodsflag color  safetystocklevel  reorderpoint  standardcost  listprice  size sizeunitmeasurecode weightunitmeasurecode  weight  daystomanufacture productline class style  productsubcategoryid  productmodelid             sellstartdate sellenddate discontinueddate                               rowguid                     modifieddate\n",
      "515          1        Adjustable Race       AR-5381     False              False  None              1000           750          0.00       0.00  None                None                  None     NaN                  0        None  None  None                  <NA>            <NA> 2008-04-30 00:00:00+00:00         NaT             None  694215b7-08f7-4c0d-acb1-d734ba44c0c8 2014-02-08 10:01:36.827000+00:00\n",
      "527          2           Bearing Ball       BA-8327     False              False  None              1000           750          0.00       0.00  None                None                  None     NaN                  0        None  None  None                  <NA>            <NA> 2008-04-30 00:00:00+00:00         NaT             None  58ae3c20-4f3a-4749-a7d4-d568806cc537 2014-02-08 10:01:36.827000+00:00\n",
      "539          3        BB Ball Bearing       BE-2349      True              False  None               800           600          0.00       0.00  None                None                  None     NaN                  1        None  None  None                  <NA>            <NA> 2008-04-30 00:00:00+00:00         NaT             None  9c21aed2-5bfa-4f18-bcb8-f11638dc2e4e 2014-02-08 10:01:36.827000+00:00\n",
      "551          4  Headset Ball Bearings       BE-2908     False              False  None               800           600          0.00       0.00  None                None                  None     NaN                  0        None  None  None                  <NA>            <NA> 2008-04-30 00:00:00+00:00         NaT             None  ecfed6cb-51ff-49b5-b06c-7d8ac834db8b 2014-02-08 10:01:36.827000+00:00\n",
      "563        316                  Blade       BL-2036      True              False  None               800           600          0.00       0.00  None                None                  None     NaN                  1        None  None  None                  <NA>            <NA> 2008-04-30 00:00:00+00:00         NaT             None  e73e9750-603b-4131-89f5-3dd15ed5ff80 2014-02-08 10:01:36.827000+00:00 \n",
      "\n",
      "Coluna 'weightunitmeasurecode': 299 linhas ausentes.\n",
      "Exibindo as primeiras linhas com valores ausentes em 'weightunitmeasurecode':\n",
      "     productid                   name productnumber  makeflag  finishedgoodsflag color  safetystocklevel  reorderpoint  standardcost  listprice  size sizeunitmeasurecode weightunitmeasurecode  weight  daystomanufacture productline class style  productsubcategoryid  productmodelid             sellstartdate sellenddate discontinueddate                               rowguid                     modifieddate\n",
      "515          1        Adjustable Race       AR-5381     False              False  None              1000           750          0.00       0.00  None                None                  None     NaN                  0        None  None  None                  <NA>            <NA> 2008-04-30 00:00:00+00:00         NaT             None  694215b7-08f7-4c0d-acb1-d734ba44c0c8 2014-02-08 10:01:36.827000+00:00\n",
      "527          2           Bearing Ball       BA-8327     False              False  None              1000           750          0.00       0.00  None                None                  None     NaN                  0        None  None  None                  <NA>            <NA> 2008-04-30 00:00:00+00:00         NaT             None  58ae3c20-4f3a-4749-a7d4-d568806cc537 2014-02-08 10:01:36.827000+00:00\n",
      "539          3        BB Ball Bearing       BE-2349      True              False  None               800           600          0.00       0.00  None                None                  None     NaN                  1        None  None  None                  <NA>            <NA> 2008-04-30 00:00:00+00:00         NaT             None  9c21aed2-5bfa-4f18-bcb8-f11638dc2e4e 2014-02-08 10:01:36.827000+00:00\n",
      "551          4  Headset Ball Bearings       BE-2908     False              False  None               800           600          0.00       0.00  None                None                  None     NaN                  0        None  None  None                  <NA>            <NA> 2008-04-30 00:00:00+00:00         NaT             None  ecfed6cb-51ff-49b5-b06c-7d8ac834db8b 2014-02-08 10:01:36.827000+00:00\n",
      "563        316                  Blade       BL-2036      True              False  None               800           600          0.00       0.00  None                None                  None     NaN                  1        None  None  None                  <NA>            <NA> 2008-04-30 00:00:00+00:00         NaT             None  e73e9750-603b-4131-89f5-3dd15ed5ff80 2014-02-08 10:01:36.827000+00:00 \n",
      "\n",
      "Coluna 'weight': 299 linhas ausentes.\n",
      "Exibindo as primeiras linhas com valores ausentes em 'weight':\n",
      "     productid                   name productnumber  makeflag  finishedgoodsflag color  safetystocklevel  reorderpoint  standardcost  listprice  size sizeunitmeasurecode weightunitmeasurecode  weight  daystomanufacture productline class style  productsubcategoryid  productmodelid             sellstartdate sellenddate discontinueddate                               rowguid                     modifieddate\n",
      "515          1        Adjustable Race       AR-5381     False              False  None              1000           750          0.00       0.00  None                None                  None     NaN                  0        None  None  None                  <NA>            <NA> 2008-04-30 00:00:00+00:00         NaT             None  694215b7-08f7-4c0d-acb1-d734ba44c0c8 2014-02-08 10:01:36.827000+00:00\n",
      "527          2           Bearing Ball       BA-8327     False              False  None              1000           750          0.00       0.00  None                None                  None     NaN                  0        None  None  None                  <NA>            <NA> 2008-04-30 00:00:00+00:00         NaT             None  58ae3c20-4f3a-4749-a7d4-d568806cc537 2014-02-08 10:01:36.827000+00:00\n",
      "539          3        BB Ball Bearing       BE-2349      True              False  None               800           600          0.00       0.00  None                None                  None     NaN                  1        None  None  None                  <NA>            <NA> 2008-04-30 00:00:00+00:00         NaT             None  9c21aed2-5bfa-4f18-bcb8-f11638dc2e4e 2014-02-08 10:01:36.827000+00:00\n",
      "551          4  Headset Ball Bearings       BE-2908     False              False  None               800           600          0.00       0.00  None                None                  None     NaN                  0        None  None  None                  <NA>            <NA> 2008-04-30 00:00:00+00:00         NaT             None  ecfed6cb-51ff-49b5-b06c-7d8ac834db8b 2014-02-08 10:01:36.827000+00:00\n",
      "563        316                  Blade       BL-2036      True              False  None               800           600          0.00       0.00  None                None                  None     NaN                  1        None  None  None                  <NA>            <NA> 2008-04-30 00:00:00+00:00         NaT             None  e73e9750-603b-4131-89f5-3dd15ed5ff80 2014-02-08 10:01:36.827000+00:00 \n",
      "\n",
      "Coluna 'daystomanufacture': 0 linhas ausentes.\n",
      "Nenhuma linha com valores ausentes em 'daystomanufacture'.\n",
      "\n",
      "Coluna 'productline': 226 linhas ausentes.\n",
      "Exibindo as primeiras linhas com valores ausentes em 'productline':\n",
      "     productid                   name productnumber  makeflag  finishedgoodsflag color  safetystocklevel  reorderpoint  standardcost  listprice  size sizeunitmeasurecode weightunitmeasurecode  weight  daystomanufacture productline class style  productsubcategoryid  productmodelid             sellstartdate sellenddate discontinueddate                               rowguid                     modifieddate\n",
      "515          1        Adjustable Race       AR-5381     False              False  None              1000           750          0.00       0.00  None                None                  None     NaN                  0        None  None  None                  <NA>            <NA> 2008-04-30 00:00:00+00:00         NaT             None  694215b7-08f7-4c0d-acb1-d734ba44c0c8 2014-02-08 10:01:36.827000+00:00\n",
      "527          2           Bearing Ball       BA-8327     False              False  None              1000           750          0.00       0.00  None                None                  None     NaN                  0        None  None  None                  <NA>            <NA> 2008-04-30 00:00:00+00:00         NaT             None  58ae3c20-4f3a-4749-a7d4-d568806cc537 2014-02-08 10:01:36.827000+00:00\n",
      "539          3        BB Ball Bearing       BE-2349      True              False  None               800           600          0.00       0.00  None                None                  None     NaN                  1        None  None  None                  <NA>            <NA> 2008-04-30 00:00:00+00:00         NaT             None  9c21aed2-5bfa-4f18-bcb8-f11638dc2e4e 2014-02-08 10:01:36.827000+00:00\n",
      "551          4  Headset Ball Bearings       BE-2908     False              False  None               800           600          0.00       0.00  None                None                  None     NaN                  0        None  None  None                  <NA>            <NA> 2008-04-30 00:00:00+00:00         NaT             None  ecfed6cb-51ff-49b5-b06c-7d8ac834db8b 2014-02-08 10:01:36.827000+00:00\n",
      "563        316                  Blade       BL-2036      True              False  None               800           600          0.00       0.00  None                None                  None     NaN                  1        None  None  None                  <NA>            <NA> 2008-04-30 00:00:00+00:00         NaT             None  e73e9750-603b-4131-89f5-3dd15ed5ff80 2014-02-08 10:01:36.827000+00:00 \n",
      "\n",
      "Coluna 'class': 257 linhas ausentes.\n",
      "Exibindo as primeiras linhas com valores ausentes em 'class':\n",
      "     productid                   name productnumber  makeflag  finishedgoodsflag color  safetystocklevel  reorderpoint  standardcost  listprice  size sizeunitmeasurecode weightunitmeasurecode  weight  daystomanufacture productline class style  productsubcategoryid  productmodelid             sellstartdate sellenddate discontinueddate                               rowguid                     modifieddate\n",
      "515          1        Adjustable Race       AR-5381     False              False  None              1000           750          0.00       0.00  None                None                  None     NaN                  0        None  None  None                  <NA>            <NA> 2008-04-30 00:00:00+00:00         NaT             None  694215b7-08f7-4c0d-acb1-d734ba44c0c8 2014-02-08 10:01:36.827000+00:00\n",
      "527          2           Bearing Ball       BA-8327     False              False  None              1000           750          0.00       0.00  None                None                  None     NaN                  0        None  None  None                  <NA>            <NA> 2008-04-30 00:00:00+00:00         NaT             None  58ae3c20-4f3a-4749-a7d4-d568806cc537 2014-02-08 10:01:36.827000+00:00\n",
      "539          3        BB Ball Bearing       BE-2349      True              False  None               800           600          0.00       0.00  None                None                  None     NaN                  1        None  None  None                  <NA>            <NA> 2008-04-30 00:00:00+00:00         NaT             None  9c21aed2-5bfa-4f18-bcb8-f11638dc2e4e 2014-02-08 10:01:36.827000+00:00\n",
      "551          4  Headset Ball Bearings       BE-2908     False              False  None               800           600          0.00       0.00  None                None                  None     NaN                  0        None  None  None                  <NA>            <NA> 2008-04-30 00:00:00+00:00         NaT             None  ecfed6cb-51ff-49b5-b06c-7d8ac834db8b 2014-02-08 10:01:36.827000+00:00\n",
      "563        316                  Blade       BL-2036      True              False  None               800           600          0.00       0.00  None                None                  None     NaN                  1        None  None  None                  <NA>            <NA> 2008-04-30 00:00:00+00:00         NaT             None  e73e9750-603b-4131-89f5-3dd15ed5ff80 2014-02-08 10:01:36.827000+00:00 \n",
      "\n",
      "Coluna 'style': 293 linhas ausentes.\n",
      "Exibindo as primeiras linhas com valores ausentes em 'style':\n",
      "     productid                   name productnumber  makeflag  finishedgoodsflag color  safetystocklevel  reorderpoint  standardcost  listprice  size sizeunitmeasurecode weightunitmeasurecode  weight  daystomanufacture productline class style  productsubcategoryid  productmodelid             sellstartdate sellenddate discontinueddate                               rowguid                     modifieddate\n",
      "515          1        Adjustable Race       AR-5381     False              False  None              1000           750          0.00       0.00  None                None                  None     NaN                  0        None  None  None                  <NA>            <NA> 2008-04-30 00:00:00+00:00         NaT             None  694215b7-08f7-4c0d-acb1-d734ba44c0c8 2014-02-08 10:01:36.827000+00:00\n",
      "527          2           Bearing Ball       BA-8327     False              False  None              1000           750          0.00       0.00  None                None                  None     NaN                  0        None  None  None                  <NA>            <NA> 2008-04-30 00:00:00+00:00         NaT             None  58ae3c20-4f3a-4749-a7d4-d568806cc537 2014-02-08 10:01:36.827000+00:00\n",
      "539          3        BB Ball Bearing       BE-2349      True              False  None               800           600          0.00       0.00  None                None                  None     NaN                  1        None  None  None                  <NA>            <NA> 2008-04-30 00:00:00+00:00         NaT             None  9c21aed2-5bfa-4f18-bcb8-f11638dc2e4e 2014-02-08 10:01:36.827000+00:00\n",
      "551          4  Headset Ball Bearings       BE-2908     False              False  None               800           600          0.00       0.00  None                None                  None     NaN                  0        None  None  None                  <NA>            <NA> 2008-04-30 00:00:00+00:00         NaT             None  ecfed6cb-51ff-49b5-b06c-7d8ac834db8b 2014-02-08 10:01:36.827000+00:00\n",
      "563        316                  Blade       BL-2036      True              False  None               800           600          0.00       0.00  None                None                  None     NaN                  1        None  None  None                  <NA>            <NA> 2008-04-30 00:00:00+00:00         NaT             None  e73e9750-603b-4131-89f5-3dd15ed5ff80 2014-02-08 10:01:36.827000+00:00 \n",
      "\n",
      "Coluna 'productsubcategoryid': 209 linhas ausentes.\n",
      "Exibindo as primeiras linhas com valores ausentes em 'productsubcategoryid':\n",
      "     productid                   name productnumber  makeflag  finishedgoodsflag color  safetystocklevel  reorderpoint  standardcost  listprice  size sizeunitmeasurecode weightunitmeasurecode  weight  daystomanufacture productline class style  productsubcategoryid  productmodelid             sellstartdate sellenddate discontinueddate                               rowguid                     modifieddate\n",
      "515          1        Adjustable Race       AR-5381     False              False  None              1000           750          0.00       0.00  None                None                  None     NaN                  0        None  None  None                  <NA>            <NA> 2008-04-30 00:00:00+00:00         NaT             None  694215b7-08f7-4c0d-acb1-d734ba44c0c8 2014-02-08 10:01:36.827000+00:00\n",
      "527          2           Bearing Ball       BA-8327     False              False  None              1000           750          0.00       0.00  None                None                  None     NaN                  0        None  None  None                  <NA>            <NA> 2008-04-30 00:00:00+00:00         NaT             None  58ae3c20-4f3a-4749-a7d4-d568806cc537 2014-02-08 10:01:36.827000+00:00\n",
      "539          3        BB Ball Bearing       BE-2349      True              False  None               800           600          0.00       0.00  None                None                  None     NaN                  1        None  None  None                  <NA>            <NA> 2008-04-30 00:00:00+00:00         NaT             None  9c21aed2-5bfa-4f18-bcb8-f11638dc2e4e 2014-02-08 10:01:36.827000+00:00\n",
      "551          4  Headset Ball Bearings       BE-2908     False              False  None               800           600          0.00       0.00  None                None                  None     NaN                  0        None  None  None                  <NA>            <NA> 2008-04-30 00:00:00+00:00         NaT             None  ecfed6cb-51ff-49b5-b06c-7d8ac834db8b 2014-02-08 10:01:36.827000+00:00\n",
      "563        316                  Blade       BL-2036      True              False  None               800           600          0.00       0.00  None                None                  None     NaN                  1        None  None  None                  <NA>            <NA> 2008-04-30 00:00:00+00:00         NaT             None  e73e9750-603b-4131-89f5-3dd15ed5ff80 2014-02-08 10:01:36.827000+00:00 \n",
      "\n",
      "Coluna 'productmodelid': 209 linhas ausentes.\n",
      "Exibindo as primeiras linhas com valores ausentes em 'productmodelid':\n",
      "     productid                   name productnumber  makeflag  finishedgoodsflag color  safetystocklevel  reorderpoint  standardcost  listprice  size sizeunitmeasurecode weightunitmeasurecode  weight  daystomanufacture productline class style  productsubcategoryid  productmodelid             sellstartdate sellenddate discontinueddate                               rowguid                     modifieddate\n",
      "515          1        Adjustable Race       AR-5381     False              False  None              1000           750          0.00       0.00  None                None                  None     NaN                  0        None  None  None                  <NA>            <NA> 2008-04-30 00:00:00+00:00         NaT             None  694215b7-08f7-4c0d-acb1-d734ba44c0c8 2014-02-08 10:01:36.827000+00:00\n",
      "527          2           Bearing Ball       BA-8327     False              False  None              1000           750          0.00       0.00  None                None                  None     NaN                  0        None  None  None                  <NA>            <NA> 2008-04-30 00:00:00+00:00         NaT             None  58ae3c20-4f3a-4749-a7d4-d568806cc537 2014-02-08 10:01:36.827000+00:00\n",
      "539          3        BB Ball Bearing       BE-2349      True              False  None               800           600          0.00       0.00  None                None                  None     NaN                  1        None  None  None                  <NA>            <NA> 2008-04-30 00:00:00+00:00         NaT             None  9c21aed2-5bfa-4f18-bcb8-f11638dc2e4e 2014-02-08 10:01:36.827000+00:00\n",
      "551          4  Headset Ball Bearings       BE-2908     False              False  None               800           600          0.00       0.00  None                None                  None     NaN                  0        None  None  None                  <NA>            <NA> 2008-04-30 00:00:00+00:00         NaT             None  ecfed6cb-51ff-49b5-b06c-7d8ac834db8b 2014-02-08 10:01:36.827000+00:00\n",
      "563        316                  Blade       BL-2036      True              False  None               800           600          0.00       0.00  None                None                  None     NaN                  1        None  None  None                  <NA>            <NA> 2008-04-30 00:00:00+00:00         NaT             None  e73e9750-603b-4131-89f5-3dd15ed5ff80 2014-02-08 10:01:36.827000+00:00 \n",
      "\n",
      "Coluna 'sellstartdate': 0 linhas ausentes.\n",
      "Nenhuma linha com valores ausentes em 'sellstartdate'.\n",
      "\n",
      "Coluna 'sellenddate': 406 linhas ausentes.\n",
      "Exibindo as primeiras linhas com valores ausentes em 'sellenddate':\n",
      "     productid                   name productnumber  makeflag  finishedgoodsflag color  safetystocklevel  reorderpoint  standardcost  listprice  size sizeunitmeasurecode weightunitmeasurecode  weight  daystomanufacture productline class style  productsubcategoryid  productmodelid             sellstartdate sellenddate discontinueddate                               rowguid                     modifieddate\n",
      "515          1        Adjustable Race       AR-5381     False              False  None              1000           750          0.00       0.00  None                None                  None     NaN                  0        None  None  None                  <NA>            <NA> 2008-04-30 00:00:00+00:00         NaT             None  694215b7-08f7-4c0d-acb1-d734ba44c0c8 2014-02-08 10:01:36.827000+00:00\n",
      "527          2           Bearing Ball       BA-8327     False              False  None              1000           750          0.00       0.00  None                None                  None     NaN                  0        None  None  None                  <NA>            <NA> 2008-04-30 00:00:00+00:00         NaT             None  58ae3c20-4f3a-4749-a7d4-d568806cc537 2014-02-08 10:01:36.827000+00:00\n",
      "539          3        BB Ball Bearing       BE-2349      True              False  None               800           600          0.00       0.00  None                None                  None     NaN                  1        None  None  None                  <NA>            <NA> 2008-04-30 00:00:00+00:00         NaT             None  9c21aed2-5bfa-4f18-bcb8-f11638dc2e4e 2014-02-08 10:01:36.827000+00:00\n",
      "551          4  Headset Ball Bearings       BE-2908     False              False  None               800           600          0.00       0.00  None                None                  None     NaN                  0        None  None  None                  <NA>            <NA> 2008-04-30 00:00:00+00:00         NaT             None  ecfed6cb-51ff-49b5-b06c-7d8ac834db8b 2014-02-08 10:01:36.827000+00:00\n",
      "563        316                  Blade       BL-2036      True              False  None               800           600          0.00       0.00  None                None                  None     NaN                  1        None  None  None                  <NA>            <NA> 2008-04-30 00:00:00+00:00         NaT             None  e73e9750-603b-4131-89f5-3dd15ed5ff80 2014-02-08 10:01:36.827000+00:00 \n",
      "\n",
      "Coluna 'discontinueddate': 504 linhas ausentes.\n",
      "Exibindo as primeiras linhas com valores ausentes em 'discontinueddate':\n",
      "     productid                   name productnumber  makeflag  finishedgoodsflag color  safetystocklevel  reorderpoint  standardcost  listprice  size sizeunitmeasurecode weightunitmeasurecode  weight  daystomanufacture productline class style  productsubcategoryid  productmodelid             sellstartdate sellenddate discontinueddate                               rowguid                     modifieddate\n",
      "515          1        Adjustable Race       AR-5381     False              False  None              1000           750          0.00       0.00  None                None                  None     NaN                  0        None  None  None                  <NA>            <NA> 2008-04-30 00:00:00+00:00         NaT             None  694215b7-08f7-4c0d-acb1-d734ba44c0c8 2014-02-08 10:01:36.827000+00:00\n",
      "527          2           Bearing Ball       BA-8327     False              False  None              1000           750          0.00       0.00  None                None                  None     NaN                  0        None  None  None                  <NA>            <NA> 2008-04-30 00:00:00+00:00         NaT             None  58ae3c20-4f3a-4749-a7d4-d568806cc537 2014-02-08 10:01:36.827000+00:00\n",
      "539          3        BB Ball Bearing       BE-2349      True              False  None               800           600          0.00       0.00  None                None                  None     NaN                  1        None  None  None                  <NA>            <NA> 2008-04-30 00:00:00+00:00         NaT             None  9c21aed2-5bfa-4f18-bcb8-f11638dc2e4e 2014-02-08 10:01:36.827000+00:00\n",
      "551          4  Headset Ball Bearings       BE-2908     False              False  None               800           600          0.00       0.00  None                None                  None     NaN                  0        None  None  None                  <NA>            <NA> 2008-04-30 00:00:00+00:00         NaT             None  ecfed6cb-51ff-49b5-b06c-7d8ac834db8b 2014-02-08 10:01:36.827000+00:00\n",
      "563        316                  Blade       BL-2036      True              False  None               800           600          0.00       0.00  None                None                  None     NaN                  1        None  None  None                  <NA>            <NA> 2008-04-30 00:00:00+00:00         NaT             None  e73e9750-603b-4131-89f5-3dd15ed5ff80 2014-02-08 10:01:36.827000+00:00 \n",
      "\n",
      "Coluna 'rowguid': 0 linhas ausentes.\n",
      "Nenhuma linha com valores ausentes em 'rowguid'.\n",
      "\n",
      "Coluna 'modifieddate': 0 linhas ausentes.\n",
      "Nenhuma linha com valores ausentes em 'modifieddate'.\n",
      "\n"
     ]
    }
   ],
   "source": [
    "# Iterar por todas as colunas do df, para verificar valores ausentes\n",
    "\n",
    "# Verificar valores ausentes na coluna\n",
    "for column in production_product.columns:   \n",
    "    missing_rows = production_product[production_product[column].isnull()]\n",
    "    print(f\"Coluna '{column}': {missing_rows.shape[0]} linhas ausentes.\")\n",
    "    \n",
    "# Mostrar as primeiras linhas ausentes, se preciso for, limitar o head() para dar menos outputs ou limitar os outputs\n",
    "    if not missing_rows.empty:\n",
    "        print(f\"Exibindo as primeiras linhas com valores ausentes em '{column}':\")\n",
    "        print(missing_rows.head(), \"\\n\")\n",
    "    else:\n",
    "        print(f\"Nenhuma linha com valores ausentes em '{column}'.\\n\")\n",
    "\n",
    "\n",
    "\n",
    "#doc: apesar de apresentar várias colunas com muitas linhas ausentes, não há a necessidade de tratá-las, pois não interferem negativamente à análise        "
   ]
  },
  {
   "cell_type": "code",
   "execution_count": 12,
   "metadata": {},
   "outputs": [
    {
     "name": "stdout",
     "output_type": "stream",
     "text": [
      "Valores únicos incluindo NaN:\n",
      "productid                504\n",
      "name                     504\n",
      "productnumber            504\n",
      "makeflag                   2\n",
      "finishedgoodsflag          2\n",
      "color                     10\n",
      "safetystocklevel           6\n",
      "reorderpoint               6\n",
      "standardcost             114\n",
      "listprice                103\n",
      "size                      19\n",
      "sizeunitmeasurecode        2\n",
      "weightunitmeasurecode      3\n",
      "weight                   128\n",
      "daystomanufacture          4\n",
      "productline                5\n",
      "class                      4\n",
      "style                      4\n",
      "productsubcategoryid      38\n",
      "productmodelid           120\n",
      "sellstartdate              4\n",
      "sellenddate                3\n",
      "discontinueddate           1\n",
      "rowguid                  504\n",
      "modifieddate               2\n",
      "dtype: int64\n"
     ]
    }
   ],
   "source": [
    "# Valores únicos por coluna, para verificar se colunas como flags, normalmente booleanas, possuem apenas 1 ou 2 valores.\n",
    "\n",
    "valores_unicos = production_product.nunique(dropna=False)\n",
    "\n",
    "print(\"Valores únicos incluindo NaN:\")\n",
    "print(valores_unicos)"
   ]
  },
  {
   "cell_type": "code",
   "execution_count": 13,
   "metadata": {},
   "outputs": [
    {
     "name": "stdout",
     "output_type": "stream",
     "text": [
      "A coluna 'discontinueddate' é completamente NULL.\n"
     ]
    }
   ],
   "source": [
    "# Verificar se a coluna é toda nula\n",
    "is_all_null = production_product['discontinueddate'].isnull().all()\n",
    "if is_all_null:\n",
    "    print(\"A coluna 'discontinueddate' é completamente NULL.\")\n",
    "else:\n",
    "    print(\"A coluna 'discontinueddate' possui valores não nulos.\")\n"
   ]
  },
  {
   "cell_type": "code",
   "execution_count": 14,
   "metadata": {},
   "outputs": [],
   "source": [
    "# Remover a coluna 'discontinueddate' por ser completamente NULL\n",
    "production_product.drop(columns=['discontinueddate'], inplace=True)\n"
   ]
  },
  {
   "cell_type": "code",
   "execution_count": 15,
   "metadata": {},
   "outputs": [
    {
     "name": "stdout",
     "output_type": "stream",
     "text": [
      "Valores únicos em 'makeflag': <BooleanArray>\n",
      "[False, True]\n",
      "Length: 2, dtype: boolean\n",
      "Distribuição de 'makeflag':\n",
      "makeflag\n",
      "False    265\n",
      "True     239\n",
      "Name: count, dtype: Int64\n",
      "\n",
      "Valores únicos em 'finishedgoodsflag': <BooleanArray>\n",
      "[False, True]\n",
      "Length: 2, dtype: boolean\n",
      "Distribuição de 'finishedgoodsflag':\n",
      "finishedgoodsflag\n",
      "True     295\n",
      "False    209\n",
      "Name: count, dtype: Int64\n",
      "\n"
     ]
    }
   ],
   "source": [
    "# Listar colunas binárias esperadas e verificar valores únicos e suas distribuições\n",
    "coluna_binaria = ['makeflag', 'finishedgoodsflag']\n",
    "\n",
    "for col in coluna_binaria:\n",
    "    unique_values = production_product[col].unique()\n",
    "    print(f\"Valores únicos em '{col}': {unique_values}\")\n",
    "    print(f\"Distribuição de '{col}':\")\n",
    "    print(production_product[col].value_counts())\n",
    "    print()\n",
    "\n",
    "\n",
    "#doc: garantir que colunas binárias contenham apenas valores esperados, no caso True ou False e identificar anomalias verificando os valores únicos em cada coluna; valores fora do padrão binário, facilitando a validação e correção\n"
   ]
  },
  {
   "cell_type": "code",
   "execution_count": 16,
   "metadata": {},
   "outputs": [
    {
     "name": "stdout",
     "output_type": "stream",
     "text": [
      "<class 'pandas.core.frame.DataFrame'>\n",
      "Index: 504 entries, 515 to 3431\n",
      "Data columns (total 24 columns):\n",
      " #   Column                 Non-Null Count  Dtype              \n",
      "---  ------                 --------------  -----              \n",
      " 0   productid              504 non-null    Int64              \n",
      " 1   name                   504 non-null    object             \n",
      " 2   productnumber          504 non-null    object             \n",
      " 3   makeflag               504 non-null    boolean            \n",
      " 4   finishedgoodsflag      504 non-null    boolean            \n",
      " 5   color                  256 non-null    object             \n",
      " 6   safetystocklevel       504 non-null    Int64              \n",
      " 7   reorderpoint           504 non-null    Int64              \n",
      " 8   standardcost           504 non-null    float64            \n",
      " 9   listprice              504 non-null    float64            \n",
      " 10  size                   211 non-null    object             \n",
      " 11  sizeunitmeasurecode    176 non-null    object             \n",
      " 12  weightunitmeasurecode  205 non-null    object             \n",
      " 13  weight                 205 non-null    float64            \n",
      " 14  daystomanufacture      504 non-null    Int64              \n",
      " 15  productline            278 non-null    object             \n",
      " 16  class                  247 non-null    object             \n",
      " 17  style                  211 non-null    object             \n",
      " 18  productsubcategoryid   295 non-null    Int64              \n",
      " 19  productmodelid         295 non-null    Int64              \n",
      " 20  sellstartdate          504 non-null    datetime64[us, UTC]\n",
      " 21  sellenddate            98 non-null     datetime64[us, UTC]\n",
      " 22  rowguid                504 non-null    object             \n",
      " 23  modifieddate           504 non-null    datetime64[us, UTC]\n",
      "dtypes: Int64(6), boolean(2), datetime64[us, UTC](3), float64(3), object(10)\n",
      "memory usage: 95.5+ KB\n"
     ]
    }
   ],
   "source": [
    "#verificar informações do df\n",
    "production_product.info()"
   ]
  },
  {
   "cell_type": "code",
   "execution_count": 17,
   "metadata": {},
   "outputs": [
    {
     "name": "stdout",
     "output_type": "stream",
     "text": [
      "Análise da coluna 'color':\n",
      "              qtde.       %\n",
      "color                      \n",
      "Black            93  18.45%\n",
      "Silver           43   8.53%\n",
      "Red              38   7.54%\n",
      "Yellow           36   7.14%\n",
      "Blue             26   5.16%\n",
      "Multi             8   1.59%\n",
      "Silver/Black      7   1.39%\n",
      "White             4   0.79%\n",
      "Grey              1   0.20%\n",
      "\n",
      "\n",
      "Análise da coluna 'size':\n",
      "      qtde.      %\n",
      "size              \n",
      "44       29  5.75%\n",
      "48       25  4.96%\n",
      "52       16  3.17%\n",
      "58       15  2.98%\n",
      "42       15  2.98%\n",
      "38       12  2.38%\n",
      "L        11  2.18%\n",
      "40       11  2.18%\n",
      "62       11  2.18%\n",
      "M        11  2.18%\n",
      "\n",
      "\n",
      "Análise da coluna 'sizeunitmeasurecode':\n",
      "                     qtde.       %\n",
      "sizeunitmeasurecode               \n",
      "CM                     176  34.92%\n",
      "\n",
      "\n",
      "Análise da coluna 'weightunitmeasurecode':\n",
      "                       qtde.       %\n",
      "weightunitmeasurecode               \n",
      "LB                       176  34.92%\n",
      "G                         29   5.75%\n",
      "\n",
      "\n",
      "Análise da coluna 'productline':\n",
      "             qtde.       %\n",
      "productline               \n",
      "R              100  19.84%\n",
      "M               91  18.06%\n",
      "T               52  10.32%\n",
      "S               35   6.94%\n",
      "\n",
      "\n",
      "Análise da coluna 'class':\n",
      "       qtde.       %\n",
      "class               \n",
      "L         97  19.25%\n",
      "H         82  16.27%\n",
      "M         68  13.49%\n",
      "\n",
      "\n",
      "Análise da coluna 'style':\n",
      "       qtde.       %\n",
      "style               \n",
      "U        176  34.92%\n",
      "W         28   5.56%\n",
      "M          7   1.39%\n",
      "\n",
      "\n"
     ]
    }
   ],
   "source": [
    "# Avaliando as variáveis qualitativas\n",
    "\n",
    "coluna_qualitativa = [\"color\", \"size\", \"sizeunitmeasurecode\", \"weightunitmeasurecode\", \"productline\", \"class\", \"style\"]\n",
    "\n",
    "for col in coluna_qualitativa:\n",
    "    counts = production_product[col].value_counts().nlargest(10)\n",
    "    percentages = (counts / production_product.shape[0] * 100).map(\"{:.2f}%\".format)\n",
    "    summary = pd.DataFrame({\"qtde.\": counts, \"%\": percentages})\n",
    "    print(f\"Análise da coluna '{col}':\")\n",
    "    print(summary)\n",
    "    print(\"\\n\")\n",
    "\n",
    "\n",
    "#doc: qdte. = quantidade\n",
    "#doc*: variáveis qualitativas são um tipo de variável estatística que representam características ou atributos dos dados, sem serem medidas numericamente no nosso caso, city, por exemplo"
   ]
  },
  {
   "cell_type": "code",
   "execution_count": 18,
   "metadata": {},
   "outputs": [
    {
     "data": {
      "image/png": "[encoded data removed]",
      "text/plain": [
       "<Figure size 700x300 with 1 Axes>"
      ]
     },
     "metadata": {},
     "output_type": "display_data"
    },
    {
     "data": {
      "image/png": "[encoded data removed]",
      "text/plain": [
       "<Figure size 700x300 with 1 Axes>"
      ]
     },
     "metadata": {},
     "output_type": "display_data"
    },
    {
     "data": {
      "image/png": "[encoded data removed]",
      "text/plain": [
       "<Figure size 700x300 with 1 Axes>"
      ]
     },
     "metadata": {},
     "output_type": "display_data"
    },
    {
     "data": {
      "image/png": "[encoded data removed]",
      "text/plain": [
       "<Figure size 700x300 with 1 Axes>"
      ]
     },
     "metadata": {},
     "output_type": "display_data"
    },
    {
     "data": {
      "image/png": "[encoded data removed]",
      "text/plain": [
       "<Figure size 700x300 with 1 Axes>"
      ]
     },
     "metadata": {},
     "output_type": "display_data"
    },
    {
     "data": {
      "image/png": "[encoded data removed]",
      "text/plain": [
       "<Figure size 700x300 with 1 Axes>"
      ]
     },
     "metadata": {},
     "output_type": "display_data"
    }
   ],
   "source": [
    "# Configurar o estilo do gráfico para fundo escuro\n",
    "sns.set(style='darkgrid', rc={\"axes.facecolor\": \"black\", \"figure.facecolor\": \"black\"})\n",
    "\n",
    "coluna_qualitativa = [\"color\", \"size\", \"weightunitmeasurecode\", \"productline\", \"class\", \"style\"]\n",
    "\n",
    "for col in coluna_qualitativa:\n",
    "    counts = production_product[col].value_counts().nlargest(10) \n",
    "    percentages = (counts / production_product.shape[0] * 100).map(\"{:.2f}%\".format)\n",
    "    summary = pd.DataFrame({\"qtde.\": counts, \"%\": percentages})\n",
    "    \n",
    "    plt.figure(figsize=(7, 3))\n",
    "    ax = sns.barplot(x=summary[\"qtde.\"], y=summary.index, color=\"blue\")  \n",
    "    plt.title(f\"Distribuição de '{col}'\", color='white', fontsize=14)\n",
    "    plt.xlabel(\"Quantidade\", color='white', fontsize=12)\n",
    "    plt.ylabel(\"\", color='white', fontsize=12)    \n",
    "    ax.tick_params(axis='x', colors='white')\n",
    "    ax.tick_params(axis='y', colors='white')\n",
    "    \n",
    "    for container in ax.containers:\n",
    "        ax.bar_label(container, fmt='%d', color='white', fontsize=10, padding=4)\n",
    "    \n",
    "    ax.grid(False)    \n",
    "    plt.show()\n"
   ]
  },
  {
   "cell_type": "code",
   "execution_count": 19,
   "metadata": {},
   "outputs": [
    {
     "name": "stdout",
     "output_type": "stream",
     "text": [
      "<class 'pandas.core.frame.DataFrame'>\n",
      "Index: 504 entries, 515 to 3431\n",
      "Data columns (total 24 columns):\n",
      " #   Column                 Non-Null Count  Dtype              \n",
      "---  ------                 --------------  -----              \n",
      " 0   productid              504 non-null    Int64              \n",
      " 1   name                   504 non-null    object             \n",
      " 2   productnumber          504 non-null    object             \n",
      " 3   makeflag               504 non-null    boolean            \n",
      " 4   finishedgoodsflag      504 non-null    boolean            \n",
      " 5   color                  256 non-null    object             \n",
      " 6   safetystocklevel       504 non-null    Int64              \n",
      " 7   reorderpoint           504 non-null    Int64              \n",
      " 8   standardcost           504 non-null    float64            \n",
      " 9   listprice              504 non-null    float64            \n",
      " 10  size                   211 non-null    object             \n",
      " 11  sizeunitmeasurecode    176 non-null    object             \n",
      " 12  weightunitmeasurecode  205 non-null    object             \n",
      " 13  weight                 205 non-null    float64            \n",
      " 14  daystomanufacture      504 non-null    Int64              \n",
      " 15  productline            278 non-null    object             \n",
      " 16  class                  247 non-null    object             \n",
      " 17  style                  211 non-null    object             \n",
      " 18  productsubcategoryid   295 non-null    Int64              \n",
      " 19  productmodelid         295 non-null    Int64              \n",
      " 20  sellstartdate          504 non-null    datetime64[us, UTC]\n",
      " 21  sellenddate            98 non-null     datetime64[us, UTC]\n",
      " 22  rowguid                504 non-null    object             \n",
      " 23  modifieddate           504 non-null    datetime64[us, UTC]\n",
      "dtypes: Int64(6), boolean(2), datetime64[us, UTC](3), float64(3), object(10)\n",
      "memory usage: 95.5+ KB\n"
     ]
    }
   ],
   "source": [
    "#verificar informações do df\n",
    "production_product.info()"
   ]
  },
  {
   "cell_type": "code",
   "execution_count": 20,
   "metadata": {},
   "outputs": [
    {
     "name": "stdout",
     "output_type": "stream",
     "text": [
      "Estatísticas Descritivas:\n",
      "       safetystocklevel  reorderpoint  standardcost  listprice  weight  daystomanufacture\n",
      "count            504.00        504.00        504.00     504.00  205.00             504.00\n",
      "mean             535.15        401.36        258.60     438.67   74.07               1.10\n",
      "std              374.11        280.58        461.63     773.60  182.17               1.49\n",
      "min                4.00          3.00          0.00       0.00    2.12               0.00\n",
      "25%              100.00         75.00          0.00       0.00    2.88               0.00\n",
      "50%              500.00        375.00         23.37      49.99   17.90               1.00\n",
      "75%             1000.00        750.00        317.08     564.99   27.35               1.00\n",
      "max             1000.00        750.00       2171.29    3578.27 1050.00               4.00\n",
      "\n",
      "Coluna: safetystocklevel\n",
      "Limite inferior: -1250.0, Limite superior: 2350.0\n",
      "Outliers detectados (0):\n",
      "Empty DataFrame\n",
      "Columns: [safetystocklevel]\n",
      "Index: []\n",
      "\n",
      "Coluna: reorderpoint\n",
      "Limite inferior: -937.5, Limite superior: 1762.5\n",
      "Outliers detectados (0):\n",
      "Empty DataFrame\n",
      "Columns: [reorderpoint]\n",
      "Index: []\n",
      "\n",
      "Coluna: standardcost\n",
      "Limite inferior: -475.6137375, Limite superior: 792.6895625\n",
      "Outliers detectados (55):\n",
      "      standardcost\n",
      "5207       1059.31\n",
      "5279       1059.31\n",
      "5291        868.63\n",
      "5231        868.63\n",
      "5243        868.63\n",
      "5255        868.63\n",
      "5267        868.63\n",
      "3911       2171.29\n",
      "3863       2171.29\n",
      "3875       2171.29\n",
      "3887       2171.29\n",
      "3899       2171.29\n",
      "3695        884.71\n",
      "3707        884.71\n",
      "3659        884.71\n",
      "3671        884.71\n",
      "3683        884.71\n",
      "3359       1912.15\n",
      "3371       1912.15\n",
      "3383       1912.15\n",
      "3395       1912.15\n",
      "3311       1898.09\n",
      "3323       1898.09\n",
      "3335       1898.09\n",
      "3347       1898.09\n",
      "3275       1265.62\n",
      "3287       1265.62\n",
      "3299       1265.62\n",
      "3239       1251.98\n",
      "3251       1251.98\n",
      "3263       1251.98\n",
      "3815       1518.79\n",
      "3827       1518.79\n",
      "3839       1518.79\n",
      "3851       1554.95\n",
      "3767       1554.95\n",
      "3779       1554.95\n",
      "3791       1554.95\n",
      "3803       1554.95\n",
      "5219        868.63\n",
      "5171        868.63\n",
      "5183        868.63\n",
      "5195        868.63\n",
      "4139       1481.94\n",
      "4151       1481.94\n",
      "4163       1481.94\n",
      "4175       1481.94\n",
      "4091       1481.94\n",
      "4103       1481.94\n",
      "4115       1481.94\n",
      "4127       1481.94\n",
      "3719       1082.51\n",
      "3731       1082.51\n",
      "3743       1082.51\n",
      "3755       1082.51\n",
      "\n",
      "Coluna: listprice\n",
      "Limite inferior: -847.485, Limite superior: 1412.475\n",
      "Outliers detectados (55):\n",
      "      listprice\n",
      "5207    1431.50\n",
      "5279    1431.50\n",
      "5291    1431.50\n",
      "5231    1431.50\n",
      "5243    1431.50\n",
      "5255    1431.50\n",
      "5267    1431.50\n",
      "3911    3578.27\n",
      "3863    3578.27\n",
      "3875    3578.27\n",
      "3887    3578.27\n",
      "3899    3578.27\n",
      "3695    1457.99\n",
      "3707    1457.99\n",
      "3659    1457.99\n",
      "3671    1457.99\n",
      "3683    1457.99\n",
      "3359    3399.99\n",
      "3371    3399.99\n",
      "3383    3399.99\n",
      "3395    3399.99\n",
      "3311    3374.99\n",
      "3323    3374.99\n",
      "3335    3374.99\n",
      "3347    3374.99\n",
      "3275    2319.99\n",
      "3287    2319.99\n",
      "3299    2319.99\n",
      "3239    2294.99\n",
      "3251    2294.99\n",
      "3263    2294.99\n",
      "3815    2443.35\n",
      "3827    2443.35\n",
      "3839    2443.35\n",
      "3851    2443.35\n",
      "3767    2443.35\n",
      "3779    2443.35\n",
      "3791    2443.35\n",
      "3803    2443.35\n",
      "5219    1431.50\n",
      "5171    1431.50\n",
      "5183    1431.50\n",
      "5195    1431.50\n",
      "4139    2384.07\n",
      "4151    2384.07\n",
      "4163    2384.07\n",
      "4175    2384.07\n",
      "4091    2384.07\n",
      "4103    2384.07\n",
      "4115    2384.07\n",
      "4127    2384.07\n",
      "3719    1700.99\n",
      "3731    1700.99\n",
      "3743    1700.99\n",
      "3755    1700.99\n",
      "\n",
      "Coluna: weight\n",
      "Limite inferior: -33.825, Limite superior: 64.055\n",
      "Outliers detectados (29):\n",
      "      weight\n",
      "2675  435.00\n",
      "2687  450.00\n",
      "2699  400.00\n",
      "2711  445.00\n",
      "2723  450.00\n",
      "2735  400.00\n",
      "2747  460.00\n",
      "5663  900.00\n",
      "5675  850.00\n",
      "5687  650.00\n",
      "5747 1050.00\n",
      "5759 1000.00\n",
      "5771  890.00\n",
      "4403  215.00\n",
      "4331  317.00\n",
      "4823  218.00\n",
      "4835  215.00\n",
      "4847  185.00\n",
      "4859  189.00\n",
      "4871  168.00\n",
      "4883  149.00\n",
      "4391   88.00\n",
      "4319  317.00\n",
      "4355  600.00\n",
      "4367  635.00\n",
      "4379  575.00\n",
      "4283  223.00\n",
      "4295  168.00\n",
      "4307  170.00\n",
      "\n",
      "Coluna: daystomanufacture\n",
      "Limite inferior: -1.5, Limite superior: 2.5\n",
      "Outliers detectados (97):\n",
      "      daystomanufacture\n",
      "3911                  4\n",
      "3863                  4\n",
      "3875                  4\n",
      "3887                  4\n",
      "3899                  4\n",
      "...                 ...\n",
      "3059                  4\n",
      "3071                  4\n",
      "3407                  4\n",
      "3419                  4\n",
      "3431                  4\n",
      "\n",
      "[97 rows x 1 columns]\n"
     ]
    }
   ],
   "source": [
    "# Variáveis quantitativas*: \n",
    "\n",
    "# Identificar colunas numéricas para análise de outliers\n",
    "numeric_columns = ['safetystocklevel', 'reorderpoint', 'standardcost', 'listprice', 'weight', 'daystomanufacture']\n",
    "\n",
    "# Estatísticas Descritivas das colunas numéricas**\n",
    "print(\"Estatísticas Descritivas:\")\n",
    "print(production_product[numeric_columns].describe())\n",
    "\n",
    "# Cálculo de limites para outliers (IQR)***\n",
    "for col in numeric_columns:\n",
    "    q1 = production_product[col].quantile(0.25)\n",
    "    q3 = production_product[col].quantile(0.75)\n",
    "    iqr = q3 - q1\n",
    "    lower_bound = q1 - 1.5 * iqr\n",
    "    upper_bound = q3 + 1.5 * iqr\n",
    "    \n",
    "    # Exibir os limites\n",
    "    print(f\"\\nColuna: {col}\")\n",
    "    print(f\"Limite inferior: {lower_bound}, Limite superior: {upper_bound}\")\n",
    "    \n",
    "    # Detecção e Análise de Outliers****\n",
    "    outliers = production_product[(production_product[col] < lower_bound) | (production_product[col] > upper_bound)]\n",
    "    print(f\"Outliers detectados ({len(outliers)}):\")\n",
    "    print(outliers[[col]])\n",
    "\n",
    "\n",
    "\n",
    "#doc*: variáveis quantitativas são um tipo de dado que pode ser representado por números e medidas objetivas\n",
    "#doc**: realizar estatísticas descritivas para entender a centralidade e variação dos dados (valores médios, mínimos, máximos, etc.)\n",
    "#doc***: calcular limites para identificar outliers (valores extremos que podem indicar erros ou casos excepcionais nos dados)\n",
    "#doc****: verificar a existência de outliers para decidir ações como remoção, substituição ou tratamento, garantindo qualidade dos dados\n"
   ]
  },
  {
   "cell_type": "code",
   "execution_count": 21,
   "metadata": {},
   "outputs": [
    {
     "name": "stderr",
     "output_type": "stream",
     "text": [
      "c:\\Users\\wrpen\\OneDrive\\Desktop\\df_lh\\.venv\\lib\\site-packages\\seaborn\\categorical.py:700: UserWarning: Setting the 'color' property will override the edgecolor or facecolor properties.\n",
      "  artists = ax.bxp(**boxplot_kws)\n",
      "c:\\Users\\wrpen\\OneDrive\\Desktop\\df_lh\\.venv\\lib\\site-packages\\seaborn\\categorical.py:700: UserWarning: Setting the 'color' property will override the edgecolor or facecolor properties.\n",
      "  artists = ax.bxp(**boxplot_kws)\n",
      "c:\\Users\\wrpen\\OneDrive\\Desktop\\df_lh\\.venv\\lib\\site-packages\\seaborn\\categorical.py:700: UserWarning: Setting the 'color' property will override the edgecolor or facecolor properties.\n",
      "  artists = ax.bxp(**boxplot_kws)\n",
      "c:\\Users\\wrpen\\OneDrive\\Desktop\\df_lh\\.venv\\lib\\site-packages\\seaborn\\categorical.py:700: UserWarning: Setting the 'color' property will override the edgecolor or facecolor properties.\n",
      "  artists = ax.bxp(**boxplot_kws)\n"
     ]
    },
    {
     "data": {
      "image/png": "[encoded data removed]",
      "text/plain": [
       "<Figure size 1500x1000 with 4 Axes>"
      ]
     },
     "metadata": {},
     "output_type": "display_data"
    }
   ],
   "source": [
    "# Lista de variáveis com outliers\n",
    "variables_with_outliers = ['standardcost', 'listprice', 'weight', 'daystomanufacture']\n",
    "\n",
    "fig, axes = plt.subplots(2, 2, figsize=(15, 10))  # 2x2 grid\n",
    "axes = axes.flatten()  # Para facilitar o acesso aos eixos\n",
    "\n",
    "for i, var in enumerate(variables_with_outliers):\n",
    "    ax = sns.boxplot(\n",
    "        y=production_product[var],\n",
    "        color=\"blue\",\n",
    "        boxprops={\"color\": \"blue\"}, whiskerprops={\"color\": \"blue\"}, capprops={\"color\": \"blue\"},\n",
    "        medianprops={\"color\": \"red\"}, flierprops={\"markerfacecolor\": \"green\", \"markersize\": 5},\n",
    "        ax=axes[i]\n",
    "    )\n",
    "    \n",
    "    ax.set_title(f'Distribuição de {var}', color='white', fontsize=14)\n",
    "    ax.set_ylabel(var, color='white', fontsize=12)\n",
    "    ax.set_xlabel(\"\")\n",
    "    ax.tick_params(axis='y', colors='white')\n",
    "    ax.tick_params(axis='x', colors='white')\n",
    "    ax.grid(False)\n",
    "\n",
    "plt.tight_layout()\n",
    "plt.show()\n",
    "\n",
    "\n",
    "#doc*****: de acordo com os resultados, as colunas safetystocklevel e reorderpoint não há necessidade de tratamento, sem outliers\n",
    "#          standardcost: 55 outliers acima de 792.69, o que pode ser aceitos, pois podem efletir produtos premium ou com custos elevados de produção\n",
    "#          listprice: Também identificados 55 outliers acima de 1412.47. Isso é esperado, já que produtos com custo alto podem ter preços elevados\n",
    "#          daystomanufacture: detectados 97 outliers acima de 2.5 dias. Esses valores (ex.: 4 dias) podem ser válidos para produtos mais complexos ou com maior tempo de produção"
   ]
  },
  {
   "cell_type": "code",
   "execution_count": 22,
   "metadata": {},
   "outputs": [
    {
     "name": "stdout",
     "output_type": "stream",
     "text": [
      "      productid                 name  weight\n",
      "5747        826   LL Road Rear Wheel 1050.00\n",
      "5759        827   ML Road Rear Wheel 1000.00\n",
      "5663        818  LL Road Front Wheel  900.00\n",
      "5771        828   HL Road Rear Wheel  890.00\n",
      "5675        819  ML Road Front Wheel  850.00\n",
      "5687        820  HL Road Front Wheel  650.00\n",
      "4367        950          ML Crankset  635.00\n",
      "4355        949          LL Crankset  600.00\n",
      "4379        951          HL Crankset  575.00\n",
      "2747        513          Touring Rim  460.00\n",
      "2723        511          ML Road Rim  450.00\n",
      "2687        508      ML Mountain Rim  450.00\n",
      "2711        510          LL Road Rim  445.00\n",
      "2675        507      LL Mountain Rim  435.00\n",
      "2735        512          HL Road Rim  400.00\n",
      "2699        509      HL Mountain Rim  400.00\n",
      "4319        948         Front Brakes  317.00\n",
      "4331        907          Rear Brakes  317.00\n",
      "4283        994    LL Bottom Bracket  223.00\n",
      "4823        935    LL Mountain Pedal  218.00\n",
      "4835        936    ML Mountain Pedal  215.00\n",
      "4403        894      Rear Derailleur  215.00\n",
      "4859        938        LL Road Pedal  189.00\n",
      "4847        937    HL Mountain Pedal  185.00\n",
      "4307        996    HL Bottom Bracket  170.00\n",
      "4871        939        ML Road Pedal  168.00\n",
      "4295        995    ML Bottom Bracket  168.00\n",
      "4883        940        HL Road Pedal  149.00\n",
      "4391        945     Front Derailleur   88.00\n"
     ]
    }
   ],
   "source": [
    "#Verificando os outliers de da coluna weight: valores muito elevados para os componentes\n",
    "\n",
    "# Calcular os limites para a coluna weight\n",
    "q1 = production_product['weight'].quantile(0.25)\n",
    "q3 = production_product['weight'].quantile(0.75)\n",
    "iqr = q3 - q1\n",
    "lower_bound = q1 - 1.5 * iqr\n",
    "upper_bound = q3 + 1.5 * iqr\n",
    "\n",
    "# Filtrar valores que ultrapassam os limites\n",
    "outliers_weight = production_product[\n",
    "    (production_product['weight'] < lower_bound) | \n",
    "    (production_product['weight'] > upper_bound)\n",
    "]\n",
    "\n",
    "# Ordenar os outliers por weight em ordem decrescente\n",
    "outliers_weight_sorted = outliers_weight[['productid', 'name', 'weight']].sort_values(by='weight', ascending=False)\n",
    "\n",
    "# Exibir os valores\n",
    "print(outliers_weight_sorted)\n"
   ]
  },
  {
   "cell_type": "code",
   "execution_count": 23,
   "metadata": {},
   "outputs": [
    {
     "name": "stdout",
     "output_type": "stream",
     "text": [
      "name\n",
      "LL Road Rear Wheel    1050.00\n",
      "ML Road Rear Wheel    1000.00\n",
      "LL Road Front Wheel    900.00\n",
      "HL Road Rear Wheel     890.00\n",
      "ML Road Front Wheel    850.00\n",
      "HL Road Front Wheel    650.00\n",
      "ML Crankset            635.00\n",
      "LL Crankset            600.00\n",
      "HL Crankset            575.00\n",
      "Touring Rim            460.00\n",
      "ML Road Rim            450.00\n",
      "ML Mountain Rim        450.00\n",
      "LL Road Rim            445.00\n",
      "LL Mountain Rim        435.00\n",
      "HL Mountain Rim        400.00\n",
      "HL Road Rim            400.00\n",
      "Rear Brakes            317.00\n",
      "Front Brakes           317.00\n",
      "LL Bottom Bracket      223.00\n",
      "LL Mountain Pedal      218.00\n",
      "ML Mountain Pedal      215.00\n",
      "Rear Derailleur        215.00\n",
      "LL Road Pedal          189.00\n",
      "HL Mountain Pedal      185.00\n",
      "HL Bottom Bracket      170.00\n",
      "ML Bottom Bracket      168.00\n",
      "ML Road Pedal          168.00\n",
      "HL Road Pedal          149.00\n",
      "Front Derailleur        88.00\n",
      "Name: weight, dtype: float64\n"
     ]
    }
   ],
   "source": [
    "# Categorias de produtos com outliers em 'weight'\n",
    "categories_with_outliers = outliers_weight.groupby('name')['weight'].mean().sort_values(ascending=False)\n",
    "\n",
    "# Exibir categorias com peso médio para revisão\n",
    "print(categories_with_outliers)\n",
    "\n",
    "\n",
    "#doc:uma lista de nomes de produtos (ex.: \"LL Road Rear Wheel\", \"ML Crankset\") e seus pesos médios; \n",
    "#    visão consolidada para validar quais categorias têm valores incoerentes"
   ]
  },
  {
   "cell_type": "code",
   "execution_count": 24,
   "metadata": {},
   "outputs": [],
   "source": [
    "# Definir valores aproximados por categoria (em kg)\n",
    "weight_corrections = {\n",
    "    \"LL Road Rear Wheel\": 1.5,\n",
    "    \"ML Road Rear Wheel\": 1.5,\n",
    "    \"LL Road Front Wheel\": 1.2,\n",
    "    \"HL Road Rear Wheel\": 1.5,\n",
    "    \"ML Road Front Wheel\": 1.2,\n",
    "    \"HL Road Front Wheel\": 1.2,\n",
    "    \"ML Crankset\": 1.0,\n",
    "    \"LL Crankset\": 1.0,\n",
    "    \"HL Crankset\": 1.0,\n",
    "    \"Touring Rim\": 0.7,\n",
    "    \"ML Road Rim\": 0.7,\n",
    "    \"ML Mountain Rim\": 0.8,\n",
    "    \"LL Road Rim\": 0.7,\n",
    "    \"LL Mountain Rim\": 0.8,\n",
    "    \"HL Mountain Rim\": 0.8,\n",
    "    \"HL Road Rim\": 0.7,\n",
    "    \"Rear Brakes\": 0.3,\n",
    "    \"Front Brakes\": 0.3,\n",
    "    \"LL Bottom Bracket\": 0.4,\n",
    "    \"LL Mountain Pedal\": 0.4,\n",
    "    \"ML Mountain Pedal\": 0.4,\n",
    "    \"Rear Derailleur\": 0.5,\n",
    "    \"LL Road Pedal\": 0.3,\n",
    "    \"HL Mountain Pedal\": 0.4,\n",
    "    \"HL Bottom Bracket\": 0.4,\n",
    "    \"ML Bottom Bracket\": 0.4,\n",
    "    \"ML Road Pedal\": 0.3,\n",
    "    \"HL Road Pedal\": 0.3,\n",
    "    \"Front Derailleur\": 0.3,\n",
    "}\n"
   ]
  },
  {
   "cell_type": "code",
   "execution_count": 25,
   "metadata": {},
   "outputs": [
    {
     "name": "stdout",
     "output_type": "stream",
     "text": [
      "                     name  weight  weight_corrected\n",
      "5747   LL Road Rear Wheel 1050.00              1.50\n",
      "5759   ML Road Rear Wheel 1000.00              1.50\n",
      "5663  LL Road Front Wheel  900.00              1.20\n",
      "5771   HL Road Rear Wheel  890.00              1.50\n",
      "5675  ML Road Front Wheel  850.00              1.20\n",
      "5687  HL Road Front Wheel  650.00              1.20\n",
      "4367          ML Crankset  635.00              1.00\n",
      "4355          LL Crankset  600.00              1.00\n",
      "4379          HL Crankset  575.00              1.00\n",
      "2747          Touring Rim  460.00              0.70\n",
      "2723          ML Road Rim  450.00              0.70\n",
      "2687      ML Mountain Rim  450.00              0.80\n",
      "2711          LL Road Rim  445.00              0.70\n",
      "2675      LL Mountain Rim  435.00              0.80\n",
      "2699      HL Mountain Rim  400.00              0.80\n",
      "2735          HL Road Rim  400.00              0.70\n",
      "4331          Rear Brakes  317.00              0.30\n",
      "4319         Front Brakes  317.00              0.30\n",
      "4283    LL Bottom Bracket  223.00              0.40\n",
      "4823    LL Mountain Pedal  218.00              0.40\n"
     ]
    }
   ],
   "source": [
    "# Aplicar correções no DataFrame\n",
    "production_product['weight_corrected'] = production_product['name'].map(weight_corrections).fillna(production_product['weight'])\n",
    "\n",
    "# Verificar os resultados\n",
    "print(production_product[['name', 'weight', 'weight_corrected']].sort_values(by='weight', ascending=False).head(20))\n",
    "\n",
    "\n",
    "# Correção de valores inconsistentes na coluna 'weight'\n",
    "\n",
    "# 1. Identificação de inconsistências\n",
    "# Durante a análise, algumas categorias de produtos apresentavam valores de peso incoerentes com a realidade, como rodas com 1050 kg e cranksets com 635 kg. \n",
    "# Esses valores foram considerados erros de entrada de dados.\n",
    "\n",
    "# 2. Definição de pesos aproximados\n",
    "# Foi criado um dicionário chamado 'weight_corrections' contendo valores aproximados para cada\n",
    "# categoria de produto com base em características reais de produtos similares. Esses valores\n",
    "# representam estimativas coerentes dentro do domínio de produtos da Adventure Works.\n",
    "\n",
    "# 3. Aplicação das correções\n",
    "# Os valores inconsistentes foram substituídos pelos valores definidos no dicionário.\n",
    "# Para isso, a função 'map()' foi utilizada para associar os valores corrigidos às categorias\n",
    "# específicas, criando uma nova coluna chamada 'weight_corrected'.\n",
    "# Caso um produto não estivesse no dicionário de correções, o valor original foi mantido.\n",
    "\n",
    "# 4. Resultado\n",
    "# A nova coluna 'weight_corrected' foi criada, contendo os valores ajustados.\n",
    "# Agora, essa coluna pode ser utilizada para análises e exportação, enquanto a coluna original\n",
    "# 'weight' pode ser mantida para rastreamento e auditoria, se necessário."
   ]
  },
  {
   "cell_type": "code",
   "execution_count": 26,
   "metadata": {},
   "outputs": [
    {
     "name": "stdout",
     "output_type": "stream",
     "text": [
      "Index(['productid', 'name', 'productnumber', 'makeflag', 'finishedgoodsflag', 'color', 'safetystocklevel', 'reorderpoint', 'standardcost', 'listprice', 'size', 'sizeunitmeasurecode', 'weightunitmeasurecode', 'weight', 'weight_corrected', 'daystomanufacture', 'productline', 'class', 'style', 'productsubcategoryid', 'productmodelid', 'sellstartdate', 'sellenddate', 'rowguid', 'modifieddate'], dtype='object')\n"
     ]
    }
   ],
   "source": [
    "# Reorganizar as colunas no DataFrame para que weight_corrected fique ao lado de weight\n",
    "cols = production_product.columns.tolist()\n",
    "if 'weight' in cols and 'weight_corrected' in cols:\n",
    "    weight_index = cols.index('weight')\n",
    "    cols.insert(weight_index + 1, cols.pop(cols.index('weight_corrected')))\n",
    "production_product = production_product[cols]\n",
    "\n",
    "# Verificar as colunas reorganizadas\n",
    "print(production_product.columns)\n"
   ]
  },
  {
   "cell_type": "code",
   "execution_count": 27,
   "metadata": {},
   "outputs": [],
   "source": [
    "# Atualizar o dicionário df_processados com o df ajustado\n",
    "df_processados['production_product'] = production_product"
   ]
  },
  {
   "cell_type": "code",
   "execution_count": 28,
   "metadata": {},
   "outputs": [
    {
     "name": "stdout",
     "output_type": "stream",
     "text": [
      "     productid                   name productnumber  makeflag  finishedgoodsflag color  safetystocklevel  reorderpoint  standardcost  listprice  size sizeunitmeasurecode weightunitmeasurecode  weight  weight_corrected  daystomanufacture productline class style  productsubcategoryid  productmodelid             sellstartdate sellenddate                               rowguid                     modifieddate\n",
      "515          1        ADJUSTABLE RACE       AR-5381     False              False  None              1000           750          0.00       0.00  None                None                  None     NaN               NaN                  0        None  None  None                  <NA>            <NA> 2008-04-30 00:00:00+00:00         NaT  694215B7-08F7-4C0D-ACB1-D734BA44C0C8 2014-02-08 10:01:36.827000+00:00\n",
      "527          2           BEARING BALL       BA-8327     False              False  None              1000           750          0.00       0.00  None                None                  None     NaN               NaN                  0        None  None  None                  <NA>            <NA> 2008-04-30 00:00:00+00:00         NaT  58AE3C20-4F3A-4749-A7D4-D568806CC537 2014-02-08 10:01:36.827000+00:00\n",
      "539          3        BB BALL BEARING       BE-2349      True              False  None               800           600          0.00       0.00  None                None                  None     NaN               NaN                  1        None  None  None                  <NA>            <NA> 2008-04-30 00:00:00+00:00         NaT  9C21AED2-5BFA-4F18-BCB8-F11638DC2E4E 2014-02-08 10:01:36.827000+00:00\n",
      "551          4  HEADSET BALL BEARINGS       BE-2908     False              False  None               800           600          0.00       0.00  None                None                  None     NaN               NaN                  0        None  None  None                  <NA>            <NA> 2008-04-30 00:00:00+00:00         NaT  ECFED6CB-51FF-49B5-B06C-7D8AC834DB8B 2014-02-08 10:01:36.827000+00:00\n",
      "563        316                  BLADE       BL-2036      True              False  None               800           600          0.00       0.00  None                None                  None     NaN               NaN                  1        None  None  None                  <NA>            <NA> 2008-04-30 00:00:00+00:00         NaT  E73E9750-603B-4131-89F5-3DD15ED5FF80 2014-02-08 10:01:36.827000+00:00\n"
     ]
    }
   ],
   "source": [
    "# Padronizar colunas com valores textuais\n",
    "production_product['name'] = production_product['name'].str.strip().str.upper()\n",
    "production_product['productnumber'] = production_product['productnumber'].str.strip().str.upper()\n",
    "production_product['color'] = production_product['color'].str.strip().str.upper()\n",
    "production_product['weightunitmeasurecode'] = production_product['weightunitmeasurecode'].str.strip().str.upper()\n",
    "production_product['productline'] = production_product['productline'].str.strip().str.upper()\n",
    "production_product['class'] = production_product['class'].str.strip().str.upper()\n",
    "production_product['size'] = production_product['size'].str.strip().str.upper()\n",
    "production_product['rowguid'] = production_product['rowguid'].str.strip().str.upper()\n",
    "\n",
    "print(production_product.head())\n",
    "\n",
    "#doc: padronizar as strings nessa etapa, contribui para a execução das demais etapas do pipeline"
   ]
  },
  {
   "cell_type": "code",
   "execution_count": 29,
   "metadata": {},
   "outputs": [
    {
     "name": "stdout",
     "output_type": "stream",
     "text": [
      "Tabela production_product exportada com sucesso para desafioadventureworks-446600.raw_data_cleaned.production_product.\n"
     ]
    }
   ],
   "source": [
    "# Garantir que apenas tabelas únicas sejam exportadas\n",
    "unique_df_processados = {k: v for k, v in df_processados.items()}\n",
    "\n",
    "# Exportar tabelas para o BigQuery\n",
    "for table_name, df_cleaned in unique_df_processados.items():\n",
    " \n",
    "    output_table = f\"{output_dataset}.{table_name}\"\n",
    "   \n",
    "    job_config = bigquery.LoadJobConfig(\n",
    "        write_disposition=\"WRITE_TRUNCATE\"  \n",
    "    )\n",
    "    \n",
    "    job = client.load_table_from_dataframe(df_cleaned, output_table, job_config=job_config)\n",
    "    job.result()\n",
    "\n",
    "    print(f\"Tabela {table_name} exportada com sucesso para {output_table}.\")"
   ]
  },
  {
   "cell_type": "markdown",
   "metadata": {},
   "source": []
  }
 ],
 "metadata": {
  "kernelspec": {
   "display_name": "venv",
   "language": "python",
   "name": "python3"
  },
  "language_info": {
   "codemirror_mode": {
    "name": "ipython",
    "version": 3
   },
   "file_extension": ".py",
   "mimetype": "text/x-python",
   "name": "python",
   "nbconvert_exporter": "python",
   "pygments_lexer": "ipython3",
   "version": "3.10.9"
  }
 },
 "nbformat": 4,
 "nbformat_minor": 2
}
