{
 "cells": [
  {
   "cell_type": "markdown",
   "metadata": {},
   "source": [
    "### EDA (Exploratory Data Analysis) & Data Cleaning"
   ]
  },
  {
   "cell_type": "code",
   "execution_count": 2,
   "metadata": {},
   "outputs": [
    {
     "name": "stdout",
     "output_type": "stream",
     "text": [
      "Credenciais do BigQuery: C:\\Temp\\desafiolh-445818-3cb0f62cb9ef.json\n",
      "C:\\Temp\\desafiolh-445818-3cb0f62cb9ef.json\n"
     ]
    }
   ],
   "source": [
    "\n",
    "##import das bibliotecas e adequando colunas, linhas e formato de números\n",
    "\n",
    "from google.cloud import bigquery\n",
    "from dotenv import load_dotenv\n",
    "import pandas as pd\n",
    "import pandas_gbq as gbq\n",
    "import matplotlib.pyplot as plt\n",
    "import seaborn as sns\n",
    "import numpy as np\n",
    "import os\n",
    "import re\n",
    "\n",
    "# Carrega o .env\n",
    "load_dotenv()\n",
    "\n",
    "os.environ[\"GOOGLE_APPLICATION_CREDENTIALS\"] = r\"C:\\Temp\\desafiolh-445818-3cb0f62cb9ef.json\"\n",
    "\n",
    "# Verificar se a configuração está correta\n",
    "print(\"Credenciais do BigQuery:\", os.getenv(\"GOOGLE_APPLICATION_CREDENTIALS\"))\n",
    "\n",
    "# Verifica se a variável está configurada\n",
    "print(os.getenv(\"GOOGLE_APPLICATION_CREDENTIALS\"))\n",
    "\n",
    "\n",
    "# Configurar Pandas para exibir todas as colunas e todas as linhas completas\n",
    "pd.set_option('display.max_columns', None)\n",
    "#pd.set_option('display.max_rows', None)\n",
    "pd.set_option('display.max_colwidth', None)\n",
    "pd.set_option('display.width', 1000)\n",
    "\n",
    "\n",
    "pd.options.display.float_format = '{:.2f}'.format"
   ]
  },
  {
   "cell_type": "code",
   "execution_count": 3,
   "metadata": {},
   "outputs": [],
   "source": [
    "# Configurar o cliente do BigQuery\n",
    "client = bigquery.Client()\n",
    "\n",
    "# Nome do dataset e tabela\n",
    "dataset_id = 'raw_data'"
   ]
  },
  {
   "cell_type": "code",
   "execution_count": 4,
   "metadata": {},
   "outputs": [
    {
     "name": "stdout",
     "output_type": "stream",
     "text": [
      "Tabelas disponíveis:\n",
      "humanresources_employee\n",
      "person_address\n",
      "person_businessentity\n",
      "person_person\n",
      "production_location\n",
      "production_product\n",
      "production_productcategory\n",
      "production_productinventory\n",
      "production_productsubcategory\n",
      "sales_customer\n",
      "sales_salesorderdetail\n",
      "sales_salesorderheader\n",
      "sales_salesterritory\n",
      "sales_store\n"
     ]
    }
   ],
   "source": [
    "# Listar tabelas no dataset\n",
    "tables = client.list_tables('raw_data')\n",
    "print(\"Tabelas disponíveis:\")\n",
    "for table in tables:\n",
    "    print(table.table_id)\n",
    "\n",
    "\n"
   ]
  },
  {
   "cell_type": "code",
   "execution_count": 5,
   "metadata": {},
   "outputs": [
    {
     "name": "stderr",
     "output_type": "stream",
     "text": [
      "c:\\Users\\wrpen\\OneDrive\\Desktop\\df_lh\\.venv\\lib\\site-packages\\google\\cloud\\bigquery\\table.py:1727: UserWarning: BigQuery Storage module not found, fetch data with the REST endpoint instead.\n",
      "  warnings.warn(\n",
      "c:\\Users\\wrpen\\OneDrive\\Desktop\\df_lh\\.venv\\lib\\site-packages\\google\\cloud\\bigquery\\_pandas_helpers.py:208: UserWarning: Unable to determine Arrow type for field 'data'.\n",
      "  warnings.warn(\n"
     ]
    },
    {
     "name": "stdout",
     "output_type": "stream",
     "text": [
      "       birthdate  businessentityid  currentflag gender    hiredate                           jobtitle                     loginid maritalstatus                modifieddate nationalidnumber organizationnode                               rowguid  salariedflag  sickleavehours  vacationhours\n",
      "592   1966-12-14                38         True      F  2010-01-16       Production Technician - WC60        adventure-works\\kim1             M         2014-06-30T00:00:00          6298838       /3/1/1/11/  891c27f4-28cc-44bb-bea3-da5ea7fbe957         False              32             24\n",
      "117   1970-11-12               136         True      M  2009-12-11       Production Technician - WC20  adventure-works\\sylvester0             M         2014-06-30T00:00:00        701156975       /3/1/14/2/  d9c43d08-3882-4e5c-bdf0-f6bd7004cd04         False              22              4\n",
      "1552  1974-08-21               252         True      M  2009-02-28                              Buyer     adventure-works\\arvind0             M         2014-06-30T00:00:00        792847334        /4/3/1/2/  51de26f0-6ed9-4a70-b689-88eb882674b6         False              50             60\n",
      "272   1967-03-02               154         True      M  2008-12-23       Production Technician - WC20    adventure-works\\raymond0             M         2014-06-30T00:00:00         97728960       /3/1/16/2/  9f01e1fb-b893-40cc-9f5c-aaf89f9b7af5         False              25             10\n",
      "1199  1974-12-23                 4         True      M  2007-12-05               Senior Tool Designer        adventure-works\\rob0             S         2014-06-30T00:00:00        112457891          /1/1/1/  59747955-87b8-443f-8ed4-f8ad3afdf3a9         False              80             48\n",
      "1460  1983-07-08               241         True      M  2009-01-30                   Accounts Manager      adventure-works\\david6             M         2014-06-30T00:00:00            30845            /4/2/  2dc9d534-f5d1-4a14-8282-0a2a0eb6fd4d          True              48             57\n",
      "1839  1983-02-28               192         True      F  2009-03-05       Production Supervisor - WC40     adventure-works\\brenda0             M         2014-06-30T00:00:00        634335025         /3/1/21/  714d519b-375e-4c5a-8491-c758d00cf95f         False              55             71\n",
      "37    1974-09-10               141         True      M  2010-01-24       Production Technician - WC20        adventure-works\\min0             M         2014-06-30T00:00:00        872923042       /3/1/14/7/  cc75c35d-1566-43fa-b2e9-d1e508efdcd1         False              20              1\n",
      "1819  1977-03-27               265         True      M  2008-12-04              Network Administrator    adventure-works\\ashvini0             S         2014-06-30T00:00:00        749389530          /5/1/1/  2e680c1c-7c02-4343-9626-6f97273414c0         False              55             70\n",
      "734   1974-11-15               179         True      M  2009-03-05       Production Technician - WC30        adventure-works\\jan0             S         2014-06-30T00:00:00        587567941      /3/1/18/13/  975f827d-be71-4eb1-8dbf-e6c451d1fad5         False              35             30\n",
      "331   1979-08-16                59         True      M  2008-12-24       Production Technician - WC50        adventure-works\\bob0             S         2014-06-30T00:00:00        843479922        /3/1/4/4/  68616aea-81e5-4940-a7e4-6fba882bccf6         False              26             12\n",
      "1390  1972-09-17               257         True      M  2010-01-27                              Buyer       adventure-works\\eric2             S         2014-06-30T00:00:00        381073001        /4/3/1/7/  a28ab377-06f5-417a-a5e2-59f459088699         False              47             54\n",
      "2290  1971-06-13               118         True      M  2009-02-13       Production Technician - WC50        adventure-works\\don0             M         2014-06-30T00:00:00        222400012      /3/1/11/10/  e720053d-922e-4c91-b81a-a1ca4ef8bb0e         False              64             88\n",
      "1469  1970-11-24               254         True      M  2010-01-04                              Buyer     adventure-works\\fukiko0             M         2014-06-30T00:00:00        482810518        /4/3/1/4/  36cd6636-c657-4fc7-9bfa-cc1bfa9102a2         False              48             57\n",
      "679   1980-02-27               276         True      F  2011-05-31               Sales Representative      adventure-works\\linda3             M         2014-06-30T00:00:00        191644724          /6/1/2/  4509f387-d73a-43dc-a502-b1c27aa1dc9e          True              33             27\n",
      "628   1979-11-02               167         True      M  2008-12-02       Production Technician - WC30      adventure-works\\david1             S         2014-06-30T00:00:00        498138869       /3/1/18/1/  ed7ee92e-a9d0-4e3a-8dee-4b143e459f7e         False              32             25\n",
      "977   1978-01-05               284         True      M  2012-09-30               Sales Representative       adventure-works\\tete0             M         2014-06-30T00:00:00         90836195         /6/1/10/  0c67ce00-de78-4712-908f-06939a2c58d5          True              39             39\n",
      "1937  1980-12-25               162         True      F  2009-01-03       Production Technician - WC45      adventure-works\\laura0             S         2014-06-30T00:00:00        514829225       /3/1/17/2/  fccd65ba-2702-4409-ae56-75af1710ac78         False              57             75\n",
      "1621  1970-12-23                85         True      M  2009-12-11       Production Technician - WC40      adventure-works\\brian2             S         2014-06-30T00:00:00          1662732        /3/1/7/7/  c294f676-caaf-4924-9730-bc81ae408be1         False              51             63\n",
      "819   1984-08-25               168         True      M  2008-12-07       Production Technician - WC30    adventure-works\\garrett0             S         2014-06-30T00:00:00        271438431       /3/1/18/2/  a6f5f72f-aa03-41b7-8b6e-b123bd360753         False              37             34\n",
      "1721  1986-04-09               132         True      F  2009-02-22       Production Technician - WC40     adventure-works\\nicole0             M         2014-06-30T00:00:00          1300049       /3/1/13/5/  15671e3b-016f-41fd-840b-5a9f7d776d9a         False              53             67\n",
      "970   1984-07-25                42         True      M  2008-12-27       Production Technician - WC60      adventure-works\\james0             M         2014-06-30T00:00:00        339712426        /3/1/2/2/  82e52d5a-165b-4c6d-9773-c3a6b6332ecd         False              39             39\n",
      "1842  1983-02-28               192         True      F  2009-03-05       Production Supervisor - WC40     adventure-works\\brenda0             M         2014-06-30T00:00:00        634335025         /3/1/21/  714d519b-375e-4c5a-8491-c758d00cf95f         False              55             71\n",
      "1064  1978-01-29                19         True      F  2011-02-14                Marketing Assistant       adventure-works\\mary2             S         2014-06-30T00:00:00         52541318            /2/3/  1f6da901-c7f7-48a8-8eef-d81868d72b52         False              41             43\n",
      "430   1976-12-26                33         True      M  2008-12-17       Production Technician - WC60      adventure-works\\annik0             M         2014-06-30T00:00:00        801758002        /3/1/1/6/  51fde6ac-bd50-467c-90e5-10ca7310455c         False              28             17\n",
      "109   1961-05-02                15         True      F  2011-01-18                    Design Engineer     adventure-works\\sharon0             M         2014-06-30T00:00:00         56920285          /1/1/7/  54f2fdc0-87c4-4065-a7a8-9ac8ea624235          True              22              4\n",
      "2037  1987-03-12               219         True      M  2009-01-22         Document Control Assistant       adventure-works\\sean1             S         2014-06-30T00:00:00        242381745        /3/2/2/2/  f78657a9-83ef-4b4d-9809-3c4c6d1a7bb4         False              59             78\n",
      "1815  1989-01-29                71         True      M  2009-02-15       Production Supervisor - WC30    adventure-works\\michael3             S         2014-06-30T00:00:00        578935259          /3/1/6/  1ad772d7-7b4a-4a7b-8676-49dd7608cb94         False              55             70\n",
      "426   1976-12-26                33         True      M  2008-12-17       Production Technician - WC60      adventure-works\\annik0             M         2014-06-30T00:00:00        801758002        /3/1/1/6/  51fde6ac-bd50-467c-90e5-10ca7310455c         False              28             17\n",
      "147   1953-04-30               140         True      M  2010-01-22       Production Technician - WC20   adventure-works\\prasanna0             M         2014-06-30T00:00:00        339233463       /3/1/14/6/  72ed240a-0fd8-4423-8a49-9078ba6bcf6c         False              22              5\n",
      "647   1973-09-05                64         True      M  2010-02-23       Production Technician - WC60    adventure-works\\michael7             S         2014-06-30T00:00:00        582347317        /3/1/5/2/  492b24bd-bde9-4371-b96e-ccd72264b91f         False              33             26\n",
      "455   1986-04-05               184         True      M  2009-02-09       Production Technician - WC20       adventure-works\\john2             M         2014-06-30T00:00:00        305522471       /3/1/19/4/  bab69951-28ad-4bca-b5ac-032746d0cc6f         False              29             18\n",
      "278   1967-03-02               154         True      M  2008-12-23       Production Technician - WC20    adventure-works\\raymond0             M         2014-06-30T00:00:00         97728960       /3/1/16/2/  9f01e1fb-b893-40cc-9f5c-aaf89f9b7af5         False              25             10\n",
      "2173  1986-04-30               215         True      M  2009-01-15       Quality Assurance Technician       adventure-works\\mark0             S         2014-06-30T00:00:00        381772114        /3/2/1/3/  6b63ef27-2c55-4f4c-be29-fce8b694dc4a         False              61             83\n",
      "764   1991-04-06                69         True      M  2009-02-15       Production Technician - WC60      adventure-works\\steve0             S         2014-06-30T00:00:00        752513276        /3/1/5/7/  12f678d7-ead3-4cf4-8518-a19aacf2a6d4         False              35             31\n",
      "1765  1984-03-25               264         True      F  2009-02-04                    Network Manager  adventure-works\\stephanie0             S         2014-06-30T00:00:00        858323870            /5/1/  221cbb7b-8bae-452b-a16f-a67ebb3873c8          True              54             68\n",
      "1002  1977-09-13               151         True      M  2009-02-19       Production Technician - WC30  adventure-works\\rostislav0             M         2014-06-30T00:00:00        993310268       /3/1/15/6/  00027a8c-c2f8-4a31-aba8-8a203638b8f1         False              40             40\n",
      "358   1989-09-28                30         True      F  2009-01-29       Production Technician - WC60     adventure-works\\britta0             M         2014-06-30T00:00:00        410742000        /3/1/1/3/  fc12677f-42f8-4790-ad69-685088ed7e5f         False              27             14\n",
      "1109  1968-09-17               222         True      M  2008-12-12                   Master Scheduler     adventure-works\\ascott0             S  2014-12-26T09:17:08.637000        685233686            /3/3/  13909262-4136-492f-bca3-0b0e3773b03e         False              42             44\n",
      "469   1975-12-21               185         True      M  2009-02-28       Production Technician - WC20     adventure-works\\stefen0             S         2014-06-30T00:00:00        621932914       /3/1/19/5/  b9eebf9f-f694-4bc2-98ec-9b4fb0379edf         False              29             19\n",
      "482   1984-07-31                36         True      M  2009-02-10       Production Technician - WC60       adventure-works\\jose0             M         2014-06-30T00:00:00        788456780        /3/1/1/9/  9e912556-88ba-41ee-b946-cb84ab4c1102         False              30             20\n",
      "582   1974-02-11               283         True      M  2011-05-31               Sales Representative      adventure-works\\david8             S         2014-06-30T00:00:00        987554265          /6/1/9/  1e8f9e91-508f-4d49-acd2-775c836030ed          True              31             23\n",
      "2389  1954-04-24               231         True      F  2010-03-07                            Janitor         adventure-works\\jo1             M         2014-06-30T00:00:00        153479919        /3/4/1/3/  39af5cca-9b52-41e5-b510-72901d2578f6         False              65             91\n",
      "1707  1952-03-02                84         True      M  2010-02-05       Production Technician - WC40      adventure-works\\frank3             M         2014-06-30T00:00:00        947029962        /3/1/7/6/  9af24acc-ea3e-4efe-b5e3-4762c496d57c         False              53             66\n",
      "2584  1969-01-29                 1         True      M  2009-01-14            Chief Executive Officer        adventure-works\\ken0             S         2014-06-30T00:00:00        295847284                /  f01251e5-96a3-448d-981e-0f99d789110d          True              69             99\n",
      "1963  1988-12-16               165         True      M  2009-01-22       Production Technician - WC45      adventure-works\\chris0             M         2014-06-30T00:00:00        539490372       /3/1/17/5/  300223f3-5587-4230-909b-d9c4afd6d683         False              58             76\n",
      "52    1986-09-08                95         True      M  2008-12-19       Production Technician - WC50        adventure-works\\jim0             M         2014-06-30T00:00:00        674171828        /3/1/9/2/  6175876e-8fcc-4917-be06-fc358515e6df         False              20              1\n",
      "1591  1986-06-05                 8         True      F  2008-12-29  Research and Development Engineer      adventure-works\\diane1             S         2014-06-30T00:00:00        811994146        /1/1/4/1/  31112635-663b-4018-b4a2-a685c0bf48a4          True              51             62\n",
      "2245  1956-04-04                52         True      F  2008-03-10       Production Technician - WC10      adventure-works\\doris0             M         2014-06-30T00:00:00        565090917        /3/1/3/5/  692b8826-03b4-4c3b-82fc-1fc6f1409689         False              63             86\n",
      "45    1986-09-08                95         True      M  2008-12-19       Production Technician - WC50        adventure-works\\jim0             M         2014-06-30T00:00:00        674171828        /3/1/9/2/  6175876e-8fcc-4917-be06-fc358515e6df         False              20              1\n"
     ]
    }
   ],
   "source": [
    "query = f\"SELECT * FROM `raw_data.humanresources_employee`\"\n",
    "data = client.query(query).result().to_dataframe()\n",
    "\n",
    "# Expandir a coluna JSON\n",
    "EDA_humanresources_employee = pd.json_normalize(data['data'])\n",
    "\n",
    "# Exibir os dados expandidos\n",
    "print(EDA_humanresources_employee.sample(n=50))\n"
   ]
  },
  {
   "cell_type": "markdown",
   "metadata": {},
   "source": [
    "### Verificando valores nulos/em branco nos dados"
   ]
  },
  {
   "cell_type": "code",
   "execution_count": 6,
   "metadata": {},
   "outputs": [
    {
     "data": {
      "text/plain": [
       "birthdate           0\n",
       "businessentityid    0\n",
       "currentflag         0\n",
       "gender              0\n",
       "hiredate            0\n",
       "jobtitle            0\n",
       "loginid             0\n",
       "maritalstatus       0\n",
       "modifieddate        0\n",
       "nationalidnumber    0\n",
       "organizationnode    0\n",
       "rowguid             0\n",
       "salariedflag        0\n",
       "sickleavehours      0\n",
       "vacationhours       0\n",
       "dtype: int64"
      ]
     },
     "execution_count": 6,
     "metadata": {},
     "output_type": "execute_result"
    }
   ],
   "source": [
    "#valores nulos\n",
    "\n",
    "EDA_humanresources_employee.isnull().sum()"
   ]
  },
  {
   "cell_type": "code",
   "execution_count": 7,
   "metadata": {},
   "outputs": [],
   "source": [
    "# dropar colunas vazias"
   ]
  },
  {
   "cell_type": "code",
   "execution_count": 8,
   "metadata": {},
   "outputs": [
    {
     "name": "stdout",
     "output_type": "stream",
     "text": [
      "birthdate : 275\n",
      "businessentityid : 290\n",
      "currentflag : 1\n",
      "gender : 2\n",
      "hiredate : 164\n",
      "jobtitle : 67\n",
      "loginid : 290\n",
      "maritalstatus : 2\n",
      "modifieddate : 2\n",
      "nationalidnumber : 290\n",
      "organizationnode : 290\n",
      "rowguid : 290\n",
      "salariedflag : 2\n",
      "sickleavehours : 51\n",
      "vacationhours : 100\n"
     ]
    }
   ],
   "source": [
    "#total valores unicos de cada variável\n",
    "\n",
    "valores_unicos = []\n",
    "\n",
    "for i in EDA_humanresources_employee.columns[0:15].tolist():\n",
    "    print(i, ':', len(EDA_humanresources_employee[i].astype(str).value_counts()))\n",
    "    valores_unicos.append(len(EDA_humanresources_employee[i].astype(str).value_counts()))"
   ]
  },
  {
   "cell_type": "code",
   "execution_count": 9,
   "metadata": {},
   "outputs": [
    {
     "name": "stdout",
     "output_type": "stream",
     "text": [
      "Duplicatas ordenadas:\n",
      "       birthdate  businessentityid  currentflag gender    hiredate                 jobtitle                  loginid maritalstatus         modifieddate nationalidnumber organizationnode                               rowguid  salariedflag  sickleavehours  vacationhours\n",
      "2583  1969-01-29                 1         True      M  2009-01-14  Chief Executive Officer     adventure-works\\ken0             S  2014-06-30T00:00:00        295847284                /  f01251e5-96a3-448d-981e-0f99d789110d          True              69             99\n",
      "2584  1969-01-29                 1         True      M  2009-01-14  Chief Executive Officer     adventure-works\\ken0             S  2014-06-30T00:00:00        295847284                /  f01251e5-96a3-448d-981e-0f99d789110d          True              69             99\n",
      "2585  1969-01-29                 1         True      M  2009-01-14  Chief Executive Officer     adventure-works\\ken0             S  2014-06-30T00:00:00        295847284                /  f01251e5-96a3-448d-981e-0f99d789110d          True              69             99\n",
      "2586  1969-01-29                 1         True      M  2009-01-14  Chief Executive Officer     adventure-works\\ken0             S  2014-06-30T00:00:00        295847284                /  f01251e5-96a3-448d-981e-0f99d789110d          True              69             99\n",
      "2587  1969-01-29                 1         True      M  2009-01-14  Chief Executive Officer     adventure-works\\ken0             S  2014-06-30T00:00:00        295847284                /  f01251e5-96a3-448d-981e-0f99d789110d          True              69             99\n",
      "...          ...               ...          ...    ...         ...                      ...                      ...           ...                  ...              ...              ...                                   ...           ...             ...            ...\n",
      "841   1975-09-30               290         True      M  2012-05-30     Sales Representative  adventure-works\\ranjit0             S  2014-06-30T00:00:00        134219713          /6/3/3/  604213f9-dd0f-43b4-bdd2-c96e93d3f4bf          True              37             34\n",
      "842   1975-09-30               290         True      M  2012-05-30     Sales Representative  adventure-works\\ranjit0             S  2014-06-30T00:00:00        134219713          /6/3/3/  604213f9-dd0f-43b4-bdd2-c96e93d3f4bf          True              37             34\n",
      "843   1975-09-30               290         True      M  2012-05-30     Sales Representative  adventure-works\\ranjit0             S  2014-06-30T00:00:00        134219713          /6/3/3/  604213f9-dd0f-43b4-bdd2-c96e93d3f4bf          True              37             34\n",
      "844   1975-09-30               290         True      M  2012-05-30     Sales Representative  adventure-works\\ranjit0             S  2014-06-30T00:00:00        134219713          /6/3/3/  604213f9-dd0f-43b4-bdd2-c96e93d3f4bf          True              37             34\n",
      "845   1975-09-30               290         True      M  2012-05-30     Sales Representative  adventure-works\\ranjit0             S  2014-06-30T00:00:00        134219713          /6/3/3/  604213f9-dd0f-43b4-bdd2-c96e93d3f4bf          True              37             34\n",
      "\n",
      "[2610 rows x 15 columns]\n"
     ]
    }
   ],
   "source": [
    "# Identificar duplicatas com base em 'businessentityid'\n",
    "duplicatas = EDA_humanresources_employee[EDA_humanresources_employee.duplicated(subset=['businessentityid'], keep=False)]\n",
    "\n",
    "# Verificar se existem duplicatas\n",
    "if not duplicatas.empty:\n",
    "    # Ordenar duplicatas por 'businessentityid' e 'modifieddate'\n",
    "    duplicatas_ordenadas = duplicatas.sort_values(by=['businessentityid', 'modifieddate'])\n",
    "    \n",
    "    # Exibir duplicatas ordenadas\n",
    "    print(\"Duplicatas ordenadas:\")\n",
    "    print(duplicatas_ordenadas)\n",
    "else:\n",
    "    print(\"Não foram encontradas duplicatas.\")\n"
   ]
  },
  {
   "cell_type": "code",
   "execution_count": 10,
   "metadata": {},
   "outputs": [
    {
     "name": "stdout",
     "output_type": "stream",
     "text": [
      "       birthdate  businessentityid  currentflag gender    hiredate                       jobtitle                   loginid maritalstatus         modifieddate nationalidnumber organizationnode                               rowguid  salariedflag  sickleavehours  vacationhours\n",
      "2583  1969-01-29                 1         True      M  2009-01-14        Chief Executive Officer      adventure-works\\ken0             S  2014-06-30T00:00:00        295847284                /  f01251e5-96a3-448d-981e-0f99d789110d          True              69             99\n",
      "27    1971-08-01                 2         True      F  2008-01-31  Vice President of Engineering    adventure-works\\terri0             S  2014-06-30T00:00:00        245797967              /1/  45e8f437-670d-4409-93cb-f9424a40d6ee          True              20              1\n",
      "54    1974-11-12                 3         True      M  2007-11-11            Engineering Manager  adventure-works\\roberto0             M  2014-06-30T00:00:00        509647174            /1/1/  9bbbfb2c-efbb-4217-9ab7-f97689328841          True              21              2\n",
      "1197  1974-12-23                 4         True      M  2007-12-05           Senior Tool Designer      adventure-works\\rob0             S  2014-06-30T00:00:00        112457891          /1/1/1/  59747955-87b8-443f-8ed4-f8ad3afdf3a9         False              80             48\n",
      "135   1952-09-27                 5         True      F  2008-01-06                Design Engineer     adventure-works\\gail0             M  2014-06-30T00:00:00        695256908          /1/1/2/  ec84ae09-f9b8-4a15-b4a9-6ccbab919b08          True              22              5\n",
      "...          ...               ...          ...    ...         ...                            ...                       ...           ...                  ...              ...              ...                                   ...           ...             ...            ...\n",
      "891   1977-02-14               286         True      F  2013-05-30           Sales Representative     adventure-works\\lynn0             S  2014-06-30T00:00:00        758596752          /6/2/1/  4a9a8407-a680-4a6b-8d03-511cb58f9a8a          True              38             36\n",
      "522   1957-09-20               287         True      F  2012-04-16         European Sales Manager      adventure-works\\amy0             M  2014-06-30T00:00:00        982310417            /6/3/  66d66445-ee78-4676-9e66-0e22d6109a92          True              30             21\n",
      "864   1975-07-09               288         True      F  2013-05-30           Sales Representative   adventure-works\\rachel0             S  2014-06-30T00:00:00        954276278          /6/3/1/  b9bf7741-e0ca-4f37-acde-a4f78c6d03e9          True              37             35\n",
      "918   1968-03-17               289         True      F  2012-05-30           Sales Representative      adventure-works\\jae0             M  2014-06-30T00:00:00        668991357          /6/3/2/  723a5921-d8a1-4659-9bc4-13c4cf7c9c91          True              38             37\n",
      "837   1975-09-30               290         True      M  2012-05-30           Sales Representative   adventure-works\\ranjit0             S  2014-06-30T00:00:00        134219713          /6/3/3/  604213f9-dd0f-43b4-bdd2-c96e93d3f4bf          True              37             34\n",
      "\n",
      "[290 rows x 15 columns]\n"
     ]
    }
   ],
   "source": [
    "print(duplicatas_ordenadas.drop_duplicates())\n"
   ]
  },
  {
   "cell_type": "code",
   "execution_count": 11,
   "metadata": {},
   "outputs": [
    {
     "name": "stdout",
     "output_type": "stream",
     "text": [
      "       birthdate  businessentityid  currentflag gender    hiredate                 jobtitle                  loginid maritalstatus         modifieddate nationalidnumber organizationnode                               rowguid  salariedflag  sickleavehours  vacationhours\n",
      "2590  1969-01-29                 1         True      M  2009-01-14  Chief Executive Officer     adventure-works\\ken0             S  2014-06-30T00:00:00        295847284                /  f01251e5-96a3-448d-981e-0f99d789110d          True              69             99\n",
      "2583  1969-01-29                 1         True      M  2009-01-14  Chief Executive Officer     adventure-works\\ken0             S  2014-06-30T00:00:00        295847284                /  f01251e5-96a3-448d-981e-0f99d789110d          True              69             99\n",
      "2585  1969-01-29                 1         True      M  2009-01-14  Chief Executive Officer     adventure-works\\ken0             S  2014-06-30T00:00:00        295847284                /  f01251e5-96a3-448d-981e-0f99d789110d          True              69             99\n",
      "2586  1969-01-29                 1         True      M  2009-01-14  Chief Executive Officer     adventure-works\\ken0             S  2014-06-30T00:00:00        295847284                /  f01251e5-96a3-448d-981e-0f99d789110d          True              69             99\n",
      "2587  1969-01-29                 1         True      M  2009-01-14  Chief Executive Officer     adventure-works\\ken0             S  2014-06-30T00:00:00        295847284                /  f01251e5-96a3-448d-981e-0f99d789110d          True              69             99\n",
      "...          ...               ...          ...    ...         ...                      ...                      ...           ...                  ...              ...              ...                                   ...           ...             ...            ...\n",
      "839   1975-09-30               290         True      M  2012-05-30     Sales Representative  adventure-works\\ranjit0             S  2014-06-30T00:00:00        134219713          /6/3/3/  604213f9-dd0f-43b4-bdd2-c96e93d3f4bf          True              37             34\n",
      "838   1975-09-30               290         True      M  2012-05-30     Sales Representative  adventure-works\\ranjit0             S  2014-06-30T00:00:00        134219713          /6/3/3/  604213f9-dd0f-43b4-bdd2-c96e93d3f4bf          True              37             34\n",
      "837   1975-09-30               290         True      M  2012-05-30     Sales Representative  adventure-works\\ranjit0             S  2014-06-30T00:00:00        134219713          /6/3/3/  604213f9-dd0f-43b4-bdd2-c96e93d3f4bf          True              37             34\n",
      "844   1975-09-30               290         True      M  2012-05-30     Sales Representative  adventure-works\\ranjit0             S  2014-06-30T00:00:00        134219713          /6/3/3/  604213f9-dd0f-43b4-bdd2-c96e93d3f4bf          True              37             34\n",
      "845   1975-09-30               290         True      M  2012-05-30     Sales Representative  adventure-works\\ranjit0             S  2014-06-30T00:00:00        134219713          /6/3/3/  604213f9-dd0f-43b4-bdd2-c96e93d3f4bf          True              37             34\n",
      "\n",
      "[2610 rows x 15 columns]\n"
     ]
    }
   ],
   "source": [
    "duplicados_businessentityid = EDA_humanresources_employee[EDA_humanresources_employee.duplicated(subset=['businessentityid'], keep=False)]\n",
    "\n",
    "# Ordenar por 'businessentityid' para facilitar a análise\n",
    "duplicados_ordenados = duplicados_businessentityid.sort_values(by=['businessentityid'])\n",
    "\n",
    "# Exibir todas as linhas duplicadas\n",
    "print(duplicados_ordenados)\n"
   ]
  },
  {
   "cell_type": "code",
   "execution_count": 12,
   "metadata": {},
   "outputs": [
    {
     "name": "stdout",
     "output_type": "stream",
     "text": [
      "businessentityid\n",
      "139    9\n",
      "221    9\n",
      "129    9\n",
      "264    9\n",
      "166    9\n",
      "128    9\n",
      "270    9\n",
      "87     9\n",
      "132    9\n",
      "271    9\n",
      "84     9\n",
      "102    9\n",
      "263    9\n",
      "80     9\n",
      "47     9\n",
      "247    9\n",
      "81     9\n",
      "145    9\n",
      "266    9\n",
      "133    9\n",
      "127    9\n",
      "162    9\n",
      "267    9\n",
      "161    9\n",
      "160    9\n",
      "268    9\n",
      "164    9\n",
      "269    9\n",
      "71     9\n",
      "78     9\n",
      "131    9\n",
      "272    9\n",
      "192    9\n",
      "130    9\n",
      "265    9\n",
      "25     9\n",
      "246    9\n",
      "85     9\n",
      "257    9\n",
      "262    9\n",
      "253    9\n",
      "200    9\n",
      "259    9\n",
      "249    9\n",
      "201    9\n",
      "235    9\n",
      "241    9\n",
      "199    9\n",
      "258    9\n",
      "236    9\n",
      "196    9\n",
      "255    9\n",
      "237    9\n",
      "204    9\n",
      "254    9\n",
      "9      9\n",
      "252    9\n",
      "244    9\n",
      "82     9\n",
      "8      9\n",
      "243    9\n",
      "83     9\n",
      "7      9\n",
      "242    9\n",
      "195    9\n",
      "79     9\n",
      "251    9\n",
      "248    9\n",
      "86     9\n",
      "256    9\n",
      "245    9\n",
      "186    9\n",
      "165    9\n",
      "97     9\n",
      "205    9\n",
      "111    9\n",
      "103    9\n",
      "228    9\n",
      "115    9\n",
      "106    9\n",
      "231    9\n",
      "112    9\n",
      "107    9\n",
      "229    9\n",
      "110    9\n",
      "105    9\n",
      "232    9\n",
      "54     9\n",
      "120    9\n",
      "230    9\n",
      "121    9\n",
      "104    9\n",
      "119    9\n",
      "122    9\n",
      "117    9\n",
      "1      9\n",
      "92     9\n",
      "124    9\n",
      "116    9\n",
      "90     9\n",
      "114    9\n",
      "125    9\n",
      "89     9\n",
      "126    9\n",
      "113    9\n",
      "91     9\n",
      "123    9\n",
      "109    9\n",
      "49     9\n",
      "118    9\n",
      "233    9\n",
      "187    9\n",
      "189    9\n",
      "211    9\n",
      "188    9\n",
      "27     9\n",
      "220    9\n",
      "55     9\n",
      "219    9\n",
      "212    9\n",
      "93     9\n",
      "191    9\n",
      "217    9\n",
      "163    9\n",
      "108    9\n",
      "218    9\n",
      "62     9\n",
      "40     9\n",
      "53     9\n",
      "207    9\n",
      "209    9\n",
      "227    9\n",
      "52     9\n",
      "208    9\n",
      "213    9\n",
      "51     9\n",
      "214    9\n",
      "190    9\n",
      "50     9\n",
      "206    9\n",
      "215    9\n",
      "48     9\n",
      "210    9\n",
      "216    9\n",
      "193    9\n",
      "261    9\n",
      "239    9\n",
      "203    9\n",
      "185    9\n",
      "29     9\n",
      "184    9\n",
      "31     9\n",
      "183    9\n",
      "33     9\n",
      "155    9\n",
      "37     9\n",
      "10     9\n",
      "153    9\n",
      "34     9\n",
      "274    9\n",
      "158    9\n",
      "30     9\n",
      "60     9\n",
      "36     9\n",
      "181    9\n",
      "285    9\n",
      "283    9\n",
      "170    9\n",
      "167    9\n",
      "39     9\n",
      "277    9\n",
      "177    9\n",
      "38     9\n",
      "175    9\n",
      "28     9\n",
      "32     9\n",
      "280    9\n",
      "172    9\n",
      "35     9\n",
      "287    9\n",
      "182    9\n",
      "159    9\n",
      "59     9\n",
      "157    9\n",
      "14     9\n",
      "5      9\n",
      "98     9\n",
      "136    9\n",
      "15     9\n",
      "101    9\n",
      "142    9\n",
      "99     9\n",
      "96     9\n",
      "143    9\n",
      "3      9\n",
      "95     9\n",
      "141    9\n",
      "2      9\n",
      "234    9\n",
      "140    9\n",
      "6      9\n",
      "58     9\n",
      "12     9\n",
      "156    9\n",
      "273    9\n",
      "57     9\n",
      "154    9\n",
      "56     9\n",
      "135    9\n",
      "61     9\n",
      "144    9\n",
      "137    9\n",
      "13     9\n",
      "100    9\n",
      "138    9\n",
      "11     9\n",
      "94     9\n",
      "64     9\n",
      "281    9\n",
      "178    9\n",
      "19     9\n",
      "22     9\n",
      "222    9\n",
      "75     9\n",
      "21     9\n",
      "74     9\n",
      "26     9\n",
      "73     9\n",
      "224    9\n",
      "180    9\n",
      "17     9\n",
      "72     9\n",
      "152    9\n",
      "20     9\n",
      "151    9\n",
      "76     9\n",
      "23     9\n",
      "16     9\n",
      "226    9\n",
      "260    9\n",
      "238    9\n",
      "202    9\n",
      "250    9\n",
      "240    9\n",
      "198    9\n",
      "197    9\n",
      "77     9\n",
      "18     9\n",
      "4      9\n",
      "225    9\n",
      "194    9\n",
      "24     9\n",
      "223    9\n",
      "134    9\n",
      "284    9\n",
      "68     9\n",
      "63     9\n",
      "173    9\n",
      "67     9\n",
      "171    9\n",
      "282    9\n",
      "69     9\n",
      "169    9\n",
      "179    9\n",
      "278    9\n",
      "279    9\n",
      "65     9\n",
      "176    9\n",
      "66     9\n",
      "174    9\n",
      "276    9\n",
      "70     9\n",
      "168    9\n",
      "42     9\n",
      "147    9\n",
      "149    9\n",
      "275    9\n",
      "44     9\n",
      "148    9\n",
      "289    9\n",
      "45     9\n",
      "286    9\n",
      "43     9\n",
      "46     9\n",
      "146    9\n",
      "288    9\n",
      "41     9\n",
      "150    9\n",
      "290    9\n",
      "88     9\n",
      "Name: count, dtype: int64\n"
     ]
    }
   ],
   "source": [
    "pd.set_option('display.max_rows', None)\n",
    "contagem = EDA_humanresources_employee['businessentityid'].value_counts()\n",
    "\n",
    "# Filtrar apenas os IDs que aparecem mais de uma vez\n",
    "repetidos = contagem[contagem > 1]\n",
    "\n",
    "# Exibir repetidos novamente\n",
    "print(repetidos)"
   ]
  },
  {
   "cell_type": "code",
   "execution_count": 13,
   "metadata": {},
   "outputs": [
    {
     "name": "stdout",
     "output_type": "stream",
     "text": [
      "Linhas após remover duplicatas (baseando-se na última 'modifieddate'): 290\n"
     ]
    }
   ],
   "source": [
    "#copia da humanresources_employee\n",
    "raw_data_bkp = EDA_humanresources_employee.copy()\n",
    "\n",
    "# Ordenar o DataFrame por 'businessentityid' e 'modifieddate'\n",
    "EDA_humanresources_employee = EDA_humanresources_employee.sort_values(by=['businessentityid', 'modifieddate'])\n",
    "\n",
    "# Remover duplicatas mantendo a última ocorrência com base em 'modifieddate'\n",
    "EDA_humanresources_employee = EDA_humanresources_employee.drop_duplicates(subset=['businessentityid'], keep='last')\n",
    "\n",
    "print(f\"Linhas após remover duplicatas (baseando-se na última 'modifieddate'): {len(EDA_humanresources_employee)}\")\n"
   ]
  },
  {
   "cell_type": "code",
   "execution_count": 14,
   "metadata": {},
   "outputs": [
    {
     "name": "stdout",
     "output_type": "stream",
     "text": [
      "<class 'pandas.core.frame.DataFrame'>\n",
      "Index: 290 entries, 2591 to 845\n",
      "Data columns (total 15 columns):\n",
      " #   Column            Non-Null Count  Dtype \n",
      "---  ------            --------------  ----- \n",
      " 0   birthdate         290 non-null    object\n",
      " 1   businessentityid  290 non-null    int64 \n",
      " 2   currentflag       290 non-null    bool  \n",
      " 3   gender            290 non-null    object\n",
      " 4   hiredate          290 non-null    object\n",
      " 5   jobtitle          290 non-null    object\n",
      " 6   loginid           290 non-null    object\n",
      " 7   maritalstatus     290 non-null    object\n",
      " 8   modifieddate      290 non-null    object\n",
      " 9   nationalidnumber  290 non-null    object\n",
      " 10  organizationnode  290 non-null    object\n",
      " 11  rowguid           290 non-null    object\n",
      " 12  salariedflag      290 non-null    bool  \n",
      " 13  sickleavehours    290 non-null    int64 \n",
      " 14  vacationhours     290 non-null    int64 \n",
      "dtypes: bool(2), int64(3), object(10)\n",
      "memory usage: 32.3+ KB\n",
      "None\n"
     ]
    }
   ],
   "source": [
    "# Verificar informações do DataFrame\n",
    "print(EDA_humanresources_employee.info())\n"
   ]
  },
  {
   "cell_type": "code",
   "execution_count": 15,
   "metadata": {},
   "outputs": [
    {
     "name": "stdout",
     "output_type": "stream",
     "text": [
      "                birthdate  businessentityid  currentflag gender             hiredate                       jobtitle                   loginid maritalstatus         modifieddate nationalidnumber organizationnode                               rowguid  salariedflag  sickleavehours  vacationhours\n",
      "2591  1969-01-29 00:00:00                 1         True      M  2009-01-14 00:00:00        Chief Executive Officer      adventure-works\\ken0             S  2014-06-30 00:00:00        295847284                /  f01251e5-96a3-448d-981e-0f99d789110d          True              69             99\n",
      "35    1971-08-01 00:00:00                 2         True      F  2008-01-31 00:00:00  Vice President of Engineering    adventure-works\\terri0             S  2014-06-30 00:00:00        245797967              /1/  45e8f437-670d-4409-93cb-f9424a40d6ee          True              20              1\n",
      "62    1974-11-12 00:00:00                 3         True      M  2007-11-11 00:00:00            Engineering Manager  adventure-works\\roberto0             M  2014-06-30 00:00:00        509647174            /1/1/  9bbbfb2c-efbb-4217-9ab7-f97689328841          True              21              2\n",
      "1205  1974-12-23 00:00:00                 4         True      M  2007-12-05 00:00:00           Senior Tool Designer      adventure-works\\rob0             S  2014-06-30 00:00:00        112457891          /1/1/1/  59747955-87b8-443f-8ed4-f8ad3afdf3a9         False              80             48\n",
      "143   1952-09-27 00:00:00                 5         True      F  2008-01-06 00:00:00                Design Engineer     adventure-works\\gail0             M  2014-06-30 00:00:00        695256908          /1/1/2/  ec84ae09-f9b8-4a15-b4a9-6ccbab919b08          True              22              5\n",
      "\n",
      "Tipos originais das colunas no DataFrame principal:\n",
      "birthdate       datetime64[ns]\n",
      "hiredate        datetime64[ns]\n",
      "modifieddate    datetime64[ns]\n",
      "dtype: object\n"
     ]
    }
   ],
   "source": [
    "# Identificar colunas com datas\n",
    "date_columns = ['birthdate', 'hiredate', 'modifieddate']\n",
    "\n",
    "# Converter as colunas para datetime se ainda não estiverem\n",
    "for col in date_columns:\n",
    "    EDA_humanresources_employee[col] = pd.to_datetime(EDA_humanresources_employee[col], errors='coerce')\n",
    "\n",
    "# Criar uma cópia do DataFrame para exibição formatada\n",
    "formatted_data = EDA_humanresources_employee.copy()\n",
    "\n",
    "# Formatar todas as colunas de datas para exibição\n",
    "for col in date_columns:\n",
    "    formatted_data[col] = EDA_humanresources_employee[col].dt.strftime('%Y-%m-%d %H:%M:%S')\n",
    "\n",
    "# Exibir o DataFrame formatado\n",
    "print(formatted_data.head())\n",
    "\n",
    "# Verificar os tipos originais permanecem datetime64[ns]\n",
    "print(\"\\nTipos originais das colunas no DataFrame principal:\")\n",
    "print(EDA_humanresources_employee[date_columns].dtypes)\n"
   ]
  },
  {
   "cell_type": "code",
   "execution_count": 16,
   "metadata": {},
   "outputs": [
    {
     "name": "stdout",
     "output_type": "stream",
     "text": [
      "Valores únicos em 'jobtitle': ['Chief Executive Officer' 'Vice President Of Engineering'\n",
      " 'Engineering Manager' 'Senior Tool Designer' 'Design Engineer'\n",
      " 'Research And Development Manager' 'Research And Development Engineer'\n",
      " 'Tool Designer' 'Senior Design Engineer' 'Marketing Manager'\n",
      " 'Marketing Assistant' 'Marketing Specialist'\n",
      " 'Vice President Of Production' 'Production Control Manager'\n",
      " 'Production Supervisor - Wc60' 'Production Technician - Wc60'\n",
      " 'Production Supervisor - Wc10' 'Production Technician - Wc10'\n",
      " 'Production Supervisor - Wc50' 'Production Technician - Wc50'\n",
      " 'Production Supervisor - Wc30' 'Production Technician - Wc30'\n",
      " 'Production Supervisor - Wc40' 'Production Technician - Wc40'\n",
      " 'Shipping And Receiving Supervisor' 'Stocker'\n",
      " 'Shipping And Receiving Clerk' 'Production Supervisor - Wc20'\n",
      " 'Production Technician - Wc20' 'Production Supervisor - Wc45'\n",
      " 'Production Technician - Wc45' 'Quality Assurance Manager'\n",
      " 'Quality Assurance Supervisor' 'Quality Assurance Technician'\n",
      " 'Document Control Manager' 'Control Specialist'\n",
      " 'Document Control Assistant' 'Master Scheduler' 'Scheduling Assistant'\n",
      " 'Facilities Manager' 'Maintenance Supervisor' 'Janitor'\n",
      " 'Facilities Administrative Assistant' 'Chief Financial Officer'\n",
      " 'Human Resources Manager' 'Human Resources Administrative Assistant'\n",
      " 'Recruiter' 'Benefits Specialist' 'Accounts Manager'\n",
      " 'Accounts Receivable Specialist' 'Accountant'\n",
      " 'Accounts Payable Specialist' 'Finance Manager' 'Purchasing Manager'\n",
      " 'Buyer' 'Purchasing Assistant' 'Assistant To The Chief Financial Officer'\n",
      " 'Information Services Manager' 'Network Manager' 'Network Administrator'\n",
      " 'Application Specialist' 'Database Administrator'\n",
      " 'Vice President Of Sales' 'North American Sales Manager'\n",
      " 'Sales Representative' 'Pacific Sales Manager' 'European Sales Manager']\n",
      "Valores únicos em 'gender': ['M' 'F']\n"
     ]
    }
   ],
   "source": [
    "# Padronizar textos em jobtitle e gender\n",
    "EDA_humanresources_employee['jobtitle'] = EDA_humanresources_employee['jobtitle'].str.strip().str.title()\n",
    "EDA_humanresources_employee['gender'] = EDA_humanresources_employee['gender'].str.strip().str.upper()\n",
    "\n",
    "# Verificar valores únicos para garantir a padronização\n",
    "print(\"Valores únicos em 'jobtitle':\", EDA_humanresources_employee['jobtitle'].unique())\n",
    "print(\"Valores únicos em 'gender':\", EDA_humanresources_employee['gender'].unique())\n"
   ]
  },
  {
   "cell_type": "code",
   "execution_count": 17,
   "metadata": {},
   "outputs": [
    {
     "name": "stdout",
     "output_type": "stream",
     "text": [
      "       sickleavehours  vacationhours\n",
      "count          290.00         290.00\n",
      "mean            45.31          50.61\n",
      "std             14.54          28.79\n",
      "min             20.00           0.00\n",
      "25%             33.00          26.25\n",
      "50%             46.00          51.00\n",
      "75%             58.00          75.00\n",
      "max             80.00          99.00\n",
      "\n",
      "Coluna: sickleavehours\n",
      "Limite inferior: -4.5, Limite superior: 95.5\n",
      "Outliers detectados (0):\n",
      "Empty DataFrame\n",
      "Columns: [sickleavehours]\n",
      "Index: []\n",
      "\n",
      "Coluna: vacationhours\n",
      "Limite inferior: -46.875, Limite superior: 148.125\n",
      "Outliers detectados (0):\n",
      "Empty DataFrame\n",
      "Columns: [vacationhours]\n",
      "Index: []\n"
     ]
    }
   ],
   "source": [
    "# Identificar colunas numéricas para análise \n",
    "numeric_columns = ['sickleavehours', 'vacationhours']\n",
    "\n",
    "# Exibir estatísticas descritivas\n",
    "print(EDA_humanresources_employee[numeric_columns].describe())\n",
    "\n",
    "# Calcular limites para outliers (IQR - Intervalo Interquartil)\n",
    "for col in numeric_columns:\n",
    "    q1 = EDA_humanresources_employee[col].quantile(0.25)\n",
    "    q3 = EDA_humanresources_employee[col].quantile(0.75)\n",
    "    iqr = q3 - q1\n",
    "    lower_bound = q1 - 1.5 * iqr\n",
    "    upper_bound = q3 + 1.5 * iqr\n",
    "    \n",
    "    # Exibir os limites\n",
    "    print(f\"\\nColuna: {col}\")\n",
    "    print(f\"Limite inferior: {lower_bound}, Limite superior: {upper_bound}\")\n",
    "    \n",
    "    # Filtrar outliers\n",
    "    outliers = EDA_humanresources_employee[(EDA_humanresources_employee[col] < lower_bound) | (EDA_humanresources_employee[col] > upper_bound)]\n",
    "    print(f\"Outliers detectados ({len(outliers)}):\")\n",
    "    print(outliers[[col]])\n"
   ]
  },
  {
   "cell_type": "code",
   "execution_count": 18,
   "metadata": {},
   "outputs": [
    {
     "name": "stdout",
     "output_type": "stream",
     "text": [
      "[2006, 2007, 2008, 2009, 2010, 2011, 2012, 2013]\n",
      "Valores únicos em 'gender': ['M' 'F']\n",
      "Valores únicos em 'salariedflag': [ True False]\n"
     ]
    }
   ],
   "source": [
    "\n",
    "# Criar a coluna 'hire_year' com base em 'hiredate'\n",
    "EDA_humanresources_employee['hire_year'] = EDA_humanresources_employee['hiredate'].dt.year\n",
    "\n",
    "\n",
    "#verificando outros dados para detectar outliers\n",
    "anos_contratacao = [int(ano) for ano in EDA_humanresources_employee['hire_year'].unique()]\n",
    "anos_contratacao.sort()\n",
    "print(anos_contratacao)\n",
    "\n",
    "print(\"Valores únicos em 'gender':\", EDA_humanresources_employee['gender'].unique())\n",
    "print(\"Valores únicos em 'salariedflag':\", EDA_humanresources_employee['salariedflag'].unique())\n"
   ]
  },
  {
   "cell_type": "code",
   "execution_count": 19,
   "metadata": {},
   "outputs": [
    {
     "name": "stdout",
     "output_type": "stream",
     "text": [
      "Valores ausentes por coluna:\n",
      "birthdate           0\n",
      "businessentityid    0\n",
      "currentflag         0\n",
      "gender              0\n",
      "hiredate            0\n",
      "jobtitle            0\n",
      "loginid             0\n",
      "maritalstatus       0\n",
      "modifieddate        3\n",
      "nationalidnumber    0\n",
      "organizationnode    0\n",
      "rowguid             0\n",
      "salariedflag        0\n",
      "sickleavehours      0\n",
      "vacationhours       0\n",
      "hire_year           0\n",
      "dtype: int64\n"
     ]
    }
   ],
   "source": [
    "# Verificar valores ausentes\n",
    "missing = EDA_humanresources_employee.isnull().sum()\n",
    "print(\"Valores ausentes por coluna:\")\n",
    "print(missing)\n",
    "\n",
    "# Tratar colunas críticas\n",
    "if missing['hiredate'] > 0:\n",
    "    print(\"Tratar valores ausentes em 'hiredate' (decisão: remover ou imputar)\")\n",
    "\n",
    "if missing['jobtitle'] > 0:\n",
    "    print(\"Tratar valores ausentes em 'jobtitle' (decisão: remover ou imputar)\")\n",
    "\n",
    "if missing['businessentityid'] > 0:\n",
    "    print(\"Erro crítico: 'businessentityid' não pode ter valores ausentes!\")\n"
   ]
  },
  {
   "cell_type": "code",
   "execution_count": 20,
   "metadata": {},
   "outputs": [
    {
     "name": "stdout",
     "output_type": "stream",
     "text": [
      "Linhas com 'modifieddate' ausente:\n",
      "      birthdate  businessentityid  currentflag gender   hiredate                    jobtitle                  loginid maritalstatus modifieddate nationalidnumber organizationnode                               rowguid  salariedflag  sickleavehours  vacationhours  hire_year\n",
      "1079 1982-11-03                26         True      M 2008-12-01  Production Control Manager   adventure-works\\peter0             M          NaT        277173473            /3/1/  69d5d162-e817-45e7-9dec-5d9b8310e7b1          True              41             43       2008\n",
      "2096 1977-10-26               211         True      M 2009-02-28   Quality Assurance Manager   adventure-works\\hazem0             S          NaT        398223854            /3/2/  05c84608-f445-4f9d-bb5c-0828c309c29d          True              60             80       2009\n",
      "1115 1968-09-17               222         True      M 2008-12-12            Master Scheduler  adventure-works\\ascott0             S          NaT        685233686            /3/3/  13909262-4136-492f-bca3-0b0e3773b03e         False              42             44       2008\n"
     ]
    }
   ],
   "source": [
    "# Verificar linhas com 'modifieddate' ausente\n",
    "missing_modifieddate = EDA_humanresources_employee[EDA_humanresources_employee['modifieddate'].isnull()]\n",
    "print(\"Linhas com 'modifieddate' ausente:\")\n",
    "print(missing_modifieddate)\n"
   ]
  },
  {
   "cell_type": "code",
   "execution_count": 21,
   "metadata": {},
   "outputs": [
    {
     "name": "stdout",
     "output_type": "stream",
     "text": [
      "Linhas onde 'modifieddate' foi ajustado para 'hiredate':\n",
      "      birthdate  businessentityid  currentflag gender   hiredate                    jobtitle                  loginid maritalstatus modifieddate nationalidnumber organizationnode                               rowguid  salariedflag  sickleavehours  vacationhours  hire_year\n",
      "1079 1982-11-03                26         True      M 2008-12-01  Production Control Manager   adventure-works\\peter0             M   2008-12-01        277173473            /3/1/  69d5d162-e817-45e7-9dec-5d9b8310e7b1          True              41             43       2008\n",
      "2096 1977-10-26               211         True      M 2009-02-28   Quality Assurance Manager   adventure-works\\hazem0             S   2009-02-28        398223854            /3/2/  05c84608-f445-4f9d-bb5c-0828c309c29d          True              60             80       2009\n",
      "1115 1968-09-17               222         True      M 2008-12-12            Master Scheduler  adventure-works\\ascott0             S   2008-12-12        685233686            /3/3/  13909262-4136-492f-bca3-0b0e3773b03e         False              42             44       2008\n"
     ]
    }
   ],
   "source": [
    "# Preencher 'modifieddate' ausente ou igual a 'hiredate', pois pode ser a ultima data de modificação no sistema.\n",
    "EDA_humanresources_employee.loc[EDA_humanresources_employee['modifieddate'].isnull() | (EDA_humanresources_employee['modifieddate'] == pd.Timestamp('1900-01-01')), 'modifieddate'] = EDA_humanresources_employee['hiredate']\n",
    "\n",
    "# Exibir as linhas ajustadas\n",
    "print(\"Linhas onde 'modifieddate' foi ajustado para 'hiredate':\")\n",
    "print(EDA_humanresources_employee.loc[EDA_humanresources_employee['modifieddate'] == EDA_humanresources_employee['hiredate']])\n"
   ]
  },
  {
   "cell_type": "code",
   "execution_count": 22,
   "metadata": {},
   "outputs": [
    {
     "name": "stdout",
     "output_type": "stream",
     "text": [
      "'businessentityid' é único? True\n"
     ]
    }
   ],
   "source": [
    "# Verificar unicidade de 'businessentityid'\n",
    "is_unique = EDA_humanresources_employee['businessentityid'].is_unique\n",
    "print(f\"'businessentityid' é único? {is_unique}\")\n"
   ]
  },
  {
   "cell_type": "code",
   "execution_count": 23,
   "metadata": {},
   "outputs": [
    {
     "name": "stdout",
     "output_type": "stream",
     "text": [
      "Valores inválidos em 'nationalidnumber':\n",
      "89      42487730\n",
      "116     56920285\n",
      "989     24756624\n",
      "1070    52541318\n",
      "1124    95958330\n",
      "1178    72636981\n",
      "512     14417807\n",
      "593      6298838\n",
      "890     66073987\n",
      "1673    33237992\n",
      "2276     9659517\n",
      "287     10708100\n",
      "242     92096924\n",
      "719      8066363\n",
      "791     63179277\n",
      "809     36151748\n",
      "1601    58791499\n",
      "1628     1662732\n",
      "1736     7201901\n",
      "2528    90888098\n",
      "2555    82638150\n",
      "2510    54759846\n",
      "1727     1300049\n",
      "998     45615666\n",
      "233     63761469\n",
      "206     25011600\n",
      "71      56772045\n",
      "278     97728960\n",
      "1898    65848458\n",
      "1763    60114406\n",
      "800     87268837\n",
      "1241    19312190\n",
      "2159    20244403\n",
      "2312    28414965\n",
      "1466       30845\n",
      "1583    60517918\n",
      "1421    20269531\n",
      "1934    58317344\n",
      "557     61161660\n",
      "980     90836195\n",
      "Name: nationalidnumber, dtype: object\n"
     ]
    }
   ],
   "source": [
    "# Definir regex para validar números (exemplo: apenas dígitos, 9 caracteres)\n",
    "# acrescentei para ver se tinha um padrão, mas não tem\n",
    "regex = r'^\\d{9}$'\n",
    "\n",
    "# Verificar valores inválidos\n",
    "invalid_nationalid = EDA_humanresources_employee[~EDA_humanresources_employee['nationalidnumber'].astype(str).str.match(regex)]\n",
    "print(f\"Valores inválidos em 'nationalidnumber':\\n{invalid_nationalid['nationalidnumber']}\")\n"
   ]
  },
  {
   "cell_type": "code",
   "execution_count": 24,
   "metadata": {},
   "outputs": [
    {
     "name": "stdout",
     "output_type": "stream",
     "text": [
      "'nationalidnumber' é único? True\n"
     ]
    }
   ],
   "source": [
    "is_unique = EDA_humanresources_employee['nationalidnumber'].is_unique\n",
    "print(f\"'nationalidnumber' é único? {is_unique}\")\n"
   ]
  },
  {
   "cell_type": "code",
   "execution_count": 25,
   "metadata": {},
   "outputs": [
    {
     "name": "stdout",
     "output_type": "stream",
     "text": [
      "Backup criado com 290 linhas.\n",
      "      birthdate  businessentityid  currentflag gender   hiredate                       jobtitle                   loginid maritalstatus modifieddate nationalidnumber organizationnode                               rowguid  salariedflag  sickleavehours  vacationhours  hire_year\n",
      "2591 1969-01-29                 1         True      M 2009-01-14        Chief Executive Officer      adventure-works\\ken0             S   2014-06-30        295847284                /  f01251e5-96a3-448d-981e-0f99d789110d          True              69             99       2009\n",
      "35   1971-08-01                 2         True      F 2008-01-31  Vice President Of Engineering    adventure-works\\terri0             S   2014-06-30        245797967              /1/  45e8f437-670d-4409-93cb-f9424a40d6ee          True              20              1       2008\n",
      "62   1974-11-12                 3         True      M 2007-11-11            Engineering Manager  adventure-works\\roberto0             M   2014-06-30        509647174            /1/1/  9bbbfb2c-efbb-4217-9ab7-f97689328841          True              21              2       2007\n",
      "1205 1974-12-23                 4         True      M 2007-12-05           Senior Tool Designer      adventure-works\\rob0             S   2014-06-30        112457891          /1/1/1/  59747955-87b8-443f-8ed4-f8ad3afdf3a9         False              80             48       2007\n",
      "143  1952-09-27                 5         True      F 2008-01-06                Design Engineer     adventure-works\\gail0             M   2014-06-30        695256908          /1/1/2/  ec84ae09-f9b8-4a15-b4a9-6ccbab919b08          True              22              5       2008\n"
     ]
    }
   ],
   "source": [
    "# Criar um backup do DataFrame tratado\n",
    "EDA_humanresources_employee_bkp_v2 = EDA_humanresources_employee.copy()\n",
    "\n",
    "# Verificar o tamanho do backup e as primeiras linhas\n",
    "print(f\"Backup criado com {len(EDA_humanresources_employee_bkp_v2)} linhas.\")\n",
    "print(EDA_humanresources_employee_bkp_v2.head())\n"
   ]
  },
  {
   "cell_type": "code",
   "execution_count": 26,
   "metadata": {},
   "outputs": [
    {
     "name": "stdout",
     "output_type": "stream",
     "text": [
      "Colunas mantidas no dataset: ['birthdate', 'businessentityid', 'currentflag', 'gender', 'hiredate', 'jobtitle', 'loginid', 'maritalstatus', 'modifieddate', 'nationalidnumber', 'organizationnode', 'rowguid', 'salariedflag', 'sickleavehours', 'vacationhours', 'hire_year']\n"
     ]
    }
   ],
   "source": [
    "# Verificar e documentar colunas existentes\n",
    "print(\"Colunas mantidas no dataset:\", EDA_humanresources_employee.columns.tolist())\n"
   ]
  },
  {
   "cell_type": "code",
   "execution_count": 27,
   "metadata": {},
   "outputs": [
    {
     "name": "stdout",
     "output_type": "stream",
     "text": [
      "Valores únicos em 'birthdate': <DatetimeArray>\n",
      "['1969-01-29 00:00:00', '1971-08-01 00:00:00', '1974-11-12 00:00:00']\n",
      "Length: 3, dtype: datetime64[ns]\n",
      "Valores únicos em 'businessentityid': [1 2 3]\n",
      "Valores únicos em 'currentflag': [ True]\n",
      "Valores únicos em 'gender': ['M' 'F']\n",
      "Valores únicos em 'hiredate': <DatetimeArray>\n",
      "['2009-01-14 00:00:00', '2008-01-31 00:00:00', '2007-11-11 00:00:00']\n",
      "Length: 3, dtype: datetime64[ns]\n",
      "Valores únicos em 'jobtitle': ['Chief Executive Officer' 'Vice President Of Engineering'\n",
      " 'Engineering Manager']\n",
      "Valores únicos em 'loginid': ['adventure-works\\\\ken0' 'adventure-works\\\\terri0'\n",
      " 'adventure-works\\\\roberto0']\n",
      "Valores únicos em 'maritalstatus': ['S' 'M']\n",
      "Valores únicos em 'modifieddate': <DatetimeArray>\n",
      "['2014-06-30 00:00:00', '2008-12-01 00:00:00', '2009-02-28 00:00:00']\n",
      "Length: 3, dtype: datetime64[ns]\n",
      "Valores únicos em 'nationalidnumber': ['295847284' '245797967' '509647174']\n",
      "Valores únicos em 'organizationnode': ['/' '/1/' '/1/1/']\n",
      "Valores únicos em 'rowguid': ['f01251e5-96a3-448d-981e-0f99d789110d'\n",
      " '45e8f437-670d-4409-93cb-f9424a40d6ee'\n",
      " '9bbbfb2c-efbb-4217-9ab7-f97689328841']\n",
      "Valores únicos em 'salariedflag': [ True False]\n",
      "Valores únicos em 'sickleavehours': [69 20 21]\n",
      "Valores únicos em 'vacationhours': [99  1  2]\n",
      "Valores únicos em 'hire_year': [2009 2008 2007]\n"
     ]
    }
   ],
   "source": [
    "for col in EDA_humanresources_employee.columns:\n",
    "    print(f\"Valores únicos em '{col}':\", EDA_humanresources_employee[col].unique()[:3])  # Limitar a exibição a 10 valores\n",
    "\n"
   ]
  },
  {
   "cell_type": "code",
   "execution_count": 28,
   "metadata": {},
   "outputs": [
    {
     "name": "stdout",
     "output_type": "stream",
     "text": [
      "Valores únicos em 'currentflag': [ True]\n",
      "Valores únicos em 'salariedflag': [ True False]\n"
     ]
    }
   ],
   "source": [
    "# Listar colunas binárias esperadas\n",
    "binary_columns = ['currentflag', 'salariedflag']\n",
    "\n",
    "# Verificar valores únicos em colunas binárias\n",
    "for col in binary_columns:\n",
    "    unique_values = EDA_humanresources_employee[col].unique()\n",
    "    print(f\"Valores únicos em '{col}': {unique_values}\")\n",
    "\n",
    "   \n",
    "\n"
   ]
  },
  {
   "cell_type": "code",
   "execution_count": 29,
   "metadata": {},
   "outputs": [
    {
     "name": "stdout",
     "output_type": "stream",
     "text": [
      "Distribuição de 'currentflag':\n",
      "currentflag\n",
      "True    290\n",
      "Name: count, dtype: int64\n",
      "\n",
      "Distribuição de 'salariedflag':\n",
      "salariedflag\n",
      "False    238\n",
      "True      52\n",
      "Name: count, dtype: int64\n"
     ]
    }
   ],
   "source": [
    "# Contar valores em 'currentflag' e 'salariedflag'\n",
    "print(\"Distribuição de 'currentflag':\")\n",
    "print(EDA_humanresources_employee['currentflag'].value_counts())\n",
    "\n",
    "print(\"\\nDistribuição de 'salariedflag':\")\n",
    "print(EDA_humanresources_employee['salariedflag'].value_counts())\n",
    "\n",
    "\n",
    "#se vale a pena deletar ou não a coluna currentflag, já que só tem 1 valor e é true ?!"
   ]
  },
  {
   "cell_type": "code",
   "execution_count": 30,
   "metadata": {},
   "outputs": [
    {
     "name": "stdout",
     "output_type": "stream",
     "text": [
      "Funcionários ativos errados: Empty DataFrame\n",
      "Columns: [birthdate, businessentityid, currentflag, gender, hiredate, jobtitle, loginid, maritalstatus, modifieddate, nationalidnumber, organizationnode, rowguid, salariedflag, sickleavehours, vacationhours, hire_year]\n",
      "Index: []\n",
      "Contratações futuras: Empty DataFrame\n",
      "Columns: [birthdate, businessentityid, currentflag, gender, hiredate, jobtitle, loginid, maritalstatus, modifieddate, nationalidnumber, organizationnode, rowguid, salariedflag, sickleavehours, vacationhours, hire_year]\n",
      "Index: []\n",
      "Modifieddate antes de hiredate: Empty DataFrame\n",
      "Columns: [birthdate, businessentityid, currentflag, gender, hiredate, jobtitle, loginid, maritalstatus, modifieddate, nationalidnumber, organizationnode, rowguid, salariedflag, sickleavehours, vacationhours, hire_year]\n",
      "Index: []\n",
      "Duplicados em 'businessentityid': 0\n",
      "Duplicados em 'nationalidnumber': 0\n"
     ]
    }
   ],
   "source": [
    "# 1. Verificar se todos os funcionários ativos têm currentflag = True, pois deveria ser false = demitido/desligado\n",
    "print(\"Funcionários ativos errados:\", EDA_humanresources_employee[EDA_humanresources_employee['currentflag'] != True])\n",
    "\n",
    "# 2. Validar datas\n",
    "print(\"Contratações futuras:\", EDA_humanresources_employee[EDA_humanresources_employee['hiredate'] > pd.Timestamp.now()])\n",
    "print(\"Modifieddate antes de hiredate:\", EDA_humanresources_employee[EDA_humanresources_employee['modifieddate'] < EDA_humanresources_employee['hiredate']])\n",
    "\n",
    "# 3. Verificar unicidade de identificadores\n",
    "print(\"Duplicados em 'businessentityid':\", EDA_humanresources_employee['businessentityid'].duplicated().sum())\n",
    "print(\"Duplicados em 'nationalidnumber':\", EDA_humanresources_employee['nationalidnumber'].duplicated().sum())\n",
    "\n"
   ]
  },
  {
   "cell_type": "code",
   "execution_count": 31,
   "metadata": {},
   "outputs": [
    {
     "name": "stderr",
     "output_type": "stream",
     "text": [
      "100%|██████████| 1/1 [00:00<?, ?it/s]\n"
     ]
    }
   ],
   "source": [
    "# Definir Dataset e Nome da Tabela\n",
    "dataset_id = 'raw_data_cleaned'  # Substitua pelo nome do seu Dataset\n",
    "table_id = 'humanresources_employee'   # Substitua pelo nome da sua Tabela\n",
    "full_table_id = f\"{client.project}.{dataset_id}.{table_id}\"  # Nome completo da tabela\n",
    "\n",
    "# Exportar para o BigQuery\n",
    "EDA_humanresources_employee.to_gbq(full_table_id, if_exists='replace', credentials=client._credentials)\n",
    "\n"
   ]
  },
  {
   "cell_type": "code",
   "execution_count": null,
   "metadata": {},
   "outputs": [],
   "source": []
  },
  {
   "cell_type": "markdown",
   "metadata": {},
   "source": []
  },
  {
   "cell_type": "markdown",
   "metadata": {},
   "source": [
    "## ESTATÍSTICA DESCRITIVA"
   ]
  },
  {
   "cell_type": "code",
   "execution_count": 32,
   "metadata": {},
   "outputs": [
    {
     "name": "stdout",
     "output_type": "stream",
     "text": [
      "       sickleavehours vacationhours salariedflag hire_year\n",
      "count          290.00        290.00          290    290.00\n",
      "unique              -             -            2         -\n",
      "top                 -             -        False         -\n",
      "freq                -             -          238         -\n",
      "mean            45.31         50.61            -   2009.02\n",
      "std             14.54         28.79            -      1.01\n",
      "min             20.00          0.00            -   2006.00\n",
      "25%             33.00         26.25            -   2008.00\n",
      "50%             46.00         51.00            -   2009.00\n",
      "75%             58.00         75.00            -   2009.00\n",
      "max             80.00         99.00            -   2013.00\n"
     ]
    }
   ],
   "source": [
    "# Selecionar colunas relevantes para análise descritiva\n",
    "cols_para_analise = ['sickleavehours', 'vacationhours', 'salariedflag']\n",
    "\n",
    "# Garantir que as datas estejam no formato correto\n",
    "EDA_humanresources_employee['hire_year'] = pd.to_datetime(EDA_humanresources_employee['hiredate']).dt.year\n",
    "\n",
    "# Adicionar a nova coluna à lista\n",
    "cols_para_analise.append('hire_year')\n",
    "\n",
    "# Gerar estatísticas descritivas\n",
    "analise_descritiva = EDA_humanresources_employee[cols_para_analise].describe(include='all')\n",
    "\n",
    "# Substituir NaN por '-'\n",
    "analise_descritiva = analise_descritiva.fillna('-')\n",
    "\n",
    "print(analise_descritiva)\n"
   ]
  }
 ],
 "metadata": {
  "kernelspec": {
   "display_name": "venv",
   "language": "python",
   "name": "python3"
  },
  "language_info": {
   "codemirror_mode": {
    "name": "ipython",
    "version": 3
   },
   "file_extension": ".py",
   "mimetype": "text/x-python",
   "name": "python",
   "nbconvert_exporter": "python",
   "pygments_lexer": "ipython3",
   "version": "3.10.9"
  }
 },
 "nbformat": 4,
 "nbformat_minor": 2
}
