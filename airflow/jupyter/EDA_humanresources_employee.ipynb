{
 "cells": [
  {
   "cell_type": "markdown",
   "metadata": {},
   "source": [
    "### EDA (Exploratory Data Analysis) & Data Cleaning"
   ]
  },
  {
   "cell_type": "code",
   "execution_count": null,
   "metadata": {},
   "outputs": [],
   "source": [
    "\n",
    "##import das bibliotecas e adequando colunas, linhas e formato de números\n",
    "\n",
    "from google.cloud import bigquery\n",
    "from dotenv import load_dotenv\n",
    "import pandas as pd\n",
    "import pandas_gbq as gbq\n",
    "import matplotlib.pyplot as plt\n",
    "import seaborn as sns\n",
    "import numpy as np\n",
    "import os\n",
    "import re\n",
    "\n",
    "# Carrega o .env\n",
    "load_dotenv()\n",
    "\n",
    "#os.environ[\"GOOGLE_APPLICATION_CREDENTIALS\"] = os.getenv(\"GOOGLE_APPLICATION_CREDENTIALS\")\n",
    "\n",
    "os.environ[\"GOOGLE_APPLICATION_CREDENTIALS\"] = r\"C:\\Temp\\desafiolh-445818-3cb0f62cb9ef.json\"\n",
    "\n",
    "# Verificar se a configuração está correta\n",
    "print(\"Credenciais do BigQuery:\", os.getenv(\"GOOGLE_APPLICATION_CREDENTIALS\"))\n",
    "\n",
    "# Verifica se a variável está configurada\n",
    "print(os.getenv(\"GOOGLE_APPLICATION_CREDENTIALS\"))\n",
    "\n",
    "\n"
   ]
  },
  {
   "cell_type": "code",
   "execution_count": null,
   "metadata": {},
   "outputs": [],
   "source": [
    "# Configurar o cliente do BigQuery\n",
    "client = bigquery.Client()\n",
    "\n",
    "# Nome do dataset e tabela\n",
    "dataset_id = 'raw_data'"
   ]
  },
  {
   "cell_type": "code",
   "execution_count": null,
   "metadata": {},
   "outputs": [],
   "source": [
    "# Configurar Pandas para exibir todas as colunas e todas as linhas completas\n",
    "pd.set_option('display.max_columns', None)\n",
    "#pd.set_option('display.max_rows', None)\n",
    "pd.set_option('display.max_colwidth', None)\n",
    "pd.set_option('display.width', 1000)\n",
    "\n",
    "\n",
    "pd.options.display.float_format = '{:.2f}'.format"
   ]
  },
  {
   "cell_type": "code",
   "execution_count": null,
   "metadata": {},
   "outputs": [],
   "source": [
    "# Listar tabelas no dataset\n",
    "tables = client.list_tables('raw_data')\n",
    "print(\"Tabelas disponíveis:\")\n",
    "for table in tables:\n",
    "    print(table.table_id)\n",
    "\n",
    "\n"
   ]
  },
  {
   "cell_type": "code",
   "execution_count": null,
   "metadata": {},
   "outputs": [],
   "source": [
    "query = f\"SELECT * FROM `raw_data.humanresources_employee`\"\n",
    "data = client.query(query).result().to_dataframe()\n",
    "\n",
    "# Expandir a coluna JSON\n",
    "raw_data_humanresources_employee_bkp = pd.json_normalize(data['data'])\n",
    "\n",
    "#cópia do original\n",
    "EDA_humanresources_employee = raw_data_humanresources_employee_bkp.copy()  \n",
    "\n",
    "\n",
    "# Exibir os dados expandidos\n",
    "print(EDA_humanresources_employee.head(n=10))\n",
    "\n"
   ]
  },
  {
   "cell_type": "code",
   "execution_count": null,
   "metadata": {},
   "outputs": [],
   "source": [
    "#dimensões do df antes de remover duplicatas\n",
    "\n",
    "EDA_humanresources_employee.shape"
   ]
  },
  {
   "cell_type": "code",
   "execution_count": null,
   "metadata": {},
   "outputs": [],
   "source": [
    "# Identificar duplicatas com base em 'businessentityid'\n",
    "duplicatas = EDA_humanresources_employee[EDA_humanresources_employee.duplicated(subset=['businessentityid'], keep=False)]\n",
    "\n",
    "# Verificar se existem duplicatas\n",
    "if not duplicatas.empty:\n",
    "    # Ordenar duplicatas por 'businessentityid' e 'modifieddate'\n",
    "    duplicatas_ordenadas = duplicatas[duplicatas.duplicated(subset=['businessentityid'], keep=False)].sort_values(by=['businessentityid'])\n",
    "\n",
    "    # Exibir duplicatas ordenadas\n",
    "    print(\"Duplicatas ordenadas:\")\n",
    "    print(duplicatas_ordenadas)\n",
    "else:\n",
    "    print(\"Não foram encontradas duplicatas.\")\n"
   ]
  },
  {
   "cell_type": "code",
   "execution_count": null,
   "metadata": {},
   "outputs": [],
   "source": [
    "# Remover duplicatas mantendo a última ocorrência com base em 'modifieddate'\n",
    "EDA_humanresources_employee = EDA_humanresources_employee.drop_duplicates(subset=['businessentityid'], keep='last')\n",
    "\n",
    "print(f\"Linhas após remover duplicatas (baseando-se na última 'modifieddate'): {len(EDA_humanresources_employee)}\")\n",
    "\n",
    "#cópia dados brutos\n",
    "raw_data_bkp_2_sem_duplicatas = EDA_humanresources_employee.copy()\n"
   ]
  },
  {
   "cell_type": "code",
   "execution_count": null,
   "metadata": {},
   "outputs": [],
   "source": [
    "# Ordenar o DataFrame por 'businessentityid' e 'modifieddate'\n",
    "EDA_humanresources_employee = EDA_humanresources_employee.sort_values(by=['businessentityid', 'modifieddate'])\n",
    "\n",
    "print(EDA_humanresources_employee)\n",
    "\n",
    "\n"
   ]
  },
  {
   "cell_type": "code",
   "execution_count": null,
   "metadata": {},
   "outputs": [],
   "source": [
    "#Certifique-se de que as colunas de datas está sendo reconhecida corretamente como contendo valores nulos (NaN em pandas). (Não pode object)\n",
    "\n",
    "print(EDA_humanresources_employee.info())\n"
   ]
  },
  {
   "cell_type": "code",
   "execution_count": null,
   "metadata": {},
   "outputs": [],
   "source": [
    "\n",
    "# Identificar as colunas de data\n",
    "date_columns = ['birthdate', 'hiredate', 'modifieddate']\n",
    "\n",
    "# Converter todas as colunas para datetime\n",
    "for col in date_columns:\n",
    "    EDA_humanresources_employee[col] = pd.to_datetime(\n",
    "        EDA_humanresources_employee[col], errors='coerce'\n",
    "    )\n",
    "\n",
    "# Criar uma cópia do DataFrame para exportação no formato JSON\n",
    "datas_formatadas = EDA_humanresources_employee.copy()\n",
    "\n",
    "# Formatar colunas no formato ISO 8601 para BigQuery e tratar nulos como null\n",
    "for col in date_columns:\n",
    "    datas_formatadas[col] = datas_formatadas[col].apply(\n",
    "        lambda x: x.isoformat() if not pd.isnull(x) else None\n",
    "    )\n",
    "\n",
    "print(EDA_humanresources_employee.info())\n",
    "\n"
   ]
  },
  {
   "cell_type": "code",
   "execution_count": null,
   "metadata": {},
   "outputs": [],
   "source": [
    "# Iterar por todas as colunas do DataFrame\n",
    "\n",
    "for column in EDA_humanresources_employee.columns:\n",
    "    # Verificar valores ausentes na coluna\n",
    "    missing_rows = EDA_humanresources_employee[EDA_humanresources_employee[column].isnull()]\n",
    "    print(f\"Coluna '{column}': {missing_rows.shape[0]} linhas ausentes.\")\n",
    "    \n",
    "    # Mostrar as primeiras linhas ausentes (limitar para não poluir a saída)\n",
    "    if not missing_rows.empty:\n",
    "        print(f\"Exibindo as primeiras linhas com valores ausentes em '{column}':\")\n",
    "        print(missing_rows.head(), \"\\n\")\n",
    "    else:\n",
    "        print(f\"Nenhuma linha com valores ausentes em '{column}'.\\n\")\n",
    "\n"
   ]
  },
  {
   "cell_type": "code",
   "execution_count": null,
   "metadata": {},
   "outputs": [],
   "source": [
    "# Preencher 'modifieddate' ausente ou igual a 'hiredate', pois pode ser a ultima data de modificação no sistema.\n",
    "EDA_humanresources_employee.loc[EDA_humanresources_employee['modifieddate'].isnull() | (EDA_humanresources_employee['modifieddate'] == pd.Timestamp('1900-01-01')), 'modifieddate'] = EDA_humanresources_employee['hiredate']\n",
    "\n",
    "# Exibir as linhas ajustadas\n",
    "print(\"Linhas onde 'modifieddate' foi ajustado para 'hiredate':\")\n",
    "print(EDA_humanresources_employee.loc[EDA_humanresources_employee['modifieddate'] == EDA_humanresources_employee['hiredate']])\n"
   ]
  },
  {
   "cell_type": "code",
   "execution_count": null,
   "metadata": {},
   "outputs": [],
   "source": [
    "# Criar uma cópia do DataFrame para exportação no formato JSON\n",
    "ajustes_date_time = EDA_humanresources_employee.copy()"
   ]
  },
  {
   "cell_type": "code",
   "execution_count": 251,
   "metadata": {},
   "outputs": [
    {
     "name": "stdout",
     "output_type": "stream",
     "text": [
      "Valores únicos incluindo NaN:\n",
      "birthdate           275\n",
      "businessentityid    290\n",
      "currentflag           1\n",
      "gender                2\n",
      "hiredate            164\n",
      "jobtitle             67\n",
      "loginid             290\n",
      "maritalstatus         2\n",
      "modifieddate          4\n",
      "nationalidnumber    290\n",
      "organizationnode    290\n",
      "rowguid             290\n",
      "salariedflag          2\n",
      "sickleavehours       51\n",
      "vacationhours       100\n",
      "hire_year             8\n",
      "dtype: int64\n"
     ]
    }
   ],
   "source": [
    "# valores únicos por coluna\n",
    "\n",
    "valores_unicos = EDA_humanresources_employee.nunique(dropna=False)\n",
    "\n",
    "print(\"Valores únicos incluindo NaN:\")\n",
    "print(valores_unicos)"
   ]
  },
  {
   "cell_type": "code",
   "execution_count": null,
   "metadata": {},
   "outputs": [],
   "source": [
    "# dropar colunas vazias"
   ]
  },
  {
   "cell_type": "code",
   "execution_count": 253,
   "metadata": {},
   "outputs": [
    {
     "name": "stdout",
     "output_type": "stream",
     "text": [
      "<class 'pandas.core.frame.DataFrame'>\n",
      "Index: 290 entries, 2591 to 845\n",
      "Data columns (total 16 columns):\n",
      " #   Column            Non-Null Count  Dtype         \n",
      "---  ------            --------------  -----         \n",
      " 0   birthdate         290 non-null    datetime64[ns]\n",
      " 1   businessentityid  290 non-null    int64         \n",
      " 2   currentflag       290 non-null    bool          \n",
      " 3   gender            290 non-null    object        \n",
      " 4   hiredate          290 non-null    datetime64[ns]\n",
      " 5   jobtitle          290 non-null    object        \n",
      " 6   loginid           290 non-null    object        \n",
      " 7   maritalstatus     290 non-null    object        \n",
      " 8   modifieddate      290 non-null    datetime64[ns]\n",
      " 9   nationalidnumber  290 non-null    object        \n",
      " 10  organizationnode  290 non-null    object        \n",
      " 11  rowguid           290 non-null    object        \n",
      " 12  salariedflag      290 non-null    bool          \n",
      " 13  sickleavehours    290 non-null    int64         \n",
      " 14  vacationhours     290 non-null    int64         \n",
      " 15  hire_year         290 non-null    int32         \n",
      "dtypes: bool(2), datetime64[ns](3), int32(1), int64(3), object(7)\n",
      "memory usage: 41.5+ KB\n"
     ]
    }
   ],
   "source": [
    "EDA_humanresources_employee.info()"
   ]
  },
  {
   "cell_type": "code",
   "execution_count": null,
   "metadata": {},
   "outputs": [],
   "source": [
    "# Padronizar textos em title ou upper\n",
    "EDA_humanresources_employee['jobtitle'] = EDA_humanresources_employee['jobtitle'].str.strip().str.title()\n",
    "EDA_humanresources_employee['gender'] = EDA_humanresources_employee['gender'].str.strip().str.upper()\n",
    "EDA_humanresources_employee['maritalstatus'] = EDA_humanresources_employee['maritalstatus'].str.strip().str.upper()\n",
    "\n",
    "\n",
    "# Verificar valores únicos para garantir a padronização\n",
    "print(\"Valores únicos em 'jobtitle':\", EDA_humanresources_employee['jobtitle'].unique())\n",
    "print(\"Valores únicos em 'gender':\", EDA_humanresources_employee['gender'].unique())\n",
    "print(\"Valores únicos em 'gender':\", EDA_humanresources_employee['maritalstatus'].unique())\n"
   ]
  },
  {
   "cell_type": "code",
   "execution_count": 239,
   "metadata": {},
   "outputs": [
    {
     "name": "stdout",
     "output_type": "stream",
     "text": [
      "       sickleavehours  vacationhours\n",
      "count          290.00         290.00\n",
      "mean            45.31          50.61\n",
      "std             14.54          28.79\n",
      "min             20.00           0.00\n",
      "25%             33.00          26.25\n",
      "50%             46.00          51.00\n",
      "75%             58.00          75.00\n",
      "max             80.00          99.00\n",
      "\n",
      "Coluna: sickleavehours\n",
      "Limite inferior: -4.5, Limite superior: 95.5\n",
      "Outliers detectados (0):\n",
      "Empty DataFrame\n",
      "Columns: [sickleavehours]\n",
      "Index: []\n",
      "\n",
      "Coluna: vacationhours\n",
      "Limite inferior: -46.875, Limite superior: 148.125\n",
      "Outliers detectados (0):\n",
      "Empty DataFrame\n",
      "Columns: [vacationhours]\n",
      "Index: []\n"
     ]
    }
   ],
   "source": [
    "# Identificar colunas numéricas para análise \n",
    "numeric_columns = ['sickleavehours', 'vacationhours']\n",
    "\n",
    "# Exibir estatísticas descritivas\n",
    "print(EDA_humanresources_employee[numeric_columns].describe())\n",
    "\n",
    "# Calcular limites para outliers (IQR - Intervalo Interquartil)\n",
    "for col in numeric_columns:\n",
    "    q1 = EDA_humanresources_employee[col].quantile(0.25)\n",
    "    q3 = EDA_humanresources_employee[col].quantile(0.75)\n",
    "    iqr = q3 - q1\n",
    "    lower_bound = q1 - 1.5 * iqr\n",
    "    upper_bound = q3 + 1.5 * iqr\n",
    "    \n",
    "    # Exibir os limites\n",
    "    print(f\"\\nColuna: {col}\")\n",
    "    print(f\"Limite inferior: {lower_bound}, Limite superior: {upper_bound}\")\n",
    "    \n",
    "    # Filtrar outliers\n",
    "    outliers = EDA_humanresources_employee[(EDA_humanresources_employee[col] < lower_bound) | (EDA_humanresources_employee[col] > upper_bound)]\n",
    "    print(f\"Outliers detectados ({len(outliers)}):\")\n",
    "    print(outliers[[col]])\n"
   ]
  },
  {
   "cell_type": "code",
   "execution_count": 244,
   "metadata": {},
   "outputs": [
    {
     "name": "stdout",
     "output_type": "stream",
     "text": [
      "Valores inválidos em 'nationalidnumber':\n",
      "89      42487730\n",
      "116     56920285\n",
      "989     24756624\n",
      "1070    52541318\n",
      "1124    95958330\n",
      "1178    72636981\n",
      "512     14417807\n",
      "593      6298838\n",
      "890     66073987\n",
      "1673    33237992\n",
      "2276     9659517\n",
      "287     10708100\n",
      "242     92096924\n",
      "719      8066363\n",
      "791     63179277\n",
      "809     36151748\n",
      "1601    58791499\n",
      "1628     1662732\n",
      "1736     7201901\n",
      "2528    90888098\n",
      "2555    82638150\n",
      "2510    54759846\n",
      "1727     1300049\n",
      "998     45615666\n",
      "233     63761469\n",
      "206     25011600\n",
      "71      56772045\n",
      "278     97728960\n",
      "1898    65848458\n",
      "1763    60114406\n",
      "800     87268837\n",
      "1241    19312190\n",
      "2159    20244403\n",
      "2312    28414965\n",
      "1466       30845\n",
      "1583    60517918\n",
      "1421    20269531\n",
      "1934    58317344\n",
      "557     61161660\n",
      "980     90836195\n",
      "Name: nationalidnumber, dtype: object\n"
     ]
    }
   ],
   "source": [
    "# Definir regex para validar números (exemplo: apenas dígitos, 9 caracteres)\n",
    "# acrescentei para ver se tinha um padrão, mas não tem\n",
    "regex = r'^\\d{9}$'\n",
    "\n",
    "# Verificar valores inválidos\n",
    "invalid_nationalid = EDA_humanresources_employee[~EDA_humanresources_employee['nationalidnumber'].astype(str).str.match(regex)]\n",
    "print(f\"Valores inválidos em 'nationalidnumber':\\n{invalid_nationalid['nationalidnumber']}\")\n"
   ]
  },
  {
   "cell_type": "code",
   "execution_count": null,
   "metadata": {},
   "outputs": [],
   "source": [
    "# Criar um backup do DataFrame tratado\n",
    "EDA_humanresources_employee_bkp_v2 = EDA_humanresources_employee.copy()\n",
    "\n",
    "# Verificar o tamanho do backup e as primeiras linhas\n",
    "print(f\"Backup criado com {len(EDA_humanresources_employee_bkp_v2)} linhas.\")\n",
    "print(EDA_humanresources_employee_bkp_v2.head())\n"
   ]
  },
  {
   "cell_type": "code",
   "execution_count": null,
   "metadata": {},
   "outputs": [],
   "source": [
    "# Verificar e documentar colunas existentes\n",
    "print(\"Colunas mantidas no dataset:\", EDA_humanresources_employee.columns.tolist())\n"
   ]
  },
  {
   "cell_type": "code",
   "execution_count": 246,
   "metadata": {},
   "outputs": [
    {
     "name": "stdout",
     "output_type": "stream",
     "text": [
      "Valores únicos em 'currentflag': [ True]\n",
      "Valores únicos em 'salariedflag': [ True False]\n"
     ]
    }
   ],
   "source": [
    "# Listar colunas binárias esperadas\n",
    "binary_columns = ['currentflag', 'salariedflag']\n",
    "\n",
    "# Verificar valores únicos em colunas binárias\n",
    "for col in binary_columns:\n",
    "    unique_values = EDA_humanresources_employee[col].unique()\n",
    "    print(f\"Valores únicos em '{col}': {unique_values}\") \n",
    "\n"
   ]
  },
  {
   "cell_type": "code",
   "execution_count": 247,
   "metadata": {},
   "outputs": [
    {
     "name": "stdout",
     "output_type": "stream",
     "text": [
      "Distribuição de 'currentflag':\n",
      "currentflag\n",
      "True    290\n",
      "Name: count, dtype: int64\n",
      "\n",
      "Distribuição de 'salariedflag':\n",
      "salariedflag\n",
      "False    238\n",
      "True      52\n",
      "Name: count, dtype: int64\n"
     ]
    }
   ],
   "source": [
    "# Contar valores em 'currentflag' e 'salariedflag'\n",
    "print(\"Distribuição de 'currentflag':\")\n",
    "print(EDA_humanresources_employee['currentflag'].value_counts())\n",
    "\n",
    "print(\"\\nDistribuição de 'salariedflag':\")\n",
    "print(EDA_humanresources_employee['salariedflag'].value_counts())\n",
    "\n",
    "\n",
    "#se vale a pena deletar ou não a coluna currentflag, já que só tem 1 valor e é true ?!"
   ]
  },
  {
   "cell_type": "code",
   "execution_count": 249,
   "metadata": {},
   "outputs": [
    {
     "name": "stdout",
     "output_type": "stream",
     "text": [
      "Funcionários ativos errados: Empty DataFrame\n",
      "Columns: [birthdate, businessentityid, currentflag, gender, hiredate, jobtitle, loginid, maritalstatus, modifieddate, nationalidnumber, organizationnode, rowguid, salariedflag, sickleavehours, vacationhours, hire_year]\n",
      "Index: []\n",
      "Contratações futuras: Empty DataFrame\n",
      "Columns: [birthdate, businessentityid, currentflag, gender, hiredate, jobtitle, loginid, maritalstatus, modifieddate, nationalidnumber, organizationnode, rowguid, salariedflag, sickleavehours, vacationhours, hire_year]\n",
      "Index: []\n",
      "Modifieddate antes de hiredate: Empty DataFrame\n",
      "Columns: [birthdate, businessentityid, currentflag, gender, hiredate, jobtitle, loginid, maritalstatus, modifieddate, nationalidnumber, organizationnode, rowguid, salariedflag, sickleavehours, vacationhours, hire_year]\n",
      "Index: []\n"
     ]
    }
   ],
   "source": [
    "# 1. Verificar se todos os funcionários ativos têm currentflag = True, pois deveria ser false = demitido/desligado\n",
    "print(\"Funcionários ativos errados:\", EDA_humanresources_employee[EDA_humanresources_employee['currentflag'] != True])\n",
    "\n",
    "# 2. Validar datas\n",
    "print(\"Contratações futuras:\", EDA_humanresources_employee[EDA_humanresources_employee['hiredate'] > pd.Timestamp.now()])\n",
    "print(\"Modifieddate antes de hiredate:\", EDA_humanresources_employee[EDA_humanresources_employee['modifieddate'] < EDA_humanresources_employee['hiredate']])\n",
    "\n",
    "\n",
    "\n"
   ]
  },
  {
   "cell_type": "code",
   "execution_count": 250,
   "metadata": {},
   "outputs": [
    {
     "data": {
      "text/plain": [
       "birthdate           275\n",
       "businessentityid    290\n",
       "currentflag           1\n",
       "gender                2\n",
       "hiredate            164\n",
       "jobtitle             67\n",
       "loginid             290\n",
       "maritalstatus         2\n",
       "modifieddate          4\n",
       "nationalidnumber    290\n",
       "organizationnode    290\n",
       "rowguid             290\n",
       "salariedflag          2\n",
       "sickleavehours       51\n",
       "vacationhours       100\n",
       "hire_year             8\n",
       "dtype: int64"
      ]
     },
     "execution_count": 250,
     "metadata": {},
     "output_type": "execute_result"
    }
   ],
   "source": []
  },
  {
   "cell_type": "code",
   "execution_count": null,
   "metadata": {},
   "outputs": [],
   "source": [
    "# #Definir Dataset e Nome da Tabela\n",
    "# dataset_id = 'raw_data_cleaned'  # Substitua pelo nome do seu Dataset\n",
    "# table_id = 'humanresources_employee'   # Substitua pelo nome da sua Tabela\n",
    "# full_table_id = f\"{client.project}.{dataset_id}.{table_id}\"  # Nome completo da tabela\n",
    "\n",
    "# #Exportar para o BigQuery\n",
    "# EDA_humanresources_employee.to_gbq(full_table_id, if_exists='replace', credentials=client._credentials)\n",
    "\n"
   ]
  },
  {
   "cell_type": "markdown",
   "metadata": {},
   "source": []
  },
  {
   "cell_type": "markdown",
   "metadata": {},
   "source": [
    "## ESTATÍSTICA DESCRITIVA"
   ]
  },
  {
   "cell_type": "code",
   "execution_count": null,
   "metadata": {},
   "outputs": [],
   "source": [
    "# Selecionar colunas relevantes para análise descritiva\n",
    "cols_para_analise = ['sickleavehours', 'vacationhours', 'salariedflag']\n",
    "\n",
    "# Garantir que as datas estejam no formato correto\n",
    "EDA_humanresources_employee['hire_year'] = pd.to_datetime(EDA_humanresources_employee['hiredate']).dt.year\n",
    "\n",
    "# Adicionar a nova coluna à lista\n",
    "cols_para_analise.append('hire_year')\n",
    "\n",
    "# Gerar estatísticas descritivas\n",
    "analise_descritiva = EDA_humanresources_employee[cols_para_analise].describe(include='all')\n",
    "\n",
    "# Substituir NaN por '-'\n",
    "analise_descritiva = analise_descritiva.fillna('-')\n",
    "\n",
    "print(analise_descritiva)\n"
   ]
  },
  {
   "cell_type": "code",
   "execution_count": null,
   "metadata": {},
   "outputs": [],
   "source": [
    "#EDA_humanresources_employee.boxplot(column='vacationhours')\n",
    "\n",
    "\n",
    "import matplotlib.pyplot as plt\n",
    "\n",
    "# Criar boxplot usando matplotlib\n",
    "plt.boxplot(EDA_humanresources_employee['vacationhours'])\n",
    "plt.title(\"Boxplot de Vacation Hours\")\n",
    "plt.ylabel(\"Vacation Hours\")\n",
    "plt.show()\n"
   ]
  }
 ],
 "metadata": {
  "kernelspec": {
   "display_name": "venv",
   "language": "python",
   "name": "python3"
  },
  "language_info": {
   "codemirror_mode": {
    "name": "ipython",
    "version": 3
   },
   "file_extension": ".py",
   "mimetype": "text/x-python",
   "name": "python",
   "nbconvert_exporter": "python",
   "pygments_lexer": "ipython3",
   "version": "3.10.9"
  }
 },
 "nbformat": 4,
 "nbformat_minor": 2
}
