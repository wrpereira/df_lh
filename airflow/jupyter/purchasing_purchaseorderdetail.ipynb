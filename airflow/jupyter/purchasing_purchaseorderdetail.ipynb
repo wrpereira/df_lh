{
 "cells": [
  {
   "cell_type": "markdown",
   "metadata": {},
   "source": [
    "### SETUP INICIAL DO PROJETO"
   ]
  },
  {
   "cell_type": "code",
   "execution_count": 1,
   "metadata": {},
   "outputs": [],
   "source": [
    "\n",
    "#importação das bibliotecase e pacotes necessários para a análise\n",
    "\n",
    "import json\n",
    "import matplotlib.pyplot as plt\n",
    "import numpy as np\n",
    "import os\n",
    "import pandas as pd\n",
    "import pandas_gbq as gbq\n",
    "import re\n",
    "import seaborn as sns\n",
    "from dotenv import load_dotenv\n",
    "from google.cloud import bigquery\n",
    "from google.cloud.bigquery_storage import BigQueryReadClient\n",
    "from google.oauth2 import service_account\n",
    "\n",
    "\n",
    "# carregar o .env com as credenciais\n",
    "load_dotenv(\"/mnt/c/Users/wrpen/OneDrive/Desktop/df_lh/.env\")\n",
    "\n",
    "\n",
    "# detectar ambiente: como eu estou usando wsl-ubuntu, no VS Code  -  Windows, estava dando conflitos de path\n",
    "if os.name == \"nt\":  # se Windows\n",
    "    credentials_path = r\"C:\\Temp\\desafiolh-445818-3cb0f62cb9ef.json\"\n",
    "else:  # se WSL/Linux\n",
    "    credentials_path = \"/mnt/c/Temp/desafiolh-445818-3cb0f62cb9ef.json\"\n",
    "\n",
    "\n",
    "# parâmetros injetados pelo Papermill ou definidos manualmente, caso não existam no ambiente\n",
    "if 'tables_to_process' not in locals():\n",
    "    tables_to_process = [\n",
    "        \"desafioadventureworks-446600.raw_data.purchasing-purchaseorderdetail\"       \n",
    "    ]\n",
    "\n",
    "if 'output_dataset' not in locals():\n",
    "    output_dataset = \"desafioadventureworks-446600.raw_data_cleaned\"\n",
    "\n",
    "\n",
    "# configs do cliente BigQuery: input de project e location de acordo com dados no Bigquery\n",
    "credentials = service_account.Credentials.from_service_account_file(credentials_path)\n",
    "client = bigquery.Client(credentials=credentials, project=os.getenv(\"BIGQUERY_PROJECT\"), location=\"us-central1\")\n",
    "\n",
    "\n",
    "#doc: tables_to_process: lista de tabelas que serão processadas\n",
    "#     output_dataset: nome do dataset onde os dados processados serão armazenados, neste caso, raw_data_cleaned"
   ]
  },
  {
   "cell_type": "code",
   "execution_count": 2,
   "metadata": {},
   "outputs": [
    {
     "name": "stdout",
     "output_type": "stream",
     "text": [
      "Tabelas a processar: ['desafioadventureworks-446600.raw_data.purchasing-purchaseorderdetail']\n"
     ]
    }
   ],
   "source": [
    "# Print com a tabela que vai ser processada nesse notebook\n",
    "\n",
    "print(\"Tabelas a processar:\", tables_to_process)"
   ]
  },
  {
   "cell_type": "code",
   "execution_count": 3,
   "metadata": {},
   "outputs": [
    {
     "name": "stdout",
     "output_type": "stream",
     "text": [
      "raw_data\n",
      "Tabelas disponíveis:\n",
      "humanresources-employee\n",
      "person-address\n",
      "person-businessentity\n",
      "person-person\n",
      "person-stateprovince\n",
      "production-location\n",
      "production-product\n",
      "production-productcategory\n",
      "production-productcosthistory\n",
      "production-productinventory\n",
      "production-productsubcategory\n",
      "purchasing-purchaseorderdetail\n",
      "purchasing-purchaseorderheader\n",
      "purchasing-vendor\n",
      "sales-creditcard\n",
      "sales-customer\n",
      "sales-salesorderdetail\n",
      "sales-salesorderheader\n",
      "sales-salesperson\n",
      "sales-salesterritory\n",
      "sales-store\n"
     ]
    }
   ],
   "source": [
    "# Nome do dataset no Bigquery com os dados brutos (.csv) extraídos pelo Meltano \n",
    "dataset_id = 'raw_data'\n",
    "print(dataset_id)\n",
    "\n",
    "# Lista de tabelas do dataset raw_data no Bigquery\n",
    "tables = client.list_tables('raw_data')\n",
    "print(\"Tabelas disponíveis:\")\n",
    "for table in tables:\n",
    "    print(table.table_id)"
   ]
  },
  {
   "cell_type": "markdown",
   "metadata": {},
   "source": [
    "# Exploratory Data Analysis (EDA) e Data Cleaning"
   ]
  },
  {
   "cell_type": "markdown",
   "metadata": {},
   "source": [
    "### Glossário dos dados:\n",
    "\n",
    "O termo ''doc:'', situado no rodapé de algumas cells, indica algo como:\n",
    "\n",
    "- documentação: documentar decisões, análises e resultados;\n",
    "\n",
    "- abreviações de termos, como bkp, df, entre outros."
   ]
  },
  {
   "cell_type": "code",
   "execution_count": 4,
   "metadata": {},
   "outputs": [],
   "source": [
    "# Setup inicial do df para realizar a EDA \n",
    "\n",
    "pd.set_option('display.max_columns', None)\n",
    "#pd.set_option('display.max_rows', None)\n",
    "pd.set_option('display.max_colwidth', None)\n",
    "pd.set_option('display.width', 10000)\n",
    "pd.options.display.float_format = '{:.2f}'.format\n",
    "\n",
    "\n",
    "#doc: df = dataframe  "
   ]
  },
  {
   "cell_type": "code",
   "execution_count": 5,
   "metadata": {},
   "outputs": [
    {
     "name": "stdout",
     "output_type": "stream",
     "text": [
      "Processando tabela: desafioadventureworks-446600.raw_data.purchasing-purchaseorderdetail\n",
      "Lendo os dados do BigQuery...\n",
      "Tabela purchasing_purchaseorderdetail processada e armazenada com sucesso.\n",
      "Todas as tabelas foram processadas com sucesso!\n"
     ]
    }
   ],
   "source": [
    "# Dicionário para armazenar os df processados\n",
    "df_processados = {}\n",
    "\n",
    "# Iteração das tabelas e armazenamento em df\n",
    "for input_table in tables_to_process:\n",
    "    print(f\"Processando tabela: {input_table}\")\n",
    "    \n",
    "    table_name = input_table.split(\".\")[-1].replace(\"-\", \"_\")  \n",
    "    \n",
    "    print(\"Lendo os dados do BigQuery...\")\n",
    "    query = f\"SELECT * FROM `{input_table}`\"\n",
    "    table_data = client.query(query).to_dataframe()\n",
    "    \n",
    "    df_processados[table_name] = table_data\n",
    "    print(f\"Tabela {table_name} processada e armazenada com sucesso.\")\n",
    "\n",
    "\n",
    "print(\"Todas as tabelas foram processadas com sucesso!\")"
   ]
  },
  {
   "cell_type": "code",
   "execution_count": 6,
   "metadata": {},
   "outputs": [
    {
     "name": "stdout",
     "output_type": "stream",
     "text": [
      "Variável criada: purchasing_purchaseorderdetail\n"
     ]
    }
   ],
   "source": [
    "# Listar todas as variáveis criadas dinamicamente\n",
    "for table_name in df_processados.keys():\n",
    "    print(f\"Variável criada: {table_name}\")  "
   ]
  },
  {
   "cell_type": "code",
   "execution_count": 7,
   "metadata": {},
   "outputs": [
    {
     "name": "stdout",
     "output_type": "stream",
     "text": [
      "Colunas: 9\n",
      "Linhas: 8845\n"
     ]
    }
   ],
   "source": [
    "# Atribuir o df a uma variável com nome mais simples\n",
    "purchasing_purchaseorderdetail = df_processados['purchasing_purchaseorderdetail']\n",
    "\n",
    "print(f\"Colunas: {purchasing_purchaseorderdetail.shape[1]}\\nLinhas: {purchasing_purchaseorderdetail.shape[0]}\")"
   ]
  },
  {
   "cell_type": "code",
   "execution_count": 8,
   "metadata": {},
   "outputs": [
    {
     "data": {
      "text/html": [
       "<div>\n",
       "<style scoped>\n",
       "    .dataframe tbody tr th:only-of-type {\n",
       "        vertical-align: middle;\n",
       "    }\n",
       "\n",
       "    .dataframe tbody tr th {\n",
       "        vertical-align: top;\n",
       "    }\n",
       "\n",
       "    .dataframe thead th {\n",
       "        text-align: right;\n",
       "    }\n",
       "</style>\n",
       "<table border=\"1\" class=\"dataframe\">\n",
       "  <thead>\n",
       "    <tr style=\"text-align: right;\">\n",
       "      <th></th>\n",
       "      <th>purchaseorderid</th>\n",
       "      <th>purchaseorderdetailid</th>\n",
       "      <th>duedate</th>\n",
       "      <th>orderqty</th>\n",
       "      <th>productid</th>\n",
       "      <th>unitprice</th>\n",
       "      <th>receivedqty</th>\n",
       "      <th>rejectedqty</th>\n",
       "      <th>modifieddate</th>\n",
       "    </tr>\n",
       "  </thead>\n",
       "  <tbody>\n",
       "    <tr>\n",
       "      <th>0</th>\n",
       "      <td>1</td>\n",
       "      <td>1</td>\n",
       "      <td>2011-04-30 00:00:00+00:00</td>\n",
       "      <td>4</td>\n",
       "      <td>1</td>\n",
       "      <td>50.26</td>\n",
       "      <td>3.00</td>\n",
       "      <td>0.00</td>\n",
       "      <td>2011-04-23 00:00:00+00:00</td>\n",
       "    </tr>\n",
       "    <tr>\n",
       "      <th>1</th>\n",
       "      <td>4001</td>\n",
       "      <td>8789</td>\n",
       "      <td>2014-03-13 00:00:00+00:00</td>\n",
       "      <td>25</td>\n",
       "      <td>707</td>\n",
       "      <td>13.09</td>\n",
       "      <td>20.00</td>\n",
       "      <td>0.00</td>\n",
       "      <td>2015-08-12 12:25:46.233000+00:00</td>\n",
       "    </tr>\n",
       "    <tr>\n",
       "      <th>2</th>\n",
       "      <td>4001</td>\n",
       "      <td>8790</td>\n",
       "      <td>2014-09-22 00:00:00+00:00</td>\n",
       "      <td>25</td>\n",
       "      <td>708</td>\n",
       "      <td>13.09</td>\n",
       "      <td>20.00</td>\n",
       "      <td>0.00</td>\n",
       "      <td>2015-08-12 12:25:46.313000+00:00</td>\n",
       "    </tr>\n",
       "    <tr>\n",
       "      <th>3</th>\n",
       "      <td>4001</td>\n",
       "      <td>8791</td>\n",
       "      <td>2014-07-02 00:00:00+00:00</td>\n",
       "      <td>300</td>\n",
       "      <td>711</td>\n",
       "      <td>13.08</td>\n",
       "      <td>20.00</td>\n",
       "      <td>0.00</td>\n",
       "      <td>2015-08-12 12:25:46.343000+00:00</td>\n",
       "    </tr>\n",
       "    <tr>\n",
       "      <th>4</th>\n",
       "      <td>4002</td>\n",
       "      <td>8792</td>\n",
       "      <td>2014-10-22 00:00:00+00:00</td>\n",
       "      <td>150</td>\n",
       "      <td>709</td>\n",
       "      <td>3.40</td>\n",
       "      <td>150.00</td>\n",
       "      <td>0.00</td>\n",
       "      <td>2015-08-12 12:25:46.343000+00:00</td>\n",
       "    </tr>\n",
       "  </tbody>\n",
       "</table>\n",
       "</div>"
      ],
      "text/plain": [
       "   purchaseorderid  purchaseorderdetailid                   duedate  orderqty  productid  unitprice  receivedqty  rejectedqty                     modifieddate\n",
       "0                1                      1 2011-04-30 00:00:00+00:00         4          1      50.26         3.00         0.00        2011-04-23 00:00:00+00:00\n",
       "1             4001                   8789 2014-03-13 00:00:00+00:00        25        707      13.09        20.00         0.00 2015-08-12 12:25:46.233000+00:00\n",
       "2             4001                   8790 2014-09-22 00:00:00+00:00        25        708      13.09        20.00         0.00 2015-08-12 12:25:46.313000+00:00\n",
       "3             4001                   8791 2014-07-02 00:00:00+00:00       300        711      13.08        20.00         0.00 2015-08-12 12:25:46.343000+00:00\n",
       "4             4002                   8792 2014-10-22 00:00:00+00:00       150        709       3.40       150.00         0.00 2015-08-12 12:25:46.343000+00:00"
      ]
     },
     "execution_count": 8,
     "metadata": {},
     "output_type": "execute_result"
    }
   ],
   "source": [
    "purchasing_purchaseorderdetail.head()"
   ]
  },
  {
   "cell_type": "code",
   "execution_count": 9,
   "metadata": {},
   "outputs": [
    {
     "name": "stdout",
     "output_type": "stream",
     "text": [
      "Não foram encontradas duplicadas.\n"
     ]
    }
   ],
   "source": [
    "# Identificar duplicadas\n",
    "duplicadas = purchasing_purchaseorderdetail[purchasing_purchaseorderdetail.duplicated(subset=['purchaseorderdetailid'], keep=False)]\n",
    "\n",
    "# Verificar se existem duplicadas\n",
    "if not duplicadas.empty:\n",
    "    \n",
    "    duplicadas_ordenadas = duplicadas.sort_values(by=['purchaseorderdetailid', 'modifieddate'])\n",
    "\n",
    "    print(\"duplicadas ordenadas:\")\n",
    "    print(duplicadas_ordenadas)\n",
    "else:\n",
    "    print(\"Não foram encontradas duplicadas.\")"
   ]
  },
  {
   "cell_type": "code",
   "execution_count": 10,
   "metadata": {},
   "outputs": [
    {
     "name": "stdout",
     "output_type": "stream",
     "text": [
      "Linhas após remover duplicadas (baseando-se na última 'modifieddate'): 8845\n"
     ]
    }
   ],
   "source": [
    "# Remover duplicadas* \n",
    "purchasing_purchaseorderdetail = purchasing_purchaseorderdetail.drop_duplicates(subset=['purchaseorderdetailid'], keep='last')\n",
    "\n",
    "print(f\"Linhas após remover duplicadas (baseando-se na última 'modifieddate'): {len(purchasing_purchaseorderdetail)}\")\n",
    "\n",
    "#bkp dos dados brutos\n",
    "raw_data_bkp_2_sem_duplicadas = purchasing_purchaseorderdetail.copy()\n",
    "\n",
    "\n",
    "#doc: bkp = backup (cópia)\n",
    "#doc*: mantendo a última ocorrência com base em 'modifieddate', pois ela que indica a data da última modificação nos dados\n",
    "#      Importante, pois se houver erro na ingestão (duplicação), mantém os dados íntegros."
   ]
  },
  {
   "cell_type": "code",
   "execution_count": 11,
   "metadata": {},
   "outputs": [
    {
     "name": "stdout",
     "output_type": "stream",
     "text": [
      "      purchaseorderid  purchaseorderdetailid                   duedate  orderqty  productid  unitprice  receivedqty  rejectedqty                     modifieddate\n",
      "0                   1                      1 2011-04-30 00:00:00+00:00         4          1      50.26         3.00         0.00        2011-04-23 00:00:00+00:00\n",
      "52                  2                      2 2011-04-30 00:00:00+00:00         3        359      45.12         3.00         0.00        2011-04-23 00:00:00+00:00\n",
      "53                  2                      3 2011-04-30 00:00:00+00:00         3        360      45.58         3.00         0.00        2011-04-23 00:00:00+00:00\n",
      "4188                3                      4 2011-04-30 00:00:00+00:00       550        530      16.09       550.00         0.00        2011-04-23 00:00:00+00:00\n",
      "54                  4                      5 2011-04-30 00:00:00+00:00         3          4      57.03         2.00         1.00        2011-04-23 00:00:00+00:00\n",
      "...               ...                    ...                       ...       ...        ...        ...          ...          ...                              ...\n",
      "47               4011                   8841 2014-07-24 00:00:00+00:00      1000        880      20.56      1000.00         0.00 2015-08-12 12:25:46.470000+00:00\n",
      "48               4012                   8842 2014-07-24 00:00:00+00:00      6000        881      41.57      6000.00         0.00 2015-08-12 12:25:46.483000+00:00\n",
      "49               4012                   8843 2014-07-24 00:00:00+00:00      6000        882      41.57      6000.00         0.00 2015-08-12 12:25:46.483000+00:00\n",
      "50               4012                   8844 2014-07-24 00:00:00+00:00      6000        883      41.57      6000.00         0.00 2015-08-12 12:25:46.483000+00:00\n",
      "51               4012                   8845 2014-07-24 00:00:00+00:00      6000        884      41.57      6000.00         0.00 2015-08-12 12:25:46.483000+00:00\n",
      "\n",
      "[8845 rows x 9 columns]\n"
     ]
    }
   ],
   "source": [
    "# Ordenar e exibir o df por 'purchaseorderdetailid'\n",
    "purchasing_purchaseorderdetail = purchasing_purchaseorderdetail.sort_values(by=['purchaseorderdetailid'])\n",
    "\n",
    "print(purchasing_purchaseorderdetail)"
   ]
  },
  {
   "cell_type": "code",
   "execution_count": 12,
   "metadata": {},
   "outputs": [
    {
     "name": "stdout",
     "output_type": "stream",
     "text": [
      "Coluna 'purchaseorderid': 0 linhas ausentes.\n",
      "Nenhuma linha com valores ausentes em 'purchaseorderid'.\n",
      "\n",
      "Coluna 'purchaseorderdetailid': 0 linhas ausentes.\n",
      "Nenhuma linha com valores ausentes em 'purchaseorderdetailid'.\n",
      "\n",
      "Coluna 'duedate': 0 linhas ausentes.\n",
      "Nenhuma linha com valores ausentes em 'duedate'.\n",
      "\n",
      "Coluna 'orderqty': 0 linhas ausentes.\n",
      "Nenhuma linha com valores ausentes em 'orderqty'.\n",
      "\n",
      "Coluna 'productid': 0 linhas ausentes.\n",
      "Nenhuma linha com valores ausentes em 'productid'.\n",
      "\n",
      "Coluna 'unitprice': 0 linhas ausentes.\n",
      "Nenhuma linha com valores ausentes em 'unitprice'.\n",
      "\n",
      "Coluna 'receivedqty': 0 linhas ausentes.\n",
      "Nenhuma linha com valores ausentes em 'receivedqty'.\n",
      "\n",
      "Coluna 'rejectedqty': 0 linhas ausentes.\n",
      "Nenhuma linha com valores ausentes em 'rejectedqty'.\n",
      "\n",
      "Coluna 'modifieddate': 0 linhas ausentes.\n",
      "Nenhuma linha com valores ausentes em 'modifieddate'.\n",
      "\n"
     ]
    }
   ],
   "source": [
    "# Iterar por todas as colunas do df, para verificar valores ausentes\n",
    "\n",
    "# Verificar valores ausentes na coluna\n",
    "for column in purchasing_purchaseorderdetail.columns:   \n",
    "    missing_rows = purchasing_purchaseorderdetail[purchasing_purchaseorderdetail[column].isnull()]\n",
    "    print(f\"Coluna '{column}': {missing_rows.shape[0]} linhas ausentes.\")\n",
    "    \n",
    "# Mostrar as primeiras linhas ausentes, se preciso for, limitar o head() para dar menos outputs ou limitar os outputs\n",
    "    if not missing_rows.empty:\n",
    "        print(f\"Exibindo as primeiras linhas com valores ausentes em '{column}':\")\n",
    "        print(missing_rows.head(), \"\\n\")\n",
    "    else:\n",
    "        print(f\"Nenhuma linha com valores ausentes em '{column}'.\\n\")"
   ]
  },
  {
   "cell_type": "code",
   "execution_count": 13,
   "metadata": {},
   "outputs": [
    {
     "name": "stdout",
     "output_type": "stream",
     "text": [
      "Valores únicos incluindo NaN:\n",
      "purchaseorderid          4012\n",
      "purchaseorderdetailid    8845\n",
      "duedate                   299\n",
      "orderqty                   28\n",
      "productid                 265\n",
      "unitprice                 177\n",
      "receivedqty                34\n",
      "rejectedqty                13\n",
      "modifieddate              308\n",
      "dtype: int64\n"
     ]
    }
   ],
   "source": [
    "# Valores únicos por coluna, para verificar se colunas como flags, normalmente booleanas, possuem apenas 1 ou 2 valores.\n",
    "\n",
    "valores_unicos = purchasing_purchaseorderdetail.nunique(dropna=False)\n",
    "\n",
    "print(\"Valores únicos incluindo NaN:\")\n",
    "print(valores_unicos)"
   ]
  },
  {
   "cell_type": "code",
   "execution_count": 14,
   "metadata": {},
   "outputs": [
    {
     "name": "stdout",
     "output_type": "stream",
     "text": [
      "<class 'pandas.core.frame.DataFrame'>\n",
      "Index: 8845 entries, 0 to 51\n",
      "Data columns (total 9 columns):\n",
      " #   Column                 Non-Null Count  Dtype              \n",
      "---  ------                 --------------  -----              \n",
      " 0   purchaseorderid        8845 non-null   Int64              \n",
      " 1   purchaseorderdetailid  8845 non-null   Int64              \n",
      " 2   duedate                8845 non-null   datetime64[us, UTC]\n",
      " 3   orderqty               8845 non-null   Int64              \n",
      " 4   productid              8845 non-null   Int64              \n",
      " 5   unitprice              8845 non-null   float64            \n",
      " 6   receivedqty            8845 non-null   float64            \n",
      " 7   rejectedqty            8845 non-null   float64            \n",
      " 8   modifieddate           8845 non-null   datetime64[us, UTC]\n",
      "dtypes: Int64(4), datetime64[us, UTC](2), float64(3)\n",
      "memory usage: 725.6 KB\n"
     ]
    }
   ],
   "source": [
    "#verificar informações do df\n",
    "purchasing_purchaseorderdetail.info()"
   ]
  },
  {
   "cell_type": "code",
   "execution_count": 15,
   "metadata": {},
   "outputs": [
    {
     "name": "stdout",
     "output_type": "stream",
     "text": [
      "       orderqty  unitprice  receivedqty  rejectedqty\n",
      "count   8845.00    8845.00      8845.00      8845.00\n",
      "mean     265.53      34.74       263.12         8.22\n",
      "std      355.93      16.32       354.04        58.32\n",
      "min        3.00       0.21         2.00         0.00\n",
      "25%        3.00      25.42         3.00         0.00\n",
      "50%       60.00      39.28        60.00         0.00\n",
      "75%      550.00      45.44       550.00         0.00\n",
      "max     8000.00      82.83      8000.00      1250.00\n",
      "\n",
      "Coluna: orderqty\n",
      "Limite inferior: -817.5, Limite superior: 1370.5\n",
      "Outliers detectados (14):\n",
      "    orderqty\n",
      "19      5000\n",
      "20      5000\n",
      "21      5000\n",
      "34      2000\n",
      "35      2000\n",
      "36      2000\n",
      "37      1500\n",
      "40      8000\n",
      "41      8000\n",
      "42      8000\n",
      "48      6000\n",
      "49      6000\n",
      "50      6000\n",
      "51      6000\n",
      "\n",
      "Coluna: unitprice\n",
      "Limite inferior: -4.614750000000004, Limite superior: 75.47925000000001\n",
      "Outliers detectados (100):\n",
      "      unitprice\n",
      "4251      82.83\n",
      "4252      82.83\n",
      "4324      82.83\n",
      "4325      82.83\n",
      "4402      82.83\n",
      "...         ...\n",
      "7799      82.83\n",
      "7872      82.83\n",
      "7873      82.83\n",
      "7945      82.83\n",
      "7946      82.83\n",
      "\n",
      "[100 rows x 1 columns]\n",
      "\n",
      "Coluna: receivedqty\n",
      "Limite inferior: -817.5, Limite superior: 1370.5\n",
      "Outliers detectados (14):\n",
      "    receivedqty\n",
      "19      5000.00\n",
      "20      5000.00\n",
      "21      5000.00\n",
      "34      2000.00\n",
      "35      2000.00\n",
      "36      2000.00\n",
      "37      1500.00\n",
      "40      8000.00\n",
      "41      8000.00\n",
      "42      8000.00\n",
      "48      6000.00\n",
      "49      6000.00\n",
      "50      6000.00\n",
      "51      6000.00\n",
      "\n",
      "Coluna: rejectedqty\n",
      "Limite inferior: 0.0, Limite superior: 0.0\n",
      "Outliers detectados (563):\n",
      "      rejectedqty\n",
      "54           1.00\n",
      "4194        82.00\n",
      "73           3.00\n",
      "4204        27.00\n",
      "4205        82.00\n",
      "...           ...\n",
      "7913        82.00\n",
      "7924        55.00\n",
      "7926        82.00\n",
      "7937        82.00\n",
      "8838       125.00\n",
      "\n",
      "[563 rows x 1 columns]\n"
     ]
    }
   ],
   "source": [
    "# Variáveis quantitativas*: estatísticas descritivas para verificar se ainda há o que ser feito antes de exportar os dados ao BigQuery\n",
    "\n",
    "# Identificar colunas numéricas para análise de outliers\n",
    "numeric_columns = ['orderqty', 'unitprice', 'receivedqty', 'rejectedqty']\n",
    "\n",
    "# Estatísticas Descritivas das colunas numéricas*\n",
    "print(purchasing_purchaseorderdetail[numeric_columns].describe())\n",
    "\n",
    "# Cálculo de limites para outliers (IQR)**\n",
    "for col in numeric_columns:\n",
    "    q1 = purchasing_purchaseorderdetail[col].quantile(0.25)\n",
    "    q3 = purchasing_purchaseorderdetail[col].quantile(0.75)\n",
    "    iqr = q3 - q1\n",
    "    lower_bound = q1 - 1.5 * iqr\n",
    "    upper_bound = q3 + 1.5 * iqr\n",
    "    \n",
    "    # Exibir os limites\n",
    "    print(f\"\\nColuna: {col}\")\n",
    "    print(f\"Limite inferior: {lower_bound}, Limite superior: {upper_bound}\")\n",
    "    \n",
    "    # Detecção e Análise de Outliers***\n",
    "    outliers = purchasing_purchaseorderdetail[(purchasing_purchaseorderdetail[col] < lower_bound) | (purchasing_purchaseorderdetail[col] > upper_bound)]\n",
    "    print(f\"Outliers detectados ({len(outliers)}):\")\n",
    "    print(outliers[[col]])\n",
    "\n",
    "\n",
    "#doc*: variáveis quantitativas são um tipo de dado que pode ser representado por números e medidas objetivas,\n",
    "#doc*: realizar estatísticas descritivas para entender a centralidade e variação dos dados (valores médios, mínimos, máximos, etc.)\n",
    "#doc**: calcular limites para identificar outliers (valores extremos que podem indicar erros ou casos excepcionais nos dados)\n",
    "#doc***: verificar a existência de outliers para decidir ações como remoção, substituição ou tratamento, garantindo qualidade dos dados\n",
    "#doc****: as colunas analisadas apresentam outliers: \n",
    "\n",
    "\n",
    "# Justificativa para manter os dados com outliers:\n",
    "# \n",
    "# 1. Contexto de Varejo:\n",
    "#    - No setor varejista, é comum lidar com grandes volumes de pedidos \n",
    "#      em eventos como promoções sazonais (ex.: Black Friday) ou \n",
    "#      compras realizadas por distribuidores e revendedores.\n",
    "#\n",
    "# 2. Diversidade de Produtos:\n",
    "#    - Produtos premium ou exclusivos possuem preços mais elevados,\n",
    "#      o que explica outliers em \"unitprice\".\n",
    "#    - Itens com alta demanda podem justificar quantidades maiores \n",
    "#      em \"orderqty\" e \"receivedqty\".\n",
    "#\n",
    "# 3. Indicadores de Processo:\n",
    "#    - Altos valores em \"rejectedqty\" podem indicar problemas reais na \n",
    "#      cadeia de suprimentos, como defeitos em lotes ou falhas no transporte,\n",
    "#      sendo úteis para análises futuras de qualidade.\n",
    "#\n",
    "# 4. Potencial de Insights:\n",
    "#    - Esses valores podem revelar padrões comportamentais de clientes,\n",
    "#      sazonalidade, ou até mesmo oportunidades de negócio.\n",
    "#\n",
    "# 5. Preservação da Integridade:\n",
    "#    - Excluir ou tratar esses valores pode distorcer análises ou eliminar\n",
    "#      informações valiosas que refletem a realidade do negócio.\n",
    "#\n",
    "# Conclusão: Esses dados são verídicos dentro do contexto de varejo e, \n",
    "# mesmo que representem exceções, podem ser utilizados para análises mais \n",
    "# detalhadas e tomadas de decisão estratégicas.\n"
   ]
  },
  {
   "cell_type": "code",
   "execution_count": 16,
   "metadata": {},
   "outputs": [
    {
     "name": "stdout",
     "output_type": "stream",
     "text": [
      "             orderqty  unitprice  receivedqty  rejectedqty\n",
      "orderqty         1.00      -0.35         1.00         0.13\n",
      "unitprice       -0.35       1.00        -0.34        -0.06\n",
      "receivedqty      1.00      -0.34         1.00         0.13\n",
      "rejectedqty      0.13      -0.06         0.13         1.00\n"
     ]
    }
   ],
   "source": [
    "# colunas numéricas\n",
    "numeric_columns = ['orderqty', 'unitprice', 'receivedqty', 'rejectedqty']\n",
    "\n",
    "# Calcular correlações\n",
    "correlation_matrix = purchasing_purchaseorderdetail[numeric_columns].corr()\n",
    "\n",
    "# Exibir a matriz de correlação\n",
    "print(correlation_matrix)\n",
    "\n",
    "\n",
    "# Análise da Matriz de Correlação\n",
    "#\n",
    "# 1. Correlação entre orderqty e receivedqty:\n",
    "#    - Correlação: 1.00 (altamente positiva).\n",
    "#    - Significado: As quantidades pedidas (orderqty) e recebidas (receivedqty) \n",
    "#      estão diretamente alinhadas, como esperado em processos normais de entrega.\n",
    "#\n",
    "# 2. Correlação entre orderqty e unitprice:\n",
    "#    - Correlação: -0.35 (moderadamente negativa).\n",
    "#    - Significado: Produtos mais caros (unitprice) tendem a ser comprados em menores \n",
    "#      quantidades (orderqty), refletindo um comportamento típico no varejo.\n",
    "#\n",
    "# 3. Correlação entre receivedqty e unitprice:\n",
    "#    - Correlação: -0.34 (moderadamente negativa).\n",
    "#    - Significado: Produtos com preços elevados também apresentam menor volume\n",
    "#      de entrega, similar ao comportamento de orderqty.\n",
    "#\n",
    "# 4. Correlação entre orderqty e rejectedqty:\n",
    "#    - Correlação: 0.13 (fraca positiva).\n",
    "#    - Significado: Há uma leve tendência de que pedidos maiores tenham mais itens \n",
    "#      rejeitados, possivelmente devido a problemas logísticos em grandes volumes.\n",
    "#\n",
    "# 5. Correlação entre unitprice e rejectedqty:\n",
    "#    - Correlação: -0.06 (quase nula).\n",
    "#    - Significado: O preço unitário dos produtos não parece influenciar \n",
    "#      significativamente as rejeições (rejectedqty).\n",
    "#\n",
    "# 6. Correlação entre receivedqty e rejectedqty:\n",
    "#    - Correlação: 0.13 (fraca positiva).\n",
    "#    - Significado: Quantidades maiores recebidas têm uma leve relação com maiores\n",
    "#      taxas de rejeição, o que é esperado, já que volumes grandes aumentam o risco\n",
    "#      de problemas.\n",
    "#\n",
    "# Insights Gerais:\n",
    "# - A maior correlação ocorre entre orderqty e receivedqty, confirmando alinhamento\n",
    "#   entre pedidos e entregas.\n",
    "# - Correlações negativas envolvendo unitprice mostram que produtos mais caros\n",
    "#   são comprados e entregues em menores volumes.\n",
    "# - Rejeições (rejectedqty) têm fraca correlação com outras variáveis, sugerindo\n",
    "#   que podem ser influenciadas por fatores externos, como transporte ou qualidade\n",
    "#   do produto."
   ]
  },
  {
   "cell_type": "code",
   "execution_count": 17,
   "metadata": {},
   "outputs": [
    {
     "data": {
      "image/png": "[encoded data removed]",
      "text/plain": [
       "<Figure size 800x600 with 2 Axes>"
      ]
     },
     "metadata": {},
     "output_type": "display_data"
    }
   ],
   "source": [
    "# Configurar o gráfico\n",
    "sns.set(style='darkgrid', rc={\"axes.facecolor\": \"black\", \"figure.facecolor\": \"black\"})\n",
    "\n",
    "numeric_columns = ['orderqty', 'unitprice', 'receivedqty', 'rejectedqty']\n",
    "\n",
    "correlation_matrix = purchasing_purchaseorderdetail[numeric_columns].corr()\n",
    "\n",
    "plt.figure(figsize=(8, 6))\n",
    "\n",
    "ax = sns.heatmap(\n",
    "    correlation_matrix, annot=True, cmap=\"coolwarm\", fmt=\".2f\",\n",
    "    linewidths=0.5, annot_kws={\"size\": 10, \"color\": \"white\"}\n",
    ")\n",
    "\n",
    "plt.title(\"Heatmap de Correlação\", fontsize=14, color=\"white\", pad=15)\n",
    "plt.xticks(fontsize=10, color=\"white\")\n",
    "plt.yticks(fontsize=10, color=\"white\", rotation=0)\n",
    "plt.show()\n",
    "\n",
    "\n",
    "# Correlação alta (vermelho escuro):\n",
    "\n",
    "# Exemplo: orderqty e receivedqty com 1.00, indicando que as quantidades pedidas e recebidas estão fortemente alinhadas.\n",
    "# Correlação moderada negativa (azul):\n",
    "\n",
    "# Exemplo: unitprice com orderqty (-0.35), sugerindo que produtos mais caros têm menores quantidades compradas.\n",
    "# Correlação baixa ou quase nula (azul claro):\n",
    "\n",
    "# Exemplo: rejectedqty com unitprice (-0.06), mostrando que rejeições não têm relação com o preço."
   ]
  },
  {
   "cell_type": "code",
   "execution_count": 18,
   "metadata": {},
   "outputs": [],
   "source": [
    "# Atualizar o dicionário df_processados com o df ajustado\n",
    "df_processados['purchasing_purchaseorderdetail'] = purchasing_purchaseorderdetail"
   ]
  },
  {
   "cell_type": "code",
   "execution_count": 19,
   "metadata": {},
   "outputs": [
    {
     "name": "stdout",
     "output_type": "stream",
     "text": [
      "Tabela purchasing_purchaseorderdetail exportada com sucesso para desafioadventureworks-446600.raw_data_cleaned.purchasing_purchaseorderdetail.\n"
     ]
    }
   ],
   "source": [
    "# Garantir que apenas tabelas únicas sejam exportadas\n",
    "unique_df_processados = {k: v for k, v in df_processados.items()}\n",
    "\n",
    "# Exportar tabelas para o BigQuery\n",
    "for table_name, df_cleaned in unique_df_processados.items():\n",
    " \n",
    "    output_table = f\"{output_dataset}.{table_name}\"\n",
    "   \n",
    "    job_config = bigquery.LoadJobConfig(\n",
    "        write_disposition=\"WRITE_TRUNCATE\"  \n",
    "    )\n",
    "    \n",
    "    job = client.load_table_from_dataframe(df_cleaned, output_table, job_config=job_config)\n",
    "    job.result()\n",
    "\n",
    "    print(f\"Tabela {table_name} exportada com sucesso para {output_table}.\")"
   ]
  },
  {
   "cell_type": "markdown",
   "metadata": {},
   "source": []
  }
 ],
 "metadata": {
  "kernelspec": {
   "display_name": "venv",
   "language": "python",
   "name": "python3"
  },
  "language_info": {
   "codemirror_mode": {
    "name": "ipython",
    "version": 3
   },
   "file_extension": ".py",
   "mimetype": "text/x-python",
   "name": "python",
   "nbconvert_exporter": "python",
   "pygments_lexer": "ipython3",
   "version": "3.10.9"
  }
 },
 "nbformat": 4,
 "nbformat_minor": 2
}
