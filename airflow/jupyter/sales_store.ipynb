{
 "cells": [
  {
   "cell_type": "markdown",
   "metadata": {},
   "source": [
    "### SETUP INICIAL DO PROJETO"
   ]
  },
  {
   "cell_type": "code",
   "execution_count": 1,
   "metadata": {},
   "outputs": [],
   "source": [
    "\n",
    "#importação das bibliotecase e pacotes necessários para a análise\n",
    "\n",
    "import json\n",
    "import numpy as np\n",
    "import os\n",
    "import pandas as pd\n",
    "import pandas_gbq as gbq\n",
    "import re\n",
    "import seaborn as sns\n",
    "import matplotlib.pyplot as plt\n",
    "from dotenv import load_dotenv\n",
    "from google.cloud import bigquery\n",
    "from google.cloud.bigquery_storage import BigQueryReadClient\n",
    "from google.oauth2 import service_account\n",
    "\n",
    "# Carrega o .env: onde estão as credenciais do projeto/repositório\n",
    "load_dotenv(\"/mnt/c/Users/wrpen/OneDrive/Desktop/df_lh/.env\")\n",
    "\n",
    "# Detectar ambiente: como eu estou usando wsl-ubuntu, no VS Code  -  Windows, estava dando conflitos de path\n",
    "if os.name == \"nt\":  # se Windows\n",
    "    credentials_path = r\"C:\\Temp\\desafiolh-445818-3cb0f62cb9ef.json\"\n",
    "else:  # se WSL/Linux\n",
    "    credentials_path = \"/mnt/c/Temp/desafiolh-445818-3cb0f62cb9ef.json\"\n",
    "\n",
    "# Parâmetros injetados pelo Papermill ou definidos manualmente, caso não existam no ambiente\n",
    "# Tables_to_process: lista de tabelas que serão processadas\n",
    "# Output_dataset: nome do dataset onde os dados processados serão armazenados, neste caso, raw_data_cleaned\n",
    "if 'tables_to_process' not in locals():\n",
    "    tables_to_process = [\n",
    "        \"desafioadventureworks-446600.raw_data.sales-store\"       \n",
    "    ]\n",
    "\n",
    "if 'output_dataset' not in locals():\n",
    "    output_dataset = \"desafioadventureworks-446600.raw_data_cleaned\"\n",
    "\n",
    "# Configs do cliente BigQuery: input de project e location de acordo com dados no Bigquery\n",
    "credentials = service_account.Credentials.from_service_account_file(credentials_path)\n",
    "client = bigquery.Client(credentials=credentials, project=os.getenv(\"BIGQUERY_PROJECT\"), location=\"us-central1\")\n"
   ]
  },
  {
   "cell_type": "code",
   "execution_count": 2,
   "metadata": {},
   "outputs": [
    {
     "name": "stdout",
     "output_type": "stream",
     "text": [
      "Tabelas a processar: ['desafioadventureworks-446600.raw_data.sales-store']\n"
     ]
    }
   ],
   "source": [
    "# Print com a tabela que vai ser processada nesse notebook\n",
    "\n",
    "print(\"Tabelas a processar:\", tables_to_process)"
   ]
  },
  {
   "cell_type": "code",
   "execution_count": 3,
   "metadata": {},
   "outputs": [
    {
     "name": "stdout",
     "output_type": "stream",
     "text": [
      "raw_data\n",
      "Tabelas disponíveis:\n",
      "humanresources-employee\n",
      "person-address\n",
      "person-businessentity\n",
      "person-person\n",
      "person-stateprovince\n",
      "production-location\n",
      "production-product\n",
      "production-productcategory\n",
      "production-productinventory\n",
      "production-productsubcategory\n",
      "sales-customer\n",
      "sales-salesorderdetail\n",
      "sales-salesorderheader\n",
      "sales-salesperson\n",
      "sales-salesterritory\n",
      "sales-store\n"
     ]
    }
   ],
   "source": [
    "# Nome do dataset no Bigquery com os dados brutos (.csv) extraídos pelo Meltano \n",
    "dataset_id = 'raw_data'\n",
    "print(dataset_id)\n",
    "\n",
    "# Lista de tabelas do dataset raw_data no Bigquery\n",
    "tables = client.list_tables('raw_data')\n",
    "print(\"Tabelas disponíveis:\")\n",
    "for table in tables:\n",
    "    print(table.table_id)"
   ]
  },
  {
   "cell_type": "markdown",
   "metadata": {},
   "source": [
    "# Exploratory Data Analysis (EDA) e Data Cleaning"
   ]
  },
  {
   "cell_type": "markdown",
   "metadata": {},
   "source": [
    "### Glossário dos dados:\n",
    "\n",
    "O termo ''doc:'', situado no rodapé de algumas cells, indica algo como:\n",
    "\n",
    "- documentação: documentar decisões, análises e resultados;\n",
    "\n",
    "- abreviações de termos, como bkp, df, entre outros."
   ]
  },
  {
   "cell_type": "code",
   "execution_count": 4,
   "metadata": {},
   "outputs": [],
   "source": [
    "# Configuração para que o df exiba todas as colunas e todas as linhas completas, e também, exiba o formato numérico com 2 dígitos após a vírgula\n",
    "\n",
    "pd.set_option('display.max_columns', None)\n",
    "#pd.set_option('display.max_rows', None)\n",
    "pd.set_option('display.max_colwidth', None)\n",
    "pd.set_option('display.width', 10000)\n",
    "pd.options.display.float_format = '{:.2f}'.format\n",
    "\n",
    "\n",
    "#doc: df = dataframe  "
   ]
  },
  {
   "cell_type": "code",
   "execution_count": 5,
   "metadata": {},
   "outputs": [
    {
     "name": "stdout",
     "output_type": "stream",
     "text": [
      "Processando tabela: desafioadventureworks-446600.raw_data.sales-store\n",
      "Lendo os dados do BigQuery...\n",
      "Tabela sales_store processada e armazenada com sucesso.\n",
      "Todas as tabelas foram processadas com sucesso!\n"
     ]
    }
   ],
   "source": [
    "# Dicionário para armazenar os df processados\n",
    "df_processados = {}\n",
    "\n",
    "# Iteração das tabelas e armazenamento em df\n",
    "for input_table in tables_to_process:\n",
    "    print(f\"Processando tabela: {input_table}\")\n",
    "    \n",
    "    # Nome da tabela com substituição de '-' por '_'\n",
    "    table_name = input_table.split(\".\")[-1].replace(\"-\", \"_\")  \n",
    "    \n",
    "    # Ler os dados da tabela do BigQuery para um df\n",
    "    print(\"Lendo os dados do BigQuery...\")\n",
    "    query = f\"SELECT * FROM `{input_table}`\"\n",
    "    table_data = client.query(query).to_dataframe()\n",
    "    \n",
    "    # Armazenar o df no dicionário\n",
    "    df_processados[table_name] = table_data\n",
    "    print(f\"Tabela {table_name} processada e armazenada com sucesso.\")\n",
    "\n",
    "# Print de validação\n",
    "print(\"Todas as tabelas foram processadas com sucesso!\")\n"
   ]
  },
  {
   "cell_type": "code",
   "execution_count": 6,
   "metadata": {},
   "outputs": [
    {
     "name": "stdout",
     "output_type": "stream",
     "text": [
      "Variável criada: sales_store\n"
     ]
    }
   ],
   "source": [
    "# Listar todas as variáveis criadas dinamicamente\n",
    "for table_name in df_processados.keys():\n",
    "    print(f\"Variável criada: {table_name}\")  "
   ]
  },
  {
   "cell_type": "code",
   "execution_count": 7,
   "metadata": {},
   "outputs": [
    {
     "name": "stdout",
     "output_type": "stream",
     "text": [
      "Colunas: 6\n",
      "Linhas: 7010\n"
     ]
    }
   ],
   "source": [
    "# Atribuir o df a uma variável com nome mais simples\n",
    "sales_store = df_processados['sales_store']\n",
    "\n",
    "print(f\"Colunas: {sales_store.shape[1]}\\nLinhas: {sales_store.shape[0]}\")"
   ]
  },
  {
   "cell_type": "code",
   "execution_count": 8,
   "metadata": {},
   "outputs": [
    {
     "name": "stdout",
     "output_type": "stream",
     "text": [
      "duplicadas ordenadas:\n",
      "      businessentityid                   name  salespersonid                                                                                                                                                                                                                                                                                                                                                                                                                          demographics                               rowguid                     modifieddate\n",
      "1200               292   Next-Door Bike Store            279      <StoreSurvey xmlns=\"http://schemas.microsoft.com/sqlserver/2004/07/adventure-works/StoreSurvey\"><AnnualSales>800000</AnnualSales><AnnualRevenue>80000</AnnualRevenue><BankName>United Security</BankName><BusinessType>BM</BusinessType><YearOpened>1996</YearOpened><Specialty>Mountain</Specialty><SquareFeet>21000</SquareFeet><Brands>2</Brands><Internet>ISDN</Internet><NumberEmployees>13</NumberEmployees></StoreSurvey>  a22517e3-848d-4ebe-b9d9-7437f3432304 2014-09-12 11:15:07.497000+00:00\n",
      "1201               292   Next-Door Bike Store            279      <StoreSurvey xmlns=\"http://schemas.microsoft.com/sqlserver/2004/07/adventure-works/StoreSurvey\"><AnnualSales>800000</AnnualSales><AnnualRevenue>80000</AnnualRevenue><BankName>United Security</BankName><BusinessType>BM</BusinessType><YearOpened>1996</YearOpened><Specialty>Mountain</Specialty><SquareFeet>21000</SquareFeet><Brands>2</Brands><Internet>ISDN</Internet><NumberEmployees>13</NumberEmployees></StoreSurvey>  a22517e3-848d-4ebe-b9d9-7437f3432304 2014-09-12 11:15:07.497000+00:00\n",
      "1202               292   Next-Door Bike Store            279      <StoreSurvey xmlns=\"http://schemas.microsoft.com/sqlserver/2004/07/adventure-works/StoreSurvey\"><AnnualSales>800000</AnnualSales><AnnualRevenue>80000</AnnualRevenue><BankName>United Security</BankName><BusinessType>BM</BusinessType><YearOpened>1996</YearOpened><Specialty>Mountain</Specialty><SquareFeet>21000</SquareFeet><Brands>2</Brands><Internet>ISDN</Internet><NumberEmployees>13</NumberEmployees></StoreSurvey>  a22517e3-848d-4ebe-b9d9-7437f3432304 2014-09-12 11:15:07.497000+00:00\n",
      "1203               292   Next-Door Bike Store            279      <StoreSurvey xmlns=\"http://schemas.microsoft.com/sqlserver/2004/07/adventure-works/StoreSurvey\"><AnnualSales>800000</AnnualSales><AnnualRevenue>80000</AnnualRevenue><BankName>United Security</BankName><BusinessType>BM</BusinessType><YearOpened>1996</YearOpened><Specialty>Mountain</Specialty><SquareFeet>21000</SquareFeet><Brands>2</Brands><Internet>ISDN</Internet><NumberEmployees>13</NumberEmployees></StoreSurvey>  a22517e3-848d-4ebe-b9d9-7437f3432304 2014-09-12 11:15:07.497000+00:00\n",
      "1204               292   Next-Door Bike Store            279      <StoreSurvey xmlns=\"http://schemas.microsoft.com/sqlserver/2004/07/adventure-works/StoreSurvey\"><AnnualSales>800000</AnnualSales><AnnualRevenue>80000</AnnualRevenue><BankName>United Security</BankName><BusinessType>BM</BusinessType><YearOpened>1996</YearOpened><Specialty>Mountain</Specialty><SquareFeet>21000</SquareFeet><Brands>2</Brands><Internet>ISDN</Internet><NumberEmployees>13</NumberEmployees></StoreSurvey>  a22517e3-848d-4ebe-b9d9-7437f3432304 2014-09-12 11:15:07.497000+00:00\n",
      "...                ...                    ...            ...                                                                                                                                                                                                                                                                                                                                                                                                                                   ...                                   ...                              ...\n",
      "3505              2051  A Bicycle Association            275  <StoreSurvey xmlns=\"http://schemas.microsoft.com/sqlserver/2004/07/adventure-works/StoreSurvey\"><AnnualSales>800000</AnnualSales><AnnualRevenue>80000</AnnualRevenue><BankName>International Security</BankName><BusinessType>BM</BusinessType><YearOpened>1975</YearOpened><Specialty>Touring</Specialty><SquareFeet>19000</SquareFeet><Brands>2</Brands><Internet>T1</Internet><NumberEmployees>18</NumberEmployees></StoreSurvey>  82237172-d3fe-4a95-82ef-636f655240ad 2014-09-12 11:15:07.497000+00:00\n",
      "3506              2051  A Bicycle Association            275  <StoreSurvey xmlns=\"http://schemas.microsoft.com/sqlserver/2004/07/adventure-works/StoreSurvey\"><AnnualSales>800000</AnnualSales><AnnualRevenue>80000</AnnualRevenue><BankName>International Security</BankName><BusinessType>BM</BusinessType><YearOpened>1975</YearOpened><Specialty>Touring</Specialty><SquareFeet>19000</SquareFeet><Brands>2</Brands><Internet>T1</Internet><NumberEmployees>18</NumberEmployees></StoreSurvey>  82237172-d3fe-4a95-82ef-636f655240ad 2014-09-12 11:15:07.497000+00:00\n",
      "3507              2051  A Bicycle Association            275  <StoreSurvey xmlns=\"http://schemas.microsoft.com/sqlserver/2004/07/adventure-works/StoreSurvey\"><AnnualSales>800000</AnnualSales><AnnualRevenue>80000</AnnualRevenue><BankName>International Security</BankName><BusinessType>BM</BusinessType><YearOpened>1975</YearOpened><Specialty>Touring</Specialty><SquareFeet>19000</SquareFeet><Brands>2</Brands><Internet>T1</Internet><NumberEmployees>18</NumberEmployees></StoreSurvey>  82237172-d3fe-4a95-82ef-636f655240ad 2014-09-12 11:15:07.497000+00:00\n",
      "3508              2051  A Bicycle Association            275  <StoreSurvey xmlns=\"http://schemas.microsoft.com/sqlserver/2004/07/adventure-works/StoreSurvey\"><AnnualSales>800000</AnnualSales><AnnualRevenue>80000</AnnualRevenue><BankName>International Security</BankName><BusinessType>BM</BusinessType><YearOpened>1975</YearOpened><Specialty>Touring</Specialty><SquareFeet>19000</SquareFeet><Brands>2</Brands><Internet>T1</Internet><NumberEmployees>18</NumberEmployees></StoreSurvey>  82237172-d3fe-4a95-82ef-636f655240ad 2014-09-12 11:15:07.497000+00:00\n",
      "3509              2051  A Bicycle Association            275  <StoreSurvey xmlns=\"http://schemas.microsoft.com/sqlserver/2004/07/adventure-works/StoreSurvey\"><AnnualSales>800000</AnnualSales><AnnualRevenue>80000</AnnualRevenue><BankName>International Security</BankName><BusinessType>BM</BusinessType><YearOpened>1975</YearOpened><Specialty>Touring</Specialty><SquareFeet>19000</SquareFeet><Brands>2</Brands><Internet>T1</Internet><NumberEmployees>18</NumberEmployees></StoreSurvey>  82237172-d3fe-4a95-82ef-636f655240ad 2014-09-12 11:15:07.497000+00:00\n",
      "\n",
      "[7010 rows x 6 columns]\n"
     ]
    }
   ],
   "source": [
    "# Identificar duplicadas com base em 'businessentityid'\n",
    "duplicadas = sales_store[\n",
    "    sales_store.duplicated(subset=['businessentityid'], keep=False)\n",
    "]\n",
    "\n",
    "# Verificar se existem duplicadas\n",
    "if not duplicadas.empty:\n",
    "    # Ordenar duplicadas por 'businessentityid' e 'modifieddate'\n",
    "    duplicadas_ordenadas = duplicadas.sort_values(by=['businessentityid', 'modifieddate'])\n",
    "\n",
    "    # Exibir duplicadas ordenadas\n",
    "    print(\"duplicadas ordenadas:\")\n",
    "    print(duplicadas_ordenadas)\n",
    "else:\n",
    "    print(\"Não foram encontradas duplicadas.\")"
   ]
  },
  {
   "cell_type": "code",
   "execution_count": 9,
   "metadata": {},
   "outputs": [
    {
     "name": "stdout",
     "output_type": "stream",
     "text": [
      "Linhas após remover duplicadas (baseando-se na última 'modifieddate'): 701\n"
     ]
    }
   ],
   "source": [
    "# Remover duplicadas mantendo a última ocorrência com base em 'modifieddate', pois ela que indica a data da última modificação nos dados\n",
    "# Importante, pois se houver erro na ingestão (duplicação), mantém os dados integros.\n",
    "\n",
    "sales_store = sales_store.drop_duplicates(subset=['businessentityid'], keep='last')\n",
    "\n",
    "print(f\"Linhas após remover duplicadas (baseando-se na última 'modifieddate'): {len(sales_store)}\")\n",
    "\n",
    "#bkp dos dados brutos\n",
    "raw_data_bkp_2_sem_duplicadas = sales_store.copy()\n",
    "\n",
    "\n",
    "#doc: bkp = backup (cópia)"
   ]
  },
  {
   "cell_type": "code",
   "execution_count": 10,
   "metadata": {},
   "outputs": [
    {
     "name": "stdout",
     "output_type": "stream",
     "text": [
      "      businessentityid                            name  salespersonid                                                                                                                                                                                                                                                                                                                                                                                                                                demographics                               rowguid                     modifieddate\n",
      "4709               292            Next-Door Bike Store            279            <StoreSurvey xmlns=\"http://schemas.microsoft.com/sqlserver/2004/07/adventure-works/StoreSurvey\"><AnnualSales>800000</AnnualSales><AnnualRevenue>80000</AnnualRevenue><BankName>United Security</BankName><BusinessType>BM</BusinessType><YearOpened>1996</YearOpened><Specialty>Mountain</Specialty><SquareFeet>21000</SquareFeet><Brands>2</Brands><Internet>ISDN</Internet><NumberEmployees>13</NumberEmployees></StoreSurvey>  a22517e3-848d-4ebe-b9d9-7437f3432304 2014-09-12 11:15:07.497000+00:00\n",
      "3919               294  Professional Sales and Service            276           <StoreSurvey xmlns=\"http://schemas.microsoft.com/sqlserver/2004/07/adventure-works/StoreSurvey\"><AnnualSales>800000</AnnualSales><AnnualRevenue>80000</AnnualRevenue><BankName>International Bank</BankName><BusinessType>BM</BusinessType><YearOpened>1991</YearOpened><Specialty>Touring</Specialty><SquareFeet>18000</SquareFeet><Brands>4+</Brands><Internet>T1</Internet><NumberEmployees>14</NumberEmployees></StoreSurvey>  b50ca50b-c601-4a13-b07e-2c63862d71b4 2014-09-12 11:15:07.497000+00:00\n",
      "4159               296                  Riders Company            277      <StoreSurvey xmlns=\"http://schemas.microsoft.com/sqlserver/2004/07/adventure-works/StoreSurvey\"><AnnualSales>800000</AnnualSales><AnnualRevenue>80000</AnnualRevenue><BankName>Primary Bank &amp; Reserve</BankName><BusinessType>BM</BusinessType><YearOpened>1999</YearOpened><Specialty>Road</Specialty><SquareFeet>21000</SquareFeet><Brands>2</Brands><Internet>DSL</Internet><NumberEmployees>15</NumberEmployees></StoreSurvey>  337c3688-1339-4e1a-a08a-b54b23566e49 2014-09-12 11:15:07.497000+00:00\n",
      "3574               298              The Bike Mechanics            275      <StoreSurvey xmlns=\"http://schemas.microsoft.com/sqlserver/2004/07/adventure-works/StoreSurvey\"><AnnualSales>800000</AnnualSales><AnnualRevenue>80000</AnnualRevenue><BankName>International Security</BankName><BusinessType>BM</BusinessType><YearOpened>1994</YearOpened><Specialty>Mountain</Specialty><SquareFeet>18000</SquareFeet><Brands>2</Brands><Internet>DSL</Internet><NumberEmployees>16</NumberEmployees></StoreSurvey>  7894f278-f0c8-4d16-bd75-213fdbf13023 2014-09-12 11:15:07.497000+00:00\n",
      "6259               300               Nationwide Supply            286               <StoreSurvey xmlns=\"http://schemas.microsoft.com/sqlserver/2004/07/adventure-works/StoreSurvey\"><AnnualSales>800000</AnnualSales><AnnualRevenue>80000</AnnualRevenue><BankName>Guardian Bank</BankName><BusinessType>BM</BusinessType><YearOpened>1987</YearOpened><Specialty>Touring</Specialty><SquareFeet>21000</SquareFeet><Brands>4+</Brands><Internet>DSL</Internet><NumberEmployees>17</NumberEmployees></StoreSurvey>  c3fc9705-a8c4-4f3a-9550-eb2fa4b7b64d 2014-09-12 11:15:07.497000+00:00\n",
      "...                ...                             ...            ...                                                                                                                                                                                                                                                                                                                                                                                                                                         ...                                   ...                              ...\n",
      "5934              1988                     Retreat Inn            282        <StoreSurvey xmlns=\"http://schemas.microsoft.com/sqlserver/2004/07/adventure-works/StoreSurvey\"><AnnualSales>300000</AnnualSales><AnnualRevenue>30000</AnnualRevenue><BankName>Primary Bank &amp; Reserve</BankName><BusinessType>BM</BusinessType><YearOpened>1982</YearOpened><Specialty>Road</Specialty><SquareFeet>7000</SquareFeet><Brands>4+</Brands><Internet>T2</Internet><NumberEmployees>8</NumberEmployees></StoreSurvey>  ea21ec81-1bfa-4a07-9b4d-73d9852afcbf 2014-09-12 11:15:07.497000+00:00\n",
      "5559              1990   Technical Parts Manufacturing            281         <StoreSurvey xmlns=\"http://schemas.microsoft.com/sqlserver/2004/07/adventure-works/StoreSurvey\"><AnnualSales>300000</AnnualSales><AnnualRevenue>30000</AnnualRevenue><BankName>International Security</BankName><BusinessType>BM</BusinessType><YearOpened>1976</YearOpened><Specialty>Touring</Specialty><SquareFeet>7000</SquareFeet><Brands>4+</Brands><Internet>T1</Internet><NumberEmployees>5</NumberEmployees></StoreSurvey>  c8e3c4ed-8f58-4db2-b600-e0cd11d9cfad 2014-09-12 11:15:07.497000+00:00\n",
      "4409              1992         Totes & Baskets Company            277                    <StoreSurvey xmlns=\"http://schemas.microsoft.com/sqlserver/2004/07/adventure-works/StoreSurvey\"><AnnualSales>300000</AnnualSales><AnnualRevenue>30000</AnnualRevenue><BankName>Guardian Bank</BankName><BusinessType>BM</BusinessType><YearOpened>1970</YearOpened><Specialty>Road</Specialty><SquareFeet>6000</SquareFeet><Brands>4+</Brands><Internet>DSL</Internet><NumberEmployees>2</NumberEmployees></StoreSurvey>  ce860b58-643c-4567-bfd8-06e97969cc67 2014-09-12 11:15:07.497000+00:00\n",
      "4419              1994                  World of Bikes            277  <StoreSurvey xmlns=\"http://schemas.microsoft.com/sqlserver/2004/07/adventure-works/StoreSurvey\"><AnnualSales>800000</AnnualSales><AnnualRevenue>80000</AnnualRevenue><BankName>Primary Bank &amp; Reserve</BankName><BusinessType>BM</BusinessType><YearOpened>1997</YearOpened><Specialty>Mountain</Specialty><SquareFeet>19000</SquareFeet><Brands>4+</Brands><Internet>T1</Internet><NumberEmployees>17</NumberEmployees></StoreSurvey>  0c10f2b6-a13a-440c-9c25-5b28d482872a 2014-09-12 11:15:07.497000+00:00\n",
      "3509              2051           A Bicycle Association            275        <StoreSurvey xmlns=\"http://schemas.microsoft.com/sqlserver/2004/07/adventure-works/StoreSurvey\"><AnnualSales>800000</AnnualSales><AnnualRevenue>80000</AnnualRevenue><BankName>International Security</BankName><BusinessType>BM</BusinessType><YearOpened>1975</YearOpened><Specialty>Touring</Specialty><SquareFeet>19000</SquareFeet><Brands>2</Brands><Internet>T1</Internet><NumberEmployees>18</NumberEmployees></StoreSurvey>  82237172-d3fe-4a95-82ef-636f655240ad 2014-09-12 11:15:07.497000+00:00\n",
      "\n",
      "[701 rows x 6 columns]\n"
     ]
    }
   ],
   "source": [
    "# Ordenar e exibir o df por 'businessentityid'\n",
    "sales_store = sales_store.sort_values(by=['businessentityid'])\n",
    "\n",
    "print(sales_store)"
   ]
  },
  {
   "cell_type": "code",
   "execution_count": 11,
   "metadata": {},
   "outputs": [
    {
     "name": "stdout",
     "output_type": "stream",
     "text": [
      "Coluna 'businessentityid': 0 linhas ausentes.\n",
      "Nenhuma linha com valores ausentes em 'businessentityid'.\n",
      "\n",
      "Coluna 'name': 0 linhas ausentes.\n",
      "Nenhuma linha com valores ausentes em 'name'.\n",
      "\n",
      "Coluna 'salespersonid': 0 linhas ausentes.\n",
      "Nenhuma linha com valores ausentes em 'salespersonid'.\n",
      "\n",
      "Coluna 'demographics': 0 linhas ausentes.\n",
      "Nenhuma linha com valores ausentes em 'demographics'.\n",
      "\n",
      "Coluna 'rowguid': 0 linhas ausentes.\n",
      "Nenhuma linha com valores ausentes em 'rowguid'.\n",
      "\n",
      "Coluna 'modifieddate': 0 linhas ausentes.\n",
      "Nenhuma linha com valores ausentes em 'modifieddate'.\n",
      "\n"
     ]
    }
   ],
   "source": [
    "# Iterar por todas as colunas do df, para verificar valores ausentes\n",
    "\n",
    "# Verificar valores ausentes na coluna\n",
    "for column in sales_store.columns:   \n",
    "    missing_rows = sales_store[sales_store[column].isnull()]\n",
    "    print(f\"Coluna '{column}': {missing_rows.shape[0]} linhas ausentes.\")\n",
    "    \n",
    "# Mostrar as primeiras linhas ausentes, se preciso for, limitar o head() para dar menos outputs ou limitar os outputs\n",
    "    if not missing_rows.empty:\n",
    "        print(f\"Exibindo as primeiras linhas com valores ausentes em '{column}':\")\n",
    "        print(missing_rows.head(), \"\\n\")\n",
    "    else:\n",
    "        print(f\"Nenhuma linha com valores ausentes em '{column}'.\\n\")"
   ]
  },
  {
   "cell_type": "code",
   "execution_count": 12,
   "metadata": {},
   "outputs": [
    {
     "name": "stdout",
     "output_type": "stream",
     "text": [
      "Colunas restantes após remoção:\n",
      "Index(['businessentityid', 'name', 'salespersonid', 'rowguid', 'modifieddate'], dtype='object')\n"
     ]
    }
   ],
   "source": [
    "#deletar coluna desnecessárias\n",
    "sales_store = sales_store.drop(columns=['demographics'])\n",
    "\n",
    "print(\"Colunas restantes após remoção:\")\n",
    "print(sales_store.columns)"
   ]
  },
  {
   "cell_type": "code",
   "execution_count": 13,
   "metadata": {},
   "outputs": [
    {
     "name": "stdout",
     "output_type": "stream",
     "text": [
      "Valores únicos incluindo NaN:\n",
      "businessentityid    701\n",
      "name                699\n",
      "salespersonid        13\n",
      "rowguid             701\n",
      "modifieddate          1\n",
      "dtype: int64\n"
     ]
    }
   ],
   "source": [
    "# Valores únicos por coluna, para verificar se colunas como flags, normalmente booleanas, possuem apenas 1 ou 2 valores.\n",
    "\n",
    "valores_unicos = sales_store.nunique(dropna=False)\n",
    "\n",
    "print(\"Valores únicos incluindo NaN:\")\n",
    "print(valores_unicos)\n",
    "\n",
    "#doc: currentflag possue somente 1 valor, o que indica que pode ser somente valores True ou False."
   ]
  },
  {
   "cell_type": "code",
   "execution_count": 14,
   "metadata": {},
   "outputs": [
    {
     "name": "stdout",
     "output_type": "stream",
     "text": [
      "<class 'pandas.core.frame.DataFrame'>\n",
      "Index: 701 entries, 4709 to 3509\n",
      "Data columns (total 5 columns):\n",
      " #   Column            Non-Null Count  Dtype              \n",
      "---  ------            --------------  -----              \n",
      " 0   businessentityid  701 non-null    Int64              \n",
      " 1   name              701 non-null    object             \n",
      " 2   salespersonid     701 non-null    Int64              \n",
      " 3   rowguid           701 non-null    object             \n",
      " 4   modifieddate      701 non-null    datetime64[us, UTC]\n",
      "dtypes: Int64(2), datetime64[us, UTC](1), object(2)\n",
      "memory usage: 34.2+ KB\n"
     ]
    }
   ],
   "source": [
    "#verificar informações do df\n",
    "sales_store.info()"
   ]
  },
  {
   "cell_type": "code",
   "execution_count": 15,
   "metadata": {},
   "outputs": [
    {
     "name": "stdout",
     "output_type": "stream",
     "text": [
      "                                     qtde.      %\n",
      "name                                             \n",
      "Sports Products Store                    2  0.29%\n",
      "Friendly Bike Shop                       2  0.29%\n",
      "Next-Door Bike Store                     1  0.14%\n",
      "Road Way Sales and Rental                1  0.14%\n",
      "Beneficial Exercises and Activities      1  0.14%\n",
      "Fad Outlet                               1  0.14%\n",
      "Commerce Bicycle Specialists             1  0.14%\n",
      "Township Inn                             1  0.14%\n",
      "Acceptable Sales & Service               1  0.14%\n",
      "Brown Bicycle Company                    1  0.14%\n"
     ]
    }
   ],
   "source": [
    "#avaliando as variáveis qualitativas*\n",
    "\n",
    "coluna_quantitativa = [\"name\"]\n",
    "for col in coluna_quantitativa:\n",
    "    counts = sales_store[col].value_counts().nlargest(10)\n",
    "    percentages = (counts / sales_store.shape[0] * 100).map(\"{:.2f}%\".format)\n",
    "    summary = pd.DataFrame({\"qtde.\": counts, \"%\": percentages})\n",
    "    print(summary)    \n",
    "\n",
    "\n",
    "#doc*: variáveis qualitativas são um tipo de variável estatística que representam características ou atributos dos dados, sem serem medidas numericamente\n",
    "#      no nosso caso, name, por exemplo"
   ]
  },
  {
   "cell_type": "code",
   "execution_count": 16,
   "metadata": {},
   "outputs": [
    {
     "data": {
      "image/png": "[encoded data removed]",
      "text/plain": [
       "<Figure size 600x300 with 1 Axes>"
      ]
     },
     "metadata": {},
     "output_type": "display_data"
    }
   ],
   "source": [
    "# Dados ajustados com as 5 primeiras lojas, em ordem decrescente\n",
    "top_5_stores = sales_store['name'].value_counts().nlargest(5).sort_values(ascending=True)\n",
    "\n",
    "names = top_5_stores.index\n",
    "values = top_5_stores.values\n",
    "\n",
    "# Criar o gráfico de barras horizontais\n",
    "plt.figure(figsize=(6, 3))\n",
    "plt.barh(names, values, color='green', edgecolor='black', alpha=0.7)\n",
    "\n",
    "# Adicionar título\n",
    "plt.title('Lojas vs Quantidade', fontsize=14, color='white')\n",
    "\n",
    "# Ajustar cor do plano de fundo e rótulos\n",
    "plt.gca().set_facecolor('black')\n",
    "plt.gcf().set_facecolor('black')\n",
    "plt.tick_params(axis='x', bottom=False, labelbottom=False)  # Remove valores do eixo X\n",
    "plt.tick_params(axis='y', colors='white')\n",
    "\n",
    "# Remover títulos dos eixos\n",
    "plt.xlabel(\"\")\n",
    "plt.ylabel(\"\")\n",
    "\n",
    "# Adicionar valores ao lado das barras\n",
    "for index, value in enumerate(values):\n",
    "    plt.text(value + 0.1, index, f'{value}', va='center', fontsize=12, color='white')\n",
    "\n",
    "# Mostrar o gráfico\n",
    "plt.tight_layout()\n",
    "plt.show()\n"
   ]
  },
  {
   "cell_type": "code",
   "execution_count": 17,
   "metadata": {},
   "outputs": [],
   "source": [
    "# Atualizar o dicionário df_processados com o df ajustado\n",
    "df_processados['sales_store'] = sales_store"
   ]
  },
  {
   "cell_type": "code",
   "execution_count": 18,
   "metadata": {},
   "outputs": [
    {
     "data": {
      "text/html": [
       "<div>\n",
       "<style scoped>\n",
       "    .dataframe tbody tr th:only-of-type {\n",
       "        vertical-align: middle;\n",
       "    }\n",
       "\n",
       "    .dataframe tbody tr th {\n",
       "        vertical-align: top;\n",
       "    }\n",
       "\n",
       "    .dataframe thead th {\n",
       "        text-align: right;\n",
       "    }\n",
       "</style>\n",
       "<table border=\"1\" class=\"dataframe\">\n",
       "  <thead>\n",
       "    <tr style=\"text-align: right;\">\n",
       "      <th></th>\n",
       "      <th>businessentityid</th>\n",
       "      <th>name</th>\n",
       "      <th>salespersonid</th>\n",
       "      <th>rowguid</th>\n",
       "      <th>modifieddate</th>\n",
       "    </tr>\n",
       "  </thead>\n",
       "  <tbody>\n",
       "    <tr>\n",
       "      <th>4709</th>\n",
       "      <td>292</td>\n",
       "      <td>Next-Door Bike Store</td>\n",
       "      <td>279</td>\n",
       "      <td>a22517e3-848d-4ebe-b9d9-7437f3432304</td>\n",
       "      <td>2014-09-12 11:15:07.497000+00:00</td>\n",
       "    </tr>\n",
       "    <tr>\n",
       "      <th>3919</th>\n",
       "      <td>294</td>\n",
       "      <td>Professional Sales and Service</td>\n",
       "      <td>276</td>\n",
       "      <td>b50ca50b-c601-4a13-b07e-2c63862d71b4</td>\n",
       "      <td>2014-09-12 11:15:07.497000+00:00</td>\n",
       "    </tr>\n",
       "    <tr>\n",
       "      <th>4159</th>\n",
       "      <td>296</td>\n",
       "      <td>Riders Company</td>\n",
       "      <td>277</td>\n",
       "      <td>337c3688-1339-4e1a-a08a-b54b23566e49</td>\n",
       "      <td>2014-09-12 11:15:07.497000+00:00</td>\n",
       "    </tr>\n",
       "    <tr>\n",
       "      <th>3574</th>\n",
       "      <td>298</td>\n",
       "      <td>The Bike Mechanics</td>\n",
       "      <td>275</td>\n",
       "      <td>7894f278-f0c8-4d16-bd75-213fdbf13023</td>\n",
       "      <td>2014-09-12 11:15:07.497000+00:00</td>\n",
       "    </tr>\n",
       "    <tr>\n",
       "      <th>6259</th>\n",
       "      <td>300</td>\n",
       "      <td>Nationwide Supply</td>\n",
       "      <td>286</td>\n",
       "      <td>c3fc9705-a8c4-4f3a-9550-eb2fa4b7b64d</td>\n",
       "      <td>2014-09-12 11:15:07.497000+00:00</td>\n",
       "    </tr>\n",
       "  </tbody>\n",
       "</table>\n",
       "</div>"
      ],
      "text/plain": [
       "      businessentityid                            name  salespersonid                               rowguid                     modifieddate\n",
       "4709               292            Next-Door Bike Store            279  a22517e3-848d-4ebe-b9d9-7437f3432304 2014-09-12 11:15:07.497000+00:00\n",
       "3919               294  Professional Sales and Service            276  b50ca50b-c601-4a13-b07e-2c63862d71b4 2014-09-12 11:15:07.497000+00:00\n",
       "4159               296                  Riders Company            277  337c3688-1339-4e1a-a08a-b54b23566e49 2014-09-12 11:15:07.497000+00:00\n",
       "3574               298              The Bike Mechanics            275  7894f278-f0c8-4d16-bd75-213fdbf13023 2014-09-12 11:15:07.497000+00:00\n",
       "6259               300               Nationwide Supply            286  c3fc9705-a8c4-4f3a-9550-eb2fa4b7b64d 2014-09-12 11:15:07.497000+00:00"
      ]
     },
     "execution_count": 18,
     "metadata": {},
     "output_type": "execute_result"
    }
   ],
   "source": [
    "sales_store.head()"
   ]
  },
  {
   "cell_type": "code",
   "execution_count": 19,
   "metadata": {},
   "outputs": [
    {
     "name": "stdout",
     "output_type": "stream",
     "text": [
      "      businessentityid                            name  salespersonid                               rowguid                     modifieddate\n",
      "4709               292            NEXT-DOOR BIKE STORE            279  A22517E3-848D-4EBE-B9D9-7437F3432304 2014-09-12 11:15:07.497000+00:00\n",
      "3919               294  PROFESSIONAL SALES AND SERVICE            276  B50CA50B-C601-4A13-B07E-2C63862D71B4 2014-09-12 11:15:07.497000+00:00\n",
      "4159               296                  RIDERS COMPANY            277  337C3688-1339-4E1A-A08A-B54B23566E49 2014-09-12 11:15:07.497000+00:00\n",
      "3574               298              THE BIKE MECHANICS            275  7894F278-F0C8-4D16-BD75-213FDBF13023 2014-09-12 11:15:07.497000+00:00\n",
      "6259               300               NATIONWIDE SUPPLY            286  C3FC9705-A8C4-4F3A-9550-EB2FA4B7B64D 2014-09-12 11:15:07.497000+00:00\n"
     ]
    }
   ],
   "source": [
    "# Padronizar colunas com valores textuais\n",
    "sales_store['name'] = sales_store['name'].str.strip().str.upper()\n",
    "sales_store['rowguid'] = sales_store['rowguid'].str.strip().str.upper()\n",
    "\n",
    "print(sales_store.head())\n",
    "\n",
    "#doc: padronizar as strings nessa etapa, contribui para a execução das demais etapas do pipeline"
   ]
  },
  {
   "cell_type": "code",
   "execution_count": 20,
   "metadata": {},
   "outputs": [
    {
     "name": "stdout",
     "output_type": "stream",
     "text": [
      "Tabela sales_store exportada com sucesso para desafioadventureworks-446600.raw_data_cleaned.sales_store.\n"
     ]
    }
   ],
   "source": [
    "\n",
    "# Garantir que apenas tabelas únicas sejam exportadas\n",
    "unique_df_processados = {k: v for k, v in df_processados.items()}\n",
    "\n",
    "# Exportar tabelas para o BigQuery\n",
    "for table_name, df_cleaned in unique_df_processados.items():\n",
    "    # Nome da tabela no BigQuery\n",
    "    output_table = f\"{output_dataset}.{table_name}\"\n",
    "\n",
    "    # Configurar job de exportação\n",
    "    job_config = bigquery.LoadJobConfig(\n",
    "        write_disposition=\"WRITE_TRUNCATE\"  \n",
    "    )\n",
    "    \n",
    "    # Exportar DataFrame para o BigQuery\n",
    "    job = client.load_table_from_dataframe(df_cleaned, output_table, job_config=job_config)\n",
    "    job.result()\n",
    "\n",
    "    print(f\"Tabela {table_name} exportada com sucesso para {output_table}.\")"
   ]
  },
  {
   "cell_type": "markdown",
   "metadata": {},
   "source": []
  }
 ],
 "metadata": {
  "kernelspec": {
   "display_name": "venv",
   "language": "python",
   "name": "python3"
  },
  "language_info": {
   "codemirror_mode": {
    "name": "ipython",
    "version": 3
   },
   "file_extension": ".py",
   "mimetype": "text/x-python",
   "name": "python",
   "nbconvert_exporter": "python",
   "pygments_lexer": "ipython3",
   "version": "3.10.9"
  }
 },
 "nbformat": 4,
 "nbformat_minor": 2
}
