{
 "cells": [
  {
   "cell_type": "markdown",
   "metadata": {},
   "source": [
    "### SETUP INICIAL DO PROJETO"
   ]
  },
  {
   "cell_type": "code",
   "execution_count": 1,
   "metadata": {},
   "outputs": [],
   "source": [
    "\n",
    "#importação das bibliotecase e pacotes necessários para a análise\n",
    "\n",
    "import json\n",
    "import numpy as np\n",
    "import os\n",
    "import pandas as pd\n",
    "import pandas_gbq as gbq\n",
    "import re\n",
    "import seaborn as sns\n",
    "import matplotlib.pyplot as plt\n",
    "from dotenv import load_dotenv\n",
    "from google.cloud import bigquery\n",
    "from google.cloud.bigquery_storage import BigQueryReadClient\n",
    "from google.oauth2 import service_account\n",
    "\n",
    "# Carrega o .env: onde estão as credenciais do projeto/repositório\n",
    "load_dotenv(\"/mnt/c/Users/wrpen/OneDrive/Desktop/df_lh/.env\")\n",
    "\n",
    "# Detectar ambiente: como eu estou usando wsl-ubuntu, no VS Code  -  Windows, estava dando conflitos de path\n",
    "if os.name == \"nt\":  # se Windows\n",
    "    credentials_path = r\"C:\\Temp\\desafiolh-445818-3cb0f62cb9ef.json\"\n",
    "else:  # se WSL/Linux\n",
    "    credentials_path = \"/mnt/c/Temp/desafiolh-445818-3cb0f62cb9ef.json\"\n",
    "\n",
    "# Parâmetros injetados pelo Papermill ou definidos manualmente, caso não existam no ambiente\n",
    "# Tables_to_process: lista de tabelas que serão processadas\n",
    "# Output_dataset: nome do dataset onde os dados processados serão armazenados, neste caso, raw_data_cleaned\n",
    "if 'tables_to_process' not in locals():\n",
    "    tables_to_process = [\n",
    "        \"desafioadventureworks-446600.raw_data.purchasing-vendor\"       \n",
    "    ]\n",
    "\n",
    "if 'output_dataset' not in locals():\n",
    "    output_dataset = \"desafioadventureworks-446600.raw_data_cleaned\"\n",
    "\n",
    "# Configs do cliente BigQuery: input de project e location de acordo com dados no Bigquery\n",
    "credentials = service_account.Credentials.from_service_account_file(credentials_path)\n",
    "client = bigquery.Client(credentials=credentials, project=os.getenv(\"BIGQUERY_PROJECT\"), location=\"us-central1\")\n"
   ]
  },
  {
   "cell_type": "code",
   "execution_count": 2,
   "metadata": {},
   "outputs": [
    {
     "name": "stdout",
     "output_type": "stream",
     "text": [
      "Tabelas a processar: ['desafioadventureworks-446600.raw_data.purchasing-vendor']\n"
     ]
    }
   ],
   "source": [
    "# Print com a tabela que vai ser processada nesse notebook\n",
    "\n",
    "print(\"Tabelas a processar:\", tables_to_process)"
   ]
  },
  {
   "cell_type": "code",
   "execution_count": 3,
   "metadata": {},
   "outputs": [
    {
     "name": "stdout",
     "output_type": "stream",
     "text": [
      "raw_data\n",
      "Tabelas disponíveis:\n",
      "humanresources-employee\n",
      "person-address\n",
      "person-businessentity\n",
      "person-person\n",
      "person-stateprovince\n",
      "production-location\n",
      "production-product\n",
      "production-productcategory\n",
      "production-productcosthistory\n",
      "production-productinventory\n",
      "production-productsubcategory\n",
      "purchasing-purchaseorderdetail\n",
      "purchasing-purchaseorderheader\n",
      "purchasing-vendor\n",
      "sales-creditcard\n",
      "sales-customer\n",
      "sales-salesorderdetail\n",
      "sales-salesorderheader\n",
      "sales-salesperson\n",
      "sales-salesterritory\n",
      "sales-store\n"
     ]
    }
   ],
   "source": [
    "# Nome do dataset no Bigquery com os dados brutos (.csv) extraídos pelo Meltano \n",
    "dataset_id = 'raw_data'\n",
    "print(dataset_id)\n",
    "\n",
    "# Lista de tabelas do dataset raw_data no Bigquery\n",
    "tables = client.list_tables('raw_data')\n",
    "print(\"Tabelas disponíveis:\")\n",
    "for table in tables:\n",
    "    print(table.table_id)"
   ]
  },
  {
   "cell_type": "markdown",
   "metadata": {},
   "source": [
    "# Exploratory Data Analysis (EDA) e Data Cleaning"
   ]
  },
  {
   "cell_type": "markdown",
   "metadata": {},
   "source": [
    "### Glossário dos dados:\n",
    "\n",
    "O termo ''doc:'', situado no rodapé de algumas cells, indica algo como:\n",
    "\n",
    "- documentação: documentar decisões, análises e resultados;\n",
    "\n",
    "- abreviações de termos, como bkp, df, entre outros."
   ]
  },
  {
   "cell_type": "code",
   "execution_count": 4,
   "metadata": {},
   "outputs": [],
   "source": [
    "# Configuração para que o df exiba todas as colunas e todas as linhas completas, e também, exiba o formato numérico com 2 dígitos após a vírgula\n",
    "\n",
    "pd.set_option('display.max_columns', None)\n",
    "#pd.set_option('display.max_rows', None)\n",
    "pd.set_option('display.max_colwidth', None)\n",
    "pd.set_option('display.width', 10000)\n",
    "pd.options.display.float_format = '{:.2f}'.format\n",
    "\n",
    "\n",
    "#doc: df = dataframe  "
   ]
  },
  {
   "cell_type": "code",
   "execution_count": 5,
   "metadata": {},
   "outputs": [
    {
     "name": "stdout",
     "output_type": "stream",
     "text": [
      "Processando tabela: desafioadventureworks-446600.raw_data.purchasing-vendor\n",
      "Lendo os dados do BigQuery...\n",
      "Tabela purchasing_vendor processada e armazenada com sucesso.\n",
      "Todas as tabelas foram processadas com sucesso!\n"
     ]
    }
   ],
   "source": [
    "# Dicionário para armazenar os df processados\n",
    "df_processados = {}\n",
    "\n",
    "# Iteração das tabelas e armazenamento em df\n",
    "for input_table in tables_to_process:\n",
    "    print(f\"Processando tabela: {input_table}\")\n",
    "    \n",
    "    # Nome da tabela com substituição de '-' por '_'\n",
    "    table_name = input_table.split(\".\")[-1].replace(\"-\", \"_\")  \n",
    "    \n",
    "    # Ler os dados da tabela do BigQuery para um df\n",
    "    print(\"Lendo os dados do BigQuery...\")\n",
    "    query = f\"SELECT * FROM `{input_table}`\"\n",
    "    table_data = client.query(query).to_dataframe()\n",
    "    \n",
    "    # Armazenar o df no dicionário\n",
    "    df_processados[table_name] = table_data\n",
    "    print(f\"Tabela {table_name} processada e armazenada com sucesso.\")\n",
    "\n",
    "# Print de validação\n",
    "print(\"Todas as tabelas foram processadas com sucesso!\")\n"
   ]
  },
  {
   "cell_type": "code",
   "execution_count": 6,
   "metadata": {},
   "outputs": [
    {
     "name": "stdout",
     "output_type": "stream",
     "text": [
      "Variável criada: purchasing_vendor\n"
     ]
    }
   ],
   "source": [
    "# Listar todas as variáveis criadas dinamicamente\n",
    "for table_name in df_processados.keys():\n",
    "    print(f\"Variável criada: {table_name}\")  "
   ]
  },
  {
   "cell_type": "code",
   "execution_count": 7,
   "metadata": {},
   "outputs": [
    {
     "name": "stdout",
     "output_type": "stream",
     "text": [
      "Colunas: 8\n",
      "Linhas: 104\n"
     ]
    }
   ],
   "source": [
    "# Atribuir o df a uma variável com nome mais simples\n",
    "purchasing_vendor = df_processados['purchasing_vendor']\n",
    "\n",
    "print(f\"Colunas: {purchasing_vendor.shape[1]}\\nLinhas: {purchasing_vendor.shape[0]}\")"
   ]
  },
  {
   "cell_type": "code",
   "execution_count": 8,
   "metadata": {},
   "outputs": [
    {
     "data": {
      "text/html": [
       "<div>\n",
       "<style scoped>\n",
       "    .dataframe tbody tr th:only-of-type {\n",
       "        vertical-align: middle;\n",
       "    }\n",
       "\n",
       "    .dataframe tbody tr th {\n",
       "        vertical-align: top;\n",
       "    }\n",
       "\n",
       "    .dataframe thead th {\n",
       "        text-align: right;\n",
       "    }\n",
       "</style>\n",
       "<table border=\"1\" class=\"dataframe\">\n",
       "  <thead>\n",
       "    <tr style=\"text-align: right;\">\n",
       "      <th></th>\n",
       "      <th>businessentityid</th>\n",
       "      <th>accountnumber</th>\n",
       "      <th>name</th>\n",
       "      <th>creditrating</th>\n",
       "      <th>preferredvendorstatus</th>\n",
       "      <th>activeflag</th>\n",
       "      <th>purchasingwebserviceurl</th>\n",
       "      <th>modifieddate</th>\n",
       "    </tr>\n",
       "  </thead>\n",
       "  <tbody>\n",
       "    <tr>\n",
       "      <th>0</th>\n",
       "      <td>1532</td>\n",
       "      <td>KNOPFLER0001</td>\n",
       "      <td>Knopfler Cycles</td>\n",
       "      <td>1</td>\n",
       "      <td>True</td>\n",
       "      <td>True</td>\n",
       "      <td>None</td>\n",
       "      <td>2012-01-29 00:00:00+00:00</td>\n",
       "    </tr>\n",
       "    <tr>\n",
       "      <th>1</th>\n",
       "      <td>1546</td>\n",
       "      <td>GREENLA0001</td>\n",
       "      <td>Green Lake Bike Company</td>\n",
       "      <td>1</td>\n",
       "      <td>True</td>\n",
       "      <td>True</td>\n",
       "      <td>None</td>\n",
       "      <td>2012-01-29 00:00:00+00:00</td>\n",
       "    </tr>\n",
       "    <tr>\n",
       "      <th>2</th>\n",
       "      <td>1592</td>\n",
       "      <td>LINDELL0001</td>\n",
       "      <td>Lindell</td>\n",
       "      <td>1</td>\n",
       "      <td>True</td>\n",
       "      <td>True</td>\n",
       "      <td>None</td>\n",
       "      <td>2012-01-29 00:00:00+00:00</td>\n",
       "    </tr>\n",
       "    <tr>\n",
       "      <th>3</th>\n",
       "      <td>1618</td>\n",
       "      <td>METROSP0001</td>\n",
       "      <td>Metro Sport Equipment</td>\n",
       "      <td>1</td>\n",
       "      <td>True</td>\n",
       "      <td>True</td>\n",
       "      <td>None</td>\n",
       "      <td>2012-01-29 00:00:00+00:00</td>\n",
       "    </tr>\n",
       "    <tr>\n",
       "      <th>4</th>\n",
       "      <td>1620</td>\n",
       "      <td>LAKEWOOD0001</td>\n",
       "      <td>Lakewood Bicycle</td>\n",
       "      <td>1</td>\n",
       "      <td>True</td>\n",
       "      <td>True</td>\n",
       "      <td>None</td>\n",
       "      <td>2012-01-29 00:00:00+00:00</td>\n",
       "    </tr>\n",
       "  </tbody>\n",
       "</table>\n",
       "</div>"
      ],
      "text/plain": [
       "   businessentityid accountnumber                     name  creditrating  preferredvendorstatus  activeflag purchasingwebserviceurl              modifieddate\n",
       "0              1532  KNOPFLER0001          Knopfler Cycles             1                   True        True                    None 2012-01-29 00:00:00+00:00\n",
       "1              1546   GREENLA0001  Green Lake Bike Company             1                   True        True                    None 2012-01-29 00:00:00+00:00\n",
       "2              1592   LINDELL0001                  Lindell             1                   True        True                    None 2012-01-29 00:00:00+00:00\n",
       "3              1618   METROSP0001    Metro Sport Equipment             1                   True        True                    None 2012-01-29 00:00:00+00:00\n",
       "4              1620  LAKEWOOD0001         Lakewood Bicycle             1                   True        True                    None 2012-01-29 00:00:00+00:00"
      ]
     },
     "execution_count": 8,
     "metadata": {},
     "output_type": "execute_result"
    }
   ],
   "source": [
    "purchasing_vendor.head()"
   ]
  },
  {
   "cell_type": "code",
   "execution_count": 9,
   "metadata": {},
   "outputs": [
    {
     "name": "stdout",
     "output_type": "stream",
     "text": [
      "Quantidade de valores distintos: 6\n",
      "Valores distintos:\n",
      "[None 'www.litwareinc.com/' 'www.northwindtraders.com/' 'www.adatum.com/'\n",
      " 'www.wideworldimporters.com/' 'www.treyresearch.net/'\n",
      " 'www.proseware.com/']\n"
     ]
    }
   ],
   "source": [
    "# Obter os valores distintos da coluna\n",
    "distinct_values = purchasing_vendor['purchasingwebserviceurl'].unique()\n",
    "\n",
    "# Contar a quantidade de valores distintos\n",
    "distinct_count = purchasing_vendor['purchasingwebserviceurl'].nunique()\n",
    "\n",
    "# Exibir os resultados\n",
    "print(f\"Quantidade de valores distintos: {distinct_count}\")\n",
    "print(\"Valores distintos:\")\n",
    "print(distinct_values)\n"
   ]
  },
  {
   "cell_type": "code",
   "execution_count": 10,
   "metadata": {},
   "outputs": [],
   "source": [
    "# Remover a coluna 'purchasingwebserviceurl'\n",
    "purchasing_vendor = purchasing_vendor.drop(columns=['purchasingwebserviceurl'])\n"
   ]
  },
  {
   "cell_type": "code",
   "execution_count": 11,
   "metadata": {},
   "outputs": [
    {
     "name": "stdout",
     "output_type": "stream",
     "text": [
      "Não foram encontradas duplicadas.\n"
     ]
    }
   ],
   "source": [
    "# Identificar duplicadas com base em 'businessentityid'\n",
    "duplicadas = purchasing_vendor[\n",
    "    purchasing_vendor.duplicated(subset=['businessentityid'], keep=False)\n",
    "]\n",
    "\n",
    "# Verificar se existem duplicadas\n",
    "if not duplicadas.empty:\n",
    "    # Ordenar duplicadas por 'businessentityid' e 'modifieddate'\n",
    "    duplicadas_ordenadas = duplicadas.sort_values(by=['businessentityid', 'modifieddate'])\n",
    "\n",
    "    # Exibir duplicadas ordenadas\n",
    "    print(\"duplicadas ordenadas:\")\n",
    "    print(duplicadas_ordenadas)\n",
    "else:\n",
    "    print(\"Não foram encontradas duplicadas.\")"
   ]
  },
  {
   "cell_type": "code",
   "execution_count": 12,
   "metadata": {},
   "outputs": [
    {
     "name": "stdout",
     "output_type": "stream",
     "text": [
      "Linhas após remover duplicadas (baseando-se na última 'modifieddate'): 104\n"
     ]
    }
   ],
   "source": [
    "# Remover duplicadas mantendo a última ocorrência com base em 'modifieddate', pois ela que indica a data da última modificação nos dados\n",
    "# Importante, pois se houver erro na ingestão (duplicação), mantém os dados integros.\n",
    "\n",
    "purchasing_vendor = purchasing_vendor.drop_duplicates(subset=['businessentityid'], keep='last')\n",
    "\n",
    "print(f\"Linhas após remover duplicadas (baseando-se na última 'modifieddate'): {len(purchasing_vendor)}\")\n",
    "\n",
    "#bkp dos dados brutos\n",
    "raw_data_bkp_2_sem_duplicadas = purchasing_vendor.copy()\n",
    "\n",
    "\n",
    "#doc: bkp = backup (cópia)"
   ]
  },
  {
   "cell_type": "code",
   "execution_count": 13,
   "metadata": {},
   "outputs": [
    {
     "name": "stdout",
     "output_type": "stream",
     "text": [
      "    businessentityid accountnumber                       name  creditrating  preferredvendorstatus  activeflag              modifieddate\n",
      "6               1492  AUSTRALI0001    Australia Bike Retailer             1                   True        True 2011-12-23 00:00:00+00:00\n",
      "85              1494  ALLENSON0001            Allenson Cycles             2                   True        True 2011-04-25 00:00:00+00:00\n",
      "15              1496  ADVANCED0001          Advanced Bicycles             1                   True        True 2011-04-25 00:00:00+00:00\n",
      "92              1498    TRIKES0001               Trikes, Inc.             2                   True        True 2012-02-03 00:00:00+00:00\n",
      "26              1500   MORGANB0001    Morgan Bike Accessories             1                   True        True 2012-02-02 00:00:00+00:00\n",
      "..               ...           ...                        ...           ...                    ...         ...                       ...\n",
      "14              1690  BLOOMING0001     Bloomington Multisport             1                   True        True 2011-12-23 00:00:00+00:00\n",
      "91              1692   CARLSON0001        Carlson Specialties             2                   True        True 2011-12-24 00:00:00+00:00\n",
      "69              1694   COMPETE0002              Compete, Inc.             1                   True        True 2011-12-24 00:00:00+00:00\n",
      "70              1696   CHICAGO0001       Chicago City Saddles             1                   True        True 2011-12-24 00:00:00+00:00\n",
      "84              1698  BUSINESS0001  Business Equipment Center             2                   True        True 2011-12-23 00:00:00+00:00\n",
      "\n",
      "[104 rows x 7 columns]\n"
     ]
    }
   ],
   "source": [
    "# Ordenar e exibir o df por 'businessentityid'\n",
    "purchasing_vendor = purchasing_vendor.sort_values(by=['businessentityid'])\n",
    "\n",
    "print(purchasing_vendor)"
   ]
  },
  {
   "cell_type": "code",
   "execution_count": 14,
   "metadata": {},
   "outputs": [
    {
     "name": "stdout",
     "output_type": "stream",
     "text": [
      "Coluna 'businessentityid': 0 linhas ausentes.\n",
      "Nenhuma linha com valores ausentes em 'businessentityid'.\n",
      "\n",
      "Coluna 'accountnumber': 0 linhas ausentes.\n",
      "Nenhuma linha com valores ausentes em 'accountnumber'.\n",
      "\n",
      "Coluna 'name': 0 linhas ausentes.\n",
      "Nenhuma linha com valores ausentes em 'name'.\n",
      "\n",
      "Coluna 'creditrating': 0 linhas ausentes.\n",
      "Nenhuma linha com valores ausentes em 'creditrating'.\n",
      "\n",
      "Coluna 'preferredvendorstatus': 0 linhas ausentes.\n",
      "Nenhuma linha com valores ausentes em 'preferredvendorstatus'.\n",
      "\n",
      "Coluna 'activeflag': 0 linhas ausentes.\n",
      "Nenhuma linha com valores ausentes em 'activeflag'.\n",
      "\n",
      "Coluna 'modifieddate': 0 linhas ausentes.\n",
      "Nenhuma linha com valores ausentes em 'modifieddate'.\n",
      "\n"
     ]
    }
   ],
   "source": [
    "# Iterar por todas as colunas do df, para verificar valores ausentes\n",
    "\n",
    "# Verificar valores ausentes na coluna\n",
    "for column in purchasing_vendor.columns:   \n",
    "    missing_rows = purchasing_vendor[purchasing_vendor[column].isnull()]\n",
    "    print(f\"Coluna '{column}': {missing_rows.shape[0]} linhas ausentes.\")\n",
    "    \n",
    "# Mostrar as primeiras linhas ausentes, se preciso for, limitar o head() para dar menos outputs ou limitar os outputs\n",
    "    if not missing_rows.empty:\n",
    "        print(f\"Exibindo as primeiras linhas com valores ausentes em '{column}':\")\n",
    "        print(missing_rows.head(), \"\\n\")\n",
    "    else:\n",
    "        print(f\"Nenhuma linha com valores ausentes em '{column}'.\\n\")"
   ]
  },
  {
   "cell_type": "code",
   "execution_count": 15,
   "metadata": {},
   "outputs": [
    {
     "name": "stdout",
     "output_type": "stream",
     "text": [
      "Valores únicos incluindo NaN:\n",
      "businessentityid         104\n",
      "accountnumber            104\n",
      "name                     104\n",
      "creditrating               5\n",
      "preferredvendorstatus      2\n",
      "activeflag                 2\n",
      "modifieddate              10\n",
      "dtype: int64\n"
     ]
    }
   ],
   "source": [
    "# Valores únicos por coluna, para verificar se colunas como flags, normalmente booleanas, possuem apenas 1 ou 2 valores.\n",
    "\n",
    "valores_unicos = purchasing_vendor.nunique(dropna=False)\n",
    "\n",
    "print(\"Valores únicos incluindo NaN:\")\n",
    "print(valores_unicos)\n",
    "\n",
    "#doc: currentflag possue somente 1 valor, o que indica que pode ser somente valores True ou False."
   ]
  },
  {
   "cell_type": "code",
   "execution_count": 16,
   "metadata": {},
   "outputs": [
    {
     "name": "stdout",
     "output_type": "stream",
     "text": [
      "<class 'pandas.core.frame.DataFrame'>\n",
      "Index: 104 entries, 6 to 84\n",
      "Data columns (total 7 columns):\n",
      " #   Column                 Non-Null Count  Dtype              \n",
      "---  ------                 --------------  -----              \n",
      " 0   businessentityid       104 non-null    Int64              \n",
      " 1   accountnumber          104 non-null    object             \n",
      " 2   name                   104 non-null    object             \n",
      " 3   creditrating           104 non-null    Int64              \n",
      " 4   preferredvendorstatus  104 non-null    boolean            \n",
      " 5   activeflag             104 non-null    boolean            \n",
      " 6   modifieddate           104 non-null    datetime64[us, UTC]\n",
      "dtypes: Int64(2), boolean(2), datetime64[us, UTC](1), object(2)\n",
      "memory usage: 5.5+ KB\n"
     ]
    }
   ],
   "source": [
    "#verificar informações do df\n",
    "purchasing_vendor.info()"
   ]
  },
  {
   "cell_type": "code",
   "execution_count": 17,
   "metadata": {},
   "outputs": [
    {
     "name": "stdout",
     "output_type": "stream",
     "text": [
      "                       qtde.       %\n",
      "preferredvendorstatus               \n",
      "True                      93  89.42%\n",
      "False                     11  10.58%\n",
      "            qtde.       %\n",
      "activeflag               \n",
      "True          100  96.15%\n",
      "False           4   3.85%\n",
      "              qtde.       %\n",
      "creditrating               \n",
      "1                84  80.77%\n",
      "2                 9   8.65%\n",
      "3                 7   6.73%\n",
      "4                 2   1.92%\n",
      "5                 2   1.92%\n"
     ]
    }
   ],
   "source": [
    "#avaliando as variáveis qualitativas*\n",
    "\n",
    "coluna_quantitativa = [\"preferredvendorstatus\", \"activeflag\",\"creditrating\"]\n",
    "for col in coluna_quantitativa:\n",
    "    counts = purchasing_vendor[col].value_counts().nlargest(10)\n",
    "    percentages = (counts / purchasing_vendor.shape[0] * 100).map(\"{:.2f}%\".format)\n",
    "    summary = pd.DataFrame({\"qtde.\": counts, \"%\": percentages})\n",
    "    print(summary)    \n",
    "\n",
    "\n",
    "#doc*: variáveis qualitativas são um tipo de variável estatística que representam características ou atributos dos dados, sem serem medidas numericamente\n",
    "#      no nosso caso, \"preferredvendorstatus\", \"activeflag, por exemplo\n",
    "\n",
    "#doc: a maioria dos fornecedores (quase 90%) é marcada como \"preferidos\", indicando que são priorizados no processo de compra.\n",
    "\n",
    "#doc: a grande maioria dos fornecedores (96%) está ativa, sugerindo que o sistema mantém apenas um pequeno número de registros inativos.\n",
    "\n",
    "#doc: a predominância de notas 1 (80.77%) indica que a empresa prioriza trabalhar com fornecedores de alta credibilidade, o que reduz riscos no processo de compras\n"
   ]
  },
  {
   "cell_type": "code",
   "execution_count": 18,
   "metadata": {},
   "outputs": [
    {
     "data": {
      "image/png": "[encoded data removed]",
      "text/plain": [
       "<Figure size 800x600 with 1 Axes>"
      ]
     },
     "metadata": {},
     "output_type": "display_data"
    }
   ],
   "source": [
    "# Criar um gráfico de barras empilhadas\n",
    "cross_tab = pd.crosstab(purchasing_vendor['preferredvendorstatus'], purchasing_vendor['activeflag'])\n",
    "cross_tab.plot(kind='bar', stacked=True, figsize=(8, 6), color=['blue', 'orange'])\n",
    "\n",
    "# Personalizar o gráfico\n",
    "plt.title('Distribuição de ActiveFlag por PreferredVendorStatus', fontsize=14)\n",
    "plt.xlabel('PreferredVendorStatus', fontsize=12)\n",
    "plt.ylabel('Contagem', fontsize=12)\n",
    "plt.legend(title='ActiveFlag', fontsize=10, title_fontsize=12)\n",
    "plt.grid(False)  # Remover grade\n",
    "plt.show()\n",
    "\n",
    "\n",
    "#doc: status de fornecedor preferido é distribuído entre os ativos e inativos."
   ]
  },
  {
   "cell_type": "code",
   "execution_count": 19,
   "metadata": {},
   "outputs": [
    {
     "data": {
      "image/png": "[encoded data removed]",
      "text/plain": [
       "<Figure size 1000x600 with 1 Axes>"
      ]
     },
     "metadata": {},
     "output_type": "display_data"
    }
   ],
   "source": [
    "# Agrupar dados e plotar\n",
    "preferred_credit = purchasing_vendor.groupby('preferredvendorstatus')['creditrating'].value_counts().unstack()\n",
    "preferred_credit.plot(kind='barh', figsize=(10, 6), color=['purple', 'green', 'red'])\n",
    "\n",
    "# Personalizar o gráfico\n",
    "plt.title('Distribuição de CreditRating por PreferredVendorStatus', fontsize=14)\n",
    "plt.xlabel('Contagem', fontsize=12)\n",
    "plt.ylabel('PreferredVendorStatus', fontsize=12)\n",
    "plt.legend(title='CreditRating', fontsize=10, title_fontsize=12)\n",
    "plt.grid(False)  # Remover grade\n",
    "plt.show()\n",
    "\n",
    "\n",
    "#doc: a verificar como a avaliação de crédito é distribuída por status de fornecedor preferido."
   ]
  },
  {
   "cell_type": "code",
   "execution_count": 20,
   "metadata": {},
   "outputs": [
    {
     "name": "stdout",
     "output_type": "stream",
     "text": [
      "<class 'pandas.core.frame.DataFrame'>\n",
      "Index: 104 entries, 6 to 84\n",
      "Data columns (total 7 columns):\n",
      " #   Column                 Non-Null Count  Dtype              \n",
      "---  ------                 --------------  -----              \n",
      " 0   businessentityid       104 non-null    Int64              \n",
      " 1   accountnumber          104 non-null    object             \n",
      " 2   name                   104 non-null    object             \n",
      " 3   creditrating           104 non-null    Int64              \n",
      " 4   preferredvendorstatus  104 non-null    boolean            \n",
      " 5   activeflag             104 non-null    boolean            \n",
      " 6   modifieddate           104 non-null    datetime64[us, UTC]\n",
      "dtypes: Int64(2), boolean(2), datetime64[us, UTC](1), object(2)\n",
      "memory usage: 5.5+ KB\n"
     ]
    }
   ],
   "source": [
    "purchasing_vendor.info()"
   ]
  },
  {
   "cell_type": "code",
   "execution_count": 21,
   "metadata": {},
   "outputs": [],
   "source": [
    "# Atualizar o dicionário df_processados com o df ajustado\n",
    "df_processados['purchasing_vendor'] = purchasing_vendor"
   ]
  },
  {
   "cell_type": "code",
   "execution_count": 22,
   "metadata": {},
   "outputs": [
    {
     "name": "stdout",
     "output_type": "stream",
     "text": [
      "    businessentityid accountnumber                     name  creditrating  preferredvendorstatus  activeflag              modifieddate\n",
      "6               1492  AUSTRALI0001  AUSTRALIA BIKE RETAILER             1                   True        True 2011-12-23 00:00:00+00:00\n",
      "85              1494  ALLENSON0001          ALLENSON CYCLES             2                   True        True 2011-04-25 00:00:00+00:00\n",
      "15              1496  ADVANCED0001        ADVANCED BICYCLES             1                   True        True 2011-04-25 00:00:00+00:00\n",
      "92              1498    TRIKES0001             TRIKES, INC.             2                   True        True 2012-02-03 00:00:00+00:00\n",
      "26              1500   MORGANB0001  MORGAN BIKE ACCESSORIES             1                   True        True 2012-02-02 00:00:00+00:00\n"
     ]
    }
   ],
   "source": [
    "# Padronizar colunas com valores textuais\n",
    "purchasing_vendor['name'] = purchasing_vendor['name'].str.strip().str.upper()\n",
    "purchasing_vendor['accountnumber'] = purchasing_vendor['accountnumber'].str.strip().str.upper()\n",
    "\n",
    "print(purchasing_vendor.head())\n",
    "\n",
    "#doc: padronizar as strings nessa etapa, contribui para a execução das demais etapas do pipeline"
   ]
  },
  {
   "cell_type": "code",
   "execution_count": 23,
   "metadata": {},
   "outputs": [
    {
     "name": "stdout",
     "output_type": "stream",
     "text": [
      "Tabela purchasing_vendor exportada com sucesso para desafioadventureworks-446600.raw_data_cleaned.purchasing_vendor.\n"
     ]
    }
   ],
   "source": [
    "\n",
    "# Garantir que apenas tabelas únicas sejam exportadas\n",
    "unique_df_processados = {k: v for k, v in df_processados.items()}\n",
    "\n",
    "# Exportar tabelas para o BigQuery\n",
    "for table_name, df_cleaned in unique_df_processados.items():\n",
    "    # Nome da tabela no BigQuery\n",
    "    output_table = f\"{output_dataset}.{table_name}\"\n",
    "\n",
    "    # Configurar job de exportação\n",
    "    job_config = bigquery.LoadJobConfig(\n",
    "        write_disposition=\"WRITE_TRUNCATE\"  \n",
    "    )\n",
    "    \n",
    "    # Exportar DataFrame para o BigQuery\n",
    "    job = client.load_table_from_dataframe(df_cleaned, output_table, job_config=job_config)\n",
    "    job.result()\n",
    "\n",
    "    print(f\"Tabela {table_name} exportada com sucesso para {output_table}.\")"
   ]
  },
  {
   "cell_type": "markdown",
   "metadata": {},
   "source": []
  }
 ],
 "metadata": {
  "kernelspec": {
   "display_name": "venv",
   "language": "python",
   "name": "python3"
  },
  "language_info": {
   "codemirror_mode": {
    "name": "ipython",
    "version": 3
   },
   "file_extension": ".py",
   "mimetype": "text/x-python",
   "name": "python",
   "nbconvert_exporter": "python",
   "pygments_lexer": "ipython3",
   "version": "3.10.9"
  }
 },
 "nbformat": 4,
 "nbformat_minor": 2
}
